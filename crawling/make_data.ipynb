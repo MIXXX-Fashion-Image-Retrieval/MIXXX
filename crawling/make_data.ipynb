{
  "cells": [
    {
      "cell_type": "code",
      "execution_count": null,
      "metadata": {
        "id": "r2wpOKHup7nO"
      },
      "outputs": [],
      "source": [
        "!pip install openai==1.55.3 httpx==0.27.2 --force-reinstall --quiet"
      ]
    },
    {
      "cell_type": "code",
      "execution_count": null,
      "metadata": {
        "id": "rbKbhtJjp-A2"
      },
      "outputs": [],
      "source": [
        "import os\n",
        "os.kill(os.getpid(), 9)"
      ]
    },
    {
      "cell_type": "code",
      "execution_count": 25,
      "metadata": {},
      "outputs": [],
      "source": [
        "hoodie_prompt = \"\"\"You are a fashion styling expert.\n",
        "Compare the hoodie in the reference snap photo with the hoodie in the product image,\n",
        "and generate a textual requirement that a user might input when searching for a target product.\n",
        "\n",
        "Input Data\n",
        "Image 1: Reference hoodie snap photo\n",
        "Image 2: Target hoodie product image\n",
        "\n",
        "Generation Rules\n",
        "When a user searches for a hoodie similar to the reference image, they select their preferences based on four criteria.\n",
        "For each criterion, only one option can be chosen.\n",
        "The output should be a structured phrase, not conversational text.\n",
        "Preferably, do not select more than three requirements.\n",
        "**If no change is required for a specific criterion, select \"no requirements.\"\n",
        "If \"no requirements\" is selected, exclude that criterion from the generated text.\n",
        "ex) If both the hoodies in the snapshot and the product are plain, you shouldn't say anything about the design.**\n",
        "\n",
        "Criteria\n",
        "\n",
        "1. Design\n",
        "No requirements → Exclude\n",
        "Plain → \"has no graphic and pattern\"\n",
        "Added graphic → \"has added graphic\"\n",
        "Striped pattern → \"has a striped pattern\"\n",
        "Checkered pattern → \"has a checkered pattern\"\n",
        "Camouflage pattern → \"has a camouflage pattern\"\n",
        "\n",
        "2. Color\n",
        "No requirements → Exclude\n",
        "Black → \"is black\"\n",
        "White → \"is white\"\n",
        "Gray → \"is gray\"\n",
        "Blue → \"is blue\"\n",
        "Red → \"is red\"\n",
        "Other colors → \"is {selected color}\"\n",
        "\n",
        "3. Length\n",
        "No requirements → Exclude\n",
        "Cropped → \"is cropped length\"\n",
        "Regular → \"is regular length\"\n",
        "Long → \"is long length\"\n",
        "\n",
        "4. Fit\n",
        "No requirements → Exclude\n",
        "Slim fit → \"is slim fit\"\n",
        "Regular fit → \"is regular fit\"\n",
        "Oversized fit → \"is oversized fit\"\n",
        "\n",
        "Example Outputs\n",
        "If the user selects Design: No requirements, Color: Black, Length: No requirements, Fit: Oversized\n",
        "\"is black and oversized fit\"\n",
        "\n",
        "If the user selects Design: Removed print, Color: Navy, Length: Long, Fit: slim fit\n",
        "\"has no print, is navy, and long length with slim fit\"\n",
        "\n",
        "If the user selects Design: No requirements, Color: No requirements, Length: Cropped, Fit: No requirements\n",
        "\"is cropped length\"\n",
        "\"\"\"\n",
        "\n",
        "coat_prompt = \"\"\"You are a fashion styling expert.\n",
        "Compare the coat in the reference snap photo with the coat in the product image,\n",
        "and generate a textual requirement that a user might input when searching for a target product.\n",
        "\n",
        "Input Data\n",
        "Image 1: Reference coat snap photo\n",
        "Image 2: Target coat product image\n",
        "\n",
        "Generation Rules\n",
        "When a user searches for a hoodie similar to the reference image, they select their preferences based on four criteria.\n",
        "For each criterion, only one option can be chosen.\n",
        "The output should be a structured phrase, not conversational text.\n",
        "Preferably, do not select more than three requirements.\n",
        "**If no change is required for a specific criterion, select \"no requirements.\"\n",
        "If \"no requirements\" is selected, exclude that criterion from the generated text.\n",
        "ex) If both the coats in the snapshot and the product are plain, you shouldn't say anything about the design.**\n",
        "\n",
        "Criteria\n",
        "\n",
        "1. Design\n",
        "No requirements → Exclude\n",
        "Plain → \"is plain\"\n",
        "herringbone pattern → \"has a herringbone pattern\"\n",
        "Striped pattern → \"has a striped pattern\"\n",
        "Checkered pattern → \"has a checkered pattern\"\n",
        "\n",
        "2. Color\n",
        "No requirements → Exclude\n",
        "Black → \"is black\"\n",
        "White → \"is white\"\n",
        "Gray → \"is gray\"\n",
        "Other colors → \"is {selected color}\"\n",
        "\n",
        "3. Length\n",
        "No requirements → Exclude\n",
        "half → \"is half-length\"\n",
        "Regular → \"is regular length\"\n",
        "Long → \"is long length\"\n",
        "\n",
        "4. Fit\n",
        "No requirements → Exclude\n",
        "Slim fit → \"is slim fit\"\n",
        "Regular fit → \"is regular fit\"\n",
        "Oversized fit → \"is oversized fit\"\n",
        "\n",
        "Example Outputs\n",
        "If the user selects Design: No requirements, Color: Black, Length: No requirements, Fit: Oversized\n",
        "\"is black and oversized fit\"\n",
        "\n",
        "If the user selects Design: plain, Color: Navy, Length: Long, Fit: No requirements\n",
        "\"is plain, navy, and long length\"\n",
        "\n",
        "If the user selects Design: No requirements, Color: No requirements, Length: half, Fit: No requirements\n",
        "\"is half-length\"\n",
        "\"\"\"\n",
        "\n",
        "jeans_prompt = \"\"\"You are a fashion styling expert.\n",
        "Compare the jeans in the reference snap photo with the jeans in the product image,\n",
        "and generate a textual requirement that a user might input when searching for a target product.\n",
        "\n",
        "Input Data\n",
        "Image 1: Reference jeans snap photo\n",
        "Image 2: Target jeans product image\n",
        "\n",
        "Generation Rules\n",
        "When a user searches for a hoodie similar to the reference image, they select their preferences based on four criteria.\n",
        "For each criterion, only one option can be chosen.\n",
        "The output should be a structured phrase, not conversational text.\n",
        "Preferably, do not select more than three requirements.\n",
        "**If no change is required for a specific criterion, select \"no requirements.\"\n",
        "If \"no requirements\" is selected, exclude that criterion from the generated text.\n",
        "ex) If both the jeans in the snapshot and the product are regular, you shouldn't say anything about the design.**\n",
        "\n",
        "Criteria\n",
        "\n",
        "1. Design\n",
        "No requirements → Exclude\n",
        "Regular → \"has a regular design\"\n",
        "Washed → \"has a washed effect\"\n",
        "Ripped → \"has a ripped design\"\n",
        "\n",
        "2. Color\n",
        "No requirements → Exclude\n",
        "Black → \"is black\"\n",
        "blue → \"is blue\"\n",
        "Light blue → \"is light blue\"\n",
        "Other colors → \"is {selected color}\"\n",
        "\n",
        "3. Length\n",
        "No requirements → Exclude\n",
        "longer → \"is slightly longer length\"\n",
        "shorter → \"is slightly shorter length\"\n",
        "\n",
        "4. Fit\n",
        "No requirements → Exclude\n",
        "Skinny fit → \"is skinny fit\"\n",
        "Slim fit → \"is slim fit\"\n",
        "Straight fit → \"is straight fit\"\n",
        "Tapered fit → \"is tapered fit\"\n",
        "Wide fit → \"is wide fit\"\n",
        "Bootcut fit → \"is bootcut fit\"\n",
        "Loose fit → \"is loose fit\"\n",
        "\n",
        "Example Outputs\n",
        "If the user selects Design: No requirements, Color: Black, Length: No requirements, Fit: wide fit\n",
        "\"is black and wide fit\"\n",
        "\n",
        "If the user selects Design: Washed, Color: dark blue, Length: Longer, Fit: No requirements\n",
        "\"has a washed effect, and is dark blue, and slightly longer length\"\n",
        "\n",
        "If the user selects Design: No requirements, Color: No requirements, Length: No requirements, Fit: tapered fit\n",
        "\"is tapered fit\"\n",
        "\"\"\""
      ]
    },
    {
      "cell_type": "code",
      "execution_count": 26,
      "metadata": {},
      "outputs": [],
      "source": [
        "import base64\n",
        "from PIL import Image, ImageDraw, ImageFont\n",
        "import io\n",
        "\n",
        "def encode_image_with_text(image_path, text, position=(10, 10), font_size=30, text_color=\"white\", bg_color=\"black\"):\n",
        "    # 이미지 열기\n",
        "    image = Image.open(image_path)\n",
        "\n",
        "    # 이미지에 텍스트 추가\n",
        "    draw = ImageDraw.Draw(image)\n",
        "\n",
        "    # 폰트 설정 (시스템에 따라 폰트 경로를 변경해야 할 수도 있음)\n",
        "    font = ImageFont.truetype(\"DejaVuSans.ttf\", font_size)\n",
        "\n",
        "    # 최신 Pillow 방식으로 텍스트 크기 계산\n",
        "    text_bbox = font.getbbox(text)  # (left, top, right, bottom) 반환\n",
        "    text_width = text_bbox[2] - text_bbox[0]\n",
        "    text_height = text_bbox[3] - text_bbox[1]\n",
        "    \n",
        "    padding = 5  # 여백 추가\n",
        "\n",
        "    # 배경 사각형 그리기 (텍스트 주변에 padding 추가)\n",
        "    background_position = [\n",
        "        (position[0] - padding, position[1] - padding),  # 좌상단\n",
        "        (position[0] + text_width + padding, position[1] + text_height + padding)  # 우하단\n",
        "    ]\n",
        "    draw.rectangle(background_position, fill=bg_color)\n",
        "\n",
        "    # 텍스트 그리기\n",
        "    draw.text(position, text, fill=text_color, font=font)\n",
        "\n",
        "    # 메모리에 이미지 저장 후 Base64 인코딩\n",
        "    buffered = io.BytesIO()\n",
        "    image.save(buffered, format=\"PNG\")\n",
        "    return base64.b64encode(buffered.getvalue()).decode('utf-8')\n"
      ]
    },
    {
      "cell_type": "code",
      "execution_count": 27,
      "metadata": {
        "colab": {
          "base_uri": "https://localhost:8080/"
        },
        "id": "Hxzo5Lj6Vcsc",
        "outputId": "47ddad8f-d530-486c-e767-9f8a9407f6fb"
      },
      "outputs": [
        {
          "name": "stderr",
          "output_type": "stream",
          "text": [
            "hoodie-train:   0%|          | 0/400 [00:00<?, ?it/s]"
          ]
        },
        {
          "name": "stdout",
          "output_type": "stream",
          "text": [
            "/home/sejong/Desktop/junseok/SPRC/musinsa/snap/men/hoodie/list.staff_6625cc81d9feb.jpg /home/sejong/Desktop/junseok/SPRC/musinsa/goods/men/hoodie/더티워싱 스터드 후드 집업 [차콜].jpg\n"
          ]
        },
        {
          "name": "stderr",
          "output_type": "stream",
          "text": [
            "hoodie-train:   0%|          | 1/400 [00:04<33:05,  4.98s/it]"
          ]
        },
        {
          "name": "stdout",
          "output_type": "stream",
          "text": [
            "\"is black and oversized fit\"\n",
            "/home/sejong/Desktop/junseok/SPRC/musinsa/snap/men/hoodie/438aeb24a6b646289a8db177ee8311a5.jpg /home/sejong/Desktop/junseok/SPRC/musinsa/goods/men/hoodie/컴피 리벳 하이 넥 스웻 집업 [BLACK].jpg\n"
          ]
        },
        {
          "name": "stderr",
          "output_type": "stream",
          "text": [
            "hoodie-train:   0%|          | 2/400 [00:09<31:42,  4.78s/it]"
          ]
        },
        {
          "name": "stdout",
          "output_type": "stream",
          "text": [
            "\"is black and oversized fit\"\n",
            "/home/sejong/Desktop/junseok/SPRC/musinsa/snap/men/hoodie/561c07c32cdb4f61885f654f53a4c1d9.jpg /home/sejong/Desktop/junseok/SPRC/musinsa/goods/men/hoodie/K 오베르토 집업 후드 - 그레이 _ A148540GHAN97W.jpg\n"
          ]
        },
        {
          "name": "stderr",
          "output_type": "stream",
          "text": [
            "hoodie-train:   1%|          | 3/400 [00:13<28:38,  4.33s/it]"
          ]
        },
        {
          "name": "stdout",
          "output_type": "stream",
          "text": [
            "\"is black and oversized fit\"\n",
            "/home/sejong/Desktop/junseok/SPRC/musinsa/snap/men/hoodie/75e4b704de654380b6c2878de626547b.jpg /home/sejong/Desktop/junseok/SPRC/musinsa/goods/men/hoodie/스몰 어센틱 후디 집업 멜란지 그레이.jpg\n"
          ]
        },
        {
          "name": "stderr",
          "output_type": "stream",
          "text": [
            "hoodie-train:   1%|          | 4/400 [00:17<28:01,  4.25s/it]"
          ]
        },
        {
          "name": "stdout",
          "output_type": "stream",
          "text": [
            "\"has added graphic, is gray, and is regular fit\"\n",
            "/home/sejong/Desktop/junseok/SPRC/musinsa/snap/men/hoodie/2d93c30c5e0348bfa6afa1ddd4108264.jpg /home/sejong/Desktop/junseok/SPRC/musinsa/goods/men/hoodie/XTT061 빈티지 워싱 스타 데님 후드집업 (DEEP BLUE).jpg\n"
          ]
        },
        {
          "name": "stderr",
          "output_type": "stream",
          "text": [
            "hoodie-train:   1%|▏         | 5/400 [00:22<28:29,  4.33s/it]"
          ]
        },
        {
          "name": "stdout",
          "output_type": "stream",
          "text": [
            "\"has added graphic, is gray, and is regular length\"\n",
            "/home/sejong/Desktop/junseok/SPRC/musinsa/snap/men/hoodie/75dcd9b3b09e4245a7008d5577a4517a.jpg /home/sejong/Desktop/junseok/SPRC/musinsa/goods/men/hoodie/TCM plz hooded zip-up (black).jpg\n"
          ]
        },
        {
          "name": "stderr",
          "output_type": "stream",
          "text": [
            "hoodie-train:   2%|▏         | 6/400 [00:25<27:00,  4.11s/it]"
          ]
        },
        {
          "name": "stdout",
          "output_type": "stream",
          "text": [
            "\"has added graphic, is black, and is regular fit\"\n",
            "/home/sejong/Desktop/junseok/SPRC/musinsa/snap/men/hoodie/2024040518434800000087797.jpg /home/sejong/Desktop/junseok/SPRC/musinsa/goods/men/hoodie/[LG트윈스] 빅 로고 아플리케 후드 집업_오트베이지.jpg\n"
          ]
        },
        {
          "name": "stderr",
          "output_type": "stream",
          "text": [
            "hoodie-train:   2%|▏         | 7/400 [00:29<25:42,  3.92s/it]"
          ]
        },
        {
          "name": "stdout",
          "output_type": "stream",
          "text": [
            "\"has added graphic, is gray, and is oversized fit\"\n",
            "/home/sejong/Desktop/junseok/SPRC/musinsa/snap/men/hoodie/3528222bc86c49278bc7a836befda198.jpg /home/sejong/Desktop/junseok/SPRC/musinsa/goods/men/hoodie/[SET] 데일리 스탠다드 후드 집업 + 와이드 팬츠.jpg\n"
          ]
        },
        {
          "name": "stderr",
          "output_type": "stream",
          "text": [
            "hoodie-train:   2%|▏         | 8/400 [00:32<24:42,  3.78s/it]"
          ]
        },
        {
          "name": "stdout",
          "output_type": "stream",
          "text": [
            "\"is gray and regular length\"\n",
            "/home/sejong/Desktop/junseok/SPRC/musinsa/snap/men/hoodie/135be5e9028f4d6789f9bca61b9f1e76.jpg /home/sejong/Desktop/junseok/SPRC/musinsa/goods/men/hoodie/[무료반품] 베이직 메가로고 후드집업 NY (Black).jpg\n"
          ]
        },
        {
          "name": "stderr",
          "output_type": "stream",
          "text": [
            "hoodie-train:   2%|▏         | 9/400 [00:36<24:22,  3.74s/it]"
          ]
        },
        {
          "name": "stdout",
          "output_type": "stream",
          "text": [
            "\"has added graphic, is black, and is regular length\"\n",
            "/home/sejong/Desktop/junseok/SPRC/musinsa/snap/men/hoodie/d50747306c5d42afa962ed9293c1b8aa.jpg /home/sejong/Desktop/junseok/SPRC/musinsa/goods/men/hoodie/오가닉 코튼 플리스 가먼트 다이드 집업 후드 - 블랙 _ 6100042S0051V0029.jpg\n"
          ]
        },
        {
          "name": "stderr",
          "output_type": "stream",
          "text": [
            "hoodie-train:   2%|▎         | 10/400 [00:39<23:13,  3.57s/it]"
          ]
        },
        {
          "name": "stdout",
          "output_type": "stream",
          "text": [
            "\"is black and regular length with oversized fit\"\n",
            "/home/sejong/Desktop/junseok/SPRC/musinsa/snap/men/hoodie/list.staff_666ace29b8c2f.jpg /home/sejong/Desktop/junseok/SPRC/musinsa/goods/men/hoodie/프리덤 기모 후드집업 MELANGE GREY.jpg\n"
          ]
        },
        {
          "name": "stderr",
          "output_type": "stream",
          "text": [
            "hoodie-train:   3%|▎         | 11/400 [00:44<25:51,  3.99s/it]"
          ]
        },
        {
          "name": "stdout",
          "output_type": "stream",
          "text": [
            "\"has added graphic, is gray, and is oversized fit\"\n",
            "/home/sejong/Desktop/junseok/SPRC/musinsa/snap/men/hoodie/1736ae5a5d1544949f89bfd383cad004.jpg /home/sejong/Desktop/junseok/SPRC/musinsa/goods/men/hoodie/VTG 워시드 워크 후드 집업 블랙.jpg\n"
          ]
        },
        {
          "name": "stderr",
          "output_type": "stream",
          "text": [
            "hoodie-train:   3%|▎         | 12/400 [00:48<26:21,  4.08s/it]"
          ]
        },
        {
          "name": "stdout",
          "output_type": "stream",
          "text": [
            "\"has no graphic and pattern, is black, and is regular length\"\n",
            "/home/sejong/Desktop/junseok/SPRC/musinsa/snap/men/hoodie/1736ae5a5d1544949f89bfd383cad004.jpg /home/sejong/Desktop/junseok/SPRC/musinsa/goods/men/hoodie/스몰 트위치 로고 후드 집업 그레이.jpg\n"
          ]
        },
        {
          "name": "stderr",
          "output_type": "stream",
          "text": [
            "hoodie-train:   3%|▎         | 13/400 [00:53<26:54,  4.17s/it]"
          ]
        },
        {
          "name": "stdout",
          "output_type": "stream",
          "text": [
            "\"has added graphic, is gray, and is regular fit\"\n",
            "/home/sejong/Desktop/junseok/SPRC/musinsa/snap/men/hoodie/435cf1f181cc4bf9bfb500dc40efed72.jpg /home/sejong/Desktop/junseok/SPRC/musinsa/goods/men/hoodie/3STARS HATE HOODIE ZIP UP_BURGUNDY(NG2EFUM481A).jpg\n"
          ]
        },
        {
          "name": "stderr",
          "output_type": "stream",
          "text": [
            "hoodie-train:   4%|▎         | 14/400 [00:57<26:22,  4.10s/it]"
          ]
        },
        {
          "name": "stdout",
          "output_type": "stream",
          "text": [
            "\"is burgundy, has added graphic, and is oversized fit\"\n",
            "/home/sejong/Desktop/junseok/SPRC/musinsa/snap/men/hoodie/86f2413a46994e3a97f5f384aaa7c9e1.jpg /home/sejong/Desktop/junseok/SPRC/musinsa/goods/men/hoodie/OG PIGMENT DYEING HOOD ZIPUP PARKA _ BRICK.jpg\n"
          ]
        },
        {
          "name": "stderr",
          "output_type": "stream",
          "text": [
            "hoodie-train:   4%|▍         | 15/400 [01:01<26:09,  4.08s/it]"
          ]
        },
        {
          "name": "stdout",
          "output_type": "stream",
          "text": [
            "\"has no graphic and pattern, is brown, and is oversized fit\"\n",
            "/home/sejong/Desktop/junseok/SPRC/musinsa/snap/men/hoodie/list.staff_661a414dca87f.jpg /home/sejong/Desktop/junseok/SPRC/musinsa/goods/men/hoodie/P2458 헤비 라인 후드 집업  [2 COLOR].jpg\n"
          ]
        },
        {
          "name": "stderr",
          "output_type": "stream",
          "text": [
            "hoodie-train:   4%|▍         | 16/400 [01:05<27:15,  4.26s/it]"
          ]
        },
        {
          "name": "stdout",
          "output_type": "stream",
          "text": [
            "\"has added graphic, is black, and is oversized fit\"\n",
            "/home/sejong/Desktop/junseok/SPRC/musinsa/snap/men/hoodie/844e0816f0bf41e1b2e956b902e15dee.jpg /home/sejong/Desktop/junseok/SPRC/musinsa/goods/men/hoodie/[빅후드] 무지 벌룬핏 후드 집업 AZH569 (4 COLOR).jpg\n"
          ]
        },
        {
          "name": "stderr",
          "output_type": "stream",
          "text": [
            "hoodie-train:   4%|▍         | 17/400 [01:46<1:37:22, 15.26s/it]"
          ]
        },
        {
          "name": "stdout",
          "output_type": "stream",
          "text": [
            "\"has no graphic and pattern, is gray, and is oversized fit\"\n",
            "/home/sejong/Desktop/junseok/SPRC/musinsa/snap/men/hoodie/55d887a170c94a3482ff7c5ccc61fb3d.jpg /home/sejong/Desktop/junseok/SPRC/musinsa/goods/men/hoodie/돌핀 아플리케 워시드 후드 집업 베이지.jpg\n"
          ]
        },
        {
          "name": "stderr",
          "output_type": "stream",
          "text": [
            "hoodie-train:   4%|▍         | 18/400 [01:50<1:15:42, 11.89s/it]"
          ]
        },
        {
          "name": "stdout",
          "output_type": "stream",
          "text": [
            "\"has added graphic, is beige, and is regular fit\"\n",
            "/home/sejong/Desktop/junseok/SPRC/musinsa/snap/men/hoodie/66fae1aff2124a7bac76f9856a84a3f9.jpg /home/sejong/Desktop/junseok/SPRC/musinsa/goods/men/hoodie/세미 오버 후드 집업(FF3AHZ60U_160).jpg\n"
          ]
        },
        {
          "name": "stderr",
          "output_type": "stream",
          "text": [
            "hoodie-train:   5%|▍         | 19/400 [01:54<1:00:35,  9.54s/it]"
          ]
        },
        {
          "name": "stdout",
          "output_type": "stream",
          "text": [
            "\"has added graphic, is black, and is regular fit\"\n",
            "/home/sejong/Desktop/junseok/SPRC/musinsa/snap/men/hoodie/06128e5dd77d452a9da0450fdb3f784c.jpg /home/sejong/Desktop/junseok/SPRC/musinsa/goods/men/hoodie/오버핏 스톤워싱 데님 후드 집업 자켓 MDJ103 [DARK GRAY].jpg\n"
          ]
        },
        {
          "name": "stderr",
          "output_type": "stream",
          "text": [
            "hoodie-train:   5%|▌         | 20/400 [01:58<49:13,  7.77s/it]  "
          ]
        },
        {
          "name": "stdout",
          "output_type": "stream",
          "text": [
            "\"is gray and oversized fit\"\n",
            "/home/sejong/Desktop/junseok/SPRC/musinsa/snap/men/hoodie/aaa2b2628b5b4a83b4dfe5d82526a277.jpg /home/sejong/Desktop/junseok/SPRC/musinsa/goods/men/hoodie/[최대 1.2만원 할인] 크리스피 타슬란 긴팔 스탠넥 바람막이 자켓 그레이프 레드 퍼플(UP321CJK91).jpg\n"
          ]
        },
        {
          "name": "stderr",
          "output_type": "stream",
          "text": [
            "hoodie-train:   5%|▌         | 21/400 [02:02<41:48,  6.62s/it]"
          ]
        },
        {
          "name": "stdout",
          "output_type": "stream",
          "text": [
            "\"has added graphic, is white, and is regular length\"\n",
            "/home/sejong/Desktop/junseok/SPRC/musinsa/snap/men/hoodie/a6a05a0aa22649a8b0cdb27cad3a6ef4.jpg /home/sejong/Desktop/junseok/SPRC/musinsa/goods/men/hoodie/BASIC LOGO HOOD ZIP UP KS [MELANGE GREY].jpg\n"
          ]
        },
        {
          "name": "stderr",
          "output_type": "stream",
          "text": [
            "hoodie-train:   6%|▌         | 22/400 [02:06<37:13,  5.91s/it]"
          ]
        },
        {
          "name": "stdout",
          "output_type": "stream",
          "text": [
            "\"has no graphic and pattern, is gray, and is regular fit\"\n",
            "/home/sejong/Desktop/junseok/SPRC/musinsa/snap/men/hoodie/386baae7d04c46d6bafe21786da0a42f.jpg /home/sejong/Desktop/junseok/SPRC/musinsa/goods/men/hoodie/OG PIGMENT DYEING HOOD ZIPUP PARKA _ BRICK.jpg\n"
          ]
        },
        {
          "name": "stderr",
          "output_type": "stream",
          "text": [
            "hoodie-train:   6%|▌         | 23/400 [02:09<32:10,  5.12s/it]"
          ]
        },
        {
          "name": "stdout",
          "output_type": "stream",
          "text": [
            "\"has added graphic, is brown, and is oversized fit\"\n",
            "/home/sejong/Desktop/junseok/SPRC/musinsa/snap/men/hoodie/47cd9ceaf0c7463980a89c92d8b1c6d1.jpg /home/sejong/Desktop/junseok/SPRC/musinsa/goods/men/hoodie/[30% 적립금] 더블니트 풀집 후디 - 네이비.jpg\n"
          ]
        },
        {
          "name": "stderr",
          "output_type": "stream",
          "text": [
            "hoodie-train:   6%|▌         | 24/400 [02:15<32:10,  5.13s/it]"
          ]
        },
        {
          "name": "stdout",
          "output_type": "stream",
          "text": [
            "\"has no graphic and pattern, is navy, and is regular fit\"\n",
            "/home/sejong/Desktop/junseok/SPRC/musinsa/snap/men/hoodie/0d617b8ee3e9494bbc46828e498f1254.jpg /home/sejong/Desktop/junseok/SPRC/musinsa/goods/men/hoodie/오가닉 코튼 플리스 가먼트 다이드 집업 후드 - 블랙 _ 6100042S0051V0029.jpg\n"
          ]
        },
        {
          "name": "stderr",
          "output_type": "stream",
          "text": [
            "hoodie-train:   6%|▋         | 25/400 [02:18<28:45,  4.60s/it]"
          ]
        },
        {
          "name": "stdout",
          "output_type": "stream",
          "text": [
            "\"has no graphic and pattern, is black, and is regular length\"\n",
            "/home/sejong/Desktop/junseok/SPRC/musinsa/snap/men/hoodie/f9118e448a8a4430839296de82a29c01.jpg /home/sejong/Desktop/junseok/SPRC/musinsa/goods/men/hoodie/Honda Multi Graphic Patch Hoodie Zip-up Black.jpg\n"
          ]
        },
        {
          "name": "stderr",
          "output_type": "stream",
          "text": [
            "hoodie-train:   6%|▋         | 26/400 [02:22<27:35,  4.43s/it]"
          ]
        },
        {
          "name": "stdout",
          "output_type": "stream",
          "text": [
            "\"has added graphic, is black, and is regular fit\"\n",
            "/home/sejong/Desktop/junseok/SPRC/musinsa/snap/men/hoodie/list.staff_660d0bb37d751.jpg /home/sejong/Desktop/junseok/SPRC/musinsa/goods/men/hoodie/[2-WAY] CP STAR 피그먼트 후드 집업 스모크블랙.jpg\n"
          ]
        },
        {
          "name": "stderr",
          "output_type": "stream",
          "text": [
            "hoodie-train:   7%|▋         | 27/400 [02:27<29:25,  4.73s/it]"
          ]
        },
        {
          "name": "stdout",
          "output_type": "stream",
          "text": [
            "\"has added graphic, is black, and is regular fit\"\n",
            "/home/sejong/Desktop/junseok/SPRC/musinsa/snap/men/hoodie/f3ebfd859ac149ff9ab5ba2053be0352.jpg /home/sejong/Desktop/junseok/SPRC/musinsa/goods/men/hoodie/레이어드 스트링 후드 집업 [브라운].jpg\n"
          ]
        },
        {
          "name": "stderr",
          "output_type": "stream",
          "text": [
            "hoodie-train:   7%|▋         | 28/400 [02:32<29:45,  4.80s/it]"
          ]
        },
        {
          "name": "stdout",
          "output_type": "stream",
          "text": [
            "\"has added graphic, is brown, and is regular length with regular fit\"\n",
            "/home/sejong/Desktop/junseok/SPRC/musinsa/snap/men/hoodie/afa91ddb00cb48048cc0a638893471f2.jpg /home/sejong/Desktop/junseok/SPRC/musinsa/goods/men/hoodie/스몰 지프 후드 집업 (JP5TZU051MG).jpg\n"
          ]
        },
        {
          "name": "stderr",
          "output_type": "stream",
          "text": [
            "hoodie-train:   7%|▋         | 29/400 [02:37<29:28,  4.77s/it]"
          ]
        },
        {
          "name": "stdout",
          "output_type": "stream",
          "text": [
            "\"has added graphic, is gray, and is regular fit\"\n",
            "/home/sejong/Desktop/junseok/SPRC/musinsa/snap/men/hoodie/cff85b8dd93442e0a1d2012f2069905c.jpg /home/sejong/Desktop/junseok/SPRC/musinsa/goods/men/hoodie/플레인 브러쉬드 스웻 데님 후드 집업[워시드 블랙].jpg\n"
          ]
        },
        {
          "name": "stderr",
          "output_type": "stream",
          "text": [
            "hoodie-train:   8%|▊         | 30/400 [02:41<27:28,  4.45s/it]"
          ]
        },
        {
          "name": "stdout",
          "output_type": "stream",
          "text": [
            "\"has no graphic and pattern, is black, and is regular length\"\n",
            "/home/sejong/Desktop/junseok/SPRC/musinsa/snap/men/hoodie/964245e3dd69437b8e40c34bab3a1990.jpg /home/sejong/Desktop/junseok/SPRC/musinsa/goods/men/hoodie/코튼 옥스포드 후드 집업 재킷  아이보리.jpg\n"
          ]
        },
        {
          "name": "stderr",
          "output_type": "stream",
          "text": [
            "hoodie-train:   8%|▊         | 31/400 [02:44<24:56,  4.06s/it]"
          ]
        },
        {
          "name": "stdout",
          "output_type": "stream",
          "text": [
            "\"has added graphic, is beige, and is regular length\"\n",
            "/home/sejong/Desktop/junseok/SPRC/musinsa/snap/men/hoodie/25359e5285804a0ca9ae9143ab16fa89.jpg /home/sejong/Desktop/junseok/SPRC/musinsa/goods/men/hoodie/[2-WAY] 스컬 웹 피그먼트 후드 집업  더스티핑크.jpg\n"
          ]
        },
        {
          "name": "stderr",
          "output_type": "stream",
          "text": [
            "hoodie-train:   8%|▊         | 32/400 [02:48<24:28,  3.99s/it]"
          ]
        },
        {
          "name": "stdout",
          "output_type": "stream",
          "text": [
            "\"has added graphic, is pink, and is oversized fit\"\n",
            "/home/sejong/Desktop/junseok/SPRC/musinsa/snap/men/hoodie/2a8c33b269164ff3a55e1f096319c9b1.jpg /home/sejong/Desktop/junseok/SPRC/musinsa/goods/men/hoodie/베이직 로고 후드집업 그레이.jpg\n"
          ]
        },
        {
          "name": "stderr",
          "output_type": "stream",
          "text": [
            "hoodie-train:   8%|▊         | 33/400 [02:53<27:41,  4.53s/it]"
          ]
        },
        {
          "name": "stdout",
          "output_type": "stream",
          "text": [
            "\"has added graphic, is gray, and is regular length\"\n",
            "/home/sejong/Desktop/junseok/SPRC/musinsa/snap/men/hoodie/931daca2a53342c799c68ac89621355d.jpg /home/sejong/Desktop/junseok/SPRC/musinsa/goods/men/hoodie/[벤힛x크로스드레슬리]VC스타 로고 레글런 후드집업.jpg\n"
          ]
        },
        {
          "name": "stderr",
          "output_type": "stream",
          "text": [
            "hoodie-train:   8%|▊         | 34/400 [02:59<28:36,  4.69s/it]"
          ]
        },
        {
          "name": "stdout",
          "output_type": "stream",
          "text": [
            "\"has added graphic, is beige, and is regular fit\"\n",
            "/home/sejong/Desktop/junseok/SPRC/musinsa/snap/men/hoodie/18e4ce0e9e4944eea97c4b895f6f7ff0.jpg /home/sejong/Desktop/junseok/SPRC/musinsa/goods/men/hoodie/[무료반품] Essential 오버핏 2Way 후드집업.jpg\n"
          ]
        },
        {
          "name": "stderr",
          "output_type": "stream",
          "text": [
            "hoodie-train:   9%|▉         | 35/400 [03:05<30:57,  5.09s/it]"
          ]
        },
        {
          "name": "stdout",
          "output_type": "stream",
          "text": [
            "\"has no graphic and pattern, is gray, and is oversized fit\"\n",
            "/home/sejong/Desktop/junseok/SPRC/musinsa/snap/men/hoodie/cbb9d586e5014a85a20a4543d4e29c74.jpg /home/sejong/Desktop/junseok/SPRC/musinsa/goods/men/hoodie/오아시스 자수 후드 스웨트 집업 그레이.jpg\n"
          ]
        },
        {
          "name": "stderr",
          "output_type": "stream",
          "text": [
            "hoodie-train:   9%|▉         | 36/400 [03:09<29:56,  4.94s/it]"
          ]
        },
        {
          "name": "stdout",
          "output_type": "stream",
          "text": [
            "\"has added graphic, is gray, and is regular fit\"\n",
            "/home/sejong/Desktop/junseok/SPRC/musinsa/snap/men/hoodie/468cd82bfce642c191d939d569f0cef4.jpg /home/sejong/Desktop/junseok/SPRC/musinsa/goods/men/hoodie/SOPHOMORE ZIP UP HOODIE (FADED BROWN).jpg\n"
          ]
        },
        {
          "name": "stderr",
          "output_type": "stream",
          "text": [
            "hoodie-train:   9%|▉         | 37/400 [03:13<27:02,  4.47s/it]"
          ]
        },
        {
          "name": "stdout",
          "output_type": "stream",
          "text": [
            "\"has no graphic and pattern, is gray, and is oversized fit\"\n",
            "/home/sejong/Desktop/junseok/SPRC/musinsa/snap/men/hoodie/bc7a4c88b7b045769024f861ed77a02f.jpg /home/sejong/Desktop/junseok/SPRC/musinsa/goods/men/hoodie/백로고 스쿠바 후드 집업 BLACK.jpg\n"
          ]
        },
        {
          "name": "stderr",
          "output_type": "stream",
          "text": [
            "hoodie-train:  10%|▉         | 38/400 [03:16<25:33,  4.24s/it]"
          ]
        },
        {
          "name": "stdout",
          "output_type": "stream",
          "text": [
            "\"is black and oversized fit\"\n",
            "/home/sejong/Desktop/junseok/SPRC/musinsa/snap/men/hoodie/844e0816f0bf41e1b2e956b902e15dee.jpg /home/sejong/Desktop/junseok/SPRC/musinsa/goods/men/hoodie/플레인 브러쉬드 스웻 데님 후드 집업[딥블루].jpg\n"
          ]
        },
        {
          "name": "stderr",
          "output_type": "stream",
          "text": [
            "hoodie-train:  10%|▉         | 39/400 [03:20<25:33,  4.25s/it]"
          ]
        },
        {
          "name": "stdout",
          "output_type": "stream",
          "text": [
            "\"has added graphic, is blue, and is regular fit\"\n",
            "/home/sejong/Desktop/junseok/SPRC/musinsa/snap/men/hoodie/list.staff_660a6a7fb713e.jpg /home/sejong/Desktop/junseok/SPRC/musinsa/goods/men/hoodie/오버핏 로고 래글런 후드집업 레드 그레이.jpg\n"
          ]
        },
        {
          "name": "stderr",
          "output_type": "stream",
          "text": [
            "hoodie-train:  10%|█         | 40/400 [03:24<24:57,  4.16s/it]"
          ]
        },
        {
          "name": "stdout",
          "output_type": "stream",
          "text": [
            "\"is gray and regular fit\"\n",
            "/home/sejong/Desktop/junseok/SPRC/musinsa/snap/men/hoodie/06d815b849344dc095965e214db76505.jpg /home/sejong/Desktop/junseok/SPRC/musinsa/goods/men/hoodie/HEAVEN HOODIE ZIP UP_PINK(NG2FSUM481A).jpg\n"
          ]
        },
        {
          "name": "stderr",
          "output_type": "stream",
          "text": [
            "hoodie-train:  10%|█         | 41/400 [03:29<25:13,  4.22s/it]"
          ]
        },
        {
          "name": "stdout",
          "output_type": "stream",
          "text": [
            "\"has added graphic, is pink, and is regular fit\"\n",
            "/home/sejong/Desktop/junseok/SPRC/musinsa/snap/men/hoodie/c50068ed7ad94868bbeeac2396a8eecd.jpg /home/sejong/Desktop/junseok/SPRC/musinsa/goods/men/hoodie/스몰 어센틱 후디 집업 멜란지 그레이.jpg\n"
          ]
        },
        {
          "name": "stderr",
          "output_type": "stream",
          "text": [
            "hoodie-train:  10%|█         | 42/400 [03:32<24:05,  4.04s/it]"
          ]
        },
        {
          "name": "stdout",
          "output_type": "stream",
          "text": [
            "\"has no graphic and pattern, is gray, and is regular length\"\n",
            "/home/sejong/Desktop/junseok/SPRC/musinsa/snap/men/hoodie/159309ff386943649f6b9a5922ee6cbd.jpg /home/sejong/Desktop/junseok/SPRC/musinsa/goods/men/hoodie/슬로건 니트 후드 집업.jpg\n"
          ]
        },
        {
          "name": "stderr",
          "output_type": "stream",
          "text": [
            "hoodie-train:  11%|█         | 43/400 [03:37<24:22,  4.10s/it]"
          ]
        },
        {
          "name": "stdout",
          "output_type": "stream",
          "text": [
            "\"has added graphic, is black, and is regular fit\"\n",
            "/home/sejong/Desktop/junseok/SPRC/musinsa/snap/men/hoodie/2619fbed4fda4778ac82daf9ad2bce46.jpg /home/sejong/Desktop/junseok/SPRC/musinsa/goods/men/hoodie/크로쉐 후드 집업 멜란지 그레이.jpg\n"
          ]
        },
        {
          "name": "stderr",
          "output_type": "stream",
          "text": [
            "hoodie-train:  11%|█         | 44/400 [03:40<23:01,  3.88s/it]"
          ]
        },
        {
          "name": "stdout",
          "output_type": "stream",
          "text": [
            "\"is gray and regular length\"\n",
            "/home/sejong/Desktop/junseok/SPRC/musinsa/snap/men/hoodie/2a8c33b269164ff3a55e1f096319c9b1.jpg /home/sejong/Desktop/junseok/SPRC/musinsa/goods/men/hoodie/TCM vintage pocket hooded zip-up (charcoal).jpg\n"
          ]
        },
        {
          "name": "stderr",
          "output_type": "stream",
          "text": [
            "hoodie-train:  11%|█▏        | 45/400 [03:47<28:33,  4.83s/it]"
          ]
        },
        {
          "name": "stdout",
          "output_type": "stream",
          "text": [
            "\"has no graphic and pattern, is gray, and is regular fit\"\n",
            "/home/sejong/Desktop/junseok/SPRC/musinsa/snap/men/hoodie/412d66dfd8c947a0b7a1314733ffdb17.jpg /home/sejong/Desktop/junseok/SPRC/musinsa/goods/men/hoodie/LOOSE SUADE HOOD ZIP UP [BLACK].jpg\n"
          ]
        },
        {
          "name": "stderr",
          "output_type": "stream",
          "text": [
            "hoodie-train:  12%|█▏        | 46/400 [03:51<26:19,  4.46s/it]"
          ]
        },
        {
          "name": "stdout",
          "output_type": "stream",
          "text": [
            "\"has a striped pattern, is black, and is oversized fit\"\n",
            "/home/sejong/Desktop/junseok/SPRC/musinsa/snap/men/hoodie/list.staff_661cc16f1f003.jpg /home/sejong/Desktop/junseok/SPRC/musinsa/goods/men/hoodie/[논기모 OR 기모] 2WAY 오버핏 스웨트 후드 집업 [블랙].jpg\n"
          ]
        },
        {
          "name": "stderr",
          "output_type": "stream",
          "text": [
            "hoodie-train:  12%|█▏        | 47/400 [03:54<24:16,  4.13s/it]"
          ]
        },
        {
          "name": "stdout",
          "output_type": "stream",
          "text": [
            "\"is black and oversized fit\"\n",
            "/home/sejong/Desktop/junseok/SPRC/musinsa/snap/men/hoodie/5fe4dd7ec3a54e91916835059a049b9e.jpg /home/sejong/Desktop/junseok/SPRC/musinsa/goods/men/hoodie/KNIT MIXED HOOD ZIPUP - CHARCOAL.jpg\n"
          ]
        },
        {
          "name": "stderr",
          "output_type": "stream",
          "text": [
            "hoodie-train:  12%|█▏        | 48/400 [03:59<25:10,  4.29s/it]"
          ]
        },
        {
          "name": "stdout",
          "output_type": "stream",
          "text": [
            "\"has added graphic, is gray, and is oversized fit\"\n",
            "/home/sejong/Desktop/junseok/SPRC/musinsa/snap/men/hoodie/01b3f016698f462eb089d418b76d52cf.jpg /home/sejong/Desktop/junseok/SPRC/musinsa/goods/men/hoodie/크리스피 타슬란 긴팔 스탠넥 아노락 레드(UP321CWT91).jpg\n"
          ]
        },
        {
          "name": "stderr",
          "output_type": "stream",
          "text": [
            "hoodie-train:  12%|█▏        | 49/400 [04:05<28:08,  4.81s/it]"
          ]
        },
        {
          "name": "stdout",
          "output_type": "stream",
          "text": [
            "\"has added graphic, is red, and is regular fit\"\n",
            "/home/sejong/Desktop/junseok/SPRC/musinsa/snap/men/hoodie/57493d75cf774a4595c92806cea1cb6c.jpg /home/sejong/Desktop/junseok/SPRC/musinsa/goods/men/hoodie/그래피티 후드집업 6 Color [ULZH_5002].jpg\n"
          ]
        },
        {
          "name": "stderr",
          "output_type": "stream",
          "text": [
            "hoodie-train:  12%|█▎        | 50/400 [04:08<24:51,  4.26s/it]"
          ]
        },
        {
          "name": "stdout",
          "output_type": "stream",
          "text": [
            "\"has added graphic, is black, and is regular fit\"\n",
            "/home/sejong/Desktop/junseok/SPRC/musinsa/snap/men/hoodie/2b4d9907d3c748dca9876e1e5a1fe69b.jpg /home/sejong/Desktop/junseok/SPRC/musinsa/goods/men/hoodie/레더 라벨 후드집업 자켓 웨스턴.jpg\n"
          ]
        },
        {
          "name": "stderr",
          "output_type": "stream",
          "text": [
            "hoodie-train:  13%|█▎        | 51/400 [04:11<23:21,  4.02s/it]"
          ]
        },
        {
          "name": "stdout",
          "output_type": "stream",
          "text": [
            "\"has added graphic, is brown, and is regular length\"\n",
            "/home/sejong/Desktop/junseok/SPRC/musinsa/snap/men/hoodie/4e6dc553c89b41b8b0e6129e95e9f695.jpg /home/sejong/Desktop/junseok/SPRC/musinsa/goods/men/hoodie/ERBE OVERSIZED ZIP HOODIE [BROWN].jpg\n"
          ]
        },
        {
          "name": "stderr",
          "output_type": "stream",
          "text": [
            "hoodie-train:  13%|█▎        | 52/400 [04:15<23:31,  4.06s/it]"
          ]
        },
        {
          "name": "stdout",
          "output_type": "stream",
          "text": [
            "\"has no graphic and pattern, is gray, and is oversized fit\"\n",
            "/home/sejong/Desktop/junseok/SPRC/musinsa/snap/men/hoodie/1736ae5a5d1544949f89bfd383cad004.jpg /home/sejong/Desktop/junseok/SPRC/musinsa/goods/men/hoodie/3STARS HATE HOODIE ZIP UP_BURGUNDY(NG2EFUM481A).jpg\n"
          ]
        },
        {
          "name": "stderr",
          "output_type": "stream",
          "text": [
            "hoodie-train:  13%|█▎        | 53/400 [04:19<22:53,  3.96s/it]"
          ]
        },
        {
          "name": "stdout",
          "output_type": "stream",
          "text": [
            "\"has added graphic, is burgundy, and is oversized fit\"\n",
            "/home/sejong/Desktop/junseok/SPRC/musinsa/snap/men/hoodie/1dd3ace40da34ca1ab83e22276aee614.jpg /home/sejong/Desktop/junseok/SPRC/musinsa/goods/men/hoodie/[무료반품] 베이직 메가로고 후드집업 NY (Black).jpg\n"
          ]
        },
        {
          "name": "stderr",
          "output_type": "stream",
          "text": [
            "hoodie-train:  14%|█▎        | 54/400 [04:21<20:11,  3.50s/it]"
          ]
        },
        {
          "name": "stdout",
          "output_type": "stream",
          "text": [
            "\"has added graphic, is black, and is regular fit\"\n",
            "/home/sejong/Desktop/junseok/SPRC/musinsa/snap/men/hoodie/list.staff_666ace29b8c2f.jpg /home/sejong/Desktop/junseok/SPRC/musinsa/goods/men/hoodie/OG HEAVYWEIGHT HOOD ZIPUP PARKA _ DARK GREEN.jpg\n"
          ]
        },
        {
          "name": "stderr",
          "output_type": "stream",
          "text": [
            "hoodie-train:  14%|█▍        | 55/400 [04:26<21:13,  3.69s/it]"
          ]
        },
        {
          "name": "stdout",
          "output_type": "stream",
          "text": [
            "\"has no graphic and pattern, is dark green, and is oversized fit\"\n",
            "/home/sejong/Desktop/junseok/SPRC/musinsa/snap/men/hoodie/0492de178ec84e36a59d75735cde9511.jpg /home/sejong/Desktop/junseok/SPRC/musinsa/goods/men/hoodie/[Mmlg] CHECK PATTERN HOOD ZIPUP (EVERY BLACK).jpg\n"
          ]
        },
        {
          "name": "stderr",
          "output_type": "stream",
          "text": [
            "hoodie-train:  14%|█▍        | 56/400 [04:30<23:08,  4.04s/it]"
          ]
        },
        {
          "name": "stdout",
          "output_type": "stream",
          "text": [
            "\"has added graphic, is black, and is regular length\"\n",
            "/home/sejong/Desktop/junseok/SPRC/musinsa/snap/men/hoodie/773511bf1d5944b4bb29c19958549ed7.jpg /home/sejong/Desktop/junseok/SPRC/musinsa/goods/men/hoodie/레이어드 스트링 후드 집업 [브라운].jpg\n"
          ]
        },
        {
          "name": "stderr",
          "output_type": "stream",
          "text": [
            "hoodie-train:  14%|█▍        | 57/400 [04:38<28:25,  4.97s/it]"
          ]
        },
        {
          "name": "stdout",
          "output_type": "stream",
          "text": [
            "\"has added graphic, is brown, and is regular length\"\n",
            "/home/sejong/Desktop/junseok/SPRC/musinsa/snap/men/hoodie/2619fbed4fda4778ac82daf9ad2bce46.jpg /home/sejong/Desktop/junseok/SPRC/musinsa/goods/men/hoodie/[Mmlg] CHECK PATTERN HOOD ZIPUP (EVERY BLACK).jpg\n"
          ]
        },
        {
          "name": "stderr",
          "output_type": "stream",
          "text": [
            "hoodie-train:  14%|█▍        | 58/400 [04:43<28:56,  5.08s/it]"
          ]
        },
        {
          "name": "stdout",
          "output_type": "stream",
          "text": [
            "\"has added graphic, is black, and is regular fit\"\n",
            "/home/sejong/Desktop/junseok/SPRC/musinsa/snap/men/hoodie/d1cdbbe00769411e96a9cf9611b503d3.jpg /home/sejong/Desktop/junseok/SPRC/musinsa/goods/men/hoodie/고글 다이아고날 후드집업 - 아이비 그린 _ 17CMSS028A005086W683.jpg\n"
          ]
        },
        {
          "name": "stderr",
          "output_type": "stream",
          "text": [
            "hoodie-train:  15%|█▍        | 59/400 [04:46<26:03,  4.58s/it]"
          ]
        },
        {
          "name": "stdout",
          "output_type": "stream",
          "text": [
            "\"has no graphic and pattern, is olive green, and is oversized fit\"\n",
            "/home/sejong/Desktop/junseok/SPRC/musinsa/snap/men/hoodie/list.staff_660e1753ec0bb.jpg /home/sejong/Desktop/junseok/SPRC/musinsa/goods/men/hoodie/DW N로고 후드집업 - 네이비.jpg\n"
          ]
        },
        {
          "name": "stderr",
          "output_type": "stream",
          "text": [
            "hoodie-train:  15%|█▌        | 60/400 [04:50<24:36,  4.34s/it]"
          ]
        },
        {
          "name": "stdout",
          "output_type": "stream",
          "text": [
            "\"is navy and oversized fit\"\n",
            "/home/sejong/Desktop/junseok/SPRC/musinsa/snap/men/hoodie/5c4bc1ddfdd24889aa5c42359d8f39e6.jpg /home/sejong/Desktop/junseok/SPRC/musinsa/goods/men/hoodie/[X SOULPUSSSY CAT]GHOSTSOULGIRL HOODIE ZIPUP_BLACK(NG2EFUM489D).jpg\n"
          ]
        },
        {
          "name": "stderr",
          "output_type": "stream",
          "text": [
            "hoodie-train:  15%|█▌        | 61/400 [04:54<23:53,  4.23s/it]"
          ]
        },
        {
          "name": "stdout",
          "output_type": "stream",
          "text": [
            "\"has added graphic, is black, and is oversized fit\"\n",
            "/home/sejong/Desktop/junseok/SPRC/musinsa/snap/men/hoodie/e1b27221313a4b269fae9929dc0f4135.jpg /home/sejong/Desktop/junseok/SPRC/musinsa/goods/men/hoodie/ECLIPSE LOGO HOOD ZIP-UP BLACK(MG2ESMM412A).jpg\n"
          ]
        },
        {
          "name": "stderr",
          "output_type": "stream",
          "text": [
            "hoodie-train:  16%|█▌        | 62/400 [04:58<24:07,  4.28s/it]"
          ]
        },
        {
          "name": "stdout",
          "output_type": "stream",
          "text": [
            "\"has added graphic, is black and oversized fit\"\n",
            "/home/sejong/Desktop/junseok/SPRC/musinsa/snap/men/hoodie/0492de178ec84e36a59d75735cde9511.jpg /home/sejong/Desktop/junseok/SPRC/musinsa/goods/men/hoodie/T.N.T. Classic HDP Zip Up Hoodie Blue.jpg\n"
          ]
        },
        {
          "name": "stderr",
          "output_type": "stream",
          "text": [
            "hoodie-train:  16%|█▌        | 63/400 [05:03<23:49,  4.24s/it]"
          ]
        },
        {
          "name": "stdout",
          "output_type": "stream",
          "text": [
            "\"is blue and regular length\"\n",
            "/home/sejong/Desktop/junseok/SPRC/musinsa/snap/men/hoodie/66fae1aff2124a7bac76f9856a84a3f9.jpg /home/sejong/Desktop/junseok/SPRC/musinsa/goods/men/hoodie/Gradation Washed Disk Logo Hood Zip-Up_Slate Gray.jpg\n"
          ]
        },
        {
          "name": "stderr",
          "output_type": "stream",
          "text": [
            "hoodie-train:  16%|█▌        | 64/400 [05:07<23:13,  4.15s/it]"
          ]
        },
        {
          "name": "stdout",
          "output_type": "stream",
          "text": [
            "\"has added graphic, is gray, and is regular fit\"\n",
            "/home/sejong/Desktop/junseok/SPRC/musinsa/snap/men/hoodie/bc515060cbdc468a9dab7b058ab2c87d.jpg /home/sejong/Desktop/junseok/SPRC/musinsa/goods/men/hoodie/[논기모 OR 기모] 2WAY 오버핏 스웨트 후드 집업 [블랙].jpg\n"
          ]
        },
        {
          "name": "stderr",
          "output_type": "stream",
          "text": [
            "hoodie-train:  16%|█▋        | 65/400 [05:09<20:54,  3.75s/it]"
          ]
        },
        {
          "name": "stdout",
          "output_type": "stream",
          "text": [
            "\"is black and oversized fit\"\n",
            "/home/sejong/Desktop/junseok/SPRC/musinsa/snap/men/hoodie/13cc51c5dbbc452cabcfdfbe35720953.jpg /home/sejong/Desktop/junseok/SPRC/musinsa/goods/men/hoodie/(U) 로고 집 후디 그레이 LOGO ZIP HODDIE CHSOGR.jpg\n"
          ]
        },
        {
          "name": "stderr",
          "output_type": "stream",
          "text": [
            "hoodie-train:  16%|█▋        | 66/400 [05:13<20:33,  3.69s/it]"
          ]
        },
        {
          "name": "stdout",
          "output_type": "stream",
          "text": [
            "\"is gray and regular length with oversized fit\"\n",
            "/home/sejong/Desktop/junseok/SPRC/musinsa/snap/men/hoodie/5e8ee570ad134d83ae111cdb5fa84872.jpg /home/sejong/Desktop/junseok/SPRC/musinsa/goods/men/hoodie/CGP 아치 로고 후드 집업_아이보리.jpg\n"
          ]
        },
        {
          "name": "stderr",
          "output_type": "stream",
          "text": [
            "hoodie-train:  17%|█▋        | 67/400 [05:16<19:34,  3.53s/it]"
          ]
        },
        {
          "name": "stdout",
          "output_type": "stream",
          "text": [
            "\"has added graphic, is gray, and is oversized fit\"\n",
            "/home/sejong/Desktop/junseok/SPRC/musinsa/snap/men/hoodie/7042cdeffea64e1e8aa21e6929f13971.jpg /home/sejong/Desktop/junseok/SPRC/musinsa/goods/men/hoodie/T.N.T. Classic HDP Zip Up Hoodie Black Khaki.jpg\n"
          ]
        },
        {
          "name": "stderr",
          "output_type": "stream",
          "text": [
            "hoodie-train:  17%|█▋        | 68/400 [05:19<19:06,  3.45s/it]"
          ]
        },
        {
          "name": "stdout",
          "output_type": "stream",
          "text": [
            "\"has added graphic, is gray, and is regular fit\"\n",
            "/home/sejong/Desktop/junseok/SPRC/musinsa/snap/men/hoodie/4904e92afa384ce0b8badfe80d4785d2.jpg /home/sejong/Desktop/junseok/SPRC/musinsa/goods/men/hoodie/2WAY_아란 워셔블 오버핏 케이블 후드 집업 니트 [아이보리].jpg\n"
          ]
        },
        {
          "name": "stderr",
          "output_type": "stream",
          "text": [
            "hoodie-train:  17%|█▋        | 69/400 [05:23<19:25,  3.52s/it]"
          ]
        },
        {
          "name": "stdout",
          "output_type": "stream",
          "text": [
            "\"has no graphic and pattern, is beige, and is regular length\"\n",
            "/home/sejong/Desktop/junseok/SPRC/musinsa/snap/men/hoodie/9a7918e007cc43a6b795b500389f9054.jpg /home/sejong/Desktop/junseok/SPRC/musinsa/goods/men/hoodie/마운티널스 밍크 퍼 후드집업 AZH589 (2 COLOR).jpg\n"
          ]
        },
        {
          "name": "stderr",
          "output_type": "stream",
          "text": [
            "hoodie-train:  18%|█▊        | 70/400 [05:33<30:22,  5.52s/it]"
          ]
        },
        {
          "name": "stdout",
          "output_type": "stream",
          "text": [
            "\"is black, has added graphic, and is oversized fit\"\n",
            "/home/sejong/Desktop/junseok/SPRC/musinsa/snap/men/hoodie/2024043019230300000038331.jpg /home/sejong/Desktop/junseok/SPRC/musinsa/goods/men/hoodie/IEY SYMBOL HOODED ZIP-UP Brown.jpg\n"
          ]
        },
        {
          "name": "stderr",
          "output_type": "stream",
          "text": [
            "hoodie-train:  18%|█▊        | 71/400 [05:41<34:20,  6.26s/it]"
          ]
        },
        {
          "name": "stdout",
          "output_type": "stream",
          "text": [
            "\"has no graphic and pattern, is brown, and is oversized fit\"\n",
            "/home/sejong/Desktop/junseok/SPRC/musinsa/snap/men/hoodie/5369d4d89ce24ed195752b449361dad7.jpg /home/sejong/Desktop/junseok/SPRC/musinsa/goods/men/hoodie/프리덤 기모 후드집업 MELANGE GREY.jpg\n"
          ]
        },
        {
          "name": "stderr",
          "output_type": "stream",
          "text": [
            "hoodie-train:  18%|█▊        | 72/400 [05:45<29:40,  5.43s/it]"
          ]
        },
        {
          "name": "stdout",
          "output_type": "stream",
          "text": [
            "\"has added graphic, is gray, and is regular fit\"\n",
            "/home/sejong/Desktop/junseok/SPRC/musinsa/snap/men/hoodie/d50747306c5d42afa962ed9293c1b8aa.jpg /home/sejong/Desktop/junseok/SPRC/musinsa/goods/men/hoodie/[무료반품][30% 적립금] 더블니트 풀집 후디 - 블랙.jpg\n"
          ]
        },
        {
          "name": "stderr",
          "output_type": "stream",
          "text": [
            "hoodie-train:  18%|█▊        | 73/400 [05:48<25:47,  4.73s/it]"
          ]
        },
        {
          "name": "stdout",
          "output_type": "stream",
          "text": [
            "\"is black and regular length with regular fit\"\n",
            "/home/sejong/Desktop/junseok/SPRC/musinsa/snap/men/hoodie/bdcc6f786d2b453a990adf8dd7c1699d.jpg /home/sejong/Desktop/junseok/SPRC/musinsa/goods/men/hoodie/투웨이 후드 집업 니트 베이지.jpg\n"
          ]
        },
        {
          "name": "stderr",
          "output_type": "stream",
          "text": [
            "hoodie-train:  18%|█▊        | 74/400 [05:53<26:51,  4.94s/it]"
          ]
        },
        {
          "name": "stdout",
          "output_type": "stream",
          "text": [
            "\"has added graphic, is beige, and is oversized fit\"\n",
            "/home/sejong/Desktop/junseok/SPRC/musinsa/snap/men/hoodie/76a8cf27992d4019b77520e673d9a639.jpg /home/sejong/Desktop/junseok/SPRC/musinsa/goods/men/hoodie/자카드 투웨이 후드 니트 집업 (BLACK).jpg\n"
          ]
        },
        {
          "name": "stderr",
          "output_type": "stream",
          "text": [
            "hoodie-train:  19%|█▉        | 75/400 [05:57<24:09,  4.46s/it]"
          ]
        },
        {
          "name": "stdout",
          "output_type": "stream",
          "text": [
            "\"is black and oversized fit\"\n",
            "/home/sejong/Desktop/junseok/SPRC/musinsa/snap/men/hoodie/list.staff_6649bb2fc1864.jpg /home/sejong/Desktop/junseok/SPRC/musinsa/goods/men/hoodie/T.N.T. Classic HDP Zip Up Hoodie Black Khaki.jpg\n"
          ]
        },
        {
          "name": "stderr",
          "output_type": "stream",
          "text": [
            "hoodie-train:  19%|█▉        | 76/400 [06:00<22:10,  4.11s/it]"
          ]
        },
        {
          "name": "stdout",
          "output_type": "stream",
          "text": [
            "\"is gray and regular length with regular fit\"\n",
            "/home/sejong/Desktop/junseok/SPRC/musinsa/snap/men/hoodie/0a81b5021bb646edb719fcd8d0016700.jpg /home/sejong/Desktop/junseok/SPRC/musinsa/goods/men/hoodie/ROUND POCKET KNIT ZIP-UP PURPLE.jpg\n"
          ]
        },
        {
          "name": "stderr",
          "output_type": "stream",
          "text": [
            "hoodie-train:  19%|█▉        | 77/400 [06:05<24:32,  4.56s/it]"
          ]
        },
        {
          "name": "stdout",
          "output_type": "stream",
          "text": [
            "\"has no graphic and pattern, is purple, and is regular length\"\n",
            "/home/sejong/Desktop/junseok/SPRC/musinsa/snap/men/hoodie/19a65f099e9e4fb69df8edc8716d0e90.jpg /home/sejong/Desktop/junseok/SPRC/musinsa/goods/men/hoodie/[무료반품] NJ5JQ53C 남성 에센셜 후디 집업_DARK BROWN.jpg\n"
          ]
        },
        {
          "name": "stderr",
          "output_type": "stream",
          "text": [
            "hoodie-train:  20%|█▉        | 78/400 [06:09<22:21,  4.17s/it]"
          ]
        },
        {
          "name": "stdout",
          "output_type": "stream",
          "text": [
            "\"has added graphic, is gray, and is regular fit\"\n",
            "/home/sejong/Desktop/junseok/SPRC/musinsa/snap/men/hoodie/f14bb759a3e64cdb8adbbf393f9effef.jpg /home/sejong/Desktop/junseok/SPRC/musinsa/goods/men/hoodie/980G 피그먼트 컷 후디 집업-문그레이-.jpg\n"
          ]
        },
        {
          "name": "stderr",
          "output_type": "stream",
          "text": [
            "hoodie-train:  20%|█▉        | 79/400 [06:13<22:06,  4.13s/it]"
          ]
        },
        {
          "name": "stdout",
          "output_type": "stream",
          "text": [
            "\"is gray and regular length\"\n",
            "/home/sejong/Desktop/junseok/SPRC/musinsa/snap/men/hoodie/16846b75df774fdb9578feea22fb912b.jpg /home/sejong/Desktop/junseok/SPRC/musinsa/goods/men/hoodie/리플렉션 아플리케 후드집업 (브라운).jpg\n"
          ]
        },
        {
          "name": "stderr",
          "output_type": "stream",
          "text": [
            "hoodie-train:  20%|██        | 80/400 [06:17<21:23,  4.01s/it]"
          ]
        },
        {
          "name": "stdout",
          "output_type": "stream",
          "text": [
            "\"has added graphic, is black, and is regular length\"\n",
            "/home/sejong/Desktop/junseok/SPRC/musinsa/snap/men/hoodie/4e6dc553c89b41b8b0e6129e95e9f695.jpg /home/sejong/Desktop/junseok/SPRC/musinsa/goods/men/hoodie/피그먼트 오버사이즈 후디드 스웨트 집업 [브라운].jpg\n"
          ]
        },
        {
          "name": "stderr",
          "output_type": "stream",
          "text": [
            "hoodie-train:  20%|██        | 81/400 [06:20<20:31,  3.86s/it]"
          ]
        },
        {
          "name": "stdout",
          "output_type": "stream",
          "text": [
            "\"is brown and oversized fit\"\n",
            "/home/sejong/Desktop/junseok/SPRC/musinsa/snap/men/hoodie/4533438e789c4582b21da03757e32a16.jpg /home/sejong/Desktop/junseok/SPRC/musinsa/goods/men/hoodie/미스처버스 후드집업 팬츠 트레이닝 셋업.jpg\n"
          ]
        },
        {
          "name": "stderr",
          "output_type": "stream",
          "text": [
            "hoodie-train:  20%|██        | 82/400 [06:24<20:33,  3.88s/it]"
          ]
        },
        {
          "name": "stdout",
          "output_type": "stream",
          "text": [
            "\"has added graphic, is black, and is regular length\"\n",
            "/home/sejong/Desktop/junseok/SPRC/musinsa/snap/men/hoodie/d5f1ca5403844c2999362696e42ac23b.jpg /home/sejong/Desktop/junseok/SPRC/musinsa/goods/men/hoodie/SPRAY CARTOON GRAPHIC HOODIE ZIP UP OATMEAL.jpg\n"
          ]
        },
        {
          "name": "stderr",
          "output_type": "stream",
          "text": [
            "hoodie-train:  21%|██        | 83/400 [06:27<19:43,  3.73s/it]"
          ]
        },
        {
          "name": "stdout",
          "output_type": "stream",
          "text": [
            "\"has added graphic, is gray, and is oversized fit\"\n",
            "/home/sejong/Desktop/junseok/SPRC/musinsa/snap/men/hoodie/2105cf99456d4eb9afd8631bfb9e6ebb.jpg /home/sejong/Desktop/junseok/SPRC/musinsa/goods/men/hoodie/AUTHENTIC COMFORT HOOD ZIP SWEAT_NAVY.jpg\n"
          ]
        },
        {
          "name": "stderr",
          "output_type": "stream",
          "text": [
            "hoodie-train:  21%|██        | 84/400 [06:31<19:57,  3.79s/it]"
          ]
        },
        {
          "name": "stdout",
          "output_type": "stream",
          "text": [
            "\"has no graphic and pattern, is navy, and is oversized fit\"\n",
            "/home/sejong/Desktop/junseok/SPRC/musinsa/snap/men/hoodie/11d28c5be96d490883694dcfca81773d.jpg /home/sejong/Desktop/junseok/SPRC/musinsa/goods/men/hoodie/오가닉 코튼 플리스 가먼트 다이드 집업 후드 - 블랙 _ 6100042S0051V0029.jpg\n"
          ]
        },
        {
          "name": "stderr",
          "output_type": "stream",
          "text": [
            "hoodie-train:  21%|██▏       | 85/400 [06:34<18:30,  3.52s/it]"
          ]
        },
        {
          "name": "stdout",
          "output_type": "stream",
          "text": [
            "\"is black and regular length\"\n",
            "/home/sejong/Desktop/junseok/SPRC/musinsa/snap/men/hoodie/cbb9d586e5014a85a20a4543d4e29c74.jpg /home/sejong/Desktop/junseok/SPRC/musinsa/goods/men/hoodie/2WAY_아란 워셔블 오버핏 케이블 후드 집업 니트 [아이보리].jpg\n"
          ]
        },
        {
          "name": "stderr",
          "output_type": "stream",
          "text": [
            "hoodie-train:  22%|██▏       | 86/400 [06:39<20:47,  3.97s/it]"
          ]
        },
        {
          "name": "stdout",
          "output_type": "stream",
          "text": [
            "\"has a cable knit design, is beige, and is regular length\"\n",
            "/home/sejong/Desktop/junseok/SPRC/musinsa/snap/men/hoodie/54672b1c9bc8438f81924587ab1cdf50.jpg /home/sejong/Desktop/junseok/SPRC/musinsa/goods/men/hoodie/리버시블 퍼 후드 점퍼 [그레이].jpg\n"
          ]
        },
        {
          "name": "stderr",
          "output_type": "stream",
          "text": [
            "hoodie-train:  22%|██▏       | 87/400 [06:43<20:00,  3.84s/it]"
          ]
        },
        {
          "name": "stdout",
          "output_type": "stream",
          "text": [
            "\"has no graphic and pattern, is gray, and is oversized fit\"\n",
            "/home/sejong/Desktop/junseok/SPRC/musinsa/snap/men/hoodie/d1b509e7490f495fa6c62faf184d4e90.jpg /home/sejong/Desktop/junseok/SPRC/musinsa/goods/men/hoodie/디바이드 래글런 후드 집 업-네이비.jpg\n"
          ]
        },
        {
          "name": "stderr",
          "output_type": "stream",
          "text": [
            "hoodie-train:  22%|██▏       | 88/400 [06:47<20:34,  3.96s/it]"
          ]
        },
        {
          "name": "stdout",
          "output_type": "stream",
          "text": [
            "\"has added graphic, is blue, and regular length\"\n",
            "/home/sejong/Desktop/junseok/SPRC/musinsa/snap/men/hoodie/819fb2e3ecf7422ea6e2bb86f62feb16.jpg /home/sejong/Desktop/junseok/SPRC/musinsa/goods/men/hoodie/Pigment Dyed Hood Zip Up [Charcoal].jpg\n"
          ]
        },
        {
          "name": "stderr",
          "output_type": "stream",
          "text": [
            "hoodie-train:  22%|██▏       | 89/400 [06:51<21:22,  4.12s/it]"
          ]
        },
        {
          "name": "stdout",
          "output_type": "stream",
          "text": [
            "\"is gray and oversized fit\"\n",
            "/home/sejong/Desktop/junseok/SPRC/musinsa/snap/men/hoodie/f949eca3d7044f7dbb7dc5c6159195cf.jpg /home/sejong/Desktop/junseok/SPRC/musinsa/goods/men/hoodie/프리덤 레터링 후드집업 (블랙).jpg\n"
          ]
        },
        {
          "name": "stderr",
          "output_type": "stream",
          "text": [
            "hoodie-train:  22%|██▎       | 90/400 [06:56<21:18,  4.12s/it]"
          ]
        },
        {
          "name": "stdout",
          "output_type": "stream",
          "text": [
            "\"has added graphic, is black, and is regular fit\"\n",
            "/home/sejong/Desktop/junseok/SPRC/musinsa/snap/men/hoodie/044c4f3dfa9b4fb68f2b7a9299bdf3da.jpg /home/sejong/Desktop/junseok/SPRC/musinsa/goods/men/hoodie/1987 후드 집업 (블랙).jpg\n"
          ]
        },
        {
          "name": "stderr",
          "output_type": "stream",
          "text": [
            "hoodie-train:  23%|██▎       | 91/400 [06:59<20:35,  4.00s/it]"
          ]
        },
        {
          "name": "stdout",
          "output_type": "stream",
          "text": [
            "\"has added graphic, is black, and is oversized fit\"\n",
            "/home/sejong/Desktop/junseok/SPRC/musinsa/snap/men/hoodie/3b6f4cbd26ae4667a33def44a72c7c2d.jpg /home/sejong/Desktop/junseok/SPRC/musinsa/goods/men/hoodie/[무센트 X 캣세월 콜라보] 베이 시그니처 투웨이 후드 집업 (2컬러).jpg\n"
          ]
        },
        {
          "name": "stderr",
          "output_type": "stream",
          "text": [
            "hoodie-train:  23%|██▎       | 92/400 [07:03<19:30,  3.80s/it]"
          ]
        },
        {
          "name": "stdout",
          "output_type": "stream",
          "text": [
            "\"has added graphic, is black, and is cropped length\"\n",
            "/home/sejong/Desktop/junseok/SPRC/musinsa/snap/men/hoodie/08d621af99624842872ebfc02b6d6112.jpg /home/sejong/Desktop/junseok/SPRC/musinsa/goods/men/hoodie/나일론 윈드브레이커 집업 후드 - 블랙 _ AAUOU0195FA03BLK0001.jpg\n"
          ]
        },
        {
          "name": "stderr",
          "output_type": "stream",
          "text": [
            "hoodie-train:  23%|██▎       | 93/400 [07:06<18:56,  3.70s/it]"
          ]
        },
        {
          "name": "stdout",
          "output_type": "stream",
          "text": [
            "\"is black and regular length\"\n",
            "/home/sejong/Desktop/junseok/SPRC/musinsa/snap/men/hoodie/list.staff_66430a6d8dac1.jpg /home/sejong/Desktop/junseok/SPRC/musinsa/goods/men/hoodie/셀렉트 투웨이 후디집업 블랙.jpg\n"
          ]
        },
        {
          "name": "stderr",
          "output_type": "stream",
          "text": [
            "hoodie-train:  24%|██▎       | 94/400 [07:11<20:39,  4.05s/it]"
          ]
        },
        {
          "name": "stdout",
          "output_type": "stream",
          "text": [
            "\"is black and oversized fit\"\n",
            "/home/sejong/Desktop/junseok/SPRC/musinsa/snap/men/hoodie/621e982b14f149aa8490a565b91ced83.jpg /home/sejong/Desktop/junseok/SPRC/musinsa/goods/men/hoodie/SYMBOL LOGO HOODED ZIP-UP - WHITE MELANGE.jpg\n"
          ]
        },
        {
          "name": "stderr",
          "output_type": "stream",
          "text": [
            "hoodie-train:  24%|██▍       | 95/400 [07:16<21:26,  4.22s/it]"
          ]
        },
        {
          "name": "stdout",
          "output_type": "stream",
          "text": [
            "\"has added graphic, is gray, and is oversized fit\"\n",
            "/home/sejong/Desktop/junseok/SPRC/musinsa/snap/men/hoodie/2024043018335300000058824.jpg /home/sejong/Desktop/junseok/SPRC/musinsa/goods/men/hoodie/티롤리안 파카 코요테.jpg\n"
          ]
        },
        {
          "name": "stderr",
          "output_type": "stream",
          "text": [
            "hoodie-train:  24%|██▍       | 96/400 [07:19<19:37,  3.87s/it]"
          ]
        },
        {
          "name": "stdout",
          "output_type": "stream",
          "text": [
            "\"has added graphic, is brown, and is regular fit\"\n",
            "/home/sejong/Desktop/junseok/SPRC/musinsa/snap/men/hoodie/75e4b704de654380b6c2878de626547b.jpg /home/sejong/Desktop/junseok/SPRC/musinsa/goods/men/hoodie/뉴 그린 테이핑 해시태그 오버핏 후드집업(아이스 그레이).jpg\n"
          ]
        },
        {
          "name": "stderr",
          "output_type": "stream",
          "text": [
            "hoodie-train:  24%|██▍       | 97/400 [07:22<18:14,  3.61s/it]"
          ]
        },
        {
          "name": "stdout",
          "output_type": "stream",
          "text": [
            "\"has added graphic, is gray, and is regular fit\"\n",
            "/home/sejong/Desktop/junseok/SPRC/musinsa/snap/men/hoodie/bc515060cbdc468a9dab7b058ab2c87d.jpg /home/sejong/Desktop/junseok/SPRC/musinsa/goods/men/hoodie/2WAY_아란 워셔블 오버핏 케이블 후드 집업 니트_3COLOR.jpg\n"
          ]
        },
        {
          "name": "stderr",
          "output_type": "stream",
          "text": [
            "hoodie-train:  24%|██▍       | 98/400 [07:25<18:14,  3.62s/it]"
          ]
        },
        {
          "name": "stdout",
          "output_type": "stream",
          "text": [
            "\"has no graphic and pattern, is gray, and is regular length\"\n",
            "/home/sejong/Desktop/junseok/SPRC/musinsa/snap/men/hoodie/aaa2b2628b5b4a83b4dfe5d82526a277.jpg /home/sejong/Desktop/junseok/SPRC/musinsa/goods/men/hoodie/피그먼트 스몰 로고 후디 집업 베이지.jpg\n"
          ]
        },
        {
          "name": "stderr",
          "output_type": "stream",
          "text": [
            "hoodie-train:  25%|██▍       | 99/400 [07:29<19:02,  3.80s/it]"
          ]
        },
        {
          "name": "stdout",
          "output_type": "stream",
          "text": [
            "\"has no graphic and pattern, is other colors, and is oversized fit\"\n",
            "/home/sejong/Desktop/junseok/SPRC/musinsa/snap/men/hoodie/a056a41fe3014e808fa24efc27bb9c58.jpg /home/sejong/Desktop/junseok/SPRC/musinsa/goods/men/hoodie/[5445] 유니섹스 워싱 절개 후드집업 (차콜).jpg\n"
          ]
        },
        {
          "name": "stderr",
          "output_type": "stream",
          "text": [
            "hoodie-train:  25%|██▌       | 100/400 [07:33<19:00,  3.80s/it]"
          ]
        },
        {
          "name": "stdout",
          "output_type": "stream",
          "text": [
            "\"has no graphic and pattern, is gray, and is regular length\"\n",
            "/home/sejong/Desktop/junseok/SPRC/musinsa/snap/men/hoodie/5353633d5e5841a89fa04daa0048943d.jpg /home/sejong/Desktop/junseok/SPRC/musinsa/goods/men/hoodie/테오 코튼 올 데이 후드 집업 멜란지 아이보리.jpg\n"
          ]
        },
        {
          "name": "stderr",
          "output_type": "stream",
          "text": [
            "hoodie-train:  25%|██▌       | 101/400 [07:37<18:58,  3.81s/it]"
          ]
        },
        {
          "name": "stdout",
          "output_type": "stream",
          "text": [
            "\"has added graphic, is gray, and is regular length\"\n",
            "/home/sejong/Desktop/junseok/SPRC/musinsa/snap/men/hoodie/964245e3dd69437b8e40c34bab3a1990.jpg /home/sejong/Desktop/junseok/SPRC/musinsa/goods/men/hoodie/Pigment Dyed Zip-Up Hoodie (Charcoal).jpg\n"
          ]
        },
        {
          "name": "stderr",
          "output_type": "stream",
          "text": [
            "hoodie-train:  26%|██▌       | 102/400 [07:41<19:11,  3.86s/it]"
          ]
        },
        {
          "name": "stdout",
          "output_type": "stream",
          "text": [
            "\"has added graphic, is black, and is regular fit\"\n",
            "/home/sejong/Desktop/junseok/SPRC/musinsa/snap/men/hoodie/8a3e3dbb9baa4d4887e5a7e17482776d.jpg /home/sejong/Desktop/junseok/SPRC/musinsa/goods/men/hoodie/Reversible Hoodie Zip-Up Check Blue.jpg\n"
          ]
        },
        {
          "name": "stderr",
          "output_type": "stream",
          "text": [
            "hoodie-train:  26%|██▌       | 103/400 [07:45<18:46,  3.79s/it]"
          ]
        },
        {
          "name": "stdout",
          "output_type": "stream",
          "text": [
            "\"has a checkered pattern, is blue, and is oversized fit\"\n",
            "/home/sejong/Desktop/junseok/SPRC/musinsa/snap/men/hoodie/7042cdeffea64e1e8aa21e6929f13971.jpg /home/sejong/Desktop/junseok/SPRC/musinsa/goods/men/hoodie/2_WAY 스웨트 후디드 집업 [블랙].jpg\n"
          ]
        },
        {
          "name": "stderr",
          "output_type": "stream",
          "text": [
            "hoodie-train:  26%|██▌       | 104/400 [07:48<18:14,  3.70s/it]"
          ]
        },
        {
          "name": "stdout",
          "output_type": "stream",
          "text": [
            "\"has added graphic, is black, and is regular length\"\n",
            "/home/sejong/Desktop/junseok/SPRC/musinsa/snap/men/hoodie/75ad8e73dfea4daca54f440c5a718cec.jpg /home/sejong/Desktop/junseok/SPRC/musinsa/goods/men/hoodie/Doodle Star Stripe Hood Zip-Up ((Dark gray)).jpg\n"
          ]
        },
        {
          "name": "stderr",
          "output_type": "stream",
          "text": [
            "hoodie-train:  26%|██▋       | 105/400 [07:52<18:08,  3.69s/it]"
          ]
        },
        {
          "name": "stdout",
          "output_type": "stream",
          "text": [
            "\"has a striped pattern, is black, and is regular length\"\n",
            "/home/sejong/Desktop/junseok/SPRC/musinsa/snap/men/hoodie/2105cf99456d4eb9afd8631bfb9e6ebb.jpg /home/sejong/Desktop/junseok/SPRC/musinsa/goods/men/hoodie/17.5 oz Terry Cloth 2Way Zip-Up Hoodie Kr Ver. Grey.jpg\n"
          ]
        },
        {
          "name": "stderr",
          "output_type": "stream",
          "text": [
            "hoodie-train:  26%|██▋       | 106/400 [07:55<17:05,  3.49s/it]"
          ]
        },
        {
          "name": "stdout",
          "output_type": "stream",
          "text": [
            "\"has no graphic and pattern, is gray, and is oversized fit\"\n",
            "/home/sejong/Desktop/junseok/SPRC/musinsa/snap/men/hoodie/195a8c7558794d079f70c94277497c9f.jpg /home/sejong/Desktop/junseok/SPRC/musinsa/goods/men/hoodie/Double layer zip-up hoodie 8% Melange.jpg\n"
          ]
        },
        {
          "name": "stderr",
          "output_type": "stream",
          "text": [
            "hoodie-train:  27%|██▋       | 107/400 [07:59<17:32,  3.59s/it]"
          ]
        },
        {
          "name": "stdout",
          "output_type": "stream",
          "text": [
            "\"has added graphic, is gray, and is regular fit\"\n",
            "/home/sejong/Desktop/junseok/SPRC/musinsa/snap/men/hoodie/list.staff_6604bb3f2a7e3.jpg /home/sejong/Desktop/junseok/SPRC/musinsa/goods/men/hoodie/ECLIPSE RAW CUT ZIP UP HOODIE CHARCOAL(MG2EFMM490A).jpg\n"
          ]
        },
        {
          "name": "stderr",
          "output_type": "stream",
          "text": [
            "hoodie-train:  27%|██▋       | 108/400 [08:02<17:37,  3.62s/it]"
          ]
        },
        {
          "name": "stdout",
          "output_type": "stream",
          "text": [
            "\"has added graphic, is gray, and is oversized fit\"\n",
            "/home/sejong/Desktop/junseok/SPRC/musinsa/snap/men/hoodie/f0d6371b9ed245738f9b35526280bb1e.jpg /home/sejong/Desktop/junseok/SPRC/musinsa/goods/men/hoodie/시그니처 피치스킨 기모 후드집업 MZT113 [SKY].jpg\n"
          ]
        },
        {
          "name": "stderr",
          "output_type": "stream",
          "text": [
            "hoodie-train:  27%|██▋       | 109/400 [08:06<17:56,  3.70s/it]"
          ]
        },
        {
          "name": "stdout",
          "output_type": "stream",
          "text": [
            "\"has no graphic and pattern, is blue, and is oversized fit\"\n",
            "/home/sejong/Desktop/junseok/SPRC/musinsa/snap/men/hoodie/bd7dc19c776f423580b66cc9c7ab1a9d.jpg /home/sejong/Desktop/junseok/SPRC/musinsa/goods/men/hoodie/벌키 텍스쳐 니트 후드집업_아이보리.jpg\n"
          ]
        },
        {
          "name": "stderr",
          "output_type": "stream",
          "text": [
            "hoodie-train:  28%|██▊       | 110/400 [08:12<21:22,  4.42s/it]"
          ]
        },
        {
          "name": "stdout",
          "output_type": "stream",
          "text": [
            "\"is beige and regular length with oversized fit\"\n",
            "/home/sejong/Desktop/junseok/SPRC/musinsa/snap/men/hoodie/f7a976f774d04314bdab45a3a134017c.jpg /home/sejong/Desktop/junseok/SPRC/musinsa/goods/men/hoodie/T.N.T. Classic HDP Zip Up Sweat Navy.jpg\n"
          ]
        },
        {
          "name": "stderr",
          "output_type": "stream",
          "text": [
            "hoodie-train:  28%|██▊       | 111/400 [08:16<19:51,  4.12s/it]"
          ]
        },
        {
          "name": "stdout",
          "output_type": "stream",
          "text": [
            "\"has no graphic and pattern, is navy, and is oversized fit\"\n",
            "/home/sejong/Desktop/junseok/SPRC/musinsa/snap/men/hoodie/52abe1ad5ad6415ebbbc48aa35b158cf.jpg /home/sejong/Desktop/junseok/SPRC/musinsa/goods/men/hoodie/데일리 스웻 후디집업 세트.jpg\n"
          ]
        },
        {
          "name": "stderr",
          "output_type": "stream",
          "text": [
            "hoodie-train:  28%|██▊       | 112/400 [08:20<19:39,  4.10s/it]"
          ]
        },
        {
          "name": "stdout",
          "output_type": "stream",
          "text": [
            "\"has no graphic and pattern, is black, and is oversized fit\"\n",
            "/home/sejong/Desktop/junseok/SPRC/musinsa/snap/men/hoodie/57be681a59184a1aa1b99460113b55e3.jpg /home/sejong/Desktop/junseok/SPRC/musinsa/goods/men/hoodie/ERBE OVERSIZED ZIP HOODIE [POLAR NIGHT].jpg\n"
          ]
        },
        {
          "name": "stderr",
          "output_type": "stream",
          "text": [
            "hoodie-train:  28%|██▊       | 113/400 [08:24<19:46,  4.13s/it]"
          ]
        },
        {
          "name": "stdout",
          "output_type": "stream",
          "text": [
            "\"has added graphic, is navy, and is regular fit\"\n",
            "/home/sejong/Desktop/junseok/SPRC/musinsa/snap/men/hoodie/7dd3c79cdb424c2b8f659d9cbcc18e50.jpg /home/sejong/Desktop/junseok/SPRC/musinsa/goods/men/hoodie/AUTHENTIC COMFORT HOOD ZIP SWEAT_BLACK.jpg\n"
          ]
        },
        {
          "name": "stderr",
          "output_type": "stream",
          "text": [
            "hoodie-train:  28%|██▊       | 114/400 [08:30<21:33,  4.52s/it]"
          ]
        },
        {
          "name": "stdout",
          "output_type": "stream",
          "text": [
            "\"is black and oversized fit\"\n",
            "/home/sejong/Desktop/junseok/SPRC/musinsa/snap/men/hoodie/bc515060cbdc468a9dab7b058ab2c87d.jpg /home/sejong/Desktop/junseok/SPRC/musinsa/goods/men/hoodie/[무료반품] 솔로 스우시 풀집 후디 M - 다크 그레이 헤더_화이트 _ DR0404-063.jpg\n"
          ]
        },
        {
          "name": "stderr",
          "output_type": "stream",
          "text": [
            "hoodie-train:  29%|██▉       | 115/400 [08:33<19:51,  4.18s/it]"
          ]
        },
        {
          "name": "stdout",
          "output_type": "stream",
          "text": [
            "\"is gray and oversized fit\"\n",
            "/home/sejong/Desktop/junseok/SPRC/musinsa/snap/men/hoodie/becbce2c521a4551b297862736a343e0.jpg /home/sejong/Desktop/junseok/SPRC/musinsa/goods/men/hoodie/레더 라벨 후드집업 자켓 웨스턴.jpg\n"
          ]
        },
        {
          "name": "stderr",
          "output_type": "stream",
          "text": [
            "hoodie-train:  29%|██▉       | 116/400 [08:36<18:04,  3.82s/it]"
          ]
        },
        {
          "name": "stdout",
          "output_type": "stream",
          "text": [
            "\"has added graphic, is brown, and is regular length\"\n",
            "/home/sejong/Desktop/junseok/SPRC/musinsa/snap/men/hoodie/936b0bb4af98449d91067b0e557104bd.jpg /home/sejong/Desktop/junseok/SPRC/musinsa/goods/men/hoodie/[SET-UP] PINCH WASHED HOOD ZIP-UP CHARCOAL.jpg\n"
          ]
        },
        {
          "name": "stderr",
          "output_type": "stream",
          "text": [
            "hoodie-train:  29%|██▉       | 117/400 [08:39<17:23,  3.69s/it]"
          ]
        },
        {
          "name": "stdout",
          "output_type": "stream",
          "text": [
            "\"has added graphic, is gray, and is regular fit\"\n",
            "/home/sejong/Desktop/junseok/SPRC/musinsa/snap/men/hoodie/57be681a59184a1aa1b99460113b55e3.jpg /home/sejong/Desktop/junseok/SPRC/musinsa/goods/men/hoodie/YEI Logo 네오프렌  후드자켓 (그레이).jpg\n"
          ]
        },
        {
          "name": "stderr",
          "output_type": "stream",
          "text": [
            "hoodie-train:  30%|██▉       | 118/400 [08:43<17:26,  3.71s/it]"
          ]
        },
        {
          "name": "stdout",
          "output_type": "stream",
          "text": [
            "\"has added graphic, is gray, and is oversized fit\"\n",
            "/home/sejong/Desktop/junseok/SPRC/musinsa/snap/men/hoodie/438aeb24a6b646289a8db177ee8311a5.jpg /home/sejong/Desktop/junseok/SPRC/musinsa/goods/men/hoodie/VINTAGE WASHING CANVAS HOOD JUMPER_CHARCOAL.jpg\n"
          ]
        },
        {
          "name": "stderr",
          "output_type": "stream",
          "text": [
            "hoodie-train:  30%|██▉       | 119/400 [08:47<17:04,  3.65s/it]"
          ]
        },
        {
          "name": "stdout",
          "output_type": "stream",
          "text": [
            "\"is gray and oversized fit\"\n",
            "/home/sejong/Desktop/junseok/SPRC/musinsa/snap/men/hoodie/936bc89ed6b84e06a24fac44683e1a16.jpg /home/sejong/Desktop/junseok/SPRC/musinsa/goods/men/hoodie/레오파드 인양 엠브로이드 후드집업(카멜).jpg\n"
          ]
        },
        {
          "name": "stderr",
          "output_type": "stream",
          "text": [
            "hoodie-train:  30%|███       | 120/400 [08:50<17:19,  3.71s/it]"
          ]
        },
        {
          "name": "stdout",
          "output_type": "stream",
          "text": [
            "\"has added graphic, is beige, and is oversized fit\"\n",
            "/home/sejong/Desktop/junseok/SPRC/musinsa/snap/men/hoodie/list.staff_663b26687e32d.jpg /home/sejong/Desktop/junseok/SPRC/musinsa/goods/men/hoodie/Corduroy Field Jacket Black.jpg\n"
          ]
        },
        {
          "name": "stderr",
          "output_type": "stream",
          "text": [
            "hoodie-train:  30%|███       | 121/400 [08:55<19:02,  4.10s/it]"
          ]
        },
        {
          "name": "stdout",
          "output_type": "stream",
          "text": [
            "\"has no graphic and pattern, is black, and is oversized fit\"\n",
            "/home/sejong/Desktop/junseok/SPRC/musinsa/snap/men/hoodie/fda0bc95d7fd400a973829ee8c74612f.jpg /home/sejong/Desktop/junseok/SPRC/musinsa/goods/men/hoodie/에센셜 2WAY 스웨트 후드 집업 (MELANGE GRAY).jpg\n"
          ]
        },
        {
          "name": "stderr",
          "output_type": "stream",
          "text": [
            "hoodie-train:  30%|███       | 122/400 [08:59<18:41,  4.03s/it]"
          ]
        },
        {
          "name": "stdout",
          "output_type": "stream",
          "text": [
            "\"has no graphic and pattern, is gray, and is oversized fit\"\n",
            "/home/sejong/Desktop/junseok/SPRC/musinsa/snap/men/hoodie/33e8aaf637394f43b7ccb30aaa531d0e.jpg /home/sejong/Desktop/junseok/SPRC/musinsa/goods/men/hoodie/PISS OFF ST HOOD ZIP UP_PINK(IK2EFMM483A).jpg\n"
          ]
        },
        {
          "name": "stderr",
          "output_type": "stream",
          "text": [
            "hoodie-train:  31%|███       | 123/400 [09:02<17:24,  3.77s/it]"
          ]
        },
        {
          "name": "stdout",
          "output_type": "stream",
          "text": [
            "\"has a striped pattern, is pink, and is regular fit\"\n",
            "/home/sejong/Desktop/junseok/SPRC/musinsa/snap/men/hoodie/12fc25e9248548eab1081b106c1e637d.jpg /home/sejong/Desktop/junseok/SPRC/musinsa/goods/men/hoodie/스프레이 블렌드 후디 집업 (Black).jpg\n"
          ]
        },
        {
          "name": "stderr",
          "output_type": "stream",
          "text": [
            "hoodie-train:  31%|███       | 124/400 [09:06<17:02,  3.70s/it]"
          ]
        },
        {
          "name": "stdout",
          "output_type": "stream",
          "text": [
            "\"has added graphic, is black, and is regular length\"\n",
            "/home/sejong/Desktop/junseok/SPRC/musinsa/snap/men/hoodie/106a563c579e4cb8b50c69a4532dd210.jpg /home/sejong/Desktop/junseok/SPRC/musinsa/goods/men/hoodie/레터링 오버핏 후드집업 2colors.jpg\n"
          ]
        },
        {
          "name": "stderr",
          "output_type": "stream",
          "text": [
            "hoodie-train:  31%|███▏      | 125/400 [09:11<18:15,  3.98s/it]"
          ]
        },
        {
          "name": "stdout",
          "output_type": "stream",
          "text": [
            "\"is navy with regular length and oversized fit\"\n",
            "/home/sejong/Desktop/junseok/SPRC/musinsa/snap/men/hoodie/7098851c7c2c4afd8c396de227cf9fc8.jpg /home/sejong/Desktop/junseok/SPRC/musinsa/goods/men/hoodie/입으면 바로 힙스터 후드 집업 [그레이].jpg\n"
          ]
        },
        {
          "name": "stderr",
          "output_type": "stream",
          "text": [
            "hoodie-train:  32%|███▏      | 126/400 [09:16<19:30,  4.27s/it]"
          ]
        },
        {
          "name": "stdout",
          "output_type": "stream",
          "text": [
            "\"has added graphic, is gray, and regular fit\"\n",
            "/home/sejong/Desktop/junseok/SPRC/musinsa/snap/men/hoodie/list.staff_65fb85158d339.jpg /home/sejong/Desktop/junseok/SPRC/musinsa/goods/men/hoodie/[2-WAY] 프로엑팁 레글런 후드 집업 블랙.jpg\n"
          ]
        },
        {
          "name": "stderr",
          "output_type": "stream",
          "text": [
            "hoodie-train:  32%|███▏      | 127/400 [09:20<20:12,  4.44s/it]"
          ]
        },
        {
          "name": "stdout",
          "output_type": "stream",
          "text": [
            "\"has added graphic and is black with regular fit\"\n",
            "/home/sejong/Desktop/junseok/SPRC/musinsa/snap/men/hoodie/f7b447916f7d49ac9b342a085b8d2bfe.jpg /home/sejong/Desktop/junseok/SPRC/musinsa/goods/men/hoodie/[2-WAY] 스타 앤 썬 레글런 후드 집업 챠콜.jpg\n"
          ]
        },
        {
          "name": "stderr",
          "output_type": "stream",
          "text": [
            "hoodie-train:  32%|███▏      | 128/400 [09:24<19:25,  4.28s/it]"
          ]
        },
        {
          "name": "stdout",
          "output_type": "stream",
          "text": [
            "\"has added graphic, is gray, and is regular length\"\n",
            "/home/sejong/Desktop/junseok/SPRC/musinsa/snap/men/hoodie/2024043018062700000008208.jpg /home/sejong/Desktop/junseok/SPRC/musinsa/goods/men/hoodie/스탠다드 후드 스웨트 집업 - 블랙.jpg\n"
          ]
        },
        {
          "name": "stderr",
          "output_type": "stream",
          "text": [
            "hoodie-train:  32%|███▏      | 129/400 [09:28<19:03,  4.22s/it]"
          ]
        },
        {
          "name": "stdout",
          "output_type": "stream",
          "text": [
            "\"is black and oversized fit\"\n",
            "/home/sejong/Desktop/junseok/SPRC/musinsa/snap/men/hoodie/8704cde9f21444f8b35cb837f21797c3.jpg /home/sejong/Desktop/junseok/SPRC/musinsa/goods/men/hoodie/[기모] 모먼트 후드 집업_네이비.jpg\n"
          ]
        },
        {
          "name": "stderr",
          "output_type": "stream",
          "text": [
            "hoodie-train:  32%|███▎      | 130/400 [09:32<17:37,  3.92s/it]"
          ]
        },
        {
          "name": "stdout",
          "output_type": "stream",
          "text": [
            "\"has added graphic, is navy, and is oversized fit\"\n",
            "/home/sejong/Desktop/junseok/SPRC/musinsa/snap/men/hoodie/159309ff386943649f6b9a5922ee6cbd.jpg /home/sejong/Desktop/junseok/SPRC/musinsa/goods/men/hoodie/348-AFZ 무지 기모 후드 집업 화이트.jpg\n"
          ]
        },
        {
          "name": "stderr",
          "output_type": "stream",
          "text": [
            "hoodie-train:  33%|███▎      | 131/400 [09:35<16:38,  3.71s/it]"
          ]
        },
        {
          "name": "stdout",
          "output_type": "stream",
          "text": [
            "\"has no graphic and pattern, is white, and is regular length\"\n",
            "/home/sejong/Desktop/junseok/SPRC/musinsa/snap/men/hoodie/86530e97bcaf4aca95f0ba2cb24df2f0.jpg /home/sejong/Desktop/junseok/SPRC/musinsa/goods/men/hoodie/데일리 스웻 후디집업 세트.jpg\n"
          ]
        },
        {
          "name": "stderr",
          "output_type": "stream",
          "text": [
            "hoodie-train:  33%|███▎      | 132/400 [09:39<16:43,  3.75s/it]"
          ]
        },
        {
          "name": "stdout",
          "output_type": "stream",
          "text": [
            "\"has no graphic and pattern, is gray, and is oversized fit\"\n",
            "/home/sejong/Desktop/junseok/SPRC/musinsa/snap/men/hoodie/11d28c5be96d490883694dcfca81773d.jpg /home/sejong/Desktop/junseok/SPRC/musinsa/goods/men/hoodie/SYMBOL M&S HOODED ZIP-UP - BLACK.jpg\n"
          ]
        },
        {
          "name": "stderr",
          "output_type": "stream",
          "text": [
            "hoodie-train:  33%|███▎      | 133/400 [09:43<16:58,  3.82s/it]"
          ]
        },
        {
          "name": "stdout",
          "output_type": "stream",
          "text": [
            "\"has added graphic, is black, and is regular length\"\n",
            "/home/sejong/Desktop/junseok/SPRC/musinsa/snap/men/hoodie/list.staff_66288e59c30af.jpg /home/sejong/Desktop/junseok/SPRC/musinsa/goods/men/hoodie/3STAR HALFTONE SYMBOL ZIP HOODIE_BROWN(NG2DFUM486A).jpg\n"
          ]
        },
        {
          "name": "stderr",
          "output_type": "stream",
          "text": [
            "hoodie-train:  34%|███▎      | 134/400 [09:47<17:31,  3.95s/it]"
          ]
        },
        {
          "name": "stdout",
          "output_type": "stream",
          "text": [
            "\"has added graphic, is brown, and is oversized fit\"\n",
            "/home/sejong/Desktop/junseok/SPRC/musinsa/snap/men/hoodie/25ee6659dd764803ab2000a5eb21046c.jpg /home/sejong/Desktop/junseok/SPRC/musinsa/goods/men/hoodie/프리덤 레터링 후드집업 (멜란지).jpg\n"
          ]
        },
        {
          "name": "stderr",
          "output_type": "stream",
          "text": [
            "hoodie-train:  34%|███▍      | 135/400 [09:49<15:32,  3.52s/it]"
          ]
        },
        {
          "name": "stdout",
          "output_type": "stream",
          "text": [
            "\"has added graphic, is gray, and is regular fit\"\n",
            "/home/sejong/Desktop/junseok/SPRC/musinsa/snap/men/hoodie/f862e154b9e14ea6b9a7b4c5b367fbb3.jpg /home/sejong/Desktop/junseok/SPRC/musinsa/goods/men/hoodie/프리덤 레터링 후드집업 (블랙).jpg\n"
          ]
        },
        {
          "name": "stderr",
          "output_type": "stream",
          "text": [
            "hoodie-train:  34%|███▍      | 136/400 [09:52<14:49,  3.37s/it]"
          ]
        },
        {
          "name": "stdout",
          "output_type": "stream",
          "text": [
            "\"has added graphic, is black, and is regular fit\"\n",
            "/home/sejong/Desktop/junseok/SPRC/musinsa/snap/men/hoodie/01b3f016698f462eb089d418b76d52cf.jpg /home/sejong/Desktop/junseok/SPRC/musinsa/goods/men/hoodie/컴포트 후디 집업 니트(네이비_그레이).jpg\n"
          ]
        },
        {
          "name": "stderr",
          "output_type": "stream",
          "text": [
            "hoodie-train:  34%|███▍      | 137/400 [09:57<16:31,  3.77s/it]"
          ]
        },
        {
          "name": "stdout",
          "output_type": "stream",
          "text": [
            "\"has no graphic and pattern, is gray, and is regular length\"\n",
            "/home/sejong/Desktop/junseok/SPRC/musinsa/snap/men/hoodie/0cef001a057745e996cb649d17f7ba78.jpg /home/sejong/Desktop/junseok/SPRC/musinsa/goods/men/hoodie/피그먼트 다잉 후드 집업 차콜.jpg\n"
          ]
        },
        {
          "name": "stderr",
          "output_type": "stream",
          "text": [
            "hoodie-train:  34%|███▍      | 138/400 [10:01<16:17,  3.73s/it]"
          ]
        },
        {
          "name": "stdout",
          "output_type": "stream",
          "text": [
            "\"has no graphic and pattern, is gray, and is regular fit\"\n",
            "/home/sejong/Desktop/junseok/SPRC/musinsa/snap/men/hoodie/6fd9ba19304149bcaec40a2d89d4af92.jpg /home/sejong/Desktop/junseok/SPRC/musinsa/goods/men/hoodie/아일렛 페이스 풀 집업 후드티 (블랙).jpg\n"
          ]
        },
        {
          "name": "stderr",
          "output_type": "stream",
          "text": [
            "hoodie-train:  35%|███▍      | 139/400 [10:05<17:27,  4.01s/it]"
          ]
        },
        {
          "name": "stdout",
          "output_type": "stream",
          "text": [
            "\"has added graphic, is black, and is regular fit\"\n",
            "/home/sejong/Desktop/junseok/SPRC/musinsa/snap/men/hoodie/1d96c1900be6461099e76334b5c13b62.jpg /home/sejong/Desktop/junseok/SPRC/musinsa/goods/men/hoodie/WASHING DENIM SNAP HOOD BLACK.jpg\n"
          ]
        },
        {
          "name": "stderr",
          "output_type": "stream",
          "text": [
            "hoodie-train:  35%|███▌      | 140/400 [10:10<17:42,  4.08s/it]"
          ]
        },
        {
          "name": "stdout",
          "output_type": "stream",
          "text": [
            "\"has added graphic, is gray, and is oversized fit\"\n",
            "/home/sejong/Desktop/junseok/SPRC/musinsa/snap/men/hoodie/5f3fd846b3724401b15103bb63384b25.jpg /home/sejong/Desktop/junseok/SPRC/musinsa/goods/men/hoodie/피그먼트 다잉 아치로고 후드집업 Faded Gray.jpg\n"
          ]
        },
        {
          "name": "stderr",
          "output_type": "stream",
          "text": [
            "hoodie-train:  35%|███▌      | 141/400 [10:13<16:31,  3.83s/it]"
          ]
        },
        {
          "name": "stdout",
          "output_type": "stream",
          "text": [
            "\"has added graphic, is gray, and is oversized fit\"\n",
            "/home/sejong/Desktop/junseok/SPRC/musinsa/snap/men/hoodie/a0b502889fab46caac12bbda6ccdc14c.jpg /home/sejong/Desktop/junseok/SPRC/musinsa/goods/men/hoodie/포레스트 숏 후드 집업 _ 메란지.jpg\n"
          ]
        },
        {
          "name": "stderr",
          "output_type": "stream",
          "text": [
            "hoodie-train:  36%|███▌      | 142/400 [10:16<15:25,  3.59s/it]"
          ]
        },
        {
          "name": "stdout",
          "output_type": "stream",
          "text": [
            "\"is gray and regular length\"\n",
            "/home/sejong/Desktop/junseok/SPRC/musinsa/snap/men/hoodie/135be5e9028f4d6789f9bca61b9f1e76.jpg /home/sejong/Desktop/junseok/SPRC/musinsa/goods/men/hoodie/G&C STAR VINTAGE HOOD ZIP UP_GREY(IK2ESMM483A).jpg\n"
          ]
        },
        {
          "name": "stderr",
          "output_type": "stream",
          "text": [
            "hoodie-train:  36%|███▌      | 143/400 [10:20<15:35,  3.64s/it]"
          ]
        },
        {
          "name": "stdout",
          "output_type": "stream",
          "text": [
            "\"has added graphic, is gray, and is regular fit\"\n",
            "/home/sejong/Desktop/junseok/SPRC/musinsa/snap/men/hoodie/1d96c1900be6461099e76334b5c13b62.jpg /home/sejong/Desktop/junseok/SPRC/musinsa/goods/men/hoodie/Symbol Logo Zip Hoodie - Black.jpg\n"
          ]
        },
        {
          "name": "stderr",
          "output_type": "stream",
          "text": [
            "hoodie-train:  36%|███▌      | 144/400 [10:23<14:34,  3.42s/it]"
          ]
        },
        {
          "name": "stdout",
          "output_type": "stream",
          "text": [
            "\"has added graphic, is black, and is oversized fit\"\n",
            "/home/sejong/Desktop/junseok/SPRC/musinsa/snap/men/hoodie/192f48fe41f645098b04129ff3bb7193.jpg /home/sejong/Desktop/junseok/SPRC/musinsa/goods/men/hoodie/아치 디렉션 후드 집업 BLACK (MN9TU964-076).jpg\n"
          ]
        },
        {
          "name": "stderr",
          "output_type": "stream",
          "text": [
            "hoodie-train:  36%|███▋      | 145/400 [10:26<14:41,  3.46s/it]"
          ]
        },
        {
          "name": "stdout",
          "output_type": "stream",
          "text": [
            "\"has added graphic, is black, and is oversized fit\"\n",
            "/home/sejong/Desktop/junseok/SPRC/musinsa/snap/men/hoodie/c50068ed7ad94868bbeeac2396a8eecd.jpg /home/sejong/Desktop/junseok/SPRC/musinsa/goods/men/hoodie/에센셜 2WAY 스웨트 후드 집업 (MELANGE GRAY).jpg\n"
          ]
        },
        {
          "name": "stderr",
          "output_type": "stream",
          "text": [
            "hoodie-train:  36%|███▋      | 146/400 [10:30<14:36,  3.45s/it]"
          ]
        },
        {
          "name": "stdout",
          "output_type": "stream",
          "text": [
            "\"has added graphic, is gray, and is regular fit\"\n",
            "/home/sejong/Desktop/junseok/SPRC/musinsa/snap/men/hoodie/list.staff_660d0bb37d751.jpg /home/sejong/Desktop/junseok/SPRC/musinsa/goods/men/hoodie/심볼 스톤 피그먼트 후드 집 업-블랙.jpg\n"
          ]
        },
        {
          "name": "stderr",
          "output_type": "stream",
          "text": [
            "hoodie-train:  37%|███▋      | 147/400 [10:33<14:26,  3.42s/it]"
          ]
        },
        {
          "name": "stdout",
          "output_type": "stream",
          "text": [
            "\"has added graphic, is black, and is oversized fit\"\n",
            "/home/sejong/Desktop/junseok/SPRC/musinsa/snap/men/hoodie/7dd3c79cdb424c2b8f659d9cbcc18e50.jpg /home/sejong/Desktop/junseok/SPRC/musinsa/goods/men/hoodie/테오 코튼 올 데이 후드 집업 브라운.jpg\n"
          ]
        },
        {
          "name": "stderr",
          "output_type": "stream",
          "text": [
            "hoodie-train:  37%|███▋      | 148/400 [10:39<17:26,  4.15s/it]"
          ]
        },
        {
          "name": "stdout",
          "output_type": "stream",
          "text": [
            "\"has no graphic and is gray and regular length\"\n",
            "/home/sejong/Desktop/junseok/SPRC/musinsa/snap/men/hoodie/2024041119165800000078039.jpg /home/sejong/Desktop/junseok/SPRC/musinsa/goods/men/hoodie/Silky Boa Wing logo Hoodie Zip-up_Navy.jpg\n"
          ]
        },
        {
          "name": "stderr",
          "output_type": "stream",
          "text": [
            "hoodie-train:  37%|███▋      | 149/400 [10:42<15:37,  3.74s/it]"
          ]
        },
        {
          "name": "stdout",
          "output_type": "stream",
          "text": [
            "\"has added graphic, is navy, and is regular length\"\n",
            "/home/sejong/Desktop/junseok/SPRC/musinsa/snap/men/hoodie/564db9f68b8c4209b8c1e5f48fe7d61b.jpg /home/sejong/Desktop/junseok/SPRC/musinsa/goods/men/hoodie/[무료반품] B. 코듀로이 니트 루즈핏 후드집업.jpg\n"
          ]
        },
        {
          "name": "stderr",
          "output_type": "stream",
          "text": [
            "hoodie-train:  38%|███▊      | 150/400 [10:48<19:27,  4.67s/it]"
          ]
        },
        {
          "name": "stdout",
          "output_type": "stream",
          "text": [
            "\"is gray and oversized fit\"\n",
            "/home/sejong/Desktop/junseok/SPRC/musinsa/snap/men/hoodie/2d93c30c5e0348bfa6afa1ddd4108264.jpg /home/sejong/Desktop/junseok/SPRC/musinsa/goods/men/hoodie/CGP 아치 로고 후드 집업_다크그레이.jpg\n"
          ]
        },
        {
          "name": "stderr",
          "output_type": "stream",
          "text": [
            "hoodie-train:  38%|███▊      | 151/400 [10:52<17:59,  4.34s/it]"
          ]
        },
        {
          "name": "stdout",
          "output_type": "stream",
          "text": [
            "\"has added graphic, is gray, and is oversized fit\"\n",
            "/home/sejong/Desktop/junseok/SPRC/musinsa/snap/men/hoodie/936bc89ed6b84e06a24fac44683e1a16.jpg /home/sejong/Desktop/junseok/SPRC/musinsa/goods/men/hoodie/TCM snow waffle hooded zip-up (navy).jpg\n"
          ]
        },
        {
          "name": "stderr",
          "output_type": "stream",
          "text": [
            "hoodie-train:  38%|███▊      | 152/400 [10:55<16:52,  4.08s/it]"
          ]
        },
        {
          "name": "stdout",
          "output_type": "stream",
          "text": [
            "\"has added graphic, is navy, and is regular length with oversized fit\"\n",
            "/home/sejong/Desktop/junseok/SPRC/musinsa/snap/men/hoodie/d5803a7dc3de4b729c0f1c4e419a711d.jpg /home/sejong/Desktop/junseok/SPRC/musinsa/goods/men/hoodie/[승관 PICK] [우먼즈] 크롭 스타테일 후드집업_오트밀.jpg\n"
          ]
        },
        {
          "name": "stderr",
          "output_type": "stream",
          "text": [
            "hoodie-train:  38%|███▊      | 153/400 [10:59<15:40,  3.81s/it]"
          ]
        },
        {
          "name": "stdout",
          "output_type": "stream",
          "text": [
            "\"has added graphic, is gray, and is cropped length\"\n",
            "/home/sejong/Desktop/junseok/SPRC/musinsa/snap/men/hoodie/d1b509e7490f495fa6c62faf184d4e90.jpg /home/sejong/Desktop/junseok/SPRC/musinsa/goods/men/hoodie/SMILE cotton hoodie Zip-Up [pigment black].jpg\n"
          ]
        },
        {
          "name": "stderr",
          "output_type": "stream",
          "text": [
            "hoodie-train:  38%|███▊      | 154/400 [11:02<15:11,  3.71s/it]"
          ]
        },
        {
          "name": "stdout",
          "output_type": "stream",
          "text": [
            "\"is black and oversized fit\"\n",
            "/home/sejong/Desktop/junseok/SPRC/musinsa/snap/men/hoodie/7652aef732da42328d8a23aa430abecb.jpg /home/sejong/Desktop/junseok/SPRC/musinsa/goods/men/hoodie/메테오 디어 피그먼트 후드집업 딥그레이 SJHD1449.jpg\n"
          ]
        },
        {
          "name": "stderr",
          "output_type": "stream",
          "text": [
            "hoodie-train:  39%|███▉      | 155/400 [11:06<14:51,  3.64s/it]"
          ]
        },
        {
          "name": "stdout",
          "output_type": "stream",
          "text": [
            "\"is black, is regular length, and is oversized fit\"\n",
            "/home/sejong/Desktop/junseok/SPRC/musinsa/snap/men/hoodie/2024041119165800000078039.jpg /home/sejong/Desktop/junseok/SPRC/musinsa/goods/men/hoodie/TAG HOOD ZIP-UP - BLACK.jpg\n"
          ]
        },
        {
          "name": "stderr",
          "output_type": "stream",
          "text": [
            "hoodie-train:  39%|███▉      | 156/400 [11:09<14:04,  3.46s/it]"
          ]
        },
        {
          "name": "stdout",
          "output_type": "stream",
          "text": [
            "\"is black and regular length with regular fit\"\n",
            "/home/sejong/Desktop/junseok/SPRC/musinsa/snap/men/hoodie/afa91ddb00cb48048cc0a638893471f2.jpg /home/sejong/Desktop/junseok/SPRC/musinsa/goods/men/hoodie/스몰 어센틱 후디 집업 멜란지 그레이.jpg\n"
          ]
        },
        {
          "name": "stderr",
          "output_type": "stream",
          "text": [
            "hoodie-train:  39%|███▉      | 157/400 [11:12<14:22,  3.55s/it]"
          ]
        },
        {
          "name": "stdout",
          "output_type": "stream",
          "text": [
            "\"is gray\"\n",
            "/home/sejong/Desktop/junseok/SPRC/musinsa/snap/men/hoodie/d1b509e7490f495fa6c62faf184d4e90.jpg /home/sejong/Desktop/junseok/SPRC/musinsa/goods/men/hoodie/코듀로이 카고 셋업 퍼플.jpg\n"
          ]
        },
        {
          "name": "stderr",
          "output_type": "stream",
          "text": [
            "hoodie-train:  40%|███▉      | 158/400 [11:17<15:06,  3.75s/it]"
          ]
        },
        {
          "name": "stdout",
          "output_type": "stream",
          "text": [
            "\"has added graphic, is purple, and is oversized fit\"\n",
            "/home/sejong/Desktop/junseok/SPRC/musinsa/snap/men/hoodie/4ed5f00ead73417fb0f006a33896525d.jpg /home/sejong/Desktop/junseok/SPRC/musinsa/goods/men/hoodie/데일리 스탠다드 후드 집업 블랙.jpg\n"
          ]
        },
        {
          "name": "stderr",
          "output_type": "stream",
          "text": [
            "hoodie-train:  40%|███▉      | 159/400 [11:21<15:26,  3.84s/it]"
          ]
        },
        {
          "name": "stdout",
          "output_type": "stream",
          "text": [
            "\"is black and oversized fit\"\n",
            "/home/sejong/Desktop/junseok/SPRC/musinsa/snap/men/hoodie/103c4975adf8472380ff99ab90d58c3e.jpg /home/sejong/Desktop/junseok/SPRC/musinsa/goods/men/hoodie/백로고 스쿠바 후드 집업 BLACK.jpg\n"
          ]
        },
        {
          "name": "stderr",
          "output_type": "stream",
          "text": [
            "hoodie-train:  40%|████      | 160/400 [11:24<14:42,  3.68s/it]"
          ]
        },
        {
          "name": "stdout",
          "output_type": "stream",
          "text": [
            "\"has added graphic, is black, and is regular fit\"\n",
            "/home/sejong/Desktop/junseok/SPRC/musinsa/snap/men/hoodie/2024031913210400000015590.jpg /home/sejong/Desktop/junseok/SPRC/musinsa/goods/men/hoodie/950G 스톤 워싱 후드 집업-워시드 블랙-.jpg\n"
          ]
        },
        {
          "name": "stderr",
          "output_type": "stream",
          "text": [
            "hoodie-train:  40%|████      | 161/400 [11:27<13:56,  3.50s/it]"
          ]
        },
        {
          "name": "stdout",
          "output_type": "stream",
          "text": [
            "\"has no graphic and pattern, is gray, and is oversized fit\"\n",
            "/home/sejong/Desktop/junseok/SPRC/musinsa/snap/men/hoodie/c2b772f7f5c5486d9653198961086788.jpg /home/sejong/Desktop/junseok/SPRC/musinsa/goods/men/hoodie/4 Worshippers Oxford Hooded Work Jacket - Pink.jpg\n"
          ]
        },
        {
          "name": "stderr",
          "output_type": "stream",
          "text": [
            "hoodie-train:  40%|████      | 162/400 [11:32<15:48,  3.98s/it]"
          ]
        },
        {
          "name": "stdout",
          "output_type": "stream",
          "text": [
            "\"has added graphic, is burgundy, and is oversized fit\"\n",
            "/home/sejong/Desktop/junseok/SPRC/musinsa/snap/men/hoodie/list.staff_6628629ef282d.jpg /home/sejong/Desktop/junseok/SPRC/musinsa/goods/men/hoodie/3STAR LOGO ZIP HOODIE_BURGUNDY(NG2ESUM480A).jpg\n"
          ]
        },
        {
          "name": "stderr",
          "output_type": "stream",
          "text": [
            "hoodie-train:  41%|████      | 163/400 [11:35<14:55,  3.78s/it]"
          ]
        },
        {
          "name": "stdout",
          "output_type": "stream",
          "text": [
            "\"has added graphic, is maroon, and is oversized fit\"\n",
            "/home/sejong/Desktop/junseok/SPRC/musinsa/snap/men/hoodie/86f2413a46994e3a97f5f384aaa7c9e1.jpg /home/sejong/Desktop/junseok/SPRC/musinsa/goods/men/hoodie/Faded Zip Up Hoodie Navy.jpg\n"
          ]
        },
        {
          "name": "stderr",
          "output_type": "stream",
          "text": [
            "hoodie-train:  41%|████      | 164/400 [11:39<14:15,  3.63s/it]"
          ]
        },
        {
          "name": "stdout",
          "output_type": "stream",
          "text": [
            "\"has added graphic, is navy, and regular fit\"\n",
            "/home/sejong/Desktop/junseok/SPRC/musinsa/snap/men/hoodie/722b68ae74d84830a18e0badaa769a89.jpg /home/sejong/Desktop/junseok/SPRC/musinsa/goods/men/hoodie/REWORK VINTAGE HOOD JACKET (BROWN).jpg\n"
          ]
        },
        {
          "name": "stderr",
          "output_type": "stream",
          "text": [
            "hoodie-train:  41%|████▏     | 165/400 [11:42<13:59,  3.57s/it]"
          ]
        },
        {
          "name": "stdout",
          "output_type": "stream",
          "text": [
            "\"has added graphic, is gray, and is regular length\"\n",
            "/home/sejong/Desktop/junseok/SPRC/musinsa/snap/men/hoodie/5369d4d89ce24ed195752b449361dad7.jpg /home/sejong/Desktop/junseok/SPRC/musinsa/goods/men/hoodie/링크 후드 집업 자켓_S251001HFJ33_BLK.jpg\n"
          ]
        },
        {
          "name": "stderr",
          "output_type": "stream",
          "text": [
            "hoodie-train:  42%|████▏     | 166/400 [11:45<13:24,  3.44s/it]"
          ]
        },
        {
          "name": "stdout",
          "output_type": "stream",
          "text": [
            "\"has added graphic, is black, and is regular fit\"\n",
            "/home/sejong/Desktop/junseok/SPRC/musinsa/snap/men/hoodie/2fa55166afb6429c921885fa306003a9.jpg /home/sejong/Desktop/junseok/SPRC/musinsa/goods/men/hoodie/YEI  네오프렌  후드자켓 그레이).jpg\n"
          ]
        },
        {
          "name": "stderr",
          "output_type": "stream",
          "text": [
            "hoodie-train:  42%|████▏     | 167/400 [11:49<13:08,  3.39s/it]"
          ]
        },
        {
          "name": "stdout",
          "output_type": "stream",
          "text": [
            "\"is gray and oversized fit\"\n",
            "/home/sejong/Desktop/junseok/SPRC/musinsa/snap/men/hoodie/list.staff_664309d381896.jpg /home/sejong/Desktop/junseok/SPRC/musinsa/goods/men/hoodie/스몰 스크립트 로고 후드 집업 Normal Grey.jpg\n"
          ]
        },
        {
          "name": "stderr",
          "output_type": "stream",
          "text": [
            "hoodie-train:  42%|████▏     | 168/400 [11:52<13:08,  3.40s/it]"
          ]
        },
        {
          "name": "stdout",
          "output_type": "stream",
          "text": [
            "\"has no graphic and pattern, is gray, and is regular fit\"\n",
            "/home/sejong/Desktop/junseok/SPRC/musinsa/snap/men/hoodie/list.staff_660e1753ec0bb.jpg /home/sejong/Desktop/junseok/SPRC/musinsa/goods/men/hoodie/울 브러쉬 케이블 투웨이 후드 집업 니트_블랙.jpg\n"
          ]
        },
        {
          "name": "stderr",
          "output_type": "stream",
          "text": [
            "hoodie-train:  42%|████▏     | 169/400 [11:56<13:38,  3.54s/it]"
          ]
        },
        {
          "name": "stdout",
          "output_type": "stream",
          "text": [
            "\"is black and oversized fit\"\n",
            "/home/sejong/Desktop/junseok/SPRC/musinsa/snap/men/hoodie/41fdfcf6b72a4f0cae38cc6fe70e4185.jpg /home/sejong/Desktop/junseok/SPRC/musinsa/goods/men/hoodie/오버사이즈 폴라 플리스 후디드 집업 [미디엄 그레이].jpg\n"
          ]
        },
        {
          "name": "stderr",
          "output_type": "stream",
          "text": [
            "hoodie-train:  42%|████▎     | 170/400 [12:00<14:25,  3.76s/it]"
          ]
        },
        {
          "name": "stdout",
          "output_type": "stream",
          "text": [
            "\"has added graphic, is gray, and is oversized fit\"\n",
            "/home/sejong/Desktop/junseok/SPRC/musinsa/snap/men/hoodie/4ef89c6219ef413a94b0f45bbb885395.jpg /home/sejong/Desktop/junseok/SPRC/musinsa/goods/men/hoodie/4바 엔지니어드 저지 집업 후드 - 네이비 _ MJT022H00535461.jpg\n"
          ]
        },
        {
          "name": "stderr",
          "output_type": "stream",
          "text": [
            "hoodie-train:  43%|████▎     | 171/400 [12:05<16:00,  4.19s/it]"
          ]
        },
        {
          "name": "stdout",
          "output_type": "stream",
          "text": [
            "\"has added graphic, is navy, and is regular length\"\n",
            "/home/sejong/Desktop/junseok/SPRC/musinsa/snap/men/hoodie/2619fbed4fda4778ac82daf9ad2bce46.jpg /home/sejong/Desktop/junseok/SPRC/musinsa/goods/men/hoodie/[LG트윈스] 빅 로고 아플리케 후드 집업_오트베이지.jpg\n"
          ]
        },
        {
          "name": "stderr",
          "output_type": "stream",
          "text": [
            "hoodie-train:  43%|████▎     | 172/400 [12:08<14:38,  3.85s/it]"
          ]
        },
        {
          "name": "stdout",
          "output_type": "stream",
          "text": [
            "\"has added graphic, is gray, and is oversized fit\"\n",
            "/home/sejong/Desktop/junseok/SPRC/musinsa/snap/men/hoodie/5fe4dd7ec3a54e91916835059a049b9e.jpg /home/sejong/Desktop/junseok/SPRC/musinsa/goods/men/hoodie/2-WAY  클럽 로고 배색 후드 집업 [GRAY]_SEJK009GRAY.jpg\n"
          ]
        },
        {
          "name": "stderr",
          "output_type": "stream",
          "text": [
            "hoodie-train:  43%|████▎     | 173/400 [12:12<13:42,  3.62s/it]"
          ]
        },
        {
          "name": "stdout",
          "output_type": "stream",
          "text": [
            "\"has added graphic, is gray, and is regular length\"\n",
            "/home/sejong/Desktop/junseok/SPRC/musinsa/snap/men/hoodie/2024043018320800000089082.jpg /home/sejong/Desktop/junseok/SPRC/musinsa/goods/men/hoodie/헤비 워크 후드 자켓-블랙.jpg\n"
          ]
        },
        {
          "name": "stderr",
          "output_type": "stream",
          "text": [
            "hoodie-train:  44%|████▎     | 174/400 [12:14<12:52,  3.42s/it]"
          ]
        },
        {
          "name": "stdout",
          "output_type": "stream",
          "text": [
            "\"is black and regular length with oversized fit\"\n",
            "/home/sejong/Desktop/junseok/SPRC/musinsa/snap/men/hoodie/843b0ca13e324addb9cafdee0349213f.jpg /home/sejong/Desktop/junseok/SPRC/musinsa/goods/men/hoodie/17.5 oz Terry Cloth 2Way Zip-Up Hoodie Kr Ver. Grey.jpg\n"
          ]
        },
        {
          "name": "stderr",
          "output_type": "stream",
          "text": [
            "hoodie-train:  44%|████▍     | 175/400 [12:17<12:11,  3.25s/it]"
          ]
        },
        {
          "name": "stdout",
          "output_type": "stream",
          "text": [
            "\"is gray and oversized fit\"\n",
            "/home/sejong/Desktop/junseok/SPRC/musinsa/snap/men/hoodie/621e982b14f149aa8490a565b91ced83.jpg /home/sejong/Desktop/junseok/SPRC/musinsa/goods/men/hoodie/테오 패디드 후드 집업 스카이 블루.jpg\n"
          ]
        },
        {
          "name": "stderr",
          "output_type": "stream",
          "text": [
            "hoodie-train:  44%|████▍     | 176/400 [12:22<13:20,  3.57s/it]"
          ]
        },
        {
          "name": "stdout",
          "output_type": "stream",
          "text": [
            "\"has no graphic and pattern, is blue, and is oversized fit\"\n",
            "/home/sejong/Desktop/junseok/SPRC/musinsa/snap/men/hoodie/931daca2a53342c799c68ac89621355d.jpg /home/sejong/Desktop/junseok/SPRC/musinsa/goods/men/hoodie/루즈 벌룬 후디드 스웨트 집업 [미디엄 그레이].jpg\n"
          ]
        },
        {
          "name": "stderr",
          "output_type": "stream",
          "text": [
            "hoodie-train:  44%|████▍     | 177/400 [12:26<13:43,  3.69s/it]"
          ]
        },
        {
          "name": "stdout",
          "output_type": "stream",
          "text": [
            "\"has no graphic and pattern, is gray, and is oversized fit\"\n",
            "/home/sejong/Desktop/junseok/SPRC/musinsa/snap/men/hoodie/55d887a170c94a3482ff7c5ccc61fb3d.jpg /home/sejong/Desktop/junseok/SPRC/musinsa/goods/men/hoodie/이스케이프 그린 하트비트 프린트 투웨이 후드집업 블랙.jpg\n"
          ]
        },
        {
          "name": "stderr",
          "output_type": "stream",
          "text": [
            "hoodie-train:  44%|████▍     | 178/400 [12:29<13:17,  3.59s/it]"
          ]
        },
        {
          "name": "stdout",
          "output_type": "stream",
          "text": [
            "\"has added graphic, is black, and is regular fit\"\n",
            "/home/sejong/Desktop/junseok/SPRC/musinsa/snap/men/hoodie/2fa55166afb6429c921885fa306003a9.jpg /home/sejong/Desktop/junseok/SPRC/musinsa/goods/men/hoodie/[무료반품] FLEECE CAMO HOODIE ZIP-UP [BLACK].jpg\n"
          ]
        },
        {
          "name": "stderr",
          "output_type": "stream",
          "text": [
            "hoodie-train:  45%|████▍     | 179/400 [12:31<11:44,  3.19s/it]"
          ]
        },
        {
          "name": "stdout",
          "output_type": "stream",
          "text": [
            "\"is black and has added graphic\"\n",
            "/home/sejong/Desktop/junseok/SPRC/musinsa/snap/men/hoodie/01b3f016698f462eb089d418b76d52cf.jpg /home/sejong/Desktop/junseok/SPRC/musinsa/goods/men/hoodie/SKULL RIBBON WAFFLE HOODIE ZIP UP_BLACK(NG2EFUM482A).jpg\n"
          ]
        },
        {
          "name": "stderr",
          "output_type": "stream",
          "text": [
            "hoodie-train:  45%|████▌     | 180/400 [12:36<13:00,  3.55s/it]"
          ]
        },
        {
          "name": "stdout",
          "output_type": "stream",
          "text": [
            "\"has added graphic, is black, and is regular fit\"\n",
            "/home/sejong/Desktop/junseok/SPRC/musinsa/snap/men/hoodie/86f2413a46994e3a97f5f384aaa7c9e1.jpg /home/sejong/Desktop/junseok/SPRC/musinsa/goods/men/hoodie/자이언트핏 솔리드 후드집업 (카모카키).jpg\n"
          ]
        },
        {
          "name": "stderr",
          "output_type": "stream",
          "text": [
            "hoodie-train:  45%|████▌     | 181/400 [12:41<14:31,  3.98s/it]"
          ]
        },
        {
          "name": "stdout",
          "output_type": "stream",
          "text": [
            "\"has a camouflage pattern and is oversized fit\"\n",
            "/home/sejong/Desktop/junseok/SPRC/musinsa/snap/men/hoodie/08a1cddd398d425ea216afdd820171e9.jpg /home/sejong/Desktop/junseok/SPRC/musinsa/goods/men/hoodie/Capital Zip Up Hoodie Light Sage.jpg\n"
          ]
        },
        {
          "name": "stderr",
          "output_type": "stream",
          "text": [
            "hoodie-train:  46%|████▌     | 182/400 [12:44<14:07,  3.89s/it]"
          ]
        },
        {
          "name": "stdout",
          "output_type": "stream",
          "text": [
            "\"has added graphic, is green, and is regular fit\"\n",
            "/home/sejong/Desktop/junseok/SPRC/musinsa/snap/men/hoodie/51780d10351246938af41ff83256c75a.jpg /home/sejong/Desktop/junseok/SPRC/musinsa/goods/men/hoodie/[2-WAY] 피크 스타 피그먼트 후드 집업 스모크블랙.jpg\n"
          ]
        },
        {
          "name": "stderr",
          "output_type": "stream",
          "text": [
            "hoodie-train:  46%|████▌     | 183/400 [12:48<13:52,  3.84s/it]"
          ]
        },
        {
          "name": "stdout",
          "output_type": "stream",
          "text": [
            "\"has added graphic, is gray, and is oversized fit\"\n",
            "/home/sejong/Desktop/junseok/SPRC/musinsa/snap/men/hoodie/73a158aabd274c8c958afd486428f65a.jpg /home/sejong/Desktop/junseok/SPRC/musinsa/goods/men/hoodie/OPYD LOGO HOODIE ZIP UP-BLACK.jpg\n"
          ]
        },
        {
          "name": "stderr",
          "output_type": "stream",
          "text": [
            "hoodie-train:  46%|████▌     | 184/400 [12:51<13:28,  3.74s/it]"
          ]
        },
        {
          "name": "stdout",
          "output_type": "stream",
          "text": [
            "\"has added graphic, is black, and is oversized fit\"\n",
            "/home/sejong/Desktop/junseok/SPRC/musinsa/snap/men/hoodie/954cc456825a445e9dd0352d01ebadc4.jpg /home/sejong/Desktop/junseok/SPRC/musinsa/goods/men/hoodie/OG PIGMENT DYEING HOOD ZIPUP PARKA _ BRICK.jpg\n"
          ]
        },
        {
          "name": "stderr",
          "output_type": "stream",
          "text": [
            "hoodie-train:  46%|████▋     | 185/400 [12:59<17:19,  4.83s/it]"
          ]
        },
        {
          "name": "stdout",
          "output_type": "stream",
          "text": [
            "\"has no graphic and pattern, is brown, and is oversized fit\"\n",
            "/home/sejong/Desktop/junseok/SPRC/musinsa/snap/men/hoodie/06128e5dd77d452a9da0450fdb3f784c.jpg /home/sejong/Desktop/junseok/SPRC/musinsa/goods/men/hoodie/Vintage Pigment Zip-Up Hoodie [LIGHT KHAKI].jpg\n"
          ]
        },
        {
          "name": "stderr",
          "output_type": "stream",
          "text": [
            "hoodie-train:  46%|████▋     | 186/400 [13:02<15:45,  4.42s/it]"
          ]
        },
        {
          "name": "stdout",
          "output_type": "stream",
          "text": [
            "\"has no graphic and pattern, is gray, and is oversized fit\"\n",
            "/home/sejong/Desktop/junseok/SPRC/musinsa/snap/men/hoodie/557411e7ee11431891277d023f6f6f54.jpg /home/sejong/Desktop/junseok/SPRC/musinsa/goods/men/hoodie/사이드 라인 후드 집업[BLACK](UY2GD03_39).jpg\n"
          ]
        },
        {
          "name": "stderr",
          "output_type": "stream",
          "text": [
            "hoodie-train:  47%|████▋     | 187/400 [13:05<13:51,  3.90s/it]"
          ]
        },
        {
          "name": "stdout",
          "output_type": "stream",
          "text": [
            "\"has added graphic, is black, and is regular fit\"\n",
            "/home/sejong/Desktop/junseok/SPRC/musinsa/snap/men/hoodie/a44e597ff90249e7991e4dc1def15fc9.jpg /home/sejong/Desktop/junseok/SPRC/musinsa/goods/men/hoodie/129 로고 패치 후드 집업 크림.jpg\n"
          ]
        },
        {
          "name": "stderr",
          "output_type": "stream",
          "text": [
            "hoodie-train:  47%|████▋     | 188/400 [13:08<12:55,  3.66s/it]"
          ]
        },
        {
          "name": "stdout",
          "output_type": "stream",
          "text": [
            "\"has added graphic, is off-white, and is regular fit\"\n",
            "/home/sejong/Desktop/junseok/SPRC/musinsa/snap/men/hoodie/list.staff_66288e59c30af.jpg /home/sejong/Desktop/junseok/SPRC/musinsa/goods/men/hoodie/DOODLE HEART REGLAN SWEAT ZIP UP HOODIE NAVY.jpg\n"
          ]
        },
        {
          "name": "stderr",
          "output_type": "stream",
          "text": [
            "hoodie-train:  47%|████▋     | 189/400 [13:13<14:13,  4.05s/it]"
          ]
        },
        {
          "name": "stdout",
          "output_type": "stream",
          "text": [
            "\"has added graphic, is navy, and is regular length\"\n",
            "/home/sejong/Desktop/junseok/SPRC/musinsa/snap/men/hoodie/3cacbc8ecd264014837b8eb3ab658db4.jpg /home/sejong/Desktop/junseok/SPRC/musinsa/goods/men/hoodie/테오 코튼 올 데이 후드 집업 브라운.jpg\n"
          ]
        },
        {
          "name": "stderr",
          "output_type": "stream",
          "text": [
            "hoodie-train:  48%|████▊     | 190/400 [13:17<14:01,  4.01s/it]"
          ]
        },
        {
          "name": "stdout",
          "output_type": "stream",
          "text": [
            "\"has no graphic and pattern, is gray, and is regular fit\"\n",
            "/home/sejong/Desktop/junseok/SPRC/musinsa/snap/men/hoodie/4fed26e63940446cba8634894f3b6512.jpg /home/sejong/Desktop/junseok/SPRC/musinsa/goods/men/hoodie/[무료반품] 백 로고 투웨이 후드 집업 남녀공용 (2컬러).jpg\n"
          ]
        },
        {
          "name": "stderr",
          "output_type": "stream",
          "text": [
            "hoodie-train:  48%|████▊     | 191/400 [13:21<13:35,  3.90s/it]"
          ]
        },
        {
          "name": "stdout",
          "output_type": "stream",
          "text": [
            "\"has added graphic, is gray, and is cropped length\"\n",
            "/home/sejong/Desktop/junseok/SPRC/musinsa/snap/men/hoodie/f11685afbab04c07b5ad92419df91e6a.jpg /home/sejong/Desktop/junseok/SPRC/musinsa/goods/men/hoodie/Overdyed Hooded Work Jacket Pigment Blue.jpg\n"
          ]
        },
        {
          "name": "stderr",
          "output_type": "stream",
          "text": [
            "hoodie-train:  48%|████▊     | 192/400 [13:25<13:41,  3.95s/it]"
          ]
        },
        {
          "name": "stdout",
          "output_type": "stream",
          "text": [
            "\"has no graphic and pattern, is blue, and is oversized fit\"\n",
            "/home/sejong/Desktop/junseok/SPRC/musinsa/snap/men/hoodie/2619fbed4fda4778ac82daf9ad2bce46.jpg /home/sejong/Desktop/junseok/SPRC/musinsa/goods/men/hoodie/[SET][MAB][후드집업+카라집업 선택]루즈핏 스웨트 셋업 라이트그레이.jpg\n"
          ]
        },
        {
          "name": "stderr",
          "output_type": "stream",
          "text": [
            "hoodie-train:  48%|████▊     | 193/400 [13:28<12:45,  3.70s/it]"
          ]
        },
        {
          "name": "stdout",
          "output_type": "stream",
          "text": [
            "\"has no graphic and pattern, is gray, and is regular fit\"\n",
            "/home/sejong/Desktop/junseok/SPRC/musinsa/snap/men/hoodie/bd26f4ff8aa74ef2a19f327537c3818b.jpg /home/sejong/Desktop/junseok/SPRC/musinsa/goods/men/hoodie/17.5 oz Terry Cloth 2Way Zip-Up Hoodie Kr Ver. Black.jpg\n"
          ]
        },
        {
          "name": "stderr",
          "output_type": "stream",
          "text": [
            "hoodie-train:  48%|████▊     | 194/400 [13:32<12:53,  3.76s/it]"
          ]
        },
        {
          "name": "stdout",
          "output_type": "stream",
          "text": [
            "\"is gray and regular length\"\n",
            "/home/sejong/Desktop/junseok/SPRC/musinsa/snap/men/hoodie/c50068ed7ad94868bbeeac2396a8eecd.jpg /home/sejong/Desktop/junseok/SPRC/musinsa/goods/men/hoodie/요가 베어 래글런 후드집업_빈티지 네이비.jpg\n"
          ]
        },
        {
          "name": "stderr",
          "output_type": "stream",
          "text": [
            "hoodie-train:  49%|████▉     | 195/400 [13:36<12:53,  3.77s/it]"
          ]
        },
        {
          "name": "stdout",
          "output_type": "stream",
          "text": [
            "\"has added graphic, is blue, and is regular fit\"\n",
            "/home/sejong/Desktop/junseok/SPRC/musinsa/snap/men/hoodie/1227f89a3fec4e879534c1f6a51cbca2.jpg /home/sejong/Desktop/junseok/SPRC/musinsa/goods/men/hoodie/GYM JACKET nature green.jpg\n"
          ]
        },
        {
          "name": "stderr",
          "output_type": "stream",
          "text": [
            "hoodie-train:  49%|████▉     | 196/400 [13:41<14:14,  4.19s/it]"
          ]
        },
        {
          "name": "stdout",
          "output_type": "stream",
          "text": [
            "\"has no graphic and pattern, is green, and is oversized fit\"\n",
            "/home/sejong/Desktop/junseok/SPRC/musinsa/snap/men/hoodie/2024041217555000000042422.jpg /home/sejong/Desktop/junseok/SPRC/musinsa/goods/men/hoodie/리페어 코튼 후드 집업 (라이트베이지.jpg\n"
          ]
        },
        {
          "name": "stderr",
          "output_type": "stream",
          "text": [
            "hoodie-train:  49%|████▉     | 197/400 [13:44<13:08,  3.88s/it]"
          ]
        },
        {
          "name": "stdout",
          "output_type": "stream",
          "text": [
            "\"has no graphic and pattern, is beige, and is oversized fit\"\n",
            "/home/sejong/Desktop/junseok/SPRC/musinsa/snap/men/hoodie/52997c948ed449258dc19e805f45ae21.jpg /home/sejong/Desktop/junseok/SPRC/musinsa/goods/men/hoodie/3STARS HATE HOODIE ZIP UP_BURGUNDY(NG2EFUM481A).jpg\n"
          ]
        },
        {
          "name": "stderr",
          "output_type": "stream",
          "text": [
            "hoodie-train:  50%|████▉     | 198/400 [13:48<13:18,  3.95s/it]"
          ]
        },
        {
          "name": "stdout",
          "output_type": "stream",
          "text": [
            "\"has added graphic, is burgundy, and is oversized fit\"\n",
            "/home/sejong/Desktop/junseok/SPRC/musinsa/snap/men/hoodie/6e07f66cc5164fb7bef7b089dd6a3e49.jpg /home/sejong/Desktop/junseok/SPRC/musinsa/goods/men/hoodie/에코퍼 후드 집업 ON4K5121.jpg\n"
          ]
        },
        {
          "name": "stderr",
          "output_type": "stream",
          "text": [
            "hoodie-train:  50%|████▉     | 199/400 [13:52<13:09,  3.93s/it]"
          ]
        },
        {
          "name": "stdout",
          "output_type": "stream",
          "text": [
            "\"is black and cropped length\"\n",
            "/home/sejong/Desktop/junseok/SPRC/musinsa/snap/men/hoodie/f14bb759a3e64cdb8adbbf393f9effef.jpg /home/sejong/Desktop/junseok/SPRC/musinsa/goods/men/hoodie/유니 스탠다드 오리지널 레터링 후드집업 블랙.jpg\n"
          ]
        },
        {
          "name": "stderr",
          "output_type": "stream",
          "text": [
            "hoodie-train:  50%|█████     | 200/400 [13:56<12:54,  3.87s/it]"
          ]
        },
        {
          "name": "stdout",
          "output_type": "stream",
          "text": [
            "\"has added graphic, is black, and is regular length\"\n",
            "/home/sejong/Desktop/junseok/SPRC/musinsa/snap/men/hoodie/68f6e6d1373a443fa8dccad5dac0e2a7.jpg /home/sejong/Desktop/junseok/SPRC/musinsa/goods/men/hoodie/DW N로고 후드집업 - 네이비.jpg\n"
          ]
        },
        {
          "name": "stderr",
          "output_type": "stream",
          "text": [
            "hoodie-train:  50%|█████     | 201/400 [14:01<13:57,  4.21s/it]"
          ]
        },
        {
          "name": "stdout",
          "output_type": "stream",
          "text": [
            "\"has added graphic, is navy, and is regular fit\"\n",
            "/home/sejong/Desktop/junseok/SPRC/musinsa/snap/men/hoodie/2e88fc5381fc45b28344835defe10e7a.jpg /home/sejong/Desktop/junseok/SPRC/musinsa/goods/men/hoodie/PISS OFF ST HOOD ZIP UP_PINK(IK2EFMM483A).jpg\n"
          ]
        },
        {
          "name": "stderr",
          "output_type": "stream",
          "text": [
            "hoodie-train:  50%|█████     | 202/400 [14:06<14:59,  4.54s/it]"
          ]
        },
        {
          "name": "stdout",
          "output_type": "stream",
          "text": [
            "\"has a striped pattern, is pink, and is regular length with regular fit\"\n",
            "/home/sejong/Desktop/junseok/SPRC/musinsa/snap/men/hoodie/7013ce1502cf4eca91ea1c4307451eb2.jpg /home/sejong/Desktop/junseok/SPRC/musinsa/goods/men/hoodie/Steve Hood Zip-up _ WHMZF2221U.jpg\n"
          ]
        },
        {
          "name": "stderr",
          "output_type": "stream",
          "text": [
            "hoodie-train:  51%|█████     | 203/400 [14:10<14:42,  4.48s/it]"
          ]
        },
        {
          "name": "stdout",
          "output_type": "stream",
          "text": [
            "\"has added graphic, is gray, and is regular fit\"\n",
            "/home/sejong/Desktop/junseok/SPRC/musinsa/snap/men/hoodie/106a563c579e4cb8b50c69a4532dd210.jpg /home/sejong/Desktop/junseok/SPRC/musinsa/goods/men/hoodie/프리덤 레터링 후드집업 (블랙).jpg\n"
          ]
        },
        {
          "name": "stderr",
          "output_type": "stream",
          "text": [
            "hoodie-train:  51%|█████     | 204/400 [14:13<13:10,  4.04s/it]"
          ]
        },
        {
          "name": "stdout",
          "output_type": "stream",
          "text": [
            "\"has added graphic, is black, and is regular fit\"\n",
            "/home/sejong/Desktop/junseok/SPRC/musinsa/snap/men/hoodie/8d627f4b6340453d990f15aaf95c85f5.jpg /home/sejong/Desktop/junseok/SPRC/musinsa/goods/men/hoodie/스몰 스타테일 후드집업_오트밀.jpg\n"
          ]
        },
        {
          "name": "stderr",
          "output_type": "stream",
          "text": [
            "hoodie-train:  51%|█████▏    | 205/400 [14:17<13:18,  4.10s/it]"
          ]
        },
        {
          "name": "stdout",
          "output_type": "stream",
          "text": [
            "\"has added graphic, is gray, and is regular fit\"\n",
            "/home/sejong/Desktop/junseok/SPRC/musinsa/snap/men/hoodie/931daca2a53342c799c68ac89621355d.jpg /home/sejong/Desktop/junseok/SPRC/musinsa/goods/men/hoodie/기모 아플리케 후드집업 23HD08.jpg\n"
          ]
        },
        {
          "name": "stderr",
          "output_type": "stream",
          "text": [
            "hoodie-train:  52%|█████▏    | 206/400 [14:22<13:33,  4.19s/it]"
          ]
        },
        {
          "name": "stdout",
          "output_type": "stream",
          "text": [
            "\"has added graphic, is gray, and regular fit\"\n",
            "/home/sejong/Desktop/junseok/SPRC/musinsa/snap/men/hoodie/70b07afd6919482cb0f33b5e6c6d08e2.jpg /home/sejong/Desktop/junseok/SPRC/musinsa/goods/men/hoodie/엑스트라 오버사이즈 오픈 후드 스웨트 집업 [블랙].jpg\n"
          ]
        },
        {
          "name": "stderr",
          "output_type": "stream",
          "text": [
            "hoodie-train:  52%|█████▏    | 207/400 [14:26<13:07,  4.08s/it]"
          ]
        },
        {
          "name": "stdout",
          "output_type": "stream",
          "text": [
            "\"is black and oversized fit\"\n",
            "/home/sejong/Desktop/junseok/SPRC/musinsa/snap/men/hoodie/229f6745dc684fa092d63c2f8c4bca06.jpg /home/sejong/Desktop/junseok/SPRC/musinsa/goods/men/hoodie/요가 베어 래글런 후드집업_빈티지 네이비.jpg\n"
          ]
        },
        {
          "name": "stderr",
          "output_type": "stream",
          "text": [
            "hoodie-train:  52%|█████▏    | 208/400 [14:29<12:36,  3.94s/it]"
          ]
        },
        {
          "name": "stdout",
          "output_type": "stream",
          "text": [
            "\"has added graphic, is navy, and is regular length\"\n",
            "/home/sejong/Desktop/junseok/SPRC/musinsa/snap/men/hoodie/abb3bc7b037a4623936d396d6c03fc3f.jpg /home/sejong/Desktop/junseok/SPRC/musinsa/goods/men/hoodie/메테오 디어 피그먼트 후드집업 딥그레이 SJHD1449.jpg\n"
          ]
        },
        {
          "name": "stderr",
          "output_type": "stream",
          "text": [
            "hoodie-train:  52%|█████▏    | 209/400 [14:32<11:37,  3.65s/it]"
          ]
        },
        {
          "name": "stdout",
          "output_type": "stream",
          "text": [
            "\"has added graphic, is gray, and is oversized fit\"\n",
            "/home/sejong/Desktop/junseok/SPRC/musinsa/snap/men/hoodie/234248c042fa4067b331f40ec15eee31.jpg /home/sejong/Desktop/junseok/SPRC/musinsa/goods/men/hoodie/OVERDYED N.F HOODED ZIP-UP - WASHED NAVY.jpg\n"
          ]
        },
        {
          "name": "stderr",
          "output_type": "stream",
          "text": [
            "hoodie-train:  52%|█████▎    | 210/400 [14:36<11:50,  3.74s/it]"
          ]
        },
        {
          "name": "stdout",
          "output_type": "stream",
          "text": [
            "\"has no graphic and pattern, is gray, and is oversized fit\"\n",
            "/home/sejong/Desktop/junseok/SPRC/musinsa/snap/men/hoodie/d9d5f0e5530047fd82b3b27de84a6070.jpg /home/sejong/Desktop/junseok/SPRC/musinsa/goods/men/hoodie/스웨트 니트 믹스 집업 후디_라이트 그레이.jpg\n"
          ]
        },
        {
          "name": "stderr",
          "output_type": "stream",
          "text": [
            "hoodie-train:  53%|█████▎    | 211/400 [14:40<11:44,  3.73s/it]"
          ]
        },
        {
          "name": "stdout",
          "output_type": "stream",
          "text": [
            "\"has added graphic, is gray, and is oversized fit\"\n",
            "/home/sejong/Desktop/junseok/SPRC/musinsa/snap/men/hoodie/ecc3afc9065441349d80eef7e7d859a7.jpg /home/sejong/Desktop/junseok/SPRC/musinsa/goods/men/hoodie/Faded Zip Up Hoodie Forest.jpg\n"
          ]
        },
        {
          "name": "stderr",
          "output_type": "stream",
          "text": [
            "hoodie-train:  53%|█████▎    | 212/400 [14:44<11:59,  3.83s/it]"
          ]
        },
        {
          "name": "stdout",
          "output_type": "stream",
          "text": [
            "\"has added graphic, is green, and is regular fit\"\n",
            "/home/sejong/Desktop/junseok/SPRC/musinsa/snap/men/hoodie/c9238f6e8c9f4b95a4973da4e5bb7778.jpg /home/sejong/Desktop/junseok/SPRC/musinsa/goods/men/hoodie/[Heavy Cotton]Believe Vintage Bio Washing Hoodie Zip-Up_Brown.jpg\n"
          ]
        },
        {
          "name": "stderr",
          "output_type": "stream",
          "text": [
            "hoodie-train:  53%|█████▎    | 213/400 [14:48<12:22,  3.97s/it]"
          ]
        },
        {
          "name": "stdout",
          "output_type": "stream",
          "text": [
            "\"has added graphic, is brown, and is regular fit\"\n",
            "/home/sejong/Desktop/junseok/SPRC/musinsa/snap/men/hoodie/4fed26e63940446cba8634894f3b6512.jpg /home/sejong/Desktop/junseok/SPRC/musinsa/goods/men/hoodie/커브드 후드집업_블랙.jpg\n"
          ]
        },
        {
          "name": "stderr",
          "output_type": "stream",
          "text": [
            "hoodie-train:  54%|█████▎    | 214/400 [14:52<11:42,  3.78s/it]"
          ]
        },
        {
          "name": "stdout",
          "output_type": "stream",
          "text": [
            "\"has no graphic and pattern, is black, and is oversized fit\"\n",
            "/home/sejong/Desktop/junseok/SPRC/musinsa/snap/men/hoodie/927ceec13a374cdb88d1cd7cb8cd1525.jpg /home/sejong/Desktop/junseok/SPRC/musinsa/goods/men/hoodie/[승관 PICK] 스타테일 후드집업_레드.jpg\n"
          ]
        },
        {
          "name": "stderr",
          "output_type": "stream",
          "text": [
            "hoodie-train:  54%|█████▍    | 215/400 [14:55<11:18,  3.67s/it]"
          ]
        },
        {
          "name": "stdout",
          "output_type": "stream",
          "text": [
            "\"has added graphic, is black, and is regular fit\"\n",
            "/home/sejong/Desktop/junseok/SPRC/musinsa/snap/men/hoodie/8a3e3dbb9baa4d4887e5a7e17482776d.jpg /home/sejong/Desktop/junseok/SPRC/musinsa/goods/men/hoodie/3STAR HALFTONE SYMBOL ZIP HOODIE_BROWN(NG2DFUM486A).jpg\n"
          ]
        },
        {
          "name": "stderr",
          "output_type": "stream",
          "text": [
            "hoodie-train:  54%|█████▍    | 216/400 [14:59<11:14,  3.67s/it]"
          ]
        },
        {
          "name": "stdout",
          "output_type": "stream",
          "text": [
            "\"is brown, and oversized fit\"\n",
            "/home/sejong/Desktop/junseok/SPRC/musinsa/snap/men/hoodie/42d0790502314a7186f8ffabb85d1325.jpg /home/sejong/Desktop/junseok/SPRC/musinsa/goods/men/hoodie/피그먼트 오버사이즈 후디드 스웨트 집업 [차콜 그레이].jpg\n"
          ]
        },
        {
          "name": "stderr",
          "output_type": "stream",
          "text": [
            "hoodie-train:  54%|█████▍    | 217/400 [15:02<11:14,  3.69s/it]"
          ]
        },
        {
          "name": "stdout",
          "output_type": "stream",
          "text": [
            "\"is gray and oversized fit\"\n",
            "/home/sejong/Desktop/junseok/SPRC/musinsa/snap/men/hoodie/list.staff_660e6b7430727.jpg /home/sejong/Desktop/junseok/SPRC/musinsa/goods/men/hoodie/워시드 액티브 후드 자켓-브라운.jpg\n"
          ]
        },
        {
          "name": "stderr",
          "output_type": "stream",
          "text": [
            "hoodie-train:  55%|█████▍    | 218/400 [15:07<11:59,  3.95s/it]"
          ]
        },
        {
          "name": "stdout",
          "output_type": "stream",
          "text": [
            "\"has added graphic, is brown, and is oversized fit\"\n",
            "/home/sejong/Desktop/junseok/SPRC/musinsa/snap/men/hoodie/list.staff_66288e59c30af.jpg /home/sejong/Desktop/junseok/SPRC/musinsa/goods/men/hoodie/컷 데미지 워싱 후드 집업 블랙.jpg\n"
          ]
        },
        {
          "name": "stderr",
          "output_type": "stream",
          "text": [
            "hoodie-train:  55%|█████▍    | 219/400 [15:11<12:23,  4.11s/it]"
          ]
        },
        {
          "name": "stdout",
          "output_type": "stream",
          "text": [
            "\"has no graphic and pattern, is black, and is oversized fit\"\n",
            "/home/sejong/Desktop/junseok/SPRC/musinsa/snap/men/hoodie/c72c17075fdd464482d87603aa6b24db.jpg /home/sejong/Desktop/junseok/SPRC/musinsa/goods/men/hoodie/[2-WAY] CP STAR 피그먼트 후드 집업 스모크블랙.jpg\n"
          ]
        },
        {
          "name": "stderr",
          "output_type": "stream",
          "text": [
            "hoodie-train:  55%|█████▌    | 220/400 [15:15<12:02,  4.01s/it]"
          ]
        },
        {
          "name": "stdout",
          "output_type": "stream",
          "text": [
            "\"has added graphic, is black, and is regular length\"\n",
            "/home/sejong/Desktop/junseok/SPRC/musinsa/snap/men/hoodie/c72c17075fdd464482d87603aa6b24db.jpg /home/sejong/Desktop/junseok/SPRC/musinsa/goods/men/hoodie/베이직 스웨트 후드집업  워싱블루.jpg\n"
          ]
        },
        {
          "name": "stderr",
          "output_type": "stream",
          "text": [
            "hoodie-train:  55%|█████▌    | 221/400 [15:18<11:13,  3.76s/it]"
          ]
        },
        {
          "name": "stdout",
          "output_type": "stream",
          "text": [
            "\"has no graphic and pattern, is gray, and is oversized fit\"\n",
            "/home/sejong/Desktop/junseok/SPRC/musinsa/snap/men/hoodie/8704cde9f21444f8b35cb837f21797c3.jpg /home/sejong/Desktop/junseok/SPRC/musinsa/goods/men/hoodie/[0026] 피그먼트 패치 로고 크롭 투웨이 후드집업.jpg\n"
          ]
        },
        {
          "name": "stderr",
          "output_type": "stream",
          "text": [
            "hoodie-train:  56%|█████▌    | 222/400 [15:21<10:19,  3.48s/it]"
          ]
        },
        {
          "name": "stdout",
          "output_type": "stream",
          "text": [
            "\"has added graphic, is black, and is oversized fit\"\n",
            "/home/sejong/Desktop/junseok/SPRC/musinsa/snap/men/hoodie/964245e3dd69437b8e40c34bab3a1990.jpg /home/sejong/Desktop/junseok/SPRC/musinsa/goods/men/hoodie/민트이비 후드집업 5Color [DHD_0016].jpg\n"
          ]
        },
        {
          "name": "stderr",
          "output_type": "stream",
          "text": [
            "hoodie-train:  56%|█████▌    | 223/400 [15:24<09:22,  3.18s/it]"
          ]
        },
        {
          "name": "stdout",
          "output_type": "stream",
          "text": [
            "\"has added graphic, is navy, and is regular fit\"\n",
            "/home/sejong/Desktop/junseok/SPRC/musinsa/snap/men/hoodie/954cc456825a445e9dd0352d01ebadc4.jpg /home/sejong/Desktop/junseok/SPRC/musinsa/goods/men/hoodie/투톤아치 후드집업_그레이.jpg\n"
          ]
        },
        {
          "name": "stderr",
          "output_type": "stream",
          "text": [
            "hoodie-train:  56%|█████▌    | 224/400 [15:28<10:11,  3.47s/it]"
          ]
        },
        {
          "name": "stdout",
          "output_type": "stream",
          "text": [
            "\"has added graphic, is gray, and is regular fit\"\n",
            "/home/sejong/Desktop/junseok/SPRC/musinsa/snap/men/hoodie/5cc33065118c440bafc4c51b8d0128ed.jpg /home/sejong/Desktop/junseok/SPRC/musinsa/goods/men/hoodie/Wool cashmere hood zip up jacket_Ash.jpg\n"
          ]
        },
        {
          "name": "stderr",
          "output_type": "stream",
          "text": [
            "hoodie-train:  56%|█████▋    | 225/400 [15:32<10:41,  3.67s/it]"
          ]
        },
        {
          "name": "stdout",
          "output_type": "stream",
          "text": [
            "\"has added graphic, is gray, and is regular fit\"\n",
            "/home/sejong/Desktop/junseok/SPRC/musinsa/snap/men/hoodie/4b91701a52d845e481433d03a66997f1.jpg /home/sejong/Desktop/junseok/SPRC/musinsa/goods/men/hoodie/Terry Full Zip Hoodie Lemon.jpg\n"
          ]
        },
        {
          "name": "stderr",
          "output_type": "stream",
          "text": [
            "hoodie-train:  56%|█████▋    | 226/400 [15:36<11:19,  3.90s/it]"
          ]
        },
        {
          "name": "stdout",
          "output_type": "stream",
          "text": [
            "\"has added graphic, is yellow, and is regular fit\"\n",
            "/home/sejong/Desktop/junseok/SPRC/musinsa/snap/men/hoodie/25359e5285804a0ca9ae9143ab16fa89.jpg /home/sejong/Desktop/junseok/SPRC/musinsa/goods/men/hoodie/NBMDE41113 _ UNI ESS 클래식 기모 후드집업 (GRAY).jpg\n"
          ]
        },
        {
          "name": "stderr",
          "output_type": "stream",
          "text": [
            "hoodie-train:  57%|█████▋    | 227/400 [15:40<10:47,  3.74s/it]"
          ]
        },
        {
          "name": "stdout",
          "output_type": "stream",
          "text": [
            "\"has added graphic, is gray, and is regular fit\"\n",
            "/home/sejong/Desktop/junseok/SPRC/musinsa/snap/men/hoodie/e86a0663676d49caa696d8e784b815cf.jpg /home/sejong/Desktop/junseok/SPRC/musinsa/goods/men/hoodie/저지 스티치 패디드 메리노 울 집업 후드 - 네이비 _ MKJ126AY1046415.jpg\n"
          ]
        },
        {
          "name": "stderr",
          "output_type": "stream",
          "text": [
            "hoodie-train:  57%|█████▋    | 228/400 [15:43<10:09,  3.55s/it]"
          ]
        },
        {
          "name": "stdout",
          "output_type": "stream",
          "text": [
            "\"has added graphic, is navy, and regular length\"\n",
            "/home/sejong/Desktop/junseok/SPRC/musinsa/snap/men/hoodie/cff85b8dd93442e0a1d2012f2069905c.jpg /home/sejong/Desktop/junseok/SPRC/musinsa/goods/men/hoodie/[무료반품] BRNTW EMBLEM ACTIVE ZIP-UP HOODIE [BLACK].jpg\n"
          ]
        },
        {
          "name": "stderr",
          "output_type": "stream",
          "text": [
            "hoodie-train:  57%|█████▋    | 229/400 [15:46<09:48,  3.44s/it]"
          ]
        },
        {
          "name": "stdout",
          "output_type": "stream",
          "text": [
            "\"has added graphic, is black, and is regular fit\"\n",
            "/home/sejong/Desktop/junseok/SPRC/musinsa/snap/men/hoodie/76a8cf27992d4019b77520e673d9a639.jpg /home/sejong/Desktop/junseok/SPRC/musinsa/goods/men/hoodie/SINK INTO DEATH HOOD ZIPUP_WH.jpg\n"
          ]
        },
        {
          "name": "stderr",
          "output_type": "stream",
          "text": [
            "hoodie-train:  57%|█████▊    | 230/400 [15:50<10:21,  3.65s/it]"
          ]
        },
        {
          "name": "stdout",
          "output_type": "stream",
          "text": [
            "\"has added graphic, is white, and is regular fit\"\n",
            "/home/sejong/Desktop/junseok/SPRC/musinsa/snap/men/hoodie/f11685afbab04c07b5ad92419df91e6a.jpg /home/sejong/Desktop/junseok/SPRC/musinsa/goods/men/hoodie/THERMAL CAMO HOOD ZIP UP [CAMO].jpg\n"
          ]
        },
        {
          "name": "stderr",
          "output_type": "stream",
          "text": [
            "hoodie-train:  58%|█████▊    | 231/400 [15:54<10:32,  3.74s/it]"
          ]
        },
        {
          "name": "stdout",
          "output_type": "stream",
          "text": [
            "\"has added graphic, is camouflage, and is oversized fit\"\n",
            "/home/sejong/Desktop/junseok/SPRC/musinsa/snap/men/hoodie/55d887a170c94a3482ff7c5ccc61fb3d.jpg /home/sejong/Desktop/junseok/SPRC/musinsa/goods/men/hoodie/더매스 212 피그먼트 후디 집업 (Pigment Charcoal).jpg\n"
          ]
        },
        {
          "name": "stderr",
          "output_type": "stream",
          "text": [
            "hoodie-train:  58%|█████▊    | 232/400 [15:58<10:55,  3.90s/it]"
          ]
        },
        {
          "name": "stdout",
          "output_type": "stream",
          "text": [
            "\"has added graphic, is gray, and is oversized fit\"\n",
            "/home/sejong/Desktop/junseok/SPRC/musinsa/snap/men/hoodie/844e0816f0bf41e1b2e956b902e15dee.jpg /home/sejong/Desktop/junseok/SPRC/musinsa/goods/men/hoodie/Oversize Hoodie Zip Up [Melange Grey].jpg\n"
          ]
        },
        {
          "name": "stderr",
          "output_type": "stream",
          "text": [
            "hoodie-train:  58%|█████▊    | 233/400 [16:03<11:10,  4.02s/it]"
          ]
        },
        {
          "name": "stdout",
          "output_type": "stream",
          "text": [
            "\"has no graphic and pattern, is gray, and is oversized fit\"\n",
            "/home/sejong/Desktop/junseok/SPRC/musinsa/snap/men/hoodie/1736ae5a5d1544949f89bfd383cad004.jpg /home/sejong/Desktop/junseok/SPRC/musinsa/goods/men/hoodie/로고 와펜 기모 후드집업 오트밀.jpg\n"
          ]
        },
        {
          "name": "stderr",
          "output_type": "stream",
          "text": [
            "hoodie-train:  58%|█████▊    | 234/400 [16:06<10:20,  3.74s/it]"
          ]
        },
        {
          "name": "stdout",
          "output_type": "stream",
          "text": [
            "\"has added graphic, is gray, and is regular fit\"\n",
            "/home/sejong/Desktop/junseok/SPRC/musinsa/snap/men/hoodie/13537bad6e2b43e98f1fb3d4ec22f7b9.jpg /home/sejong/Desktop/junseok/SPRC/musinsa/goods/men/hoodie/후드 집업 자켓 그레이.jpg\n"
          ]
        },
        {
          "name": "stderr",
          "output_type": "stream",
          "text": [
            "hoodie-train:  59%|█████▉    | 235/400 [16:10<10:29,  3.82s/it]"
          ]
        },
        {
          "name": "stdout",
          "output_type": "stream",
          "text": [
            "\"has no graphic and pattern, is white, and is regular length\"\n",
            "/home/sejong/Desktop/junseok/SPRC/musinsa/snap/men/hoodie/list.staff_66061aff3311c.jpg /home/sejong/Desktop/junseok/SPRC/musinsa/goods/men/hoodie/오가닉 코튼 플리스 가먼트 다이드 집업 후드 - 블랙 _ 6100042S0051V0029.jpg\n"
          ]
        },
        {
          "name": "stderr",
          "output_type": "stream",
          "text": [
            "hoodie-train:  59%|█████▉    | 236/400 [16:13<09:31,  3.49s/it]"
          ]
        },
        {
          "name": "stdout",
          "output_type": "stream",
          "text": [
            "\"is black and regular length\"\n",
            "/home/sejong/Desktop/junseok/SPRC/musinsa/snap/men/hoodie/5353633d5e5841a89fa04daa0048943d.jpg /home/sejong/Desktop/junseok/SPRC/musinsa/goods/men/hoodie/헤비코튼 버튼다운 스웨트 후드 자켓 (GRAY).jpg\n"
          ]
        },
        {
          "name": "stderr",
          "output_type": "stream",
          "text": [
            "hoodie-train:  59%|█████▉    | 237/400 [16:16<09:11,  3.39s/it]"
          ]
        },
        {
          "name": "stdout",
          "output_type": "stream",
          "text": [
            "\"is gray and oversized fit\"\n",
            "/home/sejong/Desktop/junseok/SPRC/musinsa/snap/men/hoodie/list.staff_660e6b7430727.jpg /home/sejong/Desktop/junseok/SPRC/musinsa/goods/men/hoodie/플레인 브러쉬드 스웻 데님 후드 집업[워시드 블랙].jpg\n"
          ]
        },
        {
          "name": "stderr",
          "output_type": "stream",
          "text": [
            "hoodie-train:  60%|█████▉    | 238/400 [16:21<10:18,  3.82s/it]"
          ]
        },
        {
          "name": "stdout",
          "output_type": "stream",
          "text": [
            "\"has added graphic, is black, and is regular length\"\n",
            "/home/sejong/Desktop/junseok/SPRC/musinsa/snap/men/hoodie/8cf3022c364e46ddbfc2c87636d29cdf.jpg /home/sejong/Desktop/junseok/SPRC/musinsa/goods/men/hoodie/로고 베이직 스웻 후드집업_블랙.jpg\n"
          ]
        },
        {
          "name": "stderr",
          "output_type": "stream",
          "text": [
            "hoodie-train:  60%|█████▉    | 239/400 [16:24<09:57,  3.71s/it]"
          ]
        },
        {
          "name": "stdout",
          "output_type": "stream",
          "text": [
            "\"has added graphic, is black, and is regular fit\"\n",
            "/home/sejong/Desktop/junseok/SPRC/musinsa/snap/men/hoodie/844e0816f0bf41e1b2e956b902e15dee.jpg /home/sejong/Desktop/junseok/SPRC/musinsa/goods/men/hoodie/SIDE LOGO 피그먼트 후드집업.jpg\n"
          ]
        },
        {
          "name": "stderr",
          "output_type": "stream",
          "text": [
            "hoodie-train:  60%|██████    | 240/400 [16:27<09:13,  3.46s/it]"
          ]
        },
        {
          "name": "stdout",
          "output_type": "stream",
          "text": [
            "\"is black and oversized fit\"\n",
            "/home/sejong/Desktop/junseok/SPRC/musinsa/snap/men/hoodie/list.staff_660d0bb37d751.jpg /home/sejong/Desktop/junseok/SPRC/musinsa/goods/men/hoodie/그래픽 벌룬오버 후드집업 - 블랙.jpg\n"
          ]
        },
        {
          "name": "stderr",
          "output_type": "stream",
          "text": [
            "hoodie-train:  60%|██████    | 241/400 [16:30<08:59,  3.39s/it]"
          ]
        },
        {
          "name": "stdout",
          "output_type": "stream",
          "text": [
            "\"has added graphic and is black\"\n",
            "/home/sejong/Desktop/junseok/SPRC/musinsa/snap/men/hoodie/1c9c3491955f4d48b1280600e3d6139c.jpg /home/sejong/Desktop/junseok/SPRC/musinsa/goods/men/hoodie/Ray Canvas Work Parka Charcoal Navy.jpg\n"
          ]
        },
        {
          "name": "stderr",
          "output_type": "stream",
          "text": [
            "hoodie-train:  60%|██████    | 242/400 [16:38<12:44,  4.84s/it]"
          ]
        },
        {
          "name": "stdout",
          "output_type": "stream",
          "text": [
            "\"has added graphic, is gray, and is oversized fit\"\n",
            "/home/sejong/Desktop/junseok/SPRC/musinsa/snap/men/hoodie/1d857c2420764e9ab09bf9d90c18980c.jpg /home/sejong/Desktop/junseok/SPRC/musinsa/goods/men/hoodie/심볼 스톤 피그먼트 후드 집 업-그레이.jpg\n"
          ]
        },
        {
          "name": "stderr",
          "output_type": "stream",
          "text": [
            "hoodie-train:  61%|██████    | 243/400 [16:42<11:58,  4.58s/it]"
          ]
        },
        {
          "name": "stdout",
          "output_type": "stream",
          "text": [
            "\"has added graphic, is gray, and is regular length\"\n",
            "/home/sejong/Desktop/junseok/SPRC/musinsa/snap/men/hoodie/7013ce1502cf4eca91ea1c4307451eb2.jpg /home/sejong/Desktop/junseok/SPRC/musinsa/goods/men/hoodie/REVERSE MOT HOOD ZIP SWEAT(SPEEDSTER)_BLACK.jpg\n"
          ]
        },
        {
          "name": "stderr",
          "output_type": "stream",
          "text": [
            "hoodie-train:  61%|██████    | 244/400 [16:46<11:03,  4.26s/it]"
          ]
        },
        {
          "name": "stdout",
          "output_type": "stream",
          "text": [
            "\"has added graphic, is black, and is regular fit\"\n",
            "/home/sejong/Desktop/junseok/SPRC/musinsa/snap/men/hoodie/2024040318490900000096074.jpg /home/sejong/Desktop/junseok/SPRC/musinsa/goods/men/hoodie/네오프랜 다이버 크롭 후드 집업 (그레이).jpg\n"
          ]
        },
        {
          "name": "stderr",
          "output_type": "stream",
          "text": [
            "hoodie-train:  61%|██████▏   | 245/400 [16:49<09:55,  3.84s/it]"
          ]
        },
        {
          "name": "stdout",
          "output_type": "stream",
          "text": [
            "\"is gray and oversized fit\"\n",
            "/home/sejong/Desktop/junseok/SPRC/musinsa/snap/men/hoodie/1dd3ace40da34ca1ab83e22276aee614.jpg /home/sejong/Desktop/junseok/SPRC/musinsa/goods/men/hoodie/[남녀공용]아치 로고 오버핏 드롭숄더 에센셜 투웨이 후드집업_오렌지.jpg\n"
          ]
        },
        {
          "name": "stderr",
          "output_type": "stream",
          "text": [
            "hoodie-train:  62%|██████▏   | 246/400 [16:52<09:03,  3.53s/it]"
          ]
        },
        {
          "name": "stdout",
          "output_type": "stream",
          "text": [
            "\"has added graphic, is orange, and is oversized fit\"\n",
            "/home/sejong/Desktop/junseok/SPRC/musinsa/snap/men/hoodie/d38b78dc7ac64a8a9b7610dc8a607bf8.jpg /home/sejong/Desktop/junseok/SPRC/musinsa/goods/men/hoodie/로그 오버핏 투웨이 기모 후드집업 6종 그레이 YHHD2462.jpg\n"
          ]
        },
        {
          "name": "stderr",
          "output_type": "stream",
          "text": [
            "hoodie-train:  62%|██████▏   | 247/400 [16:56<09:24,  3.69s/it]"
          ]
        },
        {
          "name": "stdout",
          "output_type": "stream",
          "text": [
            "\"has no graphic and pattern, is gray, and is oversized fit\"\n",
            "/home/sejong/Desktop/junseok/SPRC/musinsa/snap/men/hoodie/0365616ef1fa4d7493a3bfd4ab219363.jpg /home/sejong/Desktop/junseok/SPRC/musinsa/goods/men/hoodie/[SET] 마운트업 세트 3종 (JUHD4468 + JULP4469).jpg\n"
          ]
        },
        {
          "name": "stderr",
          "output_type": "stream",
          "text": [
            "hoodie-train:  62%|██████▏   | 248/400 [17:00<09:57,  3.93s/it]"
          ]
        },
        {
          "name": "stdout",
          "output_type": "stream",
          "text": [
            "\"has no graphic and pattern, is gray, and is regular fit\"\n",
            "/home/sejong/Desktop/junseok/SPRC/musinsa/snap/men/hoodie/fb38b8e70e0a404fbf3884045e8b5960.jpg /home/sejong/Desktop/junseok/SPRC/musinsa/goods/men/hoodie/Classic Raglan Hoodie Zip Up [Black].jpg\n"
          ]
        },
        {
          "name": "stderr",
          "output_type": "stream",
          "text": [
            "hoodie-train:  62%|██████▏   | 249/400 [17:03<09:23,  3.73s/it]"
          ]
        },
        {
          "name": "stdout",
          "output_type": "stream",
          "text": [
            "\"is black and regular length with regular fit\"\n",
            "/home/sejong/Desktop/junseok/SPRC/musinsa/snap/men/hoodie/3b8a1d8d41d14ea4ab20c3e7b50ad424.jpg /home/sejong/Desktop/junseok/SPRC/musinsa/goods/men/hoodie/기모 후드 스웨트 ZIP-UP [ 6 COLOR ].jpg\n"
          ]
        },
        {
          "name": "stderr",
          "output_type": "stream",
          "text": [
            "hoodie-train:  62%|██████▎   | 250/400 [17:07<09:05,  3.64s/it]"
          ]
        },
        {
          "name": "stdout",
          "output_type": "stream",
          "text": [
            "\"is gray and oversized fit\"\n",
            "/home/sejong/Desktop/junseok/SPRC/musinsa/snap/men/hoodie/2024041217555000000042422.jpg /home/sejong/Desktop/junseok/SPRC/musinsa/goods/men/hoodie/에센셜 후드 집업 점퍼_3COLORS.jpg\n"
          ]
        },
        {
          "name": "stderr",
          "output_type": "stream",
          "text": [
            "hoodie-train:  63%|██████▎   | 251/400 [17:11<09:13,  3.71s/it]"
          ]
        },
        {
          "name": "stdout",
          "output_type": "stream",
          "text": [
            "\"has no graphic and is black and oversized fit\"\n",
            "/home/sejong/Desktop/junseok/SPRC/musinsa/snap/men/hoodie/00e200057df241cf9067948d1e44fb95.jpg /home/sejong/Desktop/junseok/SPRC/musinsa/goods/men/hoodie/위드유 후드집업 6 Color [ULZH_5006].jpg\n"
          ]
        },
        {
          "name": "stderr",
          "output_type": "stream",
          "text": [
            "hoodie-train:  63%|██████▎   | 252/400 [17:14<08:52,  3.60s/it]"
          ]
        },
        {
          "name": "stdout",
          "output_type": "stream",
          "text": [
            "\"has added graphic, is black, and is regular fit\"\n",
            "/home/sejong/Desktop/junseok/SPRC/musinsa/snap/men/hoodie/d9d5f0e5530047fd82b3b27de84a6070.jpg /home/sejong/Desktop/junseok/SPRC/musinsa/goods/men/hoodie/루트 베이직 바람막이 Black (S23MMRWB62).jpg\n"
          ]
        },
        {
          "name": "stderr",
          "output_type": "stream",
          "text": [
            "hoodie-train:  63%|██████▎   | 253/400 [17:17<08:28,  3.46s/it]"
          ]
        },
        {
          "name": "stdout",
          "output_type": "stream",
          "text": [
            "\"has added graphic, is black, and is regular length\"\n",
            "/home/sejong/Desktop/junseok/SPRC/musinsa/snap/men/hoodie/f439cab3a2614dad87825d5736f9913b.jpg /home/sejong/Desktop/junseok/SPRC/musinsa/goods/men/hoodie/블루스마일 후드집업 6 Color [NSPH_0015].jpg\n"
          ]
        },
        {
          "name": "stderr",
          "output_type": "stream",
          "text": [
            "hoodie-train:  64%|██████▎   | 254/400 [17:21<08:25,  3.46s/it]"
          ]
        },
        {
          "name": "stdout",
          "output_type": "stream",
          "text": [
            "\"has added graphic, is black, and is regular fit\"\n",
            "/home/sejong/Desktop/junseok/SPRC/musinsa/snap/men/hoodie/57be681a59184a1aa1b99460113b55e3.jpg /home/sejong/Desktop/junseok/SPRC/musinsa/goods/men/hoodie/유스풀 벌룬 후드집업 버건디 SJHD1327.jpg\n"
          ]
        },
        {
          "name": "stderr",
          "output_type": "stream",
          "text": [
            "hoodie-train:  64%|██████▍   | 255/400 [17:25<08:59,  3.72s/it]"
          ]
        },
        {
          "name": "stdout",
          "output_type": "stream",
          "text": [
            "\"has added graphic, is maroon, and is oversized fit\"\n",
            "/home/sejong/Desktop/junseok/SPRC/musinsa/snap/men/hoodie/87a3895942e74e3ea6d1bb2aa5a5ee99.jpg /home/sejong/Desktop/junseok/SPRC/musinsa/goods/men/hoodie/3STAR LOGO ZIP HOODIE_6colors(NG2EFUM480A).jpg\n"
          ]
        },
        {
          "name": "stderr",
          "output_type": "stream",
          "text": [
            "hoodie-train:  64%|██████▍   | 256/400 [17:28<08:41,  3.62s/it]"
          ]
        },
        {
          "name": "stdout",
          "output_type": "stream",
          "text": [
            "\"has added graphic, is red, and is oversized fit\"\n",
            "/home/sejong/Desktop/junseok/SPRC/musinsa/snap/men/hoodie/2024043018455800000025551.jpg /home/sejong/Desktop/junseok/SPRC/musinsa/goods/men/hoodie/기모 아플리케 후드집업 23HD08.jpg\n"
          ]
        },
        {
          "name": "stderr",
          "output_type": "stream",
          "text": [
            "hoodie-train:  64%|██████▍   | 257/400 [17:33<09:36,  4.03s/it]"
          ]
        },
        {
          "name": "stdout",
          "output_type": "stream",
          "text": [
            "\"has added graphic, is gray, and is regular fit\"\n",
            "/home/sejong/Desktop/junseok/SPRC/musinsa/snap/men/hoodie/9c31476ab1754c528df1f3b5ff732cec.jpg /home/sejong/Desktop/junseok/SPRC/musinsa/goods/men/hoodie/[런웨이] 무궁 빈티지 투웨이 후드 집업_차콜.jpg\n"
          ]
        },
        {
          "name": "stderr",
          "output_type": "stream",
          "text": [
            "hoodie-train:  64%|██████▍   | 258/400 [17:36<08:50,  3.74s/it]"
          ]
        },
        {
          "name": "stdout",
          "output_type": "stream",
          "text": [
            "\"has added graphic, is gray, and is oversized fit\"\n",
            "/home/sejong/Desktop/junseok/SPRC/musinsa/snap/men/hoodie/75b12ee336934d85905c7697a4720986.jpg /home/sejong/Desktop/junseok/SPRC/musinsa/goods/men/hoodie/하트 와펜 기모 후드집업 버건디.jpg\n"
          ]
        },
        {
          "name": "stderr",
          "output_type": "stream",
          "text": [
            "hoodie-train:  65%|██████▍   | 259/400 [17:39<08:16,  3.52s/it]"
          ]
        },
        {
          "name": "stdout",
          "output_type": "stream",
          "text": [
            "\"has added graphic, is red, and is regular fit\"\n",
            "/home/sejong/Desktop/junseok/SPRC/musinsa/snap/men/hoodie/fb38b8e70e0a404fbf3884045e8b5960.jpg /home/sejong/Desktop/junseok/SPRC/musinsa/goods/men/hoodie/후드 집업 자켓 블랙.jpg\n"
          ]
        },
        {
          "name": "stderr",
          "output_type": "stream",
          "text": [
            "hoodie-train:  65%|██████▌   | 260/400 [17:43<07:58,  3.42s/it]"
          ]
        },
        {
          "name": "stdout",
          "output_type": "stream",
          "text": [
            "\"is black\"\n",
            "/home/sejong/Desktop/junseok/SPRC/musinsa/snap/men/hoodie/list.staff_66176405d9ec1.jpg /home/sejong/Desktop/junseok/SPRC/musinsa/goods/men/hoodie/POCKET HOODED ZIPUP - KHAKI.jpg\n"
          ]
        },
        {
          "name": "stderr",
          "output_type": "stream",
          "text": [
            "hoodie-train:  65%|██████▌   | 261/400 [17:46<07:41,  3.32s/it]"
          ]
        },
        {
          "name": "stdout",
          "output_type": "stream",
          "text": [
            "\"has added graphic, is olive green, and is oversized fit\"\n",
            "/home/sejong/Desktop/junseok/SPRC/musinsa/snap/men/hoodie/2024043019230300000038331.jpg /home/sejong/Desktop/junseok/SPRC/musinsa/goods/men/hoodie/Double layer zip-up hoodie Washed Black.jpg\n"
          ]
        },
        {
          "name": "stderr",
          "output_type": "stream",
          "text": [
            "hoodie-train:  66%|██████▌   | 262/400 [17:49<07:34,  3.30s/it]"
          ]
        },
        {
          "name": "stdout",
          "output_type": "stream",
          "text": [
            "\"is black and oversized fit\"\n",
            "/home/sejong/Desktop/junseok/SPRC/musinsa/snap/men/hoodie/c71b3df6646746b4934e10cd47ba7319.jpg /home/sejong/Desktop/junseok/SPRC/musinsa/goods/men/hoodie/(기모)Signature over hood zip-up - BLACK.jpg\n"
          ]
        },
        {
          "name": "stderr",
          "output_type": "stream",
          "text": [
            "hoodie-train:  66%|██████▌   | 263/400 [17:57<10:37,  4.66s/it]"
          ]
        },
        {
          "name": "stdout",
          "output_type": "stream",
          "text": [
            "\"has no graphic and is black and oversized fit\"\n",
            "/home/sejong/Desktop/junseok/SPRC/musinsa/snap/men/hoodie/5a5b1021ba504bb497408c5be5c25727.jpg /home/sejong/Desktop/junseok/SPRC/musinsa/goods/men/hoodie/오버핏 기모 후드집업(민트).jpg\n"
          ]
        },
        {
          "name": "stderr",
          "output_type": "stream",
          "text": [
            "hoodie-train:  66%|██████▌   | 264/400 [18:01<10:00,  4.41s/it]"
          ]
        },
        {
          "name": "stdout",
          "output_type": "stream",
          "text": [
            "\"has added graphic, is mint green, and is regular fit\"\n",
            "/home/sejong/Desktop/junseok/SPRC/musinsa/snap/men/hoodie/list.staff_6625cc81d9feb.jpg /home/sejong/Desktop/junseok/SPRC/musinsa/goods/men/hoodie/[키스오브라이프 나띠 착용] BASIC LOGO HOODIE ZIP UP CHARCOAL.jpg\n"
          ]
        },
        {
          "name": "stderr",
          "output_type": "stream",
          "text": [
            "hoodie-train:  66%|██████▋   | 265/400 [18:04<09:21,  4.16s/it]"
          ]
        },
        {
          "name": "stdout",
          "output_type": "stream",
          "text": [
            "\"is dark gray with added graphic and oversized fit\"\n",
            "/home/sejong/Desktop/junseok/SPRC/musinsa/snap/men/hoodie/558f6cf6fb2b417fb0895849c6d6f5a5.jpg /home/sejong/Desktop/junseok/SPRC/musinsa/goods/men/hoodie/STONE WASHED ZIPUP HOODIE (BLACK).jpg\n"
          ]
        },
        {
          "name": "stderr",
          "output_type": "stream",
          "text": [
            "hoodie-train:  66%|██████▋   | 266/400 [18:08<09:08,  4.10s/it]"
          ]
        },
        {
          "name": "stdout",
          "output_type": "stream",
          "text": [
            "\"has no graphic and pattern, is gray, and is regular fit\"\n",
            "/home/sejong/Desktop/junseok/SPRC/musinsa/snap/men/hoodie/51780d10351246938af41ff83256c75a.jpg /home/sejong/Desktop/junseok/SPRC/musinsa/goods/men/hoodie/AECA BOMB ZIP UP HOODIE-WASHED CORAL.jpg\n"
          ]
        },
        {
          "name": "stderr",
          "output_type": "stream",
          "text": [
            "hoodie-train:  67%|██████▋   | 267/400 [18:13<09:38,  4.35s/it]"
          ]
        },
        {
          "name": "stdout",
          "output_type": "stream",
          "text": [
            "\"has added graphic, is coral, and is regular fit\"\n",
            "/home/sejong/Desktop/junseok/SPRC/musinsa/snap/men/hoodie/188eff0fe4df4afaa3d9526257c083e8.jpg /home/sejong/Desktop/junseok/SPRC/musinsa/goods/men/hoodie/303 House Zip Hoodie - Charcoal.jpg\n"
          ]
        },
        {
          "name": "stderr",
          "output_type": "stream",
          "text": [
            "hoodie-train:  67%|██████▋   | 268/400 [18:23<13:01,  5.92s/it]"
          ]
        },
        {
          "name": "stdout",
          "output_type": "stream",
          "text": [
            "\"has added graphic, is gray, and is regular fit\"\n",
            "/home/sejong/Desktop/junseok/SPRC/musinsa/snap/men/hoodie/e2d9d59aaf624a57a4345a6312c748be.jpg /home/sejong/Desktop/junseok/SPRC/musinsa/goods/men/hoodie/[세트] 돌핀 체인자수 플리스 후드집업 &  스트링 팬츠 블랙.jpg\n"
          ]
        },
        {
          "name": "stderr",
          "output_type": "stream",
          "text": [
            "hoodie-train:  67%|██████▋   | 269/400 [18:25<10:56,  5.01s/it]"
          ]
        },
        {
          "name": "stdout",
          "output_type": "stream",
          "text": [
            "\"has added graphic, is black, and is oversized fit\"\n",
            "/home/sejong/Desktop/junseok/SPRC/musinsa/snap/men/hoodie/bc74abe7a4f045df9b2be5cc92d3f0c2.jpg /home/sejong/Desktop/junseok/SPRC/musinsa/goods/men/hoodie/Honda Multi Graphic Patch Hoodie Zip-up Black.jpg\n"
          ]
        },
        {
          "name": "stderr",
          "output_type": "stream",
          "text": [
            "hoodie-train:  68%|██████▊   | 270/400 [18:29<10:12,  4.71s/it]"
          ]
        },
        {
          "name": "stdout",
          "output_type": "stream",
          "text": [
            "\"has added graphic, is black, and is regular fit\"\n",
            "/home/sejong/Desktop/junseok/SPRC/musinsa/snap/men/hoodie/412d66dfd8c947a0b7a1314733ffdb17.jpg /home/sejong/Desktop/junseok/SPRC/musinsa/goods/men/hoodie/ECLIPSE RAW CUT ZIP UP HOODIE CHARCOAL(MG2EFMM490A).jpg\n"
          ]
        },
        {
          "name": "stderr",
          "output_type": "stream",
          "text": [
            "hoodie-train:  68%|██████▊   | 271/400 [18:33<09:18,  4.33s/it]"
          ]
        },
        {
          "name": "stdout",
          "output_type": "stream",
          "text": [
            "\"has a striped pattern, is black, and is regular length\"\n",
            "/home/sejong/Desktop/junseok/SPRC/musinsa/snap/men/hoodie/list.staff_666ace29b8c2f.jpg /home/sejong/Desktop/junseok/SPRC/musinsa/goods/men/hoodie/HUF ARCH LOGO HOODIE ZIP UP [BLACK].jpg\n"
          ]
        },
        {
          "name": "stderr",
          "output_type": "stream",
          "text": [
            "hoodie-train:  68%|██████▊   | 272/400 [18:36<08:26,  3.96s/it]"
          ]
        },
        {
          "name": "stdout",
          "output_type": "stream",
          "text": [
            "\"has added graphic, is black, and is regular length\"\n",
            "/home/sejong/Desktop/junseok/SPRC/musinsa/snap/men/hoodie/6185bf96169f49ae986d94b2d9dc4151.jpg /home/sejong/Desktop/junseok/SPRC/musinsa/goods/men/hoodie/[기모선택] 어센틱 후드집업 [그레이].jpg\n"
          ]
        },
        {
          "name": "stderr",
          "output_type": "stream",
          "text": [
            "hoodie-train:  68%|██████▊   | 273/400 [18:39<07:51,  3.71s/it]"
          ]
        },
        {
          "name": "stdout",
          "output_type": "stream",
          "text": [
            "\"has added graphic, is gray, and is regular fit\"\n",
            "/home/sejong/Desktop/junseok/SPRC/musinsa/snap/men/hoodie/e2d9d59aaf624a57a4345a6312c748be.jpg /home/sejong/Desktop/junseok/SPRC/musinsa/goods/men/hoodie/남성 릴렉스핏 모노그램 로고 후디 J326969BEH.jpg\n"
          ]
        },
        {
          "name": "stderr",
          "output_type": "stream",
          "text": [
            "hoodie-train:  68%|██████▊   | 274/400 [18:43<07:42,  3.67s/it]"
          ]
        },
        {
          "name": "stdout",
          "output_type": "stream",
          "text": [
            "\"has added graphic, is black, and is regular fit\"\n",
            "/home/sejong/Desktop/junseok/SPRC/musinsa/snap/men/hoodie/86f2413a46994e3a97f5f384aaa7c9e1.jpg /home/sejong/Desktop/junseok/SPRC/musinsa/goods/men/hoodie/SINK INTO DEATH HOOD ZIPUP_WH.jpg\n"
          ]
        },
        {
          "name": "stderr",
          "output_type": "stream",
          "text": [
            "hoodie-train:  69%|██████▉   | 275/400 [18:46<07:24,  3.56s/it]"
          ]
        },
        {
          "name": "stdout",
          "output_type": "stream",
          "text": [
            "\"has added graphic, is white, and is regular fit\"\n",
            "/home/sejong/Desktop/junseok/SPRC/musinsa/snap/men/hoodie/cff05ae1730c4071be19ff2c118fbc58.jpg /home/sejong/Desktop/junseok/SPRC/musinsa/goods/men/hoodie/셀렉트 투웨이 후디집업 블랙.jpg\n"
          ]
        },
        {
          "name": "stderr",
          "output_type": "stream",
          "text": [
            "hoodie-train:  69%|██████▉   | 276/400 [18:50<07:26,  3.60s/it]"
          ]
        },
        {
          "name": "stdout",
          "output_type": "stream",
          "text": [
            "\"has no graphic and pattern, is black, and is oversized fit\"\n",
            "/home/sejong/Desktop/junseok/SPRC/musinsa/snap/men/hoodie/53094d9c8be4482cad695dc0f9546590.jpg /home/sejong/Desktop/junseok/SPRC/musinsa/goods/men/hoodie/어센틱 루즈핏 기모 후드집업 (블랙).jpg\n"
          ]
        },
        {
          "name": "stderr",
          "output_type": "stream",
          "text": [
            "hoodie-train:  69%|██████▉   | 277/400 [18:53<07:13,  3.52s/it]"
          ]
        },
        {
          "name": "stdout",
          "output_type": "stream",
          "text": [
            "\"is black and oversized fit\"\n",
            "/home/sejong/Desktop/junseok/SPRC/musinsa/snap/men/hoodie/f59cc2c1c5ec4c96b598dbbdcd290d29.jpg /home/sejong/Desktop/junseok/SPRC/musinsa/goods/men/hoodie/바지티 집업 후드 - 포레스트 _ MOPQFALL2208FFOREST.jpg\n"
          ]
        },
        {
          "name": "stderr",
          "output_type": "stream",
          "text": [
            "hoodie-train:  70%|██████▉   | 278/400 [18:56<06:57,  3.42s/it]"
          ]
        },
        {
          "name": "stdout",
          "output_type": "stream",
          "text": [
            "\"has added graphic, is green, and is regular fit\"\n",
            "/home/sejong/Desktop/junseok/SPRC/musinsa/snap/men/hoodie/2024032912273500000031217.jpg /home/sejong/Desktop/junseok/SPRC/musinsa/goods/men/hoodie/T.N.T. Classic HDP Zip Up Hoodie Navy.jpg\n"
          ]
        },
        {
          "name": "stderr",
          "output_type": "stream",
          "text": [
            "hoodie-train:  70%|██████▉   | 279/400 [18:59<06:47,  3.37s/it]"
          ]
        },
        {
          "name": "stdout",
          "output_type": "stream",
          "text": [
            "\"is black and regular length with regular fit\"\n",
            "/home/sejong/Desktop/junseok/SPRC/musinsa/snap/men/hoodie/a6715b171127439984e61de2300f6fbb.jpg /home/sejong/Desktop/junseok/SPRC/musinsa/goods/men/hoodie/2WAY 레귤러 핏 스웻 후드 집업 (MELANGE GREY).jpg\n"
          ]
        },
        {
          "name": "stderr",
          "output_type": "stream",
          "text": [
            "hoodie-train:  70%|███████   | 280/400 [19:03<06:54,  3.46s/it]"
          ]
        },
        {
          "name": "stdout",
          "output_type": "stream",
          "text": [
            "\"is gray and regular length with regular fit\"\n",
            "/home/sejong/Desktop/junseok/SPRC/musinsa/snap/men/hoodie/8303e1e06f9f430884957c922d4a6a02.jpg /home/sejong/Desktop/junseok/SPRC/musinsa/goods/men/hoodie/테오 코튼 올 데이 후드 집업 멜란지 아이보리.jpg\n"
          ]
        },
        {
          "name": "stderr",
          "output_type": "stream",
          "text": [
            "hoodie-train:  70%|███████   | 281/400 [19:06<06:47,  3.42s/it]"
          ]
        },
        {
          "name": "stdout",
          "output_type": "stream",
          "text": [
            "\"has no graphic and pattern, is gray, and is regular fit\"\n",
            "/home/sejong/Desktop/junseok/SPRC/musinsa/snap/men/hoodie/0030f3ee49dc4da08f1bcb6aaee1050b.jpg /home/sejong/Desktop/junseok/SPRC/musinsa/goods/men/hoodie/[무료반품] 테크 플리스 풀집 후디 M - 다크 그레이 헤더_블랙 _ HV0950-063.jpg\n"
          ]
        },
        {
          "name": "stderr",
          "output_type": "stream",
          "text": [
            "hoodie-train:  70%|███████   | 282/400 [19:10<06:59,  3.56s/it]"
          ]
        },
        {
          "name": "stdout",
          "output_type": "stream",
          "text": [
            "\"has added graphic, is gray, and is regular fit\"\n",
            "/home/sejong/Desktop/junseok/SPRC/musinsa/snap/men/hoodie/30dd6d45b5c34d8faab81a22e259cb0f.jpg /home/sejong/Desktop/junseok/SPRC/musinsa/goods/men/hoodie/웨이파인더 배색 후드형 바람막이 자켓 블랙(UQ123CJK12).jpg\n"
          ]
        },
        {
          "name": "stderr",
          "output_type": "stream",
          "text": [
            "hoodie-train:  71%|███████   | 283/400 [19:13<06:27,  3.31s/it]"
          ]
        },
        {
          "name": "stdout",
          "output_type": "stream",
          "text": [
            "\"has added graphic, is navy, and is regular length\"\n",
            "/home/sejong/Desktop/junseok/SPRC/musinsa/snap/men/hoodie/33f867beff544fa39a39f10980719933.jpg /home/sejong/Desktop/junseok/SPRC/musinsa/goods/men/hoodie/헤비 코튼 후드 집업 (다크네이비).jpg\n"
          ]
        },
        {
          "name": "stderr",
          "output_type": "stream",
          "text": [
            "hoodie-train:  71%|███████   | 284/400 [19:16<06:21,  3.28s/it]"
          ]
        },
        {
          "name": "stdout",
          "output_type": "stream",
          "text": [
            "\"has no graphic and pattern, is navy, and is regular length\"\n",
            "/home/sejong/Desktop/junseok/SPRC/musinsa/snap/men/hoodie/6bde70d951d84c528897b1e8d7d054a3.jpg /home/sejong/Desktop/junseok/SPRC/musinsa/goods/men/hoodie/빈티지 오버랩 후디 집업 [스톤 블랙].jpg\n"
          ]
        },
        {
          "name": "stderr",
          "output_type": "stream",
          "text": [
            "hoodie-train:  71%|███████▏  | 285/400 [19:20<06:39,  3.48s/it]"
          ]
        },
        {
          "name": "stdout",
          "output_type": "stream",
          "text": [
            "\"has added graphic, is gray, and is oversized fit\"\n",
            "/home/sejong/Desktop/junseok/SPRC/musinsa/snap/men/hoodie/list.staff_666ace29b8c2f.jpg /home/sejong/Desktop/junseok/SPRC/musinsa/goods/men/hoodie/STONE WASHED ZIPUP HOODIE (BLACK).jpg\n"
          ]
        },
        {
          "name": "stderr",
          "output_type": "stream",
          "text": [
            "hoodie-train:  72%|███████▏  | 286/400 [19:25<07:33,  3.98s/it]"
          ]
        },
        {
          "name": "stdout",
          "output_type": "stream",
          "text": [
            "\"has added graphic, is gray, and is oversized fit\"\n",
            "/home/sejong/Desktop/junseok/SPRC/musinsa/snap/men/hoodie/844e0816f0bf41e1b2e956b902e15dee.jpg /home/sejong/Desktop/junseok/SPRC/musinsa/goods/men/hoodie/뉴 그린 테이핑 해시태그 오버핏 후드집업(아이스 그레이).jpg\n"
          ]
        },
        {
          "name": "stderr",
          "output_type": "stream",
          "text": [
            "hoodie-train:  72%|███████▏  | 287/400 [19:29<07:12,  3.83s/it]"
          ]
        },
        {
          "name": "stdout",
          "output_type": "stream",
          "text": [
            "\"has added graphic, is gray, and regular fit\"\n",
            "/home/sejong/Desktop/junseok/SPRC/musinsa/snap/men/hoodie/c8a5422d675f49f392177a287a207d97.jpg /home/sejong/Desktop/junseok/SPRC/musinsa/goods/men/hoodie/클럽 팀 에센셜 후디 집업 2.0 - 멜란지 그레이.jpg\n"
          ]
        },
        {
          "name": "stderr",
          "output_type": "stream",
          "text": [
            "hoodie-train:  72%|███████▏  | 288/400 [19:32<06:49,  3.65s/it]"
          ]
        },
        {
          "name": "stdout",
          "output_type": "stream",
          "text": [
            "\"is gray and regular fit\"\n",
            "/home/sejong/Desktop/junseok/SPRC/musinsa/snap/men/hoodie/13cc51c5dbbc452cabcfdfbe35720953.jpg /home/sejong/Desktop/junseok/SPRC/musinsa/goods/men/hoodie/SUNRISE STITCH LOGO HOOD ZIP UP_BLACK(IK2EFMM481A).jpg\n"
          ]
        },
        {
          "name": "stderr",
          "output_type": "stream",
          "text": [
            "hoodie-train:  72%|███████▏  | 289/400 [19:35<06:22,  3.44s/it]"
          ]
        },
        {
          "name": "stdout",
          "output_type": "stream",
          "text": [
            "\"has added graphic, is black, and is regular length\"\n",
            "/home/sejong/Desktop/junseok/SPRC/musinsa/snap/men/hoodie/77dd010eefdf4740bf3f9a5e87e57588.jpg /home/sejong/Desktop/junseok/SPRC/musinsa/goods/men/hoodie/VAMOS LABEL HOODIE ZIP UP PG PINK.jpg\n"
          ]
        },
        {
          "name": "stderr",
          "output_type": "stream",
          "text": [
            "hoodie-train:  72%|███████▎  | 290/400 [19:38<06:11,  3.37s/it]"
          ]
        },
        {
          "name": "stdout",
          "output_type": "stream",
          "text": [
            "\"has added graphic, is red, and is oversized fit\"\n",
            "/home/sejong/Desktop/junseok/SPRC/musinsa/snap/men/hoodie/a405d8565fd9468198e24643ea1dc2b3.jpg /home/sejong/Desktop/junseok/SPRC/musinsa/goods/men/hoodie/메테오 heavyweight 크럼블 후드집업 그레이 SJHD1392.jpg\n"
          ]
        },
        {
          "name": "stderr",
          "output_type": "stream",
          "text": [
            "hoodie-train:  73%|███████▎  | 291/400 [19:42<06:13,  3.43s/it]"
          ]
        },
        {
          "name": "stdout",
          "output_type": "stream",
          "text": [
            "\"has no graphic and pattern, is gray, and is regular fit\"\n",
            "/home/sejong/Desktop/junseok/SPRC/musinsa/snap/men/hoodie/cbd9bc504ea041f590d3281e49ae5da6.jpg /home/sejong/Desktop/junseok/SPRC/musinsa/goods/men/hoodie/980G 피그먼트 컷 후디 집업-차콜-.jpg\n"
          ]
        },
        {
          "name": "stderr",
          "output_type": "stream",
          "text": [
            "hoodie-train:  73%|███████▎  | 292/400 [19:47<07:00,  3.89s/it]"
          ]
        },
        {
          "name": "stdout",
          "output_type": "stream",
          "text": [
            "\"has no graphic and pattern, is gray, and is regular length\"\n",
            "/home/sejong/Desktop/junseok/SPRC/musinsa/snap/men/hoodie/a1ca1d67f156449198c9f83972ff53d7.jpg /home/sejong/Desktop/junseok/SPRC/musinsa/goods/men/hoodie/스몰 트위치 로고 후드 집업  그레이.jpg\n"
          ]
        },
        {
          "name": "stderr",
          "output_type": "stream",
          "text": [
            "hoodie-train:  73%|███████▎  | 293/400 [19:51<06:58,  3.91s/it]"
          ]
        },
        {
          "name": "stdout",
          "output_type": "stream",
          "text": [
            "\"has added graphic, is gray, and is regular fit\"\n",
            "/home/sejong/Desktop/junseok/SPRC/musinsa/snap/men/hoodie/42d0790502314a7186f8ffabb85d1325.jpg /home/sejong/Desktop/junseok/SPRC/musinsa/goods/men/hoodie/옐로우 해시태그 후드 집업(블랙).jpg\n"
          ]
        },
        {
          "name": "stderr",
          "output_type": "stream",
          "text": [
            "hoodie-train:  74%|███████▎  | 294/400 [19:54<06:48,  3.85s/it]"
          ]
        },
        {
          "name": "stdout",
          "output_type": "stream",
          "text": [
            "\"has added graphic, is black, and is oversized fit\"\n",
            "/home/sejong/Desktop/junseok/SPRC/musinsa/snap/men/hoodie/f9a41de7e1704bf19a05cca9974f3f01.jpg /home/sejong/Desktop/junseok/SPRC/musinsa/goods/men/hoodie/[논기모 OR 기모] 2WAY 오버핏 스웨트 후드 집업 [그레이].jpg\n"
          ]
        },
        {
          "name": "stderr",
          "output_type": "stream",
          "text": [
            "hoodie-train:  74%|███████▍  | 295/400 [19:59<07:02,  4.02s/it]"
          ]
        },
        {
          "name": "stdout",
          "output_type": "stream",
          "text": [
            "\"is gray and oversized fit\"\n",
            "/home/sejong/Desktop/junseok/SPRC/musinsa/snap/men/hoodie/a056a41fe3014e808fa24efc27bb9c58.jpg /home/sejong/Desktop/junseok/SPRC/musinsa/goods/men/hoodie/DENIM QUILTING HOOD ZIP UP-BLACK.jpg\n"
          ]
        },
        {
          "name": "stderr",
          "output_type": "stream",
          "text": [
            "hoodie-train:  74%|███████▍  | 296/400 [20:02<06:34,  3.79s/it]"
          ]
        },
        {
          "name": "stdout",
          "output_type": "stream",
          "text": [
            "\"is black and cropped length\"\n",
            "/home/sejong/Desktop/junseok/SPRC/musinsa/snap/men/hoodie/278e6af7bcfb4b74ab4c420fb1274ed5.jpg /home/sejong/Desktop/junseok/SPRC/musinsa/goods/men/hoodie/브이아이피 집업 후드 [차콜].jpg\n"
          ]
        },
        {
          "name": "stderr",
          "output_type": "stream",
          "text": [
            "hoodie-train:  74%|███████▍  | 297/400 [20:06<06:24,  3.73s/it]"
          ]
        },
        {
          "name": "stdout",
          "output_type": "stream",
          "text": [
            "\"has added graphic, is black, and is regular length\"\n",
            "/home/sejong/Desktop/junseok/SPRC/musinsa/snap/men/hoodie/5660849882e2410db209c7333e39a4d5.jpg /home/sejong/Desktop/junseok/SPRC/musinsa/goods/men/hoodie/Honda Original Wing logo Hoodie Zip-up Black.jpg\n"
          ]
        },
        {
          "name": "stderr",
          "output_type": "stream",
          "text": [
            "hoodie-train:  74%|███████▍  | 298/400 [20:10<06:40,  3.93s/it]"
          ]
        },
        {
          "name": "stdout",
          "output_type": "stream",
          "text": [
            "\"has added graphic, is black, and is regular fit\"\n",
            "/home/sejong/Desktop/junseok/SPRC/musinsa/snap/men/hoodie/15bcda4e55844c90b0be89514b0fa434.jpg /home/sejong/Desktop/junseok/SPRC/musinsa/goods/men/hoodie/TEAR 투웨이 후드집업 - 블랙.jpg\n"
          ]
        },
        {
          "name": "stderr",
          "output_type": "stream",
          "text": [
            "hoodie-train:  75%|███████▍  | 299/400 [20:13<06:04,  3.61s/it]"
          ]
        },
        {
          "name": "stdout",
          "output_type": "stream",
          "text": [
            "\"is black, has added graphic, and is regular fit\"\n",
            "/home/sejong/Desktop/junseok/SPRC/musinsa/snap/men/hoodie/d0843bde515e403a95418deca89d6b81.jpg /home/sejong/Desktop/junseok/SPRC/musinsa/goods/men/hoodie/소프트쉘 후디 밀리터리 올리브.jpg\n"
          ]
        },
        {
          "name": "stderr",
          "output_type": "stream",
          "text": [
            "hoodie-train:  75%|███████▌  | 300/400 [20:18<06:47,  4.07s/it]"
          ]
        },
        {
          "name": "stdout",
          "output_type": "stream",
          "text": [
            "\"has added graphic, is gray, and regular length with regular fit\"\n",
            "/home/sejong/Desktop/junseok/SPRC/musinsa/snap/men/hoodie/cbb9d586e5014a85a20a4543d4e29c74.jpg /home/sejong/Desktop/junseok/SPRC/musinsa/goods/men/hoodie/가먼트다잉 점퍼형 후디 풀집업  브라운.jpg\n"
          ]
        },
        {
          "name": "stderr",
          "output_type": "stream",
          "text": [
            "hoodie-train:  75%|███████▌  | 301/400 [20:21<06:14,  3.79s/it]"
          ]
        },
        {
          "name": "stdout",
          "output_type": "stream",
          "text": [
            "\"has no graphic and pattern, is gray, and is regular length\"\n",
            "/home/sejong/Desktop/junseok/SPRC/musinsa/snap/men/hoodie/ce7586c7f57e46e39e89b114675e67c6.jpg /home/sejong/Desktop/junseok/SPRC/musinsa/goods/men/hoodie/와일드라이프 후드집업 딥그린.jpg\n"
          ]
        },
        {
          "name": "stderr",
          "output_type": "stream",
          "text": [
            "hoodie-train:  76%|███████▌  | 302/400 [20:24<05:55,  3.62s/it]"
          ]
        },
        {
          "name": "stdout",
          "output_type": "stream",
          "text": [
            "\"has added graphic, is teal, and is regular fit\"\n",
            "/home/sejong/Desktop/junseok/SPRC/musinsa/snap/men/hoodie/list.staff_660d0bb37d751.jpg /home/sejong/Desktop/junseok/SPRC/musinsa/goods/men/hoodie/[기모] 1988 Appliquer Hoodie Navy.jpg\n"
          ]
        },
        {
          "name": "stderr",
          "output_type": "stream",
          "text": [
            "hoodie-train:  76%|███████▌  | 303/400 [20:28<05:40,  3.51s/it]"
          ]
        },
        {
          "name": "stdout",
          "output_type": "stream",
          "text": [
            "\"has added graphic, is navy, and is regular fit\"\n",
            "/home/sejong/Desktop/junseok/SPRC/musinsa/snap/men/hoodie/2024043018320800000089082.jpg /home/sejong/Desktop/junseok/SPRC/musinsa/goods/men/hoodie/BLUER SMALL LOGO HOODIE ZIPUP BLACK.jpg\n"
          ]
        },
        {
          "name": "stderr",
          "output_type": "stream",
          "text": [
            "hoodie-train:  76%|███████▌  | 304/400 [20:31<05:32,  3.46s/it]"
          ]
        },
        {
          "name": "stdout",
          "output_type": "stream",
          "text": [
            "\"has added graphic, is black, and is oversized fit\"\n",
            "/home/sejong/Desktop/junseok/SPRC/musinsa/snap/men/hoodie/6185bf96169f49ae986d94b2d9dc4151.jpg /home/sejong/Desktop/junseok/SPRC/musinsa/goods/men/hoodie/Capital Zip Up Hoodie Heather Grey.jpg\n"
          ]
        },
        {
          "name": "stderr",
          "output_type": "stream",
          "text": [
            "hoodie-train:  76%|███████▋  | 305/400 [20:38<07:11,  4.55s/it]"
          ]
        },
        {
          "name": "stdout",
          "output_type": "stream",
          "text": [
            "\"has added graphic, is gray, and regular fit\"\n",
            "/home/sejong/Desktop/junseok/SPRC/musinsa/snap/men/hoodie/8d627f4b6340453d990f15aaf95c85f5.jpg /home/sejong/Desktop/junseok/SPRC/musinsa/goods/men/hoodie/피그먼트 워싱 니트 후드집업 - CHARCOAL.jpg\n"
          ]
        },
        {
          "name": "stderr",
          "output_type": "stream",
          "text": [
            "hoodie-train:  76%|███████▋  | 306/400 [20:42<06:52,  4.39s/it]"
          ]
        },
        {
          "name": "stdout",
          "output_type": "stream",
          "text": [
            "\"has no graphic and pattern, is gray, and is oversized fit\"\n",
            "/home/sejong/Desktop/junseok/SPRC/musinsa/snap/men/hoodie/a00d660d5fee4879aed6475dd238ec03.jpg /home/sejong/Desktop/junseok/SPRC/musinsa/goods/men/hoodie/P2458 헤비 라인 후드 집업  [2 COLOR].jpg\n"
          ]
        },
        {
          "name": "stderr",
          "output_type": "stream",
          "text": [
            "hoodie-train:  77%|███████▋  | 307/400 [20:46<06:27,  4.17s/it]"
          ]
        },
        {
          "name": "stdout",
          "output_type": "stream",
          "text": [
            "\"has added graphic, is black, and is oversized fit\"\n",
            "/home/sejong/Desktop/junseok/SPRC/musinsa/snap/men/hoodie/757ababa4ef54529910f862302d19771.jpg /home/sejong/Desktop/junseok/SPRC/musinsa/goods/men/hoodie/스트라이프 니트 후드집업 [카키].jpg\n"
          ]
        },
        {
          "name": "stderr",
          "output_type": "stream",
          "text": [
            "hoodie-train:  77%|███████▋  | 308/400 [20:49<06:01,  3.93s/it]"
          ]
        },
        {
          "name": "stdout",
          "output_type": "stream",
          "text": [
            "\"has a striped pattern, is green, and is regular length\"\n",
            "/home/sejong/Desktop/junseok/SPRC/musinsa/snap/men/hoodie/bc7a4c88b7b045769024f861ed77a02f.jpg /home/sejong/Desktop/junseok/SPRC/musinsa/goods/men/hoodie/메테오 heavyweight 크럼블 후드집업 그레이 SJHD1392.jpg\n"
          ]
        },
        {
          "name": "stderr",
          "output_type": "stream",
          "text": [
            "hoodie-train:  77%|███████▋  | 309/400 [20:53<06:00,  3.96s/it]"
          ]
        },
        {
          "name": "stdout",
          "output_type": "stream",
          "text": [
            "\"is gray and regular length\"\n",
            "/home/sejong/Desktop/junseok/SPRC/musinsa/snap/men/hoodie/f439cab3a2614dad87825d5736f9913b.jpg /home/sejong/Desktop/junseok/SPRC/musinsa/goods/men/hoodie/엑스트라 오버사이즈 오픈 후드 스웨트 집업 [미디엄 그레이].jpg\n"
          ]
        },
        {
          "name": "stderr",
          "output_type": "stream",
          "text": [
            "hoodie-train:  78%|███████▊  | 310/400 [20:57<05:38,  3.76s/it]"
          ]
        },
        {
          "name": "stdout",
          "output_type": "stream",
          "text": [
            "\"is gray and oversized fit\"\n",
            "/home/sejong/Desktop/junseok/SPRC/musinsa/snap/men/hoodie/1227f89a3fec4e879534c1f6a51cbca2.jpg /home/sejong/Desktop/junseok/SPRC/musinsa/goods/men/hoodie/에센셜 기모 후드집업 유니 다크그린.jpg\n"
          ]
        },
        {
          "name": "stderr",
          "output_type": "stream",
          "text": [
            "hoodie-train:  78%|███████▊  | 311/400 [21:01<05:44,  3.87s/it]"
          ]
        },
        {
          "name": "stdout",
          "output_type": "stream",
          "text": [
            "\"has added graphic, is green, and is regular fit\"\n",
            "/home/sejong/Desktop/junseok/SPRC/musinsa/snap/men/hoodie/468cd82bfce642c191d939d569f0cef4.jpg /home/sejong/Desktop/junseok/SPRC/musinsa/goods/men/hoodie/플리스 오버 후드 집업 - 4 COLOR.jpg\n"
          ]
        },
        {
          "name": "stderr",
          "output_type": "stream",
          "text": [
            "hoodie-train:  78%|███████▊  | 312/400 [21:04<05:18,  3.62s/it]"
          ]
        },
        {
          "name": "stdout",
          "output_type": "stream",
          "text": [
            "\"is white and regular length\"\n",
            "/home/sejong/Desktop/junseok/SPRC/musinsa/snap/men/hoodie/51780d10351246938af41ff83256c75a.jpg /home/sejong/Desktop/junseok/SPRC/musinsa/goods/men/hoodie/[SET] 베이지 오버핏 니트 후드집업 + 밴딩 팬츠 셋업 (0TTS4F102I2).jpg\n"
          ]
        },
        {
          "name": "stderr",
          "output_type": "stream",
          "text": [
            "hoodie-train:  78%|███████▊  | 313/400 [21:10<06:32,  4.51s/it]"
          ]
        },
        {
          "name": "stdout",
          "output_type": "stream",
          "text": [
            "\"has no graphic and pattern, is gray, and is oversized fit\"\n",
            "/home/sejong/Desktop/junseok/SPRC/musinsa/snap/men/hoodie/9c31476ab1754c528df1f3b5ff732cec.jpg /home/sejong/Desktop/junseok/SPRC/musinsa/goods/men/hoodie/CB 스웨트 후드 집업 (블랙).jpg\n"
          ]
        },
        {
          "name": "stderr",
          "output_type": "stream",
          "text": [
            "hoodie-train:  78%|███████▊  | 314/400 [21:18<07:48,  5.45s/it]"
          ]
        },
        {
          "name": "stdout",
          "output_type": "stream",
          "text": [
            "\"has no graphic and pattern, is black, and is oversized fit\"\n",
            "/home/sejong/Desktop/junseok/SPRC/musinsa/snap/men/hoodie/144c002c09d847799e4918ccf7c5036f.jpg /home/sejong/Desktop/junseok/SPRC/musinsa/goods/men/hoodie/[무료반품] 베이직 메가로고 후드집업 NY (Ivory).jpg\n"
          ]
        },
        {
          "name": "stderr",
          "output_type": "stream",
          "text": [
            "hoodie-train:  79%|███████▉  | 315/400 [21:21<06:45,  4.78s/it]"
          ]
        },
        {
          "name": "stdout",
          "output_type": "stream",
          "text": [
            "\"has added graphic, is white, and is regular fit\"\n",
            "/home/sejong/Desktop/junseok/SPRC/musinsa/snap/men/hoodie/f13570080a444cd885b132e61d572940.jpg /home/sejong/Desktop/junseok/SPRC/musinsa/goods/men/hoodie/Gradation Washed Disk Logo Hood Zip-Up Brick.jpg\n"
          ]
        },
        {
          "name": "stderr",
          "output_type": "stream",
          "text": [
            "hoodie-train:  79%|███████▉  | 316/400 [21:29<07:54,  5.65s/it]"
          ]
        },
        {
          "name": "stdout",
          "output_type": "stream",
          "text": [
            "\"has added graphic, is red, and is oversized fit\"\n",
            "/home/sejong/Desktop/junseok/SPRC/musinsa/snap/men/hoodie/a6a05a0aa22649a8b0cdb27cad3a6ef4.jpg /home/sejong/Desktop/junseok/SPRC/musinsa/goods/men/hoodie/DSN-Logo Zip Up Hoodie Brown.jpg\n"
          ]
        },
        {
          "name": "stderr",
          "output_type": "stream",
          "text": [
            "hoodie-train:  79%|███████▉  | 317/400 [21:32<06:54,  4.99s/it]"
          ]
        },
        {
          "name": "stdout",
          "output_type": "stream",
          "text": [
            "\"has no graphic and pattern, is olive green, and is regular length\"\n",
            "/home/sejong/Desktop/junseok/SPRC/musinsa/snap/men/hoodie/list.staff_660e1753ec0bb.jpg /home/sejong/Desktop/junseok/SPRC/musinsa/goods/men/hoodie/브이아이피 집업 후드 [차콜].jpg\n"
          ]
        },
        {
          "name": "stderr",
          "output_type": "stream",
          "text": [
            "hoodie-train:  80%|███████▉  | 318/400 [21:36<06:25,  4.70s/it]"
          ]
        },
        {
          "name": "stdout",
          "output_type": "stream",
          "text": [
            "\"is black and has added graphic\"\n",
            "/home/sejong/Desktop/junseok/SPRC/musinsa/snap/men/hoodie/757ababa4ef54529910f862302d19771.jpg /home/sejong/Desktop/junseok/SPRC/musinsa/goods/men/hoodie/TEAR 투웨이 후드집업 - 블랙.jpg\n"
          ]
        },
        {
          "name": "stderr",
          "output_type": "stream",
          "text": [
            "hoodie-train:  80%|███████▉  | 319/400 [21:40<06:02,  4.47s/it]"
          ]
        },
        {
          "name": "stdout",
          "output_type": "stream",
          "text": [
            "\"has added graphic, is black, and is regular fit\"\n",
            "/home/sejong/Desktop/junseok/SPRC/musinsa/snap/men/hoodie/list.staff_660a223e18a3c.jpg /home/sejong/Desktop/junseok/SPRC/musinsa/goods/men/hoodie/OG BOCACI HEAVYWEIGHT HOOD ZIP UP PARKA _ DARK BROWN.jpg\n"
          ]
        },
        {
          "name": "stderr",
          "output_type": "stream",
          "text": [
            "hoodie-train:  80%|████████  | 320/400 [21:44<05:31,  4.15s/it]"
          ]
        },
        {
          "name": "stdout",
          "output_type": "stream",
          "text": [
            "\"has added graphic, is brown, and is oversized fit\"\n",
            "/home/sejong/Desktop/junseok/SPRC/musinsa/snap/men/hoodie/386baae7d04c46d6bafe21786da0a42f.jpg /home/sejong/Desktop/junseok/SPRC/musinsa/goods/men/hoodie/[최대 1.2만원 할인] 엘박 니트 후디드 집업 (다크 네이비).jpg\n"
          ]
        },
        {
          "name": "stderr",
          "output_type": "stream",
          "text": [
            "hoodie-train:  80%|████████  | 321/400 [21:47<05:08,  3.91s/it]"
          ]
        },
        {
          "name": "stdout",
          "output_type": "stream",
          "text": [
            "\"has added graphic, is navy, and is regular length\"\n",
            "/home/sejong/Desktop/junseok/SPRC/musinsa/snap/men/hoodie/list.staff_661a409f04fb5.jpg /home/sejong/Desktop/junseok/SPRC/musinsa/goods/men/hoodie/로그 오버핏 투웨이 기모 후드집업 6종 그레이 YHHD2462.jpg\n"
          ]
        },
        {
          "name": "stderr",
          "output_type": "stream",
          "text": [
            "hoodie-train:  80%|████████  | 322/400 [21:51<05:03,  3.90s/it]"
          ]
        },
        {
          "name": "stdout",
          "output_type": "stream",
          "text": [
            "\"has no graphic and pattern, is gray, and is oversized fit\"\n",
            "/home/sejong/Desktop/junseok/SPRC/musinsa/snap/men/hoodie/561c07c32cdb4f61885f654f53a4c1d9.jpg /home/sejong/Desktop/junseok/SPRC/musinsa/goods/men/hoodie/브이아이피 집업 후드 [샌드].jpg\n"
          ]
        },
        {
          "name": "stderr",
          "output_type": "stream",
          "text": [
            "hoodie-train:  81%|████████  | 323/400 [21:54<04:53,  3.81s/it]"
          ]
        },
        {
          "name": "stdout",
          "output_type": "stream",
          "text": [
            "\"has added graphic, is gray, and is regular fit\"\n",
            "/home/sejong/Desktop/junseok/SPRC/musinsa/snap/men/hoodie/e440548621bc4c8dbeac802bbe8c76b7.jpg /home/sejong/Desktop/junseok/SPRC/musinsa/goods/men/hoodie/CHECK PATCHWORK HOOD ZIP-UP [BROWN].jpg\n"
          ]
        },
        {
          "name": "stderr",
          "output_type": "stream",
          "text": [
            "hoodie-train:  81%|████████  | 324/400 [21:58<04:50,  3.82s/it]"
          ]
        },
        {
          "name": "stdout",
          "output_type": "stream",
          "text": [
            "\"has a checkered pattern, is brown, and is cropped length\"\n",
            "/home/sejong/Desktop/junseok/SPRC/musinsa/snap/men/hoodie/2024041217555000000042422.jpg /home/sejong/Desktop/junseok/SPRC/musinsa/goods/men/hoodie/TCM stripe hooded zip-up (grey_whiteivory).jpg\n"
          ]
        },
        {
          "name": "stderr",
          "output_type": "stream",
          "text": [
            "hoodie-train:  81%|████████▏ | 325/400 [22:02<04:37,  3.70s/it]"
          ]
        },
        {
          "name": "stdout",
          "output_type": "stream",
          "text": [
            "\"has a striped pattern and is gray\"\n",
            "/home/sejong/Desktop/junseok/SPRC/musinsa/snap/men/hoodie/278e6af7bcfb4b74ab4c420fb1274ed5.jpg /home/sejong/Desktop/junseok/SPRC/musinsa/goods/men/hoodie/심볼 스톤 피그먼트 후드 집 업-차콜.jpg\n"
          ]
        },
        {
          "name": "stderr",
          "output_type": "stream",
          "text": [
            "hoodie-train:  82%|████████▏ | 326/400 [22:05<04:23,  3.57s/it]"
          ]
        },
        {
          "name": "stdout",
          "output_type": "stream",
          "text": [
            "\"has added graphic, is gray, and is oversized fit\"\n",
            "/home/sejong/Desktop/junseok/SPRC/musinsa/snap/men/hoodie/6fd9ba19304149bcaec40a2d89d4af92.jpg /home/sejong/Desktop/junseok/SPRC/musinsa/goods/men/hoodie/리조트 후드 집업, 블루그레이.jpg\n"
          ]
        },
        {
          "name": "stderr",
          "output_type": "stream",
          "text": [
            "hoodie-train:  82%|████████▏ | 327/400 [22:09<04:32,  3.74s/it]"
          ]
        },
        {
          "name": "stdout",
          "output_type": "stream",
          "text": [
            "\"has added graphic, is gray, and is oversized fit\"\n",
            "/home/sejong/Desktop/junseok/SPRC/musinsa/snap/men/hoodie/66fae1aff2124a7bac76f9856a84a3f9.jpg /home/sejong/Desktop/junseok/SPRC/musinsa/goods/men/hoodie/후드집업 멜란지그레이 옐로우그레이.jpg\n"
          ]
        },
        {
          "name": "stderr",
          "output_type": "stream",
          "text": [
            "hoodie-train:  82%|████████▏ | 328/400 [22:13<04:31,  3.77s/it]"
          ]
        },
        {
          "name": "stdout",
          "output_type": "stream",
          "text": [
            "\"has added graphic, is gray, and oversized fit\"\n",
            "/home/sejong/Desktop/junseok/SPRC/musinsa/snap/men/hoodie/2024040318490900000096074.jpg /home/sejong/Desktop/junseok/SPRC/musinsa/goods/men/hoodie/자카드 후디 집업 [버건디].jpg\n"
          ]
        },
        {
          "name": "stderr",
          "output_type": "stream",
          "text": [
            "hoodie-train:  82%|████████▏ | 329/400 [22:16<04:19,  3.66s/it]"
          ]
        },
        {
          "name": "stdout",
          "output_type": "stream",
          "text": [
            "\"has no graphic and pattern, is maroon, and is regular length with regular fit\"\n",
            "/home/sejong/Desktop/junseok/SPRC/musinsa/snap/men/hoodie/06128e5dd77d452a9da0450fdb3f784c.jpg /home/sejong/Desktop/junseok/SPRC/musinsa/goods/men/hoodie/[무료반품] 베이직 메가로고 후드집업 NY (Black).jpg\n"
          ]
        },
        {
          "name": "stderr",
          "output_type": "stream",
          "text": [
            "hoodie-train:  82%|████████▎ | 330/400 [22:22<04:49,  4.14s/it]"
          ]
        },
        {
          "name": "stdout",
          "output_type": "stream",
          "text": [
            "\"has added graphic, is black, and is regular length\"\n",
            "/home/sejong/Desktop/junseok/SPRC/musinsa/snap/men/hoodie/list.staff_660e731d869f5.jpg /home/sejong/Desktop/junseok/SPRC/musinsa/goods/men/hoodie/FIVETWO LOGO BADGE HOODED JACKET [OFF WHITE].jpg\n"
          ]
        },
        {
          "name": "stderr",
          "output_type": "stream",
          "text": [
            "hoodie-train:  83%|████████▎ | 331/400 [22:25<04:27,  3.87s/it]"
          ]
        },
        {
          "name": "stdout",
          "output_type": "stream",
          "text": [
            "\"has no graphic and pattern, is white, and is regular length\"\n",
            "/home/sejong/Desktop/junseok/SPRC/musinsa/snap/men/hoodie/c58c5f1c1b7042d78c1c105dd5f93136.jpg /home/sejong/Desktop/junseok/SPRC/musinsa/goods/men/hoodie/테오 코튼 올 데이 후드 집업 베이지.jpg\n"
          ]
        },
        {
          "name": "stderr",
          "output_type": "stream",
          "text": [
            "hoodie-train:  83%|████████▎ | 332/400 [22:28<04:14,  3.74s/it]"
          ]
        },
        {
          "name": "stdout",
          "output_type": "stream",
          "text": [
            "\"has no graphic and pattern, is beige, and regular fit\"\n",
            "/home/sejong/Desktop/junseok/SPRC/musinsa/snap/men/hoodie/list.staff_660122a591438.jpg /home/sejong/Desktop/junseok/SPRC/musinsa/goods/men/hoodie/투톤아치 후드집업_그레이.jpg\n"
          ]
        },
        {
          "name": "stderr",
          "output_type": "stream",
          "text": [
            "hoodie-train:  83%|████████▎ | 333/400 [22:32<04:01,  3.60s/it]"
          ]
        },
        {
          "name": "stdout",
          "output_type": "stream",
          "text": [
            "\"has added graphic, is gray, and regular length\"\n",
            "/home/sejong/Desktop/junseok/SPRC/musinsa/snap/men/hoodie/70b07afd6919482cb0f33b5e6c6d08e2.jpg /home/sejong/Desktop/junseok/SPRC/musinsa/goods/men/hoodie/Sign Logo Hooded Zip-up - Gray.jpg\n"
          ]
        },
        {
          "name": "stderr",
          "output_type": "stream",
          "text": [
            "hoodie-train:  84%|████████▎ | 334/400 [22:35<03:46,  3.43s/it]"
          ]
        },
        {
          "name": "stdout",
          "output_type": "stream",
          "text": [
            "\"has added graphic, is gray, and is oversized fit\"\n",
            "/home/sejong/Desktop/junseok/SPRC/musinsa/snap/men/hoodie/21591b5f4f32445a969f40b67a89f760.jpg /home/sejong/Desktop/junseok/SPRC/musinsa/goods/men/hoodie/ERBE OVERSIZED ZIP HOODIE [BROWN].jpg\n"
          ]
        },
        {
          "name": "stderr",
          "output_type": "stream",
          "text": [
            "hoodie-train:  84%|████████▍ | 335/400 [22:38<03:36,  3.33s/it]"
          ]
        },
        {
          "name": "stdout",
          "output_type": "stream",
          "text": [
            "\"has no graphic and pattern, is gray, and is oversized fit\"\n",
            "/home/sejong/Desktop/junseok/SPRC/musinsa/snap/men/hoodie/15bcda4e55844c90b0be89514b0fa434.jpg /home/sejong/Desktop/junseok/SPRC/musinsa/goods/men/hoodie/더티 핸드 페인팅 후드집업 (그레이).jpg\n"
          ]
        },
        {
          "name": "stderr",
          "output_type": "stream",
          "text": [
            "hoodie-train:  84%|████████▍ | 336/400 [22:41<03:29,  3.27s/it]"
          ]
        },
        {
          "name": "stdout",
          "output_type": "stream",
          "text": [
            "\"has added graphic, is gray, and is oversized fit\"\n",
            "/home/sejong/Desktop/junseok/SPRC/musinsa/snap/men/hoodie/list.staff_6614f220d1a7a.jpg /home/sejong/Desktop/junseok/SPRC/musinsa/goods/men/hoodie/ASSEMBLY ZIP HOODIE GREY.jpg\n"
          ]
        },
        {
          "name": "stderr",
          "output_type": "stream",
          "text": [
            "hoodie-train:  84%|████████▍ | 337/400 [22:44<03:25,  3.26s/it]"
          ]
        },
        {
          "name": "stdout",
          "output_type": "stream",
          "text": [
            "\"has added graphic, is gray, and is oversized fit\"\n",
            "/home/sejong/Desktop/junseok/SPRC/musinsa/snap/men/hoodie/c3a7dcc348c547b8bb5358fe664f9c49.jpg /home/sejong/Desktop/junseok/SPRC/musinsa/goods/men/hoodie/WASHED GRAPHIC HOOD ZIP-UP (NAVY).jpg\n"
          ]
        },
        {
          "name": "stderr",
          "output_type": "stream",
          "text": [
            "hoodie-train:  84%|████████▍ | 338/400 [22:47<03:22,  3.26s/it]"
          ]
        },
        {
          "name": "stdout",
          "output_type": "stream",
          "text": [
            "\"has added graphic, is gray, and is oversized fit\"\n",
            "/home/sejong/Desktop/junseok/SPRC/musinsa/snap/men/hoodie/becbce2c521a4551b297862736a343e0.jpg /home/sejong/Desktop/junseok/SPRC/musinsa/goods/men/hoodie/오아시스 자수 후드 스웨트 집업 그레이.jpg\n"
          ]
        },
        {
          "name": "stderr",
          "output_type": "stream",
          "text": [
            "hoodie-train:  85%|████████▍ | 339/400 [22:51<03:31,  3.48s/it]"
          ]
        },
        {
          "name": "stdout",
          "output_type": "stream",
          "text": [
            "\"has added graphic, is gray, and is regular fit\"\n",
            "/home/sejong/Desktop/junseok/SPRC/musinsa/snap/men/hoodie/11d28c5be96d490883694dcfca81773d.jpg /home/sejong/Desktop/junseok/SPRC/musinsa/goods/men/hoodie/[SET] 그레이 오버핏 니트 후드집업 + 밴딩 팬츠 셋업 (0TTS4F102G2).jpg\n"
          ]
        },
        {
          "name": "stderr",
          "output_type": "stream",
          "text": [
            "hoodie-train:  85%|████████▌ | 340/400 [22:54<03:15,  3.26s/it]"
          ]
        },
        {
          "name": "stdout",
          "output_type": "stream",
          "text": [
            "\"is gray and regular fit\"\n",
            "/home/sejong/Desktop/junseok/SPRC/musinsa/snap/men/hoodie/96bcb433f2be41b7b205eb0e5942c82c.jpg /home/sejong/Desktop/junseok/SPRC/musinsa/goods/men/hoodie/[논기모 OR 기모] 2WAY 오버핏 스웨트 후드 집업 [화이트 멜란지].jpg\n"
          ]
        },
        {
          "name": "stderr",
          "output_type": "stream",
          "text": [
            "hoodie-train:  85%|████████▌ | 341/400 [22:58<03:21,  3.41s/it]"
          ]
        },
        {
          "name": "stdout",
          "output_type": "stream",
          "text": [
            "\"is gray and oversized fit\"\n",
            "/home/sejong/Desktop/junseok/SPRC/musinsa/snap/men/hoodie/13cc51c5dbbc452cabcfdfbe35720953.jpg /home/sejong/Desktop/junseok/SPRC/musinsa/goods/men/hoodie/백로고 스쿠바 후드 집업 BLACK.jpg\n"
          ]
        },
        {
          "name": "stderr",
          "output_type": "stream",
          "text": [
            "hoodie-train:  86%|████████▌ | 342/400 [23:02<03:27,  3.58s/it]"
          ]
        },
        {
          "name": "stdout",
          "output_type": "stream",
          "text": [
            "\"is black and regular length with oversized fit\"\n",
            "/home/sejong/Desktop/junseok/SPRC/musinsa/snap/men/hoodie/12fc25e9248548eab1081b106c1e637d.jpg /home/sejong/Desktop/junseok/SPRC/musinsa/goods/men/hoodie/엠브로이더리 댄 후드집업_그레이.jpg\n"
          ]
        },
        {
          "name": "stderr",
          "output_type": "stream",
          "text": [
            "hoodie-train:  86%|████████▌ | 343/400 [23:05<03:15,  3.42s/it]"
          ]
        },
        {
          "name": "stdout",
          "output_type": "stream",
          "text": [
            "\"has added graphic, is gray, and is regular fit\"\n",
            "/home/sejong/Desktop/junseok/SPRC/musinsa/snap/men/hoodie/list.staff_6604bd1b2ab32.jpg /home/sejong/Desktop/junseok/SPRC/musinsa/goods/men/hoodie/[최대 1.2만원 할인] 크리스피 타슬란 긴팔 피스테 블랙(UP321CWT93).jpg\n"
          ]
        },
        {
          "name": "stderr",
          "output_type": "stream",
          "text": [
            "hoodie-train:  86%|████████▌ | 344/400 [23:13<04:30,  4.83s/it]"
          ]
        },
        {
          "name": "stdout",
          "output_type": "stream",
          "text": [
            "\"has added graphic, is black, and is regular fit\"\n",
            "/home/sejong/Desktop/junseok/SPRC/musinsa/snap/men/hoodie/b5a3e758dbb241d1a7b7f1a895fa0685.jpg /home/sejong/Desktop/junseok/SPRC/musinsa/goods/men/hoodie/[2-WAY] 피크 스타 피그먼트 후드 집업 스모크블랙.jpg\n"
          ]
        },
        {
          "name": "stderr",
          "output_type": "stream",
          "text": [
            "hoodie-train:  86%|████████▋ | 345/400 [23:17<04:08,  4.51s/it]"
          ]
        },
        {
          "name": "stdout",
          "output_type": "stream",
          "text": [
            "\"is black, has added graphic, and is oversized fit\"\n",
            "/home/sejong/Desktop/junseok/SPRC/musinsa/snap/men/hoodie/2024040518485400000076813.jpg /home/sejong/Desktop/junseok/SPRC/musinsa/goods/men/hoodie/크로쉐 후드 집업 아이보리.jpg\n"
          ]
        },
        {
          "name": "stderr",
          "output_type": "stream",
          "text": [
            "hoodie-train:  86%|████████▋ | 346/400 [23:21<04:06,  4.56s/it]"
          ]
        },
        {
          "name": "stdout",
          "output_type": "stream",
          "text": [
            "\"has no graphic and pattern, is white, and is regular length\"\n",
            "/home/sejong/Desktop/junseok/SPRC/musinsa/snap/men/hoodie/55d887a170c94a3482ff7c5ccc61fb3d.jpg /home/sejong/Desktop/junseok/SPRC/musinsa/goods/men/hoodie/[프렌치테리] 루즈핏 2-WAY 후드집업_SPMZE49C01.jpg\n"
          ]
        },
        {
          "name": "stderr",
          "output_type": "stream",
          "text": [
            "hoodie-train:  87%|████████▋ | 347/400 [23:28<04:31,  5.12s/it]"
          ]
        },
        {
          "name": "stdout",
          "output_type": "stream",
          "text": [
            "\"has no graphic and pattern, is gray, and is regular fit\"\n",
            "/home/sejong/Desktop/junseok/SPRC/musinsa/snap/men/hoodie/52abe1ad5ad6415ebbbc48aa35b158cf.jpg /home/sejong/Desktop/junseok/SPRC/musinsa/goods/men/hoodie/그래픽 벌룬오버 후드집업 - 블랙.jpg\n"
          ]
        },
        {
          "name": "stderr",
          "output_type": "stream",
          "text": [
            "hoodie-train:  87%|████████▋ | 348/400 [23:31<04:01,  4.64s/it]"
          ]
        },
        {
          "name": "stdout",
          "output_type": "stream",
          "text": [
            "\"has added graphic, is black, and is oversized fit\"\n",
            "/home/sejong/Desktop/junseok/SPRC/musinsa/snap/men/hoodie/f6613bdadf514d6387ddc1095d8ec91d.jpg /home/sejong/Desktop/junseok/SPRC/musinsa/goods/men/hoodie/Capital Zip Up Hoodie Light Sage.jpg\n"
          ]
        },
        {
          "name": "stderr",
          "output_type": "stream",
          "text": [
            "hoodie-train:  87%|████████▋ | 349/400 [23:35<03:35,  4.23s/it]"
          ]
        },
        {
          "name": "stdout",
          "output_type": "stream",
          "text": [
            "\"has added graphic, is green, and is regular fit\"\n",
            "/home/sejong/Desktop/junseok/SPRC/musinsa/snap/men/hoodie/57493d75cf774a4595c92806cea1cb6c.jpg /home/sejong/Desktop/junseok/SPRC/musinsa/goods/men/hoodie/[기모선택] 어센틱 후드집업 [블랙].jpg\n"
          ]
        },
        {
          "name": "stderr",
          "output_type": "stream",
          "text": [
            "hoodie-train:  88%|████████▊ | 350/400 [23:38<03:16,  3.94s/it]"
          ]
        },
        {
          "name": "stdout",
          "output_type": "stream",
          "text": [
            "\"has added graphic, is black, and is regular fit\"\n",
            "/home/sejong/Desktop/junseok/SPRC/musinsa/snap/men/hoodie/557411e7ee11431891277d023f6f6f54.jpg /home/sejong/Desktop/junseok/SPRC/musinsa/goods/men/hoodie/[2PACK] 2WAY 세미 오버핏 스웻 후드 집업.jpg\n"
          ]
        },
        {
          "name": "stderr",
          "output_type": "stream",
          "text": [
            "hoodie-train:  88%|████████▊ | 351/400 [23:42<03:09,  3.87s/it]"
          ]
        },
        {
          "name": "stdout",
          "output_type": "stream",
          "text": [
            "\"is black and regular length with regular fit\"\n",
            "/home/sejong/Desktop/junseok/SPRC/musinsa/snap/men/hoodie/195a8c7558794d079f70c94277497c9f.jpg /home/sejong/Desktop/junseok/SPRC/musinsa/goods/men/hoodie/워시드 후디 재킷 - 블랙 _ JM7285.jpg\n"
          ]
        },
        {
          "name": "stderr",
          "output_type": "stream",
          "text": [
            "hoodie-train:  88%|████████▊ | 352/400 [23:45<03:02,  3.81s/it]"
          ]
        },
        {
          "name": "stdout",
          "output_type": "stream",
          "text": [
            "\"has added graphic, is black, and is oversized fit\"\n",
            "/home/sejong/Desktop/junseok/SPRC/musinsa/snap/men/hoodie/75dcd9b3b09e4245a7008d5577a4517a.jpg /home/sejong/Desktop/junseok/SPRC/musinsa/goods/men/hoodie/공용 솔리드 무지 기모 후드집업_053(10440-034-801-11).jpg\n"
          ]
        },
        {
          "name": "stderr",
          "output_type": "stream",
          "text": [
            "hoodie-train:  88%|████████▊ | 353/400 [23:49<02:58,  3.81s/it]"
          ]
        },
        {
          "name": "stdout",
          "output_type": "stream",
          "text": [
            "\"has no graphic and pattern, is gray, and is regular fit\"\n",
            "/home/sejong/Desktop/junseok/SPRC/musinsa/snap/men/hoodie/c1cc8b50363d40ed8a6f5aef56ef55c1.jpg /home/sejong/Desktop/junseok/SPRC/musinsa/goods/men/hoodie/베이직 로고 후드집업 그레이.jpg\n"
          ]
        },
        {
          "name": "stderr",
          "output_type": "stream",
          "text": [
            "hoodie-train:  88%|████████▊ | 354/400 [23:53<03:02,  3.97s/it]"
          ]
        },
        {
          "name": "stdout",
          "output_type": "stream",
          "text": [
            "\"has added graphic, is gray, and is regular fit\"\n",
            "/home/sejong/Desktop/junseok/SPRC/musinsa/snap/men/hoodie/135be5e9028f4d6789f9bca61b9f1e76.jpg /home/sejong/Desktop/junseok/SPRC/musinsa/goods/men/hoodie/스파우트 로고 집업 기모 후디_차콜.jpg\n"
          ]
        },
        {
          "name": "stderr",
          "output_type": "stream",
          "text": [
            "hoodie-train:  89%|████████▉ | 355/400 [23:58<03:11,  4.26s/it]"
          ]
        },
        {
          "name": "stdout",
          "output_type": "stream",
          "text": [
            "\"has added graphic, is gray, and is oversized fit\"\n",
            "/home/sejong/Desktop/junseok/SPRC/musinsa/snap/men/hoodie/5cc0b5ac30f74ac48cb5cc907737f742.jpg /home/sejong/Desktop/junseok/SPRC/musinsa/goods/men/hoodie/DOUBLE MEANING HOODIE  ZIP-UP GRAY.jpg\n"
          ]
        },
        {
          "name": "stderr",
          "output_type": "stream",
          "text": [
            "hoodie-train:  89%|████████▉ | 356/400 [24:02<03:01,  4.13s/it]"
          ]
        },
        {
          "name": "stdout",
          "output_type": "stream",
          "text": [
            "\"has added graphic, is gray, and is regular fit\"\n",
            "/home/sejong/Desktop/junseok/SPRC/musinsa/snap/men/hoodie/bdcc6f786d2b453a990adf8dd7c1699d.jpg /home/sejong/Desktop/junseok/SPRC/musinsa/goods/men/hoodie/네오프렌 크롭 후드집업-블랙.jpg\n"
          ]
        },
        {
          "name": "stderr",
          "output_type": "stream",
          "text": [
            "hoodie-train:  89%|████████▉ | 357/400 [24:05<02:46,  3.87s/it]"
          ]
        },
        {
          "name": "stdout",
          "output_type": "stream",
          "text": [
            "\"has added graphic, is black, and is cropped length\"\n",
            "/home/sejong/Desktop/junseok/SPRC/musinsa/snap/men/hoodie/7013ce1502cf4eca91ea1c4307451eb2.jpg /home/sejong/Desktop/junseok/SPRC/musinsa/goods/men/hoodie/피그먼트 후드집업 차콜.jpg\n"
          ]
        },
        {
          "name": "stderr",
          "output_type": "stream",
          "text": [
            "hoodie-train:  90%|████████▉ | 358/400 [24:08<02:31,  3.62s/it]"
          ]
        },
        {
          "name": "stdout",
          "output_type": "stream",
          "text": [
            "\"is gray and oversized fit\"\n",
            "/home/sejong/Desktop/junseok/SPRC/musinsa/snap/men/hoodie/f949eca3d7044f7dbb7dc5c6159195cf.jpg /home/sejong/Desktop/junseok/SPRC/musinsa/goods/men/hoodie/오버사이즈 폴라 플리스 후디드 집업 [더스티 베이지].jpg\n"
          ]
        },
        {
          "name": "stderr",
          "output_type": "stream",
          "text": [
            "hoodie-train:  90%|████████▉ | 359/400 [24:12<02:29,  3.64s/it]"
          ]
        },
        {
          "name": "stdout",
          "output_type": "stream",
          "text": [
            "\"is no graphic and pattern, is gray, and is oversized fit\"\n",
            "/home/sejong/Desktop/junseok/SPRC/musinsa/snap/men/hoodie/1dd3ace40da34ca1ab83e22276aee614.jpg /home/sejong/Desktop/junseok/SPRC/musinsa/goods/men/hoodie/Ray Canvas Work Parka Khaki Beige.jpg\n"
          ]
        },
        {
          "name": "stderr",
          "output_type": "stream",
          "text": [
            "hoodie-train:  90%|█████████ | 360/400 [24:15<02:17,  3.44s/it]"
          ]
        },
        {
          "name": "stdout",
          "output_type": "stream",
          "text": [
            "\"has no graphic and pattern, is olive green, and is oversized fit\"\n",
            "/home/sejong/Desktop/junseok/SPRC/musinsa/snap/men/hoodie/2024040318490900000096074.jpg /home/sejong/Desktop/junseok/SPRC/musinsa/goods/men/hoodie/자카드 투웨이 후드 니트 집업 (BLACK).jpg\n"
          ]
        },
        {
          "name": "stderr",
          "output_type": "stream",
          "text": [
            "hoodie-train:  90%|█████████ | 361/400 [24:18<02:03,  3.18s/it]"
          ]
        },
        {
          "name": "stdout",
          "output_type": "stream",
          "text": [
            "\"is black and oversized fit\"\n",
            "/home/sejong/Desktop/junseok/SPRC/musinsa/snap/men/hoodie/2105cf99456d4eb9afd8631bfb9e6ebb.jpg /home/sejong/Desktop/junseok/SPRC/musinsa/goods/men/hoodie/N241UFT910 브래비 트레이닝 풀집업 자켓 CARBON BLACK.jpg\n"
          ]
        },
        {
          "name": "stderr",
          "output_type": "stream",
          "text": [
            "hoodie-train:  90%|█████████ | 362/400 [24:20<01:50,  2.91s/it]"
          ]
        },
        {
          "name": "stdout",
          "output_type": "stream",
          "text": [
            "\"is black and regular length with regular fit\"\n",
            "/home/sejong/Desktop/junseok/SPRC/musinsa/snap/men/hoodie/03882396059a4cb680566de9fe5c5ed1.jpg /home/sejong/Desktop/junseok/SPRC/musinsa/goods/men/hoodie/카니 후드집업 브라운 MJHD7627.jpg\n"
          ]
        },
        {
          "name": "stderr",
          "output_type": "stream",
          "text": [
            "hoodie-train:  91%|█████████ | 363/400 [24:25<02:07,  3.44s/it]"
          ]
        },
        {
          "name": "stdout",
          "output_type": "stream",
          "text": [
            "\"has no graphic and pattern, is brown, and is oversized fit\"\n",
            "/home/sejong/Desktop/junseok/SPRC/musinsa/snap/men/hoodie/5a5b1021ba504bb497408c5be5c25727.jpg /home/sejong/Desktop/junseok/SPRC/musinsa/goods/men/hoodie/스몰 스타테일 후드집업_오트밀.jpg\n"
          ]
        },
        {
          "name": "stderr",
          "output_type": "stream",
          "text": [
            "hoodie-train:  91%|█████████ | 364/400 [24:29<02:10,  3.62s/it]"
          ]
        },
        {
          "name": "stdout",
          "output_type": "stream",
          "text": [
            "\"has added graphic, is gray, and is regular fit\"\n",
            "/home/sejong/Desktop/junseok/SPRC/musinsa/snap/men/hoodie/927ceec13a374cdb88d1cd7cb8cd1525.jpg /home/sejong/Desktop/junseok/SPRC/musinsa/goods/men/hoodie/BKEN 1583 후드 집업 BK7990_네이비.jpg\n"
          ]
        },
        {
          "name": "stderr",
          "output_type": "stream",
          "text": [
            "hoodie-train:  91%|█████████▏| 365/400 [24:32<02:08,  3.66s/it]"
          ]
        },
        {
          "name": "stdout",
          "output_type": "stream",
          "text": [
            "\"has added graphic, is navy, and is oversized fit\"\n",
            "/home/sejong/Desktop/junseok/SPRC/musinsa/snap/men/hoodie/0d7ffdc25a38454c8fb001bd46bc16c5.jpg /home/sejong/Desktop/junseok/SPRC/musinsa/goods/men/hoodie/3STAR HALFTONE SYMBOL ZIP HOODIE_BROWN(NG2DFUM486A).jpg\n"
          ]
        },
        {
          "name": "stderr",
          "output_type": "stream",
          "text": [
            "hoodie-train:  92%|█████████▏| 366/400 [24:40<02:40,  4.72s/it]"
          ]
        },
        {
          "name": "stdout",
          "output_type": "stream",
          "text": [
            "\"has added graphic, is brown, and is oversized fit\"\n",
            "/home/sejong/Desktop/junseok/SPRC/musinsa/snap/men/hoodie/4e6dc553c89b41b8b0e6129e95e9f695.jpg /home/sejong/Desktop/junseok/SPRC/musinsa/goods/men/hoodie/웨이파인더 배색 후드형 바람막이 자켓 블랙(UQ123CJK12).jpg\n"
          ]
        },
        {
          "name": "stderr",
          "output_type": "stream",
          "text": [
            "hoodie-train:  92%|█████████▏| 367/400 [24:44<02:27,  4.47s/it]"
          ]
        },
        {
          "name": "stdout",
          "output_type": "stream",
          "text": [
            "\"has added graphic, is blue, and is oversized fit\"\n",
            "/home/sejong/Desktop/junseok/SPRC/musinsa/snap/men/hoodie/dc28f0b8be2d4938ad624f4bb6746d9b.jpg /home/sejong/Desktop/junseok/SPRC/musinsa/goods/men/hoodie/SINK INTO DEATH HOOD ZIPUP_WH.jpg\n"
          ]
        },
        {
          "name": "stderr",
          "output_type": "stream",
          "text": [
            "hoodie-train:  92%|█████████▏| 368/400 [24:46<02:06,  3.97s/it]"
          ]
        },
        {
          "name": "stdout",
          "output_type": "stream",
          "text": [
            "\"has added graphic, is white, and is regular fit\"\n",
            "/home/sejong/Desktop/junseok/SPRC/musinsa/snap/men/hoodie/044c4f3dfa9b4fb68f2b7a9299bdf3da.jpg /home/sejong/Desktop/junseok/SPRC/musinsa/goods/men/hoodie/라이벌 테리 풀집업 1370409-001.jpg\n"
          ]
        },
        {
          "name": "stderr",
          "output_type": "stream",
          "text": [
            "hoodie-train:  92%|█████████▏| 369/400 [24:50<02:01,  3.93s/it]"
          ]
        },
        {
          "name": "stdout",
          "output_type": "stream",
          "text": [
            "\"is black and regular length with regular fit\"\n",
            "/home/sejong/Desktop/junseok/SPRC/musinsa/snap/men/hoodie/19a65f099e9e4fb69df8edc8716d0e90.jpg /home/sejong/Desktop/junseok/SPRC/musinsa/goods/men/hoodie/[SET] 유니 오리지널 레터링 스웻 셋업 (후드집업) 블랙.jpg\n"
          ]
        },
        {
          "name": "stderr",
          "output_type": "stream",
          "text": [
            "hoodie-train:  92%|█████████▎| 370/400 [24:57<02:25,  4.84s/it]"
          ]
        },
        {
          "name": "stdout",
          "output_type": "stream",
          "text": [
            "\"has added graphic, is black, and is regular fit\"\n",
            "/home/sejong/Desktop/junseok/SPRC/musinsa/snap/men/hoodie/86f2413a46994e3a97f5f384aaa7c9e1.jpg /home/sejong/Desktop/junseok/SPRC/musinsa/goods/men/hoodie/r07 페이딩 워머 2way 집업후디 브라운.jpg\n"
          ]
        },
        {
          "name": "stderr",
          "output_type": "stream",
          "text": [
            "hoodie-train:  93%|█████████▎| 371/400 [25:01<02:11,  4.54s/it]"
          ]
        },
        {
          "name": "stdout",
          "output_type": "stream",
          "text": [
            "\"has no graphic and pattern, is brown, and is oversized fit\"\n",
            "/home/sejong/Desktop/junseok/SPRC/musinsa/snap/men/hoodie/f29e9a6e54b848e2841032f68fd964a0.jpg /home/sejong/Desktop/junseok/SPRC/musinsa/goods/men/hoodie/플라워 자카드 니트 후드 집업.jpg\n"
          ]
        },
        {
          "name": "stderr",
          "output_type": "stream",
          "text": [
            "hoodie-train:  93%|█████████▎| 372/400 [25:05<01:58,  4.25s/it]"
          ]
        },
        {
          "name": "stdout",
          "output_type": "stream",
          "text": [
            "\"has added graphic and is black\"\n",
            "/home/sejong/Desktop/junseok/SPRC/musinsa/snap/men/hoodie/278e6af7bcfb4b74ab4c420fb1274ed5.jpg /home/sejong/Desktop/junseok/SPRC/musinsa/goods/men/hoodie/투웨이 헤비 후드집업 (SUNG-HJ-01).jpg\n"
          ]
        },
        {
          "name": "stderr",
          "output_type": "stream",
          "text": [
            "hoodie-train:  93%|█████████▎| 373/400 [25:09<02:00,  4.46s/it]"
          ]
        },
        {
          "name": "stdout",
          "output_type": "stream",
          "text": [
            "\"has no graphic and pattern, is black, and is oversized fit\"\n",
            "/home/sejong/Desktop/junseok/SPRC/musinsa/snap/men/hoodie/86530e97bcaf4aca95f0ba2cb24df2f0.jpg /home/sejong/Desktop/junseok/SPRC/musinsa/goods/men/hoodie/TCM multi hooded zip-up (khaki).jpg\n"
          ]
        },
        {
          "name": "stderr",
          "output_type": "stream",
          "text": [
            "hoodie-train:  94%|█████████▎| 374/400 [25:13<01:48,  4.17s/it]"
          ]
        },
        {
          "name": "stdout",
          "output_type": "stream",
          "text": [
            "\"has added graphic, is gray, and is regular fit\"\n",
            "/home/sejong/Desktop/junseok/SPRC/musinsa/snap/men/hoodie/list.staff_661a41d7d1d37.jpg /home/sejong/Desktop/junseok/SPRC/musinsa/goods/men/hoodie/데님 워싱 후드 집업 인디고.jpg\n"
          ]
        },
        {
          "name": "stderr",
          "output_type": "stream",
          "text": [
            "hoodie-train:  94%|█████████▍| 375/400 [25:19<01:56,  4.66s/it]"
          ]
        },
        {
          "name": "stdout",
          "output_type": "stream",
          "text": [
            "\"has added graphic, is navy, and is regular length\"\n",
            "/home/sejong/Desktop/junseok/SPRC/musinsa/snap/men/hoodie/2024040223594500000023952.jpg /home/sejong/Desktop/junseok/SPRC/musinsa/goods/men/hoodie/와일드라이프 후드집업 딥그린.jpg\n"
          ]
        },
        {
          "name": "stderr",
          "output_type": "stream",
          "text": [
            "hoodie-train:  94%|█████████▍| 376/400 [25:22<01:40,  4.17s/it]"
          ]
        },
        {
          "name": "stdout",
          "output_type": "stream",
          "text": [
            "\"has added graphic, is green, and is regular fit\"\n",
            "/home/sejong/Desktop/junseok/SPRC/musinsa/snap/men/hoodie/f35216d834eb4278af4daf506a4a4960.jpg /home/sejong/Desktop/junseok/SPRC/musinsa/goods/men/hoodie/[SET][MAB][후드집업+카라집업 선택]루즈핏 스웨트 셋업 네이비.jpg\n"
          ]
        },
        {
          "name": "stderr",
          "output_type": "stream",
          "text": [
            "hoodie-train:  94%|█████████▍| 377/400 [25:25<01:32,  4.01s/it]"
          ]
        },
        {
          "name": "stdout",
          "output_type": "stream",
          "text": [
            "\"has added graphic, is navy, and is regular fit\"\n",
            "/home/sejong/Desktop/junseok/SPRC/musinsa/snap/men/hoodie/list.staff_660fb777123af.jpg /home/sejong/Desktop/junseok/SPRC/musinsa/goods/men/hoodie/브이아이피 집업 후드 [샌드].jpg\n"
          ]
        },
        {
          "name": "stderr",
          "output_type": "stream",
          "text": [
            "hoodie-train:  94%|█████████▍| 378/400 [25:29<01:27,  4.00s/it]"
          ]
        },
        {
          "name": "stdout",
          "output_type": "stream",
          "text": [
            "\"has added graphic, is gray, and is regular fit\"\n",
            "/home/sejong/Desktop/junseok/SPRC/musinsa/snap/men/hoodie/list.staff_6601022e223a0.jpg /home/sejong/Desktop/junseok/SPRC/musinsa/goods/men/hoodie/Vintage Pigment Zip-Up Hoodie [LIGHT KHAKI].jpg\n"
          ]
        },
        {
          "name": "stderr",
          "output_type": "stream",
          "text": [
            "hoodie-train:  95%|█████████▍| 379/400 [25:33<01:22,  3.92s/it]"
          ]
        },
        {
          "name": "stdout",
          "output_type": "stream",
          "text": [
            "\"is olive green and oversized fit\"\n",
            "/home/sejong/Desktop/junseok/SPRC/musinsa/snap/men/hoodie/d9104b2c08a84cf89bd060ea8a605778.jpg /home/sejong/Desktop/junseok/SPRC/musinsa/goods/men/hoodie/Overdyed Hooded Work Jacket Pigment Blue.jpg\n"
          ]
        },
        {
          "name": "stderr",
          "output_type": "stream",
          "text": [
            "hoodie-train:  95%|█████████▌| 380/400 [25:37<01:18,  3.92s/it]"
          ]
        },
        {
          "name": "stdout",
          "output_type": "stream",
          "text": [
            "\"has no graphic and pattern, is blue, and is regular length\"\n",
            "/home/sejong/Desktop/junseok/SPRC/musinsa/snap/men/hoodie/75e4b704de654380b6c2878de626547b.jpg /home/sejong/Desktop/junseok/SPRC/musinsa/goods/men/hoodie/STILL CORDUROY JACKET - KHAKI.jpg\n"
          ]
        },
        {
          "name": "stderr",
          "output_type": "stream",
          "text": [
            "hoodie-train:  95%|█████████▌| 381/400 [25:41<01:15,  3.96s/it]"
          ]
        },
        {
          "name": "stdout",
          "output_type": "stream",
          "text": [
            "\"has added graphic, is olive green, and is oversized fit\"\n",
            "/home/sejong/Desktop/junseok/SPRC/musinsa/snap/men/hoodie/2024040518434800000087797.jpg /home/sejong/Desktop/junseok/SPRC/musinsa/goods/men/hoodie/DSN-Logo Zip Up Hoodie Brown.jpg\n"
          ]
        },
        {
          "name": "stderr",
          "output_type": "stream",
          "text": [
            "hoodie-train:  96%|█████████▌| 382/400 [25:45<01:09,  3.84s/it]"
          ]
        },
        {
          "name": "stdout",
          "output_type": "stream",
          "text": [
            "\"has no graphic and pattern, is olive green, and is regular length\"\n",
            "/home/sejong/Desktop/junseok/SPRC/musinsa/snap/men/hoodie/f35216d834eb4278af4daf506a4a4960.jpg /home/sejong/Desktop/junseok/SPRC/musinsa/goods/men/hoodie/GHD021 지사인 빅지퍼 집업 후디 (CHARCOAL GRAY).jpg\n"
          ]
        },
        {
          "name": "stderr",
          "output_type": "stream",
          "text": [
            "hoodie-train:  96%|█████████▌| 383/400 [25:49<01:09,  4.08s/it]"
          ]
        },
        {
          "name": "stdout",
          "output_type": "stream",
          "text": [
            "\"has added graphic, is gray, and is oversized fit\"\n",
            "/home/sejong/Desktop/junseok/SPRC/musinsa/snap/men/hoodie/list.staff_660f8b8e7b236.jpg /home/sejong/Desktop/junseok/SPRC/musinsa/goods/men/hoodie/리페어 코튼 후드 집업 (라이트베이지.jpg\n"
          ]
        },
        {
          "name": "stderr",
          "output_type": "stream",
          "text": [
            "hoodie-train:  96%|█████████▌| 384/400 [25:53<01:03,  3.94s/it]"
          ]
        },
        {
          "name": "stdout",
          "output_type": "stream",
          "text": [
            "\"has no graphic and pattern, is gray, and is oversized fit\"\n",
            "/home/sejong/Desktop/junseok/SPRC/musinsa/snap/men/hoodie/2024032617314600000018090.jpg /home/sejong/Desktop/junseok/SPRC/musinsa/goods/men/hoodie/스몰아치 후드집업_네이비.jpg\n"
          ]
        },
        {
          "name": "stderr",
          "output_type": "stream",
          "text": [
            "hoodie-train:  96%|█████████▋| 385/400 [25:56<00:55,  3.71s/it]"
          ]
        },
        {
          "name": "stdout",
          "output_type": "stream",
          "text": [
            "\"has added graphic, is navy, and is regular length\"\n",
            "/home/sejong/Desktop/junseok/SPRC/musinsa/snap/men/hoodie/3d155f9d5c4542ac81bf0d88a8959880.jpg /home/sejong/Desktop/junseok/SPRC/musinsa/goods/men/hoodie/Contrast Logo Zip-up Hoodie (Black).jpg\n"
          ]
        },
        {
          "name": "stderr",
          "output_type": "stream",
          "text": [
            "hoodie-train:  96%|█████████▋| 386/400 [26:03<01:03,  4.57s/it]"
          ]
        },
        {
          "name": "stdout",
          "output_type": "stream",
          "text": [
            "\"has a camouflage pattern and is cropped length\"\n",
            "/home/sejong/Desktop/junseok/SPRC/musinsa/snap/men/hoodie/044c4f3dfa9b4fb68f2b7a9299bdf3da.jpg /home/sejong/Desktop/junseok/SPRC/musinsa/goods/men/hoodie/오버핏 디스트로이드 피그먼트 후드 집업 [차콜].jpg\n"
          ]
        },
        {
          "name": "stderr",
          "output_type": "stream",
          "text": [
            "hoodie-train:  97%|█████████▋| 387/400 [26:07<00:58,  4.48s/it]"
          ]
        },
        {
          "name": "stdout",
          "output_type": "stream",
          "text": [
            "\"has added graphic, is black, and is oversized fit\"\n",
            "/home/sejong/Desktop/junseok/SPRC/musinsa/snap/men/hoodie/list.staff_660e518120b82.jpg /home/sejong/Desktop/junseok/SPRC/musinsa/goods/men/hoodie/니켈 투웨이 후드집업_Black.jpg\n"
          ]
        },
        {
          "name": "stderr",
          "output_type": "stream",
          "text": [
            "hoodie-train:  97%|█████████▋| 388/400 [26:10<00:47,  3.98s/it]"
          ]
        },
        {
          "name": "stdout",
          "output_type": "stream",
          "text": [
            "\"has a striped pattern, is black, and is oversized fit\"\n",
            "/home/sejong/Desktop/junseok/SPRC/musinsa/snap/men/hoodie/87a3895942e74e3ea6d1bb2aa5a5ee99.jpg /home/sejong/Desktop/junseok/SPRC/musinsa/goods/men/hoodie/[집업] ASIAN FIT ADULT 풀집 후드.jpg\n"
          ]
        },
        {
          "name": "stderr",
          "output_type": "stream",
          "text": [
            "hoodie-train:  97%|█████████▋| 389/400 [26:13<00:40,  3.70s/it]"
          ]
        },
        {
          "name": "stdout",
          "output_type": "stream",
          "text": [
            "\"has added graphic, is black, and is oversized fit\"\n",
            "/home/sejong/Desktop/junseok/SPRC/musinsa/snap/men/hoodie/12fc25e9248548eab1081b106c1e637d.jpg /home/sejong/Desktop/junseok/SPRC/musinsa/goods/men/hoodie/코퍼 피그먼트 크롭 후드집업 다크그레이 JYHD3570.jpg\n"
          ]
        },
        {
          "name": "stderr",
          "output_type": "stream",
          "text": [
            "hoodie-train:  98%|█████████▊| 390/400 [26:17<00:39,  3.95s/it]"
          ]
        },
        {
          "name": "stdout",
          "output_type": "stream",
          "text": [
            "\"is black and oversized fit\"\n",
            "/home/sejong/Desktop/junseok/SPRC/musinsa/snap/men/hoodie/e1b27221313a4b269fae9929dc0f4135.jpg /home/sejong/Desktop/junseok/SPRC/musinsa/goods/men/hoodie/TCM stripe hooded zip-up (grey_whiteivory).jpg\n"
          ]
        },
        {
          "name": "stderr",
          "output_type": "stream",
          "text": [
            "hoodie-train:  98%|█████████▊| 391/400 [26:21<00:33,  3.76s/it]"
          ]
        },
        {
          "name": "stdout",
          "output_type": "stream",
          "text": [
            "\"has a striped pattern and is regular length\"\n",
            "/home/sejong/Desktop/junseok/SPRC/musinsa/snap/men/hoodie/936b0bb4af98449d91067b0e557104bd.jpg /home/sejong/Desktop/junseok/SPRC/musinsa/goods/men/hoodie/울 브러쉬 케이블 투웨이 후드 집업 니트_블랙.jpg\n"
          ]
        },
        {
          "name": "stderr",
          "output_type": "stream",
          "text": [
            "hoodie-train:  98%|█████████▊| 392/400 [26:24<00:28,  3.58s/it]"
          ]
        },
        {
          "name": "stdout",
          "output_type": "stream",
          "text": [
            "\"has no graphic and pattern, is black, and is regular length\"\n",
            "/home/sejong/Desktop/junseok/SPRC/musinsa/snap/men/hoodie/936bc89ed6b84e06a24fac44683e1a16.jpg /home/sejong/Desktop/junseok/SPRC/musinsa/goods/men/hoodie/[최대 1.2만원 할인] 크리스피 타슬란 긴팔 스탠넥 바람막이 자켓 그레이프 레드 퍼플(UP321CJK91).jpg\n"
          ]
        },
        {
          "name": "stderr",
          "output_type": "stream",
          "text": [
            "hoodie-train:  98%|█████████▊| 393/400 [26:31<00:32,  4.57s/it]"
          ]
        },
        {
          "name": "stdout",
          "output_type": "stream",
          "text": [
            "\"has added graphic, is white, and is regular length\"\n",
            "/home/sejong/Desktop/junseok/SPRC/musinsa/snap/men/hoodie/2fa55166afb6429c921885fa306003a9.jpg /home/sejong/Desktop/junseok/SPRC/musinsa/goods/men/hoodie/Capital Zip Up Hoodie Heather Grey.jpg\n"
          ]
        },
        {
          "name": "stderr",
          "output_type": "stream",
          "text": [
            "hoodie-train:  98%|█████████▊| 394/400 [26:34<00:25,  4.24s/it]"
          ]
        },
        {
          "name": "stdout",
          "output_type": "stream",
          "text": [
            "\"has added graphic, is gray, and is regular length\"\n",
            "/home/sejong/Desktop/junseok/SPRC/musinsa/snap/men/hoodie/2024041217555000000042422.jpg /home/sejong/Desktop/junseok/SPRC/musinsa/goods/men/hoodie/비즈 포인트 니트 후드집업_그레이지.jpg\n"
          ]
        },
        {
          "name": "stderr",
          "output_type": "stream",
          "text": [
            "hoodie-train:  99%|█████████▉| 395/400 [26:38<00:20,  4.09s/it]"
          ]
        },
        {
          "name": "stdout",
          "output_type": "stream",
          "text": [
            "\"has a striped pattern, is gray, and is regular length\"\n",
            "/home/sejong/Desktop/junseok/SPRC/musinsa/snap/men/hoodie/2e88fc5381fc45b28344835defe10e7a.jpg /home/sejong/Desktop/junseok/SPRC/musinsa/goods/men/hoodie/울 브러쉬 케이블 투웨이 후드 집업 니트_크림.jpg\n"
          ]
        },
        {
          "name": "stderr",
          "output_type": "stream",
          "text": [
            "hoodie-train:  99%|█████████▉| 396/400 [26:41<00:15,  3.89s/it]"
          ]
        },
        {
          "name": "stdout",
          "output_type": "stream",
          "text": [
            "\"has no graphic and pattern, is white, and is regular length\"\n",
            "/home/sejong/Desktop/junseok/SPRC/musinsa/snap/men/hoodie/9c31476ab1754c528df1f3b5ff732cec.jpg /home/sejong/Desktop/junseok/SPRC/musinsa/goods/men/hoodie/여성 속기모 오버핏 숏 후드집업_OATSI937.jpg\n"
          ]
        },
        {
          "name": "stderr",
          "output_type": "stream",
          "text": [
            "hoodie-train:  99%|█████████▉| 397/400 [26:45<00:11,  3.75s/it]"
          ]
        },
        {
          "name": "stdout",
          "output_type": "stream",
          "text": [
            "\"is gray and cropped length with oversized fit\"\n",
            "/home/sejong/Desktop/junseok/SPRC/musinsa/snap/men/hoodie/188eff0fe4df4afaa3d9526257c083e8.jpg /home/sejong/Desktop/junseok/SPRC/musinsa/goods/men/hoodie/로턴 루즈핏 후드 집업 캐비어 블랙.jpg\n"
          ]
        },
        {
          "name": "stderr",
          "output_type": "stream",
          "text": [
            "hoodie-train: 100%|█████████▉| 398/400 [26:48<00:07,  3.71s/it]"
          ]
        },
        {
          "name": "stdout",
          "output_type": "stream",
          "text": [
            "\"has added graphic, is black, and is regular fit\"\n",
            "/home/sejong/Desktop/junseok/SPRC/musinsa/snap/men/hoodie/f11685afbab04c07b5ad92419df91e6a.jpg /home/sejong/Desktop/junseok/SPRC/musinsa/goods/men/hoodie/하트 와펜 기모 후드집업 버건디.jpg\n"
          ]
        },
        {
          "name": "stderr",
          "output_type": "stream",
          "text": [
            "hoodie-train: 100%|█████████▉| 399/400 [26:54<00:04,  4.14s/it]"
          ]
        },
        {
          "name": "stdout",
          "output_type": "stream",
          "text": [
            "\"has added graphic, is red, and is regular fit\"\n",
            "/home/sejong/Desktop/junseok/SPRC/musinsa/snap/men/hoodie/5e8ee570ad134d83ae111cdb5fa84872.jpg /home/sejong/Desktop/junseok/SPRC/musinsa/goods/men/hoodie/[무료반품] 솔로 스우시 풀집 후디 M - 블랙_화이트 _ DR0404-010.jpg\n"
          ]
        },
        {
          "name": "stderr",
          "output_type": "stream",
          "text": [
            "hoodie-train: 100%|██████████| 400/400 [26:57<00:00,  4.04s/it]\n"
          ]
        },
        {
          "name": "stdout",
          "output_type": "stream",
          "text": [
            "\"is black and regular fit\"\n"
          ]
        },
        {
          "name": "stderr",
          "output_type": "stream",
          "text": [
            "hoodie-val:   0%|          | 0/50 [00:00<?, ?it/s]"
          ]
        },
        {
          "name": "stdout",
          "output_type": "stream",
          "text": [
            "/home/sejong/Desktop/junseok/SPRC/musinsa/snap/men/hoodie/list.staff_664309d381896.jpg /home/sejong/Desktop/junseok/SPRC/musinsa/goods/men/hoodie/올드스쿨 양기모 발포로고 오버핏 후드집업_멜란지그레이.jpg\n"
          ]
        },
        {
          "name": "stderr",
          "output_type": "stream",
          "text": [
            "hoodie-val:   2%|▏         | 1/50 [00:03<03:15,  3.99s/it]"
          ]
        },
        {
          "name": "stdout",
          "output_type": "stream",
          "text": [
            "\"has added graphic, is gray, and is regular fit\"\n",
            "/home/sejong/Desktop/junseok/SPRC/musinsa/snap/men/hoodie/2024040318490900000096074.jpg /home/sejong/Desktop/junseok/SPRC/musinsa/goods/men/hoodie/Pigment Dyed Hood Zip Up [Charcoal].jpg\n"
          ]
        },
        {
          "name": "stderr",
          "output_type": "stream",
          "text": [
            "hoodie-val:   4%|▍         | 2/50 [00:07<03:08,  3.92s/it]"
          ]
        },
        {
          "name": "stdout",
          "output_type": "stream",
          "text": [
            "\"is gray and oversized fit\"\n",
            "/home/sejong/Desktop/junseok/SPRC/musinsa/snap/men/hoodie/f354ce0d62c64b52b6527246fdead68c.jpg /home/sejong/Desktop/junseok/SPRC/musinsa/goods/men/hoodie/[최대 1.2만원 할인] 크리스피 타슬란 긴팔 스탠넥 바람막이 자켓 블랙(UP321CJK91).jpg\n"
          ]
        },
        {
          "name": "stderr",
          "output_type": "stream",
          "text": [
            "hoodie-val:   6%|▌         | 3/50 [00:11<02:48,  3.58s/it]"
          ]
        },
        {
          "name": "stdout",
          "output_type": "stream",
          "text": [
            "\"has added graphic, is black, and is oversized fit\"\n",
            "/home/sejong/Desktop/junseok/SPRC/musinsa/snap/men/hoodie/a6a05a0aa22649a8b0cdb27cad3a6ef4.jpg /home/sejong/Desktop/junseok/SPRC/musinsa/goods/men/hoodie/303 House Zip Hoodie - Charcoal.jpg\n"
          ]
        },
        {
          "name": "stderr",
          "output_type": "stream",
          "text": [
            "hoodie-val:   8%|▊         | 4/50 [00:14<02:35,  3.38s/it]"
          ]
        },
        {
          "name": "stdout",
          "output_type": "stream",
          "text": [
            "\"has added graphic, is black, and is regular fit\"\n",
            "/home/sejong/Desktop/junseok/SPRC/musinsa/snap/men/hoodie/list.staff_660fb777123af.jpg /home/sejong/Desktop/junseok/SPRC/musinsa/goods/men/hoodie/빈티지 후디드 봄버 자켓 - 카키.jpg\n"
          ]
        },
        {
          "name": "stderr",
          "output_type": "stream",
          "text": [
            "hoodie-val:  10%|█         | 5/50 [00:22<03:57,  5.28s/it]"
          ]
        },
        {
          "name": "stdout",
          "output_type": "stream",
          "text": [
            "\"has no graphic and pattern, is gray, and is regular fit\"\n",
            "/home/sejong/Desktop/junseok/SPRC/musinsa/snap/men/hoodie/693e46517aa9487da1e13bbd52fbc784.jpg /home/sejong/Desktop/junseok/SPRC/musinsa/goods/men/hoodie/크롭 퍼 후드 집업 - 블랙.jpg\n"
          ]
        },
        {
          "name": "stderr",
          "output_type": "stream",
          "text": [
            "hoodie-val:  12%|█▏        | 6/50 [00:26<03:23,  4.63s/it]"
          ]
        },
        {
          "name": "stdout",
          "output_type": "stream",
          "text": [
            "\"has added graphic, is black, and is oversized fit\"\n",
            "/home/sejong/Desktop/junseok/SPRC/musinsa/snap/men/hoodie/2024040518485400000076813.jpg /home/sejong/Desktop/junseok/SPRC/musinsa/goods/men/hoodie/TCM at hooded zip-up (black).jpg\n"
          ]
        },
        {
          "name": "stderr",
          "output_type": "stream",
          "text": [
            "hoodie-val:  14%|█▍        | 7/50 [00:29<03:03,  4.27s/it]"
          ]
        },
        {
          "name": "stdout",
          "output_type": "stream",
          "text": [
            "\"has added graphic, is black, and is regular fit\"\n",
            "/home/sejong/Desktop/junseok/SPRC/musinsa/snap/men/hoodie/2024040518434800000087797.jpg /home/sejong/Desktop/junseok/SPRC/musinsa/goods/men/hoodie/컴포트서울 후드집업5 Color [ULZH_5011].jpg\n"
          ]
        },
        {
          "name": "stderr",
          "output_type": "stream",
          "text": [
            "hoodie-val:  16%|█▌        | 8/50 [00:32<02:34,  3.68s/it]"
          ]
        },
        {
          "name": "stdout",
          "output_type": "stream",
          "text": [
            "\"has added graphic, is black, and is regular fit\"\n",
            "/home/sejong/Desktop/junseok/SPRC/musinsa/snap/men/hoodie/7013ce1502cf4eca91ea1c4307451eb2.jpg /home/sejong/Desktop/junseok/SPRC/musinsa/goods/men/hoodie/[SET] 베이지 오버핏 니트 후드집업 + 밴딩 팬츠 셋업 (0TTS4F102I2).jpg\n"
          ]
        },
        {
          "name": "stderr",
          "output_type": "stream",
          "text": [
            "hoodie-val:  18%|█▊        | 9/50 [00:39<03:16,  4.80s/it]"
          ]
        },
        {
          "name": "stdout",
          "output_type": "stream",
          "text": [
            "\"has no graphic and pattern, is black, and is oversized fit\"\n",
            "/home/sejong/Desktop/junseok/SPRC/musinsa/snap/men/hoodie/list.staff_661362afb8671.jpg /home/sejong/Desktop/junseok/SPRC/musinsa/goods/men/hoodie/마커스 집업 후드 - 에크루 _ SW0119HAB1M18H23EC.jpg\n"
          ]
        },
        {
          "name": "stderr",
          "output_type": "stream",
          "text": [
            "hoodie-val:  20%|██        | 10/50 [00:44<03:15,  4.88s/it]"
          ]
        },
        {
          "name": "stdout",
          "output_type": "stream",
          "text": [
            "\"has added graphic, is gray, and is regular fit\"\n",
            "/home/sejong/Desktop/junseok/SPRC/musinsa/snap/men/hoodie/2e943dde5ed54b5bb62d269da56a6e9f.jpg /home/sejong/Desktop/junseok/SPRC/musinsa/goods/men/hoodie/[ATW] 레브업 후드집업.jpg\n"
          ]
        },
        {
          "name": "stderr",
          "output_type": "stream",
          "text": [
            "hoodie-val:  22%|██▏       | 11/50 [00:47<02:50,  4.37s/it]"
          ]
        },
        {
          "name": "stdout",
          "output_type": "stream",
          "text": [
            "\"has added graphic, is black, and no requirements\"\n",
            "/home/sejong/Desktop/junseok/SPRC/musinsa/snap/men/hoodie/d9d5f0e5530047fd82b3b27de84a6070.jpg /home/sejong/Desktop/junseok/SPRC/musinsa/goods/men/hoodie/스타테일 컬러블럭 후드집업_그린 베이지.jpg\n"
          ]
        },
        {
          "name": "stderr",
          "output_type": "stream",
          "text": [
            "hoodie-val:  24%|██▍       | 12/50 [00:51<02:35,  4.08s/it]"
          ]
        },
        {
          "name": "stdout",
          "output_type": "stream",
          "text": [
            "\"has added graphic, is gray, and regular length\"\n",
            "/home/sejong/Desktop/junseok/SPRC/musinsa/snap/men/hoodie/278e6af7bcfb4b74ab4c420fb1274ed5.jpg /home/sejong/Desktop/junseok/SPRC/musinsa/goods/men/hoodie/[빅후드] 무지 벌룬핏 후드 집업 AZH569 (4 COLOR).jpg\n"
          ]
        },
        {
          "name": "stderr",
          "output_type": "stream",
          "text": [
            "hoodie-val:  26%|██▌       | 13/50 [00:54<02:19,  3.77s/it]"
          ]
        },
        {
          "name": "stdout",
          "output_type": "stream",
          "text": [
            "\"has no graphic and pattern, is gray, and is oversized fit\"\n",
            "/home/sejong/Desktop/junseok/SPRC/musinsa/snap/men/hoodie/2024041217555000000042422.jpg /home/sejong/Desktop/junseok/SPRC/musinsa/goods/men/hoodie/패서디나 크롭 후드 집업 (챠콜).jpg\n"
          ]
        },
        {
          "name": "stderr",
          "output_type": "stream",
          "text": [
            "hoodie-val:  28%|██▊       | 14/50 [00:57<02:08,  3.57s/it]"
          ]
        },
        {
          "name": "stdout",
          "output_type": "stream",
          "text": [
            "\"has added graphic, is black, and is regular fit\"\n",
            "/home/sejong/Desktop/junseok/SPRC/musinsa/snap/men/hoodie/4533438e789c4582b21da03757e32a16.jpg /home/sejong/Desktop/junseok/SPRC/musinsa/goods/men/hoodie/NM X MP HOODED ZIP-UP - WASHED BLACK.jpg\n"
          ]
        },
        {
          "name": "stderr",
          "output_type": "stream",
          "text": [
            "hoodie-val:  30%|███       | 15/50 [01:00<01:58,  3.40s/it]"
          ]
        },
        {
          "name": "stdout",
          "output_type": "stream",
          "text": [
            "\"has added graphic, is black, and is cropped length\"\n",
            "/home/sejong/Desktop/junseok/SPRC/musinsa/snap/men/hoodie/68a50a2de9bf456bbdee7e6d3ca6947b.jpg /home/sejong/Desktop/junseok/SPRC/musinsa/goods/men/hoodie/PINCH WASHED HOOD ZIP-UP (3COLOR).jpg\n"
          ]
        },
        {
          "name": "stderr",
          "output_type": "stream",
          "text": [
            "hoodie-val:  32%|███▏      | 16/50 [01:04<02:05,  3.70s/it]"
          ]
        },
        {
          "name": "stdout",
          "output_type": "stream",
          "text": [
            "\"has added graphic, is gray, and is oversized fit\"\n",
            "/home/sejong/Desktop/junseok/SPRC/musinsa/snap/men/hoodie/0365616ef1fa4d7493a3bfd4ab219363.jpg /home/sejong/Desktop/junseok/SPRC/musinsa/goods/men/hoodie/본 윙 집업 후디 - 그레이.jpg\n"
          ]
        },
        {
          "name": "stderr",
          "output_type": "stream",
          "text": [
            "hoodie-val:  34%|███▍      | 17/50 [01:07<01:58,  3.58s/it]"
          ]
        },
        {
          "name": "stdout",
          "output_type": "stream",
          "text": [
            "\"has no graphic and pattern, is gray, and is cropped length\"\n",
            "/home/sejong/Desktop/junseok/SPRC/musinsa/snap/men/hoodie/list.staff_66176405d9ec1.jpg /home/sejong/Desktop/junseok/SPRC/musinsa/goods/men/hoodie/C 로고 후디 집업 오트밀.jpg\n"
          ]
        },
        {
          "name": "stderr",
          "output_type": "stream",
          "text": [
            "hoodie-val:  36%|███▌      | 18/50 [01:11<01:50,  3.45s/it]"
          ]
        },
        {
          "name": "stdout",
          "output_type": "stream",
          "text": [
            "\"has added graphic, is gray, and is regular fit\"\n",
            "/home/sejong/Desktop/junseok/SPRC/musinsa/snap/men/hoodie/76a8cf27992d4019b77520e673d9a639.jpg /home/sejong/Desktop/junseok/SPRC/musinsa/goods/men/hoodie/디스페어 피그먼트 후드 집업 블랙 차콜.jpg\n"
          ]
        },
        {
          "name": "stderr",
          "output_type": "stream",
          "text": [
            "hoodie-val:  38%|███▊      | 19/50 [01:16<02:06,  4.09s/it]"
          ]
        },
        {
          "name": "stdout",
          "output_type": "stream",
          "text": [
            "\"has added graphic, is gray, and is oversized fit\"\n",
            "/home/sejong/Desktop/junseok/SPRC/musinsa/snap/men/hoodie/77dd010eefdf4740bf3f9a5e87e57588.jpg /home/sejong/Desktop/junseok/SPRC/musinsa/goods/men/hoodie/CANVAS DENIM QUILTED JACKET NAVY.jpg\n"
          ]
        },
        {
          "name": "stderr",
          "output_type": "stream",
          "text": [
            "hoodie-val:  40%|████      | 20/50 [01:19<01:56,  3.87s/it]"
          ]
        },
        {
          "name": "stdout",
          "output_type": "stream",
          "text": [
            "\"has added graphic, is navy, and is regular fit\"\n",
            "/home/sejong/Desktop/junseok/SPRC/musinsa/snap/men/hoodie/44af69e8b2144542a407b35decc2defe.jpg /home/sejong/Desktop/junseok/SPRC/musinsa/goods/men/hoodie/슬로건 니트 후드 집업.jpg\n"
          ]
        },
        {
          "name": "stderr",
          "output_type": "stream",
          "text": [
            "hoodie-val:  42%|████▏     | 21/50 [01:23<01:47,  3.72s/it]"
          ]
        },
        {
          "name": "stdout",
          "output_type": "stream",
          "text": [
            "\"has added graphic, is black, and is regular length\"\n",
            "/home/sejong/Desktop/junseok/SPRC/musinsa/snap/men/hoodie/7652aef732da42328d8a23aa430abecb.jpg /home/sejong/Desktop/junseok/SPRC/musinsa/goods/men/hoodie/[승관 PICK] [우먼즈] 크롭 스타테일 후드집업_오트밀.jpg\n"
          ]
        },
        {
          "name": "stderr",
          "output_type": "stream",
          "text": [
            "hoodie-val:  44%|████▍     | 22/50 [01:26<01:40,  3.60s/it]"
          ]
        },
        {
          "name": "stdout",
          "output_type": "stream",
          "text": [
            "\"has added graphic, is gray, and is cropped length\"\n",
            "/home/sejong/Desktop/junseok/SPRC/musinsa/snap/men/hoodie/5353633d5e5841a89fa04daa0048943d.jpg /home/sejong/Desktop/junseok/SPRC/musinsa/goods/men/hoodie/MIDDLE BENCH HOOD PARKA (BLACK).jpg\n"
          ]
        },
        {
          "name": "stderr",
          "output_type": "stream",
          "text": [
            "hoodie-val:  46%|████▌     | 23/50 [01:29<01:33,  3.46s/it]"
          ]
        },
        {
          "name": "stdout",
          "output_type": "stream",
          "text": [
            "\"is black and oversized fit\"\n",
            "/home/sejong/Desktop/junseok/SPRC/musinsa/snap/men/hoodie/510011e8a5244f05ad495fd0fc0cd1a8.jpg /home/sejong/Desktop/junseok/SPRC/musinsa/goods/men/hoodie/[승관 PICK] 스타테일 후드집업_다크 핑크.jpg\n"
          ]
        },
        {
          "name": "stderr",
          "output_type": "stream",
          "text": [
            "hoodie-val:  48%|████▊     | 24/50 [01:33<01:33,  3.58s/it]"
          ]
        },
        {
          "name": "stdout",
          "output_type": "stream",
          "text": [
            "\"has added graphic, is purple, and is regular fit\"\n",
            "/home/sejong/Desktop/junseok/SPRC/musinsa/snap/men/hoodie/2d93c30c5e0348bfa6afa1ddd4108264.jpg /home/sejong/Desktop/junseok/SPRC/musinsa/goods/men/hoodie/AUTHENTIC COMFORT HOOD ZIP SWEAT_3%MELANGE GRAY.jpg\n"
          ]
        },
        {
          "name": "stderr",
          "output_type": "stream",
          "text": [
            "hoodie-val:  50%|█████     | 25/50 [01:36<01:22,  3.29s/it]"
          ]
        },
        {
          "name": "stdout",
          "output_type": "stream",
          "text": [
            "\"is gray and oversized fit\"\n",
            "/home/sejong/Desktop/junseok/SPRC/musinsa/snap/men/hoodie/list.staff_663987f3473c8.jpg /home/sejong/Desktop/junseok/SPRC/musinsa/goods/men/hoodie/[승관 PICK] 스타테일 후드집업_네이비.jpg\n"
          ]
        },
        {
          "name": "stderr",
          "output_type": "stream",
          "text": [
            "hoodie-val:  52%|█████▏    | 26/50 [01:40<01:22,  3.44s/it]"
          ]
        },
        {
          "name": "stdout",
          "output_type": "stream",
          "text": [
            "\"has added graphic, is navy, and is oversized fit\"\n",
            "/home/sejong/Desktop/junseok/SPRC/musinsa/snap/men/hoodie/f0d6371b9ed245738f9b35526280bb1e.jpg /home/sejong/Desktop/junseok/SPRC/musinsa/goods/men/hoodie/[무료반품] SIGNATURE HOOD ZIP-UP MAN (Black, Gray).jpg\n"
          ]
        },
        {
          "name": "stderr",
          "output_type": "stream",
          "text": [
            "hoodie-val:  54%|█████▍    | 27/50 [01:42<01:13,  3.19s/it]"
          ]
        },
        {
          "name": "stdout",
          "output_type": "stream",
          "text": [
            "\"has added graphic, is black, and is oversized fit\"\n",
            "/home/sejong/Desktop/junseok/SPRC/musinsa/snap/men/hoodie/561c07c32cdb4f61885f654f53a4c1d9.jpg /home/sejong/Desktop/junseok/SPRC/musinsa/goods/men/hoodie/CGP 아치 로고 후드 집업_블랙.jpg\n"
          ]
        },
        {
          "name": "stderr",
          "output_type": "stream",
          "text": [
            "hoodie-val:  56%|█████▌    | 28/50 [01:46<01:11,  3.24s/it]"
          ]
        },
        {
          "name": "stdout",
          "output_type": "stream",
          "text": [
            "\"has added graphic, is black, and is oversized fit\"\n",
            "/home/sejong/Desktop/junseok/SPRC/musinsa/snap/men/hoodie/list.staff_6624ae9ab1cf3.jpg /home/sejong/Desktop/junseok/SPRC/musinsa/goods/men/hoodie/시그니처 피치스킨 기모 후드집업 MZT113 [SKY].jpg\n"
          ]
        },
        {
          "name": "stderr",
          "output_type": "stream",
          "text": [
            "hoodie-val:  58%|█████▊    | 29/50 [01:51<01:20,  3.81s/it]"
          ]
        },
        {
          "name": "stdout",
          "output_type": "stream",
          "text": [
            "\"has no graphic and is blue\"\n",
            "/home/sejong/Desktop/junseok/SPRC/musinsa/snap/men/hoodie/278e6af7bcfb4b74ab4c420fb1274ed5.jpg /home/sejong/Desktop/junseok/SPRC/musinsa/goods/men/hoodie/TCM 1972 hooded zip-up (dark wine).jpg\n"
          ]
        },
        {
          "name": "stderr",
          "output_type": "stream",
          "text": [
            "hoodie-val:  60%|██████    | 30/50 [01:53<01:08,  3.42s/it]"
          ]
        },
        {
          "name": "stdout",
          "output_type": "stream",
          "text": [
            "\"has added graphic, is gray, and is regular fit\"\n",
            "/home/sejong/Desktop/junseok/SPRC/musinsa/snap/men/hoodie/598ceb5b7d2249b9a13f3bec2ecb3554.jpg /home/sejong/Desktop/junseok/SPRC/musinsa/goods/men/hoodie/여성 애슬레저 반넥 집업 RO1K04J1.jpg\n"
          ]
        },
        {
          "name": "stderr",
          "output_type": "stream",
          "text": [
            "hoodie-val:  62%|██████▏   | 31/50 [01:57<01:05,  3.46s/it]"
          ]
        },
        {
          "name": "stdout",
          "output_type": "stream",
          "text": [
            "\"has added graphic, is black, and is cropped length\"\n",
            "/home/sejong/Desktop/junseok/SPRC/musinsa/snap/men/hoodie/d1cdbbe00769411e96a9cf9611b503d3.jpg /home/sejong/Desktop/junseok/SPRC/musinsa/goods/men/hoodie/TCM multi hooded zip-up (khaki).jpg\n"
          ]
        },
        {
          "name": "stderr",
          "output_type": "stream",
          "text": [
            "hoodie-val:  64%|██████▍   | 32/50 [02:02<01:13,  4.08s/it]"
          ]
        },
        {
          "name": "stdout",
          "output_type": "stream",
          "text": [
            "\"has added graphic, is gray, and is oversized fit\"\n",
            "/home/sejong/Desktop/junseok/SPRC/musinsa/snap/men/hoodie/19a65f099e9e4fb69df8edc8716d0e90.jpg /home/sejong/Desktop/junseok/SPRC/musinsa/goods/men/hoodie/피 로고 집업 후디 네이비.jpg\n"
          ]
        },
        {
          "name": "stderr",
          "output_type": "stream",
          "text": [
            "hoodie-val:  66%|██████▌   | 33/50 [02:06<01:07,  3.99s/it]"
          ]
        },
        {
          "name": "stdout",
          "output_type": "stream",
          "text": [
            "\"has added graphic, is navy, and regular length\"\n",
            "/home/sejong/Desktop/junseok/SPRC/musinsa/snap/men/hoodie/a9910b1393d64def8009c8ce69d1b87f.jpg /home/sejong/Desktop/junseok/SPRC/musinsa/goods/men/hoodie/톰스 나그랑 믹스 후드 집업 블랙.jpg\n"
          ]
        },
        {
          "name": "stderr",
          "output_type": "stream",
          "text": [
            "hoodie-val:  68%|██████▊   | 34/50 [02:10<01:03,  3.99s/it]"
          ]
        },
        {
          "name": "stdout",
          "output_type": "stream",
          "text": [
            "\"has added graphic, is gray, and is regular fit\"\n",
            "/home/sejong/Desktop/junseok/SPRC/musinsa/snap/men/hoodie/57493d75cf774a4595c92806cea1cb6c.jpg /home/sejong/Desktop/junseok/SPRC/musinsa/goods/men/hoodie/스몰 지프 후드 집업 (JP5TZU051BK).jpg\n"
          ]
        },
        {
          "name": "stderr",
          "output_type": "stream",
          "text": [
            "hoodie-val:  70%|███████   | 35/50 [02:13<00:57,  3.82s/it]"
          ]
        },
        {
          "name": "stdout",
          "output_type": "stream",
          "text": [
            "\"has added graphic and is black\"\n",
            "/home/sejong/Desktop/junseok/SPRC/musinsa/snap/men/hoodie/06d815b849344dc095965e214db76505.jpg /home/sejong/Desktop/junseok/SPRC/musinsa/goods/men/hoodie/플레임 로고 집업 후디 블랙.jpg\n"
          ]
        },
        {
          "name": "stderr",
          "output_type": "stream",
          "text": [
            "hoodie-val:  72%|███████▏  | 36/50 [02:19<01:02,  4.46s/it]"
          ]
        },
        {
          "name": "stdout",
          "output_type": "stream",
          "text": [
            "\"has added graphic, is black, and is regular fit\"\n",
            "/home/sejong/Desktop/junseok/SPRC/musinsa/snap/men/hoodie/list.staff_661a41d7d1d37.jpg /home/sejong/Desktop/junseok/SPRC/musinsa/goods/men/hoodie/컴피 리벳 하이 넥 스웻 집업 [GRAY].jpg\n"
          ]
        },
        {
          "name": "stderr",
          "output_type": "stream",
          "text": [
            "hoodie-val:  74%|███████▍  | 37/50 [02:24<00:58,  4.53s/it]"
          ]
        },
        {
          "name": "stdout",
          "output_type": "stream",
          "text": [
            "\"is gray and oversized fit\"\n",
            "/home/sejong/Desktop/junseok/SPRC/musinsa/snap/men/hoodie/58c44d4d4ec04ecd8ec5507c55982158.jpg /home/sejong/Desktop/junseok/SPRC/musinsa/goods/men/hoodie/ANGEL WAPPEN OG SWEAT ZIP-UP HOODIE - VIOLET.jpg\n"
          ]
        },
        {
          "name": "stderr",
          "output_type": "stream",
          "text": [
            "hoodie-val:  76%|███████▌  | 38/50 [02:27<00:49,  4.15s/it]"
          ]
        },
        {
          "name": "stdout",
          "output_type": "stream",
          "text": [
            "\"has added graphic, is purple, and is regular fit\"\n",
            "/home/sejong/Desktop/junseok/SPRC/musinsa/snap/men/hoodie/list.staff_664968853a9e1.jpg /home/sejong/Desktop/junseok/SPRC/musinsa/goods/men/hoodie/STILL CORDUROY JACKET - KHAKI.jpg\n"
          ]
        },
        {
          "name": "stderr",
          "output_type": "stream",
          "text": [
            "hoodie-val:  78%|███████▊  | 39/50 [02:31<00:44,  4.06s/it]"
          ]
        },
        {
          "name": "stdout",
          "output_type": "stream",
          "text": [
            "\"has added graphic, is olive green, and is oversized fit\"\n",
            "/home/sejong/Desktop/junseok/SPRC/musinsa/snap/men/hoodie/2024040415553300000004450.jpg /home/sejong/Desktop/junseok/SPRC/musinsa/goods/men/hoodie/로턴 루즈핏 후드 집업 리조트 크림.jpg\n"
          ]
        },
        {
          "name": "stderr",
          "output_type": "stream",
          "text": [
            "hoodie-val:  80%|████████  | 40/50 [02:35<00:40,  4.00s/it]"
          ]
        },
        {
          "name": "stdout",
          "output_type": "stream",
          "text": [
            "\"is white and regular length\"\n",
            "/home/sejong/Desktop/junseok/SPRC/musinsa/snap/men/hoodie/87a3895942e74e3ea6d1bb2aa5a5ee99.jpg /home/sejong/Desktop/junseok/SPRC/musinsa/goods/men/hoodie/ECLIPSE RAW CUT ZIP UP HOODIE CHARCOAL(MG2EFMM490A).jpg\n"
          ]
        },
        {
          "name": "stderr",
          "output_type": "stream",
          "text": [
            "hoodie-val:  82%|████████▏ | 41/50 [02:40<00:39,  4.35s/it]"
          ]
        },
        {
          "name": "stdout",
          "output_type": "stream",
          "text": [
            "\"has added graphic, is gray, and is oversized fit\"\n",
            "/home/sejong/Desktop/junseok/SPRC/musinsa/snap/men/hoodie/53094d9c8be4482cad695dc0f9546590.jpg /home/sejong/Desktop/junseok/SPRC/musinsa/goods/men/hoodie/Signature hood zip-up (8colors).jpg\n"
          ]
        },
        {
          "name": "stderr",
          "output_type": "stream",
          "text": [
            "hoodie-val:  84%|████████▍ | 42/50 [02:44<00:32,  4.10s/it]"
          ]
        },
        {
          "name": "stdout",
          "output_type": "stream",
          "text": [
            "\"has no graphic and pattern, is black, and is regular length\"\n",
            "/home/sejong/Desktop/junseok/SPRC/musinsa/snap/men/hoodie/92a91fd805794e52b125ec071b71e92f.jpg /home/sejong/Desktop/junseok/SPRC/musinsa/goods/men/hoodie/GYM JACKET nature green.jpg\n"
          ]
        },
        {
          "name": "stderr",
          "output_type": "stream",
          "text": [
            "hoodie-val:  86%|████████▌ | 43/50 [02:49<00:32,  4.58s/it]"
          ]
        },
        {
          "name": "stdout",
          "output_type": "stream",
          "text": [
            "\"has no graphic and pattern, is green, and is regular length\"\n",
            "/home/sejong/Desktop/junseok/SPRC/musinsa/snap/men/hoodie/75ad8e73dfea4daca54f440c5a718cec.jpg /home/sejong/Desktop/junseok/SPRC/musinsa/goods/men/hoodie/950G 스톤 워싱 후드 집업-워시드 블랙-.jpg\n"
          ]
        },
        {
          "name": "stderr",
          "output_type": "stream",
          "text": [
            "hoodie-val:  88%|████████▊ | 44/50 [02:53<00:25,  4.25s/it]"
          ]
        },
        {
          "name": "stdout",
          "output_type": "stream",
          "text": [
            "\"has no graphic and pattern, is gray, and is oversized fit\"\n",
            "/home/sejong/Desktop/junseok/SPRC/musinsa/snap/men/hoodie/2024043018120400000058520.jpg /home/sejong/Desktop/junseok/SPRC/musinsa/goods/men/hoodie/위드유 후드집업 6 Color [ULZH_5006].jpg\n"
          ]
        },
        {
          "name": "stderr",
          "output_type": "stream",
          "text": [
            "hoodie-val:  90%|█████████ | 45/50 [02:56<00:19,  3.95s/it]"
          ]
        },
        {
          "name": "stdout",
          "output_type": "stream",
          "text": [
            "\"has added graphic, is black, and is regular length\"\n",
            "/home/sejong/Desktop/junseok/SPRC/musinsa/snap/men/hoodie/510011e8a5244f05ad495fd0fc0cd1a8.jpg /home/sejong/Desktop/junseok/SPRC/musinsa/goods/men/hoodie/프로젝트 락 헤비웨이트 툴즈 오브 트레이드 풀 집 1386898-273.jpg\n"
          ]
        },
        {
          "name": "stderr",
          "output_type": "stream",
          "text": [
            "hoodie-val:  92%|█████████▏| 46/50 [03:00<00:15,  3.91s/it]"
          ]
        },
        {
          "name": "stdout",
          "output_type": "stream",
          "text": [
            "\"has added graphic, is white, and is regular fit\"\n",
            "/home/sejong/Desktop/junseok/SPRC/musinsa/snap/men/hoodie/135be5e9028f4d6789f9bca61b9f1e76.jpg /home/sejong/Desktop/junseok/SPRC/musinsa/goods/men/hoodie/Capital Zip Up Hoodie Light Sage.jpg\n"
          ]
        },
        {
          "name": "stderr",
          "output_type": "stream",
          "text": [
            "hoodie-val:  94%|█████████▍| 47/50 [03:04<00:11,  3.85s/it]"
          ]
        },
        {
          "name": "stdout",
          "output_type": "stream",
          "text": [
            "\"has added graphic, is green, and is regular fit\"\n",
            "/home/sejong/Desktop/junseok/SPRC/musinsa/snap/men/hoodie/7652aef732da42328d8a23aa430abecb.jpg /home/sejong/Desktop/junseok/SPRC/musinsa/goods/men/hoodie/TCM 1972 hooded zip-up (black).jpg\n"
          ]
        },
        {
          "name": "stderr",
          "output_type": "stream",
          "text": [
            "hoodie-val:  96%|█████████▌| 48/50 [03:07<00:07,  3.59s/it]"
          ]
        },
        {
          "name": "stdout",
          "output_type": "stream",
          "text": [
            "\"has added graphic, is black, and is regular fit\"\n",
            "/home/sejong/Desktop/junseok/SPRC/musinsa/snap/men/hoodie/68a50a2de9bf456bbdee7e6d3ca6947b.jpg /home/sejong/Desktop/junseok/SPRC/musinsa/goods/men/hoodie/[무료반품] BIG CHROME B LOGO TRACK LINE ZIP-UP HOODIE [MELANGE GREY].jpg\n"
          ]
        },
        {
          "name": "stderr",
          "output_type": "stream",
          "text": [
            "hoodie-val:  98%|█████████▊| 49/50 [03:10<00:03,  3.54s/it]"
          ]
        },
        {
          "name": "stdout",
          "output_type": "stream",
          "text": [
            "\"has added graphic, is gray, and is regular fit\"\n",
            "/home/sejong/Desktop/junseok/SPRC/musinsa/snap/men/hoodie/a9a7eec43de64165b776b2f320fb8a89.jpg /home/sejong/Desktop/junseok/SPRC/musinsa/goods/men/hoodie/투웨이 에센셜 후드 집 업-차콜.jpg\n"
          ]
        },
        {
          "name": "stderr",
          "output_type": "stream",
          "text": [
            "hoodie-val: 100%|██████████| 50/50 [03:13<00:00,  3.88s/it]\n"
          ]
        },
        {
          "name": "stdout",
          "output_type": "stream",
          "text": [
            "\"is black and oversized fit\"\n"
          ]
        },
        {
          "name": "stderr",
          "output_type": "stream",
          "text": [
            "hoodie-test:   0%|          | 0/50 [00:00<?, ?it/s]"
          ]
        },
        {
          "name": "stdout",
          "output_type": "stream",
          "text": [
            "/home/sejong/Desktop/junseok/SPRC/musinsa/snap/men/hoodie/624fd80d734a4119a478d0ece06e512e.jpg /home/sejong/Desktop/junseok/SPRC/musinsa/goods/men/hoodie/도밍고 피그먼트 2WAY 스웨트 후드 집업 (CHARCOAL).jpg\n"
          ]
        },
        {
          "name": "stderr",
          "output_type": "stream",
          "text": [
            "hoodie-test:   2%|▏         | 1/50 [00:03<03:00,  3.68s/it]"
          ]
        },
        {
          "name": "stdout",
          "output_type": "stream",
          "text": [
            "\"has added graphic, is black, and is oversized fit\"\n",
            "/home/sejong/Desktop/junseok/SPRC/musinsa/snap/men/hoodie/list.staff_66011a998c298.jpg /home/sejong/Desktop/junseok/SPRC/musinsa/goods/men/hoodie/크리스피 타슬란 긴팔 후드 아노락 레드(UP321CWT92).jpg\n"
          ]
        },
        {
          "name": "stderr",
          "output_type": "stream",
          "text": [
            "hoodie-test:   4%|▍         | 2/50 [00:08<03:16,  4.09s/it]"
          ]
        },
        {
          "name": "stdout",
          "output_type": "stream",
          "text": [
            "\"has added graphic, is red, and is oversized fit\"\n",
            "/home/sejong/Desktop/junseok/SPRC/musinsa/snap/men/hoodie/53094d9c8be4482cad695dc0f9546590.jpg /home/sejong/Desktop/junseok/SPRC/musinsa/goods/men/hoodie/스프레드 이지 워시드 후드 집업 [페이드 차콜].jpg\n"
          ]
        },
        {
          "name": "stderr",
          "output_type": "stream",
          "text": [
            "hoodie-test:   6%|▌         | 3/50 [00:11<02:58,  3.79s/it]"
          ]
        },
        {
          "name": "stdout",
          "output_type": "stream",
          "text": [
            "\"is gray and oversized fit\"\n",
            "/home/sejong/Desktop/junseok/SPRC/musinsa/snap/men/hoodie/598ceb5b7d2249b9a13f3bec2ecb3554.jpg /home/sejong/Desktop/junseok/SPRC/musinsa/goods/men/hoodie/TCM ethnic hooded zip-up (brown).jpg\n"
          ]
        },
        {
          "name": "stderr",
          "output_type": "stream",
          "text": [
            "hoodie-test:   8%|▊         | 4/50 [00:14<02:41,  3.51s/it]"
          ]
        },
        {
          "name": "stdout",
          "output_type": "stream",
          "text": [
            "\"has added graphic, is gray, and is regular fit\"\n",
            "/home/sejong/Desktop/junseok/SPRC/musinsa/snap/men/hoodie/76a8cf27992d4019b77520e673d9a639.jpg /home/sejong/Desktop/junseok/SPRC/musinsa/goods/men/hoodie/[런웨이] 무궁 빈티지 투웨이 후드 집업_차콜.jpg\n"
          ]
        },
        {
          "name": "stderr",
          "output_type": "stream",
          "text": [
            "hoodie-test:  10%|█         | 5/50 [00:18<02:37,  3.50s/it]"
          ]
        },
        {
          "name": "stdout",
          "output_type": "stream",
          "text": [
            "\"has added graphic, is gray, and is oversized fit\"\n",
            "/home/sejong/Desktop/junseok/SPRC/musinsa/snap/men/hoodie/2fa55166afb6429c921885fa306003a9.jpg /home/sejong/Desktop/junseok/SPRC/musinsa/goods/men/hoodie/스트라이프 인타르시아 후디 니트 집업 네이비.jpg\n"
          ]
        },
        {
          "name": "stderr",
          "output_type": "stream",
          "text": [
            "hoodie-test:  12%|█▏        | 6/50 [00:22<02:48,  3.83s/it]"
          ]
        },
        {
          "name": "stdout",
          "output_type": "stream",
          "text": [
            "\"has a checkered pattern, is navy, and is regular length\"\n",
            "/home/sejong/Desktop/junseok/SPRC/musinsa/snap/men/hoodie/73a158aabd274c8c958afd486428f65a.jpg /home/sejong/Desktop/junseok/SPRC/musinsa/goods/men/hoodie/도밍고 피그먼트 2WAY 스웨트 후드 집업 (KHAKI).jpg\n"
          ]
        },
        {
          "name": "stderr",
          "output_type": "stream",
          "text": [
            "hoodie-test:  14%|█▍        | 7/50 [00:25<02:38,  3.68s/it]"
          ]
        },
        {
          "name": "stdout",
          "output_type": "stream",
          "text": [
            "\"has added graphic, is olive green, and is oversized fit\"\n",
            "/home/sejong/Desktop/junseok/SPRC/musinsa/snap/men/hoodie/212c82a9067248df8bc0e076e46e77e6.jpg /home/sejong/Desktop/junseok/SPRC/musinsa/goods/men/hoodie/블루스마일 후드집업 6 Color [NSPH_0015].jpg\n"
          ]
        },
        {
          "name": "stderr",
          "output_type": "stream",
          "text": [
            "hoodie-test:  16%|█▌        | 8/50 [00:29<02:38,  3.78s/it]"
          ]
        },
        {
          "name": "stdout",
          "output_type": "stream",
          "text": [
            "\"has added graphic, is black, and is regular fit\"\n",
            "/home/sejong/Desktop/junseok/SPRC/musinsa/snap/men/hoodie/5cc33065118c440bafc4c51b8d0128ed.jpg /home/sejong/Desktop/junseok/SPRC/musinsa/goods/men/hoodie/링구사 케이블 후디드 집업 (블랙).jpg\n"
          ]
        },
        {
          "name": "stderr",
          "output_type": "stream",
          "text": [
            "hoodie-test:  18%|█▊        | 9/50 [00:32<02:24,  3.53s/it]"
          ]
        },
        {
          "name": "stdout",
          "output_type": "stream",
          "text": [
            "\"has added graphic, is black, and is regular length\"\n",
            "/home/sejong/Desktop/junseok/SPRC/musinsa/snap/men/hoodie/2024040518434800000087797.jpg /home/sejong/Desktop/junseok/SPRC/musinsa/goods/men/hoodie/하트 와펜 기모 후드집업 버건디.jpg\n"
          ]
        },
        {
          "name": "stderr",
          "output_type": "stream",
          "text": [
            "hoodie-test:  20%|██        | 10/50 [00:35<02:14,  3.36s/it]"
          ]
        },
        {
          "name": "stdout",
          "output_type": "stream",
          "text": [
            "\"has added graphic, is red, and is regular length\"\n",
            "/home/sejong/Desktop/junseok/SPRC/musinsa/snap/men/hoodie/c7da839a529b4848bd09941bdbb62c94.jpg /home/sejong/Desktop/junseok/SPRC/musinsa/goods/men/hoodie/피그먼트 오버사이즈 후디드 스웨트 집업 [더스티 블루].jpg\n"
          ]
        },
        {
          "name": "stderr",
          "output_type": "stream",
          "text": [
            "hoodie-test:  22%|██▏       | 11/50 [00:39<02:13,  3.42s/it]"
          ]
        },
        {
          "name": "stdout",
          "output_type": "stream",
          "text": [
            "\"is gray and oversized fit\"\n",
            "/home/sejong/Desktop/junseok/SPRC/musinsa/snap/men/hoodie/54672b1c9bc8438f81924587ab1cdf50.jpg /home/sejong/Desktop/junseok/SPRC/musinsa/goods/men/hoodie/980G 피그먼트 컷 후디 집업-문그레이-.jpg\n"
          ]
        },
        {
          "name": "stderr",
          "output_type": "stream",
          "text": [
            "hoodie-test:  24%|██▍       | 12/50 [00:43<02:16,  3.58s/it]"
          ]
        },
        {
          "name": "stdout",
          "output_type": "stream",
          "text": [
            "\"has no graphic and pattern, is gray, and is regular fit\"\n",
            "/home/sejong/Desktop/junseok/SPRC/musinsa/snap/men/hoodie/2024043018320800000089082.jpg /home/sejong/Desktop/junseok/SPRC/musinsa/goods/men/hoodie/Stud Half Logo Pigment Hood Zip up - Charcoal.jpg\n"
          ]
        },
        {
          "name": "stderr",
          "output_type": "stream",
          "text": [
            "hoodie-test:  26%|██▌       | 13/50 [00:46<02:12,  3.58s/it]"
          ]
        },
        {
          "name": "stdout",
          "output_type": "stream",
          "text": [
            "\"has added graphic, is gray, and is oversized fit\"\n",
            "/home/sejong/Desktop/junseok/SPRC/musinsa/snap/men/hoodie/list.staff_6628a5ad2fd2a.jpg /home/sejong/Desktop/junseok/SPRC/musinsa/goods/men/hoodie/공용) 에코 폴라플리스 하이넥 집업_MSE4TC3921.jpg\n"
          ]
        },
        {
          "name": "stderr",
          "output_type": "stream",
          "text": [
            "hoodie-test:  28%|██▊       | 14/50 [00:51<02:23,  3.99s/it]"
          ]
        },
        {
          "name": "stdout",
          "output_type": "stream",
          "text": [
            "\"is gray and regular length\"\n",
            "/home/sejong/Desktop/junseok/SPRC/musinsa/snap/men/hoodie/75b12ee336934d85905c7697a4720986.jpg /home/sejong/Desktop/junseok/SPRC/musinsa/goods/men/hoodie/BALLOON SWEAT HOOD ZIPUP PARKA _ BURGUNDY.jpg\n"
          ]
        },
        {
          "name": "stderr",
          "output_type": "stream",
          "text": [
            "hoodie-test:  30%|███       | 15/50 [00:55<02:16,  3.89s/it]"
          ]
        },
        {
          "name": "stdout",
          "output_type": "stream",
          "text": [
            "\"has added graphic, is burgundy, and is oversized fit\"\n",
            "/home/sejong/Desktop/junseok/SPRC/musinsa/snap/men/hoodie/f9a41de7e1704bf19a05cca9974f3f01.jpg /home/sejong/Desktop/junseok/SPRC/musinsa/goods/men/hoodie/오버핏 자수 터틀 후드집업 GHZ-254.jpg\n"
          ]
        },
        {
          "name": "stderr",
          "output_type": "stream",
          "text": [
            "hoodie-test:  32%|███▏      | 16/50 [00:59<02:11,  3.88s/it]"
          ]
        },
        {
          "name": "stdout",
          "output_type": "stream",
          "text": [
            "\"is gray and regular fit\"\n",
            "/home/sejong/Desktop/junseok/SPRC/musinsa/snap/men/hoodie/25359e5285804a0ca9ae9143ab16fa89.jpg /home/sejong/Desktop/junseok/SPRC/musinsa/goods/men/hoodie/크리스피 타슬란 긴팔 스탠넥 아노락 레드(UP321CWT91).jpg\n"
          ]
        },
        {
          "name": "stderr",
          "output_type": "stream",
          "text": [
            "hoodie-test:  34%|███▍      | 17/50 [01:03<02:07,  3.86s/it]"
          ]
        },
        {
          "name": "stdout",
          "output_type": "stream",
          "text": [
            "\"has added graphic, is red, and is regular fit\"\n",
            "/home/sejong/Desktop/junseok/SPRC/musinsa/snap/men/hoodie/dee7f41ac7484bd482357ef509c2244b.jpg /home/sejong/Desktop/junseok/SPRC/musinsa/goods/men/hoodie/자카드 투웨이 후드 니트 집업 (BLACK).jpg\n"
          ]
        },
        {
          "name": "stderr",
          "output_type": "stream",
          "text": [
            "hoodie-test:  36%|███▌      | 18/50 [01:06<01:55,  3.62s/it]"
          ]
        },
        {
          "name": "stdout",
          "output_type": "stream",
          "text": [
            "\"has no graphic and pattern, is black, and is oversized fit\"\n",
            "/home/sejong/Desktop/junseok/SPRC/musinsa/snap/men/hoodie/08d621af99624842872ebfc02b6d6112.jpg /home/sejong/Desktop/junseok/SPRC/musinsa/goods/men/hoodie/오피미스틱 후드집업 (멜란지그레이).jpg\n"
          ]
        },
        {
          "name": "stderr",
          "output_type": "stream",
          "text": [
            "hoodie-test:  38%|███▊      | 19/50 [01:09<01:50,  3.55s/it]"
          ]
        },
        {
          "name": "stdout",
          "output_type": "stream",
          "text": [
            "\"has added graphic, is gray, and is oversized fit\"\n",
            "/home/sejong/Desktop/junseok/SPRC/musinsa/snap/men/hoodie/c90e4d0566924bf1be59a177a54339dd.jpg /home/sejong/Desktop/junseok/SPRC/musinsa/goods/men/hoodie/T.N.T. Classic HDP Zip Up Hoodie Navy.jpg\n"
          ]
        },
        {
          "name": "stderr",
          "output_type": "stream",
          "text": [
            "hoodie-test:  40%|████      | 20/50 [01:13<01:47,  3.57s/it]"
          ]
        },
        {
          "name": "stdout",
          "output_type": "stream",
          "text": [
            "\"has added graphic, is black, and regular fit\"\n",
            "/home/sejong/Desktop/junseok/SPRC/musinsa/snap/men/hoodie/2024041217555000000042422.jpg /home/sejong/Desktop/junseok/SPRC/musinsa/goods/men/hoodie/옐로우 해시태그 후드 집업(블랙).jpg\n"
          ]
        },
        {
          "name": "stderr",
          "output_type": "stream",
          "text": [
            "hoodie-test:  42%|████▏     | 21/50 [01:16<01:36,  3.34s/it]"
          ]
        },
        {
          "name": "stdout",
          "output_type": "stream",
          "text": [
            "\"has added graphic, is black, and is oversized fit\"\n",
            "/home/sejong/Desktop/junseok/SPRC/musinsa/snap/men/hoodie/list.staff_661362afb8671.jpg /home/sejong/Desktop/junseok/SPRC/musinsa/goods/men/hoodie/인사이드 더 클로젯 후드 니트 집업 [BLACK].jpg\n"
          ]
        },
        {
          "name": "stderr",
          "output_type": "stream",
          "text": [
            "hoodie-test:  44%|████▍     | 22/50 [01:20<01:42,  3.66s/it]"
          ]
        },
        {
          "name": "stdout",
          "output_type": "stream",
          "text": [
            "\"has added graphic and is black\"\n",
            "/home/sejong/Desktop/junseok/SPRC/musinsa/snap/men/hoodie/f0d6371b9ed245738f9b35526280bb1e.jpg /home/sejong/Desktop/junseok/SPRC/musinsa/goods/men/hoodie/MTOR 파이너 후드집업 그레이 YKHD1499.jpg\n"
          ]
        },
        {
          "name": "stderr",
          "output_type": "stream",
          "text": [
            "hoodie-test:  46%|████▌     | 23/50 [01:24<01:43,  3.83s/it]"
          ]
        },
        {
          "name": "stdout",
          "output_type": "stream",
          "text": [
            "\"has no graphic and is gray and oversized fit\"\n",
            "/home/sejong/Desktop/junseok/SPRC/musinsa/snap/men/hoodie/f439cab3a2614dad87825d5736f9913b.jpg /home/sejong/Desktop/junseok/SPRC/musinsa/goods/men/hoodie/MESH KNIT HOOD ZIP UP [MID BLUE].jpg\n"
          ]
        },
        {
          "name": "stderr",
          "output_type": "stream",
          "text": [
            "hoodie-test:  48%|████▊     | 24/50 [01:28<01:42,  3.94s/it]"
          ]
        },
        {
          "name": "stdout",
          "output_type": "stream",
          "text": [
            "\"is blue and regular length with regular fit\"\n",
            "/home/sejong/Desktop/junseok/SPRC/musinsa/snap/men/hoodie/558f6cf6fb2b417fb0895849c6d6f5a5.jpg /home/sejong/Desktop/junseok/SPRC/musinsa/goods/men/hoodie/니트 집업 후드 - 카키 _ N04HM519F05.jpg\n"
          ]
        },
        {
          "name": "stderr",
          "output_type": "stream",
          "text": [
            "hoodie-test:  50%|█████     | 25/50 [01:34<01:47,  4.30s/it]"
          ]
        },
        {
          "name": "stdout",
          "output_type": "stream",
          "text": [
            "\"has no graphic and pattern, is green, and is regular fit\"\n",
            "/home/sejong/Desktop/junseok/SPRC/musinsa/snap/men/hoodie/14796a2934a54a01a877a0eb2f3810fb.jpg /home/sejong/Desktop/junseok/SPRC/musinsa/goods/men/hoodie/DYED LOGO PATCH HOODIE ZIP UP - BLACK.jpg\n"
          ]
        },
        {
          "name": "stderr",
          "output_type": "stream",
          "text": [
            "hoodie-test:  52%|█████▏    | 26/50 [01:37<01:34,  3.93s/it]"
          ]
        },
        {
          "name": "stdout",
          "output_type": "stream",
          "text": [
            "\"has added graphic, is gray, and is oversized fit\"\n",
            "/home/sejong/Desktop/junseok/SPRC/musinsa/snap/men/hoodie/192f48fe41f645098b04129ff3bb7193.jpg /home/sejong/Desktop/junseok/SPRC/musinsa/goods/men/hoodie/SUNRISE STITCH LOGO HOOD ZIP UP_BLACK(IK2EFMM481A).jpg\n"
          ]
        },
        {
          "name": "stderr",
          "output_type": "stream",
          "text": [
            "hoodie-test:  54%|█████▍    | 27/50 [01:39<01:22,  3.61s/it]"
          ]
        },
        {
          "name": "stdout",
          "output_type": "stream",
          "text": [
            "\"has added graphic, is black, and is regular fit\"\n",
            "/home/sejong/Desktop/junseok/SPRC/musinsa/snap/men/hoodie/25359e5285804a0ca9ae9143ab16fa89.jpg /home/sejong/Desktop/junseok/SPRC/musinsa/goods/men/hoodie/스몰 트위치 로고 후드 집업 그레이.jpg\n"
          ]
        },
        {
          "name": "stderr",
          "output_type": "stream",
          "text": [
            "hoodie-test:  56%|█████▌    | 28/50 [01:43<01:18,  3.59s/it]"
          ]
        },
        {
          "name": "stdout",
          "output_type": "stream",
          "text": [
            "\"has added graphic, is gray, and is oversized fit\"\n",
            "/home/sejong/Desktop/junseok/SPRC/musinsa/snap/men/hoodie/d9d5f0e5530047fd82b3b27de84a6070.jpg /home/sejong/Desktop/junseok/SPRC/musinsa/goods/men/hoodie/피그먼트 숄더 라인 후드 집업 챠콜.jpg\n"
          ]
        },
        {
          "name": "stderr",
          "output_type": "stream",
          "text": [
            "hoodie-test:  58%|█████▊    | 29/50 [01:46<01:14,  3.53s/it]"
          ]
        },
        {
          "name": "stdout",
          "output_type": "stream",
          "text": [
            "\"has added graphic, is gray, and is oversized fit\"\n",
            "/home/sejong/Desktop/junseok/SPRC/musinsa/snap/men/hoodie/5353633d5e5841a89fa04daa0048943d.jpg /home/sejong/Desktop/junseok/SPRC/musinsa/goods/men/hoodie/REVERSE MOT HOOD ZIP SWEAT(SPEEDSTER)_BLACK.jpg\n"
          ]
        },
        {
          "name": "stderr",
          "output_type": "stream",
          "text": [
            "hoodie-test:  60%|██████    | 30/50 [01:50<01:08,  3.44s/it]"
          ]
        },
        {
          "name": "stdout",
          "output_type": "stream",
          "text": [
            "\"has added graphic, is black, and is regular fit\"\n",
            "/home/sejong/Desktop/junseok/SPRC/musinsa/snap/men/hoodie/2024070814035300000006859.jpg /home/sejong/Desktop/junseok/SPRC/musinsa/goods/men/hoodie/자이언트핏 솔리드 후드집업 (카모카키).jpg\n"
          ]
        },
        {
          "name": "stderr",
          "output_type": "stream",
          "text": [
            "hoodie-test:  62%|██████▏   | 31/50 [01:54<01:08,  3.61s/it]"
          ]
        },
        {
          "name": "stdout",
          "output_type": "stream",
          "text": [
            "\"has a camouflage pattern and is oversized fit\"\n",
            "/home/sejong/Desktop/junseok/SPRC/musinsa/snap/men/hoodie/33f867beff544fa39a39f10980719933.jpg /home/sejong/Desktop/junseok/SPRC/musinsa/goods/men/hoodie/남여공용 베이직 양털 후드 집업 (블랙).jpg\n"
          ]
        },
        {
          "name": "stderr",
          "output_type": "stream",
          "text": [
            "hoodie-test:  64%|██████▍   | 32/50 [01:57<01:02,  3.48s/it]"
          ]
        },
        {
          "name": "stdout",
          "output_type": "stream",
          "text": [
            "\"has no graphic and pattern, is black, and is regular fit\"\n",
            "/home/sejong/Desktop/junseok/SPRC/musinsa/snap/men/hoodie/1736ae5a5d1544949f89bfd383cad004.jpg /home/sejong/Desktop/junseok/SPRC/musinsa/goods/men/hoodie/Jesuschrist 2way Zip Dirty Hoodie - Anchor Grey.jpg\n"
          ]
        },
        {
          "name": "stderr",
          "output_type": "stream",
          "text": [
            "hoodie-test:  66%|██████▌   | 33/50 [02:00<01:00,  3.53s/it]"
          ]
        },
        {
          "name": "stdout",
          "output_type": "stream",
          "text": [
            "\"has added graphic, is gray, and is regular length\"\n",
            "/home/sejong/Desktop/junseok/SPRC/musinsa/snap/men/hoodie/f9118e448a8a4430839296de82a29c01.jpg /home/sejong/Desktop/junseok/SPRC/musinsa/goods/men/hoodie/네오프렌 크롭 후드집업-블랙.jpg\n"
          ]
        },
        {
          "name": "stderr",
          "output_type": "stream",
          "text": [
            "hoodie-test:  68%|██████▊   | 34/50 [02:04<00:55,  3.49s/it]"
          ]
        },
        {
          "name": "stdout",
          "output_type": "stream",
          "text": [
            "“has no graphic and pattern, is gray, and is cropped length with oversized fit”\n",
            "/home/sejong/Desktop/junseok/SPRC/musinsa/snap/men/hoodie/68a50a2de9bf456bbdee7e6d3ca6947b.jpg /home/sejong/Desktop/junseok/SPRC/musinsa/goods/men/hoodie/오버핏 디스트로이드 피그먼트 후드 집업 [차콜].jpg\n"
          ]
        },
        {
          "name": "stderr",
          "output_type": "stream",
          "text": [
            "hoodie-test:  70%|███████   | 35/50 [02:09<00:58,  3.89s/it]"
          ]
        },
        {
          "name": "stdout",
          "output_type": "stream",
          "text": [
            "\"has added graphic, is black, and is oversized fit\"\n",
            "/home/sejong/Desktop/junseok/SPRC/musinsa/snap/men/hoodie/list.staff_66430a6d8dac1.jpg /home/sejong/Desktop/junseok/SPRC/musinsa/goods/men/hoodie/Classic Raglan Hoodie Zip Up [Black].jpg\n"
          ]
        },
        {
          "name": "stderr",
          "output_type": "stream",
          "text": [
            "hoodie-test:  72%|███████▏  | 36/50 [02:12<00:52,  3.73s/it]"
          ]
        },
        {
          "name": "stdout",
          "output_type": "stream",
          "text": [
            "\"has no graphic and pattern, is black, and is regular length\"\n",
            "/home/sejong/Desktop/junseok/SPRC/musinsa/snap/men/hoodie/cff05ae1730c4071be19ff2c118fbc58.jpg /home/sejong/Desktop/junseok/SPRC/musinsa/goods/men/hoodie/인사이드 더 클로젯 후드 니트 집업 [IVORY].jpg\n"
          ]
        },
        {
          "name": "stderr",
          "output_type": "stream",
          "text": [
            "hoodie-test:  74%|███████▍  | 37/50 [02:17<00:53,  4.09s/it]"
          ]
        },
        {
          "name": "stdout",
          "output_type": "stream",
          "text": [
            "\"has added graphic, is gray, and is oversized fit\"\n",
            "/home/sejong/Desktop/junseok/SPRC/musinsa/snap/men/hoodie/019ebd57a4fc44da9e62ab36f70d2bb1.jpg /home/sejong/Desktop/junseok/SPRC/musinsa/goods/men/hoodie/Symbol Logo Zip Hoodie - Black.jpg\n"
          ]
        },
        {
          "name": "stderr",
          "output_type": "stream",
          "text": [
            "hoodie-test:  76%|███████▌  | 38/50 [02:20<00:44,  3.71s/it]"
          ]
        },
        {
          "name": "stdout",
          "output_type": "stream",
          "text": [
            "\"has added graphic, is black, and is regular fit\"\n",
            "/home/sejong/Desktop/junseok/SPRC/musinsa/snap/men/hoodie/21591b5f4f32445a969f40b67a89f760.jpg /home/sejong/Desktop/junseok/SPRC/musinsa/goods/men/hoodie/( 2Pack ) 루즈핏 2Way 스웨트 후드집업 ( 4Color ).jpg\n"
          ]
        },
        {
          "name": "stderr",
          "output_type": "stream",
          "text": [
            "hoodie-test:  78%|███████▊  | 39/50 [02:23<00:37,  3.44s/it]"
          ]
        },
        {
          "name": "stdout",
          "output_type": "stream",
          "text": [
            "\"is gray and regular fit\"\n",
            "/home/sejong/Desktop/junseok/SPRC/musinsa/snap/men/hoodie/2024043018102000000067968.jpg /home/sejong/Desktop/junseok/SPRC/musinsa/goods/men/hoodie/에센셜 기모 후드집업 유니 다크그린.jpg\n"
          ]
        },
        {
          "name": "stderr",
          "output_type": "stream",
          "text": [
            "hoodie-test:  80%|████████  | 40/50 [02:25<00:32,  3.27s/it]"
          ]
        },
        {
          "name": "stdout",
          "output_type": "stream",
          "text": [
            "\"is gray and regular length\"\n",
            "/home/sejong/Desktop/junseok/SPRC/musinsa/snap/men/hoodie/f59cc2c1c5ec4c96b598dbbdcd290d29.jpg /home/sejong/Desktop/junseok/SPRC/musinsa/goods/men/hoodie/APPLIQUE ARCH LOGO HOODIE ZIP UP [BLACK].jpg\n"
          ]
        },
        {
          "name": "stderr",
          "output_type": "stream",
          "text": [
            "hoodie-test:  82%|████████▏ | 41/50 [02:30<00:32,  3.59s/it]"
          ]
        },
        {
          "name": "stdout",
          "output_type": "stream",
          "text": [
            "\"has added graphic, is black, and is regular length\"\n",
            "/home/sejong/Desktop/junseok/SPRC/musinsa/snap/men/hoodie/f862e154b9e14ea6b9a7b4c5b367fbb3.jpg /home/sejong/Desktop/junseok/SPRC/musinsa/goods/men/hoodie/[기모] 아플리케 로고 후드집업 GREY.jpg\n"
          ]
        },
        {
          "name": "stderr",
          "output_type": "stream",
          "text": [
            "hoodie-test:  84%|████████▍ | 42/50 [02:33<00:28,  3.53s/it]"
          ]
        },
        {
          "name": "stdout",
          "output_type": "stream",
          "text": [
            "\"has added graphic, is gray, and is regular fit\"\n",
            "/home/sejong/Desktop/junseok/SPRC/musinsa/snap/men/hoodie/f439cab3a2614dad87825d5736f9913b.jpg /home/sejong/Desktop/junseok/SPRC/musinsa/goods/men/hoodie/[2 PACK] 에센셜 오버핏 투웨이 후드집업 (3color).jpg\n"
          ]
        },
        {
          "name": "stderr",
          "output_type": "stream",
          "text": [
            "hoodie-test:  86%|████████▌ | 43/50 [02:37<00:25,  3.69s/it]"
          ]
        },
        {
          "name": "stdout",
          "output_type": "stream",
          "text": [
            "\"is gray and oversized fit\"\n",
            "/home/sejong/Desktop/junseok/SPRC/musinsa/snap/men/hoodie/2024070814460900000026393.jpg /home/sejong/Desktop/junseok/SPRC/musinsa/goods/men/hoodie/빅 스크립트 로고 후드 집업 Normal Grey.jpg\n"
          ]
        },
        {
          "name": "stderr",
          "output_type": "stream",
          "text": [
            "hoodie-test:  88%|████████▊ | 44/50 [02:41<00:21,  3.64s/it]"
          ]
        },
        {
          "name": "stdout",
          "output_type": "stream",
          "text": [
            "\"has added graphic, is gray, and is regular fit\"\n",
            "/home/sejong/Desktop/junseok/SPRC/musinsa/snap/men/hoodie/f6613bdadf514d6387ddc1095d8ec91d.jpg /home/sejong/Desktop/junseok/SPRC/musinsa/goods/men/hoodie/PINCH WASHED HOOD ZIP-UP (3COLOR).jpg\n"
          ]
        },
        {
          "name": "stderr",
          "output_type": "stream",
          "text": [
            "hoodie-test:  90%|█████████ | 45/50 [02:46<00:19,  3.98s/it]"
          ]
        },
        {
          "name": "stdout",
          "output_type": "stream",
          "text": [
            "\"has added graphic, is gray, and is oversized fit\"\n",
            "/home/sejong/Desktop/junseok/SPRC/musinsa/snap/men/hoodie/2e3e3fb5be9d4193a6f4ab83810d0dde.jpg /home/sejong/Desktop/junseok/SPRC/musinsa/goods/men/hoodie/KHZB0101 쿠마 기모 후드 집업 블랙.jpg\n"
          ]
        },
        {
          "name": "stderr",
          "output_type": "stream",
          "text": [
            "hoodie-test:  92%|█████████▏| 46/50 [02:48<00:14,  3.66s/it]"
          ]
        },
        {
          "name": "stdout",
          "output_type": "stream",
          "text": [
            "\"has added graphic, is black, and is oversized fit\"\n",
            "/home/sejong/Desktop/junseok/SPRC/musinsa/snap/men/hoodie/2024070814035300000006859.jpg /home/sejong/Desktop/junseok/SPRC/musinsa/goods/men/hoodie/[승관 PICK] 스타테일 후드집업_레드.jpg\n"
          ]
        },
        {
          "name": "stderr",
          "output_type": "stream",
          "text": [
            "hoodie-test:  94%|█████████▍| 47/50 [02:52<00:10,  3.54s/it]"
          ]
        },
        {
          "name": "stdout",
          "output_type": "stream",
          "text": [
            "\"has added graphic, is black, and is regular fit\"\n",
            "/home/sejong/Desktop/junseok/SPRC/musinsa/snap/men/hoodie/2024040518434800000087797.jpg /home/sejong/Desktop/junseok/SPRC/musinsa/goods/men/hoodie/유스풀 벌룬 후드집업 버건디 SJHD1327.jpg\n"
          ]
        },
        {
          "name": "stderr",
          "output_type": "stream",
          "text": [
            "hoodie-test:  96%|█████████▌| 48/50 [02:55<00:06,  3.38s/it]"
          ]
        },
        {
          "name": "stdout",
          "output_type": "stream",
          "text": [
            "\"is burgundy and oversized fit\"\n",
            "/home/sejong/Desktop/junseok/SPRC/musinsa/snap/men/hoodie/87ac5e3d34a341e5b829b718347d7c7a.jpg /home/sejong/Desktop/junseok/SPRC/musinsa/goods/men/hoodie/Dancing Devils 2-way Zip Hoodie - Black.jpg\n"
          ]
        },
        {
          "name": "stderr",
          "output_type": "stream",
          "text": [
            "hoodie-test:  98%|█████████▊| 49/50 [02:58<00:03,  3.25s/it]"
          ]
        },
        {
          "name": "stdout",
          "output_type": "stream",
          "text": [
            "\"has added graphic, is black, and is oversized fit\"\n",
            "/home/sejong/Desktop/junseok/SPRC/musinsa/snap/men/hoodie/1227f89a3fec4e879534c1f6a51cbca2.jpg /home/sejong/Desktop/junseok/SPRC/musinsa/goods/men/hoodie/치크 피그먼트 후드집업 차콜 MJHD7736.jpg\n"
          ]
        },
        {
          "name": "stderr",
          "output_type": "stream",
          "text": [
            "hoodie-test: 100%|██████████| 50/50 [03:01<00:00,  3.63s/it]\n"
          ]
        },
        {
          "name": "stdout",
          "output_type": "stream",
          "text": [
            "\"has no graphic and pattern, is gray, and is cropped length\"\n",
            "[INFO] Finished processing category: hoodie\n"
          ]
        },
        {
          "name": "stderr",
          "output_type": "stream",
          "text": [
            "coat-train:   0%|          | 0/400 [00:00<?, ?it/s]"
          ]
        },
        {
          "name": "stdout",
          "output_type": "stream",
          "text": [
            "/home/sejong/Desktop/junseok/SPRC/musinsa/snap/men/coat/list.staff_603d8a189cfa2.jpg /home/sejong/Desktop/junseok/SPRC/musinsa/goods/men/coat/싱글 브레스트 체크 울 블렌드 코트 [베이지].jpg\n"
          ]
        },
        {
          "name": "stderr",
          "output_type": "stream",
          "text": [
            "coat-train:   0%|          | 1/400 [00:03<21:22,  3.21s/it]"
          ]
        },
        {
          "name": "stdout",
          "output_type": "stream",
          "text": [
            "\"has a herringbone pattern and is long length\"\n",
            "/home/sejong/Desktop/junseok/SPRC/musinsa/snap/men/coat/b0492ccc4d324ba6aa2b45b1899fb9ce.jpg /home/sejong/Desktop/junseok/SPRC/musinsa/goods/men/coat/남녀공용 노치드 카라 원버튼 코트 (BLACK) (HAAHC81).jpg\n"
          ]
        },
        {
          "name": "stderr",
          "output_type": "stream",
          "text": [
            "coat-train:   0%|          | 2/400 [00:06<21:46,  3.28s/it]"
          ]
        },
        {
          "name": "stdout",
          "output_type": "stream",
          "text": [
            "\"is black and long length\"\n",
            "/home/sejong/Desktop/junseok/SPRC/musinsa/snap/men/coat/2022021511120700000084995.jpg /home/sejong/Desktop/junseok/SPRC/musinsa/goods/men/coat/하프코트 - 2color MYCA7103.jpg\n"
          ]
        },
        {
          "name": "stderr",
          "output_type": "stream",
          "text": [
            "coat-train:   1%|          | 3/400 [00:10<23:53,  3.61s/it]"
          ]
        },
        {
          "name": "stdout",
          "output_type": "stream",
          "text": [
            "\"is no requirements, is gray, and is regular length\"\n",
            "/home/sejong/Desktop/junseok/SPRC/musinsa/snap/men/coat/c80bb9cc018e4b21bfb1ebbd39463bda.jpg /home/sejong/Desktop/junseok/SPRC/musinsa/goods/men/coat/[빅사이즈]울 블렌드 오버핏 싱글코트 블랙.jpg\n"
          ]
        },
        {
          "name": "stderr",
          "output_type": "stream",
          "text": [
            "coat-train:   1%|          | 4/400 [00:13<23:03,  3.49s/it]"
          ]
        },
        {
          "name": "stdout",
          "output_type": "stream",
          "text": [
            "\"is black and long length\"\n",
            "/home/sejong/Desktop/junseok/SPRC/musinsa/snap/men/coat/list.staff_6021f4ca36804.jpg /home/sejong/Desktop/junseok/SPRC/musinsa/goods/men/coat/오버사이즈 체스터 필드 코트 블랙.jpg\n"
          ]
        },
        {
          "name": "stderr",
          "output_type": "stream",
          "text": [
            "coat-train:   1%|▏         | 5/400 [00:17<22:41,  3.45s/it]"
          ]
        },
        {
          "name": "stdout",
          "output_type": "stream",
          "text": [
            "\"is black and regular length\"\n",
            "/home/sejong/Desktop/junseok/SPRC/musinsa/snap/men/coat/722ee0201c334553877a451f665d914e.jpg /home/sejong/Desktop/junseok/SPRC/musinsa/goods/men/coat/울 블렌드 오버핏 싱글 코트 [베이지].jpg\n"
          ]
        },
        {
          "name": "stderr",
          "output_type": "stream",
          "text": [
            "coat-train:   2%|▏         | 6/400 [00:21<23:45,  3.62s/it]"
          ]
        },
        {
          "name": "stdout",
          "output_type": "stream",
          "text": [
            "\"is no requirements, is gray, and is long length\"\n",
            "/home/sejong/Desktop/junseok/SPRC/musinsa/snap/men/coat/acde087f7a0746ff955ed667ce3a396e.jpg /home/sejong/Desktop/junseok/SPRC/musinsa/goods/men/coat/두굿_하프코트 - 3color MXCA7103.jpg\n"
          ]
        },
        {
          "name": "stderr",
          "output_type": "stream",
          "text": [
            "coat-train:   2%|▏         | 7/400 [00:24<23:14,  3.55s/it]"
          ]
        },
        {
          "name": "stdout",
          "output_type": "stream",
          "text": [
            "\"is no requirements, is gray, and is regular fit\"\n",
            "/home/sejong/Desktop/junseok/SPRC/musinsa/snap/men/coat/3c9be7e7832449a59ccac815dca6eaf2.jpg /home/sejong/Desktop/junseok/SPRC/musinsa/goods/men/coat/다크 그레이 오버핏 버진울 체크 발마칸 코트 (TNCO3F107G2).jpg\n"
          ]
        },
        {
          "name": "stderr",
          "output_type": "stream",
          "text": [
            "coat-train:   2%|▏         | 8/400 [00:28<24:10,  3.70s/it]"
          ]
        },
        {
          "name": "stdout",
          "output_type": "stream",
          "text": [
            "\"has a checkered pattern and is gray\"\n",
            "/home/sejong/Desktop/junseok/SPRC/musinsa/snap/men/coat/2022021511054900000039711.jpg /home/sejong/Desktop/junseok/SPRC/musinsa/goods/men/coat/캐시미어 블렌드 오버사이즈 코트 [블랙].jpg\n"
          ]
        },
        {
          "name": "stderr",
          "output_type": "stream",
          "text": [
            "coat-train:   2%|▏         | 9/400 [00:31<22:17,  3.42s/it]"
          ]
        },
        {
          "name": "stdout",
          "output_type": "stream",
          "text": [
            "\"is black and oversized fit\"\n",
            "/home/sejong/Desktop/junseok/SPRC/musinsa/snap/men/coat/2021030412145700000045906.jpg /home/sejong/Desktop/junseok/SPRC/musinsa/goods/men/coat/체크 재킷 - 다크 네이비 _ WOAPVM02865IAK.jpg\n"
          ]
        },
        {
          "name": "stderr",
          "output_type": "stream",
          "text": [
            "coat-train:   2%|▎         | 10/400 [00:34<21:37,  3.33s/it]"
          ]
        },
        {
          "name": "stdout",
          "output_type": "stream",
          "text": [
            "\"has a checkered pattern, is navy, and is regular length\"\n",
            "/home/sejong/Desktop/junseok/SPRC/musinsa/snap/men/coat/2024070811250200000072125.jpg /home/sejong/Desktop/junseok/SPRC/musinsa/goods/men/coat/타임리스 투버튼 싱글 코트 블랙 ZG6CT601BK.jpg\n"
          ]
        },
        {
          "name": "stderr",
          "output_type": "stream",
          "text": [
            "coat-train:   3%|▎         | 11/400 [00:37<20:28,  3.16s/it]"
          ]
        },
        {
          "name": "stdout",
          "output_type": "stream",
          "text": [
            "\"is black and long length\"\n",
            "/home/sejong/Desktop/junseok/SPRC/musinsa/snap/men/coat/a405d394ec6b48f995747259f5a2a795.jpg /home/sejong/Desktop/junseok/SPRC/musinsa/goods/men/coat/남성) 울혼방 하프 발마칸코트_EPD4CC1405.jpg\n"
          ]
        },
        {
          "name": "stderr",
          "output_type": "stream",
          "text": [
            "coat-train:   3%|▎         | 12/400 [00:42<24:19,  3.76s/it]"
          ]
        },
        {
          "name": "stdout",
          "output_type": "stream",
          "text": [
            "\"is white and regular length\"\n",
            "/home/sejong/Desktop/junseok/SPRC/musinsa/snap/men/coat/e935056c58d541c6b5bb8354d5cc61e2.jpg /home/sejong/Desktop/junseok/SPRC/musinsa/goods/men/coat/wool hood coat brown.jpg\n"
          ]
        },
        {
          "name": "stderr",
          "output_type": "stream",
          "text": [
            "coat-train:   3%|▎         | 13/400 [00:46<24:13,  3.76s/it]"
          ]
        },
        {
          "name": "stdout",
          "output_type": "stream",
          "text": [
            "\"has no requirements, is brown, and is long length\"\n",
            "/home/sejong/Desktop/junseok/SPRC/musinsa/snap/men/coat/d132899ae9474c829a791c97dde2f30b.jpg /home/sejong/Desktop/junseok/SPRC/musinsa/goods/men/coat/더블 페이스 쇼트 재킷 - 브라운 _ HJK200266260.jpg\n"
          ]
        },
        {
          "name": "stderr",
          "output_type": "stream",
          "text": [
            "coat-train:   4%|▎         | 14/400 [00:50<24:33,  3.82s/it]"
          ]
        },
        {
          "name": "stdout",
          "output_type": "stream",
          "text": [
            "\"has a checkered pattern and is regular length\"\n",
            "/home/sejong/Desktop/junseok/SPRC/musinsa/snap/men/coat/2021030412170400000018361.jpg /home/sejong/Desktop/junseok/SPRC/musinsa/goods/men/coat/울 블렌드 맥시 발마칸 로브 코트 [네이비].jpg\n"
          ]
        },
        {
          "name": "stderr",
          "output_type": "stream",
          "text": [
            "coat-train:   4%|▍         | 15/400 [00:53<23:33,  3.67s/it]"
          ]
        },
        {
          "name": "stdout",
          "output_type": "stream",
          "text": [
            "\"is no requirements, is black, and is long length\"\n",
            "/home/sejong/Desktop/junseok/SPRC/musinsa/snap/men/coat/c2049dd0be1e484ab4f0d8ac82ddbcc9.jpg /home/sejong/Desktop/junseok/SPRC/musinsa/goods/men/coat/pocket wool short coat beige.jpg\n"
          ]
        },
        {
          "name": "stderr",
          "output_type": "stream",
          "text": [
            "coat-train:   4%|▍         | 16/400 [00:56<23:04,  3.60s/it]"
          ]
        },
        {
          "name": "stdout",
          "output_type": "stream",
          "text": [
            "\"is no requirements, is gray, and is regular fit\"\n",
            "/home/sejong/Desktop/junseok/SPRC/musinsa/snap/men/coat/2022022209322900000017081.jpg /home/sejong/Desktop/junseok/SPRC/musinsa/goods/men/coat/[0029] 밍 케이프 로브 울 코트.jpg\n"
          ]
        },
        {
          "name": "stderr",
          "output_type": "stream",
          "text": [
            "coat-train:   4%|▍         | 17/400 [01:01<24:09,  3.78s/it]"
          ]
        },
        {
          "name": "stdout",
          "output_type": "stream",
          "text": [
            "\"is gray and oversized fit\"\n",
            "/home/sejong/Desktop/junseok/SPRC/musinsa/snap/men/coat/2024032617262900000045501.jpg /home/sejong/Desktop/junseok/SPRC/musinsa/goods/men/coat/캐시미어 블렌드 오버사이즈 싱글 코트 [미디엄 그레이].jpg\n"
          ]
        },
        {
          "name": "stderr",
          "output_type": "stream",
          "text": [
            "coat-train:   4%|▍         | 18/400 [01:04<23:26,  3.68s/it]"
          ]
        },
        {
          "name": "stdout",
          "output_type": "stream",
          "text": [
            "\"is gray and long length\"\n",
            "/home/sejong/Desktop/junseok/SPRC/musinsa/snap/men/coat/list.staff_63e0a3607685f.jpg /home/sejong/Desktop/junseok/SPRC/musinsa/goods/men/coat/[프리미엄] MTR 오버사이즈 발마칸 코트 [차콜 그레이].jpg\n"
          ]
        },
        {
          "name": "stderr",
          "output_type": "stream",
          "text": [
            "coat-train:   5%|▍         | 19/400 [01:07<22:43,  3.58s/it]"
          ]
        },
        {
          "name": "stdout",
          "output_type": "stream",
          "text": [
            "\"is black and long length\"\n",
            "/home/sejong/Desktop/junseok/SPRC/musinsa/snap/men/coat/951a6def12044c9f99643f929844f41d.jpg /home/sejong/Desktop/junseok/SPRC/musinsa/goods/men/coat/오버사이즈 발마칸 코트 BLACK.jpg\n"
          ]
        },
        {
          "name": "stderr",
          "output_type": "stream",
          "text": [
            "coat-train:   5%|▌         | 20/400 [01:11<22:41,  3.58s/it]"
          ]
        },
        {
          "name": "stdout",
          "output_type": "stream",
          "text": [
            "\"is black and oversized fit\"\n",
            "/home/sejong/Desktop/junseok/SPRC/musinsa/snap/men/coat/807818f6451f485aab3ee3ee83a733ed.jpg /home/sejong/Desktop/junseok/SPRC/musinsa/goods/men/coat/WYATT CHECK BALMACAAN COAT BEIGE.jpg\n"
          ]
        },
        {
          "name": "stderr",
          "output_type": "stream",
          "text": [
            "coat-train:   5%|▌         | 21/400 [01:15<24:19,  3.85s/it]"
          ]
        },
        {
          "name": "stdout",
          "output_type": "stream",
          "text": [
            "\"has a checkered pattern, is gray, and is oversized fit\"\n",
            "/home/sejong/Desktop/junseok/SPRC/musinsa/snap/men/coat/b4120b2afa9c4f3ea2299fa2ea72b5cd.jpg /home/sejong/Desktop/junseok/SPRC/musinsa/goods/men/coat/남성) 캐시미어 블렌드 싱글 코트(핸드메이드)_AAD4CG1501.jpg\n"
          ]
        },
        {
          "name": "stderr",
          "output_type": "stream",
          "text": [
            "coat-train:   6%|▌         | 22/400 [01:19<24:11,  3.84s/it]"
          ]
        },
        {
          "name": "stdout",
          "output_type": "stream",
          "text": [
            "\"is gray and long length\"\n",
            "/home/sejong/Desktop/junseok/SPRC/musinsa/snap/men/coat/list.staff_65f129ad33dae.jpg /home/sejong/Desktop/junseok/SPRC/musinsa/goods/men/coat/헤링본 울 더플 롱 코트 차콜.jpg\n"
          ]
        },
        {
          "name": "stderr",
          "output_type": "stream",
          "text": [
            "coat-train:   6%|▌         | 23/400 [01:24<24:54,  3.96s/it]"
          ]
        },
        {
          "name": "stdout",
          "output_type": "stream",
          "text": [
            "\"is gray, long length, and regular fit\"\n",
            "/home/sejong/Desktop/junseok/SPRC/musinsa/snap/men/coat/2024022113052900000049504.jpg /home/sejong/Desktop/junseok/SPRC/musinsa/goods/men/coat/체크 재킷 - 다크 네이비 _ WOAPVM02865IAK.jpg\n"
          ]
        },
        {
          "name": "stderr",
          "output_type": "stream",
          "text": [
            "coat-train:   6%|▌         | 24/400 [01:27<23:59,  3.83s/it]"
          ]
        },
        {
          "name": "stdout",
          "output_type": "stream",
          "text": [
            "\"is checkered pattern and regular length\"\n",
            "/home/sejong/Desktop/junseok/SPRC/musinsa/snap/men/coat/2024042216460200000019301.jpg /home/sejong/Desktop/junseok/SPRC/musinsa/goods/men/coat/오버사이즈 발마칸 맥시 코트 [HERRINGBONE].jpg\n"
          ]
        },
        {
          "name": "stderr",
          "output_type": "stream",
          "text": [
            "coat-train:   6%|▋         | 25/400 [01:31<24:58,  4.00s/it]"
          ]
        },
        {
          "name": "stdout",
          "output_type": "stream",
          "text": [
            "\"is gray, long length, and oversized fit\"\n",
            "/home/sejong/Desktop/junseok/SPRC/musinsa/snap/men/coat/2022021710515800000040657.jpg /home/sejong/Desktop/junseok/SPRC/musinsa/goods/men/coat/울 발마칸 롱 코트 - 머스타드.jpg\n"
          ]
        },
        {
          "name": "stderr",
          "output_type": "stream",
          "text": [
            "coat-train:   6%|▋         | 26/400 [01:35<23:26,  3.76s/it]"
          ]
        },
        {
          "name": "stdout",
          "output_type": "stream",
          "text": [
            "\"is regular length and oversized fit\"\n",
            "/home/sejong/Desktop/junseok/SPRC/musinsa/snap/men/coat/8470d716ea4540bca1c867a564271534.jpg /home/sejong/Desktop/junseok/SPRC/musinsa/goods/men/coat/[무료반품][최대 1.2만원 할인] Melton Wool Single Breasted Coat - 8 Color.jpg\n"
          ]
        },
        {
          "name": "stderr",
          "output_type": "stream",
          "text": [
            "coat-train:   7%|▋         | 27/400 [01:38<23:08,  3.72s/it]"
          ]
        },
        {
          "name": "stdout",
          "output_type": "stream",
          "text": [
            "\"is gray and regular length\"\n",
            "/home/sejong/Desktop/junseok/SPRC/musinsa/snap/men/coat/d5cc1edecaa9405ca48e9e1072412f68.jpg /home/sejong/Desktop/junseok/SPRC/musinsa/goods/men/coat/버진 울 싱글 체스터 코트 50485199_001.jpg\n"
          ]
        },
        {
          "name": "stderr",
          "output_type": "stream",
          "text": [
            "coat-train:   7%|▋         | 28/400 [01:42<22:09,  3.57s/it]"
          ]
        },
        {
          "name": "stdout",
          "output_type": "stream",
          "text": [
            "\"is black and long length\"\n",
            "/home/sejong/Desktop/junseok/SPRC/musinsa/snap/men/coat/2023022116142700000007784.jpg /home/sejong/Desktop/junseok/SPRC/musinsa/goods/men/coat/해링본 하프 코트 (헤링본).jpg\n"
          ]
        },
        {
          "name": "stderr",
          "output_type": "stream",
          "text": [
            "coat-train:   7%|▋         | 29/400 [01:46<24:01,  3.88s/it]"
          ]
        },
        {
          "name": "stdout",
          "output_type": "stream",
          "text": [
            "\"has a herringbone pattern, is gray, and is regular length\"\n",
            "/home/sejong/Desktop/junseok/SPRC/musinsa/snap/men/coat/27c1ad3f0d6f4402bdafd1d5353bcae2.jpg /home/sejong/Desktop/junseok/SPRC/musinsa/goods/men/coat/HANDMADE SOUTIEN COAT (SAND KHAKI).jpg\n"
          ]
        },
        {
          "name": "stderr",
          "output_type": "stream",
          "text": [
            "coat-train:   8%|▊         | 30/400 [01:52<26:58,  4.37s/it]"
          ]
        },
        {
          "name": "stdout",
          "output_type": "stream",
          "text": [
            "\"is regular length and oversized fit\"\n",
            "/home/sejong/Desktop/junseok/SPRC/musinsa/snap/men/coat/2024070811250200000072125.jpg /home/sejong/Desktop/junseok/SPRC/musinsa/goods/men/coat/남성 발마칸 롱코트_ZD4CT010_CAM.jpg\n"
          ]
        },
        {
          "name": "stderr",
          "output_type": "stream",
          "text": [
            "coat-train:   8%|▊         | 31/400 [01:55<25:09,  4.09s/it]"
          ]
        },
        {
          "name": "stdout",
          "output_type": "stream",
          "text": [
            "\"is brown, regular length, and regular fit\"\n",
            "/home/sejong/Desktop/junseok/SPRC/musinsa/snap/men/coat/694ff9aa37194e5abc394d811d13ebf2.jpg /home/sejong/Desktop/junseok/SPRC/musinsa/goods/men/coat/CAMEL BLANKET OVER COAT.jpg\n"
          ]
        },
        {
          "name": "stderr",
          "output_type": "stream",
          "text": [
            "coat-train:   8%|▊         | 32/400 [01:59<24:09,  3.94s/it]"
          ]
        },
        {
          "name": "stdout",
          "output_type": "stream",
          "text": [
            "\"is no requirements, is brown, and is regular length\"\n",
            "/home/sejong/Desktop/junseok/SPRC/musinsa/snap/men/coat/ff9c1ae49d114ff7b997c99dba790cf6.jpg /home/sejong/Desktop/junseok/SPRC/musinsa/goods/men/coat/[MEN] 핸드메이드 캐시미어 발마칸코트_네이비 9154411911.jpg\n"
          ]
        },
        {
          "name": "stderr",
          "output_type": "stream",
          "text": [
            "coat-train:   8%|▊         | 33/400 [02:02<22:44,  3.72s/it]"
          ]
        },
        {
          "name": "stdout",
          "output_type": "stream",
          "text": [
            "\"is plain, is navy, and is regular length\"\n",
            "/home/sejong/Desktop/junseok/SPRC/musinsa/snap/men/coat/2024022113052900000049504.jpg /home/sejong/Desktop/junseok/SPRC/musinsa/goods/men/coat/울 발마칸 롱 코트 - 머스타드.jpg\n"
          ]
        },
        {
          "name": "stderr",
          "output_type": "stream",
          "text": [
            "coat-train:   8%|▊         | 34/400 [02:05<21:55,  3.59s/it]"
          ]
        },
        {
          "name": "stdout",
          "output_type": "stream",
          "text": [
            "\"is regular length and oversized fit\"\n",
            "/home/sejong/Desktop/junseok/SPRC/musinsa/snap/men/coat/78dbd7a26b284751bd887222d5b005f4.jpg /home/sejong/Desktop/junseok/SPRC/musinsa/goods/men/coat/Mac Coat - Navy.jpg\n"
          ]
        },
        {
          "name": "stderr",
          "output_type": "stream",
          "text": [
            "coat-train:   9%|▉         | 35/400 [02:09<21:35,  3.55s/it]"
          ]
        },
        {
          "name": "stdout",
          "output_type": "stream",
          "text": [
            "\"is plain, is navy, and is long length\"\n",
            "/home/sejong/Desktop/junseok/SPRC/musinsa/snap/men/coat/61f0ac1377f74299a0a21d713dc5ac17.jpg /home/sejong/Desktop/junseok/SPRC/musinsa/goods/men/coat/F.Z BALMACAAN COAT-KHAKI.jpg\n"
          ]
        },
        {
          "name": "stderr",
          "output_type": "stream",
          "text": [
            "coat-train:   9%|▉         | 36/400 [02:12<21:31,  3.55s/it]"
          ]
        },
        {
          "name": "stdout",
          "output_type": "stream",
          "text": [
            "\"is no requirements, is gray, and is long length\"\n",
            "/home/sejong/Desktop/junseok/SPRC/musinsa/snap/men/coat/2022021814061400000016850.jpg /home/sejong/Desktop/junseok/SPRC/musinsa/goods/men/coat/Japanese mohair fabric oversized coat_Black.jpg\n"
          ]
        },
        {
          "name": "stderr",
          "output_type": "stream",
          "text": [
            "coat-train:   9%|▉         | 37/400 [02:16<22:07,  3.66s/it]"
          ]
        },
        {
          "name": "stdout",
          "output_type": "stream",
          "text": [
            "\"is black and long length\"\n",
            "/home/sejong/Desktop/junseok/SPRC/musinsa/snap/men/coat/2023022116142700000007784.jpg /home/sejong/Desktop/junseok/SPRC/musinsa/goods/men/coat/남성 발마칸 숏코트_ZD4CT020_LBE.jpg\n"
          ]
        },
        {
          "name": "stderr",
          "output_type": "stream",
          "text": [
            "coat-train:  10%|▉         | 38/400 [02:20<21:49,  3.62s/it]"
          ]
        },
        {
          "name": "stdout",
          "output_type": "stream",
          "text": [
            "\"has a checkered pattern, is gray, and is regular length\"\n",
            "/home/sejong/Desktop/junseok/SPRC/musinsa/snap/men/coat/b4120b2afa9c4f3ea2299fa2ea72b5cd.jpg /home/sejong/Desktop/junseok/SPRC/musinsa/goods/men/coat/대디 숄더 싱글 코트 블랙.jpg\n"
          ]
        },
        {
          "name": "stderr",
          "output_type": "stream",
          "text": [
            "coat-train:  10%|▉         | 39/400 [02:23<20:34,  3.42s/it]"
          ]
        },
        {
          "name": "stdout",
          "output_type": "stream",
          "text": [
            "\"is black and oversized fit\"\n",
            "/home/sejong/Desktop/junseok/SPRC/musinsa/snap/men/coat/43c5dc3485e24c8f8202ea4467f04ac4.jpg /home/sejong/Desktop/junseok/SPRC/musinsa/goods/men/coat/스탠다드 발마칸 울 코트_카키 베이지.jpg\n"
          ]
        },
        {
          "name": "stderr",
          "output_type": "stream",
          "text": [
            "coat-train:  10%|█         | 40/400 [02:26<19:41,  3.28s/it]"
          ]
        },
        {
          "name": "stdout",
          "output_type": "stream",
          "text": [
            "\"is regular length and oversized fit\"\n",
            "/home/sejong/Desktop/junseok/SPRC/musinsa/snap/men/coat/2022021612224600000029683.jpg /home/sejong/Desktop/junseok/SPRC/musinsa/goods/men/coat/WYATT CHECK BALMACAAN COAT BROWN.jpg\n"
          ]
        },
        {
          "name": "stderr",
          "output_type": "stream",
          "text": [
            "coat-train:  10%|█         | 41/400 [02:29<19:39,  3.28s/it]"
          ]
        },
        {
          "name": "stdout",
          "output_type": "stream",
          "text": [
            "\"is checkered pattern and long length\"\n",
            "/home/sejong/Desktop/junseok/SPRC/musinsa/snap/men/coat/78482534df3e43e9820ff4c76c936e0e.jpg /home/sejong/Desktop/junseok/SPRC/musinsa/goods/men/coat/데일리 발마칸 코트 [네이비].jpg\n"
          ]
        },
        {
          "name": "stderr",
          "output_type": "stream",
          "text": [
            "coat-train:  10%|█         | 42/400 [02:32<20:16,  3.40s/it]"
          ]
        },
        {
          "name": "stdout",
          "output_type": "stream",
          "text": [
            "\"is black and regular length\"\n",
            "/home/sejong/Desktop/junseok/SPRC/musinsa/snap/men/coat/75a9f9aa18164320b4a26d69b00fa657.jpg /home/sejong/Desktop/junseok/SPRC/musinsa/goods/men/coat/울 싱글 코트 릴렉스드 실루엣.jpg\n"
          ]
        },
        {
          "name": "stderr",
          "output_type": "stream",
          "text": [
            "coat-train:  11%|█         | 43/400 [02:36<20:56,  3.52s/it]"
          ]
        },
        {
          "name": "stdout",
          "output_type": "stream",
          "text": [
            "\"is black and oversized fit\"\n",
            "/home/sejong/Desktop/junseok/SPRC/musinsa/snap/men/coat/10eebeaa1b084ae38d12cc80fd61d54f.jpg /home/sejong/Desktop/junseok/SPRC/musinsa/goods/men/coat/MAXI COAT - Black.jpg\n"
          ]
        },
        {
          "name": "stderr",
          "output_type": "stream",
          "text": [
            "coat-train:  11%|█         | 44/400 [02:40<20:45,  3.50s/it]"
          ]
        },
        {
          "name": "stdout",
          "output_type": "stream",
          "text": [
            "\"is black and long length\"\n",
            "/home/sejong/Desktop/junseok/SPRC/musinsa/snap/men/coat/2024042216460200000019301.jpg /home/sejong/Desktop/junseok/SPRC/musinsa/goods/men/coat/Archive Wool Coat 그레이.jpg\n"
          ]
        },
        {
          "name": "stderr",
          "output_type": "stream",
          "text": [
            "coat-train:  11%|█▏        | 45/400 [02:44<21:52,  3.70s/it]"
          ]
        },
        {
          "name": "stdout",
          "output_type": "stream",
          "text": [
            "\"is gray and oversized fit\"\n",
            "/home/sejong/Desktop/junseok/SPRC/musinsa/snap/men/coat/2020021810191800000013655.jpg /home/sejong/Desktop/junseok/SPRC/musinsa/goods/men/coat/싱글 브레스티드 버진 울 코트 - 아쿠아 마린 _ HCO307WV0016468.jpg\n"
          ]
        },
        {
          "name": "stderr",
          "output_type": "stream",
          "text": [
            "coat-train:  12%|█▏        | 46/400 [02:47<20:35,  3.49s/it]"
          ]
        },
        {
          "name": "stdout",
          "output_type": "stream",
          "text": [
            "\"has a solid color and is long length\"\n",
            "/home/sejong/Desktop/junseok/SPRC/musinsa/snap/men/coat/2022020311475600000051187.jpg /home/sejong/Desktop/junseok/SPRC/musinsa/goods/men/coat/[호이테]알파카발마칸오버핏롱코트 MYCA7171.jpg\n"
          ]
        },
        {
          "name": "stderr",
          "output_type": "stream",
          "text": [
            "coat-train:  12%|█▏        | 47/400 [02:51<21:27,  3.65s/it]"
          ]
        },
        {
          "name": "stdout",
          "output_type": "stream",
          "text": [
            "\"is regular length and oversized fit\"\n",
            "/home/sejong/Desktop/junseok/SPRC/musinsa/snap/men/coat/2024021410400700000028656.jpg /home/sejong/Desktop/junseok/SPRC/musinsa/goods/men/coat/[드로우핏X노이어] 핸드메이드 캐시미어 싱글 코트.jpg\n"
          ]
        },
        {
          "name": "stderr",
          "output_type": "stream",
          "text": [
            "coat-train:  12%|█▏        | 48/400 [02:54<19:58,  3.40s/it]"
          ]
        },
        {
          "name": "stdout",
          "output_type": "stream",
          "text": [
            "\"is black and long length\"\n",
            "/home/sejong/Desktop/junseok/SPRC/musinsa/snap/men/coat/2024043019132100000051696.jpg /home/sejong/Desktop/junseok/SPRC/musinsa/goods/men/coat/AECA ZIBELINE BALMACAAN COAT-BLACK.jpg\n"
          ]
        },
        {
          "name": "stderr",
          "output_type": "stream",
          "text": [
            "coat-train:  12%|█▏        | 49/400 [02:56<18:32,  3.17s/it]"
          ]
        },
        {
          "name": "stdout",
          "output_type": "stream",
          "text": [
            "\"is black and long length\"\n",
            "/home/sejong/Desktop/junseok/SPRC/musinsa/snap/men/coat/fa9c45393e4248b898f96b1ac1833f1d.jpg /home/sejong/Desktop/junseok/SPRC/musinsa/goods/men/coat/타임리스 발마칸 코트 브라운 ZG6CT614BR.jpg\n"
          ]
        },
        {
          "name": "stderr",
          "output_type": "stream",
          "text": [
            "coat-train:  12%|█▎        | 50/400 [03:00<19:33,  3.35s/it]"
          ]
        },
        {
          "name": "stdout",
          "output_type": "stream",
          "text": [
            "\"is plain, is brown, and is long length\"\n",
            "/home/sejong/Desktop/junseok/SPRC/musinsa/snap/men/coat/f2c9254ca6ff45a1a3d64ae99ebd1aaf.jpg /home/sejong/Desktop/junseok/SPRC/musinsa/goods/men/coat/[SMART]울혼방핸드메이드코트 - 2color MWCA7105.jpg\n"
          ]
        },
        {
          "name": "stderr",
          "output_type": "stream",
          "text": [
            "coat-train:  13%|█▎        | 51/400 [03:04<19:34,  3.37s/it]"
          ]
        },
        {
          "name": "stdout",
          "output_type": "stream",
          "text": [
            "\"is long length\"\n",
            "/home/sejong/Desktop/junseok/SPRC/musinsa/snap/men/coat/b1677b6691b340778dfd7fe98e397efd.jpg /home/sejong/Desktop/junseok/SPRC/musinsa/goods/men/coat/[SMART]울혼방핸드메이드코트 - 2color MWCA7105.jpg\n"
          ]
        },
        {
          "name": "stderr",
          "output_type": "stream",
          "text": [
            "coat-train:  13%|█▎        | 52/400 [03:09<23:20,  4.03s/it]"
          ]
        },
        {
          "name": "stdout",
          "output_type": "stream",
          "text": [
            "\"is plain, is beige, and is long length\"\n",
            "/home/sejong/Desktop/junseok/SPRC/musinsa/snap/men/coat/2024032617262900000045501.jpg /home/sejong/Desktop/junseok/SPRC/musinsa/goods/men/coat/캐시미어 블렌드 하이넥 코트 3color.jpg\n"
          ]
        },
        {
          "name": "stderr",
          "output_type": "stream",
          "text": [
            "coat-train:  13%|█▎        | 53/400 [03:12<21:21,  3.69s/it]"
          ]
        },
        {
          "name": "stdout",
          "output_type": "stream",
          "text": [
            "\"is black and regular length\"\n",
            "/home/sejong/Desktop/junseok/SPRC/musinsa/snap/men/coat/4144f9d8a7ee411abcddb90b1ff78efb.jpg /home/sejong/Desktop/junseok/SPRC/musinsa/goods/men/coat/셔틀랜드 울 오버사이즈 발마칸 코트 [그레이].jpg\n"
          ]
        },
        {
          "name": "stderr",
          "output_type": "stream",
          "text": [
            "coat-train:  14%|█▎        | 54/400 [03:16<21:04,  3.65s/it]"
          ]
        },
        {
          "name": "stdout",
          "output_type": "stream",
          "text": [
            "\"is gray and long length\"\n",
            "/home/sejong/Desktop/junseok/SPRC/musinsa/snap/men/coat/2020021810191800000013655.jpg /home/sejong/Desktop/junseok/SPRC/musinsa/goods/men/coat/[프리미엄] 캐시미어 20 오버사이즈 싱글 코트 [차콜 그레이].jpg\n"
          ]
        },
        {
          "name": "stderr",
          "output_type": "stream",
          "text": [
            "coat-train:  14%|█▍        | 55/400 [03:19<20:43,  3.60s/it]"
          ]
        },
        {
          "name": "stdout",
          "output_type": "stream",
          "text": [
            "\"is no requirements, is black, and is long length\"\n",
            "/home/sejong/Desktop/junseok/SPRC/musinsa/snap/men/coat/2019021210462900000097889.jpg /home/sejong/Desktop/junseok/SPRC/musinsa/goods/men/coat/데일리 발마칸 코트 [블랙].jpg\n"
          ]
        },
        {
          "name": "stderr",
          "output_type": "stream",
          "text": [
            "coat-train:  14%|█▍        | 56/400 [03:22<19:58,  3.48s/it]"
          ]
        },
        {
          "name": "stdout",
          "output_type": "stream",
          "text": [
            "\"is black and regular length\"\n",
            "/home/sejong/Desktop/junseok/SPRC/musinsa/snap/men/coat/list.staff_65ceebd63cb03.jpg /home/sejong/Desktop/junseok/SPRC/musinsa/goods/men/coat/OVERSIZED CASHMERE BALMACAAN COAT MELANGE OATMEAL.jpg\n"
          ]
        },
        {
          "name": "stderr",
          "output_type": "stream",
          "text": [
            "coat-train:  14%|█▍        | 57/400 [03:25<19:18,  3.38s/it]"
          ]
        },
        {
          "name": "stdout",
          "output_type": "stream",
          "text": [
            "\"is black and regular length\"\n",
            "/home/sejong/Desktop/junseok/SPRC/musinsa/snap/men/coat/d8bd41a1c2454e2cb51169df5b58d07d.jpg /home/sejong/Desktop/junseok/SPRC/musinsa/goods/men/coat/발마칸 싱글 코트 올리브.jpg\n"
          ]
        },
        {
          "name": "stderr",
          "output_type": "stream",
          "text": [
            "coat-train:  14%|█▍        | 58/400 [03:29<19:40,  3.45s/it]"
          ]
        },
        {
          "name": "stdout",
          "output_type": "stream",
          "text": [
            "\"is oversized fit and long length\"\n",
            "/home/sejong/Desktop/junseok/SPRC/musinsa/snap/men/coat/a405d394ec6b48f995747259f5a2a795.jpg /home/sejong/Desktop/junseok/SPRC/musinsa/goods/men/coat/[YOUTH]오버핏발마칸헤링본롱코트 MXCA7151.jpg\n"
          ]
        },
        {
          "name": "stderr",
          "output_type": "stream",
          "text": [
            "coat-train:  15%|█▍        | 59/400 [03:32<19:26,  3.42s/it]"
          ]
        },
        {
          "name": "stdout",
          "output_type": "stream",
          "text": [
            "\"has a herringbone pattern, is gray, and is regular length\"\n",
            "/home/sejong/Desktop/junseok/SPRC/musinsa/snap/men/coat/2022022209322900000017081.jpg /home/sejong/Desktop/junseok/SPRC/musinsa/goods/men/coat/OVERSIZED CASHMERE BALMACAAN COAT NAVY.jpg\n"
          ]
        },
        {
          "name": "stderr",
          "output_type": "stream",
          "text": [
            "coat-train:  15%|█▌        | 60/400 [03:41<27:49,  4.91s/it]"
          ]
        },
        {
          "name": "stdout",
          "output_type": "stream",
          "text": [
            "\"is navy and long length\"\n",
            "/home/sejong/Desktop/junseok/SPRC/musinsa/snap/men/coat/2022020815550700000088484.jpg /home/sejong/Desktop/junseok/SPRC/musinsa/goods/men/coat/[프리미엄] MANTECO 헤링본 오버사이즈 발마칸 코트 [다크 그레이].jpg\n"
          ]
        },
        {
          "name": "stderr",
          "output_type": "stream",
          "text": [
            "coat-train:  15%|█▌        | 61/400 [03:44<24:34,  4.35s/it]"
          ]
        },
        {
          "name": "stdout",
          "output_type": "stream",
          "text": [
            "\"has a herringbone pattern, is gray, and is regular length\"\n",
            "/home/sejong/Desktop/junseok/SPRC/musinsa/snap/men/coat/2021030412170400000018361.jpg /home/sejong/Desktop/junseok/SPRC/musinsa/goods/men/coat/울 발마칸 후드 코트 [2color].jpg\n"
          ]
        },
        {
          "name": "stderr",
          "output_type": "stream",
          "text": [
            "coat-train:  16%|█▌        | 62/400 [03:49<25:32,  4.53s/it]"
          ]
        },
        {
          "name": "stdout",
          "output_type": "stream",
          "text": [
            "\"is no requirements, is olive green, and is long length\"\n",
            "/home/sejong/Desktop/junseok/SPRC/musinsa/snap/men/coat/2021020810471300000061882.jpg /home/sejong/Desktop/junseok/SPRC/musinsa/goods/men/coat/SOUTIEN COLLAR COAT [NAVY].jpg\n"
          ]
        },
        {
          "name": "stderr",
          "output_type": "stream",
          "text": [
            "coat-train:  16%|█▌        | 63/400 [03:52<22:43,  4.05s/it]"
          ]
        },
        {
          "name": "stdout",
          "output_type": "stream",
          "text": [
            "\"is navy and regular length\"\n",
            "/home/sejong/Desktop/junseok/SPRC/musinsa/snap/men/coat/2022021412144400000053710.jpg /home/sejong/Desktop/junseok/SPRC/musinsa/goods/men/coat/Bonheur Cotton Balmacaan Coat (Navy).jpg\n"
          ]
        },
        {
          "name": "stderr",
          "output_type": "stream",
          "text": [
            "coat-train:  16%|█▌        | 64/400 [03:55<21:35,  3.85s/it]"
          ]
        },
        {
          "name": "stdout",
          "output_type": "stream",
          "text": [
            "\"is black and regular length\"\n",
            "/home/sejong/Desktop/junseok/SPRC/musinsa/snap/men/coat/31482e01d4af4575baa9bc1a76c05e33.jpg /home/sejong/Desktop/junseok/SPRC/musinsa/goods/men/coat/웰링턴 알파카 발마칸 롱 코트 (멜란지 브라운).jpg\n"
          ]
        },
        {
          "name": "stderr",
          "output_type": "stream",
          "text": [
            "coat-train:  16%|█▋        | 65/400 [03:58<20:03,  3.59s/it]"
          ]
        },
        {
          "name": "stdout",
          "output_type": "stream",
          "text": [
            "\"is gray and long length\"\n",
            "/home/sejong/Desktop/junseok/SPRC/musinsa/snap/men/coat/list.staff_62020fb098539.jpg /home/sejong/Desktop/junseok/SPRC/musinsa/goods/men/coat/[온라인 단독]GAW21116 OVER FIT 카키그레이 반 더블 2버튼 캐시미어 혼방 오버핏 코트.jpg\n"
          ]
        },
        {
          "name": "stderr",
          "output_type": "stream",
          "text": [
            "coat-train:  16%|█▋        | 66/400 [04:03<22:33,  4.05s/it]"
          ]
        },
        {
          "name": "stdout",
          "output_type": "stream",
          "text": [
            "\"is gray and long length\"\n",
            "/home/sejong/Desktop/junseok/SPRC/musinsa/snap/men/coat/af721785d3ca438bbbf6e7559bc802c8.jpg /home/sejong/Desktop/junseok/SPRC/musinsa/goods/men/coat/블랙 오버핏 싱글 브레스티드 코트 (TNCO3F102BK).jpg\n"
          ]
        },
        {
          "name": "stderr",
          "output_type": "stream",
          "text": [
            "coat-train:  17%|█▋        | 67/400 [04:06<19:50,  3.58s/it]"
          ]
        },
        {
          "name": "stdout",
          "output_type": "stream",
          "text": [
            "\"is black and regular length\"\n",
            "/home/sejong/Desktop/junseok/SPRC/musinsa/snap/men/coat/e5f4e5d3b36041eea63fa89af116f721.jpg /home/sejong/Desktop/junseok/SPRC/musinsa/goods/men/coat/807 캐시미어 블랜드 코트 블루.jpg\n"
          ]
        },
        {
          "name": "stderr",
          "output_type": "stream",
          "text": [
            "coat-train:  17%|█▋        | 68/400 [04:16<30:38,  5.54s/it]"
          ]
        },
        {
          "name": "stdout",
          "output_type": "stream",
          "text": [
            "\"is gray and regular length\"\n",
            "/home/sejong/Desktop/junseok/SPRC/musinsa/snap/men/coat/2020021810191800000013655.jpg /home/sejong/Desktop/junseok/SPRC/musinsa/goods/men/coat/울혼방 오버핏 체스터 코트 블루 RKLPBH62A.jpg\n"
          ]
        },
        {
          "name": "stderr",
          "output_type": "stream",
          "text": [
            "coat-train:  17%|█▋        | 69/400 [04:19<25:55,  4.70s/it]"
          ]
        },
        {
          "name": "stdout",
          "output_type": "stream",
          "text": [
            "\"is plain, is navy, and is regular length\"\n",
            "/home/sejong/Desktop/junseok/SPRC/musinsa/snap/men/coat/e57c264a0151489cb557da8f0273929f.jpg /home/sejong/Desktop/junseok/SPRC/musinsa/goods/men/coat/체크 패딩 맥코트 _ ZSB13CT002.jpg\n"
          ]
        },
        {
          "name": "stderr",
          "output_type": "stream",
          "text": [
            "coat-train:  18%|█▊        | 70/400 [04:23<24:43,  4.50s/it]"
          ]
        },
        {
          "name": "stdout",
          "output_type": "stream",
          "text": [
            "\"has a checkered pattern and is regular length\"\n",
            "/home/sejong/Desktop/junseok/SPRC/musinsa/snap/men/coat/2023021515300400000071452.jpg /home/sejong/Desktop/junseok/SPRC/musinsa/goods/men/coat/프리미엄 핸드메이드 발마칸 울코트_디네이비.jpg\n"
          ]
        },
        {
          "name": "stderr",
          "output_type": "stream",
          "text": [
            "coat-train:  18%|█▊        | 71/400 [04:29<28:34,  5.21s/it]"
          ]
        },
        {
          "name": "stdout",
          "output_type": "stream",
          "text": [
            "\"is black and oversized fit\"\n",
            "/home/sejong/Desktop/junseok/SPRC/musinsa/snap/men/coat/bc23ff58270e4703a2c988168b8dae49.jpg /home/sejong/Desktop/junseok/SPRC/musinsa/goods/men/coat/GAW21108 베이지 히든 2버튼 캐시미어 혼방 체스터코트.jpg\n"
          ]
        },
        {
          "name": "stderr",
          "output_type": "stream",
          "text": [
            "coat-train:  18%|█▊        | 72/400 [04:33<25:06,  4.59s/it]"
          ]
        },
        {
          "name": "stdout",
          "output_type": "stream",
          "text": [
            "\"is plain, is brown, and is long length\"\n",
            "/home/sejong/Desktop/junseok/SPRC/musinsa/snap/men/coat/8efb4b647a76418d9928777deda9543a.jpg /home/sejong/Desktop/junseok/SPRC/musinsa/goods/men/coat/wool balmacaan coat CWCAW23602BEX.jpg\n"
          ]
        },
        {
          "name": "stderr",
          "output_type": "stream",
          "text": [
            "coat-train:  18%|█▊        | 73/400 [04:38<25:41,  4.72s/it]"
          ]
        },
        {
          "name": "stdout",
          "output_type": "stream",
          "text": [
            "\"is regular length and regular fit\"\n",
            "/home/sejong/Desktop/junseok/SPRC/musinsa/snap/men/coat/2024042216460200000019301.jpg /home/sejong/Desktop/junseok/SPRC/musinsa/goods/men/coat/울캐시 베이직 누빔안감 체스터코트 네이비 RMDMBH60A.jpg\n"
          ]
        },
        {
          "name": "stderr",
          "output_type": "stream",
          "text": [
            "coat-train:  18%|█▊        | 74/400 [04:40<22:39,  4.17s/it]"
          ]
        },
        {
          "name": "stdout",
          "output_type": "stream",
          "text": [
            "\"is plain, is black, and is regular length\"\n",
            "/home/sejong/Desktop/junseok/SPRC/musinsa/snap/men/coat/c09f90707f034fa789d58b958f3334f4.jpg /home/sejong/Desktop/junseok/SPRC/musinsa/goods/men/coat/[캐시미어 블렌드] 오버핏 발마칸 코트 다크브라운 IECO4F003W3.jpg\n"
          ]
        },
        {
          "name": "stderr",
          "output_type": "stream",
          "text": [
            "coat-train:  19%|█▉        | 75/400 [04:43<20:01,  3.70s/it]"
          ]
        },
        {
          "name": "stdout",
          "output_type": "stream",
          "text": [
            "\"is oversized fit and is dark green\"\n",
            "/home/sejong/Desktop/junseok/SPRC/musinsa/snap/men/coat/9c88defa61a5436c9637d1dad69a54c8.jpg /home/sejong/Desktop/junseok/SPRC/musinsa/goods/men/coat/FALLING SLOWLY COAT - BLACK.jpg\n"
          ]
        },
        {
          "name": "stderr",
          "output_type": "stream",
          "text": [
            "coat-train:  19%|█▉        | 76/400 [04:47<21:05,  3.91s/it]"
          ]
        },
        {
          "name": "stdout",
          "output_type": "stream",
          "text": [
            "\"is black, long length, and regular fit\"\n",
            "/home/sejong/Desktop/junseok/SPRC/musinsa/snap/men/coat/58f5e9bd400d4ed1bebcfe58e04a7a33.jpg /home/sejong/Desktop/junseok/SPRC/musinsa/goods/men/coat/울 블렌드 발마칸 코트 그레이.jpg\n"
          ]
        },
        {
          "name": "stderr",
          "output_type": "stream",
          "text": [
            "coat-train:  19%|█▉        | 77/400 [04:50<19:31,  3.63s/it]"
          ]
        },
        {
          "name": "stdout",
          "output_type": "stream",
          "text": [
            "\"is gray and regular length\"\n",
            "/home/sejong/Desktop/junseok/SPRC/musinsa/snap/men/coat/0002cd29ccfa46b29fce8d9b1c0fab29.jpg /home/sejong/Desktop/junseok/SPRC/musinsa/goods/men/coat/패디드 나일론 맥시 코트 [BLACK].jpg\n"
          ]
        },
        {
          "name": "stderr",
          "output_type": "stream",
          "text": [
            "coat-train:  20%|█▉        | 78/400 [04:54<19:03,  3.55s/it]"
          ]
        },
        {
          "name": "stdout",
          "output_type": "stream",
          "text": [
            "\"is black and long length\"\n",
            "/home/sejong/Desktop/junseok/SPRC/musinsa/snap/men/coat/b0492ccc4d324ba6aa2b45b1899fb9ce.jpg /home/sejong/Desktop/junseok/SPRC/musinsa/goods/men/coat/GAW21128 OVER FIT.jpg\n"
          ]
        },
        {
          "name": "stderr",
          "output_type": "stream",
          "text": [
            "coat-train:  20%|█▉        | 79/400 [04:57<18:49,  3.52s/it]"
          ]
        },
        {
          "name": "stdout",
          "output_type": "stream",
          "text": [
            "\"is black and long length\"\n",
            "/home/sejong/Desktop/junseok/SPRC/musinsa/snap/men/coat/2022021511075400000024968.jpg /home/sejong/Desktop/junseok/SPRC/musinsa/goods/men/coat/스탠다드 발마칸 울 코트_카키 베이지.jpg\n"
          ]
        },
        {
          "name": "stderr",
          "output_type": "stream",
          "text": [
            "coat-train:  20%|██        | 80/400 [05:01<18:32,  3.48s/it]"
          ]
        },
        {
          "name": "stdout",
          "output_type": "stream",
          "text": [
            "\"is long length\"\n",
            "/home/sejong/Desktop/junseok/SPRC/musinsa/snap/men/coat/99a7d756ecfd411298200624489cb73b.jpg /home/sejong/Desktop/junseok/SPRC/musinsa/goods/men/coat/두굿_캐시미어싱글코트 - 3color MXCA7101.jpg\n"
          ]
        },
        {
          "name": "stderr",
          "output_type": "stream",
          "text": [
            "coat-train:  20%|██        | 81/400 [05:04<18:50,  3.54s/it]"
          ]
        },
        {
          "name": "stdout",
          "output_type": "stream",
          "text": [
            "\"is gray and regular length\"\n",
            "/home/sejong/Desktop/junseok/SPRC/musinsa/snap/men/coat/2022021612224600000029683.jpg /home/sejong/Desktop/junseok/SPRC/musinsa/goods/men/coat/포켓 포인트 발마칸 울 숏코트 (블랙).jpg\n"
          ]
        },
        {
          "name": "stderr",
          "output_type": "stream",
          "text": [
            "coat-train:  20%|██        | 82/400 [05:08<18:26,  3.48s/it]"
          ]
        },
        {
          "name": "stdout",
          "output_type": "stream",
          "text": [
            "\"is black and oversized fit\"\n",
            "/home/sejong/Desktop/junseok/SPRC/musinsa/snap/men/coat/42e94e909d204b86b72e9fc43b306f4a.jpg /home/sejong/Desktop/junseok/SPRC/musinsa/goods/men/coat/울 퓨어 미니멀 발마칸 코트_ DARK KHAKI.jpg\n"
          ]
        },
        {
          "name": "stderr",
          "output_type": "stream",
          "text": [
            "coat-train:  21%|██        | 83/400 [05:11<17:44,  3.36s/it]"
          ]
        },
        {
          "name": "stdout",
          "output_type": "stream",
          "text": [
            "\"is plain, is black, and is long length\"\n",
            "/home/sejong/Desktop/junseok/SPRC/musinsa/snap/men/coat/2022021011183200000052212.jpg /home/sejong/Desktop/junseok/SPRC/musinsa/goods/men/coat/캐시미어 블렌드 오버사이즈 싱글 코트 [미디엄 그레이].jpg\n"
          ]
        },
        {
          "name": "stderr",
          "output_type": "stream",
          "text": [
            "coat-train:  21%|██        | 84/400 [05:14<17:16,  3.28s/it]"
          ]
        },
        {
          "name": "stdout",
          "output_type": "stream",
          "text": [
            "\"is gray and regular length\"\n",
            "/home/sejong/Desktop/junseok/SPRC/musinsa/snap/men/coat/8ceb790573fc49319c3e6fd2bb714612.jpg /home/sejong/Desktop/junseok/SPRC/musinsa/goods/men/coat/프리미어 퓨어 울 발마칸 코트 [MELANGE TAUPE].jpg\n"
          ]
        },
        {
          "name": "stderr",
          "output_type": "stream",
          "text": [
            "coat-train:  21%|██▏       | 85/400 [05:17<17:10,  3.27s/it]"
          ]
        },
        {
          "name": "stdout",
          "output_type": "stream",
          "text": [
            "\"is gray and long length\"\n",
            "/home/sejong/Desktop/junseok/SPRC/musinsa/snap/men/coat/2022021711004300000048128.jpg /home/sejong/Desktop/junseok/SPRC/musinsa/goods/men/coat/FELT POCKET BALMACAAN COAT BROWN.jpg\n"
          ]
        },
        {
          "name": "stderr",
          "output_type": "stream",
          "text": [
            "coat-train:  22%|██▏       | 86/400 [05:22<19:25,  3.71s/it]"
          ]
        },
        {
          "name": "stdout",
          "output_type": "stream",
          "text": [
            "\"has a herringbone pattern, is brown, and is oversized fit\"\n",
            "/home/sejong/Desktop/junseok/SPRC/musinsa/snap/men/coat/list.staff_62674c59e9782.jpg /home/sejong/Desktop/junseok/SPRC/musinsa/goods/men/coat/울 블렌드 오버사이즈 머프 발마칸 코트 [미디엄 그레이].jpg\n"
          ]
        },
        {
          "name": "stderr",
          "output_type": "stream",
          "text": [
            "coat-train:  22%|██▏       | 87/400 [05:25<19:17,  3.70s/it]"
          ]
        },
        {
          "name": "stdout",
          "output_type": "stream",
          "text": [
            "\"is gray and long length\"\n",
            "/home/sejong/Desktop/junseok/SPRC/musinsa/snap/men/coat/807818f6451f485aab3ee3ee83a733ed.jpg /home/sejong/Desktop/junseok/SPRC/musinsa/goods/men/coat/웰링턴 알파카 발마칸 롱 코트 (블랙).jpg\n"
          ]
        },
        {
          "name": "stderr",
          "output_type": "stream",
          "text": [
            "coat-train:  22%|██▏       | 88/400 [05:29<18:40,  3.59s/it]"
          ]
        },
        {
          "name": "stdout",
          "output_type": "stream",
          "text": [
            "\"is black and regular length\"\n",
            "/home/sejong/Desktop/junseok/SPRC/musinsa/snap/men/coat/8493160ab7ba45c998e1a0955a13e789.jpg /home/sejong/Desktop/junseok/SPRC/musinsa/goods/men/coat/FALLING SLOWLY COAT - BLACK.jpg\n"
          ]
        },
        {
          "name": "stderr",
          "output_type": "stream",
          "text": [
            "coat-train:  22%|██▏       | 89/400 [05:34<20:49,  4.02s/it]"
          ]
        },
        {
          "name": "stdout",
          "output_type": "stream",
          "text": [
            "\"is black and regular length\"\n",
            "/home/sejong/Desktop/junseok/SPRC/musinsa/snap/men/coat/d132899ae9474c829a791c97dde2f30b.jpg /home/sejong/Desktop/junseok/SPRC/musinsa/goods/men/coat/125CM 슈퍼 롱 유니섹스 발마칸 코트 다크베이지.jpg\n"
          ]
        },
        {
          "name": "stderr",
          "output_type": "stream",
          "text": [
            "coat-train:  22%|██▎       | 90/400 [05:38<20:24,  3.95s/it]"
          ]
        },
        {
          "name": "stdout",
          "output_type": "stream",
          "text": [
            "\"is no requirements, is gray, and is long length\"\n",
            "/home/sejong/Desktop/junseok/SPRC/musinsa/snap/men/coat/bb9dc2cd6cf0484ca76bae49281cbcc1.jpg /home/sejong/Desktop/junseok/SPRC/musinsa/goods/men/coat/Angora Blend Herringbone Balmacaan Short Coat_Grey.jpg\n"
          ]
        },
        {
          "name": "stderr",
          "output_type": "stream",
          "text": [
            "coat-train:  23%|██▎       | 91/400 [05:41<20:03,  3.90s/it]"
          ]
        },
        {
          "name": "stdout",
          "output_type": "stream",
          "text": [
            "\"has a herringbone pattern, is gray, and is oversized fit\"\n",
            "/home/sejong/Desktop/junseok/SPRC/musinsa/snap/men/coat/2022022315034300000081109.jpg /home/sejong/Desktop/junseok/SPRC/musinsa/goods/men/coat/오버사이즈 맥시 울 싱글 코트 다크네이비.jpg\n"
          ]
        },
        {
          "name": "stderr",
          "output_type": "stream",
          "text": [
            "coat-train:  23%|██▎       | 92/400 [05:45<19:39,  3.83s/it]"
          ]
        },
        {
          "name": "stdout",
          "output_type": "stream",
          "text": [
            "\"is navy and long length\"\n",
            "/home/sejong/Desktop/junseok/SPRC/musinsa/snap/men/coat/0641751a8b0d44ffb8acfaa01d567125.jpg /home/sejong/Desktop/junseok/SPRC/musinsa/goods/men/coat/핸드메이드 하프 발마칸 코트 브라운 (BASIC).jpg\n"
          ]
        },
        {
          "name": "stderr",
          "output_type": "stream",
          "text": [
            "coat-train:  23%|██▎       | 93/400 [05:48<18:31,  3.62s/it]"
          ]
        },
        {
          "name": "stdout",
          "output_type": "stream",
          "text": [
            "\"is brown and regular fit\"\n",
            "/home/sejong/Desktop/junseok/SPRC/musinsa/snap/men/coat/132b1d8a34b946fca335dfaf2bf05c3c.jpg /home/sejong/Desktop/junseok/SPRC/musinsa/goods/men/coat/남성 발마칸 숏코트_ZD4CT020_LBE.jpg\n"
          ]
        },
        {
          "name": "stderr",
          "output_type": "stream",
          "text": [
            "coat-train:  24%|██▎       | 94/400 [05:52<19:06,  3.75s/it]"
          ]
        },
        {
          "name": "stdout",
          "output_type": "stream",
          "text": [
            "\"is gray and regular length\"\n",
            "/home/sejong/Desktop/junseok/SPRC/musinsa/snap/men/coat/132b1d8a34b946fca335dfaf2bf05c3c.jpg /home/sejong/Desktop/junseok/SPRC/musinsa/goods/men/coat/헤어리 알파카 블렌드 오버사이즈 발마칸 코트 [그레이].jpg\n"
          ]
        },
        {
          "name": "stderr",
          "output_type": "stream",
          "text": [
            "coat-train:  24%|██▍       | 95/400 [05:57<20:08,  3.96s/it]"
          ]
        },
        {
          "name": "stdout",
          "output_type": "stream",
          "text": [
            "\"is gray and regular length\"\n",
            "/home/sejong/Desktop/junseok/SPRC/musinsa/snap/men/coat/list.staff_63e0a3607685f.jpg /home/sejong/Desktop/junseok/SPRC/musinsa/goods/men/coat/개버딘 맥 코트 베이지.jpg\n"
          ]
        },
        {
          "name": "stderr",
          "output_type": "stream",
          "text": [
            "coat-train:  24%|██▍       | 96/400 [06:01<19:59,  3.95s/it]"
          ]
        },
        {
          "name": "stdout",
          "output_type": "stream",
          "text": [
            "\"is regular length and oversized fit\"\n",
            "/home/sejong/Desktop/junseok/SPRC/musinsa/snap/men/coat/2022021114150300000073524.jpg /home/sejong/Desktop/junseok/SPRC/musinsa/goods/men/coat/[호이테]알파카발마칸오버핏롱코트 MYCA7171.jpg\n"
          ]
        },
        {
          "name": "stderr",
          "output_type": "stream",
          "text": [
            "coat-train:  24%|██▍       | 97/400 [06:04<19:09,  3.79s/it]"
          ]
        },
        {
          "name": "stdout",
          "output_type": "stream",
          "text": [
            "\"is olive green and long length\"\n",
            "/home/sejong/Desktop/junseok/SPRC/musinsa/snap/men/coat/c09f90707f034fa789d58b958f3334f4.jpg /home/sejong/Desktop/junseok/SPRC/musinsa/goods/men/coat/CB 오버핏 싱글 롱 코트  (블랙).jpg\n"
          ]
        },
        {
          "name": "stderr",
          "output_type": "stream",
          "text": [
            "coat-train:  24%|██▍       | 98/400 [06:07<17:16,  3.43s/it]"
          ]
        },
        {
          "name": "stdout",
          "output_type": "stream",
          "text": [
            "\"is black and oversized fit\"\n",
            "/home/sejong/Desktop/junseok/SPRC/musinsa/snap/men/coat/bb9dc2cd6cf0484ca76bae49281cbcc1.jpg /home/sejong/Desktop/junseok/SPRC/musinsa/goods/men/coat/TC4-CT01 베트윙코트.jpg\n"
          ]
        },
        {
          "name": "stderr",
          "output_type": "stream",
          "text": [
            "coat-train:  25%|██▍       | 99/400 [06:10<16:54,  3.37s/it]"
          ]
        },
        {
          "name": "stdout",
          "output_type": "stream",
          "text": [
            "\"is black and long length\"\n",
            "/home/sejong/Desktop/junseok/SPRC/musinsa/snap/men/coat/e12f4f7ed4df4e9fbed7bd78453202e0.jpg /home/sejong/Desktop/junseok/SPRC/musinsa/goods/men/coat/두굿_[COUTURE]캐시미어발마칸오버핏롱코트 - 4color MYCA7102.jpg\n"
          ]
        },
        {
          "name": "stderr",
          "output_type": "stream",
          "text": [
            "coat-train:  25%|██▌       | 100/400 [06:14<18:03,  3.61s/it]"
          ]
        },
        {
          "name": "stdout",
          "output_type": "stream",
          "text": [
            "\"is regular length and oversized fit\"\n",
            "/home/sejong/Desktop/junseok/SPRC/musinsa/snap/men/coat/2024032617262900000045501.jpg /home/sejong/Desktop/junseok/SPRC/musinsa/goods/men/coat/발마칸 울 롱 코트 [블랙].jpg\n"
          ]
        },
        {
          "name": "stderr",
          "output_type": "stream",
          "text": [
            "coat-train:  25%|██▌       | 101/400 [06:18<17:45,  3.56s/it]"
          ]
        },
        {
          "name": "stdout",
          "output_type": "stream",
          "text": [
            "\"is black and oversized fit\"\n",
            "/home/sejong/Desktop/junseok/SPRC/musinsa/snap/men/coat/list.staff_62020fb098539.jpg /home/sejong/Desktop/junseok/SPRC/musinsa/goods/men/coat/울 싱글 베일 오버사이즈 롱 코트 [카멜].jpg\n"
          ]
        },
        {
          "name": "stderr",
          "output_type": "stream",
          "text": [
            "coat-train:  26%|██▌       | 102/400 [06:22<18:21,  3.70s/it]"
          ]
        },
        {
          "name": "stdout",
          "output_type": "stream",
          "text": [
            "\"is regular length\"\n",
            "/home/sejong/Desktop/junseok/SPRC/musinsa/snap/men/coat/4ffd2c1a725646fc8eb6bceb3cda1c0a.jpg /home/sejong/Desktop/junseok/SPRC/musinsa/goods/men/coat/OVERSIZED CASHMERE BALMACAAN COAT MELANGE DARK OLIVE.jpg\n"
          ]
        },
        {
          "name": "stderr",
          "output_type": "stream",
          "text": [
            "coat-train:  26%|██▌       | 103/400 [06:25<18:23,  3.72s/it]"
          ]
        },
        {
          "name": "stdout",
          "output_type": "stream",
          "text": [
            "\"is no requirements, is gray, and no requirements\"\n",
            "/home/sejong/Desktop/junseok/SPRC/musinsa/snap/men/coat/c32295f7b9764633bf483cdbf707799e.jpg /home/sejong/Desktop/junseok/SPRC/musinsa/goods/men/coat/캐시미어 블렌드 하프 코트 (멜란지토프).jpg\n"
          ]
        },
        {
          "name": "stderr",
          "output_type": "stream",
          "text": [
            "coat-train:  26%|██▌       | 104/400 [06:29<18:17,  3.71s/it]"
          ]
        },
        {
          "name": "stdout",
          "output_type": "stream",
          "text": [
            "\"is gray and regular length\"\n",
            "/home/sejong/Desktop/junseok/SPRC/musinsa/snap/men/coat/list.staff_603d8a189cfa2.jpg /home/sejong/Desktop/junseok/SPRC/musinsa/goods/men/coat/핸드메이드 하프 발마칸 코트 브라운 (BASIC).jpg\n"
          ]
        },
        {
          "name": "stderr",
          "output_type": "stream",
          "text": [
            "coat-train:  26%|██▋       | 105/400 [06:32<17:00,  3.46s/it]"
          ]
        },
        {
          "name": "stdout",
          "output_type": "stream",
          "text": [
            "\"has a herringbone pattern, is brown, and is regular length\"\n",
            "/home/sejong/Desktop/junseok/SPRC/musinsa/snap/men/coat/2021030412170400000018361.jpg /home/sejong/Desktop/junseok/SPRC/musinsa/goods/men/coat/FINE MASTER BALMACAAN COAT (DARK NAVY).jpg\n"
          ]
        },
        {
          "name": "stderr",
          "output_type": "stream",
          "text": [
            "coat-train:  26%|██▋       | 106/400 [06:35<16:52,  3.44s/it]"
          ]
        },
        {
          "name": "stdout",
          "output_type": "stream",
          "text": [
            "\"has no requirements, is navy, and is regular length\"\n",
            "/home/sejong/Desktop/junseok/SPRC/musinsa/snap/men/coat/2021021609263200000003846.jpg /home/sejong/Desktop/junseok/SPRC/musinsa/goods/men/coat/메리노 울 발마칸 코트 블랙.jpg\n"
          ]
        },
        {
          "name": "stderr",
          "output_type": "stream",
          "text": [
            "coat-train:  27%|██▋       | 107/400 [06:38<16:24,  3.36s/it]"
          ]
        },
        {
          "name": "stdout",
          "output_type": "stream",
          "text": [
            "\"is black and regular length\"\n",
            "/home/sejong/Desktop/junseok/SPRC/musinsa/snap/men/coat/1459318516_261d633a2983ba52672721a728c72e9b.jpg /home/sejong/Desktop/junseok/SPRC/musinsa/goods/men/coat/Cashmere Blend Single Coat (Black).jpg\n"
          ]
        },
        {
          "name": "stderr",
          "output_type": "stream",
          "text": [
            "coat-train:  27%|██▋       | 108/400 [06:41<15:21,  3.15s/it]"
          ]
        },
        {
          "name": "stdout",
          "output_type": "stream",
          "text": [
            "\"is black and regular length\"\n",
            "/home/sejong/Desktop/junseok/SPRC/musinsa/snap/men/coat/c80bb9cc018e4b21bfb1ebbd39463bda.jpg /home/sejong/Desktop/junseok/SPRC/musinsa/goods/men/coat/Grey Cashmere Blended Mac Coat CQCAW24711GYM.jpg\n"
          ]
        },
        {
          "name": "stderr",
          "output_type": "stream",
          "text": [
            "coat-train:  27%|██▋       | 109/400 [06:44<14:56,  3.08s/it]"
          ]
        },
        {
          "name": "stdout",
          "output_type": "stream",
          "text": [
            "\"is gray and regular length\"\n",
            "/home/sejong/Desktop/junseok/SPRC/musinsa/snap/men/coat/af721785d3ca438bbbf6e7559bc802c8.jpg /home/sejong/Desktop/junseok/SPRC/musinsa/goods/men/coat/커버 오버코트 코트 - 다키스트네이비 _ COVERSNM1209DARKESTNAVY.jpg\n"
          ]
        },
        {
          "name": "stderr",
          "output_type": "stream",
          "text": [
            "coat-train:  28%|██▊       | 110/400 [06:48<16:54,  3.50s/it]"
          ]
        },
        {
          "name": "stdout",
          "output_type": "stream",
          "text": [
            "\"is plain, is navy, and is regular length\"\n",
            "/home/sejong/Desktop/junseok/SPRC/musinsa/snap/men/coat/42e94e909d204b86b72e9fc43b306f4a.jpg /home/sejong/Desktop/junseok/SPRC/musinsa/goods/men/coat/Angora Blend Herringbone Balmacaan Short Coat_Grey.jpg\n"
          ]
        },
        {
          "name": "stderr",
          "output_type": "stream",
          "text": [
            "coat-train:  28%|██▊       | 111/400 [06:53<17:53,  3.71s/it]"
          ]
        },
        {
          "name": "stdout",
          "output_type": "stream",
          "text": [
            "\"has a herringbone pattern, is gray, and is regular fit\"\n",
            "/home/sejong/Desktop/junseok/SPRC/musinsa/snap/men/coat/2022021810442400000069284.jpg /home/sejong/Desktop/junseok/SPRC/musinsa/goods/men/coat/울 블렌드 오버사이즈 머프 발마칸 코트 [차콜 그레이].jpg\n"
          ]
        },
        {
          "name": "stderr",
          "output_type": "stream",
          "text": [
            "coat-train:  28%|██▊       | 112/400 [06:56<16:59,  3.54s/it]"
          ]
        },
        {
          "name": "stdout",
          "output_type": "stream",
          "text": [
            "\"is plain, is gray, and is oversized fit\"\n",
            "/home/sejong/Desktop/junseok/SPRC/musinsa/snap/men/coat/list.staff_60331df475a35.jpg /home/sejong/Desktop/junseok/SPRC/musinsa/goods/men/coat/몬디알 울 오버 코트 - 타맥 _ MONDIALSNM683TARMAC.jpg\n"
          ]
        },
        {
          "name": "stderr",
          "output_type": "stream",
          "text": [
            "coat-train:  28%|██▊       | 113/400 [07:00<17:38,  3.69s/it]"
          ]
        },
        {
          "name": "stdout",
          "output_type": "stream",
          "text": [
            "\"is gray and regular length\"\n",
            "/home/sejong/Desktop/junseok/SPRC/musinsa/snap/men/coat/list.staff_63e0a3607685f.jpg /home/sejong/Desktop/junseok/SPRC/musinsa/goods/men/coat/Grey Cashmere Blended Mac Coat CQCAW24711GYM.jpg\n"
          ]
        },
        {
          "name": "stderr",
          "output_type": "stream",
          "text": [
            "coat-train:  28%|██▊       | 114/400 [07:04<18:39,  3.92s/it]"
          ]
        },
        {
          "name": "stdout",
          "output_type": "stream",
          "text": [
            "\"is gray and regular length\"\n",
            "/home/sejong/Desktop/junseok/SPRC/musinsa/snap/men/coat/d3c13c2342a84167a1d9429d895352d3.jpg /home/sejong/Desktop/junseok/SPRC/musinsa/goods/men/coat/울 발마칸 코트 MCO102 [BLACK].jpg\n"
          ]
        },
        {
          "name": "stderr",
          "output_type": "stream",
          "text": [
            "coat-train:  29%|██▉       | 115/400 [07:09<20:12,  4.26s/it]"
          ]
        },
        {
          "name": "stdout",
          "output_type": "stream",
          "text": [
            "\"is black, regular length, and oversized fit\"\n",
            "/home/sejong/Desktop/junseok/SPRC/musinsa/snap/men/coat/2022021810521500000007041.jpg /home/sejong/Desktop/junseok/SPRC/musinsa/goods/men/coat/[프리미엄] MANTECO 헤링본 오버사이즈 발마칸 코트 [다크 그레이].jpg\n"
          ]
        },
        {
          "name": "stderr",
          "output_type": "stream",
          "text": [
            "coat-train:  29%|██▉       | 116/400 [07:13<19:18,  4.08s/it]"
          ]
        },
        {
          "name": "stdout",
          "output_type": "stream",
          "text": [
            "\"has a herringbone pattern, is gray, and is long length\"\n",
            "/home/sejong/Desktop/junseok/SPRC/musinsa/snap/men/coat/3c9be7e7832449a59ccac815dca6eaf2.jpg /home/sejong/Desktop/junseok/SPRC/musinsa/goods/men/coat/오버핏 싱글 빅체크 롱 코트 (차콜).jpg\n"
          ]
        },
        {
          "name": "stderr",
          "output_type": "stream",
          "text": [
            "coat-train:  29%|██▉       | 117/400 [07:17<18:56,  4.02s/it]"
          ]
        },
        {
          "name": "stdout",
          "output_type": "stream",
          "text": [
            "\"has a checkered pattern, is brown, and is long length\"\n",
            "/home/sejong/Desktop/junseok/SPRC/musinsa/snap/men/coat/2022022315034300000081109.jpg /home/sejong/Desktop/junseok/SPRC/musinsa/goods/men/coat/헤링본 발마칸 코트.jpg\n"
          ]
        },
        {
          "name": "stderr",
          "output_type": "stream",
          "text": [
            "coat-train:  30%|██▉       | 118/400 [07:21<19:00,  4.04s/it]"
          ]
        },
        {
          "name": "stdout",
          "output_type": "stream",
          "text": [
            "\"has a herringbone pattern, is gray, and is long length\"\n",
            "/home/sejong/Desktop/junseok/SPRC/musinsa/snap/men/coat/a405d394ec6b48f995747259f5a2a795.jpg /home/sejong/Desktop/junseok/SPRC/musinsa/goods/men/coat/DEUS HIGHNECK COAT D_NAVY.jpg\n"
          ]
        },
        {
          "name": "stderr",
          "output_type": "stream",
          "text": [
            "coat-train:  30%|██▉       | 119/400 [07:24<17:05,  3.65s/it]"
          ]
        },
        {
          "name": "stdout",
          "output_type": "stream",
          "text": [
            "\"is black and long length\"\n",
            "/home/sejong/Desktop/junseok/SPRC/musinsa/snap/men/coat/1517450919_43fff8494b68d7f140e2377ae73ac5aa.jpg /home/sejong/Desktop/junseok/SPRC/musinsa/goods/men/coat/오버핏 울 트렌치 롱 코트 (울 헤링본 블랙).jpg\n"
          ]
        },
        {
          "name": "stderr",
          "output_type": "stream",
          "text": [
            "coat-train:  30%|███       | 120/400 [07:27<16:18,  3.50s/it]"
          ]
        },
        {
          "name": "stdout",
          "output_type": "stream",
          "text": [
            "\"is black and long length\"\n",
            "/home/sejong/Desktop/junseok/SPRC/musinsa/snap/men/coat/a634622a38f5402c9ccce23d9d76d305.jpg /home/sejong/Desktop/junseok/SPRC/musinsa/goods/men/coat/울 피크드 오버 코트_아이보리.jpg\n"
          ]
        },
        {
          "name": "stderr",
          "output_type": "stream",
          "text": [
            "coat-train:  30%|███       | 121/400 [07:31<16:51,  3.63s/it]"
          ]
        },
        {
          "name": "stdout",
          "output_type": "stream",
          "text": [
            "\"is plain, is gray, and is oversized fit\"\n",
            "/home/sejong/Desktop/junseok/SPRC/musinsa/snap/men/coat/3c9be7e7832449a59ccac815dca6eaf2.jpg /home/sejong/Desktop/junseok/SPRC/musinsa/goods/men/coat/헤링본 체크 울 발마칸 코트 [BROWN].jpg\n"
          ]
        },
        {
          "name": "stderr",
          "output_type": "stream",
          "text": [
            "coat-train:  30%|███       | 122/400 [07:34<16:37,  3.59s/it]"
          ]
        },
        {
          "name": "stdout",
          "output_type": "stream",
          "text": [
            "\"is gray and regular length\"\n",
            "/home/sejong/Desktop/junseok/SPRC/musinsa/snap/men/coat/4ffd2c1a725646fc8eb6bceb3cda1c0a.jpg /home/sejong/Desktop/junseok/SPRC/musinsa/goods/men/coat/남성) 캐시미어 블렌디드 싱글 코트_BLD4CG1501.jpg\n"
          ]
        },
        {
          "name": "stderr",
          "output_type": "stream",
          "text": [
            "coat-train:  31%|███       | 123/400 [07:37<15:37,  3.39s/it]"
          ]
        },
        {
          "name": "stdout",
          "output_type": "stream",
          "text": [
            "\"is regular length\"\n",
            "/home/sejong/Desktop/junseok/SPRC/musinsa/snap/men/coat/2022021511054900000039711.jpg /home/sejong/Desktop/junseok/SPRC/musinsa/goods/men/coat/AECA ZIBELINE BALMACAAN COAT-BLACK.jpg\n"
          ]
        },
        {
          "name": "stderr",
          "output_type": "stream",
          "text": [
            "coat-train:  31%|███       | 124/400 [07:40<14:38,  3.18s/it]"
          ]
        },
        {
          "name": "stdout",
          "output_type": "stream",
          "text": [
            "\"is black and regular length\"\n",
            "/home/sejong/Desktop/junseok/SPRC/musinsa/snap/men/coat/2022021011183200000052212.jpg /home/sejong/Desktop/junseok/SPRC/musinsa/goods/men/coat/남성 발마칸 숏코트_ZD4CT020_DNV.jpg\n"
          ]
        },
        {
          "name": "stderr",
          "output_type": "stream",
          "text": [
            "coat-train:  31%|███▏      | 125/400 [07:43<14:45,  3.22s/it]"
          ]
        },
        {
          "name": "stdout",
          "output_type": "stream",
          "text": [
            "\"is navy and regular length\"\n",
            "/home/sejong/Desktop/junseok/SPRC/musinsa/snap/men/coat/1e6a320a1c9e4174b31a68c8458bf18c.jpg /home/sejong/Desktop/junseok/SPRC/musinsa/goods/men/coat/맨즈 울블렌드 롱 코트.jpg\n"
          ]
        },
        {
          "name": "stderr",
          "output_type": "stream",
          "text": [
            "coat-train:  32%|███▏      | 126/400 [07:47<15:34,  3.41s/it]"
          ]
        },
        {
          "name": "stdout",
          "output_type": "stream",
          "text": [
            "\"is gray and long length\"\n",
            "/home/sejong/Desktop/junseok/SPRC/musinsa/snap/men/coat/2023022116142700000007784.jpg /home/sejong/Desktop/junseok/SPRC/musinsa/goods/men/coat/발마칸 코트, 올리브 그레이.jpg\n"
          ]
        },
        {
          "name": "stderr",
          "output_type": "stream",
          "text": [
            "coat-train:  32%|███▏      | 127/400 [07:50<15:27,  3.40s/it]"
          ]
        },
        {
          "name": "stdout",
          "output_type": "stream",
          "text": [
            "\"is long length and is regular fit\"\n",
            "/home/sejong/Desktop/junseok/SPRC/musinsa/snap/men/coat/54efcdac960b4793ac77e69369b7ae11.jpg /home/sejong/Desktop/junseok/SPRC/musinsa/goods/men/coat/버진 울 싱글 체스터 코트 50485199_001.jpg\n"
          ]
        },
        {
          "name": "stderr",
          "output_type": "stream",
          "text": [
            "coat-train:  32%|███▏      | 128/400 [07:53<14:28,  3.19s/it]"
          ]
        },
        {
          "name": "stdout",
          "output_type": "stream",
          "text": [
            "\"is black and regular length\"\n",
            "/home/sejong/Desktop/junseok/SPRC/musinsa/snap/men/coat/2022021412064300000038820.jpg /home/sejong/Desktop/junseok/SPRC/musinsa/goods/men/coat/[WOOL 80] 울 세미오버핏 발마칸 코트_샌드.jpg\n"
          ]
        },
        {
          "name": "stderr",
          "output_type": "stream",
          "text": [
            "coat-train:  32%|███▏      | 129/400 [07:57<15:09,  3.36s/it]"
          ]
        },
        {
          "name": "stdout",
          "output_type": "stream",
          "text": [
            "\"is no requirements, is olive and is oversized fit\"\n",
            "/home/sejong/Desktop/junseok/SPRC/musinsa/snap/men/coat/acec174c29b74193a6405b20d8856549.jpg /home/sejong/Desktop/junseok/SPRC/musinsa/goods/men/coat/울 블렌드 맥시 발마칸 로브 코트 [차콜 그레이].jpg\n"
          ]
        },
        {
          "name": "stderr",
          "output_type": "stream",
          "text": [
            "coat-train:  32%|███▎      | 130/400 [08:00<15:02,  3.34s/it]"
          ]
        },
        {
          "name": "stdout",
          "output_type": "stream",
          "text": [
            "\"is no requirements, is gray, and is long length\"\n",
            "/home/sejong/Desktop/junseok/SPRC/musinsa/snap/men/coat/96e66231b8364c71807014159061c5c1.jpg /home/sejong/Desktop/junseok/SPRC/musinsa/goods/men/coat/Black Wool Chesterfield Coat CWCAW24601BKX.jpg\n"
          ]
        },
        {
          "name": "stderr",
          "output_type": "stream",
          "text": [
            "coat-train:  33%|███▎      | 131/400 [08:04<16:08,  3.60s/it]"
          ]
        },
        {
          "name": "stdout",
          "output_type": "stream",
          "text": [
            "\"is gray and long length\"\n",
            "/home/sejong/Desktop/junseok/SPRC/musinsa/snap/men/coat/bc23ff58270e4703a2c988168b8dae49.jpg /home/sejong/Desktop/junseok/SPRC/musinsa/goods/men/coat/Legacy Balmacaan Coat (Rosemary).jpg\n"
          ]
        },
        {
          "name": "stderr",
          "output_type": "stream",
          "text": [
            "coat-train:  33%|███▎      | 132/400 [08:09<17:04,  3.82s/it]"
          ]
        },
        {
          "name": "stdout",
          "output_type": "stream",
          "text": [
            "\"is plain, is gray, and is regular length\"\n",
            "/home/sejong/Desktop/junseok/SPRC/musinsa/snap/men/coat/722ee0201c334553877a451f665d914e.jpg /home/sejong/Desktop/junseok/SPRC/musinsa/goods/men/coat/캐시미어 블렌드 발마칸 코트_BLACK.jpg\n"
          ]
        },
        {
          "name": "stderr",
          "output_type": "stream",
          "text": [
            "coat-train:  33%|███▎      | 133/400 [08:13<17:06,  3.85s/it]"
          ]
        },
        {
          "name": "stdout",
          "output_type": "stream",
          "text": [
            "\"has no requirements, is black, and is regular length\"\n",
            "/home/sejong/Desktop/junseok/SPRC/musinsa/snap/men/coat/d5cc1edecaa9405ca48e9e1072412f68.jpg /home/sejong/Desktop/junseok/SPRC/musinsa/goods/men/coat/캐시미어 체스터 코트 BLACK.jpg\n"
          ]
        },
        {
          "name": "stderr",
          "output_type": "stream",
          "text": [
            "coat-train:  34%|███▎      | 134/400 [08:16<16:42,  3.77s/it]"
          ]
        },
        {
          "name": "stdout",
          "output_type": "stream",
          "text": [
            "\"is black and long length\"\n",
            "/home/sejong/Desktop/junseok/SPRC/musinsa/snap/men/coat/81b7accfdc0e48a687b8d63d7eed9071.jpg /home/sejong/Desktop/junseok/SPRC/musinsa/goods/men/coat/캐시미어 사이드 딥 밴트 코트_BLACK.jpg\n"
          ]
        },
        {
          "name": "stderr",
          "output_type": "stream",
          "text": [
            "coat-train:  34%|███▍      | 135/400 [08:19<15:49,  3.58s/it]"
          ]
        },
        {
          "name": "stdout",
          "output_type": "stream",
          "text": [
            "\"is black and regular length\"\n",
            "/home/sejong/Desktop/junseok/SPRC/musinsa/snap/men/coat/7bdeb9fed2df4d1d85f07a25995eeb41.jpg /home/sejong/Desktop/junseok/SPRC/musinsa/goods/men/coat/울 블렌드 발마칸 코트 블랙.jpg\n"
          ]
        },
        {
          "name": "stderr",
          "output_type": "stream",
          "text": [
            "coat-train:  34%|███▍      | 136/400 [08:27<20:58,  4.77s/it]"
          ]
        },
        {
          "name": "stdout",
          "output_type": "stream",
          "text": [
            "\"is black and long length\"\n",
            "/home/sejong/Desktop/junseok/SPRC/musinsa/snap/men/coat/4144f9d8a7ee411abcddb90b1ff78efb.jpg /home/sejong/Desktop/junseok/SPRC/musinsa/goods/men/coat/807 캐시미어 블랜드 코트 블랙.jpg\n"
          ]
        },
        {
          "name": "stderr",
          "output_type": "stream",
          "text": [
            "coat-train:  34%|███▍      | 137/400 [08:30<18:34,  4.24s/it]"
          ]
        },
        {
          "name": "stdout",
          "output_type": "stream",
          "text": [
            "\"is black and regular length\"\n",
            "/home/sejong/Desktop/junseok/SPRC/musinsa/snap/men/coat/ea63c334200c459ab2c3442b1bb9f7a8.jpg /home/sejong/Desktop/junseok/SPRC/musinsa/goods/men/coat/싱글 브레스트 벨트 코트 [네이비].jpg\n"
          ]
        },
        {
          "name": "stderr",
          "output_type": "stream",
          "text": [
            "coat-train:  34%|███▍      | 138/400 [08:36<20:32,  4.70s/it]"
          ]
        },
        {
          "name": "stdout",
          "output_type": "stream",
          "text": [
            "\"is black, regular length, and regular fit\"\n",
            "/home/sejong/Desktop/junseok/SPRC/musinsa/snap/men/coat/78482534df3e43e9820ff4c76c936e0e.jpg /home/sejong/Desktop/junseok/SPRC/musinsa/goods/men/coat/[무료반품][차은우 착용] 울_캐시미어 싱글코트 073917 [3color].jpg\n"
          ]
        },
        {
          "name": "stderr",
          "output_type": "stream",
          "text": [
            "coat-train:  35%|███▍      | 139/400 [08:39<19:08,  4.40s/it]"
          ]
        },
        {
          "name": "stdout",
          "output_type": "stream",
          "text": [
            "\"is black and long length\"\n",
            "/home/sejong/Desktop/junseok/SPRC/musinsa/snap/men/coat/2022021511054900000039711.jpg /home/sejong/Desktop/junseok/SPRC/musinsa/goods/men/coat/발마칸 코트[BEIGE](UYAHC10_25).jpg\n"
          ]
        },
        {
          "name": "stderr",
          "output_type": "stream",
          "text": [
            "coat-train:  35%|███▌      | 140/400 [08:43<17:44,  4.10s/it]"
          ]
        },
        {
          "name": "stdout",
          "output_type": "stream",
          "text": [
            "\"is plain, is beige, and is regular length\"\n",
            "/home/sejong/Desktop/junseok/SPRC/musinsa/snap/men/coat/2024043019113800000016005.jpg /home/sejong/Desktop/junseok/SPRC/musinsa/goods/men/coat/[SMART]울혼방핸드메이드코트 - 2color MWCA7105.jpg\n"
          ]
        },
        {
          "name": "stderr",
          "output_type": "stream",
          "text": [
            "coat-train:  35%|███▌      | 141/400 [08:46<16:16,  3.77s/it]"
          ]
        },
        {
          "name": "stdout",
          "output_type": "stream",
          "text": [
            "\"is regular length and regular fit\"\n",
            "/home/sejong/Desktop/junseok/SPRC/musinsa/snap/men/coat/c09f90707f034fa789d58b958f3334f4.jpg /home/sejong/Desktop/junseok/SPRC/musinsa/goods/men/coat/Cashmere Blend Handmade Safari Short Coat_Black.jpg\n"
          ]
        },
        {
          "name": "stderr",
          "output_type": "stream",
          "text": [
            "coat-train:  36%|███▌      | 142/400 [08:49<16:07,  3.75s/it]"
          ]
        },
        {
          "name": "stdout",
          "output_type": "stream",
          "text": [
            "\"has no requirements, is black, and is oversized fit\"\n",
            "/home/sejong/Desktop/junseok/SPRC/musinsa/snap/men/coat/788959b3e1b24eddaf656475fd4db835.jpg /home/sejong/Desktop/junseok/SPRC/musinsa/goods/men/coat/포켓 컬러블록 투버튼 싱글 코트 네이비.jpg\n"
          ]
        },
        {
          "name": "stderr",
          "output_type": "stream",
          "text": [
            "coat-train:  36%|███▌      | 143/400 [08:53<16:12,  3.78s/it]"
          ]
        },
        {
          "name": "stdout",
          "output_type": "stream",
          "text": [
            "\"is navy and regular length\"\n",
            "/home/sejong/Desktop/junseok/SPRC/musinsa/snap/men/coat/1459318516_261d633a2983ba52672721a728c72e9b.jpg /home/sejong/Desktop/junseok/SPRC/musinsa/goods/men/coat/GAW21105 차콜그레이 더블 6버튼 캐시미어 혼방 오버핏 코트.jpg\n"
          ]
        },
        {
          "name": "stderr",
          "output_type": "stream",
          "text": [
            "coat-train:  36%|███▌      | 144/400 [08:57<15:49,  3.71s/it]"
          ]
        },
        {
          "name": "stdout",
          "output_type": "stream",
          "text": [
            "\"is black and long length\"\n",
            "/home/sejong/Desktop/junseok/SPRC/musinsa/snap/men/coat/58f5e9bd400d4ed1bebcfe58e04a7a33.jpg /home/sejong/Desktop/junseok/SPRC/musinsa/goods/men/coat/wool balmacaan coat black.jpg\n"
          ]
        },
        {
          "name": "stderr",
          "output_type": "stream",
          "text": [
            "coat-train:  36%|███▋      | 145/400 [09:00<15:29,  3.65s/it]"
          ]
        },
        {
          "name": "stdout",
          "output_type": "stream",
          "text": [
            "\"is black and long length\"\n",
            "/home/sejong/Desktop/junseok/SPRC/musinsa/snap/men/coat/list.staff_62674c59e9782.jpg /home/sejong/Desktop/junseok/SPRC/musinsa/goods/men/coat/스탠다드 발마칸 울 코트_CHARCOAL.jpg\n"
          ]
        },
        {
          "name": "stderr",
          "output_type": "stream",
          "text": [
            "coat-train:  36%|███▋      | 146/400 [09:07<19:37,  4.64s/it]"
          ]
        },
        {
          "name": "stdout",
          "output_type": "stream",
          "text": [
            "\"is black and long length\"\n",
            "/home/sejong/Desktop/junseok/SPRC/musinsa/snap/men/coat/2023021515300400000071452.jpg /home/sejong/Desktop/junseok/SPRC/musinsa/goods/men/coat/VIRGIN WOOL NAVY SOFT SHORT COAT [Black Night].jpg\n"
          ]
        },
        {
          "name": "stderr",
          "output_type": "stream",
          "text": [
            "coat-train:  37%|███▋      | 147/400 [09:11<17:54,  4.25s/it]"
          ]
        },
        {
          "name": "stdout",
          "output_type": "stream",
          "text": [
            "\"is black and regular length\"\n",
            "/home/sejong/Desktop/junseok/SPRC/musinsa/snap/men/coat/2022020311475600000051187.jpg /home/sejong/Desktop/junseok/SPRC/musinsa/goods/men/coat/핸드메이드 하프 발마칸 코트 네이비 (BASIC).jpg\n"
          ]
        },
        {
          "name": "stderr",
          "output_type": "stream",
          "text": [
            "coat-train:  37%|███▋      | 148/400 [09:15<17:51,  4.25s/it]"
          ]
        },
        {
          "name": "stdout",
          "output_type": "stream",
          "text": [
            "\"is black and regular fit\"\n",
            "/home/sejong/Desktop/junseok/SPRC/musinsa/snap/men/coat/5bb78fb67b57492b94fff038ad18362a.jpg /home/sejong/Desktop/junseok/SPRC/musinsa/goods/men/coat/오버사이즈 핏 싱글 코트_BLACK.jpg\n"
          ]
        },
        {
          "name": "stderr",
          "output_type": "stream",
          "text": [
            "coat-train:  37%|███▋      | 149/400 [09:19<17:10,  4.10s/it]"
          ]
        },
        {
          "name": "stdout",
          "output_type": "stream",
          "text": [
            "\"is black and regular length\"\n",
            "/home/sejong/Desktop/junseok/SPRC/musinsa/snap/men/coat/2024021410400700000028656.jpg /home/sejong/Desktop/junseok/SPRC/musinsa/goods/men/coat/Wool Balmacaan Mac Coat (Charcoal).jpg\n"
          ]
        },
        {
          "name": "stderr",
          "output_type": "stream",
          "text": [
            "coat-train:  38%|███▊      | 150/400 [09:22<15:40,  3.76s/it]"
          ]
        },
        {
          "name": "stdout",
          "output_type": "stream",
          "text": [
            "\"is gray and regular length\"\n",
            "/home/sejong/Desktop/junseok/SPRC/musinsa/snap/men/coat/78dbd7a26b284751bd887222d5b005f4.jpg /home/sejong/Desktop/junseok/SPRC/musinsa/goods/men/coat/테일러 맥시 롱 코트 - 브라운.jpg\n"
          ]
        },
        {
          "name": "stderr",
          "output_type": "stream",
          "text": [
            "coat-train:  38%|███▊      | 151/400 [09:27<17:00,  4.10s/it]"
          ]
        },
        {
          "name": "stdout",
          "output_type": "stream",
          "text": [
            "\"is regular length\"\n",
            "/home/sejong/Desktop/junseok/SPRC/musinsa/snap/men/coat/b65b618be4ec4c4fb846655bc0750141.jpg /home/sejong/Desktop/junseok/SPRC/musinsa/goods/men/coat/해리스트위드 코트2 (브라운).jpg\n"
          ]
        },
        {
          "name": "stderr",
          "output_type": "stream",
          "text": [
            "coat-train:  38%|███▊      | 152/400 [09:30<16:42,  4.04s/it]"
          ]
        },
        {
          "name": "stdout",
          "output_type": "stream",
          "text": [
            "\"has a checkered pattern and is long length\"\n",
            "/home/sejong/Desktop/junseok/SPRC/musinsa/snap/men/coat/ea63c334200c459ab2c3442b1bb9f7a8.jpg /home/sejong/Desktop/junseok/SPRC/musinsa/goods/men/coat/wool duffle coat beige.jpg\n"
          ]
        },
        {
          "name": "stderr",
          "output_type": "stream",
          "text": [
            "coat-train:  38%|███▊      | 153/400 [09:34<16:21,  3.97s/it]"
          ]
        },
        {
          "name": "stdout",
          "output_type": "stream",
          "text": [
            "\"is regular length\"\n",
            "/home/sejong/Desktop/junseok/SPRC/musinsa/snap/men/coat/27c1ad3f0d6f4402bdafd1d5353bcae2.jpg /home/sejong/Desktop/junseok/SPRC/musinsa/goods/men/coat/[프리미엄] MANTECO 헤링본 오버사이즈 발마칸 코트 [다크 그레이].jpg\n"
          ]
        },
        {
          "name": "stderr",
          "output_type": "stream",
          "text": [
            "coat-train:  38%|███▊      | 154/400 [09:38<16:09,  3.94s/it]"
          ]
        },
        {
          "name": "stdout",
          "output_type": "stream",
          "text": [
            "\"has a herringbone pattern, is gray, and is regular length\"\n",
            "/home/sejong/Desktop/junseok/SPRC/musinsa/snap/men/coat/2022020713594500000076275.jpg /home/sejong/Desktop/junseok/SPRC/musinsa/goods/men/coat/LIW21993 SEMI OVERFIT.jpg\n"
          ]
        },
        {
          "name": "stderr",
          "output_type": "stream",
          "text": [
            "coat-train:  39%|███▉      | 155/400 [09:42<15:55,  3.90s/it]"
          ]
        },
        {
          "name": "stdout",
          "output_type": "stream",
          "text": [
            "\"is black and regular fit\"\n",
            "/home/sejong/Desktop/junseok/SPRC/musinsa/snap/men/coat/2020021916065200000092855.jpg /home/sejong/Desktop/junseok/SPRC/musinsa/goods/men/coat/블랙 오버핏 싱글 브레스티드 코트 (TNCO3F102BK).jpg\n"
          ]
        },
        {
          "name": "stderr",
          "output_type": "stream",
          "text": [
            "coat-train:  39%|███▉      | 156/400 [09:45<15:05,  3.71s/it]"
          ]
        },
        {
          "name": "stdout",
          "output_type": "stream",
          "text": [
            "\"is black and long length\"\n",
            "/home/sejong/Desktop/junseok/SPRC/musinsa/snap/men/coat/78482534df3e43e9820ff4c76c936e0e.jpg /home/sejong/Desktop/junseok/SPRC/musinsa/goods/men/coat/170 Glen Check Wool Balmacaan Coat (Black).jpg\n"
          ]
        },
        {
          "name": "stderr",
          "output_type": "stream",
          "text": [
            "coat-train:  39%|███▉      | 157/400 [09:49<15:04,  3.72s/it]"
          ]
        },
        {
          "name": "stdout",
          "output_type": "stream",
          "text": [
            "\"is checkered, black, and long length\"\n",
            "/home/sejong/Desktop/junseok/SPRC/musinsa/snap/men/coat/1459318516_261d633a2983ba52672721a728c72e9b.jpg /home/sejong/Desktop/junseok/SPRC/musinsa/goods/men/coat/유니섹스 프렌치 롱 가운 오버핏 코트 7 COLOR.jpg\n"
          ]
        },
        {
          "name": "stderr",
          "output_type": "stream",
          "text": [
            "coat-train:  40%|███▉      | 158/400 [09:52<14:21,  3.56s/it]"
          ]
        },
        {
          "name": "stdout",
          "output_type": "stream",
          "text": [
            "\"is black, long length, and oversized fit\"\n",
            "/home/sejong/Desktop/junseok/SPRC/musinsa/snap/men/coat/a634622a38f5402c9ccce23d9d76d305.jpg /home/sejong/Desktop/junseok/SPRC/musinsa/goods/men/coat/CASHMERE SINGLE ROBE COAT BLACK.jpg\n"
          ]
        },
        {
          "name": "stderr",
          "output_type": "stream",
          "text": [
            "coat-train:  40%|███▉      | 159/400 [09:55<13:53,  3.46s/it]"
          ]
        },
        {
          "name": "stdout",
          "output_type": "stream",
          "text": [
            "\"is black and regular length\"\n",
            "/home/sejong/Desktop/junseok/SPRC/musinsa/snap/men/coat/8470d716ea4540bca1c867a564271534.jpg /home/sejong/Desktop/junseok/SPRC/musinsa/goods/men/coat/Cashmere Blend Single Coat (Black).jpg\n"
          ]
        },
        {
          "name": "stderr",
          "output_type": "stream",
          "text": [
            "coat-train:  40%|████      | 160/400 [09:58<13:01,  3.26s/it]"
          ]
        },
        {
          "name": "stdout",
          "output_type": "stream",
          "text": [
            "\"is black and regular length\"\n",
            "/home/sejong/Desktop/junseok/SPRC/musinsa/snap/men/coat/8efb4b647a76418d9928777deda9543a.jpg /home/sejong/Desktop/junseok/SPRC/musinsa/goods/men/coat/[최대 1.2만원 할인] Voyager Bold Balmacaan Coat (Heather Charcoal).jpg\n"
          ]
        },
        {
          "name": "stderr",
          "output_type": "stream",
          "text": [
            "coat-train:  40%|████      | 161/400 [10:01<12:43,  3.19s/it]"
          ]
        },
        {
          "name": "stdout",
          "output_type": "stream",
          "text": [
            "\"is plain, is gray, and is long length\"\n",
            "/home/sejong/Desktop/junseok/SPRC/musinsa/snap/men/coat/5a59091aa96b48589ffa58ef133b99f7.jpg /home/sejong/Desktop/junseok/SPRC/musinsa/goods/men/coat/카라리스 프론트 커버 코트 카키.jpg\n"
          ]
        },
        {
          "name": "stderr",
          "output_type": "stream",
          "text": [
            "coat-train:  40%|████      | 162/400 [10:04<12:34,  3.17s/it]"
          ]
        },
        {
          "name": "stdout",
          "output_type": "stream",
          "text": [
            "\"is plain, is gray, and is long length\"\n",
            "/home/sejong/Desktop/junseok/SPRC/musinsa/snap/men/coat/list.staff_60331df475a35.jpg /home/sejong/Desktop/junseok/SPRC/musinsa/goods/men/coat/싱글 브레스티드 버진 울 코트 - 아쿠아 마린 _ HCO307WV0016468.jpg\n"
          ]
        },
        {
          "name": "stderr",
          "output_type": "stream",
          "text": [
            "coat-train:  41%|████      | 163/400 [10:07<12:01,  3.04s/it]"
          ]
        },
        {
          "name": "stdout",
          "output_type": "stream",
          "text": [
            "\"is long length and is regular fit\"\n",
            "/home/sejong/Desktop/junseok/SPRC/musinsa/snap/men/coat/2020021810191800000013655.jpg /home/sejong/Desktop/junseok/SPRC/musinsa/goods/men/coat/[빅사이즈]울 블렌드 오버핏 싱글코트 블랙.jpg\n"
          ]
        },
        {
          "name": "stderr",
          "output_type": "stream",
          "text": [
            "coat-train:  41%|████      | 164/400 [10:10<11:58,  3.04s/it]"
          ]
        },
        {
          "name": "stdout",
          "output_type": "stream",
          "text": [
            "\"is black and long length\"\n",
            "/home/sejong/Desktop/junseok/SPRC/musinsa/snap/men/coat/78dbd7a26b284751bd887222d5b005f4.jpg /home/sejong/Desktop/junseok/SPRC/musinsa/goods/men/coat/버진 울 싱글 체스터 코트 50485199_001.jpg\n"
          ]
        },
        {
          "name": "stderr",
          "output_type": "stream",
          "text": [
            "coat-train:  41%|████▏     | 165/400 [10:14<12:24,  3.17s/it]"
          ]
        },
        {
          "name": "stdout",
          "output_type": "stream",
          "text": [
            "\"is black and regular length\"\n",
            "/home/sejong/Desktop/junseok/SPRC/musinsa/snap/men/coat/2022020310113200000054770.jpg /home/sejong/Desktop/junseok/SPRC/musinsa/goods/men/coat/슈퍼 롱 유니섹스 모던 울 로브 코트 블랙.jpg\n"
          ]
        },
        {
          "name": "stderr",
          "output_type": "stream",
          "text": [
            "coat-train:  42%|████▏     | 166/400 [10:17<12:12,  3.13s/it]"
          ]
        },
        {
          "name": "stdout",
          "output_type": "stream",
          "text": [
            "\"is black and long length\"\n",
            "/home/sejong/Desktop/junseok/SPRC/musinsa/snap/men/coat/f671bbb76abe4c028e315a5a0fe9d61b.jpg /home/sejong/Desktop/junseok/SPRC/musinsa/goods/men/coat/남성) 울 블렌드 하프 코트_AEE4CG1101BK.jpg\n"
          ]
        },
        {
          "name": "stderr",
          "output_type": "stream",
          "text": [
            "coat-train:  42%|████▏     | 167/400 [10:20<12:41,  3.27s/it]"
          ]
        },
        {
          "name": "stdout",
          "output_type": "stream",
          "text": [
            "\"is black and regular length\"\n",
            "/home/sejong/Desktop/junseok/SPRC/musinsa/snap/men/coat/f0712e0bebc647ae90bbf4fc4573a81e.jpg /home/sejong/Desktop/junseok/SPRC/musinsa/goods/men/coat/[넌블랭크 x 삭형] 캐시미어 블렌드 싱글 코트_MELANGE GREY.jpg\n"
          ]
        },
        {
          "name": "stderr",
          "output_type": "stream",
          "text": [
            "coat-train:  42%|████▏     | 168/400 [10:24<13:19,  3.45s/it]"
          ]
        },
        {
          "name": "stdout",
          "output_type": "stream",
          "text": [
            "\"is plain, is gray, and is long length\"\n",
            "/home/sejong/Desktop/junseok/SPRC/musinsa/snap/men/coat/list.staff_65ceebd63cb03.jpg /home/sejong/Desktop/junseok/SPRC/musinsa/goods/men/coat/유니섹스 울 맥코트 블랙.jpg\n"
          ]
        },
        {
          "name": "stderr",
          "output_type": "stream",
          "text": [
            "coat-train:  42%|████▏     | 169/400 [10:27<13:12,  3.43s/it]"
          ]
        },
        {
          "name": "stdout",
          "output_type": "stream",
          "text": [
            "\"is black and oversized fit\"\n",
            "/home/sejong/Desktop/junseok/SPRC/musinsa/snap/men/coat/27c1ad3f0d6f4402bdafd1d5353bcae2.jpg /home/sejong/Desktop/junseok/SPRC/musinsa/goods/men/coat/울캐시 베이직 누빔안감 체스터코트 네이비 RMDMBH60A.jpg\n"
          ]
        },
        {
          "name": "stderr",
          "output_type": "stream",
          "text": [
            "coat-train:  42%|████▎     | 170/400 [10:31<12:56,  3.38s/it]"
          ]
        },
        {
          "name": "stdout",
          "output_type": "stream",
          "text": [
            "\"is plain, is black, and is regular length\"\n",
            "/home/sejong/Desktop/junseok/SPRC/musinsa/snap/men/coat/2022021711004300000048128.jpg /home/sejong/Desktop/junseok/SPRC/musinsa/goods/men/coat/메리노 울 발마칸 코트 블랙.jpg\n"
          ]
        },
        {
          "name": "stderr",
          "output_type": "stream",
          "text": [
            "coat-train:  43%|████▎     | 171/400 [10:34<12:20,  3.24s/it]"
          ]
        },
        {
          "name": "stdout",
          "output_type": "stream",
          "text": [
            "\"is black and regular length\"\n",
            "/home/sejong/Desktop/junseok/SPRC/musinsa/snap/men/coat/c3dc00a79bd74f709ca837fd0a01a434.jpg /home/sejong/Desktop/junseok/SPRC/musinsa/goods/men/coat/Legacy Balmacaan Coat (Rosemary).jpg\n"
          ]
        },
        {
          "name": "stderr",
          "output_type": "stream",
          "text": [
            "coat-train:  43%|████▎     | 172/400 [10:42<18:40,  4.91s/it]"
          ]
        },
        {
          "name": "stdout",
          "output_type": "stream",
          "text": [
            "\"is plain, is gray, and is regular length\"\n",
            "/home/sejong/Desktop/junseok/SPRC/musinsa/snap/men/coat/1e34a700b4da476197d5704e429989a8.jpg /home/sejong/Desktop/junseok/SPRC/musinsa/goods/men/coat/울 피크드 오버 코트_아이보리.jpg\n"
          ]
        },
        {
          "name": "stderr",
          "output_type": "stream",
          "text": [
            "coat-train:  43%|████▎     | 173/400 [10:46<16:50,  4.45s/it]"
          ]
        },
        {
          "name": "stdout",
          "output_type": "stream",
          "text": [
            "\"is regular length and oversized fit\"\n",
            "/home/sejong/Desktop/junseok/SPRC/musinsa/snap/men/coat/2021021810445500000005666.jpg /home/sejong/Desktop/junseok/SPRC/musinsa/goods/men/coat/오버핏 벨트 코트 _ ZSB14CT201.jpg\n"
          ]
        },
        {
          "name": "stderr",
          "output_type": "stream",
          "text": [
            "coat-train:  44%|████▎     | 174/400 [10:49<15:18,  4.06s/it]"
          ]
        },
        {
          "name": "stdout",
          "output_type": "stream",
          "text": [
            "\"is brown and regular length\"\n",
            "/home/sejong/Desktop/junseok/SPRC/musinsa/snap/men/coat/c3dc00a79bd74f709ca837fd0a01a434.jpg /home/sejong/Desktop/junseok/SPRC/musinsa/goods/men/coat/[0031] 울 맥시 트렌치 맥 코트.jpg\n"
          ]
        },
        {
          "name": "stderr",
          "output_type": "stream",
          "text": [
            "coat-train:  44%|████▍     | 175/400 [10:53<14:50,  3.96s/it]"
          ]
        },
        {
          "name": "stdout",
          "output_type": "stream",
          "text": [
            "\"is gray and long length\"\n",
            "/home/sejong/Desktop/junseok/SPRC/musinsa/snap/men/coat/b65b618be4ec4c4fb846655bc0750141.jpg /home/sejong/Desktop/junseok/SPRC/musinsa/goods/men/coat/VIRGIN WOOL NAVY SOFT SHORT COAT [Black Night].jpg\n"
          ]
        },
        {
          "name": "stderr",
          "output_type": "stream",
          "text": [
            "coat-train:  44%|████▍     | 176/400 [10:56<14:18,  3.83s/it]"
          ]
        },
        {
          "name": "stdout",
          "output_type": "stream",
          "text": [
            "\"is black and regular fit\"\n",
            "/home/sejong/Desktop/junseok/SPRC/musinsa/snap/men/coat/1873a033e3454b4a9d9eadaaea05ad7c.jpg /home/sejong/Desktop/junseok/SPRC/musinsa/goods/men/coat/[WOOL 80] 울리치 대디핏 맥코트_샌드.jpg\n"
          ]
        },
        {
          "name": "stderr",
          "output_type": "stream",
          "text": [
            "coat-train:  44%|████▍     | 177/400 [10:59<12:55,  3.48s/it]"
          ]
        },
        {
          "name": "stdout",
          "output_type": "stream",
          "text": [
            "\"is plain, is brown, and is regular length\"\n",
            "/home/sejong/Desktop/junseok/SPRC/musinsa/snap/men/coat/78dbd7a26b284751bd887222d5b005f4.jpg /home/sejong/Desktop/junseok/SPRC/musinsa/goods/men/coat/오버사이즈 맥시 울 싱글 코트 다크네이비.jpg\n"
          ]
        },
        {
          "name": "stderr",
          "output_type": "stream",
          "text": [
            "coat-train:  44%|████▍     | 178/400 [11:02<12:52,  3.48s/it]"
          ]
        },
        {
          "name": "stdout",
          "output_type": "stream",
          "text": [
            "\"is plain, is navy, and is long length\"\n",
            "/home/sejong/Desktop/junseok/SPRC/musinsa/snap/men/coat/10eebeaa1b084ae38d12cc80fd61d54f.jpg /home/sejong/Desktop/junseok/SPRC/musinsa/goods/men/coat/두굿_하프코트 - 3color MXCA7103.jpg\n"
          ]
        },
        {
          "name": "stderr",
          "output_type": "stream",
          "text": [
            "coat-train:  45%|████▍     | 179/400 [11:06<13:26,  3.65s/it]"
          ]
        },
        {
          "name": "stdout",
          "output_type": "stream",
          "text": [
            "\"is gray and regular length\"\n",
            "/home/sejong/Desktop/junseok/SPRC/musinsa/snap/men/coat/2022020311475600000051187.jpg /home/sejong/Desktop/junseok/SPRC/musinsa/goods/men/coat/[넌블랭크 X 삭형] 캐시미어 블렌드 싱글 코트_BLACK.jpg\n"
          ]
        },
        {
          "name": "stderr",
          "output_type": "stream",
          "text": [
            "coat-train:  45%|████▌     | 180/400 [11:10<13:18,  3.63s/it]"
          ]
        },
        {
          "name": "stdout",
          "output_type": "stream",
          "text": [
            "\"is black and regular length\"\n",
            "/home/sejong/Desktop/junseok/SPRC/musinsa/snap/men/coat/81b7accfdc0e48a687b8d63d7eed9071.jpg /home/sejong/Desktop/junseok/SPRC/musinsa/goods/men/coat/헤어리 알파카 블렌드 대디 숄더 싱글 롱 코트 [그레이].jpg\n"
          ]
        },
        {
          "name": "stderr",
          "output_type": "stream",
          "text": [
            "coat-train:  45%|████▌     | 181/400 [11:14<14:04,  3.86s/it]"
          ]
        },
        {
          "name": "stdout",
          "output_type": "stream",
          "text": [
            "\"is gray and long length\"\n",
            "/home/sejong/Desktop/junseok/SPRC/musinsa/snap/men/coat/bfaa2707a9ea4cf59d78e2d10cc52280.jpg /home/sejong/Desktop/junseok/SPRC/musinsa/goods/men/coat/[무료반품] 남성 중기장 코트 [네이비].jpg\n"
          ]
        },
        {
          "name": "stderr",
          "output_type": "stream",
          "text": [
            "coat-train:  46%|████▌     | 182/400 [11:17<13:00,  3.58s/it]"
          ]
        },
        {
          "name": "stdout",
          "output_type": "stream",
          "text": [
            "\"is navy and regular length\"\n",
            "/home/sejong/Desktop/junseok/SPRC/musinsa/snap/men/coat/2023020915270400000091221.jpg /home/sejong/Desktop/junseok/SPRC/musinsa/goods/men/coat/Inverted Pleats Wool Coat - Grey DT A44.jpg\n"
          ]
        },
        {
          "name": "stderr",
          "output_type": "stream",
          "text": [
            "coat-train:  46%|████▌     | 183/400 [11:24<16:12,  4.48s/it]"
          ]
        },
        {
          "name": "stdout",
          "output_type": "stream",
          "text": [
            "\"has a checkered pattern, is gray, and is regular length\"\n",
            "/home/sejong/Desktop/junseok/SPRC/musinsa/snap/men/coat/78dbd7a26b284751bd887222d5b005f4.jpg /home/sejong/Desktop/junseok/SPRC/musinsa/goods/men/coat/Fine wool short coat (black).jpg\n"
          ]
        },
        {
          "name": "stderr",
          "output_type": "stream",
          "text": [
            "coat-train:  46%|████▌     | 184/400 [11:28<16:04,  4.47s/it]"
          ]
        },
        {
          "name": "stdout",
          "output_type": "stream",
          "text": [
            "\"is black, regular length, and regular fit\"\n",
            "/home/sejong/Desktop/junseok/SPRC/musinsa/snap/men/coat/2021021810483400000083951.jpg /home/sejong/Desktop/junseok/SPRC/musinsa/goods/men/coat/FINE MASTER BALMACAAN COAT (ARMY GREEN).jpg\n"
          ]
        },
        {
          "name": "stderr",
          "output_type": "stream",
          "text": [
            "coat-train:  46%|████▋     | 185/400 [11:31<14:15,  3.98s/it]"
          ]
        },
        {
          "name": "stdout",
          "output_type": "stream",
          "text": [
            "\"is dark green and oversized fit\"\n",
            "/home/sejong/Desktop/junseok/SPRC/musinsa/snap/men/coat/88f203103bab4bd487248fb31fcb5208.jpg /home/sejong/Desktop/junseok/SPRC/musinsa/goods/men/coat/[WOOL 80] 울 세미오버핏 발마칸 코트_네이비.jpg\n"
          ]
        },
        {
          "name": "stderr",
          "output_type": "stream",
          "text": [
            "coat-train:  46%|████▋     | 186/400 [11:35<13:31,  3.79s/it]"
          ]
        },
        {
          "name": "stdout",
          "output_type": "stream",
          "text": [
            "\"is regular length\"\n",
            "/home/sejong/Desktop/junseok/SPRC/musinsa/snap/men/coat/f671bbb76abe4c028e315a5a0fe9d61b.jpg /home/sejong/Desktop/junseok/SPRC/musinsa/goods/men/coat/오버사이즈 체스터 필드 코트 차콜.jpg\n"
          ]
        },
        {
          "name": "stderr",
          "output_type": "stream",
          "text": [
            "coat-train:  47%|████▋     | 187/400 [11:38<13:36,  3.84s/it]"
          ]
        },
        {
          "name": "stdout",
          "output_type": "stream",
          "text": [
            "\"is gray and long length\"\n",
            "/home/sejong/Desktop/junseok/SPRC/musinsa/snap/men/coat/bfaa2707a9ea4cf59d78e2d10cc52280.jpg /home/sejong/Desktop/junseok/SPRC/musinsa/goods/men/coat/City Wool Half Coat (Charcoal).jpg\n"
          ]
        },
        {
          "name": "stderr",
          "output_type": "stream",
          "text": [
            "coat-train:  47%|████▋     | 188/400 [11:43<14:13,  4.02s/it]"
          ]
        },
        {
          "name": "stdout",
          "output_type": "stream",
          "text": [
            "\"has a herringbone pattern and is gray\"\n",
            "/home/sejong/Desktop/junseok/SPRC/musinsa/snap/men/coat/d08d034131d4483ca76bdadc5ff43d8f.jpg /home/sejong/Desktop/junseok/SPRC/musinsa/goods/men/coat/울캐시 베이직 누빔안감 체스터코트 네이비 RMDMBH60A.jpg\n"
          ]
        },
        {
          "name": "stderr",
          "output_type": "stream",
          "text": [
            "coat-train:  47%|████▋     | 189/400 [11:46<13:02,  3.71s/it]"
          ]
        },
        {
          "name": "stdout",
          "output_type": "stream",
          "text": [
            "\"is plain, is black, and is long length\"\n",
            "/home/sejong/Desktop/junseok/SPRC/musinsa/snap/men/coat/0002cd29ccfa46b29fce8d9b1c0fab29.jpg /home/sejong/Desktop/junseok/SPRC/musinsa/goods/men/coat/캐시미어 히든 싱글 코트_DARK BROWN.jpg\n"
          ]
        },
        {
          "name": "stderr",
          "output_type": "stream",
          "text": [
            "coat-train:  48%|████▊     | 190/400 [11:49<12:20,  3.53s/it]"
          ]
        },
        {
          "name": "stdout",
          "output_type": "stream",
          "text": [
            "\"is black and long length\"\n",
            "/home/sejong/Desktop/junseok/SPRC/musinsa/snap/men/coat/2019020715474800000075318.jpg /home/sejong/Desktop/junseok/SPRC/musinsa/goods/men/coat/[MTR] 캐시미어 30 테일러드 코트 [블랙].jpg\n"
          ]
        },
        {
          "name": "stderr",
          "output_type": "stream",
          "text": [
            "coat-train:  48%|████▊     | 191/400 [11:52<12:15,  3.52s/it]"
          ]
        },
        {
          "name": "stdout",
          "output_type": "stream",
          "text": [
            "\"is black and long length\"\n",
            "/home/sejong/Desktop/junseok/SPRC/musinsa/snap/men/coat/bde8bfbb11ca4c068eba29d0fd36c85d.jpg /home/sejong/Desktop/junseok/SPRC/musinsa/goods/men/coat/125CM 슈퍼 롱 유니섹스 발마칸 코트 다크네이비.jpg\n"
          ]
        },
        {
          "name": "stderr",
          "output_type": "stream",
          "text": [
            "coat-train:  48%|████▊     | 192/400 [11:56<12:13,  3.53s/it]"
          ]
        },
        {
          "name": "stdout",
          "output_type": "stream",
          "text": [
            "\"is plain, is navy, and is long length\"\n",
            "/home/sejong/Desktop/junseok/SPRC/musinsa/snap/men/coat/5bb78fb67b57492b94fff038ad18362a.jpg /home/sejong/Desktop/junseok/SPRC/musinsa/goods/men/coat/3버튼 체스터필드 울 싱글 코트_브라운.jpg\n"
          ]
        },
        {
          "name": "stderr",
          "output_type": "stream",
          "text": [
            "coat-train:  48%|████▊     | 193/400 [12:02<14:44,  4.27s/it]"
          ]
        },
        {
          "name": "stdout",
          "output_type": "stream",
          "text": [
            "\"is regular length and oversized fit\"\n",
            "/home/sejong/Desktop/junseok/SPRC/musinsa/snap/men/coat/2022020310113200000054770.jpg /home/sejong/Desktop/junseok/SPRC/musinsa/goods/men/coat/더블 페이스 재킷 - 네이비 _ HJK200WV0022430.jpg\n"
          ]
        },
        {
          "name": "stderr",
          "output_type": "stream",
          "text": [
            "coat-train:  48%|████▊     | 194/400 [12:05<13:41,  3.99s/it]"
          ]
        },
        {
          "name": "stdout",
          "output_type": "stream",
          "text": [
            "\"is regular length and regular fit\"\n",
            "/home/sejong/Desktop/junseok/SPRC/musinsa/snap/men/coat/bfaa2707a9ea4cf59d78e2d10cc52280.jpg /home/sejong/Desktop/junseok/SPRC/musinsa/goods/men/coat/남성 발마칸 숏코트_ZD4CT020_OTM.jpg\n"
          ]
        },
        {
          "name": "stderr",
          "output_type": "stream",
          "text": [
            "coat-train:  49%|████▉     | 195/400 [12:09<13:35,  3.98s/it]"
          ]
        },
        {
          "name": "stdout",
          "output_type": "stream",
          "text": [
            "\"is plain, is white, and is regular length\"\n",
            "/home/sejong/Desktop/junseok/SPRC/musinsa/snap/men/coat/2020021810191800000013655.jpg /home/sejong/Desktop/junseok/SPRC/musinsa/goods/men/coat/울 싱글 코트 릴렉스드 실루엣.jpg\n"
          ]
        },
        {
          "name": "stderr",
          "output_type": "stream",
          "text": [
            "coat-train:  49%|████▉     | 196/400 [12:13<12:57,  3.81s/it]"
          ]
        },
        {
          "name": "stdout",
          "output_type": "stream",
          "text": [
            "\"is black and oversized fit\"\n",
            "/home/sejong/Desktop/junseok/SPRC/musinsa/snap/men/coat/ea63c334200c459ab2c3442b1bb9f7a8.jpg /home/sejong/Desktop/junseok/SPRC/musinsa/goods/men/coat/싱글 핸드메이드 코트 (다크그레이).jpg\n"
          ]
        },
        {
          "name": "stderr",
          "output_type": "stream",
          "text": [
            "coat-train:  49%|████▉     | 197/400 [12:17<13:08,  3.88s/it]"
          ]
        },
        {
          "name": "stdout",
          "output_type": "stream",
          "text": [
            "\"is black, long length, and regular fit\"\n",
            "/home/sejong/Desktop/junseok/SPRC/musinsa/snap/men/coat/2022022209322900000017081.jpg /home/sejong/Desktop/junseok/SPRC/musinsa/goods/men/coat/3버튼 체스터필드 울 싱글 코트_브라운.jpg\n"
          ]
        },
        {
          "name": "stderr",
          "output_type": "stream",
          "text": [
            "coat-train:  50%|████▉     | 198/400 [12:20<12:25,  3.69s/it]"
          ]
        },
        {
          "name": "stdout",
          "output_type": "stream",
          "text": [
            "\"is brown and long length\"\n",
            "/home/sejong/Desktop/junseok/SPRC/musinsa/snap/men/coat/2022020310113200000054770.jpg /home/sejong/Desktop/junseok/SPRC/musinsa/goods/men/coat/[최대 1.2만원 할인] Voyager Bold Balmacaan Coat (Heather Charcoal).jpg\n"
          ]
        },
        {
          "name": "stderr",
          "output_type": "stream",
          "text": [
            "coat-train:  50%|████▉     | 199/400 [12:24<12:11,  3.64s/it]"
          ]
        },
        {
          "name": "stdout",
          "output_type": "stream",
          "text": [
            "\"is gray and regular length\"\n",
            "/home/sejong/Desktop/junseok/SPRC/musinsa/snap/men/coat/2021021609263200000003846.jpg /home/sejong/Desktop/junseok/SPRC/musinsa/goods/men/coat/울 블렌드 P 코트 NAEW0-MCH260_410.jpg\n"
          ]
        },
        {
          "name": "stderr",
          "output_type": "stream",
          "text": [
            "coat-train:  50%|█████     | 200/400 [12:27<11:44,  3.52s/it]"
          ]
        },
        {
          "name": "stdout",
          "output_type": "stream",
          "text": [
            "\"is plain, is navy, and is oversized fit\"\n",
            "/home/sejong/Desktop/junseok/SPRC/musinsa/snap/men/coat/153cb4a07e744188aead3f01709e0dba.jpg /home/sejong/Desktop/junseok/SPRC/musinsa/goods/men/coat/울 배색 카라 롱코트.jpg\n"
          ]
        },
        {
          "name": "stderr",
          "output_type": "stream",
          "text": [
            "coat-train:  50%|█████     | 201/400 [12:31<12:44,  3.84s/it]"
          ]
        },
        {
          "name": "stdout",
          "output_type": "stream",
          "text": [
            "\"is regular length and has a herringbone pattern\"\n",
            "/home/sejong/Desktop/junseok/SPRC/musinsa/snap/men/coat/2022021711004300000048128.jpg /home/sejong/Desktop/junseok/SPRC/musinsa/goods/men/coat/HAND STITCH HOODIE MAXI WOOL COAT (CHARCOAL).jpg\n"
          ]
        },
        {
          "name": "stderr",
          "output_type": "stream",
          "text": [
            "coat-train:  50%|█████     | 202/400 [12:35<12:15,  3.71s/it]"
          ]
        },
        {
          "name": "stdout",
          "output_type": "stream",
          "text": [
            "\"is black and long length\"\n",
            "/home/sejong/Desktop/junseok/SPRC/musinsa/snap/men/coat/list.staff_65ceebd63cb03.jpg /home/sejong/Desktop/junseok/SPRC/musinsa/goods/men/coat/오버사이즈 맥시 울 싱글 코트 차콜.jpg\n"
          ]
        },
        {
          "name": "stderr",
          "output_type": "stream",
          "text": [
            "coat-train:  51%|█████     | 203/400 [12:39<12:52,  3.92s/it]"
          ]
        },
        {
          "name": "stdout",
          "output_type": "stream",
          "text": [
            "\"is gray and long length\"\n",
            "/home/sejong/Desktop/junseok/SPRC/musinsa/snap/men/coat/f2c9254ca6ff45a1a3d64ae99ebd1aaf.jpg /home/sejong/Desktop/junseok/SPRC/musinsa/goods/men/coat/HAND STITCH HOODIE MAXI WOOL COAT (BROWN).jpg\n"
          ]
        },
        {
          "name": "stderr",
          "output_type": "stream",
          "text": [
            "coat-train:  51%|█████     | 204/400 [12:43<12:20,  3.78s/it]"
          ]
        },
        {
          "name": "stdout",
          "output_type": "stream",
          "text": [
            "\"is brown and long length\"\n",
            "/home/sejong/Desktop/junseok/SPRC/musinsa/snap/men/coat/2022020815550700000088484.jpg /home/sejong/Desktop/junseok/SPRC/musinsa/goods/men/coat/유니섹스 플랙스 롱 오버핏 코트 다크베이지.jpg\n"
          ]
        },
        {
          "name": "stderr",
          "output_type": "stream",
          "text": [
            "coat-train:  51%|█████▏    | 205/400 [12:46<11:54,  3.66s/it]"
          ]
        },
        {
          "name": "stdout",
          "output_type": "stream",
          "text": [
            "\"is regular length and oversized fit\"\n",
            "/home/sejong/Desktop/junseok/SPRC/musinsa/snap/men/coat/becde9f46a854ac0afaa778e7f8c3efe.jpg /home/sejong/Desktop/junseok/SPRC/musinsa/goods/men/coat/웰링턴 알파카 발마칸 롱 코트 (멜란지 브라운).jpg\n"
          ]
        },
        {
          "name": "stderr",
          "output_type": "stream",
          "text": [
            "coat-train:  52%|█████▏    | 206/400 [12:50<12:13,  3.78s/it]"
          ]
        },
        {
          "name": "stdout",
          "output_type": "stream",
          "text": [
            "\"is gray and long length\"\n",
            "/home/sejong/Desktop/junseok/SPRC/musinsa/snap/men/coat/3c9be7e7832449a59ccac815dca6eaf2.jpg /home/sejong/Desktop/junseok/SPRC/musinsa/goods/men/coat/DEUS HIGHNECK COAT D_NAVY.jpg\n"
          ]
        },
        {
          "name": "stderr",
          "output_type": "stream",
          "text": [
            "coat-train:  52%|█████▏    | 207/400 [12:55<13:09,  4.09s/it]"
          ]
        },
        {
          "name": "stdout",
          "output_type": "stream",
          "text": [
            "\"is black and long length\"\n",
            "/home/sejong/Desktop/junseok/SPRC/musinsa/snap/men/coat/bb9dc2cd6cf0484ca76bae49281cbcc1.jpg /home/sejong/Desktop/junseok/SPRC/musinsa/goods/men/coat/WYATT CHECK BALMACAAN COAT BROWN.jpg\n"
          ]
        },
        {
          "name": "stderr",
          "output_type": "stream",
          "text": [
            "coat-train:  52%|█████▏    | 208/400 [12:59<12:51,  4.02s/it]"
          ]
        },
        {
          "name": "stdout",
          "output_type": "stream",
          "text": [
            "\"has a checkered pattern and is long length\"\n",
            "/home/sejong/Desktop/junseok/SPRC/musinsa/snap/men/coat/2020021810191800000013655.jpg /home/sejong/Desktop/junseok/SPRC/musinsa/goods/men/coat/하프 울 코트.jpg\n"
          ]
        },
        {
          "name": "stderr",
          "output_type": "stream",
          "text": [
            "coat-train:  52%|█████▏    | 209/400 [13:07<16:42,  5.25s/it]"
          ]
        },
        {
          "name": "stdout",
          "output_type": "stream",
          "text": [
            "\"is gray and regular length\"\n",
            "/home/sejong/Desktop/junseok/SPRC/musinsa/snap/men/coat/fa9c45393e4248b898f96b1ac1833f1d.jpg /home/sejong/Desktop/junseok/SPRC/musinsa/goods/men/coat/핸드메이드 하프 발마칸 코트 네이비 (BASIC).jpg\n"
          ]
        },
        {
          "name": "stderr",
          "output_type": "stream",
          "text": [
            "coat-train:  52%|█████▎    | 210/400 [13:12<16:16,  5.14s/it]"
          ]
        },
        {
          "name": "stdout",
          "output_type": "stream",
          "text": [
            "\"is black and long length\"\n",
            "/home/sejong/Desktop/junseok/SPRC/musinsa/snap/men/coat/ea63c334200c459ab2c3442b1bb9f7a8.jpg /home/sejong/Desktop/junseok/SPRC/musinsa/goods/men/coat/Primo 파일럿 코트_AHCAW24612BED.jpg\n"
          ]
        },
        {
          "name": "stderr",
          "output_type": "stream",
          "text": [
            "coat-train:  53%|█████▎    | 211/400 [13:15<14:32,  4.62s/it]"
          ]
        },
        {
          "name": "stdout",
          "output_type": "stream",
          "text": [
            "\"is regular length and regular fit\"\n",
            "/home/sejong/Desktop/junseok/SPRC/musinsa/snap/men/coat/2022020815550700000088484.jpg /home/sejong/Desktop/junseok/SPRC/musinsa/goods/men/coat/[MEN] 후디 롱 벨티드 코트_챠콜 9154411991.jpg\n"
          ]
        },
        {
          "name": "stderr",
          "output_type": "stream",
          "text": [
            "coat-train:  53%|█████▎    | 212/400 [13:19<13:17,  4.24s/it]"
          ]
        },
        {
          "name": "stdout",
          "output_type": "stream",
          "text": [
            "\"is gray and long length\"\n",
            "/home/sejong/Desktop/junseok/SPRC/musinsa/snap/men/coat/5d78e8e340604f5eaf8c37f23a214115.jpg /home/sejong/Desktop/junseok/SPRC/musinsa/goods/men/coat/레벨 맥 롱 코트 - 브라운.jpg\n"
          ]
        },
        {
          "name": "stderr",
          "output_type": "stream",
          "text": [
            "coat-train:  53%|█████▎    | 213/400 [13:22<12:33,  4.03s/it]"
          ]
        },
        {
          "name": "stdout",
          "output_type": "stream",
          "text": [
            "\"is brown and regular length\"\n",
            "/home/sejong/Desktop/junseok/SPRC/musinsa/snap/men/coat/bc23ff58270e4703a2c988168b8dae49.jpg /home/sejong/Desktop/junseok/SPRC/musinsa/goods/men/coat/캐시미어 블렌드 발마칸 코트_CHARCOAL GREY.jpg\n"
          ]
        },
        {
          "name": "stderr",
          "output_type": "stream",
          "text": [
            "coat-train:  54%|█████▎    | 214/400 [13:26<12:25,  4.01s/it]"
          ]
        },
        {
          "name": "stdout",
          "output_type": "stream",
          "text": [
            "\"is gray and regular length\"\n",
            "/home/sejong/Desktop/junseok/SPRC/musinsa/snap/men/coat/bb9dc2cd6cf0484ca76bae49281cbcc1.jpg /home/sejong/Desktop/junseok/SPRC/musinsa/goods/men/coat/오버사이즈 아웃 포켓 펠트 맥코트_블랙.jpg\n"
          ]
        },
        {
          "name": "stderr",
          "output_type": "stream",
          "text": [
            "coat-train:  54%|█████▍    | 215/400 [13:31<13:15,  4.30s/it]"
          ]
        },
        {
          "name": "stdout",
          "output_type": "stream",
          "text": [
            "\"is black and long length\"\n",
            "/home/sejong/Desktop/junseok/SPRC/musinsa/snap/men/coat/1517450919_43fff8494b68d7f140e2377ae73ac5aa.jpg /home/sejong/Desktop/junseok/SPRC/musinsa/goods/men/coat/WOOL BALANCE SINGLE COAT (DARK GRAY).jpg\n"
          ]
        },
        {
          "name": "stderr",
          "output_type": "stream",
          "text": [
            "coat-train:  54%|█████▍    | 216/400 [13:34<11:53,  3.88s/it]"
          ]
        },
        {
          "name": "stdout",
          "output_type": "stream",
          "text": [
            "\"is gray and regular length\"\n",
            "/home/sejong/Desktop/junseok/SPRC/musinsa/snap/men/coat/b3712edceca247cba40c6b1016debbd4.jpg /home/sejong/Desktop/junseok/SPRC/musinsa/goods/men/coat/[프리미엄] MTR 오버사이즈 발마칸 코트 [다크 브라운].jpg\n"
          ]
        },
        {
          "name": "stderr",
          "output_type": "stream",
          "text": [
            "coat-train:  54%|█████▍    | 217/400 [13:38<12:23,  4.06s/it]"
          ]
        },
        {
          "name": "stdout",
          "output_type": "stream",
          "text": [
            "\"is gray and long length\"\n",
            "/home/sejong/Desktop/junseok/SPRC/musinsa/snap/men/coat/list.staff_603d8a189cfa2.jpg /home/sejong/Desktop/junseok/SPRC/musinsa/goods/men/coat/캐시미어 블렌드 하이넥 코트 3color.jpg\n"
          ]
        },
        {
          "name": "stderr",
          "output_type": "stream",
          "text": [
            "coat-train:  55%|█████▍    | 218/400 [13:42<11:41,  3.85s/it]"
          ]
        },
        {
          "name": "stdout",
          "output_type": "stream",
          "text": [
            "\"is black, long length, and regular fit\"\n",
            "/home/sejong/Desktop/junseok/SPRC/musinsa/snap/men/coat/b65b618be4ec4c4fb846655bc0750141.jpg /home/sejong/Desktop/junseok/SPRC/musinsa/goods/men/coat/타임리스 와이드 라펠 코트 블랙 ZG6CT605BK.jpg\n"
          ]
        },
        {
          "name": "stderr",
          "output_type": "stream",
          "text": [
            "coat-train:  55%|█████▍    | 219/400 [13:46<11:50,  3.92s/it]"
          ]
        },
        {
          "name": "stdout",
          "output_type": "stream",
          "text": [
            "\"is black and long length\"\n",
            "/home/sejong/Desktop/junseok/SPRC/musinsa/snap/men/coat/27c1ad3f0d6f4402bdafd1d5353bcae2.jpg /home/sejong/Desktop/junseok/SPRC/musinsa/goods/men/coat/FINE MASTER BALMACAAN COAT (DARK NAVY).jpg\n"
          ]
        },
        {
          "name": "stderr",
          "output_type": "stream",
          "text": [
            "coat-train:  55%|█████▌    | 220/400 [13:49<11:10,  3.73s/it]"
          ]
        },
        {
          "name": "stdout",
          "output_type": "stream",
          "text": [
            "\"is black and regular length\"\n",
            "/home/sejong/Desktop/junseok/SPRC/musinsa/snap/men/coat/0641751a8b0d44ffb8acfaa01d567125.jpg /home/sejong/Desktop/junseok/SPRC/musinsa/goods/men/coat/웰링턴 알파카 발마칸 롱 코트 (블랙).jpg\n"
          ]
        },
        {
          "name": "stderr",
          "output_type": "stream",
          "text": [
            "coat-train:  55%|█████▌    | 221/400 [13:52<10:27,  3.51s/it]"
          ]
        },
        {
          "name": "stdout",
          "output_type": "stream",
          "text": [
            "\"is black and regular length\"\n",
            "/home/sejong/Desktop/junseok/SPRC/musinsa/snap/men/coat/2022020815550700000088484.jpg /home/sejong/Desktop/junseok/SPRC/musinsa/goods/men/coat/CB 오버핏 체크 싱글 롱 코트  (브라운).jpg\n"
          ]
        },
        {
          "name": "stderr",
          "output_type": "stream",
          "text": [
            "coat-train:  56%|█████▌    | 222/400 [13:56<10:30,  3.54s/it]"
          ]
        },
        {
          "name": "stdout",
          "output_type": "stream",
          "text": [
            "\"has a checkered pattern and is long length\"\n",
            "/home/sejong/Desktop/junseok/SPRC/musinsa/snap/men/coat/2021021609285500000086705.jpg /home/sejong/Desktop/junseok/SPRC/musinsa/goods/men/coat/남성) 캐시미어 블렌드 싱글 코트(핸드메이드)_AAD4CG1501BK.jpg\n"
          ]
        },
        {
          "name": "stderr",
          "output_type": "stream",
          "text": [
            "coat-train:  56%|█████▌    | 223/400 [13:59<10:26,  3.54s/it]"
          ]
        },
        {
          "name": "stdout",
          "output_type": "stream",
          "text": [
            "\"is black and long length\"\n",
            "/home/sejong/Desktop/junseok/SPRC/musinsa/snap/men/coat/d8bd41a1c2454e2cb51169df5b58d07d.jpg /home/sejong/Desktop/junseok/SPRC/musinsa/goods/men/coat/카라리스 프론트 커버 코트 카키.jpg\n"
          ]
        },
        {
          "name": "stderr",
          "output_type": "stream",
          "text": [
            "coat-train:  56%|█████▌    | 224/400 [14:03<10:51,  3.70s/it]"
          ]
        },
        {
          "name": "stdout",
          "output_type": "stream",
          "text": [
            "\"is long length and oversized fit\"\n",
            "/home/sejong/Desktop/junseok/SPRC/musinsa/snap/men/coat/2023021515300400000071452.jpg /home/sejong/Desktop/junseok/SPRC/musinsa/goods/men/coat/Tyler Chesterfield Coat - BLACK.jpg\n"
          ]
        },
        {
          "name": "stderr",
          "output_type": "stream",
          "text": [
            "coat-train:  56%|█████▋    | 225/400 [14:06<10:01,  3.44s/it]"
          ]
        },
        {
          "name": "stdout",
          "output_type": "stream",
          "text": [
            "\"is black and long length\"\n",
            "/home/sejong/Desktop/junseok/SPRC/musinsa/snap/men/coat/e5f4e5d3b36041eea63fa89af116f721.jpg /home/sejong/Desktop/junseok/SPRC/musinsa/goods/men/coat/EVE SINGLE COAT - CAMEL.jpg\n"
          ]
        },
        {
          "name": "stderr",
          "output_type": "stream",
          "text": [
            "coat-train:  56%|█████▋    | 226/400 [14:09<09:43,  3.35s/it]"
          ]
        },
        {
          "name": "stdout",
          "output_type": "stream",
          "text": [
            "\"is brown and regular length\"\n",
            "/home/sejong/Desktop/junseok/SPRC/musinsa/snap/men/coat/2022021810442400000069284.jpg /home/sejong/Desktop/junseok/SPRC/musinsa/goods/men/coat/Wool Blended Single Coat in Black VW2WH705-10.jpg\n"
          ]
        },
        {
          "name": "stderr",
          "output_type": "stream",
          "text": [
            "coat-train:  57%|█████▋    | 227/400 [14:13<09:41,  3.36s/it]"
          ]
        },
        {
          "name": "stdout",
          "output_type": "stream",
          "text": [
            "\"is black and long length\"\n",
            "/home/sejong/Desktop/junseok/SPRC/musinsa/snap/men/coat/2022020311475600000051187.jpg /home/sejong/Desktop/junseok/SPRC/musinsa/goods/men/coat/[최대 1.2만원 할인] Voyager Bold Balmacaan Coat (Black).jpg\n"
          ]
        },
        {
          "name": "stderr",
          "output_type": "stream",
          "text": [
            "coat-train:  57%|█████▋    | 228/400 [14:16<09:15,  3.23s/it]"
          ]
        },
        {
          "name": "stdout",
          "output_type": "stream",
          "text": [
            "\"is black and oversized fit\"\n",
            "/home/sejong/Desktop/junseok/SPRC/musinsa/snap/men/coat/2020021810191800000013655.jpg /home/sejong/Desktop/junseok/SPRC/musinsa/goods/men/coat/웰링턴 알파카 발마칸 롱 코트 (멜란지 브라운).jpg\n"
          ]
        },
        {
          "name": "stderr",
          "output_type": "stream",
          "text": [
            "coat-train:  57%|█████▋    | 229/400 [14:20<10:19,  3.62s/it]"
          ]
        },
        {
          "name": "stdout",
          "output_type": "stream",
          "text": [
            "\"is plain, is gray, and is long length\"\n",
            "/home/sejong/Desktop/junseok/SPRC/musinsa/snap/men/coat/2023021515300400000071452.jpg /home/sejong/Desktop/junseok/SPRC/musinsa/goods/men/coat/[WOOL 80] 울 세미오버핏 발마칸 코트_블랙.jpg\n"
          ]
        },
        {
          "name": "stderr",
          "output_type": "stream",
          "text": [
            "coat-train:  57%|█████▊    | 230/400 [14:23<09:45,  3.44s/it]"
          ]
        },
        {
          "name": "stdout",
          "output_type": "stream",
          "text": [
            "\"is gray and regular length\"\n",
            "/home/sejong/Desktop/junseok/SPRC/musinsa/snap/men/coat/e935056c58d541c6b5bb8354d5cc61e2.jpg /home/sejong/Desktop/junseok/SPRC/musinsa/goods/men/coat/OVERSIZED CASHMERE SINGLE COAT MELANGE CHARCOAL.jpg\n"
          ]
        },
        {
          "name": "stderr",
          "output_type": "stream",
          "text": [
            "coat-train:  58%|█████▊    | 231/400 [14:27<10:19,  3.67s/it]"
          ]
        },
        {
          "name": "stdout",
          "output_type": "stream",
          "text": [
            "\"is plain, is gray, and is regular length\"\n",
            "/home/sejong/Desktop/junseok/SPRC/musinsa/snap/men/coat/1ac47bc0d9414d20a5a94f04831069a2.jpg /home/sejong/Desktop/junseok/SPRC/musinsa/goods/men/coat/논노멀 하프코트 브라운.jpg\n"
          ]
        },
        {
          "name": "stderr",
          "output_type": "stream",
          "text": [
            "coat-train:  58%|█████▊    | 232/400 [14:32<10:38,  3.80s/it]"
          ]
        },
        {
          "name": "stdout",
          "output_type": "stream",
          "text": [
            "\"is no requirements, is brown, and is oversized fit\"\n",
            "/home/sejong/Desktop/junseok/SPRC/musinsa/snap/men/coat/2020021810191800000013655.jpg /home/sejong/Desktop/junseok/SPRC/musinsa/goods/men/coat/2WAY 디터쳐블 코트 SACAS25001BEX.jpg\n"
          ]
        },
        {
          "name": "stderr",
          "output_type": "stream",
          "text": [
            "coat-train:  58%|█████▊    | 233/400 [14:34<09:35,  3.44s/it]"
          ]
        },
        {
          "name": "stdout",
          "output_type": "stream",
          "text": [
            "\"is no requirements, is gray, and is regular length\"\n",
            "/home/sejong/Desktop/junseok/SPRC/musinsa/snap/men/coat/b4120b2afa9c4f3ea2299fa2ea72b5cd.jpg /home/sejong/Desktop/junseok/SPRC/musinsa/goods/men/coat/오버사이즈 발마칸 코트 [네이비].jpg\n"
          ]
        },
        {
          "name": "stderr",
          "output_type": "stream",
          "text": [
            "coat-train:  58%|█████▊    | 234/400 [14:37<09:26,  3.42s/it]"
          ]
        },
        {
          "name": "stdout",
          "output_type": "stream",
          "text": [
            "\"is plain, is navy, and is long length\"\n",
            "/home/sejong/Desktop/junseok/SPRC/musinsa/snap/men/coat/2dc96510371146aaa9b7d754f1239731.jpg /home/sejong/Desktop/junseok/SPRC/musinsa/goods/men/coat/Wool comfort Raglan Coat (Navy).jpg\n"
          ]
        },
        {
          "name": "stderr",
          "output_type": "stream",
          "text": [
            "coat-train:  59%|█████▉    | 235/400 [14:44<11:38,  4.23s/it]"
          ]
        },
        {
          "name": "stdout",
          "output_type": "stream",
          "text": [
            "\"is black and long length\"\n",
            "/home/sejong/Desktop/junseok/SPRC/musinsa/snap/men/coat/96e66231b8364c71807014159061c5c1.jpg /home/sejong/Desktop/junseok/SPRC/musinsa/goods/men/coat/울50% 오버핏 싱글 코트_아이보리.jpg\n"
          ]
        },
        {
          "name": "stderr",
          "output_type": "stream",
          "text": [
            "coat-train:  59%|█████▉    | 236/400 [14:49<12:24,  4.54s/it]"
          ]
        },
        {
          "name": "stdout",
          "output_type": "stream",
          "text": [
            "\"is gray and regular length\"\n",
            "/home/sejong/Desktop/junseok/SPRC/musinsa/snap/men/coat/bb9dc2cd6cf0484ca76bae49281cbcc1.jpg /home/sejong/Desktop/junseok/SPRC/musinsa/goods/men/coat/몬디알 울 오버 코트 - 네이비 _ MONDIALSNM683NAVY.jpg\n"
          ]
        },
        {
          "name": "stderr",
          "output_type": "stream",
          "text": [
            "coat-train:  59%|█████▉    | 237/400 [14:54<12:57,  4.77s/it]"
          ]
        },
        {
          "name": "stdout",
          "output_type": "stream",
          "text": [
            "\"is plain, is black, and is long length\"\n",
            "/home/sejong/Desktop/junseok/SPRC/musinsa/snap/men/coat/d3c13c2342a84167a1d9429d895352d3.jpg /home/sejong/Desktop/junseok/SPRC/musinsa/goods/men/coat/125CM 슈퍼 롱 유니섹스 발마칸 코트 블랙.jpg\n"
          ]
        },
        {
          "name": "stderr",
          "output_type": "stream",
          "text": [
            "coat-train:  60%|█████▉    | 238/400 [15:00<13:35,  5.03s/it]"
          ]
        },
        {
          "name": "stdout",
          "output_type": "stream",
          "text": [
            "\"is black and regular length\"\n",
            "/home/sejong/Desktop/junseok/SPRC/musinsa/snap/men/coat/2021020810471300000061882.jpg /home/sejong/Desktop/junseok/SPRC/musinsa/goods/men/coat/울 49% 싱글 맥시 롱코트.jpg\n"
          ]
        },
        {
          "name": "stderr",
          "output_type": "stream",
          "text": [
            "coat-train:  60%|█████▉    | 239/400 [15:04<13:06,  4.88s/it]"
          ]
        },
        {
          "name": "stdout",
          "output_type": "stream",
          "text": [
            "\"is black and long length\"\n",
            "/home/sejong/Desktop/junseok/SPRC/musinsa/snap/men/coat/a84958fac704499f822088635ac70c0d.jpg /home/sejong/Desktop/junseok/SPRC/musinsa/goods/men/coat/프리미어 퓨어 캐시미어 발마칸 코트 [D.NAVY].jpg\n"
          ]
        },
        {
          "name": "stderr",
          "output_type": "stream",
          "text": [
            "coat-train:  60%|██████    | 240/400 [15:07<11:37,  4.36s/it]"
          ]
        },
        {
          "name": "stdout",
          "output_type": "stream",
          "text": [
            "\"is plain, is navy, and is long length\"\n",
            "/home/sejong/Desktop/junseok/SPRC/musinsa/snap/men/coat/2019021216054500000050844.jpg /home/sejong/Desktop/junseok/SPRC/musinsa/goods/men/coat/울 49% 싱글 맥시 롱코트.jpg\n"
          ]
        },
        {
          "name": "stderr",
          "output_type": "stream",
          "text": [
            "coat-train:  60%|██████    | 241/400 [15:10<10:28,  3.95s/it]"
          ]
        },
        {
          "name": "stdout",
          "output_type": "stream",
          "text": [
            "\"is black and long length\"\n",
            "/home/sejong/Desktop/junseok/SPRC/musinsa/snap/men/coat/2019020715474800000075318.jpg /home/sejong/Desktop/junseok/SPRC/musinsa/goods/men/coat/GAW21105 차콜그레이 더블 6버튼 캐시미어 혼방 오버핏 코트.jpg\n"
          ]
        },
        {
          "name": "stderr",
          "output_type": "stream",
          "text": [
            "coat-train:  60%|██████    | 242/400 [15:13<09:21,  3.55s/it]"
          ]
        },
        {
          "name": "stdout",
          "output_type": "stream",
          "text": [
            "\"is black and long length\"\n",
            "/home/sejong/Desktop/junseok/SPRC/musinsa/snap/men/coat/list.staff_6267490e7ba39.jpg /home/sejong/Desktop/junseok/SPRC/musinsa/goods/men/coat/프리미어 울 발마칸 체스터 코트 [NAVY].jpg\n"
          ]
        },
        {
          "name": "stderr",
          "output_type": "stream",
          "text": [
            "coat-train:  61%|██████    | 243/400 [15:17<09:36,  3.67s/it]"
          ]
        },
        {
          "name": "stdout",
          "output_type": "stream",
          "text": [
            "\"is regular length and oversized fit\"\n",
            "/home/sejong/Desktop/junseok/SPRC/musinsa/snap/men/coat/d08d034131d4483ca76bdadc5ff43d8f.jpg /home/sejong/Desktop/junseok/SPRC/musinsa/goods/men/coat/울 블렌드 오버핏  더블코트 블랙.jpg\n"
          ]
        },
        {
          "name": "stderr",
          "output_type": "stream",
          "text": [
            "coat-train:  61%|██████    | 244/400 [15:20<09:17,  3.58s/it]"
          ]
        },
        {
          "name": "stdout",
          "output_type": "stream",
          "text": [
            "\"is black and regular length\"\n",
            "/home/sejong/Desktop/junseok/SPRC/musinsa/snap/men/coat/2022020312072000000054414.jpg /home/sejong/Desktop/junseok/SPRC/musinsa/goods/men/coat/Bonheur Cotton Balmacaan Coat (Khaki).jpg\n"
          ]
        },
        {
          "name": "stderr",
          "output_type": "stream",
          "text": [
            "coat-train:  61%|██████▏   | 245/400 [15:23<08:50,  3.42s/it]"
          ]
        },
        {
          "name": "stdout",
          "output_type": "stream",
          "text": [
            "\"is plain, is gray, and is regular length\"\n",
            "/home/sejong/Desktop/junseok/SPRC/musinsa/snap/men/coat/2022021412064300000038820.jpg /home/sejong/Desktop/junseok/SPRC/musinsa/goods/men/coat/남성 인버네스 세미 오버핏 발마칸 코트 (M-BEIGE) (HAAHC2A).jpg\n"
          ]
        },
        {
          "name": "stderr",
          "output_type": "stream",
          "text": [
            "coat-train:  62%|██████▏   | 246/400 [15:27<09:05,  3.54s/it]"
          ]
        },
        {
          "name": "stdout",
          "output_type": "stream",
          "text": [
            "\"is plain, is gray, and is long length\"\n",
            "/home/sejong/Desktop/junseok/SPRC/musinsa/snap/men/coat/1517451027_b09308cdf294d4d4fe9ac300576c4b4f.jpg /home/sejong/Desktop/junseok/SPRC/musinsa/goods/men/coat/Short mac coat (black).jpg\n"
          ]
        },
        {
          "name": "stderr",
          "output_type": "stream",
          "text": [
            "coat-train:  62%|██████▏   | 247/400 [15:31<08:56,  3.51s/it]"
          ]
        },
        {
          "name": "stdout",
          "output_type": "stream",
          "text": [
            "\"is black and regular fit\"\n",
            "/home/sejong/Desktop/junseok/SPRC/musinsa/snap/men/coat/d3c13c2342a84167a1d9429d895352d3.jpg /home/sejong/Desktop/junseok/SPRC/musinsa/goods/men/coat/싱글 트위드 맥시 코트 브라운 IECO4F001W2.jpg\n"
          ]
        },
        {
          "name": "stderr",
          "output_type": "stream",
          "text": [
            "coat-train:  62%|██████▏   | 248/400 [15:34<08:49,  3.49s/it]"
          ]
        },
        {
          "name": "stdout",
          "output_type": "stream",
          "text": [
            "\"is herringbone pattern, is brown, and is long length\"\n",
            "/home/sejong/Desktop/junseok/SPRC/musinsa/snap/men/coat/4ffd2c1a725646fc8eb6bceb3cda1c0a.jpg /home/sejong/Desktop/junseok/SPRC/musinsa/goods/men/coat/OVERSIZED CASHMERE SINGLE COAT MELANGE CHARCOAL.jpg\n"
          ]
        },
        {
          "name": "stderr",
          "output_type": "stream",
          "text": [
            "coat-train:  62%|██████▏   | 249/400 [15:38<08:45,  3.48s/it]"
          ]
        },
        {
          "name": "stdout",
          "output_type": "stream",
          "text": [
            "\"is black and regular length\"\n",
            "/home/sejong/Desktop/junseok/SPRC/musinsa/snap/men/coat/1e34a700b4da476197d5704e429989a8.jpg /home/sejong/Desktop/junseok/SPRC/musinsa/goods/men/coat/GAW21108 베이지 히든 2버튼 캐시미어 혼방 체스터코트.jpg\n"
          ]
        },
        {
          "name": "stderr",
          "output_type": "stream",
          "text": [
            "coat-train:  62%|██████▎   | 250/400 [15:40<08:07,  3.25s/it]"
          ]
        },
        {
          "name": "stdout",
          "output_type": "stream",
          "text": [
            "\"is regular length and regular fit\"\n",
            "/home/sejong/Desktop/junseok/SPRC/musinsa/snap/men/coat/2022021810442400000069284.jpg /home/sejong/Desktop/junseok/SPRC/musinsa/goods/men/coat/히티트울 발마칸 코트(Wool 60)_베이지브라운.jpg\n"
          ]
        },
        {
          "name": "stderr",
          "output_type": "stream",
          "text": [
            "coat-train:  63%|██████▎   | 251/400 [15:43<07:59,  3.22s/it]"
          ]
        },
        {
          "name": "stdout",
          "output_type": "stream",
          "text": [
            "\"is gray and long length\"\n",
            "/home/sejong/Desktop/junseok/SPRC/musinsa/snap/men/coat/8efb4b647a76418d9928777deda9543a.jpg /home/sejong/Desktop/junseok/SPRC/musinsa/goods/men/coat/컨버터블 레이어 싱글 코트 블랙.jpg\n"
          ]
        },
        {
          "name": "stderr",
          "output_type": "stream",
          "text": [
            "coat-train:  63%|██████▎   | 252/400 [15:48<08:42,  3.53s/it]"
          ]
        },
        {
          "name": "stdout",
          "output_type": "stream",
          "text": [
            "\"is black and long length\"\n",
            "/home/sejong/Desktop/junseok/SPRC/musinsa/snap/men/coat/d5cc1edecaa9405ca48e9e1072412f68.jpg /home/sejong/Desktop/junseok/SPRC/musinsa/goods/men/coat/Classic Long Coat_Greyish Khaki.jpg\n"
          ]
        },
        {
          "name": "stderr",
          "output_type": "stream",
          "text": [
            "coat-train:  63%|██████▎   | 253/400 [15:52<09:20,  3.81s/it]"
          ]
        },
        {
          "name": "stdout",
          "output_type": "stream",
          "text": [
            "\"is gray and regular length\"\n",
            "/home/sejong/Desktop/junseok/SPRC/musinsa/snap/men/coat/list.staff_603d8a189cfa2.jpg /home/sejong/Desktop/junseok/SPRC/musinsa/goods/men/coat/[프리미엄] 캐시미어 20 오버사이즈 싱글 코트 [차콜 그레이].jpg\n"
          ]
        },
        {
          "name": "stderr",
          "output_type": "stream",
          "text": [
            "coat-train:  64%|██████▎   | 254/400 [15:55<08:34,  3.52s/it]"
          ]
        },
        {
          "name": "stdout",
          "output_type": "stream",
          "text": [
            "\"is gray, long length, and regular fit\"\n",
            "/home/sejong/Desktop/junseok/SPRC/musinsa/snap/men/coat/1e6a320a1c9e4174b31a68c8458bf18c.jpg /home/sejong/Desktop/junseok/SPRC/musinsa/goods/men/coat/솔리스트 캐시미어 코트 BLACK.jpg\n"
          ]
        },
        {
          "name": "stderr",
          "output_type": "stream",
          "text": [
            "coat-train:  64%|██████▍   | 255/400 [15:58<08:09,  3.37s/it]"
          ]
        },
        {
          "name": "stdout",
          "output_type": "stream",
          "text": [
            "\"is black and regular length\"\n",
            "/home/sejong/Desktop/junseok/SPRC/musinsa/snap/men/coat/132b1d8a34b946fca335dfaf2bf05c3c.jpg /home/sejong/Desktop/junseok/SPRC/musinsa/goods/men/coat/[넌블랭크 x 삭형] 캐시미어 블렌드 싱글 코트_MELANGE GREY.jpg\n"
          ]
        },
        {
          "name": "stderr",
          "output_type": "stream",
          "text": [
            "coat-train:  64%|██████▍   | 256/400 [16:01<07:46,  3.24s/it]"
          ]
        },
        {
          "name": "stdout",
          "output_type": "stream",
          "text": [
            "\"is gray and long length\"\n",
            "/home/sejong/Desktop/junseok/SPRC/musinsa/snap/men/coat/75a9f9aa18164320b4a26d69b00fa657.jpg /home/sejong/Desktop/junseok/SPRC/musinsa/goods/men/coat/[프리미엄] MTR 대디 숄더 싱글 롱 코트 [블랙].jpg\n"
          ]
        },
        {
          "name": "stderr",
          "output_type": "stream",
          "text": [
            "coat-train:  64%|██████▍   | 257/400 [16:04<07:27,  3.13s/it]"
          ]
        },
        {
          "name": "stdout",
          "output_type": "stream",
          "text": [
            "\"is black and long length\"\n",
            "/home/sejong/Desktop/junseok/SPRC/musinsa/snap/men/coat/2020021010361400000053733.jpg /home/sejong/Desktop/junseok/SPRC/musinsa/goods/men/coat/Oversized Box Coat - Black.jpg\n"
          ]
        },
        {
          "name": "stderr",
          "output_type": "stream",
          "text": [
            "coat-train:  64%|██████▍   | 258/400 [16:07<07:03,  2.98s/it]"
          ]
        },
        {
          "name": "stdout",
          "output_type": "stream",
          "text": [
            "\"is black and oversized fit\"\n",
            "/home/sejong/Desktop/junseok/SPRC/musinsa/snap/men/coat/694ff9aa37194e5abc394d811d13ebf2.jpg /home/sejong/Desktop/junseok/SPRC/musinsa/goods/men/coat/오버사이즈 울 싱글 코트 4Color.jpg\n"
          ]
        },
        {
          "name": "stderr",
          "output_type": "stream",
          "text": [
            "coat-train:  65%|██████▍   | 259/400 [16:10<07:19,  3.12s/it]"
          ]
        },
        {
          "name": "stdout",
          "output_type": "stream",
          "text": [
            "\"is black and regular length\"\n",
            "/home/sejong/Desktop/junseok/SPRC/musinsa/snap/men/coat/2024032617262900000045501.jpg /home/sejong/Desktop/junseok/SPRC/musinsa/goods/men/coat/[오정규X드로우핏] 컨사이즈 울 원더 발마칸 코트 [MELANGE GREY].jpg\n"
          ]
        },
        {
          "name": "stderr",
          "output_type": "stream",
          "text": [
            "coat-train:  65%|██████▌   | 260/400 [16:13<07:25,  3.18s/it]"
          ]
        },
        {
          "name": "stdout",
          "output_type": "stream",
          "text": [
            "\"is gray and oversized fit\"\n",
            "/home/sejong/Desktop/junseok/SPRC/musinsa/snap/men/coat/2022020311475600000051187.jpg /home/sejong/Desktop/junseok/SPRC/musinsa/goods/men/coat/데일리 발마칸 코트 [네이비].jpg\n"
          ]
        },
        {
          "name": "stderr",
          "output_type": "stream",
          "text": [
            "coat-train:  65%|██████▌   | 261/400 [16:17<07:34,  3.27s/it]"
          ]
        },
        {
          "name": "stdout",
          "output_type": "stream",
          "text": [
            "\"is black and oversized fit\"\n",
            "/home/sejong/Desktop/junseok/SPRC/musinsa/snap/men/coat/2022021814061400000016850.jpg /home/sejong/Desktop/junseok/SPRC/musinsa/goods/men/coat/Black Wool Chesterfield Coat CWCAW24601BKX.jpg\n"
          ]
        },
        {
          "name": "stderr",
          "output_type": "stream",
          "text": [
            "coat-train:  66%|██████▌   | 262/400 [16:19<07:04,  3.08s/it]"
          ]
        },
        {
          "name": "stdout",
          "output_type": "stream",
          "text": [
            "\"is black and regular length\"\n",
            "/home/sejong/Desktop/junseok/SPRC/musinsa/snap/men/coat/1873a033e3454b4a9d9eadaaea05ad7c.jpg /home/sejong/Desktop/junseok/SPRC/musinsa/goods/men/coat/울혼방싱글코트 MWCA71N1.jpg\n"
          ]
        },
        {
          "name": "stderr",
          "output_type": "stream",
          "text": [
            "coat-train:  66%|██████▌   | 263/400 [16:23<07:14,  3.17s/it]"
          ]
        },
        {
          "name": "stdout",
          "output_type": "stream",
          "text": [
            "\"is plain, is white, and is long length\"\n",
            "/home/sejong/Desktop/junseok/SPRC/musinsa/snap/men/coat/a634622a38f5402c9ccce23d9d76d305.jpg /home/sejong/Desktop/junseok/SPRC/musinsa/goods/men/coat/Bonded Over Coat - GREY.jpg\n"
          ]
        },
        {
          "name": "stderr",
          "output_type": "stream",
          "text": [
            "coat-train:  66%|██████▌   | 264/400 [16:26<07:26,  3.29s/it]"
          ]
        },
        {
          "name": "stdout",
          "output_type": "stream",
          "text": [
            "\"is gray and oversized fit\"\n",
            "/home/sejong/Desktop/junseok/SPRC/musinsa/snap/men/coat/2021021810445500000005666.jpg /home/sejong/Desktop/junseok/SPRC/musinsa/goods/men/coat/[WOOL 80] 울 세미오버핏 발마칸 코트_브라운.jpg\n"
          ]
        },
        {
          "name": "stderr",
          "output_type": "stream",
          "text": [
            "coat-train:  66%|██████▋   | 265/400 [16:29<07:15,  3.23s/it]"
          ]
        },
        {
          "name": "stdout",
          "output_type": "stream",
          "text": [
            "\"is regular length and oversized fit\"\n",
            "/home/sejong/Desktop/junseok/SPRC/musinsa/snap/men/coat/2022030216013000000007583.jpg /home/sejong/Desktop/junseok/SPRC/musinsa/goods/men/coat/캐시미어 체스터 코트 BLACK.jpg\n"
          ]
        },
        {
          "name": "stderr",
          "output_type": "stream",
          "text": [
            "coat-train:  66%|██████▋   | 266/400 [16:33<07:06,  3.18s/it]"
          ]
        },
        {
          "name": "stdout",
          "output_type": "stream",
          "text": [
            "\"is black and long length\"\n",
            "/home/sejong/Desktop/junseok/SPRC/musinsa/snap/men/coat/4144f9d8a7ee411abcddb90b1ff78efb.jpg /home/sejong/Desktop/junseok/SPRC/musinsa/goods/men/coat/캐시라이크 숏코트 - 아이보리.jpg\n"
          ]
        },
        {
          "name": "stderr",
          "output_type": "stream",
          "text": [
            "coat-train:  67%|██████▋   | 267/400 [16:36<07:07,  3.21s/it]"
          ]
        },
        {
          "name": "stdout",
          "output_type": "stream",
          "text": [
            "\"is gray and regular fit\"\n",
            "/home/sejong/Desktop/junseok/SPRC/musinsa/snap/men/coat/e12f4f7ed4df4e9fbed7bd78453202e0.jpg /home/sejong/Desktop/junseok/SPRC/musinsa/goods/men/coat/GAW21128 OVER FIT.jpg\n"
          ]
        },
        {
          "name": "stderr",
          "output_type": "stream",
          "text": [
            "coat-train:  67%|██████▋   | 268/400 [16:39<07:13,  3.29s/it]"
          ]
        },
        {
          "name": "stdout",
          "output_type": "stream",
          "text": [
            "\"is black and regular length\"\n",
            "/home/sejong/Desktop/junseok/SPRC/musinsa/snap/men/coat/becde9f46a854ac0afaa778e7f8c3efe.jpg /home/sejong/Desktop/junseok/SPRC/musinsa/goods/men/coat/[Mmlg] UNION DONKEY COAT (CHARCOAL).jpg\n"
          ]
        },
        {
          "name": "stderr",
          "output_type": "stream",
          "text": [
            "coat-train:  67%|██████▋   | 269/400 [16:42<07:01,  3.22s/it]"
          ]
        },
        {
          "name": "stdout",
          "output_type": "stream",
          "text": [
            "\"is gray and oversized fit\"\n",
            "/home/sejong/Desktop/junseok/SPRC/musinsa/snap/men/coat/2024022113052900000049504.jpg /home/sejong/Desktop/junseok/SPRC/musinsa/goods/men/coat/볼드 테일러 미드 자켓 다크브라운 VP4WJ001.jpg\n"
          ]
        },
        {
          "name": "stderr",
          "output_type": "stream",
          "text": [
            "coat-train:  68%|██████▊   | 270/400 [16:46<07:18,  3.37s/it]"
          ]
        },
        {
          "name": "stdout",
          "output_type": "stream",
          "text": [
            "\"is oversized fit\"\n",
            "/home/sejong/Desktop/junseok/SPRC/musinsa/snap/men/coat/af721785d3ca438bbbf6e7559bc802c8.jpg /home/sejong/Desktop/junseok/SPRC/musinsa/goods/men/coat/프리미어 퓨어 캐시미어 히든 싱글 코트 [MOCHA BEIGE].jpg\n"
          ]
        },
        {
          "name": "stderr",
          "output_type": "stream",
          "text": [
            "coat-train:  68%|██████▊   | 271/400 [16:49<07:08,  3.33s/it]"
          ]
        },
        {
          "name": "stdout",
          "output_type": "stream",
          "text": [
            "\"is regular length and regular fit\"\n",
            "/home/sejong/Desktop/junseok/SPRC/musinsa/snap/men/coat/78dbd7a26b284751bd887222d5b005f4.jpg /home/sejong/Desktop/junseok/SPRC/musinsa/goods/men/coat/CNTT - 울30  싱글코트 (울 헤링본 블랙).jpg\n"
          ]
        },
        {
          "name": "stderr",
          "output_type": "stream",
          "text": [
            "coat-train:  68%|██████▊   | 272/400 [16:53<07:15,  3.41s/it]"
          ]
        },
        {
          "name": "stdout",
          "output_type": "stream",
          "text": [
            "\"is black and regular length\"\n",
            "/home/sejong/Desktop/junseok/SPRC/musinsa/snap/men/coat/acec174c29b74193a6405b20d8856549.jpg /home/sejong/Desktop/junseok/SPRC/musinsa/goods/men/coat/울 블랜디드 로브 코트_카키.jpg\n"
          ]
        },
        {
          "name": "stderr",
          "output_type": "stream",
          "text": [
            "coat-train:  68%|██████▊   | 273/400 [16:57<07:40,  3.62s/it]"
          ]
        },
        {
          "name": "stdout",
          "output_type": "stream",
          "text": [
            "\"is plain, is gray, and is long length\"\n",
            "/home/sejong/Desktop/junseok/SPRC/musinsa/snap/men/coat/2020021810191800000013655.jpg /home/sejong/Desktop/junseok/SPRC/musinsa/goods/men/coat/울캐시혼방 헤링본 싱글코트 네이비 RMLPBH58A.jpg\n"
          ]
        },
        {
          "name": "stderr",
          "output_type": "stream",
          "text": [
            "coat-train:  68%|██████▊   | 274/400 [17:00<07:20,  3.50s/it]"
          ]
        },
        {
          "name": "stdout",
          "output_type": "stream",
          "text": [
            "\"is gray and long length\"\n",
            "/home/sejong/Desktop/junseok/SPRC/musinsa/snap/men/coat/2021022513591300000065684.jpg /home/sejong/Desktop/junseok/SPRC/musinsa/goods/men/coat/City Wool Half Coat (Charcoal).jpg\n"
          ]
        },
        {
          "name": "stderr",
          "output_type": "stream",
          "text": [
            "coat-train:  69%|██████▉   | 275/400 [17:05<08:21,  4.01s/it]"
          ]
        },
        {
          "name": "stdout",
          "output_type": "stream",
          "text": [
            "\"has a herringbone pattern, is navy, and is regular length\"\n",
            "/home/sejong/Desktop/junseok/SPRC/musinsa/snap/men/coat/2023022116142700000007784.jpg /home/sejong/Desktop/junseok/SPRC/musinsa/goods/men/coat/Black Wool Chesterfield Coat CWCAW24601BKX.jpg\n"
          ]
        },
        {
          "name": "stderr",
          "output_type": "stream",
          "text": [
            "coat-train:  69%|██████▉   | 276/400 [17:08<07:21,  3.56s/it]"
          ]
        },
        {
          "name": "stdout",
          "output_type": "stream",
          "text": [
            "\"is black, long length, and oversized fit\"\n",
            "/home/sejong/Desktop/junseok/SPRC/musinsa/snap/men/coat/f0712e0bebc647ae90bbf4fc4573a81e.jpg /home/sejong/Desktop/junseok/SPRC/musinsa/goods/men/coat/울 블렌드 오버사이즈 머프 발마칸 코트 [미디엄 그레이].jpg\n"
          ]
        },
        {
          "name": "stderr",
          "output_type": "stream",
          "text": [
            "coat-train:  69%|██████▉   | 277/400 [17:12<07:26,  3.63s/it]"
          ]
        },
        {
          "name": "stdout",
          "output_type": "stream",
          "text": [
            "\"is gray and long length\"\n",
            "/home/sejong/Desktop/junseok/SPRC/musinsa/snap/men/coat/f0712e0bebc647ae90bbf4fc4573a81e.jpg /home/sejong/Desktop/junseok/SPRC/musinsa/goods/men/coat/souien fine wool long coat (brown).jpg\n"
          ]
        },
        {
          "name": "stderr",
          "output_type": "stream",
          "text": [
            "coat-train:  70%|██████▉   | 278/400 [17:15<07:24,  3.64s/it]"
          ]
        },
        {
          "name": "stdout",
          "output_type": "stream",
          "text": [
            "\"is brown and regular length\"\n",
            "/home/sejong/Desktop/junseok/SPRC/musinsa/snap/men/coat/d132899ae9474c829a791c97dde2f30b.jpg /home/sejong/Desktop/junseok/SPRC/musinsa/goods/men/coat/핸드메이드 하프 발마칸 코트 브라운 (BASIC).jpg\n"
          ]
        },
        {
          "name": "stderr",
          "output_type": "stream",
          "text": [
            "coat-train:  70%|██████▉   | 279/400 [17:19<07:05,  3.51s/it]"
          ]
        },
        {
          "name": "stdout",
          "output_type": "stream",
          "text": [
            "\"is plain, is black, and is regular length\"\n",
            "/home/sejong/Desktop/junseok/SPRC/musinsa/snap/men/coat/45e2b68eb3c74111913c281dc65750bc.jpg /home/sejong/Desktop/junseok/SPRC/musinsa/goods/men/coat/Black Wool Chesterfield Coat CWCAW24601BKX.jpg\n"
          ]
        },
        {
          "name": "stderr",
          "output_type": "stream",
          "text": [
            "coat-train:  70%|███████   | 280/400 [17:22<06:40,  3.34s/it]"
          ]
        },
        {
          "name": "stdout",
          "output_type": "stream",
          "text": [
            "\"is black, long length, and oversized fit\"\n",
            "/home/sejong/Desktop/junseok/SPRC/musinsa/snap/men/coat/2022020311544900000042017.jpg /home/sejong/Desktop/junseok/SPRC/musinsa/goods/men/coat/울 블렌드 발마칸 코트 그레이.jpg\n"
          ]
        },
        {
          "name": "stderr",
          "output_type": "stream",
          "text": [
            "coat-train:  70%|███████   | 281/400 [17:26<07:19,  3.69s/it]"
          ]
        },
        {
          "name": "stdout",
          "output_type": "stream",
          "text": [
            "\"is gray and regular length\"\n",
            "/home/sejong/Desktop/junseok/SPRC/musinsa/snap/men/coat/2024042216460200000019301.jpg /home/sejong/Desktop/junseok/SPRC/musinsa/goods/men/coat/Oversize French Wool Coat(Charcoal).jpg\n"
          ]
        },
        {
          "name": "stderr",
          "output_type": "stream",
          "text": [
            "coat-train:  70%|███████   | 282/400 [17:31<07:55,  4.03s/it]"
          ]
        },
        {
          "name": "stdout",
          "output_type": "stream",
          "text": [
            "\"has a herringbone pattern, is gray, and is long length\"\n",
            "/home/sejong/Desktop/junseok/SPRC/musinsa/snap/men/coat/788959b3e1b24eddaf656475fd4db835.jpg /home/sejong/Desktop/junseok/SPRC/musinsa/goods/men/coat/밴드 칼라 코트_블랙.jpg\n"
          ]
        },
        {
          "name": "stderr",
          "output_type": "stream",
          "text": [
            "coat-train:  71%|███████   | 283/400 [17:34<07:17,  3.74s/it]"
          ]
        },
        {
          "name": "stdout",
          "output_type": "stream",
          "text": [
            "\"is black and long length\"\n",
            "/home/sejong/Desktop/junseok/SPRC/musinsa/snap/men/coat/d08d034131d4483ca76bdadc5ff43d8f.jpg /home/sejong/Desktop/junseok/SPRC/musinsa/goods/men/coat/남성 발마칸 롱코트_ZD4CT010_BLK.jpg\n"
          ]
        },
        {
          "name": "stderr",
          "output_type": "stream",
          "text": [
            "coat-train:  71%|███████   | 284/400 [17:37<06:56,  3.59s/it]"
          ]
        },
        {
          "name": "stdout",
          "output_type": "stream",
          "text": [
            "\"is black and regular length\"\n",
            "/home/sejong/Desktop/junseok/SPRC/musinsa/snap/men/coat/2021021911094200000002550.jpg /home/sejong/Desktop/junseok/SPRC/musinsa/goods/men/coat/스탠다드 발마칸 울 코트_CHARCOAL.jpg\n"
          ]
        },
        {
          "name": "stderr",
          "output_type": "stream",
          "text": [
            "coat-train:  71%|███████▏  | 285/400 [17:41<06:43,  3.51s/it]"
          ]
        },
        {
          "name": "stdout",
          "output_type": "stream",
          "text": [
            "\"is gray and regular length\"\n",
            "/home/sejong/Desktop/junseok/SPRC/musinsa/snap/men/coat/e57c264a0151489cb557da8f0273929f.jpg /home/sejong/Desktop/junseok/SPRC/musinsa/goods/men/coat/LIW21918 OVERFIT.jpg\n"
          ]
        },
        {
          "name": "stderr",
          "output_type": "stream",
          "text": [
            "coat-train:  72%|███████▏  | 286/400 [17:45<07:12,  3.79s/it]"
          ]
        },
        {
          "name": "stdout",
          "output_type": "stream",
          "text": [
            "\"has a herringbone pattern, is gray, and is long length\"\n",
            "/home/sejong/Desktop/junseok/SPRC/musinsa/snap/men/coat/2024021410400700000028656.jpg /home/sejong/Desktop/junseok/SPRC/musinsa/goods/men/coat/발마칸 코트, 올리브 그레이.jpg\n"
          ]
        },
        {
          "name": "stderr",
          "output_type": "stream",
          "text": [
            "coat-train:  72%|███████▏  | 287/400 [17:49<07:01,  3.73s/it]"
          ]
        },
        {
          "name": "stdout",
          "output_type": "stream",
          "text": [
            "\"is no requirements, is gray, and is long length\"\n",
            "/home/sejong/Desktop/junseok/SPRC/musinsa/snap/men/coat/2022021814061400000016850.jpg /home/sejong/Desktop/junseok/SPRC/musinsa/goods/men/coat/807 캐시미어 블랜드 코트 블랙.jpg\n"
          ]
        },
        {
          "name": "stderr",
          "output_type": "stream",
          "text": [
            "coat-train:  72%|███████▏  | 288/400 [17:51<06:28,  3.47s/it]"
          ]
        },
        {
          "name": "stdout",
          "output_type": "stream",
          "text": [
            "\"is black and regular length\"\n",
            "/home/sejong/Desktop/junseok/SPRC/musinsa/snap/men/coat/2022021710515800000040657.jpg /home/sejong/Desktop/junseok/SPRC/musinsa/goods/men/coat/OVERSIZED CASHMERE SINGLE COAT MELANGE CHARCOAL.jpg\n"
          ]
        },
        {
          "name": "stderr",
          "output_type": "stream",
          "text": [
            "coat-train:  72%|███████▏  | 289/400 [17:55<06:16,  3.40s/it]"
          ]
        },
        {
          "name": "stdout",
          "output_type": "stream",
          "text": [
            "\"is plain, is gray, and is regular length\"\n",
            "/home/sejong/Desktop/junseok/SPRC/musinsa/snap/men/coat/1e34a700b4da476197d5704e429989a8.jpg /home/sejong/Desktop/junseok/SPRC/musinsa/goods/men/coat/울 블렌드 맥시 발마칸 로브 코트 [네이비].jpg\n"
          ]
        },
        {
          "name": "stderr",
          "output_type": "stream",
          "text": [
            "coat-train:  72%|███████▎  | 290/400 [17:58<06:10,  3.37s/it]"
          ]
        },
        {
          "name": "stdout",
          "output_type": "stream",
          "text": [
            "\"is dark and long length\"\n",
            "/home/sejong/Desktop/junseok/SPRC/musinsa/snap/men/coat/2024032617262900000045501.jpg /home/sejong/Desktop/junseok/SPRC/musinsa/goods/men/coat/블랙 오버핏 싱글 브레스티드 코트 (TNCO3F102BK).jpg\n"
          ]
        },
        {
          "name": "stderr",
          "output_type": "stream",
          "text": [
            "coat-train:  73%|███████▎  | 291/400 [18:01<05:43,  3.15s/it]"
          ]
        },
        {
          "name": "stdout",
          "output_type": "stream",
          "text": [
            "\"is black and regular length\"\n",
            "/home/sejong/Desktop/junseok/SPRC/musinsa/snap/men/coat/list.staff_62674c59e9782.jpg /home/sejong/Desktop/junseok/SPRC/musinsa/goods/men/coat/울캐시혼방 오버핏 3버튼 코트 네이비 RLLPBH60A.jpg\n"
          ]
        },
        {
          "name": "stderr",
          "output_type": "stream",
          "text": [
            "coat-train:  73%|███████▎  | 292/400 [18:04<05:37,  3.13s/it]"
          ]
        },
        {
          "name": "stdout",
          "output_type": "stream",
          "text": [
            "\"is black and long length\"\n",
            "/home/sejong/Desktop/junseok/SPRC/musinsa/snap/men/coat/2022021412144400000053710.jpg /home/sejong/Desktop/junseok/SPRC/musinsa/goods/men/coat/스탠다드 발마칸 울 코트_CHARCOAL.jpg\n"
          ]
        },
        {
          "name": "stderr",
          "output_type": "stream",
          "text": [
            "coat-train:  73%|███████▎  | 293/400 [18:07<05:56,  3.33s/it]"
          ]
        },
        {
          "name": "stdout",
          "output_type": "stream",
          "text": [
            "\"is gray and regular fit\"\n",
            "/home/sejong/Desktop/junseok/SPRC/musinsa/snap/men/coat/113528e0821c4d2f997184ad3dbae97d.jpg /home/sejong/Desktop/junseok/SPRC/musinsa/goods/men/coat/OVERSIZED CASHMERE SINGLE COAT MELANGE CHARCOAL.jpg\n"
          ]
        },
        {
          "name": "stderr",
          "output_type": "stream",
          "text": [
            "coat-train:  74%|███████▎  | 294/400 [18:11<06:15,  3.54s/it]"
          ]
        },
        {
          "name": "stdout",
          "output_type": "stream",
          "text": [
            "\"is gray and regular length\"\n",
            "/home/sejong/Desktop/junseok/SPRC/musinsa/snap/men/coat/8470d716ea4540bca1c867a564271534.jpg /home/sejong/Desktop/junseok/SPRC/musinsa/goods/men/coat/남성) 캐시미어 블렌드 싱글 코트(핸드메이드)_AAD4CG1501.jpg\n"
          ]
        },
        {
          "name": "stderr",
          "output_type": "stream",
          "text": [
            "coat-train:  74%|███████▍  | 295/400 [18:15<06:20,  3.62s/it]"
          ]
        },
        {
          "name": "stdout",
          "output_type": "stream",
          "text": [
            "\"is gray and long length\"\n",
            "/home/sejong/Desktop/junseok/SPRC/musinsa/snap/men/coat/58f5e9bd400d4ed1bebcfe58e04a7a33.jpg /home/sejong/Desktop/junseok/SPRC/musinsa/goods/men/coat/포켓 포인트 발마칸 울 숏코트 (블랙).jpg\n"
          ]
        },
        {
          "name": "stderr",
          "output_type": "stream",
          "text": [
            "coat-train:  74%|███████▍  | 296/400 [18:19<06:04,  3.51s/it]"
          ]
        },
        {
          "name": "stdout",
          "output_type": "stream",
          "text": [
            "\"is black and oversized fit\"\n",
            "/home/sejong/Desktop/junseok/SPRC/musinsa/snap/men/coat/2024042216460200000019301.jpg /home/sejong/Desktop/junseok/SPRC/musinsa/goods/men/coat/울캐시혼방 체스터 코트 네이비 RLLPBH55A.jpg\n"
          ]
        },
        {
          "name": "stderr",
          "output_type": "stream",
          "text": [
            "coat-train:  74%|███████▍  | 297/400 [18:21<05:39,  3.30s/it]"
          ]
        },
        {
          "name": "stdout",
          "output_type": "stream",
          "text": [
            "\"is navy and regular length\"\n",
            "/home/sejong/Desktop/junseok/SPRC/musinsa/snap/men/coat/2020021916065200000092855.jpg /home/sejong/Desktop/junseok/SPRC/musinsa/goods/men/coat/남성) 울 블렌드 하프 코트_AEE4CG1101.jpg\n"
          ]
        },
        {
          "name": "stderr",
          "output_type": "stream",
          "text": [
            "coat-train:  74%|███████▍  | 298/400 [18:24<05:23,  3.17s/it]"
          ]
        },
        {
          "name": "stdout",
          "output_type": "stream",
          "text": [
            "\"is no requirements, is gray, and is regular length\"\n",
            "/home/sejong/Desktop/junseok/SPRC/musinsa/snap/men/coat/1517451027_b09308cdf294d4d4fe9ac300576c4b4f.jpg /home/sejong/Desktop/junseok/SPRC/musinsa/goods/men/coat/울 발마칸 롱 코트 - 머스타드.jpg\n"
          ]
        },
        {
          "name": "stderr",
          "output_type": "stream",
          "text": [
            "coat-train:  75%|███████▍  | 299/400 [18:27<05:15,  3.13s/it]"
          ]
        },
        {
          "name": "stdout",
          "output_type": "stream",
          "text": [
            "\"is long length and oversized fit\"\n",
            "/home/sejong/Desktop/junseok/SPRC/musinsa/snap/men/coat/2021030412170400000018361.jpg /home/sejong/Desktop/junseok/SPRC/musinsa/goods/men/coat/울 블렌드 오버사이즈 머프 발마칸 코트 [토프].jpg\n"
          ]
        },
        {
          "name": "stderr",
          "output_type": "stream",
          "text": [
            "coat-train:  75%|███████▌  | 300/400 [18:34<06:54,  4.15s/it]"
          ]
        },
        {
          "name": "stdout",
          "output_type": "stream",
          "text": [
            "\"is plain, is gray, and is regular length\"\n",
            "/home/sejong/Desktop/junseok/SPRC/musinsa/snap/men/coat/ff9c1ae49d114ff7b997c99dba790cf6.jpg /home/sejong/Desktop/junseok/SPRC/musinsa/goods/men/coat/메리노 울 발마칸 코트 블랙.jpg\n"
          ]
        },
        {
          "name": "stderr",
          "output_type": "stream",
          "text": [
            "coat-train:  75%|███████▌  | 301/400 [18:37<06:31,  3.96s/it]"
          ]
        },
        {
          "name": "stdout",
          "output_type": "stream",
          "text": [
            "\"is gray and long length\"\n",
            "/home/sejong/Desktop/junseok/SPRC/musinsa/snap/men/coat/45e2b68eb3c74111913c281dc65750bc.jpg /home/sejong/Desktop/junseok/SPRC/musinsa/goods/men/coat/807 캐시미어 블랜드 코트 블랙.jpg\n"
          ]
        },
        {
          "name": "stderr",
          "output_type": "stream",
          "text": [
            "coat-train:  76%|███████▌  | 302/400 [18:40<05:55,  3.62s/it]"
          ]
        },
        {
          "name": "stdout",
          "output_type": "stream",
          "text": [
            "\"is black and long length\"\n",
            "/home/sejong/Desktop/junseok/SPRC/musinsa/snap/men/coat/2b515bf7baac4c1fb29d86f1972dad4c.jpg /home/sejong/Desktop/junseok/SPRC/musinsa/goods/men/coat/[COUTURE]캐시미어니트카라하프코트 MYCA7180.jpg\n"
          ]
        },
        {
          "name": "stderr",
          "output_type": "stream",
          "text": [
            "coat-train:  76%|███████▌  | 303/400 [18:44<06:07,  3.79s/it]"
          ]
        },
        {
          "name": "stdout",
          "output_type": "stream",
          "text": [
            "\"is no requirements, is navy, and is regular fit\"\n",
            "/home/sejong/Desktop/junseok/SPRC/musinsa/snap/men/coat/2021022513591300000065684.jpg /home/sejong/Desktop/junseok/SPRC/musinsa/goods/men/coat/울혼방 이중직 싱글 코트 [2COLOR].jpg\n"
          ]
        },
        {
          "name": "stderr",
          "output_type": "stream",
          "text": [
            "coat-train:  76%|███████▌  | 304/400 [18:47<05:43,  3.58s/it]"
          ]
        },
        {
          "name": "stdout",
          "output_type": "stream",
          "text": [
            "\"is gray and regular length\"\n",
            "/home/sejong/Desktop/junseok/SPRC/musinsa/snap/men/coat/88f203103bab4bd487248fb31fcb5208.jpg /home/sejong/Desktop/junseok/SPRC/musinsa/goods/men/coat/유니섹스 플랙스 롱 오버핏 코트 블랙.jpg\n"
          ]
        },
        {
          "name": "stderr",
          "output_type": "stream",
          "text": [
            "coat-train:  76%|███████▋  | 305/400 [18:51<05:37,  3.56s/it]"
          ]
        },
        {
          "name": "stdout",
          "output_type": "stream",
          "text": [
            "\"is black and long length\"\n",
            "/home/sejong/Desktop/junseok/SPRC/musinsa/snap/men/coat/2022020815550700000088484.jpg /home/sejong/Desktop/junseok/SPRC/musinsa/goods/men/coat/발마칸 솔리드 코트  그레이 (BC4X30C213).jpg\n"
          ]
        },
        {
          "name": "stderr",
          "output_type": "stream",
          "text": [
            "coat-train:  76%|███████▋  | 306/400 [18:56<06:31,  4.16s/it]"
          ]
        },
        {
          "name": "stdout",
          "output_type": "stream",
          "text": [
            "\"is gray and regular length\"\n",
            "/home/sejong/Desktop/junseok/SPRC/musinsa/snap/men/coat/2021021911094200000002550.jpg /home/sejong/Desktop/junseok/SPRC/musinsa/goods/men/coat/오버사이즈 체스터 필드 코트 차콜.jpg\n"
          ]
        },
        {
          "name": "stderr",
          "output_type": "stream",
          "text": [
            "coat-train:  77%|███████▋  | 307/400 [18:59<05:47,  3.74s/it]"
          ]
        },
        {
          "name": "stdout",
          "output_type": "stream",
          "text": [
            "\"is gray and long length\"\n",
            "/home/sejong/Desktop/junseok/SPRC/musinsa/snap/men/coat/8efb4b647a76418d9928777deda9543a.jpg /home/sejong/Desktop/junseok/SPRC/musinsa/goods/men/coat/오버사이즈 맥시 울 싱글 코트 차콜.jpg\n"
          ]
        },
        {
          "name": "stderr",
          "output_type": "stream",
          "text": [
            "coat-train:  77%|███████▋  | 308/400 [19:02<05:24,  3.53s/it]"
          ]
        },
        {
          "name": "stdout",
          "output_type": "stream",
          "text": [
            "\"is gray and long length\"\n",
            "/home/sejong/Desktop/junseok/SPRC/musinsa/snap/men/coat/f671bbb76abe4c028e315a5a0fe9d61b.jpg /home/sejong/Desktop/junseok/SPRC/musinsa/goods/men/coat/SEBBY 캐시미어 블랜드 숄카라 헨드메이드 싱글 코트 - GREY.jpg\n"
          ]
        },
        {
          "name": "stderr",
          "output_type": "stream",
          "text": [
            "coat-train:  77%|███████▋  | 309/400 [19:06<05:27,  3.59s/it]"
          ]
        },
        {
          "name": "stdout",
          "output_type": "stream",
          "text": [
            "\"has no requirements, is gray, and is long length\"\n",
            "/home/sejong/Desktop/junseok/SPRC/musinsa/snap/men/coat/4ffd2c1a725646fc8eb6bceb3cda1c0a.jpg /home/sejong/Desktop/junseok/SPRC/musinsa/goods/men/coat/울혼방 스탠다드핏 체스터코트 블랙 RMDIBH91A.jpg\n"
          ]
        },
        {
          "name": "stderr",
          "output_type": "stream",
          "text": [
            "coat-train:  78%|███████▊  | 310/400 [19:10<05:23,  3.60s/it]"
          ]
        },
        {
          "name": "stdout",
          "output_type": "stream",
          "text": [
            "\"is black, is regular length, and is oversized fit\"\n",
            "/home/sejong/Desktop/junseok/SPRC/musinsa/snap/men/coat/e5f4e5d3b36041eea63fa89af116f721.jpg /home/sejong/Desktop/junseok/SPRC/musinsa/goods/men/coat/빅헤링본 오버핏 코트_디그린.jpg\n"
          ]
        },
        {
          "name": "stderr",
          "output_type": "stream",
          "text": [
            "coat-train:  78%|███████▊  | 311/400 [19:13<05:22,  3.62s/it]"
          ]
        },
        {
          "name": "stdout",
          "output_type": "stream",
          "text": [
            "\"is oversized fit and has a herringbone pattern\"\n",
            "/home/sejong/Desktop/junseok/SPRC/musinsa/snap/men/coat/2024022113052900000049504.jpg /home/sejong/Desktop/junseok/SPRC/musinsa/goods/men/coat/테일러 맥시 롱 코트 - 브라운.jpg\n"
          ]
        },
        {
          "name": "stderr",
          "output_type": "stream",
          "text": [
            "coat-train:  78%|███████▊  | 312/400 [19:19<06:06,  4.16s/it]"
          ]
        },
        {
          "name": "stdout",
          "output_type": "stream",
          "text": [
            "\"is regular length and regular fit\"\n",
            "/home/sejong/Desktop/junseok/SPRC/musinsa/snap/men/coat/2024042216460200000019301.jpg /home/sejong/Desktop/junseok/SPRC/musinsa/goods/men/coat/[WOOL 80] 울 세미오버핏 발마칸 코트_샌드.jpg\n"
          ]
        },
        {
          "name": "stderr",
          "output_type": "stream",
          "text": [
            "coat-train:  78%|███████▊  | 313/400 [19:21<05:23,  3.72s/it]"
          ]
        },
        {
          "name": "stdout",
          "output_type": "stream",
          "text": [
            "\"is regular length and is oversized fit\"\n",
            "/home/sejong/Desktop/junseok/SPRC/musinsa/snap/men/coat/10eebeaa1b084ae38d12cc80fd61d54f.jpg /home/sejong/Desktop/junseok/SPRC/musinsa/goods/men/coat/CNTT - 울30  싱글코트 (울 헤링본 블랙).jpg\n"
          ]
        },
        {
          "name": "stderr",
          "output_type": "stream",
          "text": [
            "coat-train:  78%|███████▊  | 314/400 [19:25<05:13,  3.65s/it]"
          ]
        },
        {
          "name": "stdout",
          "output_type": "stream",
          "text": [
            "\"is black and regular length\"\n",
            "/home/sejong/Desktop/junseok/SPRC/musinsa/snap/men/coat/2024032617262900000045501.jpg /home/sejong/Desktop/junseok/SPRC/musinsa/goods/men/coat/Cashmere Blend Handmade Classic Balmacaan Coat_Black.jpg\n"
          ]
        },
        {
          "name": "stderr",
          "output_type": "stream",
          "text": [
            "coat-train:  79%|███████▉  | 315/400 [19:29<05:11,  3.67s/it]"
          ]
        },
        {
          "name": "stdout",
          "output_type": "stream",
          "text": [
            "\"is no requirements, is black, and is regular length\"\n",
            "/home/sejong/Desktop/junseok/SPRC/musinsa/snap/men/coat/list.staff_63ef2acfcff70.jpg /home/sejong/Desktop/junseok/SPRC/musinsa/goods/men/coat/LIW21918 OVERFIT.jpg\n"
          ]
        },
        {
          "name": "stderr",
          "output_type": "stream",
          "text": [
            "coat-train:  79%|███████▉  | 316/400 [19:33<05:16,  3.77s/it]"
          ]
        },
        {
          "name": "stdout",
          "output_type": "stream",
          "text": [
            "\"has a herringbone pattern, is gray, and is long length\"\n",
            "/home/sejong/Desktop/junseok/SPRC/musinsa/snap/men/coat/acde087f7a0746ff955ed667ce3a396e.jpg /home/sejong/Desktop/junseok/SPRC/musinsa/goods/men/coat/캐시미어 블렌드 하이넥 코트 3color.jpg\n"
          ]
        },
        {
          "name": "stderr",
          "output_type": "stream",
          "text": [
            "coat-train:  79%|███████▉  | 317/400 [19:36<05:03,  3.66s/it]"
          ]
        },
        {
          "name": "stdout",
          "output_type": "stream",
          "text": [
            "\"is plain, is black, and is long length\"\n",
            "/home/sejong/Desktop/junseok/SPRC/musinsa/snap/men/coat/d08d034131d4483ca76bdadc5ff43d8f.jpg /home/sejong/Desktop/junseok/SPRC/musinsa/goods/men/coat/캐시미어 퍼카라 코트_1H71102.jpg\n"
          ]
        },
        {
          "name": "stderr",
          "output_type": "stream",
          "text": [
            "coat-train:  80%|███████▉  | 318/400 [19:39<04:47,  3.51s/it]"
          ]
        },
        {
          "name": "stdout",
          "output_type": "stream",
          "text": [
            "\"is gray and regular length\"\n",
            "/home/sejong/Desktop/junseok/SPRC/musinsa/snap/men/coat/fa9c45393e4248b898f96b1ac1833f1d.jpg /home/sejong/Desktop/junseok/SPRC/musinsa/goods/men/coat/캐시미어 사이드 딥 밴트 코트_BLACK.jpg\n"
          ]
        },
        {
          "name": "stderr",
          "output_type": "stream",
          "text": [
            "coat-train:  80%|███████▉  | 319/400 [19:42<04:30,  3.34s/it]"
          ]
        },
        {
          "name": "stdout",
          "output_type": "stream",
          "text": [
            "\"is black and long length\"\n",
            "/home/sejong/Desktop/junseok/SPRC/musinsa/snap/men/coat/3c9be7e7832449a59ccac815dca6eaf2.jpg /home/sejong/Desktop/junseok/SPRC/musinsa/goods/men/coat/오버핏 울 발마칸 코트_Black.jpg\n"
          ]
        },
        {
          "name": "stderr",
          "output_type": "stream",
          "text": [
            "coat-train:  80%|████████  | 320/400 [19:45<04:21,  3.27s/it]"
          ]
        },
        {
          "name": "stdout",
          "output_type": "stream",
          "text": [
            "\"is black and long length\"\n",
            "/home/sejong/Desktop/junseok/SPRC/musinsa/snap/men/coat/2024022113052900000049504.jpg /home/sejong/Desktop/junseok/SPRC/musinsa/goods/men/coat/WYATT CHECK BALMACAAN COAT BEIGE.jpg\n"
          ]
        },
        {
          "name": "stderr",
          "output_type": "stream",
          "text": [
            "coat-train:  80%|████████  | 321/400 [19:48<04:10,  3.18s/it]"
          ]
        },
        {
          "name": "stdout",
          "output_type": "stream",
          "text": [
            "\"has a checkered pattern, is brown, and is long length\"\n",
            "/home/sejong/Desktop/junseok/SPRC/musinsa/snap/men/coat/e5f4e5d3b36041eea63fa89af116f721.jpg /home/sejong/Desktop/junseok/SPRC/musinsa/goods/men/coat/캐시미어 블렌드 발마칸 코트_MELANGE TAUPE.jpg\n"
          ]
        },
        {
          "name": "stderr",
          "output_type": "stream",
          "text": [
            "coat-train:  80%|████████  | 322/400 [19:51<04:09,  3.20s/it]"
          ]
        },
        {
          "name": "stdout",
          "output_type": "stream",
          "text": [
            "\"is gray and regular length\"\n",
            "/home/sejong/Desktop/junseok/SPRC/musinsa/snap/men/coat/d08d034131d4483ca76bdadc5ff43d8f.jpg /home/sejong/Desktop/junseok/SPRC/musinsa/goods/men/coat/남성) 캐시미어 블렌드 싱글 코트(핸드메이드)_AAD4CG1501BK.jpg\n"
          ]
        },
        {
          "name": "stderr",
          "output_type": "stream",
          "text": [
            "coat-train:  81%|████████  | 323/400 [19:54<03:55,  3.05s/it]"
          ]
        },
        {
          "name": "stdout",
          "output_type": "stream",
          "text": [
            "\"is black and regular length\"\n",
            "/home/sejong/Desktop/junseok/SPRC/musinsa/snap/men/coat/c3dc00a79bd74f709ca837fd0a01a434.jpg /home/sejong/Desktop/junseok/SPRC/musinsa/goods/men/coat/Bonheur Wool Balmacaan Coat (Gray).jpg\n"
          ]
        },
        {
          "name": "stderr",
          "output_type": "stream",
          "text": [
            "coat-train:  81%|████████  | 324/400 [19:58<03:59,  3.15s/it]"
          ]
        },
        {
          "name": "stdout",
          "output_type": "stream",
          "text": [
            "\"is gray and regular length\"\n",
            "/home/sejong/Desktop/junseok/SPRC/musinsa/snap/men/coat/1459318516_261d633a2983ba52672721a728c72e9b.jpg /home/sejong/Desktop/junseok/SPRC/musinsa/goods/men/coat/포켓 포인트 발마칸 울 숏코트 (차콜).jpg\n"
          ]
        },
        {
          "name": "stderr",
          "output_type": "stream",
          "text": [
            "coat-train:  81%|████████▏ | 325/400 [20:01<03:53,  3.12s/it]"
          ]
        },
        {
          "name": "stdout",
          "output_type": "stream",
          "text": [
            "\"is black and oversized fit\"\n",
            "/home/sejong/Desktop/junseok/SPRC/musinsa/snap/men/coat/list.staff_62674c59e9782.jpg /home/sejong/Desktop/junseok/SPRC/musinsa/goods/men/coat/[WOOL 80] 울 세미오버핏 발마칸 코트_네이비.jpg\n"
          ]
        },
        {
          "name": "stderr",
          "output_type": "stream",
          "text": [
            "coat-train:  82%|████████▏ | 326/400 [20:03<03:46,  3.06s/it]"
          ]
        },
        {
          "name": "stdout",
          "output_type": "stream",
          "text": [
            "\"is plain, is black, and is long length\"\n",
            "/home/sejong/Desktop/junseok/SPRC/musinsa/snap/men/coat/8f54ff22d0f34715b0f1765ffc934032.jpg /home/sejong/Desktop/junseok/SPRC/musinsa/goods/men/coat/발마칸 울 롱 코트 [그레이].jpg\n"
          ]
        },
        {
          "name": "stderr",
          "output_type": "stream",
          "text": [
            "coat-train:  82%|████████▏ | 327/400 [20:08<04:08,  3.40s/it]"
          ]
        },
        {
          "name": "stdout",
          "output_type": "stream",
          "text": [
            "\"is gray and oversized fit\"\n",
            "/home/sejong/Desktop/junseok/SPRC/musinsa/snap/men/coat/7bdeb9fed2df4d1d85f07a25995eeb41.jpg /home/sejong/Desktop/junseok/SPRC/musinsa/goods/men/coat/울 퓨어 미니멀 발마칸 코트_ MELANGE BEIGE.jpg\n"
          ]
        },
        {
          "name": "stderr",
          "output_type": "stream",
          "text": [
            "coat-train:  82%|████████▏ | 328/400 [20:11<04:11,  3.50s/it]"
          ]
        },
        {
          "name": "stdout",
          "output_type": "stream",
          "text": [
            "\"is gray and regular length\"\n",
            "/home/sejong/Desktop/junseok/SPRC/musinsa/snap/men/coat/54efcdac960b4793ac77e69369b7ae11.jpg /home/sejong/Desktop/junseok/SPRC/musinsa/goods/men/coat/데일리 싱글 코트 [네이비].jpg\n"
          ]
        },
        {
          "name": "stderr",
          "output_type": "stream",
          "text": [
            "coat-train:  82%|████████▏ | 329/400 [20:14<03:56,  3.33s/it]"
          ]
        },
        {
          "name": "stdout",
          "output_type": "stream",
          "text": [
            "\"is plain, is black, and is regular length\"\n",
            "/home/sejong/Desktop/junseok/SPRC/musinsa/snap/men/coat/27c1ad3f0d6f4402bdafd1d5353bcae2.jpg /home/sejong/Desktop/junseok/SPRC/musinsa/goods/men/coat/데일리 싱글 코트 [네이비].jpg\n"
          ]
        },
        {
          "name": "stderr",
          "output_type": "stream",
          "text": [
            "coat-train:  82%|████████▎ | 330/400 [20:17<03:44,  3.20s/it]"
          ]
        },
        {
          "name": "stdout",
          "output_type": "stream",
          "text": [
            "\"is plain, is black, and is regular length\"\n",
            "/home/sejong/Desktop/junseok/SPRC/musinsa/snap/men/coat/2021022513591300000065684.jpg /home/sejong/Desktop/junseok/SPRC/musinsa/goods/men/coat/피엠 발마칸 코트(BLACK).jpg\n"
          ]
        },
        {
          "name": "stderr",
          "output_type": "stream",
          "text": [
            "coat-train:  83%|████████▎ | 331/400 [20:21<03:46,  3.29s/it]"
          ]
        },
        {
          "name": "stdout",
          "output_type": "stream",
          "text": [
            "\"is black and regular length\"\n",
            "/home/sejong/Desktop/junseok/SPRC/musinsa/snap/men/coat/a634622a38f5402c9ccce23d9d76d305.jpg /home/sejong/Desktop/junseok/SPRC/musinsa/goods/men/coat/[최대 1.2만원 할인] MTR 싱글 코트 (블랙).jpg\n"
          ]
        },
        {
          "name": "stderr",
          "output_type": "stream",
          "text": [
            "coat-train:  83%|████████▎ | 332/400 [20:24<03:46,  3.33s/it]"
          ]
        },
        {
          "name": "stdout",
          "output_type": "stream",
          "text": [
            "\"is black and regular length\"\n",
            "/home/sejong/Desktop/junseok/SPRC/musinsa/snap/men/coat/7bdeb9fed2df4d1d85f07a25995eeb41.jpg /home/sejong/Desktop/junseok/SPRC/musinsa/goods/men/coat/Beige Herringbone Wool Coat CWCAW24604BEX.jpg\n"
          ]
        },
        {
          "name": "stderr",
          "output_type": "stream",
          "text": [
            "coat-train:  83%|████████▎ | 333/400 [20:28<03:45,  3.37s/it]"
          ]
        },
        {
          "name": "stdout",
          "output_type": "stream",
          "text": [
            "\"is herringbone pattern, is gray, and is long length\"\n",
            "/home/sejong/Desktop/junseok/SPRC/musinsa/snap/men/coat/2020021916065200000092855.jpg /home/sejong/Desktop/junseok/SPRC/musinsa/goods/men/coat/싱글 핸드메이드 코트 (다크그레이).jpg\n"
          ]
        },
        {
          "name": "stderr",
          "output_type": "stream",
          "text": [
            "coat-train:  84%|████████▎ | 334/400 [20:30<03:32,  3.22s/it]"
          ]
        },
        {
          "name": "stdout",
          "output_type": "stream",
          "text": [
            "\"is regular length and is dark gray\"\n",
            "/home/sejong/Desktop/junseok/SPRC/musinsa/snap/men/coat/dc312458163146bd9a3aaa42e22093c6.jpg /home/sejong/Desktop/junseok/SPRC/musinsa/goods/men/coat/블랙 오버핏 싱글 브레스티드 코트 (TNCO3F102BK).jpg\n"
          ]
        },
        {
          "name": "stderr",
          "output_type": "stream",
          "text": [
            "coat-train:  84%|████████▍ | 335/400 [20:35<03:58,  3.67s/it]"
          ]
        },
        {
          "name": "stdout",
          "output_type": "stream",
          "text": [
            "\"is black and long length\"\n",
            "/home/sejong/Desktop/junseok/SPRC/musinsa/snap/men/coat/2022022315034300000081109.jpg /home/sejong/Desktop/junseok/SPRC/musinsa/goods/men/coat/pocket wool short coat beige.jpg\n"
          ]
        },
        {
          "name": "stderr",
          "output_type": "stream",
          "text": [
            "coat-train:  84%|████████▍ | 336/400 [20:39<03:52,  3.64s/it]"
          ]
        },
        {
          "name": "stdout",
          "output_type": "stream",
          "text": [
            "\"is no requirements, is gray, and is regular fit\"\n",
            "/home/sejong/Desktop/junseok/SPRC/musinsa/snap/men/coat/b1677b6691b340778dfd7fe98e397efd.jpg /home/sejong/Desktop/junseok/SPRC/musinsa/goods/men/coat/Fine wool short coat (black).jpg\n"
          ]
        },
        {
          "name": "stderr",
          "output_type": "stream",
          "text": [
            "coat-train:  84%|████████▍ | 337/400 [20:44<04:24,  4.20s/it]"
          ]
        },
        {
          "name": "stdout",
          "output_type": "stream",
          "text": [
            "\"is black\"\n",
            "/home/sejong/Desktop/junseok/SPRC/musinsa/snap/men/coat/bb9dc2cd6cf0484ca76bae49281cbcc1.jpg /home/sejong/Desktop/junseok/SPRC/musinsa/goods/men/coat/맨즈 울블렌드 롱 코트.jpg\n"
          ]
        },
        {
          "name": "stderr",
          "output_type": "stream",
          "text": [
            "coat-train:  84%|████████▍ | 338/400 [20:48<04:05,  3.96s/it]"
          ]
        },
        {
          "name": "stdout",
          "output_type": "stream",
          "text": [
            "\"is gray and long length\"\n",
            "/home/sejong/Desktop/junseok/SPRC/musinsa/snap/men/coat/a405d394ec6b48f995747259f5a2a795.jpg /home/sejong/Desktop/junseok/SPRC/musinsa/goods/men/coat/투어리스트 발마칸 코트 네이비.jpg\n"
          ]
        },
        {
          "name": "stderr",
          "output_type": "stream",
          "text": [
            "coat-train:  85%|████████▍ | 339/400 [20:55<05:09,  5.07s/it]"
          ]
        },
        {
          "name": "stdout",
          "output_type": "stream",
          "text": [
            "\"is black and regular length\"\n",
            "/home/sejong/Desktop/junseok/SPRC/musinsa/snap/men/coat/f671bbb76abe4c028e315a5a0fe9d61b.jpg /home/sejong/Desktop/junseok/SPRC/musinsa/goods/men/coat/[최대 1.2만원 할인] Voyager Balmacaan Coat (Black).jpg\n"
          ]
        },
        {
          "name": "stderr",
          "output_type": "stream",
          "text": [
            "coat-train:  85%|████████▌ | 340/400 [20:58<04:27,  4.45s/it]"
          ]
        },
        {
          "name": "stdout",
          "output_type": "stream",
          "text": [
            "\"is black and long length\"\n",
            "/home/sejong/Desktop/junseok/SPRC/musinsa/snap/men/coat/a405d394ec6b48f995747259f5a2a795.jpg /home/sejong/Desktop/junseok/SPRC/musinsa/goods/men/coat/롱 싱글 브레스티드 울 코트_블랙.jpg\n"
          ]
        },
        {
          "name": "stderr",
          "output_type": "stream",
          "text": [
            "coat-train:  85%|████████▌ | 341/400 [21:02<04:13,  4.29s/it]"
          ]
        },
        {
          "name": "stdout",
          "output_type": "stream",
          "text": [
            "\"is black and oversized fit\"\n",
            "/home/sejong/Desktop/junseok/SPRC/musinsa/snap/men/coat/e5f4e5d3b36041eea63fa89af116f721.jpg /home/sejong/Desktop/junseok/SPRC/musinsa/goods/men/coat/유니섹스 프렌치 롱 가운 오버핏 코트 7 COLOR.jpg\n"
          ]
        },
        {
          "name": "stderr",
          "output_type": "stream",
          "text": [
            "coat-train:  86%|████████▌ | 342/400 [21:07<04:16,  4.42s/it]"
          ]
        },
        {
          "name": "stdout",
          "output_type": "stream",
          "text": [
            "\"is black and oversized fit\"\n",
            "/home/sejong/Desktop/junseok/SPRC/musinsa/snap/men/coat/5bb78fb67b57492b94fff038ad18362a.jpg /home/sejong/Desktop/junseok/SPRC/musinsa/goods/men/coat/[오정규X드로우핏] 컨사이즈 울 원더 발마칸 코트 [MELANGE GREY].jpg\n"
          ]
        },
        {
          "name": "stderr",
          "output_type": "stream",
          "text": [
            "coat-train:  86%|████████▌ | 343/400 [21:11<04:07,  4.33s/it]"
          ]
        },
        {
          "name": "stdout",
          "output_type": "stream",
          "text": [
            "\"is gray and oversized fit\"\n",
            "/home/sejong/Desktop/junseok/SPRC/musinsa/snap/men/coat/2022021810442400000069284.jpg /home/sejong/Desktop/junseok/SPRC/musinsa/goods/men/coat/Short mac coat (beige).jpg\n"
          ]
        },
        {
          "name": "stderr",
          "output_type": "stream",
          "text": [
            "coat-train:  86%|████████▌ | 344/400 [21:15<04:01,  4.32s/it]"
          ]
        },
        {
          "name": "stdout",
          "output_type": "stream",
          "text": [
            "\"is regular length and is regular fit\"\n",
            "/home/sejong/Desktop/junseok/SPRC/musinsa/snap/men/coat/8470d716ea4540bca1c867a564271534.jpg /home/sejong/Desktop/junseok/SPRC/musinsa/goods/men/coat/CAMEL BLANKET OVER COAT.jpg\n"
          ]
        },
        {
          "name": "stderr",
          "output_type": "stream",
          "text": [
            "coat-train:  86%|████████▋ | 345/400 [21:19<03:41,  4.03s/it]"
          ]
        },
        {
          "name": "stdout",
          "output_type": "stream",
          "text": [
            "\"is brown and regular fit\"\n",
            "/home/sejong/Desktop/junseok/SPRC/musinsa/snap/men/coat/4ffd2c1a725646fc8eb6bceb3cda1c0a.jpg /home/sejong/Desktop/junseok/SPRC/musinsa/goods/men/coat/Tyler Chesterfield Coat - BROWN.jpg\n"
          ]
        },
        {
          "name": "stderr",
          "output_type": "stream",
          "text": [
            "coat-train:  86%|████████▋ | 346/400 [21:22<03:20,  3.72s/it]"
          ]
        },
        {
          "name": "stdout",
          "output_type": "stream",
          "text": [
            "\"is black and long length\"\n",
            "/home/sejong/Desktop/junseok/SPRC/musinsa/snap/men/coat/2023021515234800000037058.jpg /home/sejong/Desktop/junseok/SPRC/musinsa/goods/men/coat/wool balmacaan coat CWCAW23602BEX.jpg\n"
          ]
        },
        {
          "name": "stderr",
          "output_type": "stream",
          "text": [
            "coat-train:  87%|████████▋ | 347/400 [21:25<03:05,  3.50s/it]"
          ]
        },
        {
          "name": "stdout",
          "output_type": "stream",
          "text": [
            "\"is regular length and oversized fit\"\n",
            "/home/sejong/Desktop/junseok/SPRC/musinsa/snap/men/coat/2023020915270400000091221.jpg /home/sejong/Desktop/junseok/SPRC/musinsa/goods/men/coat/울 블렌드 싱글 코트 - 차콜.jpg\n"
          ]
        },
        {
          "name": "stderr",
          "output_type": "stream",
          "text": [
            "coat-train:  87%|████████▋ | 348/400 [21:30<03:31,  4.07s/it]"
          ]
        },
        {
          "name": "stdout",
          "output_type": "stream",
          "text": [
            "\"is plain, is black, and is long length\"\n",
            "/home/sejong/Desktop/junseok/SPRC/musinsa/snap/men/coat/0641751a8b0d44ffb8acfaa01d567125.jpg /home/sejong/Desktop/junseok/SPRC/musinsa/goods/men/coat/FINE MASTER MAC COAT (NAVY).jpg\n"
          ]
        },
        {
          "name": "stderr",
          "output_type": "stream",
          "text": [
            "coat-train:  87%|████████▋ | 349/400 [21:33<03:13,  3.79s/it]"
          ]
        },
        {
          "name": "stdout",
          "output_type": "stream",
          "text": [
            "\"is black and oversized fit\"\n",
            "/home/sejong/Desktop/junseok/SPRC/musinsa/snap/men/coat/ff9c1ae49d114ff7b997c99dba790cf6.jpg /home/sejong/Desktop/junseok/SPRC/musinsa/goods/men/coat/울 블렌드 발마칸 코트 그레이.jpg\n"
          ]
        },
        {
          "name": "stderr",
          "output_type": "stream",
          "text": [
            "coat-train:  88%|████████▊ | 350/400 [21:38<03:18,  3.96s/it]"
          ]
        },
        {
          "name": "stdout",
          "output_type": "stream",
          "text": [
            "\"is gray and regular length\"\n",
            "/home/sejong/Desktop/junseok/SPRC/musinsa/snap/men/coat/2021021613564500000052025.jpg /home/sejong/Desktop/junseok/SPRC/musinsa/goods/men/coat/GAW21119 OVER FIT 라이트카키 반 더블 2버튼 캐시미어 오버핏 코트.jpg\n"
          ]
        },
        {
          "name": "stderr",
          "output_type": "stream",
          "text": [
            "coat-train:  88%|████████▊ | 351/400 [21:40<02:54,  3.56s/it]"
          ]
        },
        {
          "name": "stdout",
          "output_type": "stream",
          "text": [
            "\"is plain, is gray, and is long length\"\n",
            "/home/sejong/Desktop/junseok/SPRC/musinsa/snap/men/coat/2022020918143300000006974.jpg /home/sejong/Desktop/junseok/SPRC/musinsa/goods/men/coat/[프리미엄] MANTECO 헤링본 오버사이즈 발마칸 코트 [다크 그레이].jpg\n"
          ]
        },
        {
          "name": "stderr",
          "output_type": "stream",
          "text": [
            "coat-train:  88%|████████▊ | 352/400 [21:43<02:42,  3.38s/it]"
          ]
        },
        {
          "name": "stdout",
          "output_type": "stream",
          "text": [
            "\"has a herringbone pattern, is gray, and is long length\"\n",
            "/home/sejong/Desktop/junseok/SPRC/musinsa/snap/men/coat/722ee0201c334553877a451f665d914e.jpg /home/sejong/Desktop/junseok/SPRC/musinsa/goods/men/coat/오버사이즈 백 오픈 코트 (D.Navy).jpg\n"
          ]
        },
        {
          "name": "stderr",
          "output_type": "stream",
          "text": [
            "coat-train:  88%|████████▊ | 353/400 [21:48<03:05,  3.94s/it]"
          ]
        },
        {
          "name": "stdout",
          "output_type": "stream",
          "text": [
            "\"is plain, is gray, and is long length\"\n",
            "/home/sejong/Desktop/junseok/SPRC/musinsa/snap/men/coat/8470d716ea4540bca1c867a564271534.jpg /home/sejong/Desktop/junseok/SPRC/musinsa/goods/men/coat/Wool Single Chester Coat (Camel).jpg\n"
          ]
        },
        {
          "name": "stderr",
          "output_type": "stream",
          "text": [
            "coat-train:  88%|████████▊ | 354/400 [21:56<03:46,  4.92s/it]"
          ]
        },
        {
          "name": "stdout",
          "output_type": "stream",
          "text": [
            "\"has a herringbone pattern, is brown, and is regular length\"\n",
            "/home/sejong/Desktop/junseok/SPRC/musinsa/snap/men/coat/d66c6b1c70e6491caac710a60da0c703.jpg /home/sejong/Desktop/junseok/SPRC/musinsa/goods/men/coat/DIVIDE BALMACAN COAT [MULTI BLACK].jpg\n"
          ]
        },
        {
          "name": "stderr",
          "output_type": "stream",
          "text": [
            "coat-train:  89%|████████▉ | 355/400 [22:00<03:27,  4.60s/it]"
          ]
        },
        {
          "name": "stdout",
          "output_type": "stream",
          "text": [
            "\"is gray and regular length\"\n",
            "/home/sejong/Desktop/junseok/SPRC/musinsa/snap/men/coat/43c5dc3485e24c8f8202ea4467f04ac4.jpg /home/sejong/Desktop/junseok/SPRC/musinsa/goods/men/coat/오버핏 울 발마칸 코트_Charcoal.jpg\n"
          ]
        },
        {
          "name": "stderr",
          "output_type": "stream",
          "text": [
            "coat-train:  89%|████████▉ | 356/400 [22:04<03:16,  4.47s/it]"
          ]
        },
        {
          "name": "stdout",
          "output_type": "stream",
          "text": [
            "\"is gray and regular length\"\n",
            "/home/sejong/Desktop/junseok/SPRC/musinsa/snap/men/coat/2022021814024300000014828.jpg /home/sejong/Desktop/junseok/SPRC/musinsa/goods/men/coat/논노멀 하프코트 블랙.jpg\n"
          ]
        },
        {
          "name": "stderr",
          "output_type": "stream",
          "text": [
            "coat-train:  89%|████████▉ | 357/400 [22:09<03:19,  4.65s/it]"
          ]
        },
        {
          "name": "stdout",
          "output_type": "stream",
          "text": [
            "\"is no requirements, is black, and is regular length\"\n",
            "/home/sejong/Desktop/junseok/SPRC/musinsa/snap/men/coat/4ffd2c1a725646fc8eb6bceb3cda1c0a.jpg /home/sejong/Desktop/junseok/SPRC/musinsa/goods/men/coat/프리미엄 핸드메이드 발마칸 울코트_디네이비.jpg\n"
          ]
        },
        {
          "name": "stderr",
          "output_type": "stream",
          "text": [
            "coat-train:  90%|████████▉ | 358/400 [22:13<03:04,  4.38s/it]"
          ]
        },
        {
          "name": "stdout",
          "output_type": "stream",
          "text": [
            "\"is black and oversized fit\"\n",
            "/home/sejong/Desktop/junseok/SPRC/musinsa/snap/men/coat/1e6a320a1c9e4174b31a68c8458bf18c.jpg /home/sejong/Desktop/junseok/SPRC/musinsa/goods/men/coat/Bonheur Cotton Balmacaan Coat (Khaki).jpg\n"
          ]
        },
        {
          "name": "stderr",
          "output_type": "stream",
          "text": [
            "coat-train:  90%|████████▉ | 359/400 [22:15<02:37,  3.84s/it]"
          ]
        },
        {
          "name": "stdout",
          "output_type": "stream",
          "text": [
            "\"is no requirements, is green, and is regular length\"\n",
            "/home/sejong/Desktop/junseok/SPRC/musinsa/snap/men/coat/d5cc1edecaa9405ca48e9e1072412f68.jpg /home/sejong/Desktop/junseok/SPRC/musinsa/goods/men/coat/셔틀랜드 울 오버사이즈 발마칸 코트 [그레이].jpg\n"
          ]
        },
        {
          "name": "stderr",
          "output_type": "stream",
          "text": [
            "coat-train:  90%|█████████ | 360/400 [22:19<02:34,  3.87s/it]"
          ]
        },
        {
          "name": "stdout",
          "output_type": "stream",
          "text": [
            "\"is gray and long length\"\n",
            "/home/sejong/Desktop/junseok/SPRC/musinsa/snap/men/coat/5bb78fb67b57492b94fff038ad18362a.jpg /home/sejong/Desktop/junseok/SPRC/musinsa/goods/men/coat/울혼방 스탠다드핏 체스터코트 네이비 RMDIBH92A.jpg\n"
          ]
        },
        {
          "name": "stderr",
          "output_type": "stream",
          "text": [
            "coat-train:  90%|█████████ | 361/400 [22:23<02:33,  3.94s/it]"
          ]
        },
        {
          "name": "stdout",
          "output_type": "stream",
          "text": [
            "\"is black and regular length\"\n",
            "/home/sejong/Desktop/junseok/SPRC/musinsa/snap/men/coat/2020021118353900000088154.jpg /home/sejong/Desktop/junseok/SPRC/musinsa/goods/men/coat/캐시미어 블렌드 오버사이즈 싱글 코트 [블랙].jpg\n"
          ]
        },
        {
          "name": "stderr",
          "output_type": "stream",
          "text": [
            "coat-train:  90%|█████████ | 362/400 [22:26<02:19,  3.68s/it]"
          ]
        },
        {
          "name": "stdout",
          "output_type": "stream",
          "text": [
            "\"is black and long length\"\n",
            "/home/sejong/Desktop/junseok/SPRC/musinsa/snap/men/coat/7bdeb9fed2df4d1d85f07a25995eeb41.jpg /home/sejong/Desktop/junseok/SPRC/musinsa/goods/men/coat/[최대 1.2만원 할인] Voyager Balmacaan Coat (Shetland-Check).jpg\n"
          ]
        },
        {
          "name": "stderr",
          "output_type": "stream",
          "text": [
            "coat-train:  91%|█████████ | 363/400 [22:30<02:14,  3.65s/it]"
          ]
        },
        {
          "name": "stdout",
          "output_type": "stream",
          "text": [
            "\"is black, has a checkered pattern, and is regular length\"\n",
            "/home/sejong/Desktop/junseok/SPRC/musinsa/snap/men/coat/a84958fac704499f822088635ac70c0d.jpg /home/sejong/Desktop/junseok/SPRC/musinsa/goods/men/coat/오버사이즈 핏 발마칸 코트_DARK NAVY.jpg\n"
          ]
        },
        {
          "name": "stderr",
          "output_type": "stream",
          "text": [
            "coat-train:  91%|█████████ | 364/400 [22:33<02:09,  3.60s/it]"
          ]
        },
        {
          "name": "stdout",
          "output_type": "stream",
          "text": [
            "\"is black and long length\"\n",
            "/home/sejong/Desktop/junseok/SPRC/musinsa/snap/men/coat/list.staff_6021f4ca36804.jpg /home/sejong/Desktop/junseok/SPRC/musinsa/goods/men/coat/Cashmere Blend Single Coat (Navy).jpg\n"
          ]
        },
        {
          "name": "stderr",
          "output_type": "stream",
          "text": [
            "coat-train:  91%|█████████▏| 365/400 [22:36<01:59,  3.43s/it]"
          ]
        },
        {
          "name": "stdout",
          "output_type": "stream",
          "text": [
            "\"is plain, is black, and is long length\"\n",
            "/home/sejong/Desktop/junseok/SPRC/musinsa/snap/men/coat/2024021410400700000028656.jpg /home/sejong/Desktop/junseok/SPRC/musinsa/goods/men/coat/[WOOL 80] 울리치 대디핏 맥코트_샌드.jpg\n"
          ]
        },
        {
          "name": "stderr",
          "output_type": "stream",
          "text": [
            "coat-train:  92%|█████████▏| 366/400 [22:41<02:06,  3.73s/it]"
          ]
        },
        {
          "name": "stdout",
          "output_type": "stream",
          "text": [
            "\"is brown and regular length\"\n",
            "/home/sejong/Desktop/junseok/SPRC/musinsa/snap/men/coat/2021021810483400000083951.jpg /home/sejong/Desktop/junseok/SPRC/musinsa/goods/men/coat/캐시미어 얼스터 코트_BLACK.jpg\n"
          ]
        },
        {
          "name": "stderr",
          "output_type": "stream",
          "text": [
            "coat-train:  92%|█████████▏| 367/400 [22:44<01:55,  3.50s/it]"
          ]
        },
        {
          "name": "stdout",
          "output_type": "stream",
          "text": [
            "\"is black and regular length\"\n",
            "/home/sejong/Desktop/junseok/SPRC/musinsa/snap/men/coat/2022021114150300000073524.jpg /home/sejong/Desktop/junseok/SPRC/musinsa/goods/men/coat/캐시미어 히든 싱글 코트_DARK BROWN.jpg\n"
          ]
        },
        {
          "name": "stderr",
          "output_type": "stream",
          "text": [
            "coat-train:  92%|█████████▏| 368/400 [22:47<01:53,  3.53s/it]"
          ]
        },
        {
          "name": "stdout",
          "output_type": "stream",
          "text": [
            "\"is no requirements, is black, and is regular length\"\n",
            "/home/sejong/Desktop/junseok/SPRC/musinsa/snap/men/coat/7bdeb9fed2df4d1d85f07a25995eeb41.jpg /home/sejong/Desktop/junseok/SPRC/musinsa/goods/men/coat/[최대 1.2만원 할인] Voyager Bold Balmacaan Coat (Dark Navy).jpg\n"
          ]
        },
        {
          "name": "stderr",
          "output_type": "stream",
          "text": [
            "coat-train:  92%|█████████▏| 369/400 [22:51<01:48,  3.49s/it]"
          ]
        },
        {
          "name": "stdout",
          "output_type": "stream",
          "text": [
            "\"is black and long length\"\n",
            "/home/sejong/Desktop/junseok/SPRC/musinsa/snap/men/coat/d08d034131d4483ca76bdadc5ff43d8f.jpg /home/sejong/Desktop/junseok/SPRC/musinsa/goods/men/coat/개버딘 맥 코트 베이지.jpg\n"
          ]
        },
        {
          "name": "stderr",
          "output_type": "stream",
          "text": [
            "coat-train:  92%|█████████▎| 370/400 [22:55<01:55,  3.86s/it]"
          ]
        },
        {
          "name": "stdout",
          "output_type": "stream",
          "text": [
            "\"has a herringbone pattern, is beige, and is oversized fit\"\n",
            "/home/sejong/Desktop/junseok/SPRC/musinsa/snap/men/coat/e12f4f7ed4df4e9fbed7bd78453202e0.jpg /home/sejong/Desktop/junseok/SPRC/musinsa/goods/men/coat/발마칸 싱글 코트 올리브.jpg\n"
          ]
        },
        {
          "name": "stderr",
          "output_type": "stream",
          "text": [
            "coat-train:  93%|█████████▎| 371/400 [22:59<01:51,  3.83s/it]"
          ]
        },
        {
          "name": "stdout",
          "output_type": "stream",
          "text": [
            "\"is plain, is gray, and is long length\"\n",
            "/home/sejong/Desktop/junseok/SPRC/musinsa/snap/men/coat/2022020713594500000076275.jpg /home/sejong/Desktop/junseok/SPRC/musinsa/goods/men/coat/wool balmacaan coat CWCAW23602BEX.jpg\n"
          ]
        },
        {
          "name": "stderr",
          "output_type": "stream",
          "text": [
            "coat-train:  93%|█████████▎| 372/400 [23:02<01:42,  3.64s/it]"
          ]
        },
        {
          "name": "stdout",
          "output_type": "stream",
          "text": [
            "\"is plain, is brown, and is long length\"\n",
            "/home/sejong/Desktop/junseok/SPRC/musinsa/snap/men/coat/2024070811250200000072125.jpg /home/sejong/Desktop/junseok/SPRC/musinsa/goods/men/coat/Black Wool Balmacaan Coat CWCAW24602BKX.jpg\n"
          ]
        },
        {
          "name": "stderr",
          "output_type": "stream",
          "text": [
            "coat-train:  93%|█████████▎| 373/400 [23:05<01:32,  3.42s/it]"
          ]
        },
        {
          "name": "stdout",
          "output_type": "stream",
          "text": [
            "\"is black and long length\"\n",
            "/home/sejong/Desktop/junseok/SPRC/musinsa/snap/men/coat/2024022113052900000049504.jpg /home/sejong/Desktop/junseok/SPRC/musinsa/goods/men/coat/Tyler Chesterfield Coat - GREY.jpg\n"
          ]
        },
        {
          "name": "stderr",
          "output_type": "stream",
          "text": [
            "coat-train:  94%|█████████▎| 374/400 [23:09<01:29,  3.45s/it]"
          ]
        },
        {
          "name": "stdout",
          "output_type": "stream",
          "text": [
            "\"has a herringbone pattern, is gray, and is regular length\"\n",
            "/home/sejong/Desktop/junseok/SPRC/musinsa/snap/men/coat/2022022315034300000081109.jpg /home/sejong/Desktop/junseok/SPRC/musinsa/goods/men/coat/GAW21118 다크네이비 반 더블 2버튼 캐시미어 오버핏 코트.jpg\n"
          ]
        },
        {
          "name": "stderr",
          "output_type": "stream",
          "text": [
            "coat-train:  94%|█████████▍| 375/400 [23:12<01:23,  3.35s/it]"
          ]
        },
        {
          "name": "stdout",
          "output_type": "stream",
          "text": [
            "\"is plain, is navy, and is long length\"\n",
            "/home/sejong/Desktop/junseok/SPRC/musinsa/snap/men/coat/78482534df3e43e9820ff4c76c936e0e.jpg /home/sejong/Desktop/junseok/SPRC/musinsa/goods/men/coat/울 블렌드 오버핏 싱글 코트 [베이지].jpg\n"
          ]
        },
        {
          "name": "stderr",
          "output_type": "stream",
          "text": [
            "coat-train:  94%|█████████▍| 376/400 [23:16<01:22,  3.43s/it]"
          ]
        },
        {
          "name": "stdout",
          "output_type": "stream",
          "text": [
            "\"has a herringbone pattern, is gray, and is long length\"\n",
            "/home/sejong/Desktop/junseok/SPRC/musinsa/snap/men/coat/31482e01d4af4575baa9bc1a76c05e33.jpg /home/sejong/Desktop/junseok/SPRC/musinsa/goods/men/coat/[WOOL 80] 울리치 발마칸 로브코트_블랙.jpg\n"
          ]
        },
        {
          "name": "stderr",
          "output_type": "stream",
          "text": [
            "coat-train:  94%|█████████▍| 377/400 [23:20<01:27,  3.81s/it]"
          ]
        },
        {
          "name": "stdout",
          "output_type": "stream",
          "text": [
            "\"is black and long length\"\n",
            "/home/sejong/Desktop/junseok/SPRC/musinsa/snap/men/coat/2021021810445500000005666.jpg /home/sejong/Desktop/junseok/SPRC/musinsa/goods/men/coat/몬디알 울 오버 코트 - 네이비 _ MONDIALSNM683NAVY.jpg\n"
          ]
        },
        {
          "name": "stderr",
          "output_type": "stream",
          "text": [
            "coat-train:  94%|█████████▍| 378/400 [23:23<01:17,  3.52s/it]"
          ]
        },
        {
          "name": "stdout",
          "output_type": "stream",
          "text": [
            "\"is plain, is navy, and is long length\"\n",
            "/home/sejong/Desktop/junseok/SPRC/musinsa/snap/men/coat/c2049dd0be1e484ab4f0d8ac82ddbcc9.jpg /home/sejong/Desktop/junseok/SPRC/musinsa/goods/men/coat/오버사이즈 맥시 울 싱글 코트 다크네이비.jpg\n"
          ]
        },
        {
          "name": "stderr",
          "output_type": "stream",
          "text": [
            "coat-train:  95%|█████████▍| 379/400 [23:27<01:13,  3.49s/it]"
          ]
        },
        {
          "name": "stdout",
          "output_type": "stream",
          "text": [
            "\"is navy and long length\"\n",
            "/home/sejong/Desktop/junseok/SPRC/musinsa/snap/men/coat/2024021410400700000028656.jpg /home/sejong/Desktop/junseok/SPRC/musinsa/goods/men/coat/DIVIDE BALMACAN COAT [MULTI BLACK].jpg\n"
          ]
        },
        {
          "name": "stderr",
          "output_type": "stream",
          "text": [
            "coat-train:  95%|█████████▌| 380/400 [23:30<01:12,  3.63s/it]"
          ]
        },
        {
          "name": "stdout",
          "output_type": "stream",
          "text": [
            "\"is gray and regular length\"\n",
            "/home/sejong/Desktop/junseok/SPRC/musinsa/snap/men/coat/acec174c29b74193a6405b20d8856549.jpg /home/sejong/Desktop/junseok/SPRC/musinsa/goods/men/coat/[AUSTRALIAN W90]오스트리안 울 발마칸 코트_네이비.jpg\n"
          ]
        },
        {
          "name": "stderr",
          "output_type": "stream",
          "text": [
            "coat-train:  95%|█████████▌| 381/400 [23:39<01:35,  5.02s/it]"
          ]
        },
        {
          "name": "stdout",
          "output_type": "stream",
          "text": [
            "\"is navy and long length\"\n",
            "/home/sejong/Desktop/junseok/SPRC/musinsa/snap/men/coat/694ff9aa37194e5abc394d811d13ebf2.jpg /home/sejong/Desktop/junseok/SPRC/musinsa/goods/men/coat/[최대 1.2만원 할인] Torre Italian Wool Belted Coat (Charcoal).jpg\n"
          ]
        },
        {
          "name": "stderr",
          "output_type": "stream",
          "text": [
            "coat-train:  96%|█████████▌| 382/400 [23:42<01:21,  4.53s/it]"
          ]
        },
        {
          "name": "stdout",
          "output_type": "stream",
          "text": [
            "\"is gray and long length\"\n",
            "/home/sejong/Desktop/junseok/SPRC/musinsa/snap/men/coat/9c22e85a998940899a656824d31fb975.jpg /home/sejong/Desktop/junseok/SPRC/musinsa/goods/men/coat/Tyler Chesterfield Coat - BROWN.jpg\n"
          ]
        },
        {
          "name": "stderr",
          "output_type": "stream",
          "text": [
            "coat-train:  96%|█████████▌| 383/400 [23:45<01:07,  3.99s/it]"
          ]
        },
        {
          "name": "stdout",
          "output_type": "stream",
          "text": [
            "\"is brown and regular length\"\n",
            "/home/sejong/Desktop/junseok/SPRC/musinsa/snap/men/coat/42e94e909d204b86b72e9fc43b306f4a.jpg /home/sejong/Desktop/junseok/SPRC/musinsa/goods/men/coat/마펠 캐시미어 싱글 코트 DEEP BEIGE.jpg\n"
          ]
        },
        {
          "name": "stderr",
          "output_type": "stream",
          "text": [
            "coat-train:  96%|█████████▌| 384/400 [23:48<00:58,  3.69s/it]"
          ]
        },
        {
          "name": "stdout",
          "output_type": "stream",
          "text": [
            "\"has a herringbone pattern, is brown, and is long length\"\n",
            "/home/sejong/Desktop/junseok/SPRC/musinsa/snap/men/coat/a84958fac704499f822088635ac70c0d.jpg /home/sejong/Desktop/junseok/SPRC/musinsa/goods/men/coat/125CM 슈퍼 롱 유니섹스 발마칸 모던 울 코트 다크네이비.jpg\n"
          ]
        },
        {
          "name": "stderr",
          "output_type": "stream",
          "text": [
            "coat-train:  96%|█████████▋| 385/400 [23:52<00:55,  3.70s/it]"
          ]
        },
        {
          "name": "stdout",
          "output_type": "stream",
          "text": [
            "\"is plain, is navy, and is long length\"\n",
            "/home/sejong/Desktop/junseok/SPRC/musinsa/snap/men/coat/a64950b3f03e49da8f39e40051163aab.jpg /home/sejong/Desktop/junseok/SPRC/musinsa/goods/men/coat/[WOOL 80] 울리치 발마칸 로브코트_블랙.jpg\n"
          ]
        },
        {
          "name": "stderr",
          "output_type": "stream",
          "text": [
            "coat-train:  96%|█████████▋| 386/400 [23:56<00:54,  3.90s/it]"
          ]
        },
        {
          "name": "stdout",
          "output_type": "stream",
          "text": [
            "\"is black, is long length, and is regular fit\"\n",
            "/home/sejong/Desktop/junseok/SPRC/musinsa/snap/men/coat/99a7d756ecfd411298200624489cb73b.jpg /home/sejong/Desktop/junseok/SPRC/musinsa/goods/men/coat/프리미어 퓨어 캐시미어 히든 싱글 코트 [MOCHA BEIGE].jpg\n"
          ]
        },
        {
          "name": "stderr",
          "output_type": "stream",
          "text": [
            "coat-train:  97%|█████████▋| 387/400 [23:59<00:48,  3.75s/it]"
          ]
        },
        {
          "name": "stdout",
          "output_type": "stream",
          "text": [
            "\"is regular length and oversized fit\"\n",
            "/home/sejong/Desktop/junseok/SPRC/musinsa/snap/men/coat/2022021412144400000053710.jpg /home/sejong/Desktop/junseok/SPRC/musinsa/goods/men/coat/유니섹스 울 맥코트 블랙.jpg\n"
          ]
        },
        {
          "name": "stderr",
          "output_type": "stream",
          "text": [
            "coat-train:  97%|█████████▋| 388/400 [24:03<00:44,  3.70s/it]"
          ]
        },
        {
          "name": "stdout",
          "output_type": "stream",
          "text": [
            "\"is black and oversized fit\"\n",
            "/home/sejong/Desktop/junseok/SPRC/musinsa/snap/men/coat/722ee0201c334553877a451f665d914e.jpg /home/sejong/Desktop/junseok/SPRC/musinsa/goods/men/coat/[WOOL 80] 울리치 대디핏 맥코트_블랙.jpg\n"
          ]
        },
        {
          "name": "stderr",
          "output_type": "stream",
          "text": [
            "coat-train:  97%|█████████▋| 389/400 [24:06<00:37,  3.43s/it]"
          ]
        },
        {
          "name": "stdout",
          "output_type": "stream",
          "text": [
            "\"is gray and regular length\"\n",
            "/home/sejong/Desktop/junseok/SPRC/musinsa/snap/men/coat/2022021511002500000027708.jpg /home/sejong/Desktop/junseok/SPRC/musinsa/goods/men/coat/Short mac coat (black).jpg\n"
          ]
        },
        {
          "name": "stderr",
          "output_type": "stream",
          "text": [
            "coat-train:  98%|█████████▊| 390/400 [24:09<00:34,  3.45s/it]"
          ]
        },
        {
          "name": "stdout",
          "output_type": "stream",
          "text": [
            "\"is black and oversized fit\"\n",
            "/home/sejong/Desktop/junseok/SPRC/musinsa/snap/men/coat/acec174c29b74193a6405b20d8856549.jpg /home/sejong/Desktop/junseok/SPRC/musinsa/goods/men/coat/[MEN] 카멜 방모 사이드 플랩 포켓 카코트_카멜 9154411932.jpg\n"
          ]
        },
        {
          "name": "stderr",
          "output_type": "stream",
          "text": [
            "coat-train:  98%|█████████▊| 391/400 [24:13<00:31,  3.46s/it]"
          ]
        },
        {
          "name": "stdout",
          "output_type": "stream",
          "text": [
            "\"is plain, is brown, and is long length\"\n",
            "/home/sejong/Desktop/junseok/SPRC/musinsa/snap/men/coat/1ac47bc0d9414d20a5a94f04831069a2.jpg /home/sejong/Desktop/junseok/SPRC/musinsa/goods/men/coat/오버사이즈 맥시 울 싱글 코트 다크네이비.jpg\n"
          ]
        },
        {
          "name": "stderr",
          "output_type": "stream",
          "text": [
            "coat-train:  98%|█████████▊| 392/400 [24:16<00:27,  3.38s/it]"
          ]
        },
        {
          "name": "stdout",
          "output_type": "stream",
          "text": [
            "\"is plain, is navy, and is long length\"\n",
            "/home/sejong/Desktop/junseok/SPRC/musinsa/snap/men/coat/81b7accfdc0e48a687b8d63d7eed9071.jpg /home/sejong/Desktop/junseok/SPRC/musinsa/goods/men/coat/알파카 부클 오버 코트_브라운.jpg\n"
          ]
        },
        {
          "name": "stderr",
          "output_type": "stream",
          "text": [
            "coat-train:  98%|█████████▊| 393/400 [24:20<00:25,  3.60s/it]"
          ]
        },
        {
          "name": "stdout",
          "output_type": "stream",
          "text": [
            "\"is brown and long length\"\n",
            "/home/sejong/Desktop/junseok/SPRC/musinsa/snap/men/coat/4144f9d8a7ee411abcddb90b1ff78efb.jpg /home/sejong/Desktop/junseok/SPRC/musinsa/goods/men/coat/Brown Wool Band Collar Coat CWCAW24605BRX.jpg\n"
          ]
        },
        {
          "name": "stderr",
          "output_type": "stream",
          "text": [
            "coat-train:  98%|█████████▊| 394/400 [24:23<00:21,  3.51s/it]"
          ]
        },
        {
          "name": "stdout",
          "output_type": "stream",
          "text": [
            "\"is plain, is brown, and is long length\"\n",
            "/home/sejong/Desktop/junseok/SPRC/musinsa/snap/men/coat/694ff9aa37194e5abc394d811d13ebf2.jpg /home/sejong/Desktop/junseok/SPRC/musinsa/goods/men/coat/두굿_발마칸오버핏롱코트 - 4color MXCA7150.jpg\n"
          ]
        },
        {
          "name": "stderr",
          "output_type": "stream",
          "text": [
            "coat-train:  99%|█████████▉| 395/400 [24:27<00:18,  3.67s/it]"
          ]
        },
        {
          "name": "stdout",
          "output_type": "stream",
          "text": [
            "\"is dark brown and oversized fit\"\n",
            "/home/sejong/Desktop/junseok/SPRC/musinsa/snap/men/coat/2022021814024300000014828.jpg /home/sejong/Desktop/junseok/SPRC/musinsa/goods/men/coat/[드로우핏X노이어] 핸드메이드 캐시미어 싱글 코트.jpg\n"
          ]
        },
        {
          "name": "stderr",
          "output_type": "stream",
          "text": [
            "coat-train:  99%|█████████▉| 396/400 [24:30<00:13,  3.39s/it]"
          ]
        },
        {
          "name": "stdout",
          "output_type": "stream",
          "text": [
            "\"is black and long length\"\n",
            "/home/sejong/Desktop/junseok/SPRC/musinsa/snap/men/coat/2023022116142700000007784.jpg /home/sejong/Desktop/junseok/SPRC/musinsa/goods/men/coat/오버사이즈 발마칸 코트 [네이비].jpg\n"
          ]
        },
        {
          "name": "stderr",
          "output_type": "stream",
          "text": [
            "coat-train:  99%|█████████▉| 397/400 [24:34<00:10,  3.44s/it]"
          ]
        },
        {
          "name": "stdout",
          "output_type": "stream",
          "text": [
            "\"is plain, is navy, and is long length\"\n",
            "/home/sejong/Desktop/junseok/SPRC/musinsa/snap/men/coat/2b515bf7baac4c1fb29d86f1972dad4c.jpg /home/sejong/Desktop/junseok/SPRC/musinsa/goods/men/coat/카라리스 프론트 커버 코트 블랙.jpg\n"
          ]
        },
        {
          "name": "stderr",
          "output_type": "stream",
          "text": [
            "coat-train: 100%|█████████▉| 398/400 [24:37<00:07,  3.52s/it]"
          ]
        },
        {
          "name": "stdout",
          "output_type": "stream",
          "text": [
            "\"is black and long length\"\n",
            "/home/sejong/Desktop/junseok/SPRC/musinsa/snap/men/coat/8470d716ea4540bca1c867a564271534.jpg /home/sejong/Desktop/junseok/SPRC/musinsa/goods/men/coat/캐시미어 블렌드 하프 코트 (멜란지토프).jpg\n"
          ]
        },
        {
          "name": "stderr",
          "output_type": "stream",
          "text": [
            "coat-train: 100%|█████████▉| 399/400 [24:42<00:03,  3.78s/it]"
          ]
        },
        {
          "name": "stdout",
          "output_type": "stream",
          "text": [
            "\"is gray and regular length\"\n",
            "/home/sejong/Desktop/junseok/SPRC/musinsa/snap/men/coat/2022020713594500000076275.jpg /home/sejong/Desktop/junseok/SPRC/musinsa/goods/men/coat/밴드 칼라 코트_블랙.jpg\n"
          ]
        },
        {
          "name": "stderr",
          "output_type": "stream",
          "text": [
            "coat-train: 100%|██████████| 400/400 [24:45<00:00,  3.71s/it]\n"
          ]
        },
        {
          "name": "stdout",
          "output_type": "stream",
          "text": [
            "\"is black and regular length\"\n"
          ]
        },
        {
          "name": "stderr",
          "output_type": "stream",
          "text": [
            "coat-val:   0%|          | 0/50 [00:00<?, ?it/s]"
          ]
        },
        {
          "name": "stdout",
          "output_type": "stream",
          "text": [
            "/home/sejong/Desktop/junseok/SPRC/musinsa/snap/men/coat/96e66231b8364c71807014159061c5c1.jpg /home/sejong/Desktop/junseok/SPRC/musinsa/goods/men/coat/데일리 발마칸 코트 [블랙].jpg\n"
          ]
        },
        {
          "name": "stderr",
          "output_type": "stream",
          "text": [
            "coat-val:   2%|▏         | 1/50 [00:03<03:00,  3.69s/it]"
          ]
        },
        {
          "name": "stdout",
          "output_type": "stream",
          "text": [
            "\"is gray and long length\"\n",
            "/home/sejong/Desktop/junseok/SPRC/musinsa/snap/men/coat/list.staff_62020fb098539.jpg /home/sejong/Desktop/junseok/SPRC/musinsa/goods/men/coat/wool duffle coat navy.jpg\n"
          ]
        },
        {
          "name": "stderr",
          "output_type": "stream",
          "text": [
            "coat-val:   4%|▍         | 2/50 [00:07<03:06,  3.88s/it]"
          ]
        },
        {
          "name": "stdout",
          "output_type": "stream",
          "text": [
            "\"is navy and regular length\"\n",
            "/home/sejong/Desktop/junseok/SPRC/musinsa/snap/men/coat/2022021612224600000029683.jpg /home/sejong/Desktop/junseok/SPRC/musinsa/goods/men/coat/Big collar shape wool cashmere coat.jpg\n"
          ]
        },
        {
          "name": "stderr",
          "output_type": "stream",
          "text": [
            "coat-val:   6%|▌         | 3/50 [00:10<02:35,  3.31s/it]"
          ]
        },
        {
          "name": "stdout",
          "output_type": "stream",
          "text": [
            "\"is black and long length\"\n",
            "/home/sejong/Desktop/junseok/SPRC/musinsa/snap/men/coat/2022021412144400000053710.jpg /home/sejong/Desktop/junseok/SPRC/musinsa/goods/men/coat/프리미엄 디테처블 후드 맥시 코트.jpg\n"
          ]
        },
        {
          "name": "stderr",
          "output_type": "stream",
          "text": [
            "coat-val:   8%|▊         | 4/50 [00:14<02:39,  3.48s/it]"
          ]
        },
        {
          "name": "stdout",
          "output_type": "stream",
          "text": [
            "\"is black and long length\"\n",
            "/home/sejong/Desktop/junseok/SPRC/musinsa/snap/men/coat/8470d716ea4540bca1c867a564271534.jpg /home/sejong/Desktop/junseok/SPRC/musinsa/goods/men/coat/울 발마칸 맥코트(블랙).jpg\n"
          ]
        },
        {
          "name": "stderr",
          "output_type": "stream",
          "text": [
            "coat-val:  10%|█         | 5/50 [00:17<02:37,  3.50s/it]"
          ]
        },
        {
          "name": "stdout",
          "output_type": "stream",
          "text": [
            "\"is black and long length\"\n",
            "/home/sejong/Desktop/junseok/SPRC/musinsa/snap/men/coat/132b1d8a34b946fca335dfaf2bf05c3c.jpg /home/sejong/Desktop/junseok/SPRC/musinsa/goods/men/coat/프리미어 퓨어 캐시미어 히든 싱글 코트 [MOCHA BEIGE].jpg\n"
          ]
        },
        {
          "name": "stderr",
          "output_type": "stream",
          "text": [
            "coat-val:  12%|█▏        | 6/50 [00:21<02:38,  3.60s/it]"
          ]
        },
        {
          "name": "stdout",
          "output_type": "stream",
          "text": [
            "\"is regular length and regular fit\"\n",
            "/home/sejong/Desktop/junseok/SPRC/musinsa/snap/men/coat/4144f9d8a7ee411abcddb90b1ff78efb.jpg /home/sejong/Desktop/junseok/SPRC/musinsa/goods/men/coat/[무료반품] 울블랜드 싱글 코트 072916 [4color].jpg\n"
          ]
        },
        {
          "name": "stderr",
          "output_type": "stream",
          "text": [
            "coat-val:  14%|█▍        | 7/50 [00:24<02:25,  3.39s/it]"
          ]
        },
        {
          "name": "stdout",
          "output_type": "stream",
          "text": [
            "\"is gray and regular length\"\n",
            "/home/sejong/Desktop/junseok/SPRC/musinsa/snap/men/coat/58f5e9bd400d4ed1bebcfe58e04a7a33.jpg /home/sejong/Desktop/junseok/SPRC/musinsa/goods/men/coat/GAW21128 OVER FIT.jpg\n"
          ]
        },
        {
          "name": "stderr",
          "output_type": "stream",
          "text": [
            "coat-val:  16%|█▌        | 8/50 [00:27<02:16,  3.25s/it]"
          ]
        },
        {
          "name": "stdout",
          "output_type": "stream",
          "text": [
            "\"is black and long length\"\n",
            "/home/sejong/Desktop/junseok/SPRC/musinsa/snap/men/coat/e12f4f7ed4df4e9fbed7bd78453202e0.jpg /home/sejong/Desktop/junseok/SPRC/musinsa/goods/men/coat/[프리미엄] MTR 오버사이즈 발마칸 코트 [다크 브라운].jpg\n"
          ]
        },
        {
          "name": "stderr",
          "output_type": "stream",
          "text": [
            "coat-val:  18%|█▊        | 9/50 [00:30<02:11,  3.22s/it]"
          ]
        },
        {
          "name": "stdout",
          "output_type": "stream",
          "text": [
            "\"is plain and long length\"\n",
            "/home/sejong/Desktop/junseok/SPRC/musinsa/snap/men/coat/list.staff_65ceebd63cb03.jpg /home/sejong/Desktop/junseok/SPRC/musinsa/goods/men/coat/울 블렌드 발마칸 코트 그레이.jpg\n"
          ]
        },
        {
          "name": "stderr",
          "output_type": "stream",
          "text": [
            "coat-val:  20%|██        | 10/50 [00:34<02:16,  3.41s/it]"
          ]
        },
        {
          "name": "stdout",
          "output_type": "stream",
          "text": [
            "\"is gray and regular length\"\n",
            "/home/sejong/Desktop/junseok/SPRC/musinsa/snap/men/coat/b65b618be4ec4c4fb846655bc0750141.jpg /home/sejong/Desktop/junseok/SPRC/musinsa/goods/men/coat/[변우석 착용] 울_캐시미어 혼방 싱글 코트 074917 [4color].jpg\n"
          ]
        },
        {
          "name": "stderr",
          "output_type": "stream",
          "text": [
            "coat-val:  22%|██▏       | 11/50 [00:37<02:14,  3.46s/it]"
          ]
        },
        {
          "name": "stdout",
          "output_type": "stream",
          "text": [
            "\"has a herringbone pattern, is caramel, and is regular length\"\n",
            "/home/sejong/Desktop/junseok/SPRC/musinsa/snap/men/coat/2dc96510371146aaa9b7d754f1239731.jpg /home/sejong/Desktop/junseok/SPRC/musinsa/goods/men/coat/[무료반품] 남성 중기장 코트 [네이비].jpg\n"
          ]
        },
        {
          "name": "stderr",
          "output_type": "stream",
          "text": [
            "coat-val:  24%|██▍       | 12/50 [00:41<02:10,  3.43s/it]"
          ]
        },
        {
          "name": "stdout",
          "output_type": "stream",
          "text": [
            "\"is plain, is navy, and is regular length\"\n",
            "/home/sejong/Desktop/junseok/SPRC/musinsa/snap/men/coat/a84958fac704499f822088635ac70c0d.jpg /home/sejong/Desktop/junseok/SPRC/musinsa/goods/men/coat/톰 웨스턴 미드 코트 블랙.jpg\n"
          ]
        },
        {
          "name": "stderr",
          "output_type": "stream",
          "text": [
            "coat-val:  26%|██▌       | 13/50 [00:44<01:59,  3.23s/it]"
          ]
        },
        {
          "name": "stdout",
          "output_type": "stream",
          "text": [
            "\"is black and oversized fit\"\n",
            "/home/sejong/Desktop/junseok/SPRC/musinsa/snap/men/coat/2022020311544900000042017.jpg /home/sejong/Desktop/junseok/SPRC/musinsa/goods/men/coat/Short mac coat (beige).jpg\n"
          ]
        },
        {
          "name": "stderr",
          "output_type": "stream",
          "text": [
            "coat-val:  28%|██▊       | 14/50 [00:47<02:04,  3.45s/it]"
          ]
        },
        {
          "name": "stdout",
          "output_type": "stream",
          "text": [
            "\"is plain, is brown, and is oversized fit\"\n",
            "/home/sejong/Desktop/junseok/SPRC/musinsa/snap/men/coat/788959b3e1b24eddaf656475fd4db835.jpg /home/sejong/Desktop/junseok/SPRC/musinsa/goods/men/coat/유니섹스 플랙스 롱 오버핏 코트 다크베이지.jpg\n"
          ]
        },
        {
          "name": "stderr",
          "output_type": "stream",
          "text": [
            "coat-val:  30%|███       | 15/50 [00:53<02:18,  3.96s/it]"
          ]
        },
        {
          "name": "stdout",
          "output_type": "stream",
          "text": [
            "\"is long length and oversized fit\"\n",
            "/home/sejong/Desktop/junseok/SPRC/musinsa/snap/men/coat/dc312458163146bd9a3aaa42e22093c6.jpg /home/sejong/Desktop/junseok/SPRC/musinsa/goods/men/coat/Archive Wool Coat 그레이.jpg\n"
          ]
        },
        {
          "name": "stderr",
          "output_type": "stream",
          "text": [
            "coat-val:  32%|███▏      | 16/50 [00:57<02:16,  4.02s/it]"
          ]
        },
        {
          "name": "stdout",
          "output_type": "stream",
          "text": [
            "\"is gray and oversized fit\"\n",
            "/home/sejong/Desktop/junseok/SPRC/musinsa/snap/men/coat/2024022113052900000049504.jpg /home/sejong/Desktop/junseok/SPRC/musinsa/goods/men/coat/밴드 칼라 코트_블랙.jpg\n"
          ]
        },
        {
          "name": "stderr",
          "output_type": "stream",
          "text": [
            "coat-val:  34%|███▍      | 17/50 [00:59<01:56,  3.52s/it]"
          ]
        },
        {
          "name": "stdout",
          "output_type": "stream",
          "text": [
            "\"is black and long length\"\n",
            "/home/sejong/Desktop/junseok/SPRC/musinsa/snap/men/coat/bfaa2707a9ea4cf59d78e2d10cc52280.jpg /home/sejong/Desktop/junseok/SPRC/musinsa/goods/men/coat/wool Raglan Balmacaan Coat (Black).jpg\n"
          ]
        },
        {
          "name": "stderr",
          "output_type": "stream",
          "text": [
            "coat-val:  36%|███▌      | 18/50 [01:04<02:07,  3.98s/it]"
          ]
        },
        {
          "name": "stdout",
          "output_type": "stream",
          "text": [
            "\"is black and long length\"\n",
            "/home/sejong/Desktop/junseok/SPRC/musinsa/snap/men/coat/f0df4393c8b546cc9f303aa590d46a33.jpg /home/sejong/Desktop/junseok/SPRC/musinsa/goods/men/coat/캐시미어 블렌드 오버사이즈 싱글 코트 [블랙].jpg\n"
          ]
        },
        {
          "name": "stderr",
          "output_type": "stream",
          "text": [
            "coat-val:  38%|███▊      | 19/50 [01:07<01:56,  3.75s/it]"
          ]
        },
        {
          "name": "stdout",
          "output_type": "stream",
          "text": [
            "\"is black and long length\"\n",
            "/home/sejong/Desktop/junseok/SPRC/musinsa/snap/men/coat/list.staff_60331df475a35.jpg /home/sejong/Desktop/junseok/SPRC/musinsa/goods/men/coat/GAW21105 차콜그레이 더블 6버튼 캐시미어 혼방 오버핏 코트.jpg\n"
          ]
        },
        {
          "name": "stderr",
          "output_type": "stream",
          "text": [
            "coat-val:  40%|████      | 20/50 [01:10<01:43,  3.44s/it]"
          ]
        },
        {
          "name": "stdout",
          "output_type": "stream",
          "text": [
            "\"is black and long length\"\n",
            "/home/sejong/Desktop/junseok/SPRC/musinsa/snap/men/coat/42e94e909d204b86b72e9fc43b306f4a.jpg /home/sejong/Desktop/junseok/SPRC/musinsa/goods/men/coat/히든 벨앤코 발마칸 코트 블랙 ZG6CT617BK.jpg\n"
          ]
        },
        {
          "name": "stderr",
          "output_type": "stream",
          "text": [
            "coat-val:  42%|████▏     | 21/50 [01:14<01:42,  3.54s/it]"
          ]
        },
        {
          "name": "stdout",
          "output_type": "stream",
          "text": [
            "\"is black and long length\"\n",
            "/home/sejong/Desktop/junseok/SPRC/musinsa/snap/men/coat/2022021511120700000084995.jpg /home/sejong/Desktop/junseok/SPRC/musinsa/goods/men/coat/울 블렌드 오버핏 베스트 코트 컬렉션_3STYLE.jpg\n"
          ]
        },
        {
          "name": "stderr",
          "output_type": "stream",
          "text": [
            "coat-val:  44%|████▍     | 22/50 [01:17<01:36,  3.46s/it]"
          ]
        },
        {
          "name": "stdout",
          "output_type": "stream",
          "text": [
            "\"is black and long length\"\n",
            "/home/sejong/Desktop/junseok/SPRC/musinsa/snap/men/coat/75a9f9aa18164320b4a26d69b00fa657.jpg /home/sejong/Desktop/junseok/SPRC/musinsa/goods/men/coat/마펠 캐시미어 싱글 코트 DEEP BEIGE.jpg\n"
          ]
        },
        {
          "name": "stderr",
          "output_type": "stream",
          "text": [
            "coat-val:  46%|████▌     | 23/50 [01:20<01:29,  3.32s/it]"
          ]
        },
        {
          "name": "stdout",
          "output_type": "stream",
          "text": [
            "\"is oversized fit and regular length\"\n",
            "/home/sejong/Desktop/junseok/SPRC/musinsa/snap/men/coat/2022020311475600000051187.jpg /home/sejong/Desktop/junseok/SPRC/musinsa/goods/men/coat/807 캐시미어 블랜드 코트 블랙.jpg\n"
          ]
        },
        {
          "name": "stderr",
          "output_type": "stream",
          "text": [
            "coat-val:  48%|████▊     | 24/50 [01:23<01:24,  3.26s/it]"
          ]
        },
        {
          "name": "stdout",
          "output_type": "stream",
          "text": [
            "\"is black and regular length\"\n",
            "/home/sejong/Desktop/junseok/SPRC/musinsa/snap/men/coat/78482534df3e43e9820ff4c76c936e0e.jpg /home/sejong/Desktop/junseok/SPRC/musinsa/goods/men/coat/wool Raglan Balmacaan Coat (Charcoal).jpg\n"
          ]
        },
        {
          "name": "stderr",
          "output_type": "stream",
          "text": [
            "coat-val:  50%|█████     | 25/50 [01:27<01:24,  3.38s/it]"
          ]
        },
        {
          "name": "stdout",
          "output_type": "stream",
          "text": [
            "\"is gray and regular length\"\n",
            "/home/sejong/Desktop/junseok/SPRC/musinsa/snap/men/coat/9c22e85a998940899a656824d31fb975.jpg /home/sejong/Desktop/junseok/SPRC/musinsa/goods/men/coat/[최대 1.2만원 할인] Voyager Bold Balmacaan Coat (Black).jpg\n"
          ]
        },
        {
          "name": "stderr",
          "output_type": "stream",
          "text": [
            "coat-val:  52%|█████▏    | 26/50 [01:31<01:25,  3.56s/it]"
          ]
        },
        {
          "name": "stdout",
          "output_type": "stream",
          "text": [
            "\"is black and oversized fit\"\n",
            "/home/sejong/Desktop/junseok/SPRC/musinsa/snap/men/coat/5a59091aa96b48589ffa58ef133b99f7.jpg /home/sejong/Desktop/junseok/SPRC/musinsa/goods/men/coat/데일리 발마칸 코트 [네이비].jpg\n"
          ]
        },
        {
          "name": "stderr",
          "output_type": "stream",
          "text": [
            "coat-val:  54%|█████▍    | 27/50 [01:34<01:21,  3.54s/it]"
          ]
        },
        {
          "name": "stdout",
          "output_type": "stream",
          "text": [
            "\"is black and regular length\"\n",
            "/home/sejong/Desktop/junseok/SPRC/musinsa/snap/men/coat/2024043019132100000051696.jpg /home/sejong/Desktop/junseok/SPRC/musinsa/goods/men/coat/DEUS HIGHNECK COAT D_NAVY.jpg\n"
          ]
        },
        {
          "name": "stderr",
          "output_type": "stream",
          "text": [
            "coat-val:  56%|█████▌    | 28/50 [01:40<01:28,  4.02s/it]"
          ]
        },
        {
          "name": "stdout",
          "output_type": "stream",
          "text": [
            "\"is black and long length\"\n",
            "/home/sejong/Desktop/junseok/SPRC/musinsa/snap/men/coat/e6be5e23851a45008fce579ae6715b55.jpg /home/sejong/Desktop/junseok/SPRC/musinsa/goods/men/coat/타임리스 투버튼 싱글 코트 블랙 ZG6CT601BK.jpg\n"
          ]
        },
        {
          "name": "stderr",
          "output_type": "stream",
          "text": [
            "coat-val:  58%|█████▊    | 29/50 [01:43<01:19,  3.81s/it]"
          ]
        },
        {
          "name": "stdout",
          "output_type": "stream",
          "text": [
            "\"is black and regular length\"\n",
            "/home/sejong/Desktop/junseok/SPRC/musinsa/snap/men/coat/9c22e85a998940899a656824d31fb975.jpg /home/sejong/Desktop/junseok/SPRC/musinsa/goods/men/coat/[WOOL 80] 울 세미오버핏 발마칸 코트_블랙.jpg\n"
          ]
        },
        {
          "name": "stderr",
          "output_type": "stream",
          "text": [
            "coat-val:  60%|██████    | 30/50 [01:46<01:10,  3.50s/it]"
          ]
        },
        {
          "name": "stdout",
          "output_type": "stream",
          "text": [
            "\"is plain, is navy, and is regular length\"\n",
            "/home/sejong/Desktop/junseok/SPRC/musinsa/snap/men/coat/78dbd7a26b284751bd887222d5b005f4.jpg /home/sejong/Desktop/junseok/SPRC/musinsa/goods/men/coat/오버사이즈 아웃 포켓 펠트 맥코트_블랙.jpg\n"
          ]
        },
        {
          "name": "stderr",
          "output_type": "stream",
          "text": [
            "coat-val:  62%|██████▏   | 31/50 [01:52<01:21,  4.28s/it]"
          ]
        },
        {
          "name": "stdout",
          "output_type": "stream",
          "text": [
            "\"is black and regular length\"\n",
            "/home/sejong/Desktop/junseok/SPRC/musinsa/snap/men/coat/2b515bf7baac4c1fb29d86f1972dad4c.jpg /home/sejong/Desktop/junseok/SPRC/musinsa/goods/men/coat/wool balmacaan coat grey herringbone.jpg\n"
          ]
        },
        {
          "name": "stderr",
          "output_type": "stream",
          "text": [
            "coat-val:  64%|██████▍   | 32/50 [01:55<01:13,  4.08s/it]"
          ]
        },
        {
          "name": "stdout",
          "output_type": "stream",
          "text": [
            "\"is gray and oversized fit\"\n",
            "/home/sejong/Desktop/junseok/SPRC/musinsa/snap/men/coat/2022021511054900000039711.jpg /home/sejong/Desktop/junseok/SPRC/musinsa/goods/men/coat/[최대 1.2만원 할인] Voyager Balmacaan Coat (Black).jpg\n"
          ]
        },
        {
          "name": "stderr",
          "output_type": "stream",
          "text": [
            "coat-val:  66%|██████▌   | 33/50 [01:58<01:02,  3.68s/it]"
          ]
        },
        {
          "name": "stdout",
          "output_type": "stream",
          "text": [
            "\"is black and regular length\"\n",
            "/home/sejong/Desktop/junseok/SPRC/musinsa/snap/men/coat/2023020712075900000003235.jpg /home/sejong/Desktop/junseok/SPRC/musinsa/goods/men/coat/캐시미어 블렌드 오버사이즈 싱글 코트 [토프].jpg\n"
          ]
        },
        {
          "name": "stderr",
          "output_type": "stream",
          "text": [
            "coat-val:  68%|██████▊   | 34/50 [02:03<01:02,  3.92s/it]"
          ]
        },
        {
          "name": "stdout",
          "output_type": "stream",
          "text": [
            "\"is no requirements, is gray, and is regular length\"\n",
            "/home/sejong/Desktop/junseok/SPRC/musinsa/snap/men/coat/694ff9aa37194e5abc394d811d13ebf2.jpg /home/sejong/Desktop/junseok/SPRC/musinsa/goods/men/coat/오버사이즈 알파카 블렌드 더플 코트 (다크그레이멜란지).jpg\n"
          ]
        },
        {
          "name": "stderr",
          "output_type": "stream",
          "text": [
            "coat-val:  70%|███████   | 35/50 [02:07<00:59,  3.93s/it]"
          ]
        },
        {
          "name": "stdout",
          "output_type": "stream",
          "text": [
            "\"has a herringbone pattern, is gray, and is long length\"\n",
            "/home/sejong/Desktop/junseok/SPRC/musinsa/snap/men/coat/b0492ccc4d324ba6aa2b45b1899fb9ce.jpg /home/sejong/Desktop/junseok/SPRC/musinsa/goods/men/coat/[오정규X드로우핏] 컨사이즈 울 원더 발마칸 코트 [MELANGE GREY].jpg\n"
          ]
        },
        {
          "name": "stderr",
          "output_type": "stream",
          "text": [
            "coat-val:  72%|███████▏  | 36/50 [02:11<00:55,  3.94s/it]"
          ]
        },
        {
          "name": "stdout",
          "output_type": "stream",
          "text": [
            "\"is gray and long length\"\n",
            "/home/sejong/Desktop/junseok/SPRC/musinsa/snap/men/coat/2022020311475600000051187.jpg /home/sejong/Desktop/junseok/SPRC/musinsa/goods/men/coat/헤어리 알파카 블렌드 오버사이즈 발마칸 코트 [브라운].jpg\n"
          ]
        },
        {
          "name": "stderr",
          "output_type": "stream",
          "text": [
            "coat-val:  74%|███████▍  | 37/50 [02:14<00:49,  3.78s/it]"
          ]
        },
        {
          "name": "stdout",
          "output_type": "stream",
          "text": [
            "\"is gray and oversized fit\"\n",
            "/home/sejong/Desktop/junseok/SPRC/musinsa/snap/men/coat/list.staff_65f129ad33dae.jpg /home/sejong/Desktop/junseok/SPRC/musinsa/goods/men/coat/FALLING SLOWLY COAT - BLACK.jpg\n"
          ]
        },
        {
          "name": "stderr",
          "output_type": "stream",
          "text": [
            "coat-val:  76%|███████▌  | 38/50 [02:19<00:48,  4.05s/it]"
          ]
        },
        {
          "name": "stdout",
          "output_type": "stream",
          "text": [
            "\"is black, long length, and regular fit\"\n",
            "/home/sejong/Desktop/junseok/SPRC/musinsa/snap/men/coat/1ac47bc0d9414d20a5a94f04831069a2.jpg /home/sejong/Desktop/junseok/SPRC/musinsa/goods/men/coat/[MEN] 핸드메이드 캐시미어 발마칸코트_챠콜 9154411911.jpg\n"
          ]
        },
        {
          "name": "stderr",
          "output_type": "stream",
          "text": [
            "coat-val:  78%|███████▊  | 39/50 [02:22<00:43,  3.95s/it]"
          ]
        },
        {
          "name": "stdout",
          "output_type": "stream",
          "text": [
            "\"is black and regular length\"\n",
            "/home/sejong/Desktop/junseok/SPRC/musinsa/snap/men/coat/2024043019113800000016005.jpg /home/sejong/Desktop/junseok/SPRC/musinsa/goods/men/coat/GAW21109 블랙 더블 6버튼 캐시미어 혼방 코트.jpg\n"
          ]
        },
        {
          "name": "stderr",
          "output_type": "stream",
          "text": [
            "coat-val:  80%|████████  | 40/50 [02:26<00:37,  3.77s/it]"
          ]
        },
        {
          "name": "stdout",
          "output_type": "stream",
          "text": [
            "\"is black and long length\"\n",
            "/home/sejong/Desktop/junseok/SPRC/musinsa/snap/men/coat/2024020719135000000062944.jpg /home/sejong/Desktop/junseok/SPRC/musinsa/goods/men/coat/[MEN] 핸드메이드 캐시미어 발마칸코트_네이비 9154411911.jpg\n"
          ]
        },
        {
          "name": "stderr",
          "output_type": "stream",
          "text": [
            "coat-val:  82%|████████▏ | 41/50 [02:29<00:33,  3.68s/it]"
          ]
        },
        {
          "name": "stdout",
          "output_type": "stream",
          "text": [
            "\"is plain, is navy, and is long length\"\n",
            "/home/sejong/Desktop/junseok/SPRC/musinsa/snap/men/coat/2022020312072000000054414.jpg /home/sejong/Desktop/junseok/SPRC/musinsa/goods/men/coat/캐시미어 블렌드 발마칸 코트_CHARCOAL GREY.jpg\n"
          ]
        },
        {
          "name": "stderr",
          "output_type": "stream",
          "text": [
            "coat-val:  84%|████████▍ | 42/50 [02:32<00:28,  3.52s/it]"
          ]
        },
        {
          "name": "stdout",
          "output_type": "stream",
          "text": [
            "\"is gray and regular length\"\n",
            "/home/sejong/Desktop/junseok/SPRC/musinsa/snap/men/coat/45e2b68eb3c74111913c281dc65750bc.jpg /home/sejong/Desktop/junseok/SPRC/musinsa/goods/men/coat/[프리미엄] MANTECO 헤링본 오버사이즈 발마칸 코트 [브라운].jpg\n"
          ]
        },
        {
          "name": "stderr",
          "output_type": "stream",
          "text": [
            "coat-val:  86%|████████▌ | 43/50 [02:36<00:25,  3.62s/it]"
          ]
        },
        {
          "name": "stdout",
          "output_type": "stream",
          "text": [
            "\"has a herringbone pattern, is gray, and is long length\"\n",
            "/home/sejong/Desktop/junseok/SPRC/musinsa/snap/men/coat/2022021710515800000040657.jpg /home/sejong/Desktop/junseok/SPRC/musinsa/goods/men/coat/울 블렌드 오버사이즈 머프 발마칸 코트 [토프].jpg\n"
          ]
        },
        {
          "name": "stderr",
          "output_type": "stream",
          "text": [
            "coat-val:  88%|████████▊ | 44/50 [02:41<00:23,  3.98s/it]"
          ]
        },
        {
          "name": "stdout",
          "output_type": "stream",
          "text": [
            "\"is gray and oversized fit\"\n",
            "/home/sejong/Desktop/junseok/SPRC/musinsa/snap/men/coat/9c88defa61a5436c9637d1dad69a54c8.jpg /home/sejong/Desktop/junseok/SPRC/musinsa/goods/men/coat/커버 오버코트 코트 - 다키스트네이비 _ COVERSNM1209DARKESTNAVY.jpg\n"
          ]
        },
        {
          "name": "stderr",
          "output_type": "stream",
          "text": [
            "coat-val:  90%|█████████ | 45/50 [02:44<00:18,  3.66s/it]"
          ]
        },
        {
          "name": "stdout",
          "output_type": "stream",
          "text": [
            "\"is plain, is navy, and is regular length\"\n",
            "/home/sejong/Desktop/junseok/SPRC/musinsa/snap/men/coat/b0492ccc4d324ba6aa2b45b1899fb9ce.jpg /home/sejong/Desktop/junseok/SPRC/musinsa/goods/men/coat/캐시미어 블렌드 대디 숄더 싱글 롱 코트 [모카].jpg\n"
          ]
        },
        {
          "name": "stderr",
          "output_type": "stream",
          "text": [
            "coat-val:  92%|█████████▏| 46/50 [02:51<00:18,  4.65s/it]"
          ]
        },
        {
          "name": "stdout",
          "output_type": "stream",
          "text": [
            "\"is gray and long length\"\n",
            "/home/sejong/Desktop/junseok/SPRC/musinsa/snap/men/coat/113528e0821c4d2f997184ad3dbae97d.jpg /home/sejong/Desktop/junseok/SPRC/musinsa/goods/men/coat/캐시미어 블렌드 싱글 코트 4color.jpg\n"
          ]
        },
        {
          "name": "stderr",
          "output_type": "stream",
          "text": [
            "coat-val:  94%|█████████▍| 47/50 [02:55<00:13,  4.37s/it]"
          ]
        },
        {
          "name": "stdout",
          "output_type": "stream",
          "text": [
            "\"is plain, black, and long length\"\n",
            "/home/sejong/Desktop/junseok/SPRC/musinsa/snap/men/coat/b4120b2afa9c4f3ea2299fa2ea72b5cd.jpg /home/sejong/Desktop/junseok/SPRC/musinsa/goods/men/coat/[무료반품][차은우 착용] 울_캐시미어 싱글코트 073917 [3color].jpg\n"
          ]
        },
        {
          "name": "stderr",
          "output_type": "stream",
          "text": [
            "coat-val:  96%|█████████▌| 48/50 [02:59<00:08,  4.26s/it]"
          ]
        },
        {
          "name": "stdout",
          "output_type": "stream",
          "text": [
            "\"is black and regular length\"\n",
            "/home/sejong/Desktop/junseok/SPRC/musinsa/snap/men/coat/694ff9aa37194e5abc394d811d13ebf2.jpg /home/sejong/Desktop/junseok/SPRC/musinsa/goods/men/coat/[프리미엄] 캐시미어 20 오버사이즈 싱글 코트 [네이비].jpg\n"
          ]
        },
        {
          "name": "stderr",
          "output_type": "stream",
          "text": [
            "coat-val:  98%|█████████▊| 49/50 [03:03<00:04,  4.25s/it]"
          ]
        },
        {
          "name": "stdout",
          "output_type": "stream",
          "text": [
            "\"is plain, is gray, and is long length\"\n",
            "/home/sejong/Desktop/junseok/SPRC/musinsa/snap/men/coat/8ceb790573fc49319c3e6fd2bb714612.jpg /home/sejong/Desktop/junseok/SPRC/musinsa/goods/men/coat/남성 발마칸 롱코트_ZD4CT010_CAM.jpg\n"
          ]
        },
        {
          "name": "stderr",
          "output_type": "stream",
          "text": [
            "coat-val: 100%|██████████| 50/50 [03:07<00:00,  3.74s/it]\n"
          ]
        },
        {
          "name": "stdout",
          "output_type": "stream",
          "text": [
            "\"is brown and regular length\"\n"
          ]
        },
        {
          "name": "stderr",
          "output_type": "stream",
          "text": [
            "coat-test:   0%|          | 0/50 [00:00<?, ?it/s]"
          ]
        },
        {
          "name": "stdout",
          "output_type": "stream",
          "text": [
            "/home/sejong/Desktop/junseok/SPRC/musinsa/snap/men/coat/2022021711004300000048128.jpg /home/sejong/Desktop/junseok/SPRC/musinsa/goods/men/coat/울혼방 스탠다드핏 체스터코트 블랙 RMDIBH91A.jpg\n"
          ]
        },
        {
          "name": "stderr",
          "output_type": "stream",
          "text": [
            "coat-test:   2%|▏         | 1/50 [00:04<03:52,  4.74s/it]"
          ]
        },
        {
          "name": "stdout",
          "output_type": "stream",
          "text": [
            "\"is plain, is black, and is regular length\"\n",
            "/home/sejong/Desktop/junseok/SPRC/musinsa/snap/men/coat/8470d716ea4540bca1c867a564271534.jpg /home/sejong/Desktop/junseok/SPRC/musinsa/goods/men/coat/울캐시혼방 오버핏 3버튼 코트 다크그레이 RLLPBH59A.jpg\n"
          ]
        },
        {
          "name": "stderr",
          "output_type": "stream",
          "text": [
            "coat-test:   4%|▍         | 2/50 [00:11<04:30,  5.64s/it]"
          ]
        },
        {
          "name": "stdout",
          "output_type": "stream",
          "text": [
            "\"is gray and regular length\"\n",
            "/home/sejong/Desktop/junseok/SPRC/musinsa/snap/men/coat/2022020311544900000042017.jpg /home/sejong/Desktop/junseok/SPRC/musinsa/goods/men/coat/캐시미어 얼스터 코트_BLACK.jpg\n"
          ]
        },
        {
          "name": "stderr",
          "output_type": "stream",
          "text": [
            "coat-test:   6%|▌         | 3/50 [00:14<03:35,  4.59s/it]"
          ]
        },
        {
          "name": "stdout",
          "output_type": "stream",
          "text": [
            "\"is black and regular length\"\n",
            "/home/sejong/Desktop/junseok/SPRC/musinsa/snap/men/coat/88f203103bab4bd487248fb31fcb5208.jpg /home/sejong/Desktop/junseok/SPRC/musinsa/goods/men/coat/발마칸 울 롱 코트 [그레이].jpg\n"
          ]
        },
        {
          "name": "stderr",
          "output_type": "stream",
          "text": [
            "coat-test:   8%|▊         | 4/50 [00:18<03:18,  4.32s/it]"
          ]
        },
        {
          "name": "stdout",
          "output_type": "stream",
          "text": [
            "\"is gray and regular length\"\n",
            "/home/sejong/Desktop/junseok/SPRC/musinsa/snap/men/coat/2021020810471300000061882.jpg /home/sejong/Desktop/junseok/SPRC/musinsa/goods/men/coat/발마칸 울 롱 코트 [그레이].jpg\n"
          ]
        },
        {
          "name": "stderr",
          "output_type": "stream",
          "text": [
            "coat-test:  10%|█         | 5/50 [00:21<02:57,  3.95s/it]"
          ]
        },
        {
          "name": "stdout",
          "output_type": "stream",
          "text": [
            "\"is gray and long length\"\n",
            "/home/sejong/Desktop/junseok/SPRC/musinsa/snap/men/coat/1517450919_43fff8494b68d7f140e2377ae73ac5aa.jpg /home/sejong/Desktop/junseok/SPRC/musinsa/goods/men/coat/로건 헤링본 카 코트 브라운.jpg\n"
          ]
        },
        {
          "name": "stderr",
          "output_type": "stream",
          "text": [
            "coat-test:  12%|█▏        | 6/50 [00:25<02:52,  3.92s/it]"
          ]
        },
        {
          "name": "stdout",
          "output_type": "stream",
          "text": [
            "\"has a herringbone pattern, is brown, and is long length\"\n",
            "/home/sejong/Desktop/junseok/SPRC/musinsa/snap/men/coat/b1677b6691b340778dfd7fe98e397efd.jpg /home/sejong/Desktop/junseok/SPRC/musinsa/goods/men/coat/울 발마칸 코트 MCO102 [NAVY].jpg\n"
          ]
        },
        {
          "name": "stderr",
          "output_type": "stream",
          "text": [
            "coat-test:  14%|█▍        | 7/50 [00:32<03:27,  4.82s/it]"
          ]
        },
        {
          "name": "stdout",
          "output_type": "stream",
          "text": [
            "\"is navy and long length\"\n",
            "/home/sejong/Desktop/junseok/SPRC/musinsa/snap/men/coat/2022021810521500000007041.jpg /home/sejong/Desktop/junseok/SPRC/musinsa/goods/men/coat/FINE MASTER BALMACAAN COAT (DARK NAVY).jpg\n"
          ]
        },
        {
          "name": "stderr",
          "output_type": "stream",
          "text": [
            "coat-test:  16%|█▌        | 8/50 [00:35<03:04,  4.40s/it]"
          ]
        },
        {
          "name": "stdout",
          "output_type": "stream",
          "text": [
            "\"is navy and long length\"\n",
            "/home/sejong/Desktop/junseok/SPRC/musinsa/snap/men/coat/96e66231b8364c71807014159061c5c1.jpg /home/sejong/Desktop/junseok/SPRC/musinsa/goods/men/coat/BELLANDI 울 발마칸 코트 베이지.jpg\n"
          ]
        },
        {
          "name": "stderr",
          "output_type": "stream",
          "text": [
            "coat-test:  18%|█▊        | 9/50 [00:38<02:44,  4.02s/it]"
          ]
        },
        {
          "name": "stdout",
          "output_type": "stream",
          "text": [
            "\"is gray and regular length\"\n",
            "/home/sejong/Desktop/junseok/SPRC/musinsa/snap/men/coat/61f0ac1377f74299a0a21d713dc5ac17.jpg /home/sejong/Desktop/junseok/SPRC/musinsa/goods/men/coat/[0031] 울 맥시 트렌치 맥 코트.jpg\n"
          ]
        },
        {
          "name": "stderr",
          "output_type": "stream",
          "text": [
            "coat-test:  20%|██        | 10/50 [00:41<02:26,  3.65s/it]"
          ]
        },
        {
          "name": "stdout",
          "output_type": "stream",
          "text": [
            "\"is gray and long length\"\n",
            "/home/sejong/Desktop/junseok/SPRC/musinsa/snap/men/coat/2024032617262900000045501.jpg /home/sejong/Desktop/junseok/SPRC/musinsa/goods/men/coat/핸드메이드 울_캐시미어 발마칸 코트 073916.jpg\n"
          ]
        },
        {
          "name": "stderr",
          "output_type": "stream",
          "text": [
            "coat-test:  22%|██▏       | 11/50 [00:46<02:42,  4.15s/it]"
          ]
        },
        {
          "name": "stdout",
          "output_type": "stream",
          "text": [
            "\"is regular length and regular fit\"\n",
            "/home/sejong/Desktop/junseok/SPRC/musinsa/snap/men/coat/ff9c1ae49d114ff7b997c99dba790cf6.jpg /home/sejong/Desktop/junseok/SPRC/musinsa/goods/men/coat/발마칸 울 롱 코트 [블랙].jpg\n"
          ]
        },
        {
          "name": "stderr",
          "output_type": "stream",
          "text": [
            "coat-test:  24%|██▍       | 12/50 [00:50<02:36,  4.12s/it]"
          ]
        },
        {
          "name": "stdout",
          "output_type": "stream",
          "text": [
            "\"is plain, is black, and is long length\"\n",
            "/home/sejong/Desktop/junseok/SPRC/musinsa/snap/men/coat/2022030216013000000007583.jpg /home/sejong/Desktop/junseok/SPRC/musinsa/goods/men/coat/핸드메이드 하프 발마칸 코트 네이비 (BASIC).jpg\n"
          ]
        },
        {
          "name": "stderr",
          "output_type": "stream",
          "text": [
            "coat-test:  26%|██▌       | 13/50 [00:55<02:37,  4.26s/it]"
          ]
        },
        {
          "name": "stdout",
          "output_type": "stream",
          "text": [
            "\"is black and regular length\"\n",
            "/home/sejong/Desktop/junseok/SPRC/musinsa/snap/men/coat/2021020810471300000061882.jpg /home/sejong/Desktop/junseok/SPRC/musinsa/goods/men/coat/Archive Wool Coat 그레이.jpg\n"
          ]
        },
        {
          "name": "stderr",
          "output_type": "stream",
          "text": [
            "coat-test:  28%|██▊       | 14/50 [00:58<02:22,  3.97s/it]"
          ]
        },
        {
          "name": "stdout",
          "output_type": "stream",
          "text": [
            "\"is gray and oversized fit\"\n",
            "/home/sejong/Desktop/junseok/SPRC/musinsa/snap/men/coat/bb9dc2cd6cf0484ca76bae49281cbcc1.jpg /home/sejong/Desktop/junseok/SPRC/musinsa/goods/men/coat/체크 패딩 맥코트 _ ZSB13CT002.jpg\n"
          ]
        },
        {
          "name": "stderr",
          "output_type": "stream",
          "text": [
            "coat-test:  30%|███       | 15/50 [01:02<02:17,  3.94s/it]"
          ]
        },
        {
          "name": "stdout",
          "output_type": "stream",
          "text": [
            "\"has a checkered pattern and is regular length\"\n",
            "/home/sejong/Desktop/junseok/SPRC/musinsa/snap/men/coat/2022021711004300000048128.jpg /home/sejong/Desktop/junseok/SPRC/musinsa/goods/men/coat/CUSTOM BALMACAAN COAT (BLACK).jpg\n"
          ]
        },
        {
          "name": "stderr",
          "output_type": "stream",
          "text": [
            "coat-test:  32%|███▏      | 16/50 [01:05<02:00,  3.54s/it]"
          ]
        },
        {
          "name": "stdout",
          "output_type": "stream",
          "text": [
            "\"is black and regular length\"\n",
            "/home/sejong/Desktop/junseok/SPRC/musinsa/snap/men/coat/c82d1e973282472ca680134e52f98275.jpg /home/sejong/Desktop/junseok/SPRC/musinsa/goods/men/coat/BLACK BLANKET OVER COAT.jpg\n"
          ]
        },
        {
          "name": "stderr",
          "output_type": "stream",
          "text": [
            "coat-test:  34%|███▍      | 17/50 [01:09<02:02,  3.71s/it]"
          ]
        },
        {
          "name": "stdout",
          "output_type": "stream",
          "text": [
            "\"is black and oversized fit\"\n",
            "/home/sejong/Desktop/junseok/SPRC/musinsa/snap/men/coat/list.staff_6267490e7ba39.jpg /home/sejong/Desktop/junseok/SPRC/musinsa/goods/men/coat/Classic Long Coat_Grey.jpg\n"
          ]
        },
        {
          "name": "stderr",
          "output_type": "stream",
          "text": [
            "coat-test:  36%|███▌      | 18/50 [01:13<01:59,  3.73s/it]"
          ]
        },
        {
          "name": "stdout",
          "output_type": "stream",
          "text": [
            "\"has no requirements, is gray, and is long length\"\n",
            "/home/sejong/Desktop/junseok/SPRC/musinsa/snap/men/coat/f0712e0bebc647ae90bbf4fc4573a81e.jpg /home/sejong/Desktop/junseok/SPRC/musinsa/goods/men/coat/프리미어 퓨어 캐시미어 발마칸 코트 [BLACK].jpg\n"
          ]
        },
        {
          "name": "stderr",
          "output_type": "stream",
          "text": [
            "coat-test:  38%|███▊      | 19/50 [01:16<01:48,  3.50s/it]"
          ]
        },
        {
          "name": "stdout",
          "output_type": "stream",
          "text": [
            "\"is black and oversized fit\"\n",
            "/home/sejong/Desktop/junseok/SPRC/musinsa/snap/men/coat/acde087f7a0746ff955ed667ce3a396e.jpg /home/sejong/Desktop/junseok/SPRC/musinsa/goods/men/coat/Inverted Pleats Wool Coat - Grey DT A44.jpg\n"
          ]
        },
        {
          "name": "stderr",
          "output_type": "stream",
          "text": [
            "coat-test:  40%|████      | 20/50 [01:20<01:53,  3.79s/it]"
          ]
        },
        {
          "name": "stdout",
          "output_type": "stream",
          "text": [
            "\"has a checkered pattern, is gray, and is regular length\"\n",
            "/home/sejong/Desktop/junseok/SPRC/musinsa/snap/men/coat/b0d3cf50d5cd444abb9e4cac0720cc6a.jpg /home/sejong/Desktop/junseok/SPRC/musinsa/goods/men/coat/캐시미어 블렌드 오버사이즈 발마칸 코트 [토프].jpg\n"
          ]
        },
        {
          "name": "stderr",
          "output_type": "stream",
          "text": [
            "coat-test:  42%|████▏     | 21/50 [01:25<01:55,  3.99s/it]"
          ]
        },
        {
          "name": "stdout",
          "output_type": "stream",
          "text": [
            "\"is gray and regular length\"\n",
            "/home/sejong/Desktop/junseok/SPRC/musinsa/snap/men/coat/list.staff_602225705d0a6.jpg /home/sejong/Desktop/junseok/SPRC/musinsa/goods/men/coat/캐시미어 블렌드 발마칸 코트_BLACK.jpg\n"
          ]
        },
        {
          "name": "stderr",
          "output_type": "stream",
          "text": [
            "coat-test:  44%|████▍     | 22/50 [01:28<01:47,  3.84s/it]"
          ]
        },
        {
          "name": "stdout",
          "output_type": "stream",
          "text": [
            "\"is black and long length\"\n",
            "/home/sejong/Desktop/junseok/SPRC/musinsa/snap/men/coat/1ac47bc0d9414d20a5a94f04831069a2.jpg /home/sejong/Desktop/junseok/SPRC/musinsa/goods/men/coat/souien fine wool long coat (brown).jpg\n"
          ]
        },
        {
          "name": "stderr",
          "output_type": "stream",
          "text": [
            "coat-test:  46%|████▌     | 23/50 [01:32<01:45,  3.91s/it]"
          ]
        },
        {
          "name": "stdout",
          "output_type": "stream",
          "text": [
            "\"is plain, is black, and is oversized fit\"\n",
            "/home/sejong/Desktop/junseok/SPRC/musinsa/snap/men/coat/8f54ff22d0f34715b0f1765ffc934032.jpg /home/sejong/Desktop/junseok/SPRC/musinsa/goods/men/coat/Tyler Chesterfield Coat - BROWN.jpg\n"
          ]
        },
        {
          "name": "stderr",
          "output_type": "stream",
          "text": [
            "coat-test:  48%|████▊     | 24/50 [01:36<01:39,  3.81s/it]"
          ]
        },
        {
          "name": "stdout",
          "output_type": "stream",
          "text": [
            "\"is brown and long length\"\n",
            "/home/sejong/Desktop/junseok/SPRC/musinsa/snap/men/coat/2022030216013000000007583.jpg /home/sejong/Desktop/junseok/SPRC/musinsa/goods/men/coat/Black Cashmere Blended Balmacaan Coat_C9CAW24606BKX.jpg\n"
          ]
        },
        {
          "name": "stderr",
          "output_type": "stream",
          "text": [
            "coat-test:  50%|█████     | 25/50 [01:39<01:28,  3.52s/it]"
          ]
        },
        {
          "name": "stdout",
          "output_type": "stream",
          "text": [
            "\"is black and oversized fit\"\n",
            "/home/sejong/Desktop/junseok/SPRC/musinsa/snap/men/coat/acde087f7a0746ff955ed667ce3a396e.jpg /home/sejong/Desktop/junseok/SPRC/musinsa/goods/men/coat/[드로우핏X노이어] 핸드메이드 캐시미어 발마칸 코트.jpg\n"
          ]
        },
        {
          "name": "stderr",
          "output_type": "stream",
          "text": [
            "coat-test:  52%|█████▏    | 26/50 [01:42<01:25,  3.57s/it]"
          ]
        },
        {
          "name": "stdout",
          "output_type": "stream",
          "text": [
            "\"is black and oversized fit\"\n",
            "/home/sejong/Desktop/junseok/SPRC/musinsa/snap/men/coat/8f54ff22d0f34715b0f1765ffc934032.jpg /home/sejong/Desktop/junseok/SPRC/musinsa/goods/men/coat/울 캐시미어 혼방 페이크포켓 베이직 롱 코트 코코아 (PFHAX7095).jpg\n"
          ]
        },
        {
          "name": "stderr",
          "output_type": "stream",
          "text": [
            "coat-test:  54%|█████▍    | 27/50 [01:45<01:17,  3.35s/it]"
          ]
        },
        {
          "name": "stdout",
          "output_type": "stream",
          "text": [
            "\"is regular length and regular fit\"\n",
            "/home/sejong/Desktop/junseok/SPRC/musinsa/snap/men/coat/8972b68643e54a58abfd213203853ef9.jpg /home/sejong/Desktop/junseok/SPRC/musinsa/goods/men/coat/유니섹스 프렌치 롱 가운 오버핏 코트 7 COLOR.jpg\n"
          ]
        },
        {
          "name": "stderr",
          "output_type": "stream",
          "text": [
            "coat-test:  56%|█████▌    | 28/50 [01:57<02:08,  5.85s/it]"
          ]
        },
        {
          "name": "stdout",
          "output_type": "stream",
          "text": [
            "\"is regular length and oversized fit\"\n",
            "/home/sejong/Desktop/junseok/SPRC/musinsa/snap/men/coat/2021030412145700000045906.jpg /home/sejong/Desktop/junseok/SPRC/musinsa/goods/men/coat/오버사이즈 맥시 울 싱글 코트 차콜.jpg\n"
          ]
        },
        {
          "name": "stderr",
          "output_type": "stream",
          "text": [
            "coat-test:  58%|█████▊    | 29/50 [02:00<01:45,  5.04s/it]"
          ]
        },
        {
          "name": "stdout",
          "output_type": "stream",
          "text": [
            "\"is gray and long length\"\n",
            "/home/sejong/Desktop/junseok/SPRC/musinsa/snap/men/coat/09a7ad3f502748c481e2b60d05465a9a.jpg /home/sejong/Desktop/junseok/SPRC/musinsa/goods/men/coat/스탠다드 발마칸 울 코트_CHARCOAL BROWN.jpg\n"
          ]
        },
        {
          "name": "stderr",
          "output_type": "stream",
          "text": [
            "coat-test:  60%|██████    | 30/50 [02:03<01:28,  4.43s/it]"
          ]
        },
        {
          "name": "stdout",
          "output_type": "stream",
          "text": [
            "\"is no requirements, is gray, and is long length\"\n",
            "/home/sejong/Desktop/junseok/SPRC/musinsa/snap/men/coat/1e6a320a1c9e4174b31a68c8458bf18c.jpg /home/sejong/Desktop/junseok/SPRC/musinsa/goods/men/coat/타임리스 발마칸 코트 카키.jpg\n"
          ]
        },
        {
          "name": "stderr",
          "output_type": "stream",
          "text": [
            "coat-test:  62%|██████▏   | 31/50 [02:06<01:18,  4.13s/it]"
          ]
        },
        {
          "name": "stdout",
          "output_type": "stream",
          "text": [
            "\"is regular length and oversized fit\"\n",
            "/home/sejong/Desktop/junseok/SPRC/musinsa/snap/men/coat/c80bb9cc018e4b21bfb1ebbd39463bda.jpg /home/sejong/Desktop/junseok/SPRC/musinsa/goods/men/coat/Short mac coat (black).jpg\n"
          ]
        },
        {
          "name": "stderr",
          "output_type": "stream",
          "text": [
            "coat-test:  64%|██████▍   | 32/50 [02:09<01:08,  3.78s/it]"
          ]
        },
        {
          "name": "stdout",
          "output_type": "stream",
          "text": [
            "\"is black and regular fit\"\n",
            "/home/sejong/Desktop/junseok/SPRC/musinsa/snap/men/coat/5d78e8e340604f5eaf8c37f23a214115.jpg /home/sejong/Desktop/junseok/SPRC/musinsa/goods/men/coat/DM1042 퀄팅 롱 코트_브라운.jpg\n"
          ]
        },
        {
          "name": "stderr",
          "output_type": "stream",
          "text": [
            "coat-test:  66%|██████▌   | 33/50 [02:13<01:03,  3.72s/it]"
          ]
        },
        {
          "name": "stdout",
          "output_type": "stream",
          "text": [
            "\"is plain and long length\"\n",
            "/home/sejong/Desktop/junseok/SPRC/musinsa/snap/men/coat/b0492ccc4d324ba6aa2b45b1899fb9ce.jpg /home/sejong/Desktop/junseok/SPRC/musinsa/goods/men/coat/[프리미엄] MANTECO 헤링본 오버사이즈 발마칸 코트 [브라운].jpg\n"
          ]
        },
        {
          "name": "stderr",
          "output_type": "stream",
          "text": [
            "coat-test:  68%|██████▊   | 34/50 [02:17<01:01,  3.86s/it]"
          ]
        },
        {
          "name": "stdout",
          "output_type": "stream",
          "text": [
            "\"is herringbone pattern and long length\"\n",
            "/home/sejong/Desktop/junseok/SPRC/musinsa/snap/men/coat/31482e01d4af4575baa9bc1a76c05e33.jpg /home/sejong/Desktop/junseok/SPRC/musinsa/goods/men/coat/[호이테]알파카발마칸오버핏롱코트 MYCA7171.jpg\n"
          ]
        },
        {
          "name": "stderr",
          "output_type": "stream",
          "text": [
            "coat-test:  70%|███████   | 35/50 [02:21<00:58,  3.89s/it]"
          ]
        },
        {
          "name": "stdout",
          "output_type": "stream",
          "text": [
            "\"is regular length and oversized fit\"\n",
            "/home/sejong/Desktop/junseok/SPRC/musinsa/snap/men/coat/2021021911094200000002550.jpg /home/sejong/Desktop/junseok/SPRC/musinsa/goods/men/coat/울 하프 맥코트 베이지.jpg\n"
          ]
        },
        {
          "name": "stderr",
          "output_type": "stream",
          "text": [
            "coat-test:  72%|███████▏  | 36/50 [02:24<00:51,  3.68s/it]"
          ]
        },
        {
          "name": "stdout",
          "output_type": "stream",
          "text": [
            "\"has a herringbone pattern and is regular length\"\n",
            "/home/sejong/Desktop/junseok/SPRC/musinsa/snap/men/coat/2022021814061400000016850.jpg /home/sejong/Desktop/junseok/SPRC/musinsa/goods/men/coat/울 블렌드 오버핏 싱글 코트 [베이지].jpg\n"
          ]
        },
        {
          "name": "stderr",
          "output_type": "stream",
          "text": [
            "coat-test:  74%|███████▍  | 37/50 [02:27<00:45,  3.52s/it]"
          ]
        },
        {
          "name": "stdout",
          "output_type": "stream",
          "text": [
            "\"is plain, is olive green, and is long length\"\n",
            "/home/sejong/Desktop/junseok/SPRC/musinsa/snap/men/coat/list.staff_62662b82cde2e.jpg /home/sejong/Desktop/junseok/SPRC/musinsa/goods/men/coat/[WOOL 80] 울리치 대디핏 맥코트_블랙.jpg\n"
          ]
        },
        {
          "name": "stderr",
          "output_type": "stream",
          "text": [
            "coat-test:  76%|███████▌  | 38/50 [02:31<00:43,  3.61s/it]"
          ]
        },
        {
          "name": "stdout",
          "output_type": "stream",
          "text": [
            "\"is black and regular length\"\n",
            "/home/sejong/Desktop/junseok/SPRC/musinsa/snap/men/coat/2019020715474800000075318.jpg /home/sejong/Desktop/junseok/SPRC/musinsa/goods/men/coat/100% 컬리 울 발마칸 코트 차콜.jpg\n"
          ]
        },
        {
          "name": "stderr",
          "output_type": "stream",
          "text": [
            "coat-test:  78%|███████▊  | 39/50 [02:35<00:39,  3.62s/it]"
          ]
        },
        {
          "name": "stdout",
          "output_type": "stream",
          "text": [
            "\"is gray and long length\"\n",
            "/home/sejong/Desktop/junseok/SPRC/musinsa/snap/men/coat/1873a033e3454b4a9d9eadaaea05ad7c.jpg /home/sejong/Desktop/junseok/SPRC/musinsa/goods/men/coat/유니섹스 플랙스 롱 오버핏 코트 블랙.jpg\n"
          ]
        },
        {
          "name": "stderr",
          "output_type": "stream",
          "text": [
            "coat-test:  80%|████████  | 40/50 [02:38<00:35,  3.53s/it]"
          ]
        },
        {
          "name": "stdout",
          "output_type": "stream",
          "text": [
            "\"is black and long length\"\n",
            "/home/sejong/Desktop/junseok/SPRC/musinsa/snap/men/coat/2020021810191800000013655.jpg /home/sejong/Desktop/junseok/SPRC/musinsa/goods/men/coat/남성 발마칸 롱코트_ZD4CT010_BLK.jpg\n"
          ]
        },
        {
          "name": "stderr",
          "output_type": "stream",
          "text": [
            "coat-test:  82%|████████▏ | 41/50 [02:42<00:31,  3.54s/it]"
          ]
        },
        {
          "name": "stdout",
          "output_type": "stream",
          "text": [
            "\"is black and regular length\"\n",
            "/home/sejong/Desktop/junseok/SPRC/musinsa/snap/men/coat/2022020311544900000042017.jpg /home/sejong/Desktop/junseok/SPRC/musinsa/goods/men/coat/CASHMERE SINGLE ROBE COAT BLACK.jpg\n"
          ]
        },
        {
          "name": "stderr",
          "output_type": "stream",
          "text": [
            "coat-test:  84%|████████▍ | 42/50 [02:45<00:28,  3.57s/it]"
          ]
        },
        {
          "name": "stdout",
          "output_type": "stream",
          "text": [
            "\"is black and regular length\"\n",
            "/home/sejong/Desktop/junseok/SPRC/musinsa/snap/men/coat/9c88defa61a5436c9637d1dad69a54c8.jpg /home/sejong/Desktop/junseok/SPRC/musinsa/goods/men/coat/[프리미엄] MTR 대디 숄더 싱글 롱 코트 [블랙].jpg\n"
          ]
        },
        {
          "name": "stderr",
          "output_type": "stream",
          "text": [
            "coat-test:  86%|████████▌ | 43/50 [02:48<00:23,  3.37s/it]"
          ]
        },
        {
          "name": "stdout",
          "output_type": "stream",
          "text": [
            "\"is black and long length\"\n",
            "/home/sejong/Desktop/junseok/SPRC/musinsa/snap/men/coat/2019021210462900000097889.jpg /home/sejong/Desktop/junseok/SPRC/musinsa/goods/men/coat/남성) 구스 하이넥 다운코트_ZAE4CP1901.jpg\n"
          ]
        },
        {
          "name": "stderr",
          "output_type": "stream",
          "text": [
            "coat-test:  88%|████████▊ | 44/50 [02:51<00:19,  3.19s/it]"
          ]
        },
        {
          "name": "stdout",
          "output_type": "stream",
          "text": [
            "\"is black and regular length\"\n",
            "/home/sejong/Desktop/junseok/SPRC/musinsa/snap/men/coat/8efb4b647a76418d9928777deda9543a.jpg /home/sejong/Desktop/junseok/SPRC/musinsa/goods/men/coat/[프리미엄] MTR 오버사이즈 발마칸 코트 [네이비].jpg\n"
          ]
        },
        {
          "name": "stderr",
          "output_type": "stream",
          "text": [
            "coat-test:  90%|█████████ | 45/50 [02:55<00:16,  3.31s/it]"
          ]
        },
        {
          "name": "stdout",
          "output_type": "stream",
          "text": [
            "\"is plain, is navy, and is long length\"\n",
            "/home/sejong/Desktop/junseok/SPRC/musinsa/snap/men/coat/list.staff_62674c59e9782.jpg /home/sejong/Desktop/junseok/SPRC/musinsa/goods/men/coat/GAW21109 블랙 더블 6버튼 캐시미어 혼방 코트.jpg\n"
          ]
        },
        {
          "name": "stderr",
          "output_type": "stream",
          "text": [
            "coat-test:  92%|█████████▏| 46/50 [02:58<00:12,  3.20s/it]"
          ]
        },
        {
          "name": "stdout",
          "output_type": "stream",
          "text": [
            "\"is black and long length\"\n",
            "/home/sejong/Desktop/junseok/SPRC/musinsa/snap/men/coat/c3dc00a79bd74f709ca837fd0a01a434.jpg /home/sejong/Desktop/junseok/SPRC/musinsa/goods/men/coat/멜란지 그레이 대디핏 테일러드 3버튼 코트 (TNCO3F106G2).jpg\n"
          ]
        },
        {
          "name": "stderr",
          "output_type": "stream",
          "text": [
            "coat-test:  94%|█████████▍| 47/50 [03:01<00:10,  3.34s/it]"
          ]
        },
        {
          "name": "stdout",
          "output_type": "stream",
          "text": [
            "\"is gray and long length\"\n",
            "/home/sejong/Desktop/junseok/SPRC/musinsa/snap/men/coat/2024042216460200000019301.jpg /home/sejong/Desktop/junseok/SPRC/musinsa/goods/men/coat/[드로우핏X노이어] 핸드메이드 캐시미어 발마칸 코트.jpg\n"
          ]
        },
        {
          "name": "stderr",
          "output_type": "stream",
          "text": [
            "coat-test:  96%|█████████▌| 48/50 [03:05<00:06,  3.32s/it]"
          ]
        },
        {
          "name": "stdout",
          "output_type": "stream",
          "text": [
            "\"is black and oversized fit\"\n",
            "/home/sejong/Desktop/junseok/SPRC/musinsa/snap/men/coat/2022030216013000000007583.jpg /home/sejong/Desktop/junseok/SPRC/musinsa/goods/men/coat/오버사이즈 발마칸 맥시 코트 [BLACK].jpg\n"
          ]
        },
        {
          "name": "stderr",
          "output_type": "stream",
          "text": [
            "coat-test:  98%|█████████▊| 49/50 [03:08<00:03,  3.27s/it]"
          ]
        },
        {
          "name": "stdout",
          "output_type": "stream",
          "text": [
            "\"is black and oversized fit\"\n",
            "/home/sejong/Desktop/junseok/SPRC/musinsa/snap/men/coat/bb9dc2cd6cf0484ca76bae49281cbcc1.jpg /home/sejong/Desktop/junseok/SPRC/musinsa/goods/men/coat/WOOL BALANCE SINGLE COAT (DARK GRAY).jpg\n"
          ]
        },
        {
          "name": "stderr",
          "output_type": "stream",
          "text": [
            "coat-test: 100%|██████████| 50/50 [03:12<00:00,  3.84s/it]\n"
          ]
        },
        {
          "name": "stdout",
          "output_type": "stream",
          "text": [
            "\"is gray and regular length\"\n",
            "[INFO] Finished processing category: coat\n"
          ]
        },
        {
          "name": "stderr",
          "output_type": "stream",
          "text": [
            "jeans-train:   0%|          | 0/400 [00:00<?, ?it/s]"
          ]
        },
        {
          "name": "stdout",
          "output_type": "stream",
          "text": [
            "/home/sejong/Desktop/junseok/SPRC/musinsa/snap/men/jeans/29d299044a4242e982cbc9b763092d96.jpg /home/sejong/Desktop/junseok/SPRC/musinsa/goods/men/jeans/드롭 스트레이트 와이드 데님 팬츠 (GREYISH BLUE).jpg\n"
          ]
        },
        {
          "name": "stderr",
          "output_type": "stream",
          "text": [
            "jeans-train:   0%|          | 1/400 [00:04<32:31,  4.89s/it]"
          ]
        },
        {
          "name": "stdout",
          "output_type": "stream",
          "text": [
            "\"has a washed effect, and is dark blue, and is loose fit\"\n",
            "/home/sejong/Desktop/junseok/SPRC/musinsa/snap/men/jeans/da83dae7069b485eb40a713a77daf44c.jpg /home/sejong/Desktop/junseok/SPRC/musinsa/goods/men/jeans/Banding One Tuck Wide Denim Pants - Black.jpg\n"
          ]
        },
        {
          "name": "stderr",
          "output_type": "stream",
          "text": [
            "jeans-train:   0%|          | 2/400 [00:09<30:46,  4.64s/it]"
          ]
        },
        {
          "name": "stdout",
          "output_type": "stream",
          "text": [
            "\"has a ripped design, and is black, and is wide fit\"\n",
            "/home/sejong/Desktop/junseok/SPRC/musinsa/snap/men/jeans/29d299044a4242e982cbc9b763092d96.jpg /home/sejong/Desktop/junseok/SPRC/musinsa/goods/men/jeans/DP215 스탠다드 데님팬츠 (Light Blue).jpg\n"
          ]
        },
        {
          "name": "stderr",
          "output_type": "stream",
          "text": [
            "jeans-train:   1%|          | 3/400 [00:12<26:33,  4.01s/it]"
          ]
        },
        {
          "name": "stdout",
          "output_type": "stream",
          "text": [
            "\"is light blue and loose fit\"\n",
            "/home/sejong/Desktop/junseok/SPRC/musinsa/snap/men/jeans/65b13fb37d1e40fa8eb700ef508dde20.jpg /home/sejong/Desktop/junseok/SPRC/musinsa/goods/men/jeans/논페이드 와이드 데님팬츠[라이트 블루].jpg\n"
          ]
        },
        {
          "name": "stderr",
          "output_type": "stream",
          "text": [
            "jeans-train:   1%|          | 4/400 [00:16<25:07,  3.81s/it]"
          ]
        },
        {
          "name": "stdout",
          "output_type": "stream",
          "text": [
            "\"has a regular design, is light blue, and is loose fit\"\n",
            "/home/sejong/Desktop/junseok/SPRC/musinsa/snap/men/jeans/feb5dd76c561417bb2bfa8485bdbaf0a.jpg /home/sejong/Desktop/junseok/SPRC/musinsa/goods/men/jeans/51015 KURABO ROCKSTAR JEANS [WIDE STRAIGHT].jpg\n"
          ]
        },
        {
          "name": "stderr",
          "output_type": "stream",
          "text": [
            "jeans-train:   1%|▏         | 5/400 [00:21<28:52,  4.39s/it]"
          ]
        },
        {
          "name": "stdout",
          "output_type": "stream",
          "text": [
            "\"has a washed effect, and is light blue, and is wide fit\"\n",
            "/home/sejong/Desktop/junseok/SPRC/musinsa/snap/men/jeans/d81350b3aac64d198071f8eeebce7a47.jpg /home/sejong/Desktop/junseok/SPRC/musinsa/goods/men/jeans/Wide Semi Flare Denim Pants [Vintage Grey].jpg\n"
          ]
        },
        {
          "name": "stderr",
          "output_type": "stream",
          "text": [
            "jeans-train:   2%|▏         | 6/400 [00:30<39:38,  6.04s/it]"
          ]
        },
        {
          "name": "stdout",
          "output_type": "stream",
          "text": [
            "\"has a washed effect, and is gray, and is loose fit\"\n",
            "/home/sejong/Desktop/junseok/SPRC/musinsa/snap/men/jeans/d8fc6e97817a4b25afd51f8b64bfaac1.jpg /home/sejong/Desktop/junseok/SPRC/musinsa/goods/men/jeans/워싱 벌룬 와이드 데님 D617 - 블루.jpg\n"
          ]
        },
        {
          "name": "stderr",
          "output_type": "stream",
          "text": [
            "jeans-train:   2%|▏         | 7/400 [00:34<35:13,  5.38s/it]"
          ]
        },
        {
          "name": "stdout",
          "output_type": "stream",
          "text": [
            "\"has a washed effect, and is light blue, and is loose fit\"\n",
            "/home/sejong/Desktop/junseok/SPRC/musinsa/snap/men/jeans/1c34fad61c544f5a875af988bd4ac8ea.jpg /home/sejong/Desktop/junseok/SPRC/musinsa/goods/men/jeans/와이드 테이퍼드 데님 팬츠 (라이트 블루).jpg\n"
          ]
        },
        {
          "name": "stderr",
          "output_type": "stream",
          "text": [
            "jeans-train:   2%|▏         | 8/400 [00:39<34:42,  5.31s/it]"
          ]
        },
        {
          "name": "stdout",
          "output_type": "stream",
          "text": [
            "\"has a ripped design, and is light blue, and is loose fit\"\n",
            "/home/sejong/Desktop/junseok/SPRC/musinsa/snap/men/jeans/de1526ae745e4b94a6966c605b3f29a2.jpg /home/sejong/Desktop/junseok/SPRC/musinsa/goods/men/jeans/루즈 스트레이트 데님팬츠 (미디엄 블루).jpg\n"
          ]
        },
        {
          "name": "stderr",
          "output_type": "stream",
          "text": [
            "jeans-train:   2%|▏         | 9/400 [00:43<31:55,  4.90s/it]"
          ]
        },
        {
          "name": "stdout",
          "output_type": "stream",
          "text": [
            "\"has a washed effect, and is blue, and is loose fit\"\n",
            "/home/sejong/Desktop/junseok/SPRC/musinsa/snap/men/jeans/b266f06d04e64d5ebfcc28674ddc1c02.jpg /home/sejong/Desktop/junseok/SPRC/musinsa/goods/men/jeans/유니섹스 세미 와이드 데님 팬츠 딥 블루.jpg\n"
          ]
        },
        {
          "name": "stderr",
          "output_type": "stream",
          "text": [
            "jeans-train:   2%|▎         | 10/400 [00:48<31:48,  4.89s/it]"
          ]
        },
        {
          "name": "stdout",
          "output_type": "stream",
          "text": [
            "\"has a regular design, and is blue, and is wide fit\"\n",
            "/home/sejong/Desktop/junseok/SPRC/musinsa/snap/men/jeans/3b9e5a2cbfc54d9e9dbc78c9c7774ae1.jpg /home/sejong/Desktop/junseok/SPRC/musinsa/goods/men/jeans/프레디 세미 와이드 원턱 생지 데님 [RAW BLACK].jpg\n"
          ]
        },
        {
          "name": "stderr",
          "output_type": "stream",
          "text": [
            "jeans-train:   3%|▎         | 11/400 [00:54<32:19,  4.99s/it]"
          ]
        },
        {
          "name": "stdout",
          "output_type": "stream",
          "text": [
            "\"has a ripped design and is black and wide fit\"\n",
            "/home/sejong/Desktop/junseok/SPRC/musinsa/snap/men/jeans/8be81e159a914ca184ffa05ae21bf44d.jpg /home/sejong/Desktop/junseok/SPRC/musinsa/goods/men/jeans/유틸리티 카고 워싱 와이드 데님 팬츠 (BEIGE BLUE).jpg\n"
          ]
        },
        {
          "name": "stderr",
          "output_type": "stream",
          "text": [
            "jeans-train:   3%|▎         | 12/400 [00:58<32:10,  4.98s/it]"
          ]
        },
        {
          "name": "stdout",
          "output_type": "stream",
          "text": [
            "\"has a ripped design, and is light blue, and is wide fit\"\n",
            "/home/sejong/Desktop/junseok/SPRC/musinsa/snap/men/jeans/fdf9b131847f41d1af5e97a29975ec2e.jpg /home/sejong/Desktop/junseok/SPRC/musinsa/goods/men/jeans/빈티지 와이드 데님진 (블랙).jpg\n"
          ]
        },
        {
          "name": "stderr",
          "output_type": "stream",
          "text": [
            "jeans-train:   3%|▎         | 13/400 [01:04<34:02,  5.28s/it]"
          ]
        },
        {
          "name": "stdout",
          "output_type": "stream",
          "text": [
            "\"has a regular design, and is black, and is loose fit\"\n",
            "/home/sejong/Desktop/junseok/SPRC/musinsa/snap/men/jeans/bbc893e08ade4541a95353e108ed8e7f.jpg /home/sejong/Desktop/junseok/SPRC/musinsa/goods/men/jeans/원턱 로우 데님 팬츠 [와이드핏].jpg\n"
          ]
        },
        {
          "name": "stderr",
          "output_type": "stream",
          "text": [
            "jeans-train:   4%|▎         | 14/400 [01:08<29:42,  4.62s/it]"
          ]
        },
        {
          "name": "stdout",
          "output_type": "stream",
          "text": [
            "\"is blue and wide fit\"\n",
            "/home/sejong/Desktop/junseok/SPRC/musinsa/snap/men/jeans/54572dccffc9442f8b5b02e43dafe729.jpg /home/sejong/Desktop/junseok/SPRC/musinsa/goods/men/jeans/[무료반품] 벌룬 웨이스트 스냅 데님 팬츠 블랙.jpg\n"
          ]
        },
        {
          "name": "stderr",
          "output_type": "stream",
          "text": [
            "jeans-train:   4%|▍         | 15/400 [01:11<26:48,  4.18s/it]"
          ]
        },
        {
          "name": "stdout",
          "output_type": "stream",
          "text": [
            "\"has a regular design, and is black, and is loose fit\"\n",
            "/home/sejong/Desktop/junseok/SPRC/musinsa/snap/men/jeans/51a231a267de48dd9b3267e420494c91.jpg /home/sejong/Desktop/junseok/SPRC/musinsa/goods/men/jeans/논페이드 와이드 데님팬츠[라이트 블루].jpg\n"
          ]
        },
        {
          "name": "stderr",
          "output_type": "stream",
          "text": [
            "jeans-train:   4%|▍         | 16/400 [01:14<25:54,  4.05s/it]"
          ]
        },
        {
          "name": "stdout",
          "output_type": "stream",
          "text": [
            "\"has a washed effect, and is light blue, and is loose fit\"\n",
            "/home/sejong/Desktop/junseok/SPRC/musinsa/snap/men/jeans/c2e0f999488b45faabc095b8aec71d84.jpg /home/sejong/Desktop/junseok/SPRC/musinsa/goods/men/jeans/프린지 데님 와이드 팬츠(BLACK).jpg\n"
          ]
        },
        {
          "name": "stderr",
          "output_type": "stream",
          "text": [
            "jeans-train:   4%|▍         | 17/400 [01:18<24:49,  3.89s/it]"
          ]
        },
        {
          "name": "stdout",
          "output_type": "stream",
          "text": [
            "\"is black and wide fit\"\n",
            "/home/sejong/Desktop/junseok/SPRC/musinsa/snap/men/jeans/f113c84ca36243a0b28c4044365096ae.jpg /home/sejong/Desktop/junseok/SPRC/musinsa/goods/men/jeans/블랙 커브드 데님 팬츠  블랙.jpg\n"
          ]
        },
        {
          "name": "stderr",
          "output_type": "stream",
          "text": [
            "jeans-train:   4%|▍         | 18/400 [01:22<24:20,  3.82s/it]"
          ]
        },
        {
          "name": "stdout",
          "output_type": "stream",
          "text": [
            "\"is black and wide fit\"\n",
            "/home/sejong/Desktop/junseok/SPRC/musinsa/snap/men/jeans/a19d105eb4fe42809cab0c06c7d3140a.jpg /home/sejong/Desktop/junseok/SPRC/musinsa/goods/men/jeans/BALLOON FIT DENIM PANTS (BROWN TIN WASHED).jpg\n"
          ]
        },
        {
          "name": "stderr",
          "output_type": "stream",
          "text": [
            "jeans-train:   5%|▍         | 19/400 [01:25<23:48,  3.75s/it]"
          ]
        },
        {
          "name": "stdout",
          "output_type": "stream",
          "text": [
            "\"has a washed effect, and is light blue, and is wide fit\"\n",
            "/home/sejong/Desktop/junseok/SPRC/musinsa/snap/men/jeans/b3dc503fab8649caa77ae3ad14d6ef40.jpg /home/sejong/Desktop/junseok/SPRC/musinsa/goods/men/jeans/기모 남여공용 블랙 워싱 벌룬핏 와이드 데님 유니섹스(블랙_블루_진청).jpg\n"
          ]
        },
        {
          "name": "stderr",
          "output_type": "stream",
          "text": [
            "jeans-train:   5%|▌         | 20/400 [01:29<23:58,  3.78s/it]"
          ]
        },
        {
          "name": "stdout",
          "output_type": "stream",
          "text": [
            "\"has a washed effect, and is dark blue, and is wide fit\"\n",
            "/home/sejong/Desktop/junseok/SPRC/musinsa/snap/men/jeans/911e14fb41af4db58bed7f5d4f45aa10.jpg /home/sejong/Desktop/junseok/SPRC/musinsa/goods/men/jeans/Loose Flared Wide Jeans DCPT029Black.jpg\n"
          ]
        },
        {
          "name": "stderr",
          "output_type": "stream",
          "text": [
            "jeans-train:   5%|▌         | 21/400 [01:33<24:12,  3.83s/it]"
          ]
        },
        {
          "name": "stdout",
          "output_type": "stream",
          "text": [
            "\"has a regular design, and is black, and is wide fit\"\n",
            "/home/sejong/Desktop/junseok/SPRC/musinsa/snap/men/jeans/fa7af4516924495ea5e9898ca8460e35.jpg /home/sejong/Desktop/junseok/SPRC/musinsa/goods/men/jeans/하이웨이스트 화이트 데님 팬츠 [WH].jpg\n"
          ]
        },
        {
          "name": "stderr",
          "output_type": "stream",
          "text": [
            "jeans-train:   6%|▌         | 22/400 [01:35<20:53,  3.32s/it]"
          ]
        },
        {
          "name": "stdout",
          "output_type": "stream",
          "text": [
            "\"is light blue and wide fit\"\n",
            "/home/sejong/Desktop/junseok/SPRC/musinsa/snap/men/jeans/c9b0dc357a2044e9bd7b630de29ba80c.jpg /home/sejong/Desktop/junseok/SPRC/musinsa/goods/men/jeans/아토 다트 와이드 데님팬츠 블랙 MMLP6767.jpg\n"
          ]
        },
        {
          "name": "stderr",
          "output_type": "stream",
          "text": [
            "jeans-train:   6%|▌         | 23/400 [01:49<39:56,  6.36s/it]"
          ]
        },
        {
          "name": "stdout",
          "output_type": "stream",
          "text": [
            "\"has a ripped design, and is black, and is loose fit\"\n",
            "/home/sejong/Desktop/junseok/SPRC/musinsa/snap/men/jeans/34af6bb3ccf548aa960bf3bd3ac496ab.jpg /home/sejong/Desktop/junseok/SPRC/musinsa/goods/men/jeans/프린지 데님 와이드 팬츠(BLACK).jpg\n"
          ]
        },
        {
          "name": "stderr",
          "output_type": "stream",
          "text": [
            "jeans-train:   6%|▌         | 24/400 [01:52<34:41,  5.54s/it]"
          ]
        },
        {
          "name": "stdout",
          "output_type": "stream",
          "text": [
            "\"is black and wide fit\"\n",
            "/home/sejong/Desktop/junseok/SPRC/musinsa/snap/men/jeans/5e67b53f98b84977b808b9efd721a064.jpg /home/sejong/Desktop/junseok/SPRC/musinsa/goods/men/jeans/플레어 워시드 데님 팬츠 블루.jpg\n"
          ]
        },
        {
          "name": "stderr",
          "output_type": "stream",
          "text": [
            "jeans-train:   6%|▋         | 25/400 [01:58<34:29,  5.52s/it]"
          ]
        },
        {
          "name": "stdout",
          "output_type": "stream",
          "text": [
            "\"has a ripped design, and is blue, and is loose fit\"\n",
            "/home/sejong/Desktop/junseok/SPRC/musinsa/snap/men/jeans/80abb80045a14656aa36acbe87d41950.jpg /home/sejong/Desktop/junseok/SPRC/musinsa/goods/men/jeans/TCM starfish denim pants (black).jpg\n"
          ]
        },
        {
          "name": "stderr",
          "output_type": "stream",
          "text": [
            "jeans-train:   6%|▋         | 26/400 [02:01<30:45,  4.93s/it]"
          ]
        },
        {
          "name": "stdout",
          "output_type": "stream",
          "text": [
            "\"has a ripped design, is black, and is wide fit\"\n",
            "/home/sejong/Desktop/junseok/SPRC/musinsa/snap/men/jeans/8997e81fc86e4ef58c435e31fbe0489c.jpg /home/sejong/Desktop/junseok/SPRC/musinsa/goods/men/jeans/3 스티치 와이드 워싱 데님 팬츠 [DBLUE]_SEPT056DBLUE.jpg\n"
          ]
        },
        {
          "name": "stderr",
          "output_type": "stream",
          "text": [
            "jeans-train:   7%|▋         | 27/400 [02:05<29:01,  4.67s/it]"
          ]
        },
        {
          "name": "stdout",
          "output_type": "stream",
          "text": [
            "\"has a washed effect, and is dark blue, and is wide fit\"\n",
            "/home/sejong/Desktop/junseok/SPRC/musinsa/snap/men/jeans/a9f94d3076c64c8096e0094914e65833.jpg /home/sejong/Desktop/junseok/SPRC/musinsa/goods/men/jeans/라운드 포켓 벌룬핏 워싱 데님 팬츠 (LIGHT BLUE).jpg\n"
          ]
        },
        {
          "name": "stderr",
          "output_type": "stream",
          "text": [
            "jeans-train:   7%|▋         | 28/400 [02:09<26:51,  4.33s/it]"
          ]
        },
        {
          "name": "stdout",
          "output_type": "stream",
          "text": [
            "\"has a washed effect, and is light blue, and is wide fit\"\n",
            "/home/sejong/Desktop/junseok/SPRC/musinsa/snap/men/jeans/daf5edcf013049e985fdf5d4aa2fbfec.jpg /home/sejong/Desktop/junseok/SPRC/musinsa/goods/men/jeans/워싱 벌룬 데님 D611 - 샌드엘로우.jpg\n"
          ]
        },
        {
          "name": "stderr",
          "output_type": "stream",
          "text": [
            "jeans-train:   7%|▋         | 29/400 [02:12<25:26,  4.12s/it]"
          ]
        },
        {
          "name": "stdout",
          "output_type": "stream",
          "text": [
            "\"has a washed effect, and is blue, and is wide fit\"\n",
            "/home/sejong/Desktop/junseok/SPRC/musinsa/snap/men/jeans/b649c18052224ebdb0fe33ef8cbf7d70.jpg /home/sejong/Desktop/junseok/SPRC/musinsa/goods/men/jeans/TX201 세미플레어 데님 (중청).jpg\n"
          ]
        },
        {
          "name": "stderr",
          "output_type": "stream",
          "text": [
            "jeans-train:   8%|▊         | 30/400 [02:17<26:11,  4.25s/it]"
          ]
        },
        {
          "name": "stdout",
          "output_type": "stream",
          "text": [
            "\"has a washed effect, and is light blue, and is wide fit\"\n",
            "/home/sejong/Desktop/junseok/SPRC/musinsa/snap/men/jeans/bbc893e08ade4541a95353e108ed8e7f.jpg /home/sejong/Desktop/junseok/SPRC/musinsa/goods/men/jeans/[현킴 X 코프위]시밀롱 데님 팬츠 연청.jpg\n"
          ]
        },
        {
          "name": "stderr",
          "output_type": "stream",
          "text": [
            "jeans-train:   8%|▊         | 31/400 [02:20<24:22,  3.96s/it]"
          ]
        },
        {
          "name": "stdout",
          "output_type": "stream",
          "text": [
            "\"has a washed effect, and is light blue, and is wide fit\"\n",
            "/home/sejong/Desktop/junseok/SPRC/musinsa/snap/men/jeans/80ca5d540c4f45b194e7efecf6e8bf1f.jpg /home/sejong/Desktop/junseok/SPRC/musinsa/goods/men/jeans/딥 워싱 와이드 데님 팬츠 (WASHED BLACK).jpg\n"
          ]
        },
        {
          "name": "stderr",
          "output_type": "stream",
          "text": [
            "jeans-train:   8%|▊         | 32/400 [02:25<25:38,  4.18s/it]"
          ]
        },
        {
          "name": "stdout",
          "output_type": "stream",
          "text": [
            "\"has a ripped design and is black and wide fit\"\n",
            "/home/sejong/Desktop/junseok/SPRC/musinsa/snap/men/jeans/06c62c63844749cd802a47edc9fd9e54.jpg /home/sejong/Desktop/junseok/SPRC/musinsa/goods/men/jeans/HD 멀티 로고 아플리케 옐로우 워시드 데님 팬츠 딥블루.jpg\n"
          ]
        },
        {
          "name": "stderr",
          "output_type": "stream",
          "text": [
            "jeans-train:   8%|▊         | 33/400 [02:29<25:28,  4.16s/it]"
          ]
        },
        {
          "name": "stdout",
          "output_type": "stream",
          "text": [
            "\"has a ripped design, and is blue, and is wide fit\"\n",
            "/home/sejong/Desktop/junseok/SPRC/musinsa/snap/men/jeans/96c9cd30a221443b92986359abc955cf.jpg /home/sejong/Desktop/junseok/SPRC/musinsa/goods/men/jeans/Regular Jeans Blue.jpg\n"
          ]
        },
        {
          "name": "stderr",
          "output_type": "stream",
          "text": [
            "jeans-train:   8%|▊         | 34/400 [02:36<30:53,  5.07s/it]"
          ]
        },
        {
          "name": "stdout",
          "output_type": "stream",
          "text": [
            "\"has a washed effect, and is blue, and is loose fit\"\n",
            "/home/sejong/Desktop/junseok/SPRC/musinsa/snap/men/jeans/b205ecec4c0347d49369b2f4977fba79.jpg /home/sejong/Desktop/junseok/SPRC/musinsa/goods/men/jeans/벌룬핏 데님 시리즈_(3 STYLE).jpg\n"
          ]
        },
        {
          "name": "stderr",
          "output_type": "stream",
          "text": [
            "jeans-train:   9%|▉         | 35/400 [02:41<30:17,  4.98s/it]"
          ]
        },
        {
          "name": "stdout",
          "output_type": "stream",
          "text": [
            "\"has a ripped design, is light blue, and is loose fit\"\n",
            "/home/sejong/Desktop/junseok/SPRC/musinsa/snap/men/jeans/816829cfc8564fa3ad1bb07aa7dfbe48.jpg /home/sejong/Desktop/junseok/SPRC/musinsa/goods/men/jeans/Selvedge Relaxed Denim Pants Dark Indigo.jpg\n"
          ]
        },
        {
          "name": "stderr",
          "output_type": "stream",
          "text": [
            "jeans-train:   9%|▉         | 36/400 [02:47<31:27,  5.19s/it]"
          ]
        },
        {
          "name": "stdout",
          "output_type": "stream",
          "text": [
            "\"has a regular design, is dark blue, and is wide fit\"\n",
            "/home/sejong/Desktop/junseok/SPRC/musinsa/snap/men/jeans/464a57a316a347cc8cf82aeaba26435e.jpg /home/sejong/Desktop/junseok/SPRC/musinsa/goods/men/jeans/원턱 카운터 데님팬츠 [레인블랙].jpg\n"
          ]
        },
        {
          "name": "stderr",
          "output_type": "stream",
          "text": [
            "jeans-train:   9%|▉         | 37/400 [02:51<30:28,  5.04s/it]"
          ]
        },
        {
          "name": "stdout",
          "output_type": "stream",
          "text": [
            "\"has a washed effect, is black, and is wide fit\"\n",
            "/home/sejong/Desktop/junseok/SPRC/musinsa/snap/men/jeans/4cbefeb0aeb440899c070aebf4705f2d.jpg /home/sejong/Desktop/junseok/SPRC/musinsa/goods/men/jeans/MENS 루이스 스트레이트 데님 팬츠 진청.jpg\n"
          ]
        },
        {
          "name": "stderr",
          "output_type": "stream",
          "text": [
            "jeans-train:  10%|▉         | 38/400 [02:55<27:58,  4.64s/it]"
          ]
        },
        {
          "name": "stdout",
          "output_type": "stream",
          "text": [
            "\"has a washed effect, and is loose fit\"\n",
            "/home/sejong/Desktop/junseok/SPRC/musinsa/snap/men/jeans/7c289683a94c455f8c0a761425145fce.jpg /home/sejong/Desktop/junseok/SPRC/musinsa/goods/men/jeans/스모크 와이드 데님 팬츠 빈티지블랙 KMLP6669.jpg\n"
          ]
        },
        {
          "name": "stderr",
          "output_type": "stream",
          "text": [
            "jeans-train:  10%|▉         | 39/400 [02:59<26:09,  4.35s/it]"
          ]
        },
        {
          "name": "stdout",
          "output_type": "stream",
          "text": [
            "\"has a ripped design, and is black, and is loose fit\"\n",
            "/home/sejong/Desktop/junseok/SPRC/musinsa/snap/men/jeans/f64f7dea1d134d348a8af3e084a99e8e.jpg /home/sejong/Desktop/junseok/SPRC/musinsa/goods/men/jeans/Banding One Tuck Wide Denim Pants - Black.jpg\n"
          ]
        },
        {
          "name": "stderr",
          "output_type": "stream",
          "text": [
            "jeans-train:  10%|█         | 40/400 [03:03<25:15,  4.21s/it]"
          ]
        },
        {
          "name": "stdout",
          "output_type": "stream",
          "text": [
            "\"has a regular design, is black, and is wide fit\"\n",
            "/home/sejong/Desktop/junseok/SPRC/musinsa/snap/men/jeans/64f8a58c098941d2abe002c98a96dbc1.jpg /home/sejong/Desktop/junseok/SPRC/musinsa/goods/men/jeans/컴포트 와이드 데님 팬츠 (블랙).jpg\n"
          ]
        },
        {
          "name": "stderr",
          "output_type": "stream",
          "text": [
            "jeans-train:  10%|█         | 41/400 [03:06<23:33,  3.94s/it]"
          ]
        },
        {
          "name": "stdout",
          "output_type": "stream",
          "text": [
            "\"is black and wide fit\"\n",
            "/home/sejong/Desktop/junseok/SPRC/musinsa/snap/men/jeans/2e78b2c62e794b40a5d7ea926f70934f.jpg /home/sejong/Desktop/junseok/SPRC/musinsa/goods/men/jeans/DYSFUNCT KEY RING WASHING DENIM PANTS.jpg\n"
          ]
        },
        {
          "name": "stderr",
          "output_type": "stream",
          "text": [
            "jeans-train:  10%|█         | 42/400 [03:09<21:48,  3.66s/it]"
          ]
        },
        {
          "name": "stdout",
          "output_type": "stream",
          "text": [
            "\"has a washed effect and is wide fit\"\n",
            "/home/sejong/Desktop/junseok/SPRC/musinsa/snap/men/jeans/ef1863aa88654dd58e3bb41cbb18e465.jpg /home/sejong/Desktop/junseok/SPRC/musinsa/goods/men/jeans/사이드 트랙 데님 팬츠-블랙.jpg\n"
          ]
        },
        {
          "name": "stderr",
          "output_type": "stream",
          "text": [
            "jeans-train:  11%|█         | 43/400 [03:12<20:52,  3.51s/it]"
          ]
        },
        {
          "name": "stdout",
          "output_type": "stream",
          "text": [
            "\"has a ripped design, and is black, and is wide fit\"\n",
            "/home/sejong/Desktop/junseok/SPRC/musinsa/snap/men/jeans/c89fb7fca0114678b0870c1417b36b72.jpg /home/sejong/Desktop/junseok/SPRC/musinsa/goods/men/jeans/TCM ethnic denim pants (light blue).jpg\n"
          ]
        },
        {
          "name": "stderr",
          "output_type": "stream",
          "text": [
            "jeans-train:  11%|█         | 44/400 [03:15<20:01,  3.38s/it]"
          ]
        },
        {
          "name": "stdout",
          "output_type": "stream",
          "text": [
            "\"has a wider fit and is light blue\"\n",
            "/home/sejong/Desktop/junseok/SPRC/musinsa/snap/men/jeans/33ffd696b1c341fba03b928673a92014.jpg /home/sejong/Desktop/junseok/SPRC/musinsa/goods/men/jeans/세미와이드 생지 데님 팬츠 INDIGO.jpg\n"
          ]
        },
        {
          "name": "stderr",
          "output_type": "stream",
          "text": [
            "jeans-train:  11%|█▏        | 45/400 [03:19<20:03,  3.39s/it]"
          ]
        },
        {
          "name": "stdout",
          "output_type": "stream",
          "text": [
            "\"has a ripped design, and is dark blue, and is loose fit\"\n",
            "/home/sejong/Desktop/junseok/SPRC/musinsa/snap/men/jeans/11d28c5be96d490883694dcfca81773d.jpg /home/sejong/Desktop/junseok/SPRC/musinsa/goods/men/jeans/Tin Denim Washing Balloon Pants - Blue Denim.jpg\n"
          ]
        },
        {
          "name": "stderr",
          "output_type": "stream",
          "text": [
            "jeans-train:  12%|█▏        | 46/400 [03:22<19:15,  3.26s/it]"
          ]
        },
        {
          "name": "stdout",
          "output_type": "stream",
          "text": [
            "\"has a washed effect, and is light blue, and is wide fit\"\n",
            "/home/sejong/Desktop/junseok/SPRC/musinsa/snap/men/jeans/daf5edcf013049e985fdf5d4aa2fbfec.jpg /home/sejong/Desktop/junseok/SPRC/musinsa/goods/men/jeans/데님 커브드 와이드 팬츠 7COLOR COOSPT214.jpg\n"
          ]
        },
        {
          "name": "stderr",
          "output_type": "stream",
          "text": [
            "jeans-train:  12%|█▏        | 47/400 [03:26<21:54,  3.72s/it]"
          ]
        },
        {
          "name": "stdout",
          "output_type": "stream",
          "text": [
            "\"is dark blue and wide fit\"\n",
            "/home/sejong/Desktop/junseok/SPRC/musinsa/snap/men/jeans/31232ba2132d4176b3d70d732507163c.jpg /home/sejong/Desktop/junseok/SPRC/musinsa/goods/men/jeans/도밍고 데님팬츠 (베이지).jpg\n"
          ]
        },
        {
          "name": "stderr",
          "output_type": "stream",
          "text": [
            "jeans-train:  12%|█▏        | 48/400 [03:31<22:47,  3.88s/it]"
          ]
        },
        {
          "name": "stdout",
          "output_type": "stream",
          "text": [
            "\"has a ripped design, and is dark blue, and is wide fit\"\n",
            "/home/sejong/Desktop/junseok/SPRC/musinsa/snap/men/jeans/d76586cbc8744d6c99df973391163df1.jpg /home/sejong/Desktop/junseok/SPRC/musinsa/goods/men/jeans/웨이 브러쉬 데님 팬츠-LIGHT BLUE.jpg\n"
          ]
        },
        {
          "name": "stderr",
          "output_type": "stream",
          "text": [
            "jeans-train:  12%|█▏        | 49/400 [03:34<21:21,  3.65s/it]"
          ]
        },
        {
          "name": "stdout",
          "output_type": "stream",
          "text": [
            "\"has a ripped design, and is light blue, and is loose fit\"\n",
            "/home/sejong/Desktop/junseok/SPRC/musinsa/snap/men/jeans/70fe011329fd4a39a968b37bfd4b381b.jpg /home/sejong/Desktop/junseok/SPRC/musinsa/goods/men/jeans/One Pintuck wide 04 - Non fade brownie brown.jpg\n"
          ]
        },
        {
          "name": "stderr",
          "output_type": "stream",
          "text": [
            "jeans-train:  12%|█▎        | 50/400 [03:38<21:37,  3.71s/it]"
          ]
        },
        {
          "name": "stdout",
          "output_type": "stream",
          "text": [
            "\"has a regular design, and is brown, and is wide fit\"\n",
            "/home/sejong/Desktop/junseok/SPRC/musinsa/snap/men/jeans/339dc113fb8a49f0b9add3abc8f6fd9f.jpg /home/sejong/Desktop/junseok/SPRC/musinsa/goods/men/jeans/Western Studded Denim Pants (Dark Blue).jpg\n"
          ]
        },
        {
          "name": "stderr",
          "output_type": "stream",
          "text": [
            "jeans-train:  13%|█▎        | 51/400 [03:41<20:47,  3.58s/it]"
          ]
        },
        {
          "name": "stdout",
          "output_type": "stream",
          "text": [
            "\"has a regular design, and is dark blue, and is wide fit\"\n",
            "/home/sejong/Desktop/junseok/SPRC/musinsa/snap/men/jeans/7dac981a1f26495ab3974f72f5cf12ed.jpg /home/sejong/Desktop/junseok/SPRC/musinsa/goods/men/jeans/1year 스트레이트 데님 팬츠 블랙 FDP102.jpg\n"
          ]
        },
        {
          "name": "stderr",
          "output_type": "stream",
          "text": [
            "jeans-train:  13%|█▎        | 52/400 [03:46<23:05,  3.98s/it]"
          ]
        },
        {
          "name": "stdout",
          "output_type": "stream",
          "text": [
            "\"is black and loose fit\"\n",
            "/home/sejong/Desktop/junseok/SPRC/musinsa/snap/men/jeans/5de372cfe5f44eb5aeda94be37fc8b5c.jpg /home/sejong/Desktop/junseok/SPRC/musinsa/goods/men/jeans/Super Wide Dart Denim Pants BLACK.jpg\n"
          ]
        },
        {
          "name": "stderr",
          "output_type": "stream",
          "text": [
            "jeans-train:  13%|█▎        | 53/400 [03:49<21:32,  3.72s/it]"
          ]
        },
        {
          "name": "stdout",
          "output_type": "stream",
          "text": [
            "\"is black and is loose fit\"\n",
            "/home/sejong/Desktop/junseok/SPRC/musinsa/snap/men/jeans/af52c898b4ca4a7e9919b590f66f8c0e.jpg /home/sejong/Desktop/junseok/SPRC/musinsa/goods/men/jeans/GP082 포모 워시드 데님 팬츠 (BLACK).jpg\n"
          ]
        },
        {
          "name": "stderr",
          "output_type": "stream",
          "text": [
            "jeans-train:  14%|█▎        | 54/400 [03:52<20:01,  3.47s/it]"
          ]
        },
        {
          "name": "stdout",
          "output_type": "stream",
          "text": [
            "\"has a ripped design, and is black, and is wide fit\"\n",
            "/home/sejong/Desktop/junseok/SPRC/musinsa/snap/men/jeans/5c3089878d0a42c998edfe8ed3050f10.jpg /home/sejong/Desktop/junseok/SPRC/musinsa/goods/men/jeans/베이직 와이드 데님 팬츠 (DEEP BLUE).jpg\n"
          ]
        },
        {
          "name": "stderr",
          "output_type": "stream",
          "text": [
            "jeans-train:  14%|█▍        | 55/400 [03:55<19:24,  3.38s/it]"
          ]
        },
        {
          "name": "stdout",
          "output_type": "stream",
          "text": [
            "\"has a regular design, and is blue, and is loose fit\"\n",
            "/home/sejong/Desktop/junseok/SPRC/musinsa/snap/men/jeans/629d2233618b4a3085fe717fac8ec8c5.jpg /home/sejong/Desktop/junseok/SPRC/musinsa/goods/men/jeans/51058 KURABO MILKY WAY JEANS [WIDE STRAIGHT].jpg\n"
          ]
        },
        {
          "name": "stderr",
          "output_type": "stream",
          "text": [
            "jeans-train:  14%|█▍        | 56/400 [03:59<19:38,  3.43s/it]"
          ]
        },
        {
          "name": "stdout",
          "output_type": "stream",
          "text": [
            "\"has a washed effect, and is light blue, and is loose fit\"\n",
            "/home/sejong/Desktop/junseok/SPRC/musinsa/snap/men/jeans/4700bb0a9ccc43fba7adece4912d10ef.jpg /home/sejong/Desktop/junseok/SPRC/musinsa/goods/men/jeans/칸디아니 데님 팬츠 Indigo Blue.jpg\n"
          ]
        },
        {
          "name": "stderr",
          "output_type": "stream",
          "text": [
            "jeans-train:  14%|█▍        | 57/400 [04:01<18:29,  3.24s/it]"
          ]
        },
        {
          "name": "stdout",
          "output_type": "stream",
          "text": [
            "\"has a regular design, and is dark blue\"\n",
            "/home/sejong/Desktop/junseok/SPRC/musinsa/snap/men/jeans/225c411e4b6944ad88742bd8a4d2d681.jpg /home/sejong/Desktop/junseok/SPRC/musinsa/goods/men/jeans/Stitch Pocket Denim Pants - 2COL.jpg\n"
          ]
        },
        {
          "name": "stderr",
          "output_type": "stream",
          "text": [
            "jeans-train:  14%|█▍        | 58/400 [04:07<23:20,  4.09s/it]"
          ]
        },
        {
          "name": "stdout",
          "output_type": "stream",
          "text": [
            "\"has a ripped design, is black, and is wide fit\"\n",
            "/home/sejong/Desktop/junseok/SPRC/musinsa/snap/men/jeans/70749254ecde49e381b72fb31d570895.jpg /home/sejong/Desktop/junseok/SPRC/musinsa/goods/men/jeans/[무료반품][최대 1.2만원 할인] One Washed Wide Denim - 13 Color.jpg\n"
          ]
        },
        {
          "name": "stderr",
          "output_type": "stream",
          "text": [
            "jeans-train:  15%|█▍        | 59/400 [04:12<23:28,  4.13s/it]"
          ]
        },
        {
          "name": "stdout",
          "output_type": "stream",
          "text": [
            "\"has a ripped design, is light blue, and is wide fit\"\n",
            "/home/sejong/Desktop/junseok/SPRC/musinsa/snap/men/jeans/cc15b3fdfe364782abfe759f864fa544.jpg /home/sejong/Desktop/junseok/SPRC/musinsa/goods/men/jeans/REAL WIDE ONE TUCK DENIM RAW BLACK _ WIDE.jpg\n"
          ]
        },
        {
          "name": "stderr",
          "output_type": "stream",
          "text": [
            "jeans-train:  15%|█▌        | 60/400 [04:14<20:34,  3.63s/it]"
          ]
        },
        {
          "name": "stdout",
          "output_type": "stream",
          "text": [
            "\"is black and is wide fit\"\n",
            "/home/sejong/Desktop/junseok/SPRC/musinsa/snap/men/jeans/df197ac343f34b3987d5dd0f9a8c6889.jpg /home/sejong/Desktop/junseok/SPRC/musinsa/goods/men/jeans/논페이드 와이드 데님팬츠[라이트 블루].jpg\n"
          ]
        },
        {
          "name": "stderr",
          "output_type": "stream",
          "text": [
            "jeans-train:  15%|█▌        | 61/400 [04:19<22:49,  4.04s/it]"
          ]
        },
        {
          "name": "stdout",
          "output_type": "stream",
          "text": [
            "\"has a washed effect, and is light blue, and is loose fit\"\n",
            "/home/sejong/Desktop/junseok/SPRC/musinsa/snap/men/jeans/c2e0f999488b45faabc095b8aec71d84.jpg /home/sejong/Desktop/junseok/SPRC/musinsa/goods/men/jeans/Engineered Denim Pants [Painted Black].jpg\n"
          ]
        },
        {
          "name": "stderr",
          "output_type": "stream",
          "text": [
            "jeans-train:  16%|█▌        | 62/400 [04:25<25:58,  4.61s/it]"
          ]
        },
        {
          "name": "stdout",
          "output_type": "stream",
          "text": [
            "\"has a ripped design, is light blue, and is loose fit\"\n",
            "/home/sejong/Desktop/junseok/SPRC/musinsa/snap/men/jeans/c2209983c9454308a82f7e0b38840444.jpg /home/sejong/Desktop/junseok/SPRC/musinsa/goods/men/jeans/캣 브러쉬 워시드 데님 팬츠-블랙.jpg\n"
          ]
        },
        {
          "name": "stderr",
          "output_type": "stream",
          "text": [
            "jeans-train:  16%|█▌        | 63/400 [04:29<25:18,  4.51s/it]"
          ]
        },
        {
          "name": "stdout",
          "output_type": "stream",
          "text": [
            "\"has a washed effect, and is light blue, and is wide fit\"\n",
            "/home/sejong/Desktop/junseok/SPRC/musinsa/snap/men/jeans/1a21f7e099ab4a79837d1c260cce5a18.jpg /home/sejong/Desktop/junseok/SPRC/musinsa/goods/men/jeans/데일리 와이드 진 (WHITE).jpg\n"
          ]
        },
        {
          "name": "stderr",
          "output_type": "stream",
          "text": [
            "jeans-train:  16%|█▌        | 64/400 [04:33<23:58,  4.28s/it]"
          ]
        },
        {
          "name": "stdout",
          "output_type": "stream",
          "text": [
            "\"has a regular design, and is white, and is straight fit\"\n",
            "/home/sejong/Desktop/junseok/SPRC/musinsa/snap/men/jeans/fcb3b61650154c47a5015c4f9037f782.jpg /home/sejong/Desktop/junseok/SPRC/musinsa/goods/men/jeans/TX110 세미 와이드 데님 (흑청).jpg\n"
          ]
        },
        {
          "name": "stderr",
          "output_type": "stream",
          "text": [
            "jeans-train:  16%|█▋        | 65/400 [04:36<21:57,  3.93s/it]"
          ]
        },
        {
          "name": "stdout",
          "output_type": "stream",
          "text": [
            "\"has a washed effect, and is black, and is loose fit\"\n",
            "/home/sejong/Desktop/junseok/SPRC/musinsa/snap/men/jeans/19859af9cd0345feb2d150a7b91bb739.jpg /home/sejong/Desktop/junseok/SPRC/musinsa/goods/men/jeans/TX201 세미플레어 데님 (중청).jpg\n"
          ]
        },
        {
          "name": "stderr",
          "output_type": "stream",
          "text": [
            "jeans-train:  16%|█▋        | 66/400 [04:43<26:57,  4.84s/it]"
          ]
        },
        {
          "name": "stdout",
          "output_type": "stream",
          "text": [
            "\"has a washed effect, and is light blue, and is straight fit\"\n",
            "/home/sejong/Desktop/junseok/SPRC/musinsa/snap/men/jeans/5089c3f2a706470f8951e7ade16cf7fb.jpg /home/sejong/Desktop/junseok/SPRC/musinsa/goods/men/jeans/베이직 청바지 3 Color [ULZD_0001].jpg\n"
          ]
        },
        {
          "name": "stderr",
          "output_type": "stream",
          "text": [
            "jeans-train:  17%|█▋        | 67/400 [04:47<25:06,  4.52s/it]"
          ]
        },
        {
          "name": "stdout",
          "output_type": "stream",
          "text": [
            "\"has a ripped design, and is black, and is loose fit\"\n",
            "/home/sejong/Desktop/junseok/SPRC/musinsa/snap/men/jeans/d75694d99fcd42319df660f44a6531ae.jpg /home/sejong/Desktop/junseok/SPRC/musinsa/goods/men/jeans/[무료반품] 턴업 데님 팬츠 딥블루.jpg\n"
          ]
        },
        {
          "name": "stderr",
          "output_type": "stream",
          "text": [
            "jeans-train:  17%|█▋        | 68/400 [04:50<23:25,  4.23s/it]"
          ]
        },
        {
          "name": "stdout",
          "output_type": "stream",
          "text": [
            "\"has a washed effect, and is dark blue, and is loose fit\"\n",
            "/home/sejong/Desktop/junseok/SPRC/musinsa/snap/men/jeans/a9157e08f93b4ea38ca677082cc9f9d7.jpg /home/sejong/Desktop/junseok/SPRC/musinsa/goods/men/jeans/SKATER BELTED DENIM PANTS_WASHED DENIM.jpg\n"
          ]
        },
        {
          "name": "stderr",
          "output_type": "stream",
          "text": [
            "jeans-train:  17%|█▋        | 69/400 [04:56<24:54,  4.52s/it]"
          ]
        },
        {
          "name": "stdout",
          "output_type": "stream",
          "text": [
            "\"has a washed effect, and is light blue, and is loose fit\"\n",
            "/home/sejong/Desktop/junseok/SPRC/musinsa/snap/men/jeans/89bce7ca979143d1b6c5a3d6e3d4d305.jpg /home/sejong/Desktop/junseok/SPRC/musinsa/goods/men/jeans/벌룬 와이드 카고 밴딩 팬츠 D647 - 3COLOR.jpg\n"
          ]
        },
        {
          "name": "stderr",
          "output_type": "stream",
          "text": [
            "jeans-train:  18%|█▊        | 70/400 [04:59<22:37,  4.11s/it]"
          ]
        },
        {
          "name": "stdout",
          "output_type": "stream",
          "text": [
            "\"is wide fit and is brown\"\n",
            "/home/sejong/Desktop/junseok/SPRC/musinsa/snap/men/jeans/af263ca5e4c6485dad699a8b8f0edd61.jpg /home/sejong/Desktop/junseok/SPRC/musinsa/goods/men/jeans/테리 워시드 데님 팬츠 미들 블루.jpg\n"
          ]
        },
        {
          "name": "stderr",
          "output_type": "stream",
          "text": [
            "jeans-train:  18%|█▊        | 71/400 [05:02<20:54,  3.81s/it]"
          ]
        },
        {
          "name": "stdout",
          "output_type": "stream",
          "text": [
            "\"is light blue and wide fit\"\n",
            "/home/sejong/Desktop/junseok/SPRC/musinsa/snap/men/jeans/60d6966670634843912c03ed86f0d22f.jpg /home/sejong/Desktop/junseok/SPRC/musinsa/goods/men/jeans/Regular Jeans Blue.jpg\n"
          ]
        },
        {
          "name": "stderr",
          "output_type": "stream",
          "text": [
            "jeans-train:  18%|█▊        | 72/400 [05:06<20:26,  3.74s/it]"
          ]
        },
        {
          "name": "stdout",
          "output_type": "stream",
          "text": [
            "\"has a ripped design, and is blue, and is loose fit\"\n",
            "/home/sejong/Desktop/junseok/SPRC/musinsa/snap/men/jeans/bb79acff4ef449b0bd80e3ed27b247ff.jpg /home/sejong/Desktop/junseok/SPRC/musinsa/goods/men/jeans/브러쉬드 부츠컷 데님 팬츠 (INDIGO).jpg\n"
          ]
        },
        {
          "name": "stderr",
          "output_type": "stream",
          "text": [
            "jeans-train:  18%|█▊        | 73/400 [05:09<19:53,  3.65s/it]"
          ]
        },
        {
          "name": "stdout",
          "output_type": "stream",
          "text": [
            "\"has a ripped design, and is light blue, and is wide fit\"\n",
            "/home/sejong/Desktop/junseok/SPRC/musinsa/snap/men/jeans/d71a8dfa4cf84792af5caa9d2d017eb0.jpg /home/sejong/Desktop/junseok/SPRC/musinsa/goods/men/jeans/BALLOON FIT CURVED JEANS BLACK.jpg\n"
          ]
        },
        {
          "name": "stderr",
          "output_type": "stream",
          "text": [
            "jeans-train:  18%|█▊        | 74/400 [05:12<19:11,  3.53s/it]"
          ]
        },
        {
          "name": "stdout",
          "output_type": "stream",
          "text": [
            "\"is black and is wide fit\"\n",
            "/home/sejong/Desktop/junseok/SPRC/musinsa/snap/men/jeans/68d4448234d1414793de4e748d9cc1d6.jpg /home/sejong/Desktop/junseok/SPRC/musinsa/goods/men/jeans/워시드 와이드 데님 팬츠 [BLACK].jpg\n"
          ]
        },
        {
          "name": "stderr",
          "output_type": "stream",
          "text": [
            "jeans-train:  19%|█▉        | 75/400 [05:16<19:52,  3.67s/it]"
          ]
        },
        {
          "name": "stdout",
          "output_type": "stream",
          "text": [
            "\"has a regular design, and is black, and is wide fit\"\n",
            "/home/sejong/Desktop/junseok/SPRC/musinsa/snap/men/jeans/de1526ae745e4b94a6966c605b3f29a2.jpg /home/sejong/Desktop/junseok/SPRC/musinsa/goods/men/jeans/맥스와이드 데님 더스트 그레이.jpg\n"
          ]
        },
        {
          "name": "stderr",
          "output_type": "stream",
          "text": [
            "jeans-train:  19%|█▉        | 76/400 [05:20<20:48,  3.85s/it]"
          ]
        },
        {
          "name": "stdout",
          "output_type": "stream",
          "text": [
            "\"has a washed effect, and is light blue, and is wide fit\"\n",
            "/home/sejong/Desktop/junseok/SPRC/musinsa/snap/men/jeans/5c9196f906ca4344ba00775280a7ad47.jpg /home/sejong/Desktop/junseok/SPRC/musinsa/goods/men/jeans/EXTRA WIDE DENIM PANTS [MEDIUM BLUE].jpg\n"
          ]
        },
        {
          "name": "stderr",
          "output_type": "stream",
          "text": [
            "jeans-train:  19%|█▉        | 77/400 [05:24<20:24,  3.79s/it]"
          ]
        },
        {
          "name": "stdout",
          "output_type": "stream",
          "text": [
            "\"has a washed effect, and is light blue, and is wide fit\"\n",
            "/home/sejong/Desktop/junseok/SPRC/musinsa/snap/men/jeans/305ab24aa0c54e09aed09714f3c61e7a.jpg /home/sejong/Desktop/junseok/SPRC/musinsa/goods/men/jeans/빈티지 와이드 벌룬 데님팬츠_블루.jpg\n"
          ]
        },
        {
          "name": "stderr",
          "output_type": "stream",
          "text": [
            "jeans-train:  20%|█▉        | 78/400 [05:28<20:23,  3.80s/it]"
          ]
        },
        {
          "name": "stdout",
          "output_type": "stream",
          "text": [
            "\"has a washed effect, and is blue, and is loose fit\"\n",
            "/home/sejong/Desktop/junseok/SPRC/musinsa/snap/men/jeans/d383717aca8d402b8300df82bc4bd416.jpg /home/sejong/Desktop/junseok/SPRC/musinsa/goods/men/jeans/빈티지 프론트 워싱 와이드 청바지 데님 팬츠.jpg\n"
          ]
        },
        {
          "name": "stderr",
          "output_type": "stream",
          "text": [
            "jeans-train:  20%|█▉        | 79/400 [05:32<21:29,  4.02s/it]"
          ]
        },
        {
          "name": "stdout",
          "output_type": "stream",
          "text": [
            "\"has a washed effect, and is light blue, and is wide fit\"\n",
            "/home/sejong/Desktop/junseok/SPRC/musinsa/snap/men/jeans/20616b3ec52142e9b4a364a2f1b51b20.jpg /home/sejong/Desktop/junseok/SPRC/musinsa/goods/men/jeans/Banding One Tuck Wide Denim Pants - Pink.jpg\n"
          ]
        },
        {
          "name": "stderr",
          "output_type": "stream",
          "text": [
            "jeans-train:  20%|██        | 80/400 [05:37<22:38,  4.25s/it]"
          ]
        },
        {
          "name": "stdout",
          "output_type": "stream",
          "text": [
            "\"has a washed effect, and is light blue, and is wide fit\"\n",
            "/home/sejong/Desktop/junseok/SPRC/musinsa/snap/men/jeans/923ddcd737e741c8bedcfb0e4baa3cad.jpg /home/sejong/Desktop/junseok/SPRC/musinsa/goods/men/jeans/세미 벌룬 데님 팬츠 화이트.jpg\n"
          ]
        },
        {
          "name": "stderr",
          "output_type": "stream",
          "text": [
            "jeans-train:  20%|██        | 81/400 [05:40<20:46,  3.91s/it]"
          ]
        },
        {
          "name": "stdout",
          "output_type": "stream",
          "text": [
            "\"has a ripped design and is wide fit\"\n",
            "/home/sejong/Desktop/junseok/SPRC/musinsa/snap/men/jeans/b0d61653df6c4d7aa4530518e0d25e72.jpg /home/sejong/Desktop/junseok/SPRC/musinsa/goods/men/jeans/Multi Studded Denim Pants (Blue).jpg\n"
          ]
        },
        {
          "name": "stderr",
          "output_type": "stream",
          "text": [
            "jeans-train:  20%|██        | 82/400 [05:43<19:25,  3.67s/it]"
          ]
        },
        {
          "name": "stdout",
          "output_type": "stream",
          "text": [
            "\"has a washed effect, and is light blue, and is loose fit\"\n",
            "/home/sejong/Desktop/junseok/SPRC/musinsa/snap/men/jeans/cb6d2cd4a1f34a2db3373c529d84cdba.jpg /home/sejong/Desktop/junseok/SPRC/musinsa/goods/men/jeans/POP Pink Brush Denim Pants LIGHT BLUE.jpg\n"
          ]
        },
        {
          "name": "stderr",
          "output_type": "stream",
          "text": [
            "jeans-train:  21%|██        | 83/400 [05:48<20:24,  3.86s/it]"
          ]
        },
        {
          "name": "stdout",
          "output_type": "stream",
          "text": [
            "\"has a washed effect, and is light blue, and is wide fit\"\n",
            "/home/sejong/Desktop/junseok/SPRC/musinsa/snap/men/jeans/2254dd936b8d4820a23b655a90ef8696.jpg /home/sejong/Desktop/junseok/SPRC/musinsa/goods/men/jeans/프린지 데님 와이드 팬츠(WHITE).jpg\n"
          ]
        },
        {
          "name": "stderr",
          "output_type": "stream",
          "text": [
            "jeans-train:  21%|██        | 84/400 [05:51<19:38,  3.73s/it]"
          ]
        },
        {
          "name": "stdout",
          "output_type": "stream",
          "text": [
            "\"has a ripped design, and is white, and is wide fit\"\n",
            "/home/sejong/Desktop/junseok/SPRC/musinsa/snap/men/jeans/aebb60d99a93459581291e1c1de298f6.jpg /home/sejong/Desktop/junseok/SPRC/musinsa/goods/men/jeans/이지 워시드 와이드 데님 팬츠 [빈티지블랙].jpg\n"
          ]
        },
        {
          "name": "stderr",
          "output_type": "stream",
          "text": [
            "jeans-train:  21%|██▏       | 85/400 [05:54<18:49,  3.59s/it]"
          ]
        },
        {
          "name": "stdout",
          "output_type": "stream",
          "text": [
            "\"has a ripped design, and is black, and is loose fit\"\n",
            "/home/sejong/Desktop/junseok/SPRC/musinsa/snap/men/jeans/eb5a085908d348c0a2899dbdbe60e414.jpg /home/sejong/Desktop/junseok/SPRC/musinsa/goods/men/jeans/오정규x아워데이즈 스트레이트 데님 [4COLORS].jpg\n"
          ]
        },
        {
          "name": "stderr",
          "output_type": "stream",
          "text": [
            "jeans-train:  22%|██▏       | 86/400 [05:59<19:41,  3.76s/it]"
          ]
        },
        {
          "name": "stdout",
          "output_type": "stream",
          "text": [
            "\"has a ripped design, is black, and is wide fit\"\n",
            "/home/sejong/Desktop/junseok/SPRC/musinsa/snap/men/jeans/403f762b5f294c4db1d32bea11f23e21.jpg /home/sejong/Desktop/junseok/SPRC/musinsa/goods/men/jeans/사이드핀턱 벌룬와이드 데님팬츠 블랙.jpg\n"
          ]
        },
        {
          "name": "stderr",
          "output_type": "stream",
          "text": [
            "jeans-train:  22%|██▏       | 87/400 [06:01<18:08,  3.48s/it]"
          ]
        },
        {
          "name": "stdout",
          "output_type": "stream",
          "text": [
            "\"is black and loose fit\"\n",
            "/home/sejong/Desktop/junseok/SPRC/musinsa/snap/men/jeans/59c2167a43f347d7a6594feafbb42ee3.jpg /home/sejong/Desktop/junseok/SPRC/musinsa/goods/men/jeans/Creepy Patch Denim Pants(BLUE).jpg\n"
          ]
        },
        {
          "name": "stderr",
          "output_type": "stream",
          "text": [
            "jeans-train:  22%|██▏       | 88/400 [06:07<21:26,  4.12s/it]"
          ]
        },
        {
          "name": "stdout",
          "output_type": "stream",
          "text": [
            "\"has a ripped design, is blue, and is loose fit\"\n",
            "/home/sejong/Desktop/junseok/SPRC/musinsa/snap/men/jeans/a6d0488e2b4c4b6c9c34cc520a53ee6b.jpg /home/sejong/Desktop/junseok/SPRC/musinsa/goods/men/jeans/빈티지 와이드 데님진 (크림).jpg\n"
          ]
        },
        {
          "name": "stderr",
          "output_type": "stream",
          "text": [
            "jeans-train:  22%|██▏       | 89/400 [06:12<23:07,  4.46s/it]"
          ]
        },
        {
          "name": "stdout",
          "output_type": "stream",
          "text": [
            "\"is wide fit\"\n",
            "/home/sejong/Desktop/junseok/SPRC/musinsa/snap/men/jeans/e706c5e504274fa194f34ea15fce2df1.jpg /home/sejong/Desktop/junseok/SPRC/musinsa/goods/men/jeans/Lot 47801XX 1947s Selvedge Denim Jeans.jpg\n"
          ]
        },
        {
          "name": "stderr",
          "output_type": "stream",
          "text": [
            "jeans-train:  22%|██▎       | 90/400 [06:16<21:57,  4.25s/it]"
          ]
        },
        {
          "name": "stdout",
          "output_type": "stream",
          "text": [
            "\"has a regular design, and is dark blue, and is loose fit\"\n",
            "/home/sejong/Desktop/junseok/SPRC/musinsa/snap/men/jeans/53aee1437e72480e8705c946c5271d17.jpg /home/sejong/Desktop/junseok/SPRC/musinsa/goods/men/jeans/워시드 밴딩 빅벌룬 데님팬츠 연청.jpg\n"
          ]
        },
        {
          "name": "stderr",
          "output_type": "stream",
          "text": [
            "jeans-train:  23%|██▎       | 91/400 [06:20<20:55,  4.06s/it]"
          ]
        },
        {
          "name": "stdout",
          "output_type": "stream",
          "text": [
            "\"has a washed effect, and is light blue, and is loose fit\"\n",
            "/home/sejong/Desktop/junseok/SPRC/musinsa/snap/men/jeans/10cc448bc8c545428e868a72a198178e.jpg /home/sejong/Desktop/junseok/SPRC/musinsa/goods/men/jeans/T.S DENIM PANTS - WASHED NAVY.jpg\n"
          ]
        },
        {
          "name": "stderr",
          "output_type": "stream",
          "text": [
            "jeans-train:  23%|██▎       | 92/400 [06:23<20:19,  3.96s/it]"
          ]
        },
        {
          "name": "stdout",
          "output_type": "stream",
          "text": [
            "\"has a ripped design, and is blue, and is loose fit\"\n",
            "/home/sejong/Desktop/junseok/SPRC/musinsa/snap/men/jeans/1a21f7e099ab4a79837d1c260cce5a18.jpg /home/sejong/Desktop/junseok/SPRC/musinsa/goods/men/jeans/SDP 미니멀 스트레이트 데님 팬츠 3color.jpg\n"
          ]
        },
        {
          "name": "stderr",
          "output_type": "stream",
          "text": [
            "jeans-train:  23%|██▎       | 93/400 [06:27<18:57,  3.71s/it]"
          ]
        },
        {
          "name": "stdout",
          "output_type": "stream",
          "text": [
            "\"has a washed effect, and is light blue, and is wide fit\"\n",
            "/home/sejong/Desktop/junseok/SPRC/musinsa/snap/men/jeans/5de372cfe5f44eb5aeda94be37fc8b5c.jpg /home/sejong/Desktop/junseok/SPRC/musinsa/goods/men/jeans/스티즈 K81 미드 블루.jpg\n"
          ]
        },
        {
          "name": "stderr",
          "output_type": "stream",
          "text": [
            "jeans-train:  24%|██▎       | 94/400 [06:32<21:09,  4.15s/it]"
          ]
        },
        {
          "name": "stdout",
          "output_type": "stream",
          "text": [
            "\"has a ripped design, and is blue, and is wide fit\"\n",
            "/home/sejong/Desktop/junseok/SPRC/musinsa/snap/men/jeans/7c9d05516b3e417581f83a8510ed5562.jpg /home/sejong/Desktop/junseok/SPRC/musinsa/goods/men/jeans/후크드 카고 데님 팬츠 [VINTAGE BLUE].jpg\n"
          ]
        },
        {
          "name": "stderr",
          "output_type": "stream",
          "text": [
            "jeans-train:  24%|██▍       | 95/400 [06:37<22:39,  4.46s/it]"
          ]
        },
        {
          "name": "stdout",
          "output_type": "stream",
          "text": [
            "\"has a ripped design, and is light blue, and is loose fit\"\n",
            "/home/sejong/Desktop/junseok/SPRC/musinsa/snap/men/jeans/1313eb54e25548e1ac425dad7c2e7fd1.jpg /home/sejong/Desktop/junseok/SPRC/musinsa/goods/men/jeans/87-STAN039 캣샌드 워싱 와이드 카고 데님팬츠 빈티지 블루.jpg\n"
          ]
        },
        {
          "name": "stderr",
          "output_type": "stream",
          "text": [
            "jeans-train:  24%|██▍       | 96/400 [06:41<22:16,  4.40s/it]"
          ]
        },
        {
          "name": "stdout",
          "output_type": "stream",
          "text": [
            "\"has a ripped design, and is light blue, and is wide fit\"\n",
            "/home/sejong/Desktop/junseok/SPRC/musinsa/snap/men/jeans/832785466ff74558bd1cdb501b0a0b15.jpg /home/sejong/Desktop/junseok/SPRC/musinsa/goods/men/jeans/COVER DENIM PANTS (DENIM).jpg\n"
          ]
        },
        {
          "name": "stderr",
          "output_type": "stream",
          "text": [
            "jeans-train:  24%|██▍       | 97/400 [06:45<21:28,  4.25s/it]"
          ]
        },
        {
          "name": "stdout",
          "output_type": "stream",
          "text": [
            "\"has a ripped design, is light blue, and is loose fit\"\n",
            "/home/sejong/Desktop/junseok/SPRC/musinsa/snap/men/jeans/59875cce5e7d41d1ba1cab6d8140cedf.jpg /home/sejong/Desktop/junseok/SPRC/musinsa/goods/men/jeans/디스트로이드 크링클 데님 팬츠 (블루).jpg\n"
          ]
        },
        {
          "name": "stderr",
          "output_type": "stream",
          "text": [
            "jeans-train:  24%|██▍       | 98/400 [06:49<20:28,  4.07s/it]"
          ]
        },
        {
          "name": "stdout",
          "output_type": "stream",
          "text": [
            "\"has a ripped design, and is green, and is loose fit\"\n",
            "/home/sejong/Desktop/junseok/SPRC/musinsa/snap/men/jeans/ea05396d7766450c8399f1661b9671be.jpg /home/sejong/Desktop/junseok/SPRC/musinsa/goods/men/jeans/로씨로씨 X 그래피커스 Crochet Jeans [MIDDLE BLUE].jpg\n"
          ]
        },
        {
          "name": "stderr",
          "output_type": "stream",
          "text": [
            "jeans-train:  25%|██▍       | 99/400 [06:52<19:41,  3.92s/it]"
          ]
        },
        {
          "name": "stdout",
          "output_type": "stream",
          "text": [
            "\"has a regular design, and is blue, and is wide fit\"\n",
            "/home/sejong/Desktop/junseok/SPRC/musinsa/snap/men/jeans/a43bba1d004d483597bbd0d59bd03225.jpg /home/sejong/Desktop/junseok/SPRC/musinsa/goods/men/jeans/더티 워싱 데님팬츠 (진청).jpg\n"
          ]
        },
        {
          "name": "stderr",
          "output_type": "stream",
          "text": [
            "jeans-train:  25%|██▌       | 100/400 [06:56<19:53,  3.98s/it]"
          ]
        },
        {
          "name": "stdout",
          "output_type": "stream",
          "text": [
            "\"has a washed effect, and is dark blue, and is wide fit\"\n",
            "/home/sejong/Desktop/junseok/SPRC/musinsa/snap/men/jeans/9e45c2e54ab84918832c26de1d55477a.jpg /home/sejong/Desktop/junseok/SPRC/musinsa/goods/men/jeans/Travail Box Denim Pants - INDIGO.jpg\n"
          ]
        },
        {
          "name": "stderr",
          "output_type": "stream",
          "text": [
            "jeans-train:  25%|██▌       | 101/400 [07:00<19:30,  3.92s/it]"
          ]
        },
        {
          "name": "stdout",
          "output_type": "stream",
          "text": [
            "\"has a ripped design, and is dark blue, and is wide fit\"\n",
            "/home/sejong/Desktop/junseok/SPRC/musinsa/snap/men/jeans/180cbff0a96e49d486398d232171df55.jpg /home/sejong/Desktop/junseok/SPRC/musinsa/goods/men/jeans/One Tuck Wide Slacks Denim Pants [Washed Black].jpg\n"
          ]
        },
        {
          "name": "stderr",
          "output_type": "stream",
          "text": [
            "jeans-train:  26%|██▌       | 102/400 [07:04<19:34,  3.94s/it]"
          ]
        },
        {
          "name": "stdout",
          "output_type": "stream",
          "text": [
            "\"is wide fit, has a washed effect, and is black\"\n",
            "/home/sejong/Desktop/junseok/SPRC/musinsa/snap/men/jeans/b266f06d04e64d5ebfcc28674ddc1c02.jpg /home/sejong/Desktop/junseok/SPRC/musinsa/goods/men/jeans/Relaxed Jeans Black.jpg\n"
          ]
        },
        {
          "name": "stderr",
          "output_type": "stream",
          "text": [
            "jeans-train:  26%|██▌       | 103/400 [07:07<18:32,  3.75s/it]"
          ]
        },
        {
          "name": "stdout",
          "output_type": "stream",
          "text": [
            "\"is black and has a regular design and is loose fit\"\n",
            "/home/sejong/Desktop/junseok/SPRC/musinsa/snap/men/jeans/98b076ec03054c128bacee28eebfac3b.jpg /home/sejong/Desktop/junseok/SPRC/musinsa/goods/men/jeans/시티 와이드 데님 팬츠 (IVORY).jpg\n"
          ]
        },
        {
          "name": "stderr",
          "output_type": "stream",
          "text": [
            "jeans-train:  26%|██▌       | 104/400 [07:11<18:26,  3.74s/it]"
          ]
        },
        {
          "name": "stdout",
          "output_type": "stream",
          "text": [
            "\"has a loose fit and is slightly longer length\"\n",
            "/home/sejong/Desktop/junseok/SPRC/musinsa/snap/men/jeans/ea8592917a504c948700a6c2d7b5be48.jpg /home/sejong/Desktop/junseok/SPRC/musinsa/goods/men/jeans/투턱 트렌디 와이드 데님팬츠[중청].jpg\n"
          ]
        },
        {
          "name": "stderr",
          "output_type": "stream",
          "text": [
            "jeans-train:  26%|██▋       | 105/400 [07:15<18:31,  3.77s/it]"
          ]
        },
        {
          "name": "stdout",
          "output_type": "stream",
          "text": [
            "\"has a washed effect, and is light blue, and is wide fit\"\n",
            "/home/sejong/Desktop/junseok/SPRC/musinsa/snap/men/jeans/278083ba495e4b1e9b1c1f48d45c3bce.jpg /home/sejong/Desktop/junseok/SPRC/musinsa/goods/men/jeans/87-STAN039 캣샌드 워싱 와이드 카고 데님팬츠 빈티지 블루.jpg\n"
          ]
        },
        {
          "name": "stderr",
          "output_type": "stream",
          "text": [
            "jeans-train:  26%|██▋       | 106/400 [07:19<18:07,  3.70s/it]"
          ]
        },
        {
          "name": "stdout",
          "output_type": "stream",
          "text": [
            "\"has a ripped design, is light blue, and is wide fit\"\n",
            "/home/sejong/Desktop/junseok/SPRC/musinsa/snap/men/jeans/5c5b770cb3bd4936aef378186a2ab08d.jpg /home/sejong/Desktop/junseok/SPRC/musinsa/goods/men/jeans/#0325 REMAKE 1970s REGULAR FIT - D_BLUE.jpg\n"
          ]
        },
        {
          "name": "stderr",
          "output_type": "stream",
          "text": [
            "jeans-train:  27%|██▋       | 107/400 [07:22<17:41,  3.62s/it]"
          ]
        },
        {
          "name": "stdout",
          "output_type": "stream",
          "text": [
            "\"has a washed effect, and is dark blue, and is loose fit\"\n",
            "/home/sejong/Desktop/junseok/SPRC/musinsa/snap/men/jeans/5a5906bfb62449198325beeb697bd2ae.jpg /home/sejong/Desktop/junseok/SPRC/musinsa/goods/men/jeans/Banding One Tuck Wide Denim Pants - Deep Blue.jpg\n"
          ]
        },
        {
          "name": "stderr",
          "output_type": "stream",
          "text": [
            "jeans-train:  27%|██▋       | 108/400 [07:26<18:14,  3.75s/it]"
          ]
        },
        {
          "name": "stdout",
          "output_type": "stream",
          "text": [
            "\"has a washed effect, and is light blue, and is loose fit\"\n",
            "/home/sejong/Desktop/junseok/SPRC/musinsa/snap/men/jeans/10cc448bc8c545428e868a72a198178e.jpg /home/sejong/Desktop/junseok/SPRC/musinsa/goods/men/jeans/118 Classic Wide Tapered (Vintage Light).jpg\n"
          ]
        },
        {
          "name": "stderr",
          "output_type": "stream",
          "text": [
            "jeans-train:  27%|██▋       | 109/400 [07:30<19:12,  3.96s/it]"
          ]
        },
        {
          "name": "stdout",
          "output_type": "stream",
          "text": [
            "\"is light blue and has a ripped design\"\n",
            "/home/sejong/Desktop/junseok/SPRC/musinsa/snap/men/jeans/d53d015a1a674082a25ba6837ac62038.jpg /home/sejong/Desktop/junseok/SPRC/musinsa/goods/men/jeans/빅터 커브드 데님 팬츠 (블랙).jpg\n"
          ]
        },
        {
          "name": "stderr",
          "output_type": "stream",
          "text": [
            "jeans-train:  28%|██▊       | 110/400 [07:38<24:10,  5.00s/it]"
          ]
        },
        {
          "name": "stdout",
          "output_type": "stream",
          "text": [
            "\"has a bootcut fit and is black\"\n",
            "/home/sejong/Desktop/junseok/SPRC/musinsa/snap/men/jeans/439c0c26738247ff95e4352df29758ce.jpg /home/sejong/Desktop/junseok/SPRC/musinsa/goods/men/jeans/BALLOON FIT DENIM PANTS (WASHED GREY).jpg\n"
          ]
        },
        {
          "name": "stderr",
          "output_type": "stream",
          "text": [
            "jeans-train:  28%|██▊       | 111/400 [07:41<21:41,  4.50s/it]"
          ]
        },
        {
          "name": "stdout",
          "output_type": "stream",
          "text": [
            "\"has a washed effect, and is black, and is wide fit\"\n",
            "/home/sejong/Desktop/junseok/SPRC/musinsa/snap/men/jeans/d71a8dfa4cf84792af5caa9d2d017eb0.jpg /home/sejong/Desktop/junseok/SPRC/musinsa/goods/men/jeans/세미 벌룬 데님 팬츠 화이트.jpg\n"
          ]
        },
        {
          "name": "stderr",
          "output_type": "stream",
          "text": [
            "jeans-train:  28%|██▊       | 112/400 [07:44<19:21,  4.03s/it]"
          ]
        },
        {
          "name": "stdout",
          "output_type": "stream",
          "text": [
            "\"has a regular design, and is white, and is wide fit\"\n",
            "/home/sejong/Desktop/junseok/SPRC/musinsa/snap/men/jeans/15c348882db74ae7ab6201b382fa311f.jpg /home/sejong/Desktop/junseok/SPRC/musinsa/goods/men/jeans/필치 데님 팬츠 - 데저트 블랙.jpg\n"
          ]
        },
        {
          "name": "stderr",
          "output_type": "stream",
          "text": [
            "jeans-train:  28%|██▊       | 113/400 [07:48<19:22,  4.05s/it]"
          ]
        },
        {
          "name": "stdout",
          "output_type": "stream",
          "text": [
            "\"is black and has a regular design and is loose fit\"\n",
            "/home/sejong/Desktop/junseok/SPRC/musinsa/snap/men/jeans/e693e1e1284b4fb8ad307415a844c48a.jpg /home/sejong/Desktop/junseok/SPRC/musinsa/goods/men/jeans/데미지 워시드 데님 팬츠-스카이블루.jpg\n"
          ]
        },
        {
          "name": "stderr",
          "output_type": "stream",
          "text": [
            "jeans-train:  28%|██▊       | 114/400 [07:52<18:22,  3.85s/it]"
          ]
        },
        {
          "name": "stdout",
          "output_type": "stream",
          "text": [
            "\"has a washed effect, is light blue, and is wide fit\"\n",
            "/home/sejong/Desktop/junseok/SPRC/musinsa/snap/men/jeans/305ab24aa0c54e09aed09714f3c61e7a.jpg /home/sejong/Desktop/junseok/SPRC/musinsa/goods/men/jeans/1935 DUNGAREE PANTS_INDIGO.jpg\n"
          ]
        },
        {
          "name": "stderr",
          "output_type": "stream",
          "text": [
            "jeans-train:  29%|██▉       | 115/400 [07:56<18:59,  4.00s/it]"
          ]
        },
        {
          "name": "stdout",
          "output_type": "stream",
          "text": [
            "\"has a regular design, and is dark blue, and is loose fit\"\n",
            "/home/sejong/Desktop/junseok/SPRC/musinsa/snap/men/jeans/518bc8a428c745698894e525b3a58050.jpg /home/sejong/Desktop/junseok/SPRC/musinsa/goods/men/jeans/TX101 세미 와이드 데님(생지).jpg\n"
          ]
        },
        {
          "name": "stderr",
          "output_type": "stream",
          "text": [
            "jeans-train:  29%|██▉       | 116/400 [08:00<18:51,  3.99s/it]"
          ]
        },
        {
          "name": "stdout",
          "output_type": "stream",
          "text": [
            "\"has a regular design, and is dark blue, and is loose fit\"\n",
            "/home/sejong/Desktop/junseok/SPRC/musinsa/snap/men/jeans/3cd75f0dbea84bbfbc416c49046fb008.jpg /home/sejong/Desktop/junseok/SPRC/musinsa/goods/men/jeans/Engineered Denim Pants [Painted Blue].jpg\n"
          ]
        },
        {
          "name": "stderr",
          "output_type": "stream",
          "text": [
            "jeans-train:  29%|██▉       | 117/400 [08:04<19:05,  4.05s/it]"
          ]
        },
        {
          "name": "stdout",
          "output_type": "stream",
          "text": [
            "\"has a ripped design, and is light blue, and is wide fit\"\n",
            "/home/sejong/Desktop/junseok/SPRC/musinsa/snap/men/jeans/7ddb4f372c784db7ac48bc0a0a033205.jpg /home/sejong/Desktop/junseok/SPRC/musinsa/goods/men/jeans/트위스트 워크웨어 데님 팬츠 - 라이트 블루 _ DT0052PG1164804.jpg\n"
          ]
        },
        {
          "name": "stderr",
          "output_type": "stream",
          "text": [
            "jeans-train:  30%|██▉       | 118/400 [08:07<17:56,  3.82s/it]"
          ]
        },
        {
          "name": "stdout",
          "output_type": "stream",
          "text": [
            "\"has a ripped design, and is light blue, and is wide fit\"\n",
            "/home/sejong/Desktop/junseok/SPRC/musinsa/snap/men/jeans/a600e0cbaa154f30bbddb22a1524d177.jpg /home/sejong/Desktop/junseok/SPRC/musinsa/goods/men/jeans/POP Pink Brush Denim Pants LIGHT BLUE.jpg\n"
          ]
        },
        {
          "name": "stderr",
          "output_type": "stream",
          "text": [
            "jeans-train:  30%|██▉       | 119/400 [08:11<17:30,  3.74s/it]"
          ]
        },
        {
          "name": "stdout",
          "output_type": "stream",
          "text": [
            "\"has a washed effect, and is light blue, and is wide fit\"\n",
            "/home/sejong/Desktop/junseok/SPRC/musinsa/snap/men/jeans/4b5e5a3d79c44d20b5630bdc469e1ec4.jpg /home/sejong/Desktop/junseok/SPRC/musinsa/goods/men/jeans/워시드 와이드 벌룬핏 데님 팬츠 (WASHED BLACK).jpg\n"
          ]
        },
        {
          "name": "stderr",
          "output_type": "stream",
          "text": [
            "jeans-train:  30%|███       | 120/400 [08:16<18:49,  4.03s/it]"
          ]
        },
        {
          "name": "stdout",
          "output_type": "stream",
          "text": [
            "\"has a ripped design, and is dark blue, and is wide fit\"\n",
            "/home/sejong/Desktop/junseok/SPRC/musinsa/snap/men/jeans/e897f0709c9d46f59486328057117d42.jpg /home/sejong/Desktop/junseok/SPRC/musinsa/goods/men/jeans/더블니 카펜터 데님 팬츠 Indigo Blue.jpg\n"
          ]
        },
        {
          "name": "stderr",
          "output_type": "stream",
          "text": [
            "jeans-train:  30%|███       | 121/400 [08:19<17:59,  3.87s/it]"
          ]
        },
        {
          "name": "stdout",
          "output_type": "stream",
          "text": [
            "\"has a regular design, and is dark blue, and is wide fit\"\n",
            "/home/sejong/Desktop/junseok/SPRC/musinsa/snap/men/jeans/1c34fad61c544f5a875af988bd4ac8ea.jpg /home/sejong/Desktop/junseok/SPRC/musinsa/goods/men/jeans/콘트라스트 세미 와이드 워싱 데님 팬츠 [BLACK].jpg\n"
          ]
        },
        {
          "name": "stderr",
          "output_type": "stream",
          "text": [
            "jeans-train:  30%|███       | 122/400 [08:23<18:20,  3.96s/it]"
          ]
        },
        {
          "name": "stdout",
          "output_type": "stream",
          "text": [
            "\"has a ripped design, and is dark blue, and is wide fit\"\n",
            "/home/sejong/Desktop/junseok/SPRC/musinsa/snap/men/jeans/17a0ea760eea4a4f8dfb19d73cd90664.jpg /home/sejong/Desktop/junseok/SPRC/musinsa/goods/men/jeans/DP214 스탠다드 데님팬츠 (Mid Blue).jpg\n"
          ]
        },
        {
          "name": "stderr",
          "output_type": "stream",
          "text": [
            "jeans-train:  31%|███       | 123/400 [08:27<17:38,  3.82s/it]"
          ]
        },
        {
          "name": "stdout",
          "output_type": "stream",
          "text": [
            "\"has a washed effect, and is blue, and is wide fit\"\n",
            "/home/sejong/Desktop/junseok/SPRC/musinsa/snap/men/jeans/feb5dd76c561417bb2bfa8485bdbaf0a.jpg /home/sejong/Desktop/junseok/SPRC/musinsa/goods/men/jeans/TCM canton denim pants (black).jpg\n"
          ]
        },
        {
          "name": "stderr",
          "output_type": "stream",
          "text": [
            "jeans-train:  31%|███       | 124/400 [08:30<16:54,  3.67s/it]"
          ]
        },
        {
          "name": "stdout",
          "output_type": "stream",
          "text": [
            "\"has a ripped design, is dark blue, and is wide fit\"\n",
            "/home/sejong/Desktop/junseok/SPRC/musinsa/snap/men/jeans/1422c567fa044211b372dedc2df152d6.jpg /home/sejong/Desktop/junseok/SPRC/musinsa/goods/men/jeans/1791 MUD BROWN JEANS [WIDE STRAIGHT].jpg\n"
          ]
        },
        {
          "name": "stderr",
          "output_type": "stream",
          "text": [
            "jeans-train:  31%|███▏      | 125/400 [08:35<17:41,  3.86s/it]"
          ]
        },
        {
          "name": "stdout",
          "output_type": "stream",
          "text": [
            "\"is wide fit, and is brown\"\n",
            "/home/sejong/Desktop/junseok/SPRC/musinsa/snap/men/jeans/404c97ef360841e8a371799de6c53b56.jpg /home/sejong/Desktop/junseok/SPRC/musinsa/goods/men/jeans/1996 스트레이트 데님 팬츠 - 라이트 블루 _ B00295228.jpg\n"
          ]
        },
        {
          "name": "stderr",
          "output_type": "stream",
          "text": [
            "jeans-train:  32%|███▏      | 126/400 [08:39<18:21,  4.02s/it]"
          ]
        },
        {
          "name": "stdout",
          "output_type": "stream",
          "text": [
            "\"has a washed effect, and is light blue, and is straight fit\"\n",
            "/home/sejong/Desktop/junseok/SPRC/musinsa/snap/men/jeans/20556901a6c54db992a6742ce8cde578.jpg /home/sejong/Desktop/junseok/SPRC/musinsa/goods/men/jeans/Linen Like Relax Fit Denim Pants - Grey.jpg\n"
          ]
        },
        {
          "name": "stderr",
          "output_type": "stream",
          "text": [
            "jeans-train:  32%|███▏      | 127/400 [08:43<17:48,  3.91s/it]"
          ]
        },
        {
          "name": "stdout",
          "output_type": "stream",
          "text": [
            "\"has a washed effect, and is black, and is loose fit\"\n",
            "/home/sejong/Desktop/junseok/SPRC/musinsa/snap/men/jeans/137e592f4229414ebf21c2a11b26d8cb.jpg /home/sejong/Desktop/junseok/SPRC/musinsa/goods/men/jeans/라운드 포켓 벌룬핏 워싱 데님 팬츠 (LIGHT BLUE).jpg\n"
          ]
        },
        {
          "name": "stderr",
          "output_type": "stream",
          "text": [
            "jeans-train:  32%|███▏      | 128/400 [08:46<16:47,  3.70s/it]"
          ]
        },
        {
          "name": "stdout",
          "output_type": "stream",
          "text": [
            "\"has a washed effect, and is light blue, and is wide fit\"\n",
            "/home/sejong/Desktop/junseok/SPRC/musinsa/snap/men/jeans/4e1d38e26eb348f981e442b1dfad3e18.jpg /home/sejong/Desktop/junseok/SPRC/musinsa/goods/men/jeans/XP150 스웰 데님 팬츠 (BLUE).jpg\n"
          ]
        },
        {
          "name": "stderr",
          "output_type": "stream",
          "text": [
            "jeans-train:  32%|███▏      | 129/400 [08:51<18:15,  4.04s/it]"
          ]
        },
        {
          "name": "stdout",
          "output_type": "stream",
          "text": [
            "\"has a ripped design, and is light blue, and is loose fit\"\n",
            "/home/sejong/Desktop/junseok/SPRC/musinsa/snap/men/jeans/7297f49d822247f18c5a0d9d43263777.jpg /home/sejong/Desktop/junseok/SPRC/musinsa/goods/men/jeans/Linen Like Relax Fit Denim Pants - Grey.jpg\n"
          ]
        },
        {
          "name": "stderr",
          "output_type": "stream",
          "text": [
            "jeans-train:  32%|███▎      | 130/400 [08:56<20:14,  4.50s/it]"
          ]
        },
        {
          "name": "stdout",
          "output_type": "stream",
          "text": [
            "\"has a washed effect, and is black, and is wide fit\"\n",
            "/home/sejong/Desktop/junseok/SPRC/musinsa/snap/men/jeans/f09f7fcf101f41c9b7853f482c55dcd8.jpg /home/sejong/Desktop/junseok/SPRC/musinsa/goods/men/jeans/87-STAN180 [내추럴] 빈티지 슬래쉬 워싱 와이드 데님팬츠 빈티지 블랙.jpg\n"
          ]
        },
        {
          "name": "stderr",
          "output_type": "stream",
          "text": [
            "jeans-train:  33%|███▎      | 131/400 [09:00<18:57,  4.23s/it]"
          ]
        },
        {
          "name": "stdout",
          "output_type": "stream",
          "text": [
            "\"has a ripped design, and is black, and is wide fit\"\n",
            "/home/sejong/Desktop/junseok/SPRC/musinsa/snap/men/jeans/41915c3087a248deac323d66d5d4a647.jpg /home/sejong/Desktop/junseok/SPRC/musinsa/goods/men/jeans/LOOSED WIDE DENIM PANTS (WASHED BLUE).jpg\n"
          ]
        },
        {
          "name": "stderr",
          "output_type": "stream",
          "text": [
            "jeans-train:  33%|███▎      | 132/400 [09:04<19:03,  4.27s/it]"
          ]
        },
        {
          "name": "stdout",
          "output_type": "stream",
          "text": [
            "\"has a washed effect, and is light blue, and is wide fit\"\n",
            "/home/sejong/Desktop/junseok/SPRC/musinsa/snap/men/jeans/225c411e4b6944ad88742bd8a4d2d681.jpg /home/sejong/Desktop/junseok/SPRC/musinsa/goods/men/jeans/멀티포켓 D링 카고 와이드 데님 팬츠 (BLACK).jpg\n"
          ]
        },
        {
          "name": "stderr",
          "output_type": "stream",
          "text": [
            "jeans-train:  33%|███▎      | 133/400 [09:08<18:11,  4.09s/it]"
          ]
        },
        {
          "name": "stdout",
          "output_type": "stream",
          "text": [
            "\"has a ripped design, and is black, and is wide fit\"\n",
            "/home/sejong/Desktop/junseok/SPRC/musinsa/snap/men/jeans/7e120ae4514442f3a65b59bda4d15739.jpg /home/sejong/Desktop/junseok/SPRC/musinsa/goods/men/jeans/도밍고 워싱 와이드 데님 팬츠 - 워시드 브라운.jpg\n"
          ]
        },
        {
          "name": "stderr",
          "output_type": "stream",
          "text": [
            "jeans-train:  34%|███▎      | 134/400 [09:12<17:36,  3.97s/it]"
          ]
        },
        {
          "name": "stdout",
          "output_type": "stream",
          "text": [
            "\"has a ripped design, and is dark blue, and is loose fit\"\n",
            "/home/sejong/Desktop/junseok/SPRC/musinsa/snap/men/jeans/aebb60d99a93459581291e1c1de298f6.jpg /home/sejong/Desktop/junseok/SPRC/musinsa/goods/men/jeans/[리뉴얼]ONE TUCK CURVED JEAN BLACK.jpg\n"
          ]
        },
        {
          "name": "stderr",
          "output_type": "stream",
          "text": [
            "jeans-train:  34%|███▍      | 135/400 [09:15<17:29,  3.96s/it]"
          ]
        },
        {
          "name": "stdout",
          "output_type": "stream",
          "text": [
            "\"has a ripped design, and is black, and is loose fit\"\n",
            "/home/sejong/Desktop/junseok/SPRC/musinsa/snap/men/jeans/c5f3379bdddc4f6c89ea982902786919.jpg /home/sejong/Desktop/junseok/SPRC/musinsa/goods/men/jeans/[기장 선택] 벌룬핏 데님 와이드 팬츠 (R.INDIGO).jpg\n"
          ]
        },
        {
          "name": "stderr",
          "output_type": "stream",
          "text": [
            "jeans-train:  34%|███▍      | 136/400 [09:18<16:06,  3.66s/it]"
          ]
        },
        {
          "name": "stdout",
          "output_type": "stream",
          "text": [
            "\"has a regular design, and is dark blue, and is wide fit\"\n",
            "/home/sejong/Desktop/junseok/SPRC/musinsa/snap/men/jeans/60bee145ef9346fbb4be0bf67e36d3e4.jpg /home/sejong/Desktop/junseok/SPRC/musinsa/goods/men/jeans/SL01 섬머 데님 와이드 팬츠 (OFF WHITE).jpg\n"
          ]
        },
        {
          "name": "stderr",
          "output_type": "stream",
          "text": [
            "jeans-train:  34%|███▍      | 137/400 [09:22<16:01,  3.66s/it]"
          ]
        },
        {
          "name": "stdout",
          "output_type": "stream",
          "text": [
            "\"has a regular design, and is white, and is loose fit\"\n",
            "/home/sejong/Desktop/junseok/SPRC/musinsa/snap/men/jeans/2efd5ae59cf04547a89d48886f3b5f90.jpg /home/sejong/Desktop/junseok/SPRC/musinsa/goods/men/jeans/LOOSED WIDE DENIM PANTS (RIBBED BLUE).jpg\n"
          ]
        },
        {
          "name": "stderr",
          "output_type": "stream",
          "text": [
            "jeans-train:  34%|███▍      | 138/400 [09:26<16:48,  3.85s/it]"
          ]
        },
        {
          "name": "stdout",
          "output_type": "stream",
          "text": [
            "\"has a ripped design, is light blue, and is wide fit\"\n",
            "/home/sejong/Desktop/junseok/SPRC/musinsa/snap/men/jeans/2569e531ec9b4baa81ee072c93305287.jpg /home/sejong/Desktop/junseok/SPRC/musinsa/goods/men/jeans/[TYPE JEAN] 원턱 와이드 데님 팬츠 (RAW INDIGO).jpg\n"
          ]
        },
        {
          "name": "stderr",
          "output_type": "stream",
          "text": [
            "jeans-train:  35%|███▍      | 139/400 [09:30<16:23,  3.77s/it]"
          ]
        },
        {
          "name": "stdout",
          "output_type": "stream",
          "text": [
            "\"is dark blue and wide fit\"\n",
            "/home/sejong/Desktop/junseok/SPRC/musinsa/snap/men/jeans/efd0fda4da584708aec57ef4d48ab9ba.jpg /home/sejong/Desktop/junseok/SPRC/musinsa/goods/men/jeans/엠보워싱 데님팬츠 (진청).jpg\n"
          ]
        },
        {
          "name": "stderr",
          "output_type": "stream",
          "text": [
            "jeans-train:  35%|███▌      | 140/400 [09:34<16:45,  3.87s/it]"
          ]
        },
        {
          "name": "stdout",
          "output_type": "stream",
          "text": [
            "\"has a washed effect, and is light blue, and is wide fit\"\n",
            "/home/sejong/Desktop/junseok/SPRC/musinsa/snap/men/jeans/dc0bf6d505d44b6f873372b592ac3662.jpg /home/sejong/Desktop/junseok/SPRC/musinsa/goods/men/jeans/[SET] 밴딩 와이드 팬츠 4 TYPE.jpg\n"
          ]
        },
        {
          "name": "stderr",
          "output_type": "stream",
          "text": [
            "jeans-train:  35%|███▌      | 141/400 [09:37<15:37,  3.62s/it]"
          ]
        },
        {
          "name": "stdout",
          "output_type": "stream",
          "text": [
            "\"has a loose fit and is dark blue\"\n",
            "/home/sejong/Desktop/junseok/SPRC/musinsa/snap/men/jeans/90ba16f641d64681903ea5368f764cf9.jpg /home/sejong/Desktop/junseok/SPRC/musinsa/goods/men/jeans/BALLOON FIT CURVED JEANS BLACK.jpg\n"
          ]
        },
        {
          "name": "stderr",
          "output_type": "stream",
          "text": [
            "jeans-train:  36%|███▌      | 142/400 [09:40<15:18,  3.56s/it]"
          ]
        },
        {
          "name": "stdout",
          "output_type": "stream",
          "text": [
            "\"has a regular design, is black, and is loose fit\"\n",
            "/home/sejong/Desktop/junseok/SPRC/musinsa/snap/men/jeans/c0333df78889437792cdcbf634cb098b.jpg /home/sejong/Desktop/junseok/SPRC/musinsa/goods/men/jeans/테리 워시드 데님 팬츠 미들 블루.jpg\n"
          ]
        },
        {
          "name": "stderr",
          "output_type": "stream",
          "text": [
            "jeans-train:  36%|███▌      | 143/400 [09:45<15:55,  3.72s/it]"
          ]
        },
        {
          "name": "stdout",
          "output_type": "stream",
          "text": [
            "\"has a washed effect, and is light blue, and is wide fit\"\n",
            "/home/sejong/Desktop/junseok/SPRC/musinsa/snap/men/jeans/1734578727780.jpg /home/sejong/Desktop/junseok/SPRC/musinsa/goods/men/jeans/#0214 Moderation indigo straight fit.jpg\n"
          ]
        },
        {
          "name": "stderr",
          "output_type": "stream",
          "text": [
            "jeans-train:  36%|███▌      | 144/400 [09:50<18:12,  4.27s/it]"
          ]
        },
        {
          "name": "stdout",
          "output_type": "stream",
          "text": [
            "\"is dark blue and has a straight fit\"\n",
            "/home/sejong/Desktop/junseok/SPRC/musinsa/snap/men/jeans/43e1e3dd8fd7427294053012002e362a.jpg /home/sejong/Desktop/junseok/SPRC/musinsa/goods/men/jeans/스티치 커브드 워싱 데님.jpg\n"
          ]
        },
        {
          "name": "stderr",
          "output_type": "stream",
          "text": [
            "jeans-train:  36%|███▋      | 145/400 [09:54<17:17,  4.07s/it]"
          ]
        },
        {
          "name": "stdout",
          "output_type": "stream",
          "text": [
            "\"has a washed effect, and is light blue, and is loose fit\"\n",
            "/home/sejong/Desktop/junseok/SPRC/musinsa/snap/men/jeans/5988457c28b34cb5bddb29b86945509d.jpg /home/sejong/Desktop/junseok/SPRC/musinsa/goods/men/jeans/데님 원턱 와이드 팬츠 16COLOR COOSPT201.jpg\n"
          ]
        },
        {
          "name": "stderr",
          "output_type": "stream",
          "text": [
            "jeans-train:  36%|███▋      | 146/400 [09:57<16:21,  3.86s/it]"
          ]
        },
        {
          "name": "stdout",
          "output_type": "stream",
          "text": [
            "\"has a regular design, and is dark blue, and is wide fit\"\n",
            "/home/sejong/Desktop/junseok/SPRC/musinsa/snap/men/jeans/96f0a4afde61417bbdb0c4543f32395c.jpg /home/sejong/Desktop/junseok/SPRC/musinsa/goods/men/jeans/078 Raw Selvedge denim Jeans (Indigo Blue).jpg\n"
          ]
        },
        {
          "name": "stderr",
          "output_type": "stream",
          "text": [
            "jeans-train:  37%|███▋      | 147/400 [10:00<15:23,  3.65s/it]"
          ]
        },
        {
          "name": "stdout",
          "output_type": "stream",
          "text": [
            "\"is dark blue and wide fit\"\n",
            "/home/sejong/Desktop/junseok/SPRC/musinsa/snap/men/jeans/3b9fcf6113864fcf838746920373a262.jpg /home/sejong/Desktop/junseok/SPRC/musinsa/goods/men/jeans/Knee Pin-tuck Printed Denim Pants (Black).jpg\n"
          ]
        },
        {
          "name": "stderr",
          "output_type": "stream",
          "text": [
            "jeans-train:  37%|███▋      | 148/400 [10:09<21:10,  5.04s/it]"
          ]
        },
        {
          "name": "stdout",
          "output_type": "stream",
          "text": [
            "\"has a ripped design, and is black, and is wide fit\"\n",
            "/home/sejong/Desktop/junseok/SPRC/musinsa/snap/men/jeans/8f1729f233ef4f43b2d1c4ed07be270c.jpg /home/sejong/Desktop/junseok/SPRC/musinsa/goods/men/jeans/빈티지 워시드 와이드 데님 팬츠 (BEIGE BLUE).jpg\n"
          ]
        },
        {
          "name": "stderr",
          "output_type": "stream",
          "text": [
            "jeans-train:  37%|███▋      | 149/400 [10:13<20:27,  4.89s/it]"
          ]
        },
        {
          "name": "stdout",
          "output_type": "stream",
          "text": [
            "\"has a washed effect, is light blue, and is loose fit\"\n",
            "/home/sejong/Desktop/junseok/SPRC/musinsa/snap/men/jeans/e897f0709c9d46f59486328057117d42.jpg /home/sejong/Desktop/junseok/SPRC/musinsa/goods/men/jeans/디스트로이드 크링클 데님 팬츠 (블루).jpg\n"
          ]
        },
        {
          "name": "stderr",
          "output_type": "stream",
          "text": [
            "jeans-train:  38%|███▊      | 150/400 [10:17<19:15,  4.62s/it]"
          ]
        },
        {
          "name": "stdout",
          "output_type": "stream",
          "text": [
            "\"has a ripped design, is light blue, and is wide fit\"\n",
            "/home/sejong/Desktop/junseok/SPRC/musinsa/snap/men/jeans/d2695d1749474c6b99d10707baf7bff0.jpg /home/sejong/Desktop/junseok/SPRC/musinsa/goods/men/jeans/this is wide denim pants snow BLUE.jpg\n"
          ]
        },
        {
          "name": "stderr",
          "output_type": "stream",
          "text": [
            "jeans-train:  38%|███▊      | 151/400 [10:21<18:46,  4.52s/it]"
          ]
        },
        {
          "name": "stdout",
          "output_type": "stream",
          "text": [
            "\"has a washed effect, and is light blue, and is loose fit\"\n",
            "/home/sejong/Desktop/junseok/SPRC/musinsa/snap/men/jeans/061b334913be42c49a02153985768cab.jpg /home/sejong/Desktop/junseok/SPRC/musinsa/goods/men/jeans/#0325 REMAKE 1970s REGULAR FIT - D_BLUE.jpg\n"
          ]
        },
        {
          "name": "stderr",
          "output_type": "stream",
          "text": [
            "jeans-train:  38%|███▊      | 152/400 [10:39<34:38,  8.38s/it]"
          ]
        },
        {
          "name": "stdout",
          "output_type": "stream",
          "text": [
            "\"has a washed effect, and is dark blue, and is wide fit\"\n",
            "/home/sejong/Desktop/junseok/SPRC/musinsa/snap/men/jeans/5933db169b414963a9a78d59a2c374fa.jpg /home/sejong/Desktop/junseok/SPRC/musinsa/goods/men/jeans/사이드 라이트워싱 와이드 데님팬츠 [블루].jpg\n"
          ]
        },
        {
          "name": "stderr",
          "output_type": "stream",
          "text": [
            "jeans-train:  38%|███▊      | 153/400 [10:43<28:47,  6.99s/it]"
          ]
        },
        {
          "name": "stdout",
          "output_type": "stream",
          "text": [
            "\"has a washed effect, and is blue, and is wide fit\"\n",
            "/home/sejong/Desktop/junseok/SPRC/musinsa/snap/men/jeans/616ce089c9134caf9d7d6c50ea88d789.jpg /home/sejong/Desktop/junseok/SPRC/musinsa/goods/men/jeans/워시드 벌룬 데님 와이드 팬츠(워시드 블루).jpg\n"
          ]
        },
        {
          "name": "stderr",
          "output_type": "stream",
          "text": [
            "jeans-train:  38%|███▊      | 154/400 [10:47<25:28,  6.21s/it]"
          ]
        },
        {
          "name": "stdout",
          "output_type": "stream",
          "text": [
            "\"has a washed effect, and is light blue, and is wide fit\"\n",
            "/home/sejong/Desktop/junseok/SPRC/musinsa/snap/men/jeans/90ba16f641d64681903ea5368f764cf9.jpg /home/sejong/Desktop/junseok/SPRC/musinsa/goods/men/jeans/스크레치 데님팬츠 그레이 KMLP6686.jpg\n"
          ]
        },
        {
          "name": "stderr",
          "output_type": "stream",
          "text": [
            "jeans-train:  39%|███▉      | 155/400 [10:52<24:27,  5.99s/it]"
          ]
        },
        {
          "name": "stdout",
          "output_type": "stream",
          "text": [
            "\"has a washed effect, and is black, and is wide fit\"\n",
            "/home/sejong/Desktop/junseok/SPRC/musinsa/snap/men/jeans/031f6f54609748f18c6840f80c0edd92.jpg /home/sejong/Desktop/junseok/SPRC/musinsa/goods/men/jeans/세미 벌룬 데님 팬츠 화이트.jpg\n"
          ]
        },
        {
          "name": "stderr",
          "output_type": "stream",
          "text": [
            "jeans-train:  39%|███▉      | 156/400 [10:55<20:50,  5.12s/it]"
          ]
        },
        {
          "name": "stdout",
          "output_type": "stream",
          "text": [
            "\"is loose fit\"\n",
            "/home/sejong/Desktop/junseok/SPRC/musinsa/snap/men/jeans/81b0f98083954f8da501a230e97b0099.jpg /home/sejong/Desktop/junseok/SPRC/musinsa/goods/men/jeans/내추럴 워싱 와이드 데님 팬츠 [연청].jpg\n"
          ]
        },
        {
          "name": "stderr",
          "output_type": "stream",
          "text": [
            "jeans-train:  39%|███▉      | 157/400 [10:59<18:18,  4.52s/it]"
          ]
        },
        {
          "name": "stdout",
          "output_type": "stream",
          "text": [
            "\"has a washed effect, and is light blue, and is wide fit\"\n",
            "/home/sejong/Desktop/junseok/SPRC/musinsa/snap/men/jeans/e694ec6b81164d2f91455aae0997da9c.jpg /home/sejong/Desktop/junseok/SPRC/musinsa/goods/men/jeans/브러쉬드 와이드 데님 팬츠 (블루).jpg\n"
          ]
        },
        {
          "name": "stderr",
          "output_type": "stream",
          "text": [
            "jeans-train:  40%|███▉      | 158/400 [11:03<18:01,  4.47s/it]"
          ]
        },
        {
          "name": "stdout",
          "output_type": "stream",
          "text": [
            "\"has a washed effect, and is light blue, and is wide fit\"\n",
            "/home/sejong/Desktop/junseok/SPRC/musinsa/snap/men/jeans/f64f7dea1d134d348a8af3e084a99e8e.jpg /home/sejong/Desktop/junseok/SPRC/musinsa/goods/men/jeans/Bold Incision Wide Jeans (Black).jpg\n"
          ]
        },
        {
          "name": "stderr",
          "output_type": "stream",
          "text": [
            "jeans-train:  40%|███▉      | 159/400 [11:07<17:00,  4.24s/it]"
          ]
        },
        {
          "name": "stdout",
          "output_type": "stream",
          "text": [
            "\"has a ripped design, and is black, and is wide fit\"\n",
            "/home/sejong/Desktop/junseok/SPRC/musinsa/snap/men/jeans/a9f94d3076c64c8096e0094914e65833.jpg /home/sejong/Desktop/junseok/SPRC/musinsa/goods/men/jeans/[무료반품] Coinlet Wide Denim Pants VINTAGE BLUE.jpg\n"
          ]
        },
        {
          "name": "stderr",
          "output_type": "stream",
          "text": [
            "jeans-train:  40%|████      | 160/400 [11:11<16:46,  4.19s/it]"
          ]
        },
        {
          "name": "stdout",
          "output_type": "stream",
          "text": [
            "\"has a washed effect, and is loose fit\"\n",
            "/home/sejong/Desktop/junseok/SPRC/musinsa/snap/men/jeans/2569e531ec9b4baa81ee072c93305287.jpg /home/sejong/Desktop/junseok/SPRC/musinsa/goods/men/jeans/CONE MILL DEEP ONE TUCK JEAN MEDIUM WASHED.jpg\n"
          ]
        },
        {
          "name": "stderr",
          "output_type": "stream",
          "text": [
            "jeans-train:  40%|████      | 161/400 [11:15<16:36,  4.17s/it]"
          ]
        },
        {
          "name": "stdout",
          "output_type": "stream",
          "text": [
            "\"has a regular design, is dark blue, and is wide fit\"\n",
            "/home/sejong/Desktop/junseok/SPRC/musinsa/snap/men/jeans/29d299044a4242e982cbc9b763092d96.jpg /home/sejong/Desktop/junseok/SPRC/musinsa/goods/men/jeans/RAW HEM STITCHED WIDE VOLUME PANTS - BLACK.jpg\n"
          ]
        },
        {
          "name": "stderr",
          "output_type": "stream",
          "text": [
            "jeans-train:  40%|████      | 162/400 [11:18<15:46,  3.98s/it]"
          ]
        },
        {
          "name": "stdout",
          "output_type": "stream",
          "text": [
            "\"has a regular design, and is black, and is wide fit\"\n",
            "/home/sejong/Desktop/junseok/SPRC/musinsa/snap/men/jeans/3d0a9588010449309eb1063967b6d9ae.jpg /home/sejong/Desktop/junseok/SPRC/musinsa/goods/men/jeans/[현킴 X 코프위]시밀롱 데님 팬츠 틴 중청.jpg\n"
          ]
        },
        {
          "name": "stderr",
          "output_type": "stream",
          "text": [
            "jeans-train:  41%|████      | 163/400 [11:22<15:01,  3.80s/it]"
          ]
        },
        {
          "name": "stdout",
          "output_type": "stream",
          "text": [
            "\"has a washed effect, and is blue, and is loose fit\"\n",
            "/home/sejong/Desktop/junseok/SPRC/musinsa/snap/men/jeans/4b5e5a3d79c44d20b5630bdc469e1ec4.jpg /home/sejong/Desktop/junseok/SPRC/musinsa/goods/men/jeans/WS DOUBLE KNEE PANTS (DENIM).jpg\n"
          ]
        },
        {
          "name": "stderr",
          "output_type": "stream",
          "text": [
            "jeans-train:  41%|████      | 164/400 [11:26<15:09,  3.85s/it]"
          ]
        },
        {
          "name": "stdout",
          "output_type": "stream",
          "text": [
            "\"has a ripped design, and is blue, and is wide fit\"\n",
            "/home/sejong/Desktop/junseok/SPRC/musinsa/snap/men/jeans/1734430604600.jpg /home/sejong/Desktop/junseok/SPRC/musinsa/goods/men/jeans/벌룬 와이드핏 데님팬츠 (인디고블루).jpg\n"
          ]
        },
        {
          "name": "stderr",
          "output_type": "stream",
          "text": [
            "jeans-train:  41%|████▏     | 165/400 [11:29<14:54,  3.81s/it]"
          ]
        },
        {
          "name": "stdout",
          "output_type": "stream",
          "text": [
            "\"is blue and wide fit\"\n",
            "/home/sejong/Desktop/junseok/SPRC/musinsa/snap/men/jeans/b74754f937f6493194110531b7c0929a.jpg /home/sejong/Desktop/junseok/SPRC/musinsa/goods/men/jeans/스타 아플리케 데미지 워싱 데님 팬츠 (YELLOW BLACK).jpg\n"
          ]
        },
        {
          "name": "stderr",
          "output_type": "stream",
          "text": [
            "jeans-train:  42%|████▏     | 166/400 [11:33<14:16,  3.66s/it]"
          ]
        },
        {
          "name": "stdout",
          "output_type": "stream",
          "text": [
            "\"has a ripped design, and is black, and is loose fit\"\n",
            "/home/sejong/Desktop/junseok/SPRC/musinsa/snap/men/jeans/98b076ec03054c128bacee28eebfac3b.jpg /home/sejong/Desktop/junseok/SPRC/musinsa/goods/men/jeans/빈티지 네츄럴 워싱 와이드 데님 팬츠 중청.jpg\n"
          ]
        },
        {
          "name": "stderr",
          "output_type": "stream",
          "text": [
            "jeans-train:  42%|████▏     | 167/400 [11:37<14:41,  3.78s/it]"
          ]
        },
        {
          "name": "stdout",
          "output_type": "stream",
          "text": [
            "\"has a washed effect, and is light blue, and is wide fit\"\n",
            "/home/sejong/Desktop/junseok/SPRC/musinsa/snap/men/jeans/68d4448234d1414793de4e748d9cc1d6.jpg /home/sejong/Desktop/junseok/SPRC/musinsa/goods/men/jeans/[무료반품] 니트 위브 데님 팬츠 블랙.jpg\n"
          ]
        },
        {
          "name": "stderr",
          "output_type": "stream",
          "text": [
            "jeans-train:  42%|████▏     | 168/400 [11:41<14:33,  3.77s/it]"
          ]
        },
        {
          "name": "stdout",
          "output_type": "stream",
          "text": [
            "\"has a washed effect, and is black, and is wide fit\"\n",
            "/home/sejong/Desktop/junseok/SPRC/musinsa/snap/men/jeans/ac75f348ca304e7dae8e85cf2ec30f23.jpg /home/sejong/Desktop/junseok/SPRC/musinsa/goods/men/jeans/T.S DENIM PANTS - WASHED NAVY.jpg\n"
          ]
        },
        {
          "name": "stderr",
          "output_type": "stream",
          "text": [
            "jeans-train:  42%|████▏     | 169/400 [11:44<13:52,  3.60s/it]"
          ]
        },
        {
          "name": "stdout",
          "output_type": "stream",
          "text": [
            "\"has a ripped design, and is blue, and is wide fit\"\n",
            "/home/sejong/Desktop/junseok/SPRC/musinsa/snap/men/jeans/d464f7db8e2b4eb3b51e4bbf310c17b2.jpg /home/sejong/Desktop/junseok/SPRC/musinsa/goods/men/jeans/BLACK BAGGY DENIM [BLACK].jpg\n"
          ]
        },
        {
          "name": "stderr",
          "output_type": "stream",
          "text": [
            "jeans-train:  42%|████▎     | 170/400 [11:47<13:48,  3.60s/it]"
          ]
        },
        {
          "name": "stdout",
          "output_type": "stream",
          "text": [
            "\"is black and loose fit\"\n",
            "/home/sejong/Desktop/junseok/SPRC/musinsa/snap/men/jeans/045b69302e0a4a70939a624a20d8b2ea.jpg /home/sejong/Desktop/junseok/SPRC/musinsa/goods/men/jeans/드롭 스트레이트 와이드 데님 팬츠 (GREYISH BLUE).jpg\n"
          ]
        },
        {
          "name": "stderr",
          "output_type": "stream",
          "text": [
            "jeans-train:  43%|████▎     | 171/400 [11:51<13:24,  3.51s/it]"
          ]
        },
        {
          "name": "stdout",
          "output_type": "stream",
          "text": [
            "\"has a washed effect, and is blue, and is loose fit\"\n",
            "/home/sejong/Desktop/junseok/SPRC/musinsa/snap/men/jeans/c9b0dc357a2044e9bd7b630de29ba80c.jpg /home/sejong/Desktop/junseok/SPRC/musinsa/goods/men/jeans/87-STAN195 미니멀 캣워싱 와이드 벌룬핏 데님팬츠 빈티지옐로우.jpg\n"
          ]
        },
        {
          "name": "stderr",
          "output_type": "stream",
          "text": [
            "jeans-train:  43%|████▎     | 172/400 [11:54<13:04,  3.44s/it]"
          ]
        },
        {
          "name": "stdout",
          "output_type": "stream",
          "text": [
            "\"has a washed effect, and is black, and is loose fit\"\n",
            "/home/sejong/Desktop/junseok/SPRC/musinsa/snap/men/jeans/518bc8a428c745698894e525b3a58050.jpg /home/sejong/Desktop/junseok/SPRC/musinsa/goods/men/jeans/브라이트닝 크랙 워싱 데님 팬츠 (NORMAL BLACK).jpg\n"
          ]
        },
        {
          "name": "stderr",
          "output_type": "stream",
          "text": [
            "jeans-train:  43%|████▎     | 173/400 [11:58<13:58,  3.69s/it]"
          ]
        },
        {
          "name": "stdout",
          "output_type": "stream",
          "text": [
            "\"has a ripped design, and is black, and is wide fit\"\n",
            "/home/sejong/Desktop/junseok/SPRC/musinsa/snap/men/jeans/2569e531ec9b4baa81ee072c93305287.jpg /home/sejong/Desktop/junseok/SPRC/musinsa/goods/men/jeans/이지 워시드 와이드 데님 팬츠 [빈티지블랙].jpg\n"
          ]
        },
        {
          "name": "stderr",
          "output_type": "stream",
          "text": [
            "jeans-train:  44%|████▎     | 174/400 [12:02<13:34,  3.61s/it]"
          ]
        },
        {
          "name": "stdout",
          "output_type": "stream",
          "text": [
            "\"is black and has a regular design and is wide fit\"\n",
            "/home/sejong/Desktop/junseok/SPRC/musinsa/snap/men/jeans/42e0fdaee5c240cb93cfcee39268cb85.jpg /home/sejong/Desktop/junseok/SPRC/musinsa/goods/men/jeans/시티 와이드 데님 팬츠 (IVORY).jpg\n"
          ]
        },
        {
          "name": "stderr",
          "output_type": "stream",
          "text": [
            "jeans-train:  44%|████▍     | 175/400 [12:05<13:36,  3.63s/it]"
          ]
        },
        {
          "name": "stdout",
          "output_type": "stream",
          "text": [
            "\"has a loose fit and is white\"\n",
            "/home/sejong/Desktop/junseok/SPRC/musinsa/snap/men/jeans/816829cfc8564fa3ad1bb07aa7dfbe48.jpg /home/sejong/Desktop/junseok/SPRC/musinsa/goods/men/jeans/아키라 플레어 데님 워시드 블랙.jpg\n"
          ]
        },
        {
          "name": "stderr",
          "output_type": "stream",
          "text": [
            "jeans-train:  44%|████▍     | 176/400 [12:12<16:59,  4.55s/it]"
          ]
        },
        {
          "name": "stdout",
          "output_type": "stream",
          "text": [
            "\"has a washed effect, and is black, and is bootcut fit\"\n",
            "/home/sejong/Desktop/junseok/SPRC/musinsa/snap/men/jeans/c5f3379bdddc4f6c89ea982902786919.jpg /home/sejong/Desktop/junseok/SPRC/musinsa/goods/men/jeans/커브드 와이드 코튼 데님팬츠 [블랙].jpg\n"
          ]
        },
        {
          "name": "stderr",
          "output_type": "stream",
          "text": [
            "jeans-train:  44%|████▍     | 177/400 [12:15<15:23,  4.14s/it]"
          ]
        },
        {
          "name": "stdout",
          "output_type": "stream",
          "text": [
            "\"has a regular design, and is black, and is loose fit\"\n",
            "/home/sejong/Desktop/junseok/SPRC/musinsa/snap/men/jeans/8f1729f233ef4f43b2d1c4ed07be270c.jpg /home/sejong/Desktop/junseok/SPRC/musinsa/goods/men/jeans/[S_S 프레젠테이션] CARPENTER DOUBLE KNEE PANTS(NON RIVET TYPE)_BLACK.jpg\n"
          ]
        },
        {
          "name": "stderr",
          "output_type": "stream",
          "text": [
            "jeans-train:  44%|████▍     | 178/400 [12:19<14:28,  3.91s/it]"
          ]
        },
        {
          "name": "stdout",
          "output_type": "stream",
          "text": [
            "\"has a washed effect, and is black, and is loose fit\"\n",
            "/home/sejong/Desktop/junseok/SPRC/musinsa/snap/men/jeans/3e4ad0c112a4433a930ffd324732856f.jpg /home/sejong/Desktop/junseok/SPRC/musinsa/goods/men/jeans/[키링SET] VTG 와이드 데님팬츠-블랙.jpg\n"
          ]
        },
        {
          "name": "stderr",
          "output_type": "stream",
          "text": [
            "jeans-train:  45%|████▍     | 179/400 [12:22<13:52,  3.77s/it]"
          ]
        },
        {
          "name": "stdout",
          "output_type": "stream",
          "text": [
            "\"is black and is wide fit\"\n",
            "/home/sejong/Desktop/junseok/SPRC/musinsa/snap/men/jeans/dc0bf6d505d44b6f873372b592ac3662.jpg /home/sejong/Desktop/junseok/SPRC/musinsa/goods/men/jeans/Overlap Carpenter Denim Pants Brown.jpg\n"
          ]
        },
        {
          "name": "stderr",
          "output_type": "stream",
          "text": [
            "jeans-train:  45%|████▌     | 180/400 [12:26<14:35,  3.98s/it]"
          ]
        },
        {
          "name": "stdout",
          "output_type": "stream",
          "text": [
            "\"has a regular design, and is brown, and is wide fit\"\n",
            "/home/sejong/Desktop/junseok/SPRC/musinsa/snap/men/jeans/dc0bf6d505d44b6f873372b592ac3662.jpg /home/sejong/Desktop/junseok/SPRC/musinsa/goods/men/jeans/51077 KURABO WHITE SHARK JEANS [EXTRA WIDE STRAIGHT].jpg\n"
          ]
        },
        {
          "name": "stderr",
          "output_type": "stream",
          "text": [
            "jeans-train:  45%|████▌     | 181/400 [12:30<14:21,  3.94s/it]"
          ]
        },
        {
          "name": "stdout",
          "output_type": "stream",
          "text": [
            "\"has a washed effect, and is blue, and is wide fit\"\n",
            "/home/sejong/Desktop/junseok/SPRC/musinsa/snap/men/jeans/e694ec6b81164d2f91455aae0997da9c.jpg /home/sejong/Desktop/junseok/SPRC/musinsa/goods/men/jeans/오정규x아워데이즈 스트레이트 데님 [4COLORS].jpg\n"
          ]
        },
        {
          "name": "stderr",
          "output_type": "stream",
          "text": [
            "jeans-train:  46%|████▌     | 182/400 [12:33<13:14,  3.65s/it]"
          ]
        },
        {
          "name": "stdout",
          "output_type": "stream",
          "text": [
            "\"is black and is straight fit\"\n",
            "/home/sejong/Desktop/junseok/SPRC/musinsa/snap/men/jeans/b71e5481c00d442ca0842d052a345c6a.jpg /home/sejong/Desktop/junseok/SPRC/musinsa/goods/men/jeans/Washed One Tuck Denim Pants [2 Colors].jpg\n"
          ]
        },
        {
          "name": "stderr",
          "output_type": "stream",
          "text": [
            "jeans-train:  46%|████▌     | 183/400 [12:37<13:37,  3.77s/it]"
          ]
        },
        {
          "name": "stdout",
          "output_type": "stream",
          "text": [
            "\"has a regular design, and is light blue, and is loose fit\"\n",
            "/home/sejong/Desktop/junseok/SPRC/musinsa/snap/men/jeans/aebb60d99a93459581291e1c1de298f6.jpg /home/sejong/Desktop/junseok/SPRC/musinsa/goods/men/jeans/엠보워싱 데님팬츠 (진청).jpg\n"
          ]
        },
        {
          "name": "stderr",
          "output_type": "stream",
          "text": [
            "jeans-train:  46%|████▌     | 184/400 [12:42<14:57,  4.16s/it]"
          ]
        },
        {
          "name": "stdout",
          "output_type": "stream",
          "text": [
            "\"has a washed effect, and is light blue, and is wide fit\"\n",
            "/home/sejong/Desktop/junseok/SPRC/musinsa/snap/men/jeans/518bc8a428c745698894e525b3a58050.jpg /home/sejong/Desktop/junseok/SPRC/musinsa/goods/men/jeans/부츠컷 생지 데님 팬츠 [NV].jpg\n"
          ]
        },
        {
          "name": "stderr",
          "output_type": "stream",
          "text": [
            "jeans-train:  46%|████▋     | 185/400 [12:46<14:28,  4.04s/it]"
          ]
        },
        {
          "name": "stdout",
          "output_type": "stream",
          "text": [
            "\"has a regular design, is dark blue, and is bootcut fit\"\n",
            "/home/sejong/Desktop/junseok/SPRC/musinsa/snap/men/jeans/329234c6ec724e2abefce7fda2e2e8dd.jpg /home/sejong/Desktop/junseok/SPRC/musinsa/goods/men/jeans/블랙 리치 데님 팬츠.jpg\n"
          ]
        },
        {
          "name": "stderr",
          "output_type": "stream",
          "text": [
            "jeans-train:  46%|████▋     | 186/400 [12:51<14:47,  4.15s/it]"
          ]
        },
        {
          "name": "stdout",
          "output_type": "stream",
          "text": [
            "\"has a washed effect, and is light blue, and is wide fit\"\n",
            "/home/sejong/Desktop/junseok/SPRC/musinsa/snap/men/jeans/e34ce6d83c1c4197b340bd162797af9a.jpg /home/sejong/Desktop/junseok/SPRC/musinsa/goods/men/jeans/GP103 범스 더블니 더티 워싱 카펜터 팬츠 (INDIGO).jpg\n"
          ]
        },
        {
          "name": "stderr",
          "output_type": "stream",
          "text": [
            "jeans-train:  47%|████▋     | 187/400 [12:55<15:03,  4.24s/it]"
          ]
        },
        {
          "name": "stdout",
          "output_type": "stream",
          "text": [
            "\"has a ripped design, is blue, and is wide fit\"\n",
            "/home/sejong/Desktop/junseok/SPRC/musinsa/snap/men/jeans/0afab29f2d45477da55c4983aa9a283a.jpg /home/sejong/Desktop/junseok/SPRC/musinsa/goods/men/jeans/빈티지 워시드 더블 니 데님 팬츠 (블랙).jpg\n"
          ]
        },
        {
          "name": "stderr",
          "output_type": "stream",
          "text": [
            "jeans-train:  47%|████▋     | 188/400 [12:58<14:01,  3.97s/it]"
          ]
        },
        {
          "name": "stdout",
          "output_type": "stream",
          "text": [
            "\"has a washed effect, and is black, and is wide fit\"\n",
            "/home/sejong/Desktop/junseok/SPRC/musinsa/snap/men/jeans/96f0a4afde61417bbdb0c4543f32395c.jpg /home/sejong/Desktop/junseok/SPRC/musinsa/goods/men/jeans/TD5-DN02 스트레이트 데님 팬츠-연청.jpg\n"
          ]
        },
        {
          "name": "stderr",
          "output_type": "stream",
          "text": [
            "jeans-train:  47%|████▋     | 189/400 [13:01<12:57,  3.69s/it]"
          ]
        },
        {
          "name": "stdout",
          "output_type": "stream",
          "text": [
            "\"has a washed effect, and is light blue, and is loose fit\"\n",
            "/home/sejong/Desktop/junseok/SPRC/musinsa/snap/men/jeans/bbc893e08ade4541a95353e108ed8e7f.jpg /home/sejong/Desktop/junseok/SPRC/musinsa/goods/men/jeans/프레디 세미 와이드 원턱 생지 데님 [RAW BLACK].jpg\n"
          ]
        },
        {
          "name": "stderr",
          "output_type": "stream",
          "text": [
            "jeans-train:  48%|████▊     | 190/400 [13:05<12:30,  3.57s/it]"
          ]
        },
        {
          "name": "stdout",
          "output_type": "stream",
          "text": [
            "\"has a regular design, is dark blue, and is loose fit\"\n",
            "/home/sejong/Desktop/junseok/SPRC/musinsa/snap/men/jeans/7c9d05516b3e417581f83a8510ed5562.jpg /home/sejong/Desktop/junseok/SPRC/musinsa/goods/men/jeans/Kick Off None Fade Denim Pants _K24ZC769.jpg\n"
          ]
        },
        {
          "name": "stderr",
          "output_type": "stream",
          "text": [
            "jeans-train:  48%|████▊     | 191/400 [13:11<14:55,  4.29s/it]"
          ]
        },
        {
          "name": "stdout",
          "output_type": "stream",
          "text": [
            "\"has a ripped design, and is dark blue, and is wide fit\"\n",
            "/home/sejong/Desktop/junseok/SPRC/musinsa/snap/men/jeans/dc0bf6d505d44b6f873372b592ac3662.jpg /home/sejong/Desktop/junseok/SPRC/musinsa/goods/men/jeans/STUDDED DENIM PANTS (L.DENIM).jpg\n"
          ]
        },
        {
          "name": "stderr",
          "output_type": "stream",
          "text": [
            "jeans-train:  48%|████▊     | 192/400 [13:15<14:26,  4.17s/it]"
          ]
        },
        {
          "name": "stdout",
          "output_type": "stream",
          "text": [
            "\"has a washed effect, and is light blue, and is wide fit\"\n",
            "/home/sejong/Desktop/junseok/SPRC/musinsa/snap/men/jeans/031f6f54609748f18c6840f80c0edd92.jpg /home/sejong/Desktop/junseok/SPRC/musinsa/goods/men/jeans/[사계절용]파라슈트 빈티지 워싱 데님 팬츠 - 워시드 그레이.jpg\n"
          ]
        },
        {
          "name": "stderr",
          "output_type": "stream",
          "text": [
            "jeans-train:  48%|████▊     | 193/400 [13:17<13:06,  3.80s/it]"
          ]
        },
        {
          "name": "stdout",
          "output_type": "stream",
          "text": [
            "\"has a washed effect, and is black, and is loose fit\"\n",
            "/home/sejong/Desktop/junseok/SPRC/musinsa/snap/men/jeans/339dc113fb8a49f0b9add3abc8f6fd9f.jpg /home/sejong/Desktop/junseok/SPRC/musinsa/goods/men/jeans/데님 파라슈트 카고 팬츠 [워시드 블랙].jpg\n"
          ]
        },
        {
          "name": "stderr",
          "output_type": "stream",
          "text": [
            "jeans-train:  48%|████▊     | 194/400 [13:21<12:14,  3.57s/it]"
          ]
        },
        {
          "name": "stdout",
          "output_type": "stream",
          "text": [
            "\"has a washed effect, and is grey, and is loose fit\"\n",
            "/home/sejong/Desktop/junseok/SPRC/musinsa/snap/men/jeans/aebb60d99a93459581291e1c1de298f6.jpg /home/sejong/Desktop/junseok/SPRC/musinsa/goods/men/jeans/A.P WORK PANTS - BLACK.jpg\n"
          ]
        },
        {
          "name": "stderr",
          "output_type": "stream",
          "text": [
            "jeans-train:  49%|████▉     | 195/400 [13:23<11:34,  3.39s/it]"
          ]
        },
        {
          "name": "stdout",
          "output_type": "stream",
          "text": [
            "\"is black and has a ripped design\"\n",
            "/home/sejong/Desktop/junseok/SPRC/musinsa/snap/men/jeans/e694ec6b81164d2f91455aae0997da9c.jpg /home/sejong/Desktop/junseok/SPRC/musinsa/goods/men/jeans/세미 와이드 데님 팬츠 [WASHED VINTAGE BLUE].jpg\n"
          ]
        },
        {
          "name": "stderr",
          "output_type": "stream",
          "text": [
            "jeans-train:  49%|████▉     | 196/400 [13:27<11:31,  3.39s/it]"
          ]
        },
        {
          "name": "stdout",
          "output_type": "stream",
          "text": [
            "\"has a washed effect, and is dark blue, and is loose fit\"\n",
            "/home/sejong/Desktop/junseok/SPRC/musinsa/snap/men/jeans/e8dd1166e2e748b7af31e9acfe5e2851.jpg /home/sejong/Desktop/junseok/SPRC/musinsa/goods/men/jeans/[M~4XL] 퍼티그 밴딩 데님 팬츠_블랙.jpg\n"
          ]
        },
        {
          "name": "stderr",
          "output_type": "stream",
          "text": [
            "jeans-train:  49%|████▉     | 197/400 [13:31<12:43,  3.76s/it]"
          ]
        },
        {
          "name": "stdout",
          "output_type": "stream",
          "text": [
            "\"has a washed effect, and is black, and is loose fit\"\n",
            "/home/sejong/Desktop/junseok/SPRC/musinsa/snap/men/jeans/14fdecf84e1846c3b8860d5002c65d73.jpg /home/sejong/Desktop/junseok/SPRC/musinsa/goods/men/jeans/엠보워싱 데님팬츠 (진청).jpg\n"
          ]
        },
        {
          "name": "stderr",
          "output_type": "stream",
          "text": [
            "jeans-train:  50%|████▉     | 198/400 [13:36<13:40,  4.06s/it]"
          ]
        },
        {
          "name": "stdout",
          "output_type": "stream",
          "text": [
            "\"has a washed effect, and is light blue, and is wide fit\"\n",
            "/home/sejong/Desktop/junseok/SPRC/musinsa/snap/men/jeans/5d916c60083c45de8fad0caeb4da47ec.jpg /home/sejong/Desktop/junseok/SPRC/musinsa/goods/men/jeans/스크레치 데님팬츠 그레이 KMLP6686.jpg\n"
          ]
        },
        {
          "name": "stderr",
          "output_type": "stream",
          "text": [
            "jeans-train:  50%|████▉     | 199/400 [13:41<14:14,  4.25s/it]"
          ]
        },
        {
          "name": "stdout",
          "output_type": "stream",
          "text": [
            "\"has a washed effect, and is black, and is loose fit\"\n",
            "/home/sejong/Desktop/junseok/SPRC/musinsa/snap/men/jeans/dab8444fbba64f44b8a5c7bf5c83512f.jpg /home/sejong/Desktop/junseok/SPRC/musinsa/goods/men/jeans/078 Raw Selvedge denim Jeans (Indigo Blue).jpg\n"
          ]
        },
        {
          "name": "stderr",
          "output_type": "stream",
          "text": [
            "jeans-train:  50%|█████     | 200/400 [13:45<14:27,  4.34s/it]"
          ]
        },
        {
          "name": "stdout",
          "output_type": "stream",
          "text": [
            "\"has a ripped design, and is dark blue, and is loose fit\"\n",
            "/home/sejong/Desktop/junseok/SPRC/musinsa/snap/men/jeans/0afab29f2d45477da55c4983aa9a283a.jpg /home/sejong/Desktop/junseok/SPRC/musinsa/goods/men/jeans/One Pintuck wide 04 - Non fade brownie brown.jpg\n"
          ]
        },
        {
          "name": "stderr",
          "output_type": "stream",
          "text": [
            "jeans-train:  50%|█████     | 201/400 [13:49<13:51,  4.18s/it]"
          ]
        },
        {
          "name": "stdout",
          "output_type": "stream",
          "text": [
            "\"has a wide fit\"\n",
            "/home/sejong/Desktop/junseok/SPRC/musinsa/snap/men/jeans/f8fddad247d840e2aea557604df77632.jpg /home/sejong/Desktop/junseok/SPRC/musinsa/goods/men/jeans/[TYPE JEAN] 원턱 와이드 데님 팬츠 (DEEP GREY).jpg\n"
          ]
        },
        {
          "name": "stderr",
          "output_type": "stream",
          "text": [
            "jeans-train:  50%|█████     | 202/400 [13:52<12:48,  3.88s/it]"
          ]
        },
        {
          "name": "stdout",
          "output_type": "stream",
          "text": [
            "\"has a wide fit and is dark gray\"\n",
            "/home/sejong/Desktop/junseok/SPRC/musinsa/snap/men/jeans/7df6e39d26844b92a53b4fb3dab223dc.jpg /home/sejong/Desktop/junseok/SPRC/musinsa/goods/men/jeans/프린지 데님 와이드 팬츠(BLACK).jpg\n"
          ]
        },
        {
          "name": "stderr",
          "output_type": "stream",
          "text": [
            "jeans-train:  51%|█████     | 203/400 [13:56<12:31,  3.82s/it]"
          ]
        },
        {
          "name": "stdout",
          "output_type": "stream",
          "text": [
            "\"has a ripped design, is black, and is wide fit\"\n",
            "/home/sejong/Desktop/junseok/SPRC/musinsa/snap/men/jeans/a600e0cbaa154f30bbddb22a1524d177.jpg /home/sejong/Desktop/junseok/SPRC/musinsa/goods/men/jeans/87-STAN039 캣샌드 워싱 와이드 카고 데님팬츠 빈티지 블루.jpg\n"
          ]
        },
        {
          "name": "stderr",
          "output_type": "stream",
          "text": [
            "jeans-train:  51%|█████     | 204/400 [14:00<12:07,  3.71s/it]"
          ]
        },
        {
          "name": "stdout",
          "output_type": "stream",
          "text": [
            "\"has a regular design, and is light blue, and is wide fit\"\n",
            "/home/sejong/Desktop/junseok/SPRC/musinsa/snap/men/jeans/d8daaa2e6c20406295abd9c35a1eea92.jpg /home/sejong/Desktop/junseok/SPRC/musinsa/goods/men/jeans/원턱 해머 와이드 데님팬츠 빈티지 블루.jpg\n"
          ]
        },
        {
          "name": "stderr",
          "output_type": "stream",
          "text": [
            "jeans-train:  51%|█████▏    | 205/400 [14:04<12:49,  3.95s/it]"
          ]
        },
        {
          "name": "stdout",
          "output_type": "stream",
          "text": [
            "\"has a washed effect, and is dark blue, and is wide fit\"\n",
            "/home/sejong/Desktop/junseok/SPRC/musinsa/snap/men/jeans/c80fd4b86bc24e54a0a3dbedf2de04da.jpg /home/sejong/Desktop/junseok/SPRC/musinsa/goods/men/jeans/사이드 라이트워싱 와이드 데님팬츠 [블루].jpg\n"
          ]
        },
        {
          "name": "stderr",
          "output_type": "stream",
          "text": [
            "jeans-train:  52%|█████▏    | 206/400 [14:08<13:02,  4.04s/it]"
          ]
        },
        {
          "name": "stdout",
          "output_type": "stream",
          "text": [
            "\"has a washed effect and is loose fit\"\n",
            "/home/sejong/Desktop/junseok/SPRC/musinsa/snap/men/jeans/d53d015a1a674082a25ba6837ac62038.jpg /home/sejong/Desktop/junseok/SPRC/musinsa/goods/men/jeans/내추럴 워싱 와이드 데님 팬츠 [연청].jpg\n"
          ]
        },
        {
          "name": "stderr",
          "output_type": "stream",
          "text": [
            "jeans-train:  52%|█████▏    | 207/400 [14:12<12:32,  3.90s/it]"
          ]
        },
        {
          "name": "stdout",
          "output_type": "stream",
          "text": [
            "\"has a washed effect, and is light blue, and is wide fit\"\n",
            "/home/sejong/Desktop/junseok/SPRC/musinsa/snap/men/jeans/ff9b40d358994c9280910c24c57e959b.jpg /home/sejong/Desktop/junseok/SPRC/musinsa/goods/men/jeans/LOOSED WIDE DENIM PANTS (RIBBED BLUE).jpg\n"
          ]
        },
        {
          "name": "stderr",
          "output_type": "stream",
          "text": [
            "jeans-train:  52%|█████▏    | 208/400 [14:16<12:54,  4.03s/it]"
          ]
        },
        {
          "name": "stdout",
          "output_type": "stream",
          "text": [
            "\"has a washed effect, and is light blue, and is wide fit\"\n",
            "/home/sejong/Desktop/junseok/SPRC/musinsa/snap/men/jeans/1dc881a7018942c4b6919df31986988b.jpg /home/sejong/Desktop/junseok/SPRC/musinsa/goods/men/jeans/절개 라인 워싱 벌룬핏 데님 팬츠 (MUD BEIGE).jpg\n"
          ]
        },
        {
          "name": "stderr",
          "output_type": "stream",
          "text": [
            "jeans-train:  52%|█████▏    | 209/400 [14:20<12:28,  3.92s/it]"
          ]
        },
        {
          "name": "stdout",
          "output_type": "stream",
          "text": [
            "\"has a washed effect, and is light blue, and is loose fit\"\n",
            "/home/sejong/Desktop/junseok/SPRC/musinsa/snap/men/jeans/74fe6132cc684215b4b06ad977fd52ad.jpg /home/sejong/Desktop/junseok/SPRC/musinsa/goods/men/jeans/Deep Wave _ New Straight.jpg\n"
          ]
        },
        {
          "name": "stderr",
          "output_type": "stream",
          "text": [
            "jeans-train:  52%|█████▎    | 210/400 [14:30<17:48,  5.62s/it]"
          ]
        },
        {
          "name": "stdout",
          "output_type": "stream",
          "text": [
            "\"has a ripped design, is light blue, and is loose fit\"\n",
            "/home/sejong/Desktop/junseok/SPRC/musinsa/snap/men/jeans/44d872db19e74c15847a95c9f4a7a71f.jpg /home/sejong/Desktop/junseok/SPRC/musinsa/goods/men/jeans/라인 스윙 벌룬핏 데님[블랙].jpg\n"
          ]
        },
        {
          "name": "stderr",
          "output_type": "stream",
          "text": [
            "jeans-train:  53%|█████▎    | 211/400 [14:33<15:52,  5.04s/it]"
          ]
        },
        {
          "name": "stdout",
          "output_type": "stream",
          "text": [
            "\"has a washed effect, and is black, and is loose fit\"\n",
            "/home/sejong/Desktop/junseok/SPRC/musinsa/snap/men/jeans/1734578690824.jpg /home/sejong/Desktop/junseok/SPRC/musinsa/goods/men/jeans/[최대 1.2만원 할인] 슬림핏 플레어드 진스 (블루).jpg\n"
          ]
        },
        {
          "name": "stderr",
          "output_type": "stream",
          "text": [
            "jeans-train:  53%|█████▎    | 212/400 [14:39<16:42,  5.33s/it]"
          ]
        },
        {
          "name": "stdout",
          "output_type": "stream",
          "text": [
            "\"has a washed effect, and is blue, and is straight fit\"\n",
            "/home/sejong/Desktop/junseok/SPRC/musinsa/snap/men/jeans/e5df8c195606446a825322f9450b474b.jpg /home/sejong/Desktop/junseok/SPRC/musinsa/goods/men/jeans/[프리미엄] CALIK 와이드 데님 팬츠 [크림].jpg\n"
          ]
        },
        {
          "name": "stderr",
          "output_type": "stream",
          "text": [
            "jeans-train:  53%|█████▎    | 213/400 [14:42<14:26,  4.63s/it]"
          ]
        },
        {
          "name": "stdout",
          "output_type": "stream",
          "text": [
            "\"has a ripped design, and is light blue, and is wide fit\"\n",
            "/home/sejong/Desktop/junseok/SPRC/musinsa/snap/men/jeans/c2e0f999488b45faabc095b8aec71d84.jpg /home/sejong/Desktop/junseok/SPRC/musinsa/goods/men/jeans/데님 커브드 와이드 팬츠 7COLOR COOSPT214.jpg\n"
          ]
        },
        {
          "name": "stderr",
          "output_type": "stream",
          "text": [
            "jeans-train:  54%|█████▎    | 214/400 [14:47<14:37,  4.72s/it]"
          ]
        },
        {
          "name": "stdout",
          "output_type": "stream",
          "text": [
            "\"has a washed effect, and is dark blue, and is wide fit\"\n",
            "/home/sejong/Desktop/junseok/SPRC/musinsa/snap/men/jeans/061b334913be42c49a02153985768cab.jpg /home/sejong/Desktop/junseok/SPRC/musinsa/goods/men/jeans/멀티 포켓 와이드 데님팬츠 Indigo Blue.jpg\n"
          ]
        },
        {
          "name": "stderr",
          "output_type": "stream",
          "text": [
            "jeans-train:  54%|█████▍    | 215/400 [14:50<13:06,  4.25s/it]"
          ]
        },
        {
          "name": "stdout",
          "output_type": "stream",
          "text": [
            "\"is blue and is wide fit\"\n",
            "/home/sejong/Desktop/junseok/SPRC/musinsa/snap/men/jeans/0e8876695e12497dba1ef325f8f639fc.jpg /home/sejong/Desktop/junseok/SPRC/musinsa/goods/men/jeans/WORKER PANTS (L.DENIM).jpg\n"
          ]
        },
        {
          "name": "stderr",
          "output_type": "stream",
          "text": [
            "jeans-train:  54%|█████▍    | 216/400 [14:54<12:28,  4.07s/it]"
          ]
        },
        {
          "name": "stdout",
          "output_type": "stream",
          "text": [
            "\"has a ripped design, and is light blue, and is wide fit\"\n",
            "/home/sejong/Desktop/junseok/SPRC/musinsa/snap/men/jeans/8b0075d4758c4c698c1b2e1d85f3ec95.jpg /home/sejong/Desktop/junseok/SPRC/musinsa/goods/men/jeans/[무료반품] 카펜터 데님 팬츠 블랙.jpg\n"
          ]
        },
        {
          "name": "stderr",
          "output_type": "stream",
          "text": [
            "jeans-train:  54%|█████▍    | 217/400 [14:58<12:48,  4.20s/it]"
          ]
        },
        {
          "name": "stdout",
          "output_type": "stream",
          "text": [
            "\"is black and has a ripped design and is loose fit\"\n",
            "/home/sejong/Desktop/junseok/SPRC/musinsa/snap/men/jeans/1d7ece4e8b9045a1981bb9fd660031e7.jpg /home/sejong/Desktop/junseok/SPRC/musinsa/goods/men/jeans/Selvedge Relaxed Denim Pants Dark Indigo.jpg\n"
          ]
        },
        {
          "name": "stderr",
          "output_type": "stream",
          "text": [
            "jeans-train:  55%|█████▍    | 218/400 [15:02<11:40,  3.85s/it]"
          ]
        },
        {
          "name": "stdout",
          "output_type": "stream",
          "text": [
            "\"has a regular design, and is dark blue, and is loose fit\"\n",
            "/home/sejong/Desktop/junseok/SPRC/musinsa/snap/men/jeans/df4647ac007e477887e492052163e359.jpg /home/sejong/Desktop/junseok/SPRC/musinsa/goods/men/jeans/[무료반품] 카펜터 데님 팬츠 블랙.jpg\n"
          ]
        },
        {
          "name": "stderr",
          "output_type": "stream",
          "text": [
            "jeans-train:  55%|█████▍    | 219/400 [15:05<11:40,  3.87s/it]"
          ]
        },
        {
          "name": "stdout",
          "output_type": "stream",
          "text": [
            "\"has a regular design, and is black, and is loose fit\"\n",
            "/home/sejong/Desktop/junseok/SPRC/musinsa/snap/men/jeans/4e1d38e26eb348f981e442b1dfad3e18.jpg /home/sejong/Desktop/junseok/SPRC/musinsa/goods/men/jeans/스탠다드 와이드 데님_다크블랙.jpg\n"
          ]
        },
        {
          "name": "stderr",
          "output_type": "stream",
          "text": [
            "jeans-train:  55%|█████▌    | 220/400 [15:10<12:11,  4.06s/it]"
          ]
        },
        {
          "name": "stdout",
          "output_type": "stream",
          "text": [
            "\"is black and wide fit\"\n",
            "/home/sejong/Desktop/junseok/SPRC/musinsa/snap/men/jeans/3e62c0618d034e3283fd812027abd6ea.jpg /home/sejong/Desktop/junseok/SPRC/musinsa/goods/men/jeans/플레어 워시드 데님 팬츠 블루.jpg\n"
          ]
        },
        {
          "name": "stderr",
          "output_type": "stream",
          "text": [
            "jeans-train:  55%|█████▌    | 221/400 [15:14<12:31,  4.20s/it]"
          ]
        },
        {
          "name": "stdout",
          "output_type": "stream",
          "text": [
            "\"has a ripped design, and is blue, and is loose fit\"\n",
            "/home/sejong/Desktop/junseok/SPRC/musinsa/snap/men/jeans/33c7492afb8146538bb4b5992b2db6cf.jpg /home/sejong/Desktop/junseok/SPRC/musinsa/goods/men/jeans/내추럴 워싱 와이드 데님 팬츠 [연청].jpg\n"
          ]
        },
        {
          "name": "stderr",
          "output_type": "stream",
          "text": [
            "jeans-train:  56%|█████▌    | 222/400 [15:18<12:05,  4.07s/it]"
          ]
        },
        {
          "name": "stdout",
          "output_type": "stream",
          "text": [
            "\"is light blue and wide fit\"\n",
            "/home/sejong/Desktop/junseok/SPRC/musinsa/snap/men/jeans/34af6bb3ccf548aa960bf3bd3ac496ab.jpg /home/sejong/Desktop/junseok/SPRC/musinsa/goods/men/jeans/부츠컷 워시드 데님 팬츠 Blue.jpg\n"
          ]
        },
        {
          "name": "stderr",
          "output_type": "stream",
          "text": [
            "jeans-train:  56%|█████▌    | 223/400 [15:21<11:16,  3.82s/it]"
          ]
        },
        {
          "name": "stdout",
          "output_type": "stream",
          "text": [
            "\"has a ripped design, and is blue, and is loose fit\"\n",
            "/home/sejong/Desktop/junseok/SPRC/musinsa/snap/men/jeans/feb5dd76c561417bb2bfa8485bdbaf0a.jpg /home/sejong/Desktop/junseok/SPRC/musinsa/goods/men/jeans/Clean Deep One Tuck Denim Pants [Brown].jpg\n"
          ]
        },
        {
          "name": "stderr",
          "output_type": "stream",
          "text": [
            "jeans-train:  56%|█████▌    | 224/400 [15:25<10:50,  3.70s/it]"
          ]
        },
        {
          "name": "stdout",
          "output_type": "stream",
          "text": [
            "\"has a wide fit and is brown\"\n",
            "/home/sejong/Desktop/junseok/SPRC/musinsa/snap/men/jeans/33c7492afb8146538bb4b5992b2db6cf.jpg /home/sejong/Desktop/junseok/SPRC/musinsa/goods/men/jeans/빅 브러쉬 엑스트라 와이드 데님 팬츠 [러스티 블루].jpg\n"
          ]
        },
        {
          "name": "stderr",
          "output_type": "stream",
          "text": [
            "jeans-train:  56%|█████▋    | 225/400 [15:29<11:16,  3.87s/it]"
          ]
        },
        {
          "name": "stdout",
          "output_type": "stream",
          "text": [
            "\"has a washed effect, and is blue, and is wide fit\"\n",
            "/home/sejong/Desktop/junseok/SPRC/musinsa/snap/men/jeans/023c5cbdfe1e4c03a6c10b59d2855e47.jpg /home/sejong/Desktop/junseok/SPRC/musinsa/goods/men/jeans/벌룬핏 데님 와이드 팬츠(워시드 블루).jpg\n"
          ]
        },
        {
          "name": "stderr",
          "output_type": "stream",
          "text": [
            "jeans-train:  56%|█████▋    | 226/400 [15:33<10:59,  3.79s/it]"
          ]
        },
        {
          "name": "stdout",
          "output_type": "stream",
          "text": [
            "\"has a ripped design, is dark blue, and is wide fit\"\n",
            "/home/sejong/Desktop/junseok/SPRC/musinsa/snap/men/jeans/6ba51fb0ea6f44669e4c432d88532546.jpg /home/sejong/Desktop/junseok/SPRC/musinsa/goods/men/jeans/논페이드 와이드 데님팬츠[라이트 블루].jpg\n"
          ]
        },
        {
          "name": "stderr",
          "output_type": "stream",
          "text": [
            "jeans-train:  57%|█████▋    | 227/400 [15:36<10:26,  3.62s/it]"
          ]
        },
        {
          "name": "stdout",
          "output_type": "stream",
          "text": [
            "\"has a ripped design, and is light blue, and is loose fit\"\n",
            "/home/sejong/Desktop/junseok/SPRC/musinsa/snap/men/jeans/c2209983c9454308a82f7e0b38840444.jpg /home/sejong/Desktop/junseok/SPRC/musinsa/goods/men/jeans/아토 다트 와이드 데님팬츠 블랙 MMLP6767.jpg\n"
          ]
        },
        {
          "name": "stderr",
          "output_type": "stream",
          "text": [
            "jeans-train:  57%|█████▋    | 228/400 [15:39<10:17,  3.59s/it]"
          ]
        },
        {
          "name": "stdout",
          "output_type": "stream",
          "text": [
            "\"has a washed effect, and is black, and is wide fit\"\n",
            "/home/sejong/Desktop/junseok/SPRC/musinsa/snap/men/jeans/81b0f98083954f8da501a230e97b0099.jpg /home/sejong/Desktop/junseok/SPRC/musinsa/goods/men/jeans/Linen Like Relax Fit Denim Pants - Deep Blue.jpg\n"
          ]
        },
        {
          "name": "stderr",
          "output_type": "stream",
          "text": [
            "jeans-train:  57%|█████▋    | 229/400 [15:43<10:33,  3.70s/it]"
          ]
        },
        {
          "name": "stdout",
          "output_type": "stream",
          "text": [
            "\"has a ripped design, is blue, and is wide fit\"\n",
            "/home/sejong/Desktop/junseok/SPRC/musinsa/snap/men/jeans/ce104ccc97f0406ba89e94672f4a3e96.jpg /home/sejong/Desktop/junseok/SPRC/musinsa/goods/men/jeans/프렌치 와이드 데님.jpg\n"
          ]
        },
        {
          "name": "stderr",
          "output_type": "stream",
          "text": [
            "jeans-train:  57%|█████▊    | 230/400 [15:47<10:46,  3.80s/it]"
          ]
        },
        {
          "name": "stdout",
          "output_type": "stream",
          "text": [
            "\"has a washed effect, and is light blue, and is loose fit\"\n",
            "/home/sejong/Desktop/junseok/SPRC/musinsa/snap/men/jeans/19859af9cd0345feb2d150a7b91bb739.jpg /home/sejong/Desktop/junseok/SPRC/musinsa/goods/men/jeans/505 Kaihara denim Jeans (Mid Blue).jpg\n"
          ]
        },
        {
          "name": "stderr",
          "output_type": "stream",
          "text": [
            "jeans-train:  58%|█████▊    | 231/400 [15:54<12:46,  4.53s/it]"
          ]
        },
        {
          "name": "stdout",
          "output_type": "stream",
          "text": [
            "\"has a washed effect, and is blue, and is loose fit\"\n",
            "/home/sejong/Desktop/junseok/SPRC/musinsa/snap/men/jeans/045b69302e0a4a70939a624a20d8b2ea.jpg /home/sejong/Desktop/junseok/SPRC/musinsa/goods/men/jeans/시그니처 와이드 데님 팬츠 토르블루.jpg\n"
          ]
        },
        {
          "name": "stderr",
          "output_type": "stream",
          "text": [
            "jeans-train:  58%|█████▊    | 232/400 [15:57<12:01,  4.30s/it]"
          ]
        },
        {
          "name": "stdout",
          "output_type": "stream",
          "text": [
            "\"has a washed effect, and is light blue, and is wide fit\"\n",
            "/home/sejong/Desktop/junseok/SPRC/musinsa/snap/men/jeans/53c0e1a148ed4047b35f202e33ee31d2.jpg /home/sejong/Desktop/junseok/SPRC/musinsa/goods/men/jeans/사이드핀턱 벌룬와이드 데님팬츠 블랙.jpg\n"
          ]
        },
        {
          "name": "stderr",
          "output_type": "stream",
          "text": [
            "jeans-train:  58%|█████▊    | 233/400 [16:01<11:26,  4.11s/it]"
          ]
        },
        {
          "name": "stdout",
          "output_type": "stream",
          "text": [
            "\"has a washed effect, and is black, and is wide fit\"\n",
            "/home/sejong/Desktop/junseok/SPRC/musinsa/snap/men/jeans/7ee76d763dfa4947879a5c0546a7b6fc.jpg /home/sejong/Desktop/junseok/SPRC/musinsa/goods/men/jeans/Kaihara denim One Pleats Trousers (Mid Blue).jpg\n"
          ]
        },
        {
          "name": "stderr",
          "output_type": "stream",
          "text": [
            "jeans-train:  58%|█████▊    | 234/400 [16:05<11:09,  4.03s/it]"
          ]
        },
        {
          "name": "stdout",
          "output_type": "stream",
          "text": [
            "\"has a washed effect, is blue, and is loose fit\"\n",
            "/home/sejong/Desktop/junseok/SPRC/musinsa/snap/men/jeans/328d1d8cdfc04b2082f3ddecf2f18ab0.jpg /home/sejong/Desktop/junseok/SPRC/musinsa/goods/men/jeans/Snow cargo Denim BLACK.jpg\n"
          ]
        },
        {
          "name": "stderr",
          "output_type": "stream",
          "text": [
            "jeans-train:  59%|█████▉    | 235/400 [16:09<11:00,  4.00s/it]"
          ]
        },
        {
          "name": "stdout",
          "output_type": "stream",
          "text": [
            "\"has a ripped design, is black, and is loose fit\"\n",
            "/home/sejong/Desktop/junseok/SPRC/musinsa/snap/men/jeans/5d18c9faeaaf49e1a19226dee42120fd.jpg /home/sejong/Desktop/junseok/SPRC/musinsa/goods/men/jeans/루즈 워시드 벌룬핏 와이드 데님 팬츠 유니섹스 (블랙_블루).jpg\n"
          ]
        },
        {
          "name": "stderr",
          "output_type": "stream",
          "text": [
            "jeans-train:  59%|█████▉    | 236/400 [16:13<11:09,  4.08s/it]"
          ]
        },
        {
          "name": "stdout",
          "output_type": "stream",
          "text": [
            "\"has a washed effect, and is black, and is loose fit\"\n",
            "/home/sejong/Desktop/junseok/SPRC/musinsa/snap/men/jeans/1546f8d4af764f84bec93548eb27912a.jpg /home/sejong/Desktop/junseok/SPRC/musinsa/goods/men/jeans/this is wide denim pants snow BLUE.jpg\n"
          ]
        },
        {
          "name": "stderr",
          "output_type": "stream",
          "text": [
            "jeans-train:  59%|█████▉    | 237/400 [16:17<11:05,  4.09s/it]"
          ]
        },
        {
          "name": "stdout",
          "output_type": "stream",
          "text": [
            "\"has a washed effect, and is light blue, and is wide fit\"\n",
            "/home/sejong/Desktop/junseok/SPRC/musinsa/snap/men/jeans/743082aa4f044a71a1fd8273e11ec39f.jpg /home/sejong/Desktop/junseok/SPRC/musinsa/goods/men/jeans/INSIDE OUT STITCH DENIM PANTS [BLACK].jpg\n"
          ]
        },
        {
          "name": "stderr",
          "output_type": "stream",
          "text": [
            "jeans-train:  60%|█████▉    | 238/400 [16:21<10:25,  3.86s/it]"
          ]
        },
        {
          "name": "stdout",
          "output_type": "stream",
          "text": [
            "\"has a regular design, and is black, and is wide fit\"\n",
            "/home/sejong/Desktop/junseok/SPRC/musinsa/snap/men/jeans/f15ea83d132f434a9c1ab037f9013df4.jpg /home/sejong/Desktop/junseok/SPRC/musinsa/goods/men/jeans/Wide Semi Flare Denim Pants [Vintage Deep Blue].jpg\n"
          ]
        },
        {
          "name": "stderr",
          "output_type": "stream",
          "text": [
            "jeans-train:  60%|█████▉    | 239/400 [16:25<10:48,  4.03s/it]"
          ]
        },
        {
          "name": "stdout",
          "output_type": "stream",
          "text": [
            "\"has a regular design, and is black, and is wide fit\"\n",
            "/home/sejong/Desktop/junseok/SPRC/musinsa/snap/men/jeans/fb38b8e70e0a404fbf3884045e8b5960.jpg /home/sejong/Desktop/junseok/SPRC/musinsa/goods/men/jeans/51005 HISHITOMO COLLECTION LIGHT BLUE JEANS [RELAX STRAIGHT].jpg\n"
          ]
        },
        {
          "name": "stderr",
          "output_type": "stream",
          "text": [
            "jeans-train:  60%|██████    | 240/400 [16:28<10:16,  3.85s/it]"
          ]
        },
        {
          "name": "stdout",
          "output_type": "stream",
          "text": [
            "\"has a washed effect, and is light blue, and is straight fit\"\n",
            "/home/sejong/Desktop/junseok/SPRC/musinsa/snap/men/jeans/e54ba23f047143e98941d61e7acb11f1.jpg /home/sejong/Desktop/junseok/SPRC/musinsa/goods/men/jeans/기모 남여공용 옐로우 워싱 벌룬핏 와이드 데님 유니섹스 (진청_블랙_블루).jpg\n"
          ]
        },
        {
          "name": "stderr",
          "output_type": "stream",
          "text": [
            "jeans-train:  60%|██████    | 241/400 [16:33<10:38,  4.02s/it]"
          ]
        },
        {
          "name": "stdout",
          "output_type": "stream",
          "text": [
            "\"has a washed effect, and is light blue, and is loose fit\"\n",
            "/home/sejong/Desktop/junseok/SPRC/musinsa/snap/men/jeans/a50d3ff84e184b8784dd55771c4ab0c8.jpg /home/sejong/Desktop/junseok/SPRC/musinsa/goods/men/jeans/WORKER PANTS (GREY).jpg\n"
          ]
        },
        {
          "name": "stderr",
          "output_type": "stream",
          "text": [
            "jeans-train:  60%|██████    | 242/400 [16:36<10:03,  3.82s/it]"
          ]
        },
        {
          "name": "stdout",
          "output_type": "stream",
          "text": [
            "\"has a regular design, and is black, and is loose fit\"\n",
            "/home/sejong/Desktop/junseok/SPRC/musinsa/snap/men/jeans/0bba98aede4f452c90be5405f84556fb.jpg /home/sejong/Desktop/junseok/SPRC/musinsa/goods/men/jeans/[with 김무열] 유로피안 워시드 데님 팬츠 - 3 COLOR.jpg\n"
          ]
        },
        {
          "name": "stderr",
          "output_type": "stream",
          "text": [
            "jeans-train:  61%|██████    | 243/400 [16:40<09:46,  3.73s/it]"
          ]
        },
        {
          "name": "stdout",
          "output_type": "stream",
          "text": [
            "\"has a washed effect, and is blue, and is wide fit\"\n",
            "/home/sejong/Desktop/junseok/SPRC/musinsa/snap/men/jeans/8014ee106044467a94ea87a893b91734.jpg /home/sejong/Desktop/junseok/SPRC/musinsa/goods/men/jeans/ELECTRICAL BOOT CUT JEANS (BLACK).jpg\n"
          ]
        },
        {
          "name": "stderr",
          "output_type": "stream",
          "text": [
            "jeans-train:  61%|██████    | 244/400 [16:45<10:45,  4.14s/it]"
          ]
        },
        {
          "name": "stdout",
          "output_type": "stream",
          "text": [
            "\"has a ripped design, and is black, and is wide fit\"\n",
            "/home/sejong/Desktop/junseok/SPRC/musinsa/snap/men/jeans/7df6e39d26844b92a53b4fb3dab223dc.jpg /home/sejong/Desktop/junseok/SPRC/musinsa/goods/men/jeans/빈티지 와이드 데님진 (블랙).jpg\n"
          ]
        },
        {
          "name": "stderr",
          "output_type": "stream",
          "text": [
            "jeans-train:  61%|██████▏   | 245/400 [16:51<12:25,  4.81s/it]"
          ]
        },
        {
          "name": "stdout",
          "output_type": "stream",
          "text": [
            "\"has a washed effect, and is black, and is wide fit\"\n",
            "/home/sejong/Desktop/junseok/SPRC/musinsa/snap/men/jeans/3e4ad0c112a4433a930ffd324732856f.jpg /home/sejong/Desktop/junseok/SPRC/musinsa/goods/men/jeans/[무료반품][최대 1.2만원 할인] One Washed Wide Denim - 13 Color.jpg\n"
          ]
        },
        {
          "name": "stderr",
          "output_type": "stream",
          "text": [
            "jeans-train:  62%|██████▏   | 246/400 [16:55<11:28,  4.47s/it]"
          ]
        },
        {
          "name": "stdout",
          "output_type": "stream",
          "text": [
            "\"has a regular design, and is black, and is loose fit\"\n",
            "/home/sejong/Desktop/junseok/SPRC/musinsa/snap/men/jeans/ff4b50d374094e468f811850331059f0.jpg /home/sejong/Desktop/junseok/SPRC/musinsa/goods/men/jeans/Wide Semi Flare Denim Pants [Vintage Grey].jpg\n"
          ]
        },
        {
          "name": "stderr",
          "output_type": "stream",
          "text": [
            "jeans-train:  62%|██████▏   | 247/400 [16:59<11:28,  4.50s/it]"
          ]
        },
        {
          "name": "stdout",
          "output_type": "stream",
          "text": [
            "\"is slightly longer length and is loose fit\"\n",
            "/home/sejong/Desktop/junseok/SPRC/musinsa/snap/men/jeans/da6b74fb35524673bd4c9945bb6cc643.jpg /home/sejong/Desktop/junseok/SPRC/musinsa/goods/men/jeans/웨이비 커브드 와이드 데님 팬츠 [BLACK].jpg\n"
          ]
        },
        {
          "name": "stderr",
          "output_type": "stream",
          "text": [
            "jeans-train:  62%|██████▏   | 248/400 [17:02<10:14,  4.04s/it]"
          ]
        },
        {
          "name": "stdout",
          "output_type": "stream",
          "text": [
            "\"is black and wide fit\"\n",
            "/home/sejong/Desktop/junseok/SPRC/musinsa/snap/men/jeans/14fdecf84e1846c3b8860d5002c65d73.jpg /home/sejong/Desktop/junseok/SPRC/musinsa/goods/men/jeans/Washed One Tuck Denim Pants [2 Colors].jpg\n"
          ]
        },
        {
          "name": "stderr",
          "output_type": "stream",
          "text": [
            "jeans-train:  62%|██████▏   | 249/400 [17:06<10:06,  4.01s/it]"
          ]
        },
        {
          "name": "stdout",
          "output_type": "stream",
          "text": [
            "\"has a washed effect, and is light blue, and is loose fit\"\n",
            "/home/sejong/Desktop/junseok/SPRC/musinsa/snap/men/jeans/b11b018f9b724760b0ad9efadc25bf7d.jpg /home/sejong/Desktop/junseok/SPRC/musinsa/goods/men/jeans/GP065 먼데인 카고 데님 팬츠 (INDIGO).jpg\n"
          ]
        },
        {
          "name": "stderr",
          "output_type": "stream",
          "text": [
            "jeans-train:  62%|██████▎   | 250/400 [17:11<10:10,  4.07s/it]"
          ]
        },
        {
          "name": "stdout",
          "output_type": "stream",
          "text": [
            "\"has a ripped design, and is dark blue, and is loose fit\"\n",
            "/home/sejong/Desktop/junseok/SPRC/musinsa/snap/men/jeans/63b13c393283418dbaecd92eae27c128.jpg /home/sejong/Desktop/junseok/SPRC/musinsa/goods/men/jeans/논페이드 와이드 데님팬츠[라이트 블루].jpg\n"
          ]
        },
        {
          "name": "stderr",
          "output_type": "stream",
          "text": [
            "jeans-train:  63%|██████▎   | 251/400 [17:14<09:27,  3.81s/it]"
          ]
        },
        {
          "name": "stdout",
          "output_type": "stream",
          "text": [
            "\"has a washed effect, and is light blue, and is loose fit\"\n",
            "/home/sejong/Desktop/junseok/SPRC/musinsa/snap/men/jeans/305ab24aa0c54e09aed09714f3c61e7a.jpg /home/sejong/Desktop/junseok/SPRC/musinsa/goods/men/jeans/세미 와이드 데님팬츠 중청.jpg\n"
          ]
        },
        {
          "name": "stderr",
          "output_type": "stream",
          "text": [
            "jeans-train:  63%|██████▎   | 252/400 [17:18<09:40,  3.92s/it]"
          ]
        },
        {
          "name": "stdout",
          "output_type": "stream",
          "text": [
            "\"has a regular design, and is blue, and is loose fit\"\n",
            "/home/sejong/Desktop/junseok/SPRC/musinsa/snap/men/jeans/55595c08ee2b4e66aa64d5aa538b4422.jpg /home/sejong/Desktop/junseok/SPRC/musinsa/goods/men/jeans/카펜터 프론트 워싱 와이드 데님 팬츠 (VINTAGE BLUE).jpg\n"
          ]
        },
        {
          "name": "stderr",
          "output_type": "stream",
          "text": [
            "jeans-train:  63%|██████▎   | 253/400 [17:22<09:25,  3.85s/it]"
          ]
        },
        {
          "name": "stdout",
          "output_type": "stream",
          "text": [
            "\"has a washed effect, and is light blue\"\n",
            "/home/sejong/Desktop/junseok/SPRC/musinsa/snap/men/jeans/1210cea3d2de44cd97572db474784acc.jpg /home/sejong/Desktop/junseok/SPRC/musinsa/goods/men/jeans/빈티지 캣워싱 와이드 데님 팬츠 [샌드 블루].jpg\n"
          ]
        },
        {
          "name": "stderr",
          "output_type": "stream",
          "text": [
            "jeans-train:  64%|██████▎   | 254/400 [17:25<09:08,  3.76s/it]"
          ]
        },
        {
          "name": "stdout",
          "output_type": "stream",
          "text": [
            "\"has a washed effect, and is blue, and is wide fit\"\n",
            "/home/sejong/Desktop/junseok/SPRC/musinsa/snap/men/jeans/e5ac56a76eb940a1a9a173e1260ee1e2.jpg /home/sejong/Desktop/junseok/SPRC/musinsa/goods/men/jeans/EXTRA WIDE DENIM PANTS [MEDIUM BLUE].jpg\n"
          ]
        },
        {
          "name": "stderr",
          "output_type": "stream",
          "text": [
            "jeans-train:  64%|██████▍   | 255/400 [17:30<09:34,  3.96s/it]"
          ]
        },
        {
          "name": "stdout",
          "output_type": "stream",
          "text": [
            "\"has a washed effect, and is light blue, and is wide fit\"\n",
            "/home/sejong/Desktop/junseok/SPRC/musinsa/snap/men/jeans/7408eea182f24bde8f54b4a67b6033a8.jpg /home/sejong/Desktop/junseok/SPRC/musinsa/goods/men/jeans/디버 슬라브 데님팬츠 딥블루 MMLP6768.jpg\n"
          ]
        },
        {
          "name": "stderr",
          "output_type": "stream",
          "text": [
            "jeans-train:  64%|██████▍   | 256/400 [17:35<10:27,  4.36s/it]"
          ]
        },
        {
          "name": "stdout",
          "output_type": "stream",
          "text": [
            "\"has a washed effect, and is dark blue, and is wide fit\"\n",
            "/home/sejong/Desktop/junseok/SPRC/musinsa/snap/men/jeans/d76586cbc8744d6c99df973391163df1.jpg /home/sejong/Desktop/junseok/SPRC/musinsa/goods/men/jeans/Center Incision Wide Jeans DCPT028Black.jpg\n"
          ]
        },
        {
          "name": "stderr",
          "output_type": "stream",
          "text": [
            "jeans-train:  64%|██████▍   | 257/400 [17:39<09:49,  4.13s/it]"
          ]
        },
        {
          "name": "stdout",
          "output_type": "stream",
          "text": [
            "\"is black and wide fit\"\n",
            "/home/sejong/Desktop/junseok/SPRC/musinsa/snap/men/jeans/c8f275bcff00453290c8f39215b84b6d.jpg /home/sejong/Desktop/junseok/SPRC/musinsa/goods/men/jeans/빈티지 프론트 워싱 와이드 청바지 데님 팬츠.jpg\n"
          ]
        },
        {
          "name": "stderr",
          "output_type": "stream",
          "text": [
            "jeans-train:  64%|██████▍   | 258/400 [17:44<10:33,  4.46s/it]"
          ]
        },
        {
          "name": "stdout",
          "output_type": "stream",
          "text": [
            "\"has a washed effect, and is light blue, and is wide fit\"\n",
            "/home/sejong/Desktop/junseok/SPRC/musinsa/snap/men/jeans/6291cccddd6f42b291e78b6e3c610a01.jpg /home/sejong/Desktop/junseok/SPRC/musinsa/goods/men/jeans/빈티지 와이드 벌룬 데님팬츠_블루.jpg\n"
          ]
        },
        {
          "name": "stderr",
          "output_type": "stream",
          "text": [
            "jeans-train:  65%|██████▍   | 259/400 [17:48<09:59,  4.25s/it]"
          ]
        },
        {
          "name": "stdout",
          "output_type": "stream",
          "text": [
            "\"has a washed effect, and is blue, and is wide fit\"\n",
            "/home/sejong/Desktop/junseok/SPRC/musinsa/snap/men/jeans/f6a7ada3a551441f9ae241c4a78b31d1.jpg /home/sejong/Desktop/junseok/SPRC/musinsa/goods/men/jeans/스윙 벌룬핏 데님[인디고].jpg\n"
          ]
        },
        {
          "name": "stderr",
          "output_type": "stream",
          "text": [
            "jeans-train:  65%|██████▌   | 260/400 [17:51<09:31,  4.08s/it]"
          ]
        },
        {
          "name": "stdout",
          "output_type": "stream",
          "text": [
            "\"has a washed effect, and is light blue, and is loose fit\"\n",
            "/home/sejong/Desktop/junseok/SPRC/musinsa/snap/men/jeans/7be5e993d6b045118eeb65dcb91014f5.jpg /home/sejong/Desktop/junseok/SPRC/musinsa/goods/men/jeans/스탠다드 와이드 데님_다크블랙.jpg\n"
          ]
        },
        {
          "name": "stderr",
          "output_type": "stream",
          "text": [
            "jeans-train:  65%|██████▌   | 261/400 [17:53<08:09,  3.52s/it]"
          ]
        },
        {
          "name": "stdout",
          "output_type": "stream",
          "text": [
            "\"is black and wide fit\"\n",
            "/home/sejong/Desktop/junseok/SPRC/musinsa/snap/men/jeans/8b0075d4758c4c698c1b2e1d85f3ec95.jpg /home/sejong/Desktop/junseok/SPRC/musinsa/goods/men/jeans/더블니 85283 루즈핏 데님팬츠 Vintage Blue.jpg\n"
          ]
        },
        {
          "name": "stderr",
          "output_type": "stream",
          "text": [
            "jeans-train:  66%|██████▌   | 262/400 [17:57<07:53,  3.43s/it]"
          ]
        },
        {
          "name": "stdout",
          "output_type": "stream",
          "text": [
            "\"has a ripped design, is blue, and is wide fit\"\n",
            "/home/sejong/Desktop/junseok/SPRC/musinsa/snap/men/jeans/a3f638514f1d4d17aa27a05dba3583d1.jpg /home/sejong/Desktop/junseok/SPRC/musinsa/goods/men/jeans/생지 와이드 핏 팬츠_INDIGO.jpg\n"
          ]
        },
        {
          "name": "stderr",
          "output_type": "stream",
          "text": [
            "jeans-train:  66%|██████▌   | 263/400 [18:00<07:43,  3.38s/it]"
          ]
        },
        {
          "name": "stdout",
          "output_type": "stream",
          "text": [
            "\"has a washed effect, and is dark blue, and is wide fit\"\n",
            "/home/sejong/Desktop/junseok/SPRC/musinsa/snap/men/jeans/64f8a58c098941d2abe002c98a96dbc1.jpg /home/sejong/Desktop/junseok/SPRC/musinsa/goods/men/jeans/라인 스윙 벌룬핏 데님[블랙].jpg\n"
          ]
        },
        {
          "name": "stderr",
          "output_type": "stream",
          "text": [
            "jeans-train:  66%|██████▌   | 264/400 [18:06<09:29,  4.18s/it]"
          ]
        },
        {
          "name": "stdout",
          "output_type": "stream",
          "text": [
            "\"has a washed effect, and is black, and is loose fit\"\n",
            "/home/sejong/Desktop/junseok/SPRC/musinsa/snap/men/jeans/f09f7fcf101f41c9b7853f482c55dcd8.jpg /home/sejong/Desktop/junseok/SPRC/musinsa/goods/men/jeans/블랙 커브드 데님 팬츠  블랙.jpg\n"
          ]
        },
        {
          "name": "stderr",
          "output_type": "stream",
          "text": [
            "jeans-train:  66%|██████▋   | 265/400 [18:09<08:29,  3.78s/it]"
          ]
        },
        {
          "name": "stdout",
          "output_type": "stream",
          "text": [
            "\"is black and has a regular design and is wide fit\"\n",
            "/home/sejong/Desktop/junseok/SPRC/musinsa/snap/men/jeans/464a57a316a347cc8cf82aeaba26435e.jpg /home/sejong/Desktop/junseok/SPRC/musinsa/goods/men/jeans/블랙 리치 데님 팬츠.jpg\n"
          ]
        },
        {
          "name": "stderr",
          "output_type": "stream",
          "text": [
            "jeans-train:  66%|██████▋   | 266/400 [18:12<07:58,  3.57s/it]"
          ]
        },
        {
          "name": "stdout",
          "output_type": "stream",
          "text": [
            "\"has a washed effect, and is light blue, and is wide fit\"\n",
            "/home/sejong/Desktop/junseok/SPRC/musinsa/snap/men/jeans/c5f3379bdddc4f6c89ea982902786919.jpg /home/sejong/Desktop/junseok/SPRC/musinsa/goods/men/jeans/Minimal wide jeans - 워시드블루.jpg\n"
          ]
        },
        {
          "name": "stderr",
          "output_type": "stream",
          "text": [
            "jeans-train:  67%|██████▋   | 267/400 [18:15<07:49,  3.53s/it]"
          ]
        },
        {
          "name": "stdout",
          "output_type": "stream",
          "text": [
            "\"has a washed effect, and is light blue, and is wide fit\"\n",
            "/home/sejong/Desktop/junseok/SPRC/musinsa/snap/men/jeans/4a78d4b17e7b4854a71cac92283370f7.jpg /home/sejong/Desktop/junseok/SPRC/musinsa/goods/men/jeans/도밍고 워싱 와이드 데님 팬츠 - 워시드 브라운.jpg\n"
          ]
        },
        {
          "name": "stderr",
          "output_type": "stream",
          "text": [
            "jeans-train:  67%|██████▋   | 268/400 [18:19<07:51,  3.57s/it]"
          ]
        },
        {
          "name": "stdout",
          "output_type": "stream",
          "text": [
            "\"has a ripped design, and is dark blue, and is wide fit\"\n",
            "/home/sejong/Desktop/junseok/SPRC/musinsa/snap/men/jeans/53b2da2d44654bcd9a39228f8f415adf.jpg /home/sejong/Desktop/junseok/SPRC/musinsa/goods/men/jeans/사이드 트랙 데님 팬츠-인디고.jpg\n"
          ]
        },
        {
          "name": "stderr",
          "output_type": "stream",
          "text": [
            "jeans-train:  67%|██████▋   | 269/400 [18:23<08:01,  3.67s/it]"
          ]
        },
        {
          "name": "stdout",
          "output_type": "stream",
          "text": [
            "\"has a washed effect, and is blue, and is wide fit\"\n",
            "/home/sejong/Desktop/junseok/SPRC/musinsa/snap/men/jeans/51a231a267de48dd9b3267e420494c91.jpg /home/sejong/Desktop/junseok/SPRC/musinsa/goods/men/jeans/카펜터 와이드 데님 팬츠 (RAW INDIGO).jpg\n"
          ]
        },
        {
          "name": "stderr",
          "output_type": "stream",
          "text": [
            "jeans-train:  68%|██████▊   | 270/400 [18:26<07:44,  3.57s/it]"
          ]
        },
        {
          "name": "stdout",
          "output_type": "stream",
          "text": [
            "\"has a regular design, is dark blue, and is loose fit\"\n",
            "/home/sejong/Desktop/junseok/SPRC/musinsa/snap/men/jeans/509cff822d9a4090bf7d0cbe704ac0cd.jpg /home/sejong/Desktop/junseok/SPRC/musinsa/goods/men/jeans/Bold Incision Wide Jeans (Indigo).jpg\n"
          ]
        },
        {
          "name": "stderr",
          "output_type": "stream",
          "text": [
            "jeans-train:  68%|██████▊   | 271/400 [18:30<07:30,  3.49s/it]"
          ]
        },
        {
          "name": "stdout",
          "output_type": "stream",
          "text": [
            "\"has a ripped design, and is light blue, and is loose fit\"\n",
            "/home/sejong/Desktop/junseok/SPRC/musinsa/snap/men/jeans/1734426485876.jpg /home/sejong/Desktop/junseok/SPRC/musinsa/goods/men/jeans/샌드 워시드 와이드 데님 2color.jpg\n"
          ]
        },
        {
          "name": "stderr",
          "output_type": "stream",
          "text": [
            "jeans-train:  68%|██████▊   | 272/400 [18:34<08:18,  3.89s/it]"
          ]
        },
        {
          "name": "stdout",
          "output_type": "stream",
          "text": [
            "\"has a washed effect, and is gray, and is loose fit\"\n",
            "/home/sejong/Desktop/junseok/SPRC/musinsa/snap/men/jeans/629d2233618b4a3085fe717fac8ec8c5.jpg /home/sejong/Desktop/junseok/SPRC/musinsa/goods/men/jeans/87-STAN054 캣샌드 레인 워싱 와이드 데님팬츠 스노우 블루.jpg\n"
          ]
        },
        {
          "name": "stderr",
          "output_type": "stream",
          "text": [
            "jeans-train:  68%|██████▊   | 273/400 [18:38<07:52,  3.72s/it]"
          ]
        },
        {
          "name": "stdout",
          "output_type": "stream",
          "text": [
            "\"has a washed effect, and is light blue, and is wide fit\"\n",
            "/home/sejong/Desktop/junseok/SPRC/musinsa/snap/men/jeans/ce6c1a2f950a42b8b3cd4c68d7b209af.jpg /home/sejong/Desktop/junseok/SPRC/musinsa/goods/men/jeans/Trabus paint jeans black.jpg\n"
          ]
        },
        {
          "name": "stderr",
          "output_type": "stream",
          "text": [
            "jeans-train:  68%|██████▊   | 274/400 [18:41<07:41,  3.66s/it]"
          ]
        },
        {
          "name": "stdout",
          "output_type": "stream",
          "text": [
            "\"has a ripped design, is black, and is wide fit\"\n",
            "/home/sejong/Desktop/junseok/SPRC/musinsa/snap/men/jeans/ac75f348ca304e7dae8e85cf2ec30f23.jpg /home/sejong/Desktop/junseok/SPRC/musinsa/goods/men/jeans/세미 와이드 카고 데님 팬츠 옐로우.jpg\n"
          ]
        },
        {
          "name": "stderr",
          "output_type": "stream",
          "text": [
            "jeans-train:  69%|██████▉   | 275/400 [18:46<08:18,  3.99s/it]"
          ]
        },
        {
          "name": "stdout",
          "output_type": "stream",
          "text": [
            "\"has a ripped design, is dark blue, and is loose fit\"\n",
            "/home/sejong/Desktop/junseok/SPRC/musinsa/snap/men/jeans/9dd30d8b0dee45eeaabe3a1d11b27072.jpg /home/sejong/Desktop/junseok/SPRC/musinsa/goods/men/jeans/테리 워시드 데님 팬츠 미들 블루.jpg\n"
          ]
        },
        {
          "name": "stderr",
          "output_type": "stream",
          "text": [
            "jeans-train:  69%|██████▉   | 276/400 [18:50<08:02,  3.89s/it]"
          ]
        },
        {
          "name": "stdout",
          "output_type": "stream",
          "text": [
            "\"has a washed effect, and is light blue, and is wide fit\"\n",
            "/home/sejong/Desktop/junseok/SPRC/musinsa/snap/men/jeans/4700bb0a9ccc43fba7adece4912d10ef.jpg /home/sejong/Desktop/junseok/SPRC/musinsa/goods/men/jeans/51077 KURABO WHITE SHARK JEANS [EXTRA WIDE STRAIGHT].jpg\n"
          ]
        },
        {
          "name": "stderr",
          "output_type": "stream",
          "text": [
            "jeans-train:  69%|██████▉   | 277/400 [18:53<07:35,  3.70s/it]"
          ]
        },
        {
          "name": "stdout",
          "output_type": "stream",
          "text": [
            "\"has a washed effect, and is blue, and is wide fit\"\n",
            "/home/sejong/Desktop/junseok/SPRC/musinsa/snap/men/jeans/4ef0663ee7804eec970a04fc987ebfda.jpg /home/sejong/Desktop/junseok/SPRC/musinsa/goods/men/jeans/Linking Wide Denim Pants.jpg\n"
          ]
        },
        {
          "name": "stderr",
          "output_type": "stream",
          "text": [
            "jeans-train:  70%|██████▉   | 278/400 [18:57<07:38,  3.76s/it]"
          ]
        },
        {
          "name": "stdout",
          "output_type": "stream",
          "text": [
            "\"is light blue and loose fit\"\n",
            "/home/sejong/Desktop/junseok/SPRC/musinsa/snap/men/jeans/1d7ece4e8b9045a1981bb9fd660031e7.jpg /home/sejong/Desktop/junseok/SPRC/musinsa/goods/men/jeans/[with 김무열] 유로피안 워시드 데님 팬츠 - 3 COLOR.jpg\n"
          ]
        },
        {
          "name": "stderr",
          "output_type": "stream",
          "text": [
            "jeans-train:  70%|██████▉   | 279/400 [19:06<10:35,  5.25s/it]"
          ]
        },
        {
          "name": "stdout",
          "output_type": "stream",
          "text": [
            "\"has a washed effect, and is light blue, and is wide fit\"\n",
            "/home/sejong/Desktop/junseok/SPRC/musinsa/snap/men/jeans/d5fa6d46d0eb489da7db4e822f802ebe.jpg /home/sejong/Desktop/junseok/SPRC/musinsa/goods/men/jeans/BUCKLE WIDE DENIM PANTS BLACK.jpg\n"
          ]
        },
        {
          "name": "stderr",
          "output_type": "stream",
          "text": [
            "jeans-train:  70%|███████   | 280/400 [19:08<08:58,  4.49s/it]"
          ]
        },
        {
          "name": "stdout",
          "output_type": "stream",
          "text": [
            "\"has a regular design, is black, and is wide fit\"\n",
            "/home/sejong/Desktop/junseok/SPRC/musinsa/snap/men/jeans/cb24039fbf3442c9ad3b8125fd1d7d63.jpg /home/sejong/Desktop/junseok/SPRC/musinsa/goods/men/jeans/유틸리티 카고 워싱 와이드 데님 팬츠 (BEIGE BLUE).jpg\n"
          ]
        },
        {
          "name": "stderr",
          "output_type": "stream",
          "text": [
            "jeans-train:  70%|███████   | 281/400 [19:12<08:21,  4.22s/it]"
          ]
        },
        {
          "name": "stdout",
          "output_type": "stream",
          "text": [
            "\"has a washed effect, and is blue, and is wide fit\"\n",
            "/home/sejong/Desktop/junseok/SPRC/musinsa/snap/men/jeans/b0d61653df6c4d7aa4530518e0d25e72.jpg /home/sejong/Desktop/junseok/SPRC/musinsa/goods/men/jeans/린딘  Dry Ecru Embo 112742.jpg\n"
          ]
        },
        {
          "name": "stderr",
          "output_type": "stream",
          "text": [
            "jeans-train:  70%|███████   | 282/400 [19:16<08:24,  4.28s/it]"
          ]
        },
        {
          "name": "stdout",
          "output_type": "stream",
          "text": [
            "\"has a regular design, and is dark blue, and is slim fit\"\n",
            "/home/sejong/Desktop/junseok/SPRC/musinsa/snap/men/jeans/f1e80f1877914e398ada45edba06f317.jpg /home/sejong/Desktop/junseok/SPRC/musinsa/goods/men/jeans/필치 데님 팬츠 - 데저트 블랙.jpg\n"
          ]
        },
        {
          "name": "stderr",
          "output_type": "stream",
          "text": [
            "jeans-train:  71%|███████   | 283/400 [19:20<07:47,  4.00s/it]"
          ]
        },
        {
          "name": "stdout",
          "output_type": "stream",
          "text": [
            "\"is black and has a washed effect and is straight fit\"\n",
            "/home/sejong/Desktop/junseok/SPRC/musinsa/snap/men/jeans/350dba69abcb45d09610ede1344183a9.jpg /home/sejong/Desktop/junseok/SPRC/musinsa/goods/men/jeans/이지 원 턱 와이드 데님 팬츠_Light Blue.jpg\n"
          ]
        },
        {
          "name": "stderr",
          "output_type": "stream",
          "text": [
            "jeans-train:  71%|███████   | 284/400 [19:24<08:04,  4.18s/it]"
          ]
        },
        {
          "name": "stdout",
          "output_type": "stream",
          "text": [
            "\"is light blue and wide fit\"\n",
            "/home/sejong/Desktop/junseok/SPRC/musinsa/snap/men/jeans/e083c3e94b004353b114f5054d6ef046.jpg /home/sejong/Desktop/junseok/SPRC/musinsa/goods/men/jeans/카펜터 프론트 워싱 와이드 데님 팬츠 (VINTAGE BLUE).jpg\n"
          ]
        },
        {
          "name": "stderr",
          "output_type": "stream",
          "text": [
            "jeans-train:  71%|███████▏  | 285/400 [19:28<07:45,  4.05s/it]"
          ]
        },
        {
          "name": "stdout",
          "output_type": "stream",
          "text": [
            "\"has a washed effect, and is light blue, and is wide fit\"\n",
            "/home/sejong/Desktop/junseok/SPRC/musinsa/snap/men/jeans/51a231a267de48dd9b3267e420494c91.jpg /home/sejong/Desktop/junseok/SPRC/musinsa/goods/men/jeans/87-STAN054 캣샌드 레인 워싱 와이드 데님팬츠 라이트 인디고.jpg\n"
          ]
        },
        {
          "name": "stderr",
          "output_type": "stream",
          "text": [
            "jeans-train:  72%|███████▏  | 286/400 [19:31<07:01,  3.70s/it]"
          ]
        },
        {
          "name": "stdout",
          "output_type": "stream",
          "text": [
            "\"has a washed effect, and is light blue, and is wide fit\"\n",
            "/home/sejong/Desktop/junseok/SPRC/musinsa/snap/men/jeans/e5ac56a76eb940a1a9a173e1260ee1e2.jpg /home/sejong/Desktop/junseok/SPRC/musinsa/goods/men/jeans/GP076 디스트로이드 더티 데님 팬츠 (INDIGO).jpg\n"
          ]
        },
        {
          "name": "stderr",
          "output_type": "stream",
          "text": [
            "jeans-train:  72%|███████▏  | 287/400 [19:38<09:06,  4.84s/it]"
          ]
        },
        {
          "name": "stdout",
          "output_type": "stream",
          "text": [
            "\"has a ripped design, and is light blue, and is loose fit\"\n",
            "/home/sejong/Desktop/junseok/SPRC/musinsa/snap/men/jeans/ce104ccc97f0406ba89e94672f4a3e96.jpg /home/sejong/Desktop/junseok/SPRC/musinsa/goods/men/jeans/아웃포켓 카펜터 데님 팬츠_인디고.jpg\n"
          ]
        },
        {
          "name": "stderr",
          "output_type": "stream",
          "text": [
            "jeans-train:  72%|███████▏  | 288/400 [19:42<08:12,  4.40s/it]"
          ]
        },
        {
          "name": "stdout",
          "output_type": "stream",
          "text": [
            "\"has a ripped design, and is light blue, and is loose fit\"\n",
            "/home/sejong/Desktop/junseok/SPRC/musinsa/snap/men/jeans/e706c5e504274fa194f34ea15fce2df1.jpg /home/sejong/Desktop/junseok/SPRC/musinsa/goods/men/jeans/락 슬라이드 와이드 데님 팬츠 Mid Indigo.jpg\n"
          ]
        },
        {
          "name": "stderr",
          "output_type": "stream",
          "text": [
            "jeans-train:  72%|███████▏  | 289/400 [19:45<07:46,  4.20s/it]"
          ]
        },
        {
          "name": "stdout",
          "output_type": "stream",
          "text": [
            "\"has a regular design, and is blue, and is wide fit\"\n",
            "/home/sejong/Desktop/junseok/SPRC/musinsa/snap/men/jeans/f09f7fcf101f41c9b7853f482c55dcd8.jpg /home/sejong/Desktop/junseok/SPRC/musinsa/goods/men/jeans/[최대 1.2만원 할인] 24SS Drape Denim Pants Light Blue.jpg\n"
          ]
        },
        {
          "name": "stderr",
          "output_type": "stream",
          "text": [
            "jeans-train:  72%|███████▎  | 290/400 [19:49<07:28,  4.08s/it]"
          ]
        },
        {
          "name": "stdout",
          "output_type": "stream",
          "text": [
            "\"has a washed effect, and is light blue, and is loose fit\"\n",
            "/home/sejong/Desktop/junseok/SPRC/musinsa/snap/men/jeans/68c3313be237436cbcdd19a6d6c24159.jpg /home/sejong/Desktop/junseok/SPRC/musinsa/goods/men/jeans/논 페이드 원턱 와이드 데님 - BLACK.jpg\n"
          ]
        },
        {
          "name": "stderr",
          "output_type": "stream",
          "text": [
            "jeans-train:  73%|███████▎  | 291/400 [19:53<07:14,  3.98s/it]"
          ]
        },
        {
          "name": "stdout",
          "output_type": "stream",
          "text": [
            "\"has a ripped design, and is light blue, and is wide fit\"\n",
            "/home/sejong/Desktop/junseok/SPRC/musinsa/snap/men/jeans/350dba69abcb45d09610ede1344183a9.jpg /home/sejong/Desktop/junseok/SPRC/musinsa/goods/men/jeans/더블니 카펜터 데님 팬츠 [LIGHT - BLUE].jpg\n"
          ]
        },
        {
          "name": "stderr",
          "output_type": "stream",
          "text": [
            "jeans-train:  73%|███████▎  | 292/400 [19:56<06:46,  3.76s/it]"
          ]
        },
        {
          "name": "stdout",
          "output_type": "stream",
          "text": [
            "\"has a ripped design, and is light blue, and is loose fit\"\n",
            "/home/sejong/Desktop/junseok/SPRC/musinsa/snap/men/jeans/fbcf28316f1e43aba15c17b21bb3fbac.jpg /home/sejong/Desktop/junseok/SPRC/musinsa/goods/men/jeans/XP244 피레아 인시전 데님 팬츠 (BLUE).jpg\n"
          ]
        },
        {
          "name": "stderr",
          "output_type": "stream",
          "text": [
            "jeans-train:  73%|███████▎  | 293/400 [20:03<08:27,  4.74s/it]"
          ]
        },
        {
          "name": "stdout",
          "output_type": "stream",
          "text": [
            "\"has a ripped design, and is light blue, and is loose fit\"\n",
            "/home/sejong/Desktop/junseok/SPRC/musinsa/snap/men/jeans/2d5379cca40646c3b536b19caf4e63e1.jpg /home/sejong/Desktop/junseok/SPRC/musinsa/goods/men/jeans/1791 MUD BROWN JEANS [WIDE STRAIGHT].jpg\n"
          ]
        },
        {
          "name": "stderr",
          "output_type": "stream",
          "text": [
            "jeans-train:  74%|███████▎  | 294/400 [20:07<07:47,  4.41s/it]"
          ]
        },
        {
          "name": "stdout",
          "output_type": "stream",
          "text": [
            "\"has a regular design, is brown, and is loose fit\"\n",
            "/home/sejong/Desktop/junseok/SPRC/musinsa/snap/men/jeans/3e62c0618d034e3283fd812027abd6ea.jpg /home/sejong/Desktop/junseok/SPRC/musinsa/goods/men/jeans/시티 와이드 데님 팬츠 (W.BLACK).jpg\n"
          ]
        },
        {
          "name": "stderr",
          "output_type": "stream",
          "text": [
            "jeans-train:  74%|███████▍  | 295/400 [20:12<07:51,  4.50s/it]"
          ]
        },
        {
          "name": "stdout",
          "output_type": "stream",
          "text": [
            "\"has a ripped design, and is black, and is wide fit\"\n",
            "/home/sejong/Desktop/junseok/SPRC/musinsa/snap/men/jeans/7df6e39d26844b92a53b4fb3dab223dc.jpg /home/sejong/Desktop/junseok/SPRC/musinsa/goods/men/jeans/LIL RABBIT DENIM [INDIGO BLACK].jpg\n"
          ]
        },
        {
          "name": "stderr",
          "output_type": "stream",
          "text": [
            "jeans-train:  74%|███████▍  | 296/400 [20:15<07:08,  4.12s/it]"
          ]
        },
        {
          "name": "stdout",
          "output_type": "stream",
          "text": [
            "\"is dark blue and loose fit\"\n",
            "/home/sejong/Desktop/junseok/SPRC/musinsa/snap/men/jeans/af52c898b4ca4a7e9919b590f66f8c0e.jpg /home/sejong/Desktop/junseok/SPRC/musinsa/goods/men/jeans/Engineered Denim Pants [Painted Blue].jpg\n"
          ]
        },
        {
          "name": "stderr",
          "output_type": "stream",
          "text": [
            "jeans-train:  74%|███████▍  | 297/400 [20:20<07:36,  4.43s/it]"
          ]
        },
        {
          "name": "stdout",
          "output_type": "stream",
          "text": [
            "\"has a washed effect, and is light blue, and is wide fit\"\n",
            "/home/sejong/Desktop/junseok/SPRC/musinsa/snap/men/jeans/a9157e08f93b4ea38ca677082cc9f9d7.jpg /home/sejong/Desktop/junseok/SPRC/musinsa/goods/men/jeans/[무료반품] 카펜터 데님 팬츠 블랙.jpg\n"
          ]
        },
        {
          "name": "stderr",
          "output_type": "stream",
          "text": [
            "jeans-train:  74%|███████▍  | 298/400 [20:24<07:20,  4.32s/it]"
          ]
        },
        {
          "name": "stdout",
          "output_type": "stream",
          "text": [
            "\"is black and loose fit\"\n",
            "/home/sejong/Desktop/junseok/SPRC/musinsa/snap/men/jeans/6148baabf4ee459fa96017e3d7c3bc38.jpg /home/sejong/Desktop/junseok/SPRC/musinsa/goods/men/jeans/Linking Wide Denim Pants.jpg\n"
          ]
        },
        {
          "name": "stderr",
          "output_type": "stream",
          "text": [
            "jeans-train:  75%|███████▍  | 299/400 [20:27<06:45,  4.01s/it]"
          ]
        },
        {
          "name": "stdout",
          "output_type": "stream",
          "text": [
            "\"has a washed effect, and is light blue, and is loose fit\"\n",
            "/home/sejong/Desktop/junseok/SPRC/musinsa/snap/men/jeans/7b2bdf0503244e03846b54e77b8a71ae.jpg /home/sejong/Desktop/junseok/SPRC/musinsa/goods/men/jeans/커브드 스티치 와이드 데님 팬츠 [LBLUE]_SEPT038LBLUE.jpg\n"
          ]
        },
        {
          "name": "stderr",
          "output_type": "stream",
          "text": [
            "jeans-train:  75%|███████▌  | 300/400 [20:32<06:50,  4.11s/it]"
          ]
        },
        {
          "name": "stdout",
          "output_type": "stream",
          "text": [
            "\"has a washed effect, and is light blue, and is wide fit\"\n",
            "/home/sejong/Desktop/junseok/SPRC/musinsa/snap/men/jeans/947ca3c4cd784a4ea98a42eaacde4240.jpg /home/sejong/Desktop/junseok/SPRC/musinsa/goods/men/jeans/ONE TUCK CURVED JEAN SLUB INDIGO.jpg\n"
          ]
        },
        {
          "name": "stderr",
          "output_type": "stream",
          "text": [
            "jeans-train:  75%|███████▌  | 301/400 [20:35<06:10,  3.74s/it]"
          ]
        },
        {
          "name": "stdout",
          "output_type": "stream",
          "text": [
            "\"has a regular design, and is dark blue, and is wide fit\"\n",
            "/home/sejong/Desktop/junseok/SPRC/musinsa/snap/men/jeans/3b9e5a2cbfc54d9e9dbc78c9c7774ae1.jpg /home/sejong/Desktop/junseok/SPRC/musinsa/goods/men/jeans/LOGO EIGHT POCKET DENIM BAGGY PANTS - WASHED BLACK.jpg\n"
          ]
        },
        {
          "name": "stderr",
          "output_type": "stream",
          "text": [
            "jeans-train:  76%|███████▌  | 302/400 [20:38<05:52,  3.60s/it]"
          ]
        },
        {
          "name": "stdout",
          "output_type": "stream",
          "text": [
            "\"has a ripped design, is black, and is loose fit\"\n",
            "/home/sejong/Desktop/junseok/SPRC/musinsa/snap/men/jeans/5a9cd54b1a254097bd6647c838920db4.jpg /home/sejong/Desktop/junseok/SPRC/musinsa/goods/men/jeans/스모크 와이드 데님 팬츠 빈티지블랙 KMLP6669.jpg\n"
          ]
        },
        {
          "name": "stderr",
          "output_type": "stream",
          "text": [
            "jeans-train:  76%|███████▌  | 303/400 [20:41<05:40,  3.51s/it]"
          ]
        },
        {
          "name": "stdout",
          "output_type": "stream",
          "text": [
            "\"is black and is loose fit\"\n",
            "/home/sejong/Desktop/junseok/SPRC/musinsa/snap/men/jeans/9e25c13fea594bb8a355aa69b98111a4.jpg /home/sejong/Desktop/junseok/SPRC/musinsa/goods/men/jeans/세미 와이드 데님팬츠 흑청.jpg\n"
          ]
        },
        {
          "name": "stderr",
          "output_type": "stream",
          "text": [
            "jeans-train:  76%|███████▌  | 304/400 [20:45<05:34,  3.49s/it]"
          ]
        },
        {
          "name": "stdout",
          "output_type": "stream",
          "text": [
            "\"has a washed effect, and is dark blue, and is loose fit\"\n",
            "/home/sejong/Desktop/junseok/SPRC/musinsa/snap/men/jeans/44d872db19e74c15847a95c9f4a7a71f.jpg /home/sejong/Desktop/junseok/SPRC/musinsa/goods/men/jeans/87-STAN047 벌룬핏 워싱 와이드 데님팬츠 빈티지 블랙.jpg\n"
          ]
        },
        {
          "name": "stderr",
          "output_type": "stream",
          "text": [
            "jeans-train:  76%|███████▋  | 305/400 [20:48<05:24,  3.42s/it]"
          ]
        },
        {
          "name": "stdout",
          "output_type": "stream",
          "text": [
            "\"has a loose fit and is slightly longer length\"\n",
            "/home/sejong/Desktop/junseok/SPRC/musinsa/snap/men/jeans/66774248ac8f4b4c8a07d3149f0bf653.jpg /home/sejong/Desktop/junseok/SPRC/musinsa/goods/men/jeans/51005 HISHITOMO COLLECTION LIGHT BLUE JEANS [RELAX STRAIGHT].jpg\n"
          ]
        },
        {
          "name": "stderr",
          "output_type": "stream",
          "text": [
            "jeans-train:  76%|███████▋  | 306/400 [20:52<05:30,  3.52s/it]"
          ]
        },
        {
          "name": "stdout",
          "output_type": "stream",
          "text": [
            "\"has a ripped design, and is light blue, and is loose fit\"\n",
            "/home/sejong/Desktop/junseok/SPRC/musinsa/snap/men/jeans/41915c3087a248deac323d66d5d4a647.jpg /home/sejong/Desktop/junseok/SPRC/musinsa/goods/men/jeans/시그니처 와이드 데님 팬츠 빈티지 블루.jpg\n"
          ]
        },
        {
          "name": "stderr",
          "output_type": "stream",
          "text": [
            "jeans-train:  77%|███████▋  | 307/400 [20:56<05:45,  3.72s/it]"
          ]
        },
        {
          "name": "stdout",
          "output_type": "stream",
          "text": [
            "\"has a washed effect, and is light blue, and is wide fit\"\n",
            "/home/sejong/Desktop/junseok/SPRC/musinsa/snap/men/jeans/7ee76d763dfa4947879a5c0546a7b6fc.jpg /home/sejong/Desktop/junseok/SPRC/musinsa/goods/men/jeans/레귤러 데님 팬츠 블랙.jpg\n"
          ]
        },
        {
          "name": "stderr",
          "output_type": "stream",
          "text": [
            "jeans-train:  77%|███████▋  | 308/400 [22:31<47:45, 31.14s/it]"
          ]
        },
        {
          "name": "stdout",
          "output_type": "stream",
          "text": [
            "\"has a loose fit and is black\"\n",
            "/home/sejong/Desktop/junseok/SPRC/musinsa/snap/men/jeans/fd3fced5ba1c449d97f2102038c4dc93.jpg /home/sejong/Desktop/junseok/SPRC/musinsa/goods/men/jeans/[무료반품] 맥시 백 포켓 빅 로고 데님 남녀공용 (2컬러).jpg\n"
          ]
        },
        {
          "name": "stderr",
          "output_type": "stream",
          "text": [
            "jeans-train:  77%|███████▋  | 309/400 [22:35<35:06, 23.15s/it]"
          ]
        },
        {
          "name": "stdout",
          "output_type": "stream",
          "text": [
            "\"has a regular design, is dark blue, and is loose fit\"\n",
            "/home/sejong/Desktop/junseok/SPRC/musinsa/snap/men/jeans/ff4b50d374094e468f811850331059f0.jpg /home/sejong/Desktop/junseok/SPRC/musinsa/goods/men/jeans/루이스 스트레이트 데님 팬츠 Black denim.jpg\n"
          ]
        },
        {
          "name": "stderr",
          "output_type": "stream",
          "text": [
            "jeans-train:  78%|███████▊  | 310/400 [22:39<25:52, 17.25s/it]"
          ]
        },
        {
          "name": "stdout",
          "output_type": "stream",
          "text": [
            "\"has a washed effect, and is black, and is wide fit\"\n",
            "/home/sejong/Desktop/junseok/SPRC/musinsa/snap/men/jeans/031f6f54609748f18c6840f80c0edd92.jpg /home/sejong/Desktop/junseok/SPRC/musinsa/goods/men/jeans/세미와이드 카고 데님팬츠 숄트데님.jpg\n"
          ]
        },
        {
          "name": "stderr",
          "output_type": "stream",
          "text": [
            "jeans-train:  78%|███████▊  | 311/400 [22:44<20:13, 13.64s/it]"
          ]
        },
        {
          "name": "stdout",
          "output_type": "stream",
          "text": [
            "\"has a ripped design, and is dark blue, and is wide fit\"\n",
            "/home/sejong/Desktop/junseok/SPRC/musinsa/snap/men/jeans/137e592f4229414ebf21c2a11b26d8cb.jpg /home/sejong/Desktop/junseok/SPRC/musinsa/goods/men/jeans/빈티지 캣워싱 와이드 데님 팬츠 [샌드 블루].jpg\n"
          ]
        },
        {
          "name": "stderr",
          "output_type": "stream",
          "text": [
            "jeans-train:  78%|███████▊  | 312/400 [22:49<16:00, 10.92s/it]"
          ]
        },
        {
          "name": "stdout",
          "output_type": "stream",
          "text": [
            "\"has a ripped design, and is light blue, and is wide fit\"\n",
            "/home/sejong/Desktop/junseok/SPRC/musinsa/snap/men/jeans/80abb80045a14656aa36acbe87d41950.jpg /home/sejong/Desktop/junseok/SPRC/musinsa/goods/men/jeans/타프와이드데님팬츠.jpg\n"
          ]
        },
        {
          "name": "stderr",
          "output_type": "stream",
          "text": [
            "jeans-train:  78%|███████▊  | 313/400 [22:53<13:02,  9.00s/it]"
          ]
        },
        {
          "name": "stdout",
          "output_type": "stream",
          "text": [
            "\"has a washed effect, and is light blue, and is wide fit\"\n",
            "/home/sejong/Desktop/junseok/SPRC/musinsa/snap/men/jeans/b82136dd140b4000a5adeebc415a440d.jpg /home/sejong/Desktop/junseok/SPRC/musinsa/goods/men/jeans/샌드 워시드 와이드 데님 2color.jpg\n"
          ]
        },
        {
          "name": "stderr",
          "output_type": "stream",
          "text": [
            "jeans-train:  78%|███████▊  | 314/400 [22:57<10:31,  7.35s/it]"
          ]
        },
        {
          "name": "stdout",
          "output_type": "stream",
          "text": [
            "\"has a washed effect, and is gray, and is loose fit\"\n",
            "/home/sejong/Desktop/junseok/SPRC/musinsa/snap/men/jeans/17a0ea760eea4a4f8dfb19d73cd90664.jpg /home/sejong/Desktop/junseok/SPRC/musinsa/goods/men/jeans/바이오워싱 원턱 와이드 데님 팬츠 - 3 COLOR [ONE OR TWO].jpg\n"
          ]
        },
        {
          "name": "stderr",
          "output_type": "stream",
          "text": [
            "jeans-train:  79%|███████▉  | 315/400 [23:01<09:03,  6.39s/it]"
          ]
        },
        {
          "name": "stdout",
          "output_type": "stream",
          "text": [
            "\"has a washed effect, and is blue, and is wide fit\"\n",
            "/home/sejong/Desktop/junseok/SPRC/musinsa/snap/men/jeans/2254dd936b8d4820a23b655a90ef8696.jpg /home/sejong/Desktop/junseok/SPRC/musinsa/goods/men/jeans/[피치기모] 워싱 와이드 데님 팬츠(워시드 블랙).jpg\n"
          ]
        },
        {
          "name": "stderr",
          "output_type": "stream",
          "text": [
            "jeans-train:  79%|███████▉  | 316/400 [23:05<08:03,  5.76s/it]"
          ]
        },
        {
          "name": "stdout",
          "output_type": "stream",
          "text": [
            "\"has a ripped design, is black, and is wide fit\"\n",
            "/home/sejong/Desktop/junseok/SPRC/musinsa/snap/men/jeans/e897f0709c9d46f59486328057117d42.jpg /home/sejong/Desktop/junseok/SPRC/musinsa/goods/men/jeans/easy denim pants (blue).jpg\n"
          ]
        },
        {
          "name": "stderr",
          "output_type": "stream",
          "text": [
            "jeans-train:  79%|███████▉  | 317/400 [23:10<07:30,  5.43s/it]"
          ]
        },
        {
          "name": "stdout",
          "output_type": "stream",
          "text": [
            "\"has a ripped design, and is light blue, and is wide fit\"\n",
            "/home/sejong/Desktop/junseok/SPRC/musinsa/snap/men/jeans/6653b9e72c024452a55a7d87245bf00a.jpg /home/sejong/Desktop/junseok/SPRC/musinsa/goods/men/jeans/유틸리티 카고 워싱 와이드 데님 팬츠 (BEIGE BLUE).jpg\n"
          ]
        },
        {
          "name": "stderr",
          "output_type": "stream",
          "text": [
            "jeans-train:  80%|███████▉  | 318/400 [23:13<06:39,  4.87s/it]"
          ]
        },
        {
          "name": "stdout",
          "output_type": "stream",
          "text": [
            "\"has a ripped design, and is light blue, and is wide fit\"\n",
            "/home/sejong/Desktop/junseok/SPRC/musinsa/snap/men/jeans/ce104ccc97f0406ba89e94672f4a3e96.jpg /home/sejong/Desktop/junseok/SPRC/musinsa/goods/men/jeans/스플래쉬 스트레이트 데님 팬츠 (블랙).jpg\n"
          ]
        },
        {
          "name": "stderr",
          "output_type": "stream",
          "text": [
            "jeans-train:  80%|███████▉  | 319/400 [23:17<06:14,  4.62s/it]"
          ]
        },
        {
          "name": "stdout",
          "output_type": "stream",
          "text": [
            "\"has a washed effect, and is no color requirements, and is loose fit\"\n",
            "/home/sejong/Desktop/junseok/SPRC/musinsa/snap/men/jeans/350dba69abcb45d09610ede1344183a9.jpg /home/sejong/Desktop/junseok/SPRC/musinsa/goods/men/jeans/118 Classic Wide Tapered (Vintage Light).jpg\n"
          ]
        },
        {
          "name": "stderr",
          "output_type": "stream",
          "text": [
            "jeans-train:  80%|████████  | 320/400 [23:21<05:47,  4.34s/it]"
          ]
        },
        {
          "name": "stdout",
          "output_type": "stream",
          "text": [
            "\"is light blue and loose fit\"\n",
            "/home/sejong/Desktop/junseok/SPRC/musinsa/snap/men/jeans/33ffd696b1c341fba03b928673a92014.jpg /home/sejong/Desktop/junseok/SPRC/musinsa/goods/men/jeans/DRAGGY WORK PANTS (IVORY).jpg\n"
          ]
        },
        {
          "name": "stderr",
          "output_type": "stream",
          "text": [
            "jeans-train:  80%|████████  | 321/400 [23:28<06:42,  5.09s/it]"
          ]
        },
        {
          "name": "stdout",
          "output_type": "stream",
          "text": [
            "\"has a ripped design, and is light blue, and is loose fit\"\n",
            "/home/sejong/Desktop/junseok/SPRC/musinsa/snap/men/jeans/02251c1c41454e998777cf69839b070a.jpg /home/sejong/Desktop/junseok/SPRC/musinsa/goods/men/jeans/Two Tuck Wide Denim Pants - Black.jpg\n"
          ]
        },
        {
          "name": "stderr",
          "output_type": "stream",
          "text": [
            "jeans-train:  80%|████████  | 322/400 [23:32<06:23,  4.91s/it]"
          ]
        },
        {
          "name": "stdout",
          "output_type": "stream",
          "text": [
            "\"has a regular design, and is black, and is loose fit\"\n",
            "/home/sejong/Desktop/junseok/SPRC/musinsa/snap/men/jeans/7c9d05516b3e417581f83a8510ed5562.jpg /home/sejong/Desktop/junseok/SPRC/musinsa/goods/men/jeans/딥 워싱 와이드 데님 팬츠 (WASHED BLACK).jpg\n"
          ]
        },
        {
          "name": "stderr",
          "output_type": "stream",
          "text": [
            "jeans-train:  81%|████████  | 323/400 [23:36<05:49,  4.54s/it]"
          ]
        },
        {
          "name": "stdout",
          "output_type": "stream",
          "text": [
            "\"has a washed effect, and is black, and is loose fit\"\n",
            "/home/sejong/Desktop/junseok/SPRC/musinsa/snap/men/jeans/4bef4eea68e845dea1953bc65b6b2a58.jpg /home/sejong/Desktop/junseok/SPRC/musinsa/goods/men/jeans/LOOSED WIDE DENIM PANTS (WASHED BLUE).jpg\n"
          ]
        },
        {
          "name": "stderr",
          "output_type": "stream",
          "text": [
            "jeans-train:  81%|████████  | 324/400 [23:41<05:45,  4.55s/it]"
          ]
        },
        {
          "name": "stdout",
          "output_type": "stream",
          "text": [
            "\"has a washed effect, and is light blue, and is wide fit\"\n",
            "/home/sejong/Desktop/junseok/SPRC/musinsa/snap/men/jeans/464a57a316a347cc8cf82aeaba26435e.jpg /home/sejong/Desktop/junseok/SPRC/musinsa/goods/men/jeans/TX201 세미플레어 데님 (중청).jpg\n"
          ]
        },
        {
          "name": "stderr",
          "output_type": "stream",
          "text": [
            "jeans-train:  81%|████████▏ | 325/400 [23:46<05:51,  4.69s/it]"
          ]
        },
        {
          "name": "stdout",
          "output_type": "stream",
          "text": [
            "\"has a washed effect, and is light blue, and is wide fit\"\n",
            "/home/sejong/Desktop/junseok/SPRC/musinsa/snap/men/jeans/a43bba1d004d483597bbd0d59bd03225.jpg /home/sejong/Desktop/junseok/SPRC/musinsa/goods/men/jeans/커브드 벌룬 워싱 데님 팬츠_블루.jpg\n"
          ]
        },
        {
          "name": "stderr",
          "output_type": "stream",
          "text": [
            "jeans-train:  82%|████████▏ | 326/400 [23:50<05:47,  4.69s/it]"
          ]
        },
        {
          "name": "stdout",
          "output_type": "stream",
          "text": [
            "\"has a washed effect, and is light blue, and is loose fit\"\n",
            "/home/sejong/Desktop/junseok/SPRC/musinsa/snap/men/jeans/d5fa6d46d0eb489da7db4e822f802ebe.jpg /home/sejong/Desktop/junseok/SPRC/musinsa/goods/men/jeans/Curve wide 04 - brush.jpg\n"
          ]
        },
        {
          "name": "stderr",
          "output_type": "stream",
          "text": [
            "jeans-train:  82%|████████▏ | 327/400 [23:54<05:09,  4.24s/it]"
          ]
        },
        {
          "name": "stdout",
          "output_type": "stream",
          "text": [
            "\"has a washed effect, and is light blue, and is wide fit\"\n",
            "/home/sejong/Desktop/junseok/SPRC/musinsa/snap/men/jeans/04aaf99daa3a429387b9f8e98b07ebe4.jpg /home/sejong/Desktop/junseok/SPRC/musinsa/goods/men/jeans/플레어 워시드 데님 팬츠 블루.jpg\n"
          ]
        },
        {
          "name": "stderr",
          "output_type": "stream",
          "text": [
            "jeans-train:  82%|████████▏ | 328/400 [23:58<05:13,  4.36s/it]"
          ]
        },
        {
          "name": "stdout",
          "output_type": "stream",
          "text": [
            "\"has a ripped design, and is blue, and is loose fit\"\n",
            "/home/sejong/Desktop/junseok/SPRC/musinsa/snap/men/jeans/8f1729f233ef4f43b2d1c4ed07be270c.jpg /home/sejong/Desktop/junseok/SPRC/musinsa/goods/men/jeans/카펜터 와이드 데님 팬츠 (RAW INDIGO).jpg\n"
          ]
        },
        {
          "name": "stderr",
          "output_type": "stream",
          "text": [
            "jeans-train:  82%|████████▏ | 329/400 [24:02<04:58,  4.20s/it]"
          ]
        },
        {
          "name": "stdout",
          "output_type": "stream",
          "text": [
            "\"has a washed effect, and is blue, and is wide fit\"\n",
            "/home/sejong/Desktop/junseok/SPRC/musinsa/snap/men/jeans/5153328927ca4423863fb438a60ffe73.jpg /home/sejong/Desktop/junseok/SPRC/musinsa/goods/men/jeans/컷오프 포인트 데님 팬츠_블랙.jpg\n"
          ]
        },
        {
          "name": "stderr",
          "output_type": "stream",
          "text": [
            "jeans-train:  82%|████████▎ | 330/400 [24:05<04:37,  3.96s/it]"
          ]
        },
        {
          "name": "stdout",
          "output_type": "stream",
          "text": [
            "\"has a ripped design, is black, and is loose fit\"\n",
            "/home/sejong/Desktop/junseok/SPRC/musinsa/snap/men/jeans/cb6d2cd4a1f34a2db3373c529d84cdba.jpg /home/sejong/Desktop/junseok/SPRC/musinsa/goods/men/jeans/GARMENT DYEING DENIM PANTS (YELLOW).jpg\n"
          ]
        },
        {
          "name": "stderr",
          "output_type": "stream",
          "text": [
            "jeans-train:  83%|████████▎ | 331/400 [24:15<06:29,  5.64s/it]"
          ]
        },
        {
          "name": "stdout",
          "output_type": "stream",
          "text": [
            "\"has a ripped design, and is light blue, and is wide fit\"\n",
            "/home/sejong/Desktop/junseok/SPRC/musinsa/snap/men/jeans/fd3fced5ba1c449d97f2102038c4dc93.jpg /home/sejong/Desktop/junseok/SPRC/musinsa/goods/men/jeans/데미지 워시드 데님 팬츠-스카이블루.jpg\n"
          ]
        },
        {
          "name": "stderr",
          "output_type": "stream",
          "text": [
            "jeans-train:  83%|████████▎ | 332/400 [24:19<05:48,  5.13s/it]"
          ]
        },
        {
          "name": "stdout",
          "output_type": "stream",
          "text": [
            "\"has a washed effect, and is light blue, and is wide fit\"\n",
            "/home/sejong/Desktop/junseok/SPRC/musinsa/snap/men/jeans/3e62c0618d034e3283fd812027abd6ea.jpg /home/sejong/Desktop/junseok/SPRC/musinsa/goods/men/jeans/틴 워싱 컬러 데님 팬츠 (8 Colors).jpg\n"
          ]
        },
        {
          "name": "stderr",
          "output_type": "stream",
          "text": [
            "jeans-train:  83%|████████▎ | 333/400 [24:22<05:11,  4.66s/it]"
          ]
        },
        {
          "name": "stdout",
          "output_type": "stream",
          "text": [
            "\"has a ripped design, and is black, and is loose fit\"\n",
            "/home/sejong/Desktop/junseok/SPRC/musinsa/snap/men/jeans/747227beb6f14040963db679e10a8e5b.jpg /home/sejong/Desktop/junseok/SPRC/musinsa/goods/men/jeans/CONE 스트레이트 데님 팬츠 [워시드 블랙].jpg\n"
          ]
        },
        {
          "name": "stderr",
          "output_type": "stream",
          "text": [
            "jeans-train:  84%|████████▎ | 334/400 [24:26<04:40,  4.25s/it]"
          ]
        },
        {
          "name": "stdout",
          "output_type": "stream",
          "text": [
            "\"is black and is straight fit\"\n",
            "/home/sejong/Desktop/junseok/SPRC/musinsa/snap/men/jeans/e6d569b046944aaa8c0fe566f04ad6bf.jpg /home/sejong/Desktop/junseok/SPRC/musinsa/goods/men/jeans/Vanta Black _ NewCrop.jpg\n"
          ]
        },
        {
          "name": "stderr",
          "output_type": "stream",
          "text": [
            "jeans-train:  84%|████████▍ | 335/400 [24:30<04:28,  4.13s/it]"
          ]
        },
        {
          "name": "stdout",
          "output_type": "stream",
          "text": [
            "\"has a ripped design, and is black, and is skinny fit\"\n",
            "/home/sejong/Desktop/junseok/SPRC/musinsa/snap/men/jeans/d71a8dfa4cf84792af5caa9d2d017eb0.jpg /home/sejong/Desktop/junseok/SPRC/musinsa/goods/men/jeans/Western Studded Denim Pants (Dark Blue).jpg\n"
          ]
        },
        {
          "name": "stderr",
          "output_type": "stream",
          "text": [
            "jeans-train:  84%|████████▍ | 336/400 [24:32<04:00,  3.76s/it]"
          ]
        },
        {
          "name": "stdout",
          "output_type": "stream",
          "text": [
            "\"has a wide fit, and is dark blue\"\n",
            "/home/sejong/Desktop/junseok/SPRC/musinsa/snap/men/jeans/0e1525f3ec4b4f2586741b969c092c8e.jpg /home/sejong/Desktop/junseok/SPRC/musinsa/goods/men/jeans/에센셜 세미와이드핏 데님 팬츠  그레이 (424121LP13).jpg\n"
          ]
        },
        {
          "name": "stderr",
          "output_type": "stream",
          "text": [
            "jeans-train:  84%|████████▍ | 337/400 [24:36<03:54,  3.73s/it]"
          ]
        },
        {
          "name": "stdout",
          "output_type": "stream",
          "text": [
            "\"has a ripped design, and is light blue, and is loose fit\"\n",
            "/home/sejong/Desktop/junseok/SPRC/musinsa/snap/men/jeans/137e592f4229414ebf21c2a11b26d8cb.jpg /home/sejong/Desktop/junseok/SPRC/musinsa/goods/men/jeans/원턱 해머 와이드 데님팬츠 옐로우 블랙.jpg\n"
          ]
        },
        {
          "name": "stderr",
          "output_type": "stream",
          "text": [
            "jeans-train:  84%|████████▍ | 338/400 [24:40<03:46,  3.66s/it]"
          ]
        },
        {
          "name": "stdout",
          "output_type": "stream",
          "text": [
            "\"has a washed effect, and is black, and is wide fit\"\n",
            "/home/sejong/Desktop/junseok/SPRC/musinsa/snap/men/jeans/ff4b50d374094e468f811850331059f0.jpg /home/sejong/Desktop/junseok/SPRC/musinsa/goods/men/jeans/TCM canton denim pants (black).jpg\n"
          ]
        },
        {
          "name": "stderr",
          "output_type": "stream",
          "text": [
            "jeans-train:  85%|████████▍ | 339/400 [24:43<03:43,  3.67s/it]"
          ]
        },
        {
          "name": "stdout",
          "output_type": "stream",
          "text": [
            "\"has a ripped design, and is dark blue, and is wide fit\"\n",
            "/home/sejong/Desktop/junseok/SPRC/musinsa/snap/men/jeans/e1efbb76080b4480aed3fb2d4bca2017.jpg /home/sejong/Desktop/junseok/SPRC/musinsa/goods/men/jeans/마빈 워싱 와이드 데님팬츠 중청.jpg\n"
          ]
        },
        {
          "name": "stderr",
          "output_type": "stream",
          "text": [
            "jeans-train:  85%|████████▌ | 340/400 [24:47<03:34,  3.57s/it]"
          ]
        },
        {
          "name": "stdout",
          "output_type": "stream",
          "text": [
            "\"has a washed effect, and is light blue, and is wide fit\"\n",
            "/home/sejong/Desktop/junseok/SPRC/musinsa/snap/men/jeans/d2695d1749474c6b99d10707baf7bff0.jpg /home/sejong/Desktop/junseok/SPRC/musinsa/goods/men/jeans/에브리데이 와이드 데님 팬츠 [블루].jpg\n"
          ]
        },
        {
          "name": "stderr",
          "output_type": "stream",
          "text": [
            "jeans-train:  85%|████████▌ | 341/400 [24:51<03:37,  3.69s/it]"
          ]
        },
        {
          "name": "stdout",
          "output_type": "stream",
          "text": [
            "\"has a ripped design, is dark blue, and is loose fit\"\n",
            "/home/sejong/Desktop/junseok/SPRC/musinsa/snap/men/jeans/14950ed95b314558bf3dbf55dbf5061a.jpg /home/sejong/Desktop/junseok/SPRC/musinsa/goods/men/jeans/DARK EYE BOOT CUT JEANS (INDIGO).jpg\n"
          ]
        },
        {
          "name": "stderr",
          "output_type": "stream",
          "text": [
            "jeans-train:  86%|████████▌ | 342/400 [24:54<03:22,  3.49s/it]"
          ]
        },
        {
          "name": "stdout",
          "output_type": "stream",
          "text": [
            "\"has a washed effect, and is dark blue, and is wide fit\"\n",
            "/home/sejong/Desktop/junseok/SPRC/musinsa/snap/men/jeans/e6d569b046944aaa8c0fe566f04ad6bf.jpg /home/sejong/Desktop/junseok/SPRC/musinsa/goods/men/jeans/570 Wide Denim Trousers (Blue).jpg\n"
          ]
        },
        {
          "name": "stderr",
          "output_type": "stream",
          "text": [
            "jeans-train:  86%|████████▌ | 343/400 [24:57<03:20,  3.51s/it]"
          ]
        },
        {
          "name": "stdout",
          "output_type": "stream",
          "text": [
            "\"has a ripped design, is dark blue, and is loose fit\"\n",
            "/home/sejong/Desktop/junseok/SPRC/musinsa/snap/men/jeans/fbcf28316f1e43aba15c17b21bb3fbac.jpg /home/sejong/Desktop/junseok/SPRC/musinsa/goods/men/jeans/[MAN]와이드 워싱 화이트 데님 팬츠.jpg\n"
          ]
        },
        {
          "name": "stderr",
          "output_type": "stream",
          "text": [
            "jeans-train:  86%|████████▌ | 344/400 [25:02<03:34,  3.82s/it]"
          ]
        },
        {
          "name": "stdout",
          "output_type": "stream",
          "text": [
            "\"is white and is loose fit\"\n",
            "/home/sejong/Desktop/junseok/SPRC/musinsa/snap/men/jeans/3e4ad0c112a4433a930ffd324732856f.jpg /home/sejong/Desktop/junseok/SPRC/musinsa/goods/men/jeans/데님 커브드 와이드 팬츠 7COLOR COOSPT214.jpg\n"
          ]
        },
        {
          "name": "stderr",
          "output_type": "stream",
          "text": [
            "jeans-train:  86%|████████▋ | 345/400 [25:06<03:30,  3.82s/it]"
          ]
        },
        {
          "name": "stdout",
          "output_type": "stream",
          "text": [
            "\"has a ripped design, and is blue, and is wide fit\"\n",
            "/home/sejong/Desktop/junseok/SPRC/musinsa/snap/men/jeans/dc0bf6d505d44b6f873372b592ac3662.jpg /home/sejong/Desktop/junseok/SPRC/musinsa/goods/men/jeans/워싱 롱 벌룬 팬츠 (더스티 핑크).jpg\n"
          ]
        },
        {
          "name": "stderr",
          "output_type": "stream",
          "text": [
            "jeans-train:  86%|████████▋ | 346/400 [25:11<03:47,  4.21s/it]"
          ]
        },
        {
          "name": "stdout",
          "output_type": "stream",
          "text": [
            "\"has a washed effect, and is slightly shorter length, and is loose fit\"\n",
            "/home/sejong/Desktop/junseok/SPRC/musinsa/snap/men/jeans/7dac981a1f26495ab3974f72f5cf12ed.jpg /home/sejong/Desktop/junseok/SPRC/musinsa/goods/men/jeans/[TYPE JEAN] 원턱 와이드 데님 팬츠 (DEEP GREY).jpg\n"
          ]
        },
        {
          "name": "stderr",
          "output_type": "stream",
          "text": [
            "jeans-train:  87%|████████▋ | 347/400 [25:15<03:37,  4.10s/it]"
          ]
        },
        {
          "name": "stdout",
          "output_type": "stream",
          "text": [
            "\"has a washed effect, and is black, and is loose fit\"\n",
            "/home/sejong/Desktop/junseok/SPRC/musinsa/snap/men/jeans/f09f7fcf101f41c9b7853f482c55dcd8.jpg /home/sejong/Desktop/junseok/SPRC/musinsa/goods/men/jeans/[리뉴얼]ONE TUCK CURVED JEAN BLACK.jpg\n"
          ]
        },
        {
          "name": "stderr",
          "output_type": "stream",
          "text": [
            "jeans-train:  87%|████████▋ | 348/400 [25:18<03:22,  3.89s/it]"
          ]
        },
        {
          "name": "stdout",
          "output_type": "stream",
          "text": [
            "\"is black and is loose fit\"\n",
            "/home/sejong/Desktop/junseok/SPRC/musinsa/snap/men/jeans/7e120ae4514442f3a65b59bda4d15739.jpg /home/sejong/Desktop/junseok/SPRC/musinsa/goods/men/jeans/밀리 디테쳐블 카펜터 진 apa691m(INDIGO_BLACK).jpg\n"
          ]
        },
        {
          "name": "stderr",
          "output_type": "stream",
          "text": [
            "jeans-train:  87%|████████▋ | 349/400 [25:22<03:13,  3.79s/it]"
          ]
        },
        {
          "name": "stdout",
          "output_type": "stream",
          "text": [
            "\"has a ripped design, and is blue, and is loose fit\"\n",
            "/home/sejong/Desktop/junseok/SPRC/musinsa/snap/men/jeans/ede9a5838687448ba3726d8398351b1f.jpg /home/sejong/Desktop/junseok/SPRC/musinsa/goods/men/jeans/벌룬핏 데님 와이드 팬츠(워시드 블루).jpg\n"
          ]
        },
        {
          "name": "stderr",
          "output_type": "stream",
          "text": [
            "jeans-train:  88%|████████▊ | 350/400 [25:24<02:54,  3.50s/it]"
          ]
        },
        {
          "name": "stdout",
          "output_type": "stream",
          "text": [
            "\"has a washed effect, and is blue, and is wide fit\"\n",
            "/home/sejong/Desktop/junseok/SPRC/musinsa/snap/men/jeans/137e592f4229414ebf21c2a11b26d8cb.jpg /home/sejong/Desktop/junseok/SPRC/musinsa/goods/men/jeans/바이오워싱 원턱 와이드 데님 팬츠 - 3 COLOR [ONE OR TWO].jpg\n"
          ]
        },
        {
          "name": "stderr",
          "output_type": "stream",
          "text": [
            "jeans-train:  88%|████████▊ | 351/400 [25:28<02:55,  3.58s/it]"
          ]
        },
        {
          "name": "stdout",
          "output_type": "stream",
          "text": [
            "\"has a washed effect, and is blue, and is wide fit\"\n",
            "/home/sejong/Desktop/junseok/SPRC/musinsa/snap/men/jeans/923ddcd737e741c8bedcfb0e4baa3cad.jpg /home/sejong/Desktop/junseok/SPRC/musinsa/goods/men/jeans/XP232 로브 퍼티그 몽키 팬츠 (BLACK).jpg\n"
          ]
        },
        {
          "name": "stderr",
          "output_type": "stream",
          "text": [
            "jeans-train:  88%|████████▊ | 352/400 [25:31<02:48,  3.51s/it]"
          ]
        },
        {
          "name": "stdout",
          "output_type": "stream",
          "text": [
            "\"has a ripped design, and is dark blue, and is loose fit\"\n",
            "/home/sejong/Desktop/junseok/SPRC/musinsa/snap/men/jeans/552582a6836e4c2597bf222d0fc7c0e2.jpg /home/sejong/Desktop/junseok/SPRC/musinsa/goods/men/jeans/87-STAN195 미니멀 캣워싱 와이드 벌룬핏 데님팬츠 빈티지블랙.jpg\n"
          ]
        },
        {
          "name": "stderr",
          "output_type": "stream",
          "text": [
            "jeans-train:  88%|████████▊ | 353/400 [25:34<02:37,  3.34s/it]"
          ]
        },
        {
          "name": "stdout",
          "output_type": "stream",
          "text": [
            "\"is wide fit and has a washed effect\"\n",
            "/home/sejong/Desktop/junseok/SPRC/musinsa/snap/men/jeans/6c391ff861eb4bef9d6b8cc34d58498a.jpg /home/sejong/Desktop/junseok/SPRC/musinsa/goods/men/jeans/VERTICAL LINE DENIM PANTS (GRAY).jpg\n"
          ]
        },
        {
          "name": "stderr",
          "output_type": "stream",
          "text": [
            "jeans-train:  88%|████████▊ | 354/400 [25:39<02:44,  3.57s/it]"
          ]
        },
        {
          "name": "stdout",
          "output_type": "stream",
          "text": [
            "\"has a ripped design, and is black, and is loose fit\"\n",
            "/home/sejong/Desktop/junseok/SPRC/musinsa/snap/men/jeans/4199296766e844c2beb229bcf23229e2.jpg /home/sejong/Desktop/junseok/SPRC/musinsa/goods/men/jeans/세미 벌룬 데님 팬츠 화이트.jpg\n"
          ]
        },
        {
          "name": "stderr",
          "output_type": "stream",
          "text": [
            "jeans-train:  89%|████████▉ | 355/400 [25:42<02:36,  3.49s/it]"
          ]
        },
        {
          "name": "stdout",
          "output_type": "stream",
          "text": [
            "\"has a wide fit and is white\"\n",
            "/home/sejong/Desktop/junseok/SPRC/musinsa/snap/men/jeans/2254dd936b8d4820a23b655a90ef8696.jpg /home/sejong/Desktop/junseok/SPRC/musinsa/goods/men/jeans/빅터 커브드 데님 팬츠 (블랙).jpg\n"
          ]
        },
        {
          "name": "stderr",
          "output_type": "stream",
          "text": [
            "jeans-train:  89%|████████▉ | 356/400 [25:50<03:33,  4.86s/it]"
          ]
        },
        {
          "name": "stdout",
          "output_type": "stream",
          "text": [
            "\"is black and loose fit\"\n",
            "/home/sejong/Desktop/junseok/SPRC/musinsa/snap/men/jeans/0f3e0ed660aa473aaed00558b6c2aac1.jpg /home/sejong/Desktop/junseok/SPRC/musinsa/goods/men/jeans/One Pintuck wide 04 - Non fade raw.jpg\n"
          ]
        },
        {
          "name": "stderr",
          "output_type": "stream",
          "text": [
            "jeans-train:  89%|████████▉ | 357/400 [25:54<03:24,  4.75s/it]"
          ]
        },
        {
          "name": "stdout",
          "output_type": "stream",
          "text": [
            "\"is wide fit and dark blue\"\n",
            "/home/sejong/Desktop/junseok/SPRC/musinsa/snap/men/jeans/04aaf99daa3a429387b9f8e98b07ebe4.jpg /home/sejong/Desktop/junseok/SPRC/musinsa/goods/men/jeans/웨이브 벌룬 와이드 데님 팬츠 - 다크브라운.jpg\n"
          ]
        },
        {
          "name": "stderr",
          "output_type": "stream",
          "text": [
            "jeans-train:  90%|████████▉ | 358/400 [25:58<03:04,  4.38s/it]"
          ]
        },
        {
          "name": "stdout",
          "output_type": "stream",
          "text": [
            "\"has a ripped design, and is dark blue, and is wide fit\"\n",
            "/home/sejong/Desktop/junseok/SPRC/musinsa/snap/men/jeans/7ad4c4062c2f4575b0f137a0037b9b5c.jpg /home/sejong/Desktop/junseok/SPRC/musinsa/goods/men/jeans/워시드 와이드 데님 팬츠 [BLACK].jpg\n"
          ]
        },
        {
          "name": "stderr",
          "output_type": "stream",
          "text": [
            "jeans-train:  90%|████████▉ | 359/400 [26:02<02:53,  4.24s/it]"
          ]
        },
        {
          "name": "stdout",
          "output_type": "stream",
          "text": [
            "\"has a washed effect, and is black, and is wide fit\"\n",
            "/home/sejong/Desktop/junseok/SPRC/musinsa/snap/men/jeans/1734433509410.jpg /home/sejong/Desktop/junseok/SPRC/musinsa/goods/men/jeans/락 슬라이드 와이드 데님 팬츠 Mid Indigo.jpg\n"
          ]
        },
        {
          "name": "stderr",
          "output_type": "stream",
          "text": [
            "jeans-train:  90%|█████████ | 360/400 [26:05<02:39,  3.98s/it]"
          ]
        },
        {
          "name": "stdout",
          "output_type": "stream",
          "text": [
            "\"is blue and loose fit\"\n",
            "/home/sejong/Desktop/junseok/SPRC/musinsa/snap/men/jeans/2efd5ae59cf04547a89d48886f3b5f90.jpg /home/sejong/Desktop/junseok/SPRC/musinsa/goods/men/jeans/와이드 밴딩 데님팬츠 LIGHT BLUE.jpg\n"
          ]
        },
        {
          "name": "stderr",
          "output_type": "stream",
          "text": [
            "jeans-train:  90%|█████████ | 361/400 [26:10<02:45,  4.25s/it]"
          ]
        },
        {
          "name": "stdout",
          "output_type": "stream",
          "text": [
            "\"has a ripped design, and is light blue, and is wide fit\"\n",
            "/home/sejong/Desktop/junseok/SPRC/musinsa/snap/men/jeans/b6921c9e50bd42e89992de068f8072a0.jpg /home/sejong/Desktop/junseok/SPRC/musinsa/goods/men/jeans/1883 MONOCHROME JEANS [WIDE STRAIGHT].jpg\n"
          ]
        },
        {
          "name": "stderr",
          "output_type": "stream",
          "text": [
            "jeans-train:  90%|█████████ | 362/400 [26:13<02:29,  3.94s/it]"
          ]
        },
        {
          "name": "stdout",
          "output_type": "stream",
          "text": [
            "\"has a regular design, is black, and is straight fit\"\n",
            "/home/sejong/Desktop/junseok/SPRC/musinsa/snap/men/jeans/1546f8d4af764f84bec93548eb27912a.jpg /home/sejong/Desktop/junseok/SPRC/musinsa/goods/men/jeans/BALLOON FIT DENIM PANTS (INDIGO BLUE).jpg\n"
          ]
        },
        {
          "name": "stderr",
          "output_type": "stream",
          "text": [
            "jeans-train:  91%|█████████ | 363/400 [26:17<02:23,  3.89s/it]"
          ]
        },
        {
          "name": "stdout",
          "output_type": "stream",
          "text": [
            "\"has a regular design, is blue, and is wide fit\"\n",
            "/home/sejong/Desktop/junseok/SPRC/musinsa/snap/men/jeans/576a46e519554152941e16ab82170906.jpg /home/sejong/Desktop/junseok/SPRC/musinsa/goods/men/jeans/BALLOON FIT DENIM PANTS (BROWN TIN WASHED).jpg\n"
          ]
        },
        {
          "name": "stderr",
          "output_type": "stream",
          "text": [
            "jeans-train:  91%|█████████ | 364/400 [26:20<02:13,  3.72s/it]"
          ]
        },
        {
          "name": "stdout",
          "output_type": "stream",
          "text": [
            "\"has a washed effect, and is light blue, and is wide fit\"\n",
            "/home/sejong/Desktop/junseok/SPRC/musinsa/snap/men/jeans/0aca1fbd740341408072cee8965e8ca5.jpg /home/sejong/Desktop/junseok/SPRC/musinsa/goods/men/jeans/커브드 와이드 코튼 데님팬츠 [크림].jpg\n"
          ]
        },
        {
          "name": "stderr",
          "output_type": "stream",
          "text": [
            "jeans-train:  91%|█████████▏| 365/400 [26:23<02:03,  3.54s/it]"
          ]
        },
        {
          "name": "stdout",
          "output_type": "stream",
          "text": [
            "\"is wide fit\"\n",
            "/home/sejong/Desktop/junseok/SPRC/musinsa/snap/men/jeans/c64fe4f46ba343ddaab78ee2586cf6c8.jpg /home/sejong/Desktop/junseok/SPRC/musinsa/goods/men/jeans/Clean Deep One Tuck Denim Pants [Brown].jpg\n"
          ]
        },
        {
          "name": "stderr",
          "output_type": "stream",
          "text": [
            "jeans-train:  92%|█████████▏| 366/400 [26:27<02:05,  3.68s/it]"
          ]
        },
        {
          "name": "stdout",
          "output_type": "stream",
          "text": [
            "\"is loose fit and is brown\"\n",
            "/home/sejong/Desktop/junseok/SPRC/musinsa/snap/men/jeans/8997e81fc86e4ef58c435e31fbe0489c.jpg /home/sejong/Desktop/junseok/SPRC/musinsa/goods/men/jeans/[무료반품] 맥시 백 포켓 빅 로고 데님 남녀공용 (2컬러).jpg\n"
          ]
        },
        {
          "name": "stderr",
          "output_type": "stream",
          "text": [
            "jeans-train:  92%|█████████▏| 367/400 [26:32<02:09,  3.93s/it]"
          ]
        },
        {
          "name": "stdout",
          "output_type": "stream",
          "text": [
            "\"has a washed effect, and is dark blue, and is wide fit\"\n",
            "/home/sejong/Desktop/junseok/SPRC/musinsa/snap/men/jeans/41fded97e6394056b1be201b898d2ef0.jpg /home/sejong/Desktop/junseok/SPRC/musinsa/goods/men/jeans/커브드 와이드 데님 팬츠 블랙.jpg\n"
          ]
        },
        {
          "name": "stderr",
          "output_type": "stream",
          "text": [
            "jeans-train:  92%|█████████▏| 368/400 [26:36<02:03,  3.85s/it]"
          ]
        },
        {
          "name": "stdout",
          "output_type": "stream",
          "text": [
            "\"is black and loose fit\"\n",
            "/home/sejong/Desktop/junseok/SPRC/musinsa/snap/men/jeans/b3dc503fab8649caa77ae3ad14d6ef40.jpg /home/sejong/Desktop/junseok/SPRC/musinsa/goods/men/jeans/[무료반품] 턴업 데님 팬츠 딥블루.jpg\n"
          ]
        },
        {
          "name": "stderr",
          "output_type": "stream",
          "text": [
            "jeans-train:  92%|█████████▏| 369/400 [26:39<01:56,  3.77s/it]"
          ]
        },
        {
          "name": "stdout",
          "output_type": "stream",
          "text": [
            "\"has a washed effect, and is blue, and is loose fit\"\n",
            "/home/sejong/Desktop/junseok/SPRC/musinsa/snap/men/jeans/1313eb54e25548e1ac425dad7c2e7fd1.jpg /home/sejong/Desktop/junseok/SPRC/musinsa/goods/men/jeans/헤링본 도밍고 데님팬츠 (진청).jpg\n"
          ]
        },
        {
          "name": "stderr",
          "output_type": "stream",
          "text": [
            "jeans-train:  92%|█████████▎| 370/400 [26:44<02:00,  4.03s/it]"
          ]
        },
        {
          "name": "stdout",
          "output_type": "stream",
          "text": [
            "\"has a washed effect, and is light blue, and is loose fit\"\n",
            "/home/sejong/Desktop/junseok/SPRC/musinsa/snap/men/jeans/509cff822d9a4090bf7d0cbe704ac0cd.jpg /home/sejong/Desktop/junseok/SPRC/musinsa/goods/men/jeans/더블니 카펜터 데님 팬츠 크림.jpg\n"
          ]
        },
        {
          "name": "stderr",
          "output_type": "stream",
          "text": [
            "jeans-train:  93%|█████████▎| 371/400 [26:49<02:07,  4.38s/it]"
          ]
        },
        {
          "name": "stdout",
          "output_type": "stream",
          "text": [
            "\"has a regular design, and is light blue, and is wide fit\"\n",
            "/home/sejong/Desktop/junseok/SPRC/musinsa/snap/men/jeans/1734433509410.jpg /home/sejong/Desktop/junseok/SPRC/musinsa/goods/men/jeans/딥 워싱 와이드 데님 팬츠  (WASHED DARK BLUE).jpg\n"
          ]
        },
        {
          "name": "stderr",
          "output_type": "stream",
          "text": [
            "jeans-train:  93%|█████████▎| 372/400 [26:53<01:59,  4.26s/it]"
          ]
        },
        {
          "name": "stdout",
          "output_type": "stream",
          "text": [
            "\"has a washed effect, and is dark blue, and is wide fit\"\n",
            "/home/sejong/Desktop/junseok/SPRC/musinsa/snap/men/jeans/3cd75f0dbea84bbfbc416c49046fb008.jpg /home/sejong/Desktop/junseok/SPRC/musinsa/goods/men/jeans/87-STAN160 캣샌드 워싱 빈티지 스티치 와이드 데님팬츠 빈티지블루.jpg\n"
          ]
        },
        {
          "name": "stderr",
          "output_type": "stream",
          "text": [
            "jeans-train:  93%|█████████▎| 373/400 [26:57<01:49,  4.06s/it]"
          ]
        },
        {
          "name": "stdout",
          "output_type": "stream",
          "text": [
            "\"has a washed effect, and is dark blue, and is wide fit\"\n",
            "/home/sejong/Desktop/junseok/SPRC/musinsa/snap/men/jeans/31232ba2132d4176b3d70d732507163c.jpg /home/sejong/Desktop/junseok/SPRC/musinsa/goods/men/jeans/Denim Carpenter Pant Black.jpg\n"
          ]
        },
        {
          "name": "stderr",
          "output_type": "stream",
          "text": [
            "jeans-train:  94%|█████████▎| 374/400 [26:59<01:35,  3.66s/it]"
          ]
        },
        {
          "name": "stdout",
          "output_type": "stream",
          "text": [
            "\"has a ripped design, is black, and is wide fit\"\n",
            "/home/sejong/Desktop/junseok/SPRC/musinsa/snap/men/jeans/305ab24aa0c54e09aed09714f3c61e7a.jpg /home/sejong/Desktop/junseok/SPRC/musinsa/goods/men/jeans/[기장 선택] 벌룬핏 데님 와이드 팬츠 (G.BLEACH).jpg\n"
          ]
        },
        {
          "name": "stderr",
          "output_type": "stream",
          "text": [
            "jeans-train:  94%|█████████▍| 375/400 [27:03<01:30,  3.61s/it]"
          ]
        },
        {
          "name": "stdout",
          "output_type": "stream",
          "text": [
            "\"has a washed effect, and is light blue, and is loose fit\"\n",
            "/home/sejong/Desktop/junseok/SPRC/musinsa/snap/men/jeans/1313eb54e25548e1ac425dad7c2e7fd1.jpg /home/sejong/Desktop/junseok/SPRC/musinsa/goods/men/jeans/스모크 와이드 데님 팬츠 빈티지블랙 KMLP6669.jpg\n"
          ]
        },
        {
          "name": "stderr",
          "output_type": "stream",
          "text": [
            "jeans-train:  94%|█████████▍| 376/400 [27:07<01:27,  3.66s/it]"
          ]
        },
        {
          "name": "stdout",
          "output_type": "stream",
          "text": [
            "\"is black and wide fit\"\n",
            "/home/sejong/Desktop/junseok/SPRC/musinsa/snap/men/jeans/61de5f7701fc4ea3bb8e2a40f657051f.jpg /home/sejong/Desktop/junseok/SPRC/musinsa/goods/men/jeans/Burning Storm - MOD1w.jpg\n"
          ]
        },
        {
          "name": "stderr",
          "output_type": "stream",
          "text": [
            "jeans-train:  94%|█████████▍| 377/400 [27:10<01:24,  3.67s/it]"
          ]
        },
        {
          "name": "stdout",
          "output_type": "stream",
          "text": [
            "\"has a washed effect, and is light blue, and is wide fit\"\n",
            "/home/sejong/Desktop/junseok/SPRC/musinsa/snap/men/jeans/5d916c60083c45de8fad0caeb4da47ec.jpg /home/sejong/Desktop/junseok/SPRC/musinsa/goods/men/jeans/바이오 워싱 와이드 청바지 데님 팬츠 6 COLOR.jpg\n"
          ]
        },
        {
          "name": "stderr",
          "output_type": "stream",
          "text": [
            "jeans-train:  94%|█████████▍| 378/400 [27:14<01:21,  3.71s/it]"
          ]
        },
        {
          "name": "stdout",
          "output_type": "stream",
          "text": [
            "\"has a washed effect, and is light blue, and is loose fit\"\n",
            "/home/sejong/Desktop/junseok/SPRC/musinsa/snap/men/jeans/4cbefeb0aeb440899c070aebf4705f2d.jpg /home/sejong/Desktop/junseok/SPRC/musinsa/goods/men/jeans/MENS 루이스 스트레이트 데님 팬츠 연청.jpg\n"
          ]
        },
        {
          "name": "stderr",
          "output_type": "stream",
          "text": [
            "jeans-train:  95%|█████████▍| 379/400 [27:19<01:23,  3.99s/it]"
          ]
        },
        {
          "name": "stdout",
          "output_type": "stream",
          "text": [
            "\"has a washed effect, and is light blue, and is wide fit\"\n",
            "/home/sejong/Desktop/junseok/SPRC/musinsa/snap/men/jeans/28b4a132f7f94aa2886c3ab47d7c0191.jpg /home/sejong/Desktop/junseok/SPRC/musinsa/goods/men/jeans/시티 벨티드 데님 팬츠-BLUE.jpg\n"
          ]
        },
        {
          "name": "stderr",
          "output_type": "stream",
          "text": [
            "jeans-train:  95%|█████████▌| 380/400 [27:22<01:15,  3.79s/it]"
          ]
        },
        {
          "name": "stdout",
          "output_type": "stream",
          "text": [
            "\"has a washed effect, and is light blue, and is wide fit\"\n",
            "/home/sejong/Desktop/junseok/SPRC/musinsa/snap/men/jeans/d75694d99fcd42319df660f44a6531ae.jpg /home/sejong/Desktop/junseok/SPRC/musinsa/goods/men/jeans/유틸리티 카고 워싱 와이드 데님 팬츠 (BEIGE BLUE).jpg\n"
          ]
        },
        {
          "name": "stderr",
          "output_type": "stream",
          "text": [
            "jeans-train:  95%|█████████▌| 381/400 [27:27<01:16,  4.00s/it]"
          ]
        },
        {
          "name": "stdout",
          "output_type": "stream",
          "text": [
            "\"has a ripped design, and is light blue, and is loose fit\"\n",
            "/home/sejong/Desktop/junseok/SPRC/musinsa/snap/men/jeans/0c73f0d7769e46d6b45c360374edce49.jpg /home/sejong/Desktop/junseok/SPRC/musinsa/goods/men/jeans/Essential Relaxed Denim Pants (Black).jpg\n"
          ]
        },
        {
          "name": "stderr",
          "output_type": "stream",
          "text": [
            "jeans-train:  96%|█████████▌| 382/400 [27:30<01:11,  3.95s/it]"
          ]
        },
        {
          "name": "stdout",
          "output_type": "stream",
          "text": [
            "\"is black and has a straight fit\"\n",
            "/home/sejong/Desktop/junseok/SPRC/musinsa/snap/men/jeans/74ea84666e3e4e4ea3b3e6ab4890af4f.jpg /home/sejong/Desktop/junseok/SPRC/musinsa/goods/men/jeans/[프리미엄] CALIK 와이드 데님 팬츠 [크림].jpg\n"
          ]
        },
        {
          "name": "stderr",
          "output_type": "stream",
          "text": [
            "jeans-train:  96%|█████████▌| 383/400 [27:33<01:01,  3.63s/it]"
          ]
        },
        {
          "name": "stdout",
          "output_type": "stream",
          "text": [
            "\"has a loose fit and is slightly longer length\"\n",
            "/home/sejong/Desktop/junseok/SPRC/musinsa/snap/men/jeans/a600e0cbaa154f30bbddb22a1524d177.jpg /home/sejong/Desktop/junseok/SPRC/musinsa/goods/men/jeans/M197 wide denim blue.jpg\n"
          ]
        },
        {
          "name": "stderr",
          "output_type": "stream",
          "text": [
            "jeans-train:  96%|█████████▌| 384/400 [27:37<01:00,  3.77s/it]"
          ]
        },
        {
          "name": "stdout",
          "output_type": "stream",
          "text": [
            "\"has a ripped design, and is light blue, and is wide fit\"\n",
            "/home/sejong/Desktop/junseok/SPRC/musinsa/snap/men/jeans/96c9cd30a221443b92986359abc955cf.jpg /home/sejong/Desktop/junseok/SPRC/musinsa/goods/men/jeans/시티 벨티드 데님 팬츠-BLUE.jpg\n"
          ]
        },
        {
          "name": "stderr",
          "output_type": "stream",
          "text": [
            "jeans-train:  96%|█████████▋| 385/400 [27:41<00:57,  3.83s/it]"
          ]
        },
        {
          "name": "stdout",
          "output_type": "stream",
          "text": [
            "\"has a washed effect, and is light blue, and is wide fit\"\n",
            "/home/sejong/Desktop/junseok/SPRC/musinsa/snap/men/jeans/56148f11c07342d7a75cd2f43afa1979.jpg /home/sejong/Desktop/junseok/SPRC/musinsa/goods/men/jeans/[현킴 X 코프위]시밀롱 데님 팬츠 틴 중청.jpg\n"
          ]
        },
        {
          "name": "stderr",
          "output_type": "stream",
          "text": [
            "jeans-train:  96%|█████████▋| 386/400 [27:46<00:56,  4.07s/it]"
          ]
        },
        {
          "name": "stdout",
          "output_type": "stream",
          "text": [
            "\"has a washed effect, and is light blue, and is wide fit\"\n",
            "/home/sejong/Desktop/junseok/SPRC/musinsa/snap/men/jeans/aebb60d99a93459581291e1c1de298f6.jpg /home/sejong/Desktop/junseok/SPRC/musinsa/goods/men/jeans/논페이드 커브드 데님 팬츠 브라운.jpg\n"
          ]
        },
        {
          "name": "stderr",
          "output_type": "stream",
          "text": [
            "jeans-train:  97%|█████████▋| 387/400 [27:51<00:54,  4.19s/it]"
          ]
        },
        {
          "name": "stdout",
          "output_type": "stream",
          "text": [
            "\"has a ripped design, and is dark brown, and is wide fit\"\n",
            "/home/sejong/Desktop/junseok/SPRC/musinsa/snap/men/jeans/c5a3daa244994a14a4e767d09821eea5.jpg /home/sejong/Desktop/junseok/SPRC/musinsa/goods/men/jeans/샌드 워싱 세미 와이드 데님팬츠 (흑청).jpg\n"
          ]
        },
        {
          "name": "stderr",
          "output_type": "stream",
          "text": [
            "jeans-train:  97%|█████████▋| 388/400 [27:54<00:48,  4.08s/it]"
          ]
        },
        {
          "name": "stdout",
          "output_type": "stream",
          "text": [
            "\"has a washed effect, and is black, and is loose fit\"\n",
            "/home/sejong/Desktop/junseok/SPRC/musinsa/snap/men/jeans/da6b74fb35524673bd4c9945bb6cc643.jpg /home/sejong/Desktop/junseok/SPRC/musinsa/goods/men/jeans/트위스트 워크웨어 데님 팬츠 - 라이트 블루 _ DT0052PG1164804.jpg\n"
          ]
        },
        {
          "name": "stderr",
          "output_type": "stream",
          "text": [
            "jeans-train:  97%|█████████▋| 389/400 [27:58<00:42,  3.87s/it]"
          ]
        },
        {
          "name": "stdout",
          "output_type": "stream",
          "text": [
            "\"has a washed effect, and is blue, and is wide fit\"\n",
            "/home/sejong/Desktop/junseok/SPRC/musinsa/snap/men/jeans/59875cce5e7d41d1ba1cab6d8140cedf.jpg /home/sejong/Desktop/junseok/SPRC/musinsa/goods/men/jeans/[무료반품] 맥시 백 포켓 빅 로고 데님 남녀공용 (2컬러).jpg\n"
          ]
        },
        {
          "name": "stderr",
          "output_type": "stream",
          "text": [
            "jeans-train:  98%|█████████▊| 390/400 [28:02<00:40,  4.04s/it]"
          ]
        },
        {
          "name": "stdout",
          "output_type": "stream",
          "text": [
            "\"has a washed effect, and is blue, and is loose fit\"\n",
            "/home/sejong/Desktop/junseok/SPRC/musinsa/snap/men/jeans/1c34fad61c544f5a875af988bd4ac8ea.jpg /home/sejong/Desktop/junseok/SPRC/musinsa/goods/men/jeans/남성 썸머 라이크라 슬림핏 데님_네이비.jpg\n"
          ]
        },
        {
          "name": "stderr",
          "output_type": "stream",
          "text": [
            "jeans-train:  98%|█████████▊| 391/400 [28:05<00:34,  3.82s/it]"
          ]
        },
        {
          "name": "stdout",
          "output_type": "stream",
          "text": [
            "\"has a ripped design, is dark blue, and is skinny fit\"\n",
            "/home/sejong/Desktop/junseok/SPRC/musinsa/snap/men/jeans/e6d569b046944aaa8c0fe566f04ad6bf.jpg /home/sejong/Desktop/junseok/SPRC/musinsa/goods/men/jeans/LAB.017 Balloon Denim Pants(INDIGO).jpg\n"
          ]
        },
        {
          "name": "stderr",
          "output_type": "stream",
          "text": [
            "jeans-train:  98%|█████████▊| 392/400 [28:09<00:30,  3.83s/it]"
          ]
        },
        {
          "name": "stdout",
          "output_type": "stream",
          "text": [
            "\"has a ripped design, and is blue, and is loose fit\"\n",
            "/home/sejong/Desktop/junseok/SPRC/musinsa/snap/men/jeans/04710df4117b4dc69e7a8c0491259765.jpg /home/sejong/Desktop/junseok/SPRC/musinsa/goods/men/jeans/데미지 워시드 데님 팬츠-블루.jpg\n"
          ]
        },
        {
          "name": "stderr",
          "output_type": "stream",
          "text": [
            "jeans-train:  98%|█████████▊| 393/400 [28:14<00:27,  3.99s/it]"
          ]
        },
        {
          "name": "stdout",
          "output_type": "stream",
          "text": [
            "\"has a washed effect, and is light blue, and is loose fit\"\n",
            "/home/sejong/Desktop/junseok/SPRC/musinsa/snap/men/jeans/3cd8fb515ccf436ea8234b7e5fa7ab2a.jpg /home/sejong/Desktop/junseok/SPRC/musinsa/goods/men/jeans/투턱 베이직 와이드 데님 팬츠 블랙.jpg\n"
          ]
        },
        {
          "name": "stderr",
          "output_type": "stream",
          "text": [
            "jeans-train:  98%|█████████▊| 394/400 [28:19<00:25,  4.25s/it]"
          ]
        },
        {
          "name": "stdout",
          "output_type": "stream",
          "text": [
            "\"is black and is loose fit\"\n",
            "/home/sejong/Desktop/junseok/SPRC/musinsa/snap/men/jeans/131b272bb6d843b2a207626594428451.jpg /home/sejong/Desktop/junseok/SPRC/musinsa/goods/men/jeans/커브드 와이드 코튼 데님팬츠 [블랙].jpg\n"
          ]
        },
        {
          "name": "stderr",
          "output_type": "stream",
          "text": [
            "jeans-train:  99%|█████████▉| 395/400 [28:22<00:19,  3.95s/it]"
          ]
        },
        {
          "name": "stdout",
          "output_type": "stream",
          "text": [
            "\"has a loose fit and is black\"\n",
            "/home/sejong/Desktop/junseok/SPRC/musinsa/snap/men/jeans/b74754f937f6493194110531b7c0929a.jpg /home/sejong/Desktop/junseok/SPRC/musinsa/goods/men/jeans/도밍고 데님팬츠 (베이지).jpg\n"
          ]
        },
        {
          "name": "stderr",
          "output_type": "stream",
          "text": [
            "jeans-train:  99%|█████████▉| 396/400 [28:25<00:15,  3.86s/it]"
          ]
        },
        {
          "name": "stdout",
          "output_type": "stream",
          "text": [
            "\"has a ripped design, and is light blue, and is wide fit\"\n",
            "/home/sejong/Desktop/junseok/SPRC/musinsa/snap/men/jeans/53b2da2d44654bcd9a39228f8f415adf.jpg /home/sejong/Desktop/junseok/SPRC/musinsa/goods/men/jeans/Curve wide 04 - brush.jpg\n"
          ]
        },
        {
          "name": "stderr",
          "output_type": "stream",
          "text": [
            "jeans-train:  99%|█████████▉| 397/400 [28:31<00:12,  4.23s/it]"
          ]
        },
        {
          "name": "stdout",
          "output_type": "stream",
          "text": [
            "\"has a ripped design, and is light blue, and is wide fit\"\n",
            "/home/sejong/Desktop/junseok/SPRC/musinsa/snap/men/jeans/184ded0f146240d88d74f3db704f721b.jpg /home/sejong/Desktop/junseok/SPRC/musinsa/goods/men/jeans/LOOSED WIDE DENIM PANTS (BEIGE).jpg\n"
          ]
        },
        {
          "name": "stderr",
          "output_type": "stream",
          "text": [
            "jeans-train: 100%|█████████▉| 398/400 [28:35<00:08,  4.25s/it]"
          ]
        },
        {
          "name": "stdout",
          "output_type": "stream",
          "text": [
            "\"has a wide fit and is light blue\"\n",
            "/home/sejong/Desktop/junseok/SPRC/musinsa/snap/men/jeans/90ba16f641d64681903ea5368f764cf9.jpg /home/sejong/Desktop/junseok/SPRC/musinsa/goods/men/jeans/[현킴 X 코프위]시밀롱 데님 팬츠 연청.jpg\n"
          ]
        },
        {
          "name": "stderr",
          "output_type": "stream",
          "text": [
            "jeans-train: 100%|█████████▉| 399/400 [28:38<00:04,  4.02s/it]"
          ]
        },
        {
          "name": "stdout",
          "output_type": "stream",
          "text": [
            "\"has a washed effect, and is light blue, and is wide fit\"\n",
            "/home/sejong/Desktop/junseok/SPRC/musinsa/snap/men/jeans/02251c1c41454e998777cf69839b070a.jpg /home/sejong/Desktop/junseok/SPRC/musinsa/goods/men/jeans/데님 원턱 와이드 팬츠 16COLOR COOSPT201.jpg\n"
          ]
        },
        {
          "name": "stderr",
          "output_type": "stream",
          "text": [
            "jeans-train: 100%|██████████| 400/400 [28:42<00:00,  4.31s/it]\n"
          ]
        },
        {
          "name": "stdout",
          "output_type": "stream",
          "text": [
            "\"has a regular design, and is dark blue, and is loose fit\"\n"
          ]
        },
        {
          "name": "stderr",
          "output_type": "stream",
          "text": [
            "jeans-val:   0%|          | 0/50 [00:00<?, ?it/s]"
          ]
        },
        {
          "name": "stdout",
          "output_type": "stream",
          "text": [
            "/home/sejong/Desktop/junseok/SPRC/musinsa/snap/men/jeans/a9a0d93f8c214c26aec6c04f8f121902.jpg /home/sejong/Desktop/junseok/SPRC/musinsa/goods/men/jeans/논페이드 커브드 데님 팬츠 브라운.jpg\n"
          ]
        },
        {
          "name": "stderr",
          "output_type": "stream",
          "text": [
            "jeans-val:   2%|▏         | 1/50 [00:03<03:02,  3.72s/it]"
          ]
        },
        {
          "name": "stdout",
          "output_type": "stream",
          "text": [
            "\"is wide fit and is brown\"\n",
            "/home/sejong/Desktop/junseok/SPRC/musinsa/snap/men/jeans/68c3313be237436cbcdd19a6d6c24159.jpg /home/sejong/Desktop/junseok/SPRC/musinsa/goods/men/jeans/[TYPE JEAN] 원턱 와이드 데님 팬츠 (DEEP GREY).jpg\n"
          ]
        },
        {
          "name": "stderr",
          "output_type": "stream",
          "text": [
            "jeans-val:   4%|▍         | 2/50 [00:16<07:01,  8.78s/it]"
          ]
        },
        {
          "name": "stdout",
          "output_type": "stream",
          "text": [
            "\"is slightly longer length and is wide fit\"\n",
            "/home/sejong/Desktop/junseok/SPRC/musinsa/snap/men/jeans/42e0fdaee5c240cb93cfcee39268cb85.jpg /home/sejong/Desktop/junseok/SPRC/musinsa/goods/men/jeans/Wide Denim Work Pants Washed Indigo.jpg\n"
          ]
        },
        {
          "name": "stderr",
          "output_type": "stream",
          "text": [
            "jeans-val:   6%|▌         | 3/50 [00:19<04:47,  6.13s/it]"
          ]
        },
        {
          "name": "stdout",
          "output_type": "stream",
          "text": [
            "\"has a washed effect, and is blue\"\n",
            "/home/sejong/Desktop/junseok/SPRC/musinsa/snap/men/jeans/637c9fb2efde4bb68cf1f40f18e9de2c.jpg /home/sejong/Desktop/junseok/SPRC/musinsa/goods/men/jeans/Nus Wide One Tuck Denim Pants.jpg\n"
          ]
        },
        {
          "name": "stderr",
          "output_type": "stream",
          "text": [
            "jeans-val:   8%|▊         | 4/50 [00:21<03:44,  4.87s/it]"
          ]
        },
        {
          "name": "stdout",
          "output_type": "stream",
          "text": [
            "\"has a washed effect, and is light blue, and is wide fit\"\n",
            "/home/sejong/Desktop/junseok/SPRC/musinsa/snap/men/jeans/180cbff0a96e49d486398d232171df55.jpg /home/sejong/Desktop/junseok/SPRC/musinsa/goods/men/jeans/루이스 스트레이트 데님 팬츠 Dark denim.jpg\n"
          ]
        },
        {
          "name": "stderr",
          "output_type": "stream",
          "text": [
            "jeans-val:  10%|█         | 5/50 [00:25<03:09,  4.21s/it]"
          ]
        },
        {
          "name": "stdout",
          "output_type": "stream",
          "text": [
            "\"has a washed effect, and is blue, and is wide fit\"\n",
            "/home/sejong/Desktop/junseok/SPRC/musinsa/snap/men/jeans/19859af9cd0345feb2d150a7b91bb739.jpg /home/sejong/Desktop/junseok/SPRC/musinsa/goods/men/jeans/Super Wide Dart Denim Pants BLACK.jpg\n"
          ]
        },
        {
          "name": "stderr",
          "output_type": "stream",
          "text": [
            "jeans-val:  12%|█▏        | 6/50 [00:30<03:20,  4.55s/it]"
          ]
        },
        {
          "name": "stdout",
          "output_type": "stream",
          "text": [
            "\"has a ripped design, and is black, and is loose fit\"\n",
            "/home/sejong/Desktop/junseok/SPRC/musinsa/snap/men/jeans/4e996cff39844302bc8128fc176cb423.jpg /home/sejong/Desktop/junseok/SPRC/musinsa/goods/men/jeans/Linen Like Relax Fit Denim Pants - Black.jpg\n"
          ]
        },
        {
          "name": "stderr",
          "output_type": "stream",
          "text": [
            "jeans-val:  14%|█▍        | 7/50 [00:34<03:05,  4.31s/it]"
          ]
        },
        {
          "name": "stdout",
          "output_type": "stream",
          "text": [
            "\"has a washed effect, and is black, and is loose fit\"\n",
            "/home/sejong/Desktop/junseok/SPRC/musinsa/snap/men/jeans/b649c18052224ebdb0fe33ef8cbf7d70.jpg /home/sejong/Desktop/junseok/SPRC/musinsa/goods/men/jeans/TCM ethnic denim pants (light blue).jpg\n"
          ]
        },
        {
          "name": "stderr",
          "output_type": "stream",
          "text": [
            "jeans-val:  16%|█▌        | 8/50 [00:38<02:58,  4.26s/it]"
          ]
        },
        {
          "name": "stdout",
          "output_type": "stream",
          "text": [
            "\"has a washed effect, and is light blue, and is wide fit\"\n",
            "/home/sejong/Desktop/junseok/SPRC/musinsa/snap/men/jeans/64ba82c2528544b8ab90f44643a95292.jpg /home/sejong/Desktop/junseok/SPRC/musinsa/goods/men/jeans/TX110 세미 와이드 데님 (흑청).jpg\n"
          ]
        },
        {
          "name": "stderr",
          "output_type": "stream",
          "text": [
            "jeans-val:  18%|█▊        | 9/50 [00:42<02:58,  4.36s/it]"
          ]
        },
        {
          "name": "stdout",
          "output_type": "stream",
          "text": [
            "\"has a washed effect, and is black, and is loose fit\"\n",
            "/home/sejong/Desktop/junseok/SPRC/musinsa/snap/men/jeans/5c1f0bf4ff4a4555b1fa9f8d22358245.jpg /home/sejong/Desktop/junseok/SPRC/musinsa/goods/men/jeans/스타-스티치 2라인 데님 팬츠 (브라운).jpg\n"
          ]
        },
        {
          "name": "stderr",
          "output_type": "stream",
          "text": [
            "jeans-val:  20%|██        | 10/50 [00:47<02:55,  4.39s/it]"
          ]
        },
        {
          "name": "stdout",
          "output_type": "stream",
          "text": [
            "\"has a ripped design, and is dark blue, and is loose fit\"\n",
            "/home/sejong/Desktop/junseok/SPRC/musinsa/snap/men/jeans/d53d015a1a674082a25ba6837ac62038.jpg /home/sejong/Desktop/junseok/SPRC/musinsa/goods/men/jeans/STREAMLINE DENIM PANTS [BROWN].jpg\n"
          ]
        },
        {
          "name": "stderr",
          "output_type": "stream",
          "text": [
            "jeans-val:  22%|██▏       | 11/50 [00:50<02:39,  4.09s/it]"
          ]
        },
        {
          "name": "stdout",
          "output_type": "stream",
          "text": [
            "\"has a wide fit and is brown\"\n",
            "/home/sejong/Desktop/junseok/SPRC/musinsa/snap/men/jeans/a9f94d3076c64c8096e0094914e65833.jpg /home/sejong/Desktop/junseok/SPRC/musinsa/goods/men/jeans/커브드 라인 데님팬츠 [빈티지블루].jpg\n"
          ]
        },
        {
          "name": "stderr",
          "output_type": "stream",
          "text": [
            "jeans-val:  24%|██▍       | 12/50 [00:54<02:34,  4.05s/it]"
          ]
        },
        {
          "name": "stdout",
          "output_type": "stream",
          "text": [
            "\"has a washed effect, and is blue, and is wide fit\"\n",
            "/home/sejong/Desktop/junseok/SPRC/musinsa/snap/men/jeans/33ffd696b1c341fba03b928673a92014.jpg /home/sejong/Desktop/junseok/SPRC/musinsa/goods/men/jeans/빈티지 커브드 데님 팬츠-빈티지 옐로우.jpg\n"
          ]
        },
        {
          "name": "stderr",
          "output_type": "stream",
          "text": [
            "jeans-val:  26%|██▌       | 13/50 [00:59<02:43,  4.42s/it]"
          ]
        },
        {
          "name": "stdout",
          "output_type": "stream",
          "text": [
            "\"has a ripped design, and is blue, and is wide fit\"\n",
            "/home/sejong/Desktop/junseok/SPRC/musinsa/snap/men/jeans/7e120ae4514442f3a65b59bda4d15739.jpg /home/sejong/Desktop/junseok/SPRC/musinsa/goods/men/jeans/Selvedge Denim Pants Regular Fit - Black.jpg\n"
          ]
        },
        {
          "name": "stderr",
          "output_type": "stream",
          "text": [
            "jeans-val:  28%|██▊       | 14/50 [01:03<02:36,  4.33s/it]"
          ]
        },
        {
          "name": "stdout",
          "output_type": "stream",
          "text": [
            "\"is dark blue and wide fit\"\n",
            "/home/sejong/Desktop/junseok/SPRC/musinsa/snap/men/jeans/2254dd936b8d4820a23b655a90ef8696.jpg /home/sejong/Desktop/junseok/SPRC/musinsa/goods/men/jeans/TCM starfish denim pants (black).jpg\n"
          ]
        },
        {
          "name": "stderr",
          "output_type": "stream",
          "text": [
            "jeans-val:  30%|███       | 15/50 [01:08<02:29,  4.28s/it]"
          ]
        },
        {
          "name": "stdout",
          "output_type": "stream",
          "text": [
            "\"has a ripped design, and is black, and is wide fit\"\n",
            "/home/sejong/Desktop/junseok/SPRC/musinsa/snap/men/jeans/9dd30d8b0dee45eeaabe3a1d11b27072.jpg /home/sejong/Desktop/junseok/SPRC/musinsa/goods/men/jeans/Multi Studded Denim Pants (Blue).jpg\n"
          ]
        },
        {
          "name": "stderr",
          "output_type": "stream",
          "text": [
            "jeans-val:  32%|███▏      | 16/50 [01:12<02:23,  4.21s/it]"
          ]
        },
        {
          "name": "stdout",
          "output_type": "stream",
          "text": [
            "\"has a washed effect, and is light blue, and is wide fit\"\n",
            "/home/sejong/Desktop/junseok/SPRC/musinsa/snap/men/jeans/832785466ff74558bd1cdb501b0a0b15.jpg /home/sejong/Desktop/junseok/SPRC/musinsa/goods/men/jeans/BALLOON FIT DENIM PANTS (WASHED GREY).jpg\n"
          ]
        },
        {
          "name": "stderr",
          "output_type": "stream",
          "text": [
            "jeans-val:  34%|███▍      | 17/50 [01:15<02:10,  3.97s/it]"
          ]
        },
        {
          "name": "stdout",
          "output_type": "stream",
          "text": [
            "\"has a washed effect, and is black, and is wide fit\"\n",
            "/home/sejong/Desktop/junseok/SPRC/musinsa/snap/men/jeans/509cff822d9a4090bf7d0cbe704ac0cd.jpg /home/sejong/Desktop/junseok/SPRC/musinsa/goods/men/jeans/Knee Pin-tuck Printed Denim Pants (Black).jpg\n"
          ]
        },
        {
          "name": "stderr",
          "output_type": "stream",
          "text": [
            "jeans-val:  36%|███▌      | 18/50 [01:19<02:05,  3.93s/it]"
          ]
        },
        {
          "name": "stdout",
          "output_type": "stream",
          "text": [
            "\"has a ripped design, and is black, and is loose fit\"\n",
            "/home/sejong/Desktop/junseok/SPRC/musinsa/snap/men/jeans/65b13fb37d1e40fa8eb700ef508dde20.jpg /home/sejong/Desktop/junseok/SPRC/musinsa/goods/men/jeans/커브드 헤리티지 데님 (스톤 블루).jpg\n"
          ]
        },
        {
          "name": "stderr",
          "output_type": "stream",
          "text": [
            "jeans-val:  38%|███▊      | 19/50 [01:23<02:05,  4.06s/it]"
          ]
        },
        {
          "name": "stdout",
          "output_type": "stream",
          "text": [
            "\"has a ripped design, and is light blue, and is wide fit\"\n",
            "/home/sejong/Desktop/junseok/SPRC/musinsa/snap/men/jeans/da83dae7069b485eb40a713a77daf44c.jpg /home/sejong/Desktop/junseok/SPRC/musinsa/goods/men/jeans/404 세미 와이드 데님 - 블랙.jpg\n"
          ]
        },
        {
          "name": "stderr",
          "output_type": "stream",
          "text": [
            "jeans-val:  40%|████      | 20/50 [01:27<01:58,  3.94s/it]"
          ]
        },
        {
          "name": "stdout",
          "output_type": "stream",
          "text": [
            "\"has a washed effect, and is black, and is loose fit\"\n",
            "/home/sejong/Desktop/junseok/SPRC/musinsa/snap/men/jeans/0c518f195da743118882e69cc2191230.jpg /home/sejong/Desktop/junseok/SPRC/musinsa/goods/men/jeans/프린지 데님 와이드 팬츠(BLACK).jpg\n"
          ]
        },
        {
          "name": "stderr",
          "output_type": "stream",
          "text": [
            "jeans-val:  42%|████▏     | 21/50 [01:31<01:52,  3.89s/it]"
          ]
        },
        {
          "name": "stdout",
          "output_type": "stream",
          "text": [
            "\"is black and wide fit\"\n",
            "/home/sejong/Desktop/junseok/SPRC/musinsa/snap/men/jeans/3af4bf20390245c2bc49070e1c5c419c.jpg /home/sejong/Desktop/junseok/SPRC/musinsa/goods/men/jeans/1year 스트레이트 데님 팬츠 블루 FDP102.jpg\n"
          ]
        },
        {
          "name": "stderr",
          "output_type": "stream",
          "text": [
            "jeans-val:  44%|████▍     | 22/50 [01:35<01:53,  4.04s/it]"
          ]
        },
        {
          "name": "stdout",
          "output_type": "stream",
          "text": [
            "\"has a washed effect, and is blue, and is wide fit\"\n",
            "/home/sejong/Desktop/junseok/SPRC/musinsa/snap/men/jeans/14fdecf84e1846c3b8860d5002c65d73.jpg /home/sejong/Desktop/junseok/SPRC/musinsa/goods/men/jeans/데님 원턱 와이드 팬츠 16COLOR COOSPT201.jpg\n"
          ]
        },
        {
          "name": "stderr",
          "output_type": "stream",
          "text": [
            "jeans-val:  46%|████▌     | 23/50 [01:38<01:43,  3.82s/it]"
          ]
        },
        {
          "name": "stdout",
          "output_type": "stream",
          "text": [
            "\"has a regular design, and is dark blue, and is wide fit\"\n",
            "/home/sejong/Desktop/junseok/SPRC/musinsa/snap/men/jeans/e693e1e1284b4fb8ad307415a844c48a.jpg /home/sejong/Desktop/junseok/SPRC/musinsa/goods/men/jeans/GARMENT DYEING DENIM PANTS (YELLOW).jpg\n"
          ]
        },
        {
          "name": "stderr",
          "output_type": "stream",
          "text": [
            "jeans-val:  48%|████▊     | 24/50 [01:43<01:46,  4.10s/it]"
          ]
        },
        {
          "name": "stdout",
          "output_type": "stream",
          "text": [
            "\"has a ripped design, and is yellow, and is loose fit\"\n",
            "/home/sejong/Desktop/junseok/SPRC/musinsa/snap/men/jeans/061b334913be42c49a02153985768cab.jpg /home/sejong/Desktop/junseok/SPRC/musinsa/goods/men/jeans/[M~4XL] 워싱 데님 밴딩 팬츠_블루.jpg\n"
          ]
        },
        {
          "name": "stderr",
          "output_type": "stream",
          "text": [
            "jeans-val:  50%|█████     | 25/50 [01:46<01:36,  3.85s/it]"
          ]
        },
        {
          "name": "stdout",
          "output_type": "stream",
          "text": [
            "\"has a washed effect, and is blue, and is wide fit\"\n",
            "/home/sejong/Desktop/junseok/SPRC/musinsa/snap/men/jeans/feb5dd76c561417bb2bfa8485bdbaf0a.jpg /home/sejong/Desktop/junseok/SPRC/musinsa/goods/men/jeans/브라이트닝 크랙 워싱 데님 팬츠 (NORMAL BLACK).jpg\n"
          ]
        },
        {
          "name": "stderr",
          "output_type": "stream",
          "text": [
            "jeans-val:  52%|█████▏    | 26/50 [01:50<01:28,  3.69s/it]"
          ]
        },
        {
          "name": "stdout",
          "output_type": "stream",
          "text": [
            "\"has a ripped design, and is black, and is loose fit\"\n",
            "/home/sejong/Desktop/junseok/SPRC/musinsa/snap/men/jeans/137e592f4229414ebf21c2a11b26d8cb.jpg /home/sejong/Desktop/junseok/SPRC/musinsa/goods/men/jeans/Crack washed deep blue wide fit.jpg\n"
          ]
        },
        {
          "name": "stderr",
          "output_type": "stream",
          "text": [
            "jeans-val:  54%|█████▍    | 27/50 [01:53<01:20,  3.48s/it]"
          ]
        },
        {
          "name": "stdout",
          "output_type": "stream",
          "text": [
            "\"has a washed effect, and is blue, and is wide fit\"\n",
            "/home/sejong/Desktop/junseok/SPRC/musinsa/snap/men/jeans/b627fe75bb014de9b3dc1353636dadcd.jpg /home/sejong/Desktop/junseok/SPRC/musinsa/goods/men/jeans/DP214 스탠다드 데님팬츠 (Mid Blue).jpg\n"
          ]
        },
        {
          "name": "stderr",
          "output_type": "stream",
          "text": [
            "jeans-val:  56%|█████▌    | 28/50 [01:56<01:15,  3.44s/it]"
          ]
        },
        {
          "name": "stdout",
          "output_type": "stream",
          "text": [
            "\"has a washed effect, and is blue, and is wide fit\"\n",
            "/home/sejong/Desktop/junseok/SPRC/musinsa/snap/men/jeans/af52c898b4ca4a7e9919b590f66f8c0e.jpg /home/sejong/Desktop/junseok/SPRC/musinsa/goods/men/jeans/118 Classic Wide Tapered (Vintage Light).jpg\n"
          ]
        },
        {
          "name": "stderr",
          "output_type": "stream",
          "text": [
            "jeans-val:  58%|█████▊    | 29/50 [02:00<01:16,  3.65s/it]"
          ]
        },
        {
          "name": "stdout",
          "output_type": "stream",
          "text": [
            "\"has a washed effect, and is light blue, and is loose fit\"\n",
            "/home/sejong/Desktop/junseok/SPRC/musinsa/snap/men/jeans/7d010e06d5d24329807a03cec41c87f4.jpg /home/sejong/Desktop/junseok/SPRC/musinsa/goods/men/jeans/라인 스윙 벌룬핏 데님[블랙].jpg\n"
          ]
        },
        {
          "name": "stderr",
          "output_type": "stream",
          "text": [
            "jeans-val:  60%|██████    | 30/50 [02:05<01:17,  3.87s/it]"
          ]
        },
        {
          "name": "stdout",
          "output_type": "stream",
          "text": [
            "\"has a washed effect, and is black, and is loose fit\"\n",
            "/home/sejong/Desktop/junseok/SPRC/musinsa/snap/men/jeans/c6693364439942cfa1a8e8df935acf4c.jpg /home/sejong/Desktop/junseok/SPRC/musinsa/goods/men/jeans/빈티지 와이드 데님진 (중청).jpg\n"
          ]
        },
        {
          "name": "stderr",
          "output_type": "stream",
          "text": [
            "jeans-val:  62%|██████▏   | 31/50 [02:08<01:12,  3.80s/it]"
          ]
        },
        {
          "name": "stdout",
          "output_type": "stream",
          "text": [
            "\"has a washed effect, and is light blue, and is wide fit\"\n",
            "/home/sejong/Desktop/junseok/SPRC/musinsa/snap/men/jeans/7f80a2ef5b9e4a19beb17ff56fbf51bd.jpg /home/sejong/Desktop/junseok/SPRC/musinsa/goods/men/jeans/벌룬핏 데님 와이드 팬츠(워시드 블루).jpg\n"
          ]
        },
        {
          "name": "stderr",
          "output_type": "stream",
          "text": [
            "jeans-val:  64%|██████▍   | 32/50 [02:12<01:05,  3.64s/it]"
          ]
        },
        {
          "name": "stdout",
          "output_type": "stream",
          "text": [
            "\"has a washed effect, and is black, and is wide fit\"\n",
            "/home/sejong/Desktop/junseok/SPRC/musinsa/snap/men/jeans/17a0ea760eea4a4f8dfb19d73cd90664.jpg /home/sejong/Desktop/junseok/SPRC/musinsa/goods/men/jeans/Western Studded Denim Pants (Dark Blue).jpg\n"
          ]
        },
        {
          "name": "stderr",
          "output_type": "stream",
          "text": [
            "jeans-val:  66%|██████▌   | 33/50 [02:16<01:03,  3.76s/it]"
          ]
        },
        {
          "name": "stdout",
          "output_type": "stream",
          "text": [
            "\"has a ripped design, and is dark blue, and is wide fit\"\n",
            "/home/sejong/Desktop/junseok/SPRC/musinsa/snap/men/jeans/4a6167d492314f16b9382db7d1ee1cd2.jpg /home/sejong/Desktop/junseok/SPRC/musinsa/goods/men/jeans/LAB.017 Balloon Denim Pants(INDIGO).jpg\n"
          ]
        },
        {
          "name": "stderr",
          "output_type": "stream",
          "text": [
            "jeans-val:  68%|██████▊   | 34/50 [02:20<01:01,  3.85s/it]"
          ]
        },
        {
          "name": "stdout",
          "output_type": "stream",
          "text": [
            "\"has a ripped design, and is blue, and is loose fit\"\n",
            "/home/sejong/Desktop/junseok/SPRC/musinsa/snap/men/jeans/4cbdc357608d435fac0bced8aeb4916c.jpg /home/sejong/Desktop/junseok/SPRC/musinsa/goods/men/jeans/시티 벨티드 데님 팬츠-BLUE.jpg\n"
          ]
        },
        {
          "name": "stderr",
          "output_type": "stream",
          "text": [
            "jeans-val:  70%|███████   | 35/50 [02:23<00:56,  3.79s/it]"
          ]
        },
        {
          "name": "stdout",
          "output_type": "stream",
          "text": [
            "\"has a washed effect, and is light blue, and is wide fit\"\n",
            "/home/sejong/Desktop/junseok/SPRC/musinsa/snap/men/jeans/5102bca465684ec1b2d9f877501207b0.jpg /home/sejong/Desktop/junseok/SPRC/musinsa/goods/men/jeans/하이웨이스트 화이트 데님 팬츠 [WH].jpg\n"
          ]
        },
        {
          "name": "stderr",
          "output_type": "stream",
          "text": [
            "jeans-val:  72%|███████▏  | 36/50 [02:26<00:46,  3.36s/it]"
          ]
        },
        {
          "name": "stdout",
          "output_type": "stream",
          "text": [
            "\"has a regular design, and is wide fit\"\n",
            "/home/sejong/Desktop/junseok/SPRC/musinsa/snap/men/jeans/923ddcd737e741c8bedcfb0e4baa3cad.jpg /home/sejong/Desktop/junseok/SPRC/musinsa/goods/men/jeans/라인 스윙 벌룬핏 데님[블랙].jpg\n"
          ]
        },
        {
          "name": "stderr",
          "output_type": "stream",
          "text": [
            "jeans-val:  74%|███████▍  | 37/50 [02:29<00:43,  3.36s/it]"
          ]
        },
        {
          "name": "stdout",
          "output_type": "stream",
          "text": [
            "\"has a washed effect, and is black, and is wide fit\"\n",
            "/home/sejong/Desktop/junseok/SPRC/musinsa/snap/men/jeans/53c0e1a148ed4047b35f202e33ee31d2.jpg /home/sejong/Desktop/junseok/SPRC/musinsa/goods/men/jeans/BALLOON FIT CURVED JEANS BLACK.jpg\n"
          ]
        },
        {
          "name": "stderr",
          "output_type": "stream",
          "text": [
            "jeans-val:  76%|███████▌  | 38/50 [02:33<00:41,  3.46s/it]"
          ]
        },
        {
          "name": "stdout",
          "output_type": "stream",
          "text": [
            "\"is black and wide fit\"\n",
            "/home/sejong/Desktop/junseok/SPRC/musinsa/snap/men/jeans/2e78b2c62e794b40a5d7ea926f70934f.jpg /home/sejong/Desktop/junseok/SPRC/musinsa/goods/men/jeans/1year 스트레이트 데님 팬츠 블루 FDP102.jpg\n"
          ]
        },
        {
          "name": "stderr",
          "output_type": "stream",
          "text": [
            "jeans-val:  78%|███████▊  | 39/50 [02:40<00:51,  4.73s/it]"
          ]
        },
        {
          "name": "stdout",
          "output_type": "stream",
          "text": [
            "\"has a washed effect, and is light blue, and is loose fit\"\n",
            "/home/sejong/Desktop/junseok/SPRC/musinsa/snap/men/jeans/552582a6836e4c2597bf222d0fc7c0e2.jpg /home/sejong/Desktop/junseok/SPRC/musinsa/goods/men/jeans/USN Side Seamless Denim Pants Dark Indigo.jpg\n"
          ]
        },
        {
          "name": "stderr",
          "output_type": "stream",
          "text": [
            "jeans-val:  80%|████████  | 40/50 [02:43<00:42,  4.21s/it]"
          ]
        },
        {
          "name": "stdout",
          "output_type": "stream",
          "text": [
            "\"is blue and loose fit\"\n",
            "/home/sejong/Desktop/junseok/SPRC/musinsa/snap/men/jeans/53aee1437e72480e8705c946c5271d17.jpg /home/sejong/Desktop/junseok/SPRC/musinsa/goods/men/jeans/필치 데님 팬츠 - 데저트 블랙.jpg\n"
          ]
        },
        {
          "name": "stderr",
          "output_type": "stream",
          "text": [
            "jeans-val:  82%|████████▏ | 41/50 [02:47<00:36,  4.01s/it]"
          ]
        },
        {
          "name": "stdout",
          "output_type": "stream",
          "text": [
            "\"has a regular design, is black, and is straight fit\"\n",
            "/home/sejong/Desktop/junseok/SPRC/musinsa/snap/men/jeans/7408eea182f24bde8f54b4a67b6033a8.jpg /home/sejong/Desktop/junseok/SPRC/musinsa/goods/men/jeans/데님 파라슈트 카고 팬츠 [워시드 블랙].jpg\n"
          ]
        },
        {
          "name": "stderr",
          "output_type": "stream",
          "text": [
            "jeans-val:  84%|████████▍ | 42/50 [02:51<00:31,  3.97s/it]"
          ]
        },
        {
          "name": "stdout",
          "output_type": "stream",
          "text": [
            "\"has a ripped design, and is grey, and is loose fit\"\n",
            "/home/sejong/Desktop/junseok/SPRC/musinsa/snap/men/jeans/c5f3379bdddc4f6c89ea982902786919.jpg /home/sejong/Desktop/junseok/SPRC/musinsa/goods/men/jeans/[무료반품] 마요르카 와이드 데님 반밴딩 워싱 청바지 남녀공용 (3컬러).jpg\n"
          ]
        },
        {
          "name": "stderr",
          "output_type": "stream",
          "text": [
            "jeans-val:  86%|████████▌ | 43/50 [02:56<00:30,  4.29s/it]"
          ]
        },
        {
          "name": "stdout",
          "output_type": "stream",
          "text": [
            "\"has a washed effect, and is light blue, and is loose fit\"\n",
            "/home/sejong/Desktop/junseok/SPRC/musinsa/snap/men/jeans/af52c898b4ca4a7e9919b590f66f8c0e.jpg /home/sejong/Desktop/junseok/SPRC/musinsa/goods/men/jeans/스트링 와이드 데님 팬츠 (MID BLUE).jpg\n"
          ]
        },
        {
          "name": "stderr",
          "output_type": "stream",
          "text": [
            "jeans-val:  88%|████████▊ | 44/50 [03:00<00:24,  4.15s/it]"
          ]
        },
        {
          "name": "stdout",
          "output_type": "stream",
          "text": [
            "\"has a washed effect, and is blue, and is wide fit\"\n",
            "/home/sejong/Desktop/junseok/SPRC/musinsa/snap/men/jeans/7c9d05516b3e417581f83a8510ed5562.jpg /home/sejong/Desktop/junseok/SPRC/musinsa/goods/men/jeans/BALLOON FIT DENIM PANTS (WASHED BLACK).jpg\n"
          ]
        },
        {
          "name": "stderr",
          "output_type": "stream",
          "text": [
            "jeans-val:  90%|█████████ | 45/50 [03:03<00:19,  3.88s/it]"
          ]
        },
        {
          "name": "stdout",
          "output_type": "stream",
          "text": [
            "\"has a ripped design, and is black, and is wide fit\"\n",
            "/home/sejong/Desktop/junseok/SPRC/musinsa/snap/men/jeans/637c9fb2efde4bb68cf1f40f18e9de2c.jpg /home/sejong/Desktop/junseok/SPRC/musinsa/goods/men/jeans/내추럴 워싱 와이드 데님 팬츠 [연청].jpg\n"
          ]
        },
        {
          "name": "stderr",
          "output_type": "stream",
          "text": [
            "jeans-val:  92%|█████████▏| 46/50 [03:06<00:15,  3.80s/it]"
          ]
        },
        {
          "name": "stdout",
          "output_type": "stream",
          "text": [
            "\"has a washed effect, and is light blue, and is wide fit\"\n",
            "/home/sejong/Desktop/junseok/SPRC/musinsa/snap/men/jeans/a9157e08f93b4ea38ca677082cc9f9d7.jpg /home/sejong/Desktop/junseok/SPRC/musinsa/goods/men/jeans/CARPENTER DOUBLE KNEE PANTS_BLACK DENIM.jpg\n"
          ]
        },
        {
          "name": "stderr",
          "output_type": "stream",
          "text": [
            "jeans-val:  94%|█████████▍| 47/50 [03:09<00:10,  3.54s/it]"
          ]
        },
        {
          "name": "stdout",
          "output_type": "stream",
          "text": [
            "\"is black and loose fit\"\n",
            "/home/sejong/Desktop/junseok/SPRC/musinsa/snap/men/jeans/68d4448234d1414793de4e748d9cc1d6.jpg /home/sejong/Desktop/junseok/SPRC/musinsa/goods/men/jeans/드롭 스트레이트 와이드 데님 팬츠 (GREYISH BLUE).jpg\n"
          ]
        },
        {
          "name": "stderr",
          "output_type": "stream",
          "text": [
            "jeans-val:  96%|█████████▌| 48/50 [03:13<00:06,  3.43s/it]"
          ]
        },
        {
          "name": "stdout",
          "output_type": "stream",
          "text": [
            "\"has a washed effect, and is blue, and is wide fit\"\n",
            "/home/sejong/Desktop/junseok/SPRC/musinsa/snap/men/jeans/137e592f4229414ebf21c2a11b26d8cb.jpg /home/sejong/Desktop/junseok/SPRC/musinsa/goods/men/jeans/절개 라인 워싱 벌룬핏 데님 팬츠 (YELLOW BLACK).jpg\n"
          ]
        },
        {
          "name": "stderr",
          "output_type": "stream",
          "text": [
            "jeans-val:  98%|█████████▊| 49/50 [03:16<00:03,  3.37s/it]"
          ]
        },
        {
          "name": "stdout",
          "output_type": "stream",
          "text": [
            "\"has a washed effect, and is black, and is loose fit\"\n",
            "/home/sejong/Desktop/junseok/SPRC/musinsa/snap/men/jeans/e6d569b046944aaa8c0fe566f04ad6bf.jpg /home/sejong/Desktop/junseok/SPRC/musinsa/goods/men/jeans/프레디 세미 와이드 원턱 생지 데님 [RAW BLACK].jpg\n"
          ]
        },
        {
          "name": "stderr",
          "output_type": "stream",
          "text": [
            "jeans-val: 100%|██████████| 50/50 [03:20<00:00,  4.01s/it]\n"
          ]
        },
        {
          "name": "stdout",
          "output_type": "stream",
          "text": [
            "\"has a ripped design, is black, and is wide fit\"\n"
          ]
        },
        {
          "name": "stderr",
          "output_type": "stream",
          "text": [
            "jeans-test:   0%|          | 0/50 [00:00<?, ?it/s]"
          ]
        },
        {
          "name": "stdout",
          "output_type": "stream",
          "text": [
            "/home/sejong/Desktop/junseok/SPRC/musinsa/snap/men/jeans/923ddcd737e741c8bedcfb0e4baa3cad.jpg /home/sejong/Desktop/junseok/SPRC/musinsa/goods/men/jeans/#0280 mer two tuck wide indigo blue.jpg\n"
          ]
        },
        {
          "name": "stderr",
          "output_type": "stream",
          "text": [
            "jeans-test:   2%|▏         | 1/50 [00:03<03:03,  3.74s/it]"
          ]
        },
        {
          "name": "stdout",
          "output_type": "stream",
          "text": [
            "\"is blue and loose fit\"\n",
            "/home/sejong/Desktop/junseok/SPRC/musinsa/snap/men/jeans/d71a8dfa4cf84792af5caa9d2d017eb0.jpg /home/sejong/Desktop/junseok/SPRC/musinsa/goods/men/jeans/Linking Wide Denim Pants.jpg\n"
          ]
        },
        {
          "name": "stderr",
          "output_type": "stream",
          "text": [
            "jeans-test:   4%|▍         | 2/50 [00:07<02:55,  3.65s/it]"
          ]
        },
        {
          "name": "stdout",
          "output_type": "stream",
          "text": [
            "\"is light blue and wide fit\"\n",
            "/home/sejong/Desktop/junseok/SPRC/musinsa/snap/men/jeans/4bef4eea68e845dea1953bc65b6b2a58.jpg /home/sejong/Desktop/junseok/SPRC/musinsa/goods/men/jeans/Creepy Patch Denim Pants(BLUE).jpg\n"
          ]
        },
        {
          "name": "stderr",
          "output_type": "stream",
          "text": [
            "jeans-test:   6%|▌         | 3/50 [00:11<03:05,  3.94s/it]"
          ]
        },
        {
          "name": "stdout",
          "output_type": "stream",
          "text": [
            "\"has a ripped design, and is blue, and is loose fit\"\n",
            "/home/sejong/Desktop/junseok/SPRC/musinsa/snap/men/jeans/4b5e5a3d79c44d20b5630bdc469e1ec4.jpg /home/sejong/Desktop/junseok/SPRC/musinsa/goods/men/jeans/87-STAN195 미니멀 캣워싱 와이드 벌룬핏 데님팬츠 빈티지인디고.jpg\n"
          ]
        },
        {
          "name": "stderr",
          "output_type": "stream",
          "text": [
            "jeans-test:   8%|▊         | 4/50 [00:14<02:45,  3.61s/it]"
          ]
        },
        {
          "name": "stdout",
          "output_type": "stream",
          "text": [
            "\"has a washed effect, and is blue, and is wide fit\"\n",
            "/home/sejong/Desktop/junseok/SPRC/musinsa/snap/men/jeans/c0333df78889437792cdcbf634cb098b.jpg /home/sejong/Desktop/junseok/SPRC/musinsa/goods/men/jeans/XP232 로브 퍼티그 몽키 팬츠 (KHAKI).jpg\n"
          ]
        },
        {
          "name": "stderr",
          "output_type": "stream",
          "text": [
            "jeans-test:  10%|█         | 5/50 [00:19<02:54,  3.88s/it]"
          ]
        },
        {
          "name": "stdout",
          "output_type": "stream",
          "text": [
            "\"has a washed effect, and is black, and is wide fit\"\n",
            "/home/sejong/Desktop/junseok/SPRC/musinsa/snap/men/jeans/d71a8dfa4cf84792af5caa9d2d017eb0.jpg /home/sejong/Desktop/junseok/SPRC/musinsa/goods/men/jeans/WIDE DENIM PANTS [LIGHT BLUE].jpg\n"
          ]
        },
        {
          "name": "stderr",
          "output_type": "stream",
          "text": [
            "jeans-test:  12%|█▏        | 6/50 [00:22<02:40,  3.65s/it]"
          ]
        },
        {
          "name": "stdout",
          "output_type": "stream",
          "text": [
            "\"has a washed effect, and is light blue, and is loose fit\"\n",
            "/home/sejong/Desktop/junseok/SPRC/musinsa/snap/men/jeans/ea8592917a504c948700a6c2d7b5be48.jpg /home/sejong/Desktop/junseok/SPRC/musinsa/goods/men/jeans/TX109 세미 와이드 카펜터 데님 (흑청).jpg\n"
          ]
        },
        {
          "name": "stderr",
          "output_type": "stream",
          "text": [
            "jeans-test:  14%|█▍        | 7/50 [00:26<02:42,  3.78s/it]"
          ]
        },
        {
          "name": "stdout",
          "output_type": "stream",
          "text": [
            "\"has a ripped design, and is black, and is loose fit\"\n",
            "/home/sejong/Desktop/junseok/SPRC/musinsa/snap/men/jeans/d8daaa2e6c20406295abd9c35a1eea92.jpg /home/sejong/Desktop/junseok/SPRC/musinsa/goods/men/jeans/클래식 와이드 데님 팬츠 (라이트블루).jpg\n"
          ]
        },
        {
          "name": "stderr",
          "output_type": "stream",
          "text": [
            "jeans-test:  16%|█▌        | 8/50 [00:29<02:35,  3.70s/it]"
          ]
        },
        {
          "name": "stdout",
          "output_type": "stream",
          "text": [
            "\"has a washed effect, and is light blue, and is loose fit\"\n",
            "/home/sejong/Desktop/junseok/SPRC/musinsa/snap/men/jeans/629d2233618b4a3085fe717fac8ec8c5.jpg /home/sejong/Desktop/junseok/SPRC/musinsa/goods/men/jeans/Center Incision Wide Jeans DCPT028Black.jpg\n"
          ]
        },
        {
          "name": "stderr",
          "output_type": "stream",
          "text": [
            "jeans-test:  18%|█▊        | 9/50 [00:33<02:30,  3.66s/it]"
          ]
        },
        {
          "name": "stdout",
          "output_type": "stream",
          "text": [
            "\"is black and wide fit\"\n",
            "/home/sejong/Desktop/junseok/SPRC/musinsa/snap/men/jeans/0f3e0ed660aa473aaed00558b6c2aac1.jpg /home/sejong/Desktop/junseok/SPRC/musinsa/goods/men/jeans/사이드 트랙 데님 팬츠-인디고.jpg\n"
          ]
        },
        {
          "name": "stderr",
          "output_type": "stream",
          "text": [
            "jeans-test:  20%|██        | 10/50 [00:36<02:15,  3.40s/it]"
          ]
        },
        {
          "name": "stdout",
          "output_type": "stream",
          "text": [
            "\"has a faded effect, and is dark blue, and is wide fit\"\n",
            "/home/sejong/Desktop/junseok/SPRC/musinsa/snap/men/jeans/5a5906bfb62449198325beeb697bd2ae.jpg /home/sejong/Desktop/junseok/SPRC/musinsa/goods/men/jeans/트위스트 벌룬핏 데님 팬츠[블랙].jpg\n"
          ]
        },
        {
          "name": "stderr",
          "output_type": "stream",
          "text": [
            "jeans-test:  22%|██▏       | 11/50 [00:39<02:10,  3.36s/it]"
          ]
        },
        {
          "name": "stdout",
          "output_type": "stream",
          "text": [
            "\"is black and loose fit\"\n",
            "/home/sejong/Desktop/junseok/SPRC/musinsa/snap/men/jeans/ea8592917a504c948700a6c2d7b5be48.jpg /home/sejong/Desktop/junseok/SPRC/musinsa/goods/men/jeans/CONE MILL DEEP ONE TUCK JEAN MEDIUM WASHED.jpg\n"
          ]
        },
        {
          "name": "stderr",
          "output_type": "stream",
          "text": [
            "jeans-test:  24%|██▍       | 12/50 [00:42<02:05,  3.31s/it]"
          ]
        },
        {
          "name": "stdout",
          "output_type": "stream",
          "text": [
            "\"has a ripped design, and is dark blue, and is loose fit\"\n",
            "/home/sejong/Desktop/junseok/SPRC/musinsa/snap/men/jeans/7297f49d822247f18c5a0d9d43263777.jpg /home/sejong/Desktop/junseok/SPRC/musinsa/goods/men/jeans/워시드 와이드 벌룬핏 데님 팬츠 (WASHED BLACK).jpg\n"
          ]
        },
        {
          "name": "stderr",
          "output_type": "stream",
          "text": [
            "jeans-test:  26%|██▌       | 13/50 [00:46<02:05,  3.40s/it]"
          ]
        },
        {
          "name": "stdout",
          "output_type": "stream",
          "text": [
            "\"is black, and has a washed effect, and is wide fit\"\n",
            "/home/sejong/Desktop/junseok/SPRC/musinsa/snap/men/jeans/fa7af4516924495ea5e9898ca8460e35.jpg /home/sejong/Desktop/junseok/SPRC/musinsa/goods/men/jeans/#0345 Gray Wave Wide Flare fit.jpg\n"
          ]
        },
        {
          "name": "stderr",
          "output_type": "stream",
          "text": [
            "jeans-test:  28%|██▊       | 14/50 [00:49<01:59,  3.32s/it]"
          ]
        },
        {
          "name": "stdout",
          "output_type": "stream",
          "text": [
            "\"has a washed effect, and is light blue, and is loose fit\"\n",
            "/home/sejong/Desktop/junseok/SPRC/musinsa/snap/men/jeans/9d33d337359b415d89ddd85fddb7391e.jpg /home/sejong/Desktop/junseok/SPRC/musinsa/goods/men/jeans/샌드 워시드 와이드 데님 2color.jpg\n"
          ]
        },
        {
          "name": "stderr",
          "output_type": "stream",
          "text": [
            "jeans-test:  30%|███       | 15/50 [00:53<02:01,  3.48s/it]"
          ]
        },
        {
          "name": "stdout",
          "output_type": "stream",
          "text": [
            "\"has a ripped design, and is light blue, and is wide fit\"\n",
            "/home/sejong/Desktop/junseok/SPRC/musinsa/snap/men/jeans/305ab24aa0c54e09aed09714f3c61e7a.jpg /home/sejong/Desktop/junseok/SPRC/musinsa/goods/men/jeans/WS DOUBLE KNEE PANTS (DENIM).jpg\n"
          ]
        },
        {
          "name": "stderr",
          "output_type": "stream",
          "text": [
            "jeans-test:  32%|███▏      | 16/50 [00:57<02:10,  3.84s/it]"
          ]
        },
        {
          "name": "stdout",
          "output_type": "stream",
          "text": [
            "\"has a ripped design, and is blue, and is wide fit\"\n",
            "/home/sejong/Desktop/junseok/SPRC/musinsa/snap/men/jeans/5a9cd54b1a254097bd6647c838920db4.jpg /home/sejong/Desktop/junseok/SPRC/musinsa/goods/men/jeans/3 스티치 와이드 워싱 데님 팬츠 [DBLUE]_SEPT056DBLUE.jpg\n"
          ]
        },
        {
          "name": "stderr",
          "output_type": "stream",
          "text": [
            "jeans-test:  34%|███▍      | 17/50 [01:09<03:22,  6.13s/it]"
          ]
        },
        {
          "name": "stdout",
          "output_type": "stream",
          "text": [
            "\"has a washed effect, and is dark blue, and is wide fit\"\n",
            "/home/sejong/Desktop/junseok/SPRC/musinsa/snap/men/jeans/06ef367a72794032b4287263be9dbea0.jpg /home/sejong/Desktop/junseok/SPRC/musinsa/goods/men/jeans/논페이드 와이드 플레어 데님팬츠 [인디고].jpg\n"
          ]
        },
        {
          "name": "stderr",
          "output_type": "stream",
          "text": [
            "jeans-test:  36%|███▌      | 18/50 [01:12<02:48,  5.28s/it]"
          ]
        },
        {
          "name": "stdout",
          "output_type": "stream",
          "text": [
            "\"has a bootcut fit and is dark blue\"\n",
            "/home/sejong/Desktop/junseok/SPRC/musinsa/snap/men/jeans/e897f0709c9d46f59486328057117d42.jpg /home/sejong/Desktop/junseok/SPRC/musinsa/goods/men/jeans/남성) 더 웜 코듀로이 와이드 팬츠_MSD4PP1002.jpg\n"
          ]
        },
        {
          "name": "stderr",
          "output_type": "stream",
          "text": [
            "jeans-test:  38%|███▊      | 19/50 [01:17<02:43,  5.27s/it]"
          ]
        },
        {
          "name": "stdout",
          "output_type": "stream",
          "text": [
            "\"has a regular design, and is dark brown, and is wide fit\"\n",
            "/home/sejong/Desktop/junseok/SPRC/musinsa/snap/men/jeans/34d36a2ed6d045009b17c8a5359f8548.jpg /home/sejong/Desktop/junseok/SPRC/musinsa/goods/men/jeans/시티 와이드 데님 팬츠 (W.BLACK).jpg\n"
          ]
        },
        {
          "name": "stderr",
          "output_type": "stream",
          "text": [
            "jeans-test:  40%|████      | 20/50 [01:20<02:14,  4.50s/it]"
          ]
        },
        {
          "name": "stdout",
          "output_type": "stream",
          "text": [
            "\"is wide fit, and is black\"\n",
            "/home/sejong/Desktop/junseok/SPRC/musinsa/snap/men/jeans/27de8c4e6a7944c9b318ebb5a669eceb.jpg /home/sejong/Desktop/junseok/SPRC/musinsa/goods/men/jeans/생지 와이드 핏 팬츠_INDIGO.jpg\n"
          ]
        },
        {
          "name": "stderr",
          "output_type": "stream",
          "text": [
            "jeans-test:  42%|████▏     | 21/50 [01:23<01:57,  4.05s/it]"
          ]
        },
        {
          "name": "stdout",
          "output_type": "stream",
          "text": [
            "\"has a regular design, and is dark blue, and is wide fit\"\n",
            "/home/sejong/Desktop/junseok/SPRC/musinsa/snap/men/jeans/3e4ad0c112a4433a930ffd324732856f.jpg /home/sejong/Desktop/junseok/SPRC/musinsa/goods/men/jeans/더블니 85283 루즈핏 데님팬츠 Vintage Blue.jpg\n"
          ]
        },
        {
          "name": "stderr",
          "output_type": "stream",
          "text": [
            "jeans-test:  44%|████▍     | 22/50 [01:26<01:43,  3.71s/it]"
          ]
        },
        {
          "name": "stdout",
          "output_type": "stream",
          "text": [
            "\"has a regular design, is blue, and is loose fit\"\n",
            "/home/sejong/Desktop/junseok/SPRC/musinsa/snap/men/jeans/9dd30d8b0dee45eeaabe3a1d11b27072.jpg /home/sejong/Desktop/junseok/SPRC/musinsa/goods/men/jeans/[스트레이트] 데님 팬츠 (블랙).jpg\n"
          ]
        },
        {
          "name": "stderr",
          "output_type": "stream",
          "text": [
            "jeans-test:  46%|████▌     | 23/50 [01:29<01:33,  3.48s/it]"
          ]
        },
        {
          "name": "stdout",
          "output_type": "stream",
          "text": [
            "\"is black and has a wide fit\"\n",
            "/home/sejong/Desktop/junseok/SPRC/musinsa/snap/men/jeans/bb79acff4ef449b0bd80e3ed27b247ff.jpg /home/sejong/Desktop/junseok/SPRC/musinsa/goods/men/jeans/써프 벌룬 와이드 데님 토프 브라운.jpg\n"
          ]
        },
        {
          "name": "stderr",
          "output_type": "stream",
          "text": [
            "jeans-test:  48%|████▊     | 24/50 [01:33<01:35,  3.67s/it]"
          ]
        },
        {
          "name": "stdout",
          "output_type": "stream",
          "text": [
            "\"is wide fit and is black\"\n",
            "/home/sejong/Desktop/junseok/SPRC/musinsa/snap/men/jeans/e149d2c943eb4b6ea1fd4901ee5907b1.jpg /home/sejong/Desktop/junseok/SPRC/musinsa/goods/men/jeans/Engineered Denim Pants [Painted Blue].jpg\n"
          ]
        },
        {
          "name": "stderr",
          "output_type": "stream",
          "text": [
            "jeans-test:  50%|█████     | 25/50 [01:38<01:44,  4.17s/it]"
          ]
        },
        {
          "name": "stdout",
          "output_type": "stream",
          "text": [
            "\"has a washed effect, and is light blue, and is wide fit\"\n",
            "/home/sejong/Desktop/junseok/SPRC/musinsa/snap/men/jeans/04aaf99daa3a429387b9f8e98b07ebe4.jpg /home/sejong/Desktop/junseok/SPRC/musinsa/goods/men/jeans/87-STAN164 빈티지 프론트 캣샌드 워싱 와이드 데님팬츠 빈티지블루.jpg\n"
          ]
        },
        {
          "name": "stderr",
          "output_type": "stream",
          "text": [
            "jeans-test:  52%|█████▏    | 26/50 [01:42<01:35,  3.97s/it]"
          ]
        },
        {
          "name": "stdout",
          "output_type": "stream",
          "text": [
            "\"has a washed effect, and is light blue, and is wide fit\"\n",
            "/home/sejong/Desktop/junseok/SPRC/musinsa/snap/men/jeans/c80fd4b86bc24e54a0a3dbedf2de04da.jpg /home/sejong/Desktop/junseok/SPRC/musinsa/goods/men/jeans/STUD CARPENTER DENIM PANTS_BK.jpg\n"
          ]
        },
        {
          "name": "stderr",
          "output_type": "stream",
          "text": [
            "jeans-test:  54%|█████▍    | 27/50 [01:46<01:28,  3.87s/it]"
          ]
        },
        {
          "name": "stdout",
          "output_type": "stream",
          "text": [
            "\"is black and has a ripped design and is wide fit\"\n",
            "/home/sejong/Desktop/junseok/SPRC/musinsa/snap/men/jeans/1b41f354f1494c7c9df987079921cc1e.jpg /home/sejong/Desktop/junseok/SPRC/musinsa/goods/men/jeans/BALLOON FIT DENIM PANTS (WASHED GREY).jpg\n"
          ]
        },
        {
          "name": "stderr",
          "output_type": "stream",
          "text": [
            "jeans-test:  56%|█████▌    | 28/50 [01:49<01:19,  3.63s/it]"
          ]
        },
        {
          "name": "stdout",
          "output_type": "stream",
          "text": [
            "\"has a washed effect, and is black, and is wide fit\"\n",
            "/home/sejong/Desktop/junseok/SPRC/musinsa/snap/men/jeans/3af4bf20390245c2bc49070e1c5c419c.jpg /home/sejong/Desktop/junseok/SPRC/musinsa/goods/men/jeans/투턱 베이직 와이드 데님 팬츠 블랙.jpg\n"
          ]
        },
        {
          "name": "stderr",
          "output_type": "stream",
          "text": [
            "jeans-test:  58%|█████▊    | 29/50 [01:53<01:20,  3.84s/it]"
          ]
        },
        {
          "name": "stdout",
          "output_type": "stream",
          "text": [
            "\"is black and wide fit\"\n",
            "/home/sejong/Desktop/junseok/SPRC/musinsa/snap/men/jeans/e1efbb76080b4480aed3fb2d4bca2017.jpg /home/sejong/Desktop/junseok/SPRC/musinsa/goods/men/jeans/BLACK BAGGY DENIM [BLACK].jpg\n"
          ]
        },
        {
          "name": "stderr",
          "output_type": "stream",
          "text": [
            "jeans-test:  60%|██████    | 30/50 [01:56<01:11,  3.59s/it]"
          ]
        },
        {
          "name": "stdout",
          "output_type": "stream",
          "text": [
            "\"is black and loose fit\"\n",
            "/home/sejong/Desktop/junseok/SPRC/musinsa/snap/men/jeans/65daf328a8a6453fa2b358eb86f70b64.jpg /home/sejong/Desktop/junseok/SPRC/musinsa/goods/men/jeans/2025 다크블루 벌룬 핀턱 와이드 데님팬츠.jpg\n"
          ]
        },
        {
          "name": "stderr",
          "output_type": "stream",
          "text": [
            "jeans-test:  62%|██████▏   | 31/50 [02:00<01:10,  3.70s/it]"
          ]
        },
        {
          "name": "stdout",
          "output_type": "stream",
          "text": [
            "\"is dark blue and wide fit\"\n",
            "/home/sejong/Desktop/junseok/SPRC/musinsa/snap/men/jeans/e1efbb76080b4480aed3fb2d4bca2017.jpg /home/sejong/Desktop/junseok/SPRC/musinsa/goods/men/jeans/도밍고 데님팬츠 (베이지).jpg\n"
          ]
        },
        {
          "name": "stderr",
          "output_type": "stream",
          "text": [
            "jeans-test:  64%|██████▍   | 32/50 [02:05<01:13,  4.10s/it]"
          ]
        },
        {
          "name": "stdout",
          "output_type": "stream",
          "text": [
            "\"has a ripped design, and is gray\"\n",
            "/home/sejong/Desktop/junseok/SPRC/musinsa/snap/men/jeans/f113c84ca36243a0b28c4044365096ae.jpg /home/sejong/Desktop/junseok/SPRC/musinsa/goods/men/jeans/커브드 라인 와이드 데님 팬츠 (GREYISH BLUE).jpg\n"
          ]
        },
        {
          "name": "stderr",
          "output_type": "stream",
          "text": [
            "jeans-test:  66%|██████▌   | 33/50 [02:09<01:09,  4.06s/it]"
          ]
        },
        {
          "name": "stdout",
          "output_type": "stream",
          "text": [
            "\"is wide fit, and is dark blue\"\n",
            "/home/sejong/Desktop/junseok/SPRC/musinsa/snap/men/jeans/12aad26b3b5f446a882a0e22c424f740.jpg /home/sejong/Desktop/junseok/SPRC/musinsa/goods/men/jeans/융기모 히트 루즈핏 워싱 데님 그레이.jpg\n"
          ]
        },
        {
          "name": "stderr",
          "output_type": "stream",
          "text": [
            "jeans-test:  68%|██████▊   | 34/50 [02:14<01:09,  4.33s/it]"
          ]
        },
        {
          "name": "stdout",
          "output_type": "stream",
          "text": [
            "\"has a washed effect, is dark blue, and is wide fit\"\n",
            "/home/sejong/Desktop/junseok/SPRC/musinsa/snap/men/jeans/e693e1e1284b4fb8ad307415a844c48a.jpg /home/sejong/Desktop/junseok/SPRC/musinsa/goods/men/jeans/하이웨이스트 화이트 데님 팬츠 [WH].jpg\n"
          ]
        },
        {
          "name": "stderr",
          "output_type": "stream",
          "text": [
            "jeans-test:  70%|███████   | 35/50 [02:17<00:57,  3.82s/it]"
          ]
        },
        {
          "name": "stdout",
          "output_type": "stream",
          "text": [
            "\"has a ripped design, and is wide fit\"\n",
            "/home/sejong/Desktop/junseok/SPRC/musinsa/snap/men/jeans/6184abf19a3f4582a7a99518c1c32642.jpg /home/sejong/Desktop/junseok/SPRC/musinsa/goods/men/jeans/Two Tuck Wide Mid Blue Jeans.jpg\n"
          ]
        },
        {
          "name": "stderr",
          "output_type": "stream",
          "text": [
            "jeans-test:  72%|███████▏  | 36/50 [02:21<00:57,  4.10s/it]"
          ]
        },
        {
          "name": "stdout",
          "output_type": "stream",
          "text": [
            "\"has a washed effect, and is light blue, and is wide fit\"\n",
            "/home/sejong/Desktop/junseok/SPRC/musinsa/snap/men/jeans/29d299044a4242e982cbc9b763092d96.jpg /home/sejong/Desktop/junseok/SPRC/musinsa/goods/men/jeans/세미와이드 카고 데님팬츠 숄트데님.jpg\n"
          ]
        },
        {
          "name": "stderr",
          "output_type": "stream",
          "text": [
            "jeans-test:  74%|███████▍  | 37/50 [02:27<00:57,  4.44s/it]"
          ]
        },
        {
          "name": "stdout",
          "output_type": "stream",
          "text": [
            "\"has a regular design, and is dark blue, and is loose fit\"\n",
            "/home/sejong/Desktop/junseok/SPRC/musinsa/snap/men/jeans/edcc286f07184cb3ab73591822a2936d.jpg /home/sejong/Desktop/junseok/SPRC/musinsa/goods/men/jeans/XP232 로브 퍼티그 몽키 팬츠 (BLACK).jpg\n"
          ]
        },
        {
          "name": "stderr",
          "output_type": "stream",
          "text": [
            "jeans-test:  76%|███████▌  | 38/50 [02:30<00:50,  4.19s/it]"
          ]
        },
        {
          "name": "stdout",
          "output_type": "stream",
          "text": [
            "\"has a ripped design, and is black, and is wide fit\"\n",
            "/home/sejong/Desktop/junseok/SPRC/musinsa/snap/men/jeans/cb6d2cd4a1f34a2db3373c529d84cdba.jpg /home/sejong/Desktop/junseok/SPRC/musinsa/goods/men/jeans/1853 LOKI JEANS [EXTRA WIDE STRAIGHT].jpg\n"
          ]
        },
        {
          "name": "stderr",
          "output_type": "stream",
          "text": [
            "jeans-test:  78%|███████▊  | 39/50 [02:34<00:43,  3.94s/it]"
          ]
        },
        {
          "name": "stdout",
          "output_type": "stream",
          "text": [
            "\"has a washed effect, and is light blue, and is wide fit\"\n",
            "/home/sejong/Desktop/junseok/SPRC/musinsa/snap/men/jeans/80ca5d540c4f45b194e7efecf6e8bf1f.jpg /home/sejong/Desktop/junseok/SPRC/musinsa/goods/men/jeans/LAB.017 Balloon Denim Pants(INDIGO).jpg\n"
          ]
        },
        {
          "name": "stderr",
          "output_type": "stream",
          "text": [
            "jeans-test:  80%|████████  | 40/50 [02:39<00:43,  4.33s/it]"
          ]
        },
        {
          "name": "stdout",
          "output_type": "stream",
          "text": [
            "\"has a ripped design, and is blue, and is wide fit\"\n",
            "/home/sejong/Desktop/junseok/SPRC/musinsa/snap/men/jeans/4b5e5a3d79c44d20b5630bdc469e1ec4.jpg /home/sejong/Desktop/junseok/SPRC/musinsa/goods/men/jeans/One Tuck Side Curve  Denim-Dark Blue (pt 920 DB).jpg\n"
          ]
        },
        {
          "name": "stderr",
          "output_type": "stream",
          "text": [
            "jeans-test:  82%|████████▏ | 41/50 [02:42<00:35,  3.95s/it]"
          ]
        },
        {
          "name": "stdout",
          "output_type": "stream",
          "text": [
            "\"has a ripped design, and is dark blue, and is wide fit\"\n",
            "/home/sejong/Desktop/junseok/SPRC/musinsa/snap/men/jeans/552582a6836e4c2597bf222d0fc7c0e2.jpg /home/sejong/Desktop/junseok/SPRC/musinsa/goods/men/jeans/DRAGON DENIM PANTS (BEIGE).jpg\n"
          ]
        },
        {
          "name": "stderr",
          "output_type": "stream",
          "text": [
            "jeans-test:  84%|████████▍ | 42/50 [02:45<00:29,  3.70s/it]"
          ]
        },
        {
          "name": "stdout",
          "output_type": "stream",
          "text": [
            "\"has a ripped design, and is light blue, and is loose fit\"\n",
            "/home/sejong/Desktop/junseok/SPRC/musinsa/snap/men/jeans/b74754f937f6493194110531b7c0929a.jpg /home/sejong/Desktop/junseok/SPRC/musinsa/goods/men/jeans/[YOUTH]와이드로우데님팬츠 MYDP0157.jpg\n"
          ]
        },
        {
          "name": "stderr",
          "output_type": "stream",
          "text": [
            "jeans-test:  86%|████████▌ | 43/50 [02:49<00:25,  3.71s/it]"
          ]
        },
        {
          "name": "stdout",
          "output_type": "stream",
          "text": [
            "\"has a regular design, and is black, and is wide fit\"\n",
            "/home/sejong/Desktop/junseok/SPRC/musinsa/snap/men/jeans/328d1d8cdfc04b2082f3ddecf2f18ab0.jpg /home/sejong/Desktop/junseok/SPRC/musinsa/goods/men/jeans/Center Incision Wide Jeans DCPT028Black.jpg\n"
          ]
        },
        {
          "name": "stderr",
          "output_type": "stream",
          "text": [
            "jeans-test:  88%|████████▊ | 44/50 [02:53<00:22,  3.78s/it]"
          ]
        },
        {
          "name": "stdout",
          "output_type": "stream",
          "text": [
            "\"has a washed effect, and is black, and is wide fit\"\n",
            "/home/sejong/Desktop/junseok/SPRC/musinsa/snap/men/jeans/9e25c13fea594bb8a355aa69b98111a4.jpg /home/sejong/Desktop/junseok/SPRC/musinsa/goods/men/jeans/TX110 세미 와이드 데님 (흑청).jpg\n"
          ]
        },
        {
          "name": "stderr",
          "output_type": "stream",
          "text": [
            "jeans-test:  90%|█████████ | 45/50 [02:57<00:19,  3.81s/it]"
          ]
        },
        {
          "name": "stdout",
          "output_type": "stream",
          "text": [
            "\"has a washed effect, and is black, and is loose fit\"\n",
            "/home/sejong/Desktop/junseok/SPRC/musinsa/snap/men/jeans/3e4ad0c112a4433a930ffd324732856f.jpg /home/sejong/Desktop/junseok/SPRC/musinsa/goods/men/jeans/드롭 스트레이트 와이드 데님 팬츠 (GREYISH BLUE).jpg\n"
          ]
        },
        {
          "name": "stderr",
          "output_type": "stream",
          "text": [
            "jeans-test:  92%|█████████▏| 46/50 [03:00<00:14,  3.65s/it]"
          ]
        },
        {
          "name": "stdout",
          "output_type": "stream",
          "text": [
            "\"has a ripped design, is dark blue, and is loose fit\"\n",
            "/home/sejong/Desktop/junseok/SPRC/musinsa/snap/men/jeans/a6d0488e2b4c4b6c9c34cc520a53ee6b.jpg /home/sejong/Desktop/junseok/SPRC/musinsa/goods/men/jeans/Travail Box Denim Pants - INDIGO.jpg\n"
          ]
        },
        {
          "name": "stderr",
          "output_type": "stream",
          "text": [
            "jeans-test:  94%|█████████▍| 47/50 [03:03<00:10,  3.66s/it]"
          ]
        },
        {
          "name": "stdout",
          "output_type": "stream",
          "text": [
            "\"has a ripped design, is dark blue, and is wide fit\"\n",
            "/home/sejong/Desktop/junseok/SPRC/musinsa/snap/men/jeans/feb5dd76c561417bb2bfa8485bdbaf0a.jpg /home/sejong/Desktop/junseok/SPRC/musinsa/goods/men/jeans/스크레치 데님팬츠 그레이 KMLP6686.jpg\n"
          ]
        },
        {
          "name": "stderr",
          "output_type": "stream",
          "text": [
            "jeans-test:  96%|█████████▌| 48/50 [03:08<00:07,  3.91s/it]"
          ]
        },
        {
          "name": "stdout",
          "output_type": "stream",
          "text": [
            "\"has a ripped design, and is dark blue, and is wide fit\"\n",
            "/home/sejong/Desktop/junseok/SPRC/musinsa/snap/men/jeans/ba605c2845344ce18a88099ba96ec0f2.jpg /home/sejong/Desktop/junseok/SPRC/musinsa/goods/men/jeans/[무료반품] 린넨 데님 워시드 밴딩 팬츠 - 3 COLOR.jpg\n"
          ]
        },
        {
          "name": "stderr",
          "output_type": "stream",
          "text": [
            "jeans-test:  98%|█████████▊| 49/50 [03:11<00:03,  3.79s/it]"
          ]
        },
        {
          "name": "stdout",
          "output_type": "stream",
          "text": [
            "\"has a washed effect, and is blue, and is loose fit\"\n",
            "/home/sejong/Desktop/junseok/SPRC/musinsa/snap/men/jeans/f8fddad247d840e2aea557604df77632.jpg /home/sejong/Desktop/junseok/SPRC/musinsa/goods/men/jeans/USN Side Seamless Denim Pants Mid Indigo.jpg\n"
          ]
        },
        {
          "name": "stderr",
          "output_type": "stream",
          "text": [
            "jeans-test: 100%|██████████| 50/50 [03:15<00:00,  3.90s/it]"
          ]
        },
        {
          "name": "stdout",
          "output_type": "stream",
          "text": [
            "\"is blue and loose fit\"\n",
            "[INFO] Finished processing category: jeans\n"
          ]
        },
        {
          "name": "stderr",
          "output_type": "stream",
          "text": [
            "\n"
          ]
        }
      ],
      "source": [
        "import os\n",
        "import json\n",
        "import base64\n",
        "import random\n",
        "from glob import glob\n",
        "from tqdm import tqdm\n",
        "import openai\n",
        "\n",
        "# 1) OpenAI API Key 설정\n",
        "os.environ[\"OPENAI_API_KEY\"] = \"\"  # Enter your OpenAI Key\n",
        "\n",
        "def generate_caption_from_images(ref_img_path, tgt_img_path, category):\n",
        "    print(ref_img_path, tgt_img_path)\n",
        "    base64_reference_image = encode_image_with_text(ref_img_path, \"snap photo\")\n",
        "    base64_target_image = encode_image_with_text(tgt_img_path, \"target product\")\n",
        "\n",
        "    if category == 'hoodie':\n",
        "        prompt = hoodie_prompt\n",
        "    elif category == 'coat':\n",
        "        prompt = coat_prompt\n",
        "    elif category == 'jeans':\n",
        "        prompt = jeans_prompt\n",
        "\n",
        "    # prompt += '\\n**Give me only one english query similar to the examples above, and keep it concise.**'\n",
        "\n",
        "    response = openai.chat.completions.create(\n",
        "        model=\"gpt-4o-mini-2024-07-18\",\n",
        "        messages=[\n",
        "            {\n",
        "            \"role\": \"user\",\n",
        "            \"content\": [\n",
        "                {\n",
        "                \"type\": \"text\",\n",
        "                \"text\": prompt,\n",
        "                },\n",
        "                {\n",
        "                \"type\": \"image_url\",\n",
        "                \"image_url\": {\n",
        "                    \"url\":  f\"data:image/jpeg;base64,{base64_reference_image}\"\n",
        "                },\n",
        "                },\n",
        "                {\n",
        "                \"type\": \"image_url\",\n",
        "                \"image_url\": {\n",
        "                    \"url\":  f\"data:image/jpeg;base64,{base64_target_image}\"\n",
        "                },\n",
        "                },\n",
        "            ],\n",
        "            }\n",
        "        ],\n",
        "    )\n",
        "\n",
        "    print(response.choices[0].message.content)\n",
        "    return response.choices[0].message.content\n",
        "\n",
        "\n",
        "# ---------------------------------\n",
        "# 메인 로직\n",
        "# ---------------------------------\n",
        "def build_composed_image_retrieval_dataset(\n",
        "    snap_root,\n",
        "    goods_root,\n",
        "    output_root,\n",
        "    categories=[\"hoodie\", \"coat\", \"jeans\"],\n",
        "    train_ratio=0.8,\n",
        "    val_ratio=0.1,\n",
        "    test_ratio=0.1,\n",
        "    max_pairs_per_category=500\n",
        "):\n",
        "    \"\"\"\n",
        "    FashionIQ 형식에 맞춘 Composed Image Retrieval Dataset 생성.\n",
        "\n",
        "    :param snap_root: snap_images 폴더 경로 (reference)\n",
        "    :param goods_root: goods_images 폴더 경로 (target)\n",
        "    :param output_root: 최종 데이터셋 출력 경로 (fashionIQ_dataset 처럼)\n",
        "    :param categories: 카테고리 리스트\n",
        "    :param train_ratio, val_ratio, test_ratio: 데이터셋 분할 비율\n",
        "    \"\"\"\n",
        "\n",
        "    # 예: fashionIQ_dataset/captions, fashionIQ_dataset/image_splits, fashionIQ_dataset/images\n",
        "    captions_dir = os.path.join(output_root, \"captions\")\n",
        "    splits_dir   = os.path.join(output_root, \"image_splits\")\n",
        "    images_dir   = os.path.join(output_root, \"images\")\n",
        "\n",
        "    os.makedirs(captions_dir, exist_ok=True)\n",
        "    os.makedirs(splits_dir, exist_ok=True)\n",
        "    os.makedirs(images_dir, exist_ok=True)\n",
        "\n",
        "    for category in categories:\n",
        "        # 1) 폴더 구조에서 이미지 목록 읽어오기\n",
        "        snap_cat_dir  = os.path.join(snap_root, category)   # snap_images/<category>\n",
        "        goods_cat_dir = os.path.join(goods_root, category)  # goods_images/<category>\n",
        "\n",
        "        # snap과 goods가 각각 존재하는 파일명 쌍을 찾아서 pairs 리스트로 만든다\n",
        "        snap_files = glob(os.path.join(snap_cat_dir, \"*.jpg\"))\n",
        "        goods_files = glob(os.path.join(goods_cat_dir, \"*.jpg\"))\n",
        "\n",
        "        all_pairs = []\n",
        "        for s_fp in snap_files:\n",
        "            for g_fp in goods_files:\n",
        "                all_pairs.append((s_fp, g_fp))\n",
        "\n",
        "        if len(all_pairs) == 0:\n",
        "            print(f\"[WARNING] No possible pairs for category '{category}'\")\n",
        "            continue\n",
        "\n",
        "        # 이제 all_pairs 중에서 최대 max_pairs_per_category개만 랜덤 추출\n",
        "        if len(all_pairs) > max_pairs_per_category:\n",
        "            pairs = random.sample(all_pairs, max_pairs_per_category)\n",
        "        else:\n",
        "            pairs = all_pairs\n",
        "\n",
        "        # 2) train/val/test split\n",
        "        random.shuffle(pairs)\n",
        "        total = len(pairs)\n",
        "        train_count = int(total * train_ratio)\n",
        "        val_count   = int(total * val_ratio)\n",
        "        test_count  = total - (train_count + val_count)\n",
        "\n",
        "        train_pairs = pairs[:train_count]\n",
        "        val_pairs   = pairs[train_count:train_count+val_count]\n",
        "        test_pairs  = pairs[train_count+val_count:]\n",
        "\n",
        "        # 3) captions JSON (train, val, test)\n",
        "        train_json = []\n",
        "        val_json   = []\n",
        "        test_json  = []\n",
        "\n",
        "        # 4) image_splits JSON (train, val, test) -> Image ID(파일명) 리스트\n",
        "        train_splits = []\n",
        "        val_splits   = []\n",
        "        test_splits  = []\n",
        "\n",
        "        for split_name, split_pairs in zip(\n",
        "            [\"train\", \"val\", \"test\"],\n",
        "            [train_pairs, val_pairs, test_pairs]\n",
        "        ):\n",
        "            # 해당 split에 대해 JSON 구성\n",
        "            split_data_list = []\n",
        "            split_image_ids = []\n",
        "\n",
        "            for ref_fp, tgt_fp in tqdm(split_pairs, desc=f\"{category}-{split_name}\"):\n",
        "                ref_name = os.path.basename(ref_fp)  # reference filename\n",
        "                tgt_name = os.path.basename(tgt_fp)  # target filename\n",
        "\n",
        "                # 캡션 생성 (실제로는 OpenAI API 호출해야 함)\n",
        "                captions = generate_caption_from_images(ref_fp, tgt_fp, category)\n",
        "\n",
        "                # FashionIQ 포맷: { \"target\": \"B0084Y8XIU\", \"candidate\": \"B005X4PL1G\", \"captions\": [...], }\n",
        "                # 여기서는 파일명을 그대로 사용하되, 확장자(.jpg) 없이 ID만 사용한다 가정\n",
        "                # 혹은 어떤 해시나 임의 ID로 사용해도 무방.\n",
        "                target_id    = os.path.splitext(tgt_name)[0]\n",
        "                candidate_id = os.path.splitext(ref_name)[0]\n",
        "\n",
        "                split_data_list.append({\n",
        "                    \"target\": target_id,\n",
        "                    \"candidate\": candidate_id,\n",
        "                    \"captions\": captions\n",
        "                })\n",
        "\n",
        "                # 이미지 스플릿에는 타겟 이미지 ID를 넣는다고 가정 (fashionIQ 예시)\n",
        "                split_image_ids.append(target_id)\n",
        "\n",
        "                # 5) 이미지 파일 복사/링크 (원본 이미지 -> fashionIQ_dataset/images 폴더)\n",
        "                # 실제로는 copy나 symlink를 생성해주면 좋음\n",
        "                # 이 예시에선 단순히 \"이 폴더에 하드카피\" 하거나, 이미지를 옮기는 건 생략\n",
        "                # 필요하면 아래 코드 활성화:\n",
        "                # import shutil\n",
        "                # shutil.copy2(ref_fp, os.path.join(images_dir, ref_name))\n",
        "                # shutil.copy2(tgt_fp, os.path.join(images_dir, tgt_name))\n",
        "                # 혹은 os.symlink(...) 로 심볼릭 링크\n",
        "\n",
        "            # split_data_list를 split_name에 따라 분기\n",
        "            if split_name == \"train\":\n",
        "                train_json = split_data_list\n",
        "                train_splits = split_image_ids\n",
        "            elif split_name == \"val\":\n",
        "                val_json = split_data_list\n",
        "                val_splits = split_image_ids\n",
        "            elif split_name == \"test\":\n",
        "                test_json = split_data_list\n",
        "                test_splits = split_image_ids\n",
        "\n",
        "        # 6) 카테고리별로 captions json 저장\n",
        "        cap_train_path = os.path.join(captions_dir, f\"cap.{category}.train.json\")\n",
        "        cap_val_path   = os.path.join(captions_dir, f\"cap.{category}.val.json\")\n",
        "        cap_test_path  = os.path.join(captions_dir, f\"cap.{category}.test.json\")\n",
        "\n",
        "        with open(cap_train_path, \"w\", encoding=\"utf-8\") as f:\n",
        "            json.dump(train_json, f, indent=2, ensure_ascii=False)\n",
        "        with open(cap_val_path, \"w\", encoding=\"utf-8\") as f:\n",
        "            json.dump(val_json, f, indent=2, ensure_ascii=False)\n",
        "        with open(cap_test_path, \"w\", encoding=\"utf-8\") as f:\n",
        "            json.dump(test_json, f, indent=2, ensure_ascii=False)\n",
        "\n",
        "        # 7) 카테고리별로 split json 저장\n",
        "        split_train_path = os.path.join(splits_dir, f\"split.{category}.train.json\")\n",
        "        split_val_path   = os.path.join(splits_dir, f\"split.{category}.val.json\")\n",
        "        split_test_path  = os.path.join(splits_dir, f\"split.{category}.test.json\")\n",
        "\n",
        "        with open(split_train_path, \"w\", encoding=\"utf-8\") as f:\n",
        "            json.dump(train_splits, f, indent=2, ensure_ascii=False)\n",
        "        with open(split_val_path, \"w\", encoding=\"utf-8\") as f:\n",
        "            json.dump(val_splits, f, indent=2, ensure_ascii=False)\n",
        "        with open(split_test_path, \"w\", encoding=\"utf-8\") as f:\n",
        "            json.dump(test_splits, f, indent=2, ensure_ascii=False)\n",
        "\n",
        "        print(f\"[INFO] Finished processing category: {category}\")\n",
        "\n",
        "if __name__ == \"__main__\":\n",
        "    # 예시 경로 설정 (적절히 변경)\n",
        "    snap_images_root  = \"/home/sejong/Desktop/junseok/SPRC/musinsa/snap/men\"\n",
        "    goods_images_root = \"/home/sejong/Desktop/junseok/SPRC/musinsa/goods/men\"\n",
        "    output_root       = \"/home/sejong/Desktop/junseok/SPRC/musinsa/men\"\n",
        "\n",
        "    # 실제 코드 실행\n",
        "    build_composed_image_retrieval_dataset(\n",
        "        snap_root=snap_images_root,\n",
        "        goods_root=goods_images_root,\n",
        "        output_root=output_root,\n",
        "        categories=[\"hoodie\", \"coat\", \"jeans\"],\n",
        "        train_ratio=0.8,\n",
        "        val_ratio=0.1,\n",
        "        test_ratio=0.1,\n",
        "        max_pairs_per_category=500\n",
        "    )"
      ]
    }
  ],
  "metadata": {
    "colab": {
      "provenance": []
    },
    "kernelspec": {
      "display_name": "cir_sprc",
      "language": "python",
      "name": "python3"
    },
    "language_info": {
      "codemirror_mode": {
        "name": "ipython",
        "version": 3
      },
      "file_extension": ".py",
      "mimetype": "text/x-python",
      "name": "python",
      "nbconvert_exporter": "python",
      "pygments_lexer": "ipython3",
      "version": "3.9.21"
    }
  },
  "nbformat": 4,
  "nbformat_minor": 0
}
