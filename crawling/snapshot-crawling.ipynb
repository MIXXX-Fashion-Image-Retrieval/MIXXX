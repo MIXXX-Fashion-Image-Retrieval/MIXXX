{
 "cells": [
  {
   "cell_type": "markdown",
   "metadata": {},
   "source": [
    "<h3>1. 필요한 패기지 INSTALL"
   ]
  },
  {
   "cell_type": "code",
   "execution_count": 1,
   "metadata": {},
   "outputs": [
    {
     "name": "stdout",
     "output_type": "stream",
     "text": [
      "Requirement already satisfied: selenium in /home/sejong/anaconda3/envs/cir_sprc/lib/python3.9/site-packages (4.27.1)\n",
      "Requirement already satisfied: beautifulsoup4 in /home/sejong/anaconda3/envs/cir_sprc/lib/python3.9/site-packages (4.12.3)\n",
      "Requirement already satisfied: requests in /home/sejong/anaconda3/envs/cir_sprc/lib/python3.9/site-packages (2.32.3)\n",
      "Requirement already satisfied: webdriver-manager in /home/sejong/anaconda3/envs/cir_sprc/lib/python3.9/site-packages (4.0.2)\n",
      "Requirement already satisfied: urllib3<3,>=1.26 in /home/sejong/anaconda3/envs/cir_sprc/lib/python3.9/site-packages (from urllib3[socks]<3,>=1.26->selenium) (2.3.0)\n",
      "Requirement already satisfied: trio~=0.17 in /home/sejong/anaconda3/envs/cir_sprc/lib/python3.9/site-packages (from selenium) (0.28.0)\n",
      "Requirement already satisfied: trio-websocket~=0.9 in /home/sejong/anaconda3/envs/cir_sprc/lib/python3.9/site-packages (from selenium) (0.11.1)\n",
      "Requirement already satisfied: certifi>=2021.10.8 in /home/sejong/anaconda3/envs/cir_sprc/lib/python3.9/site-packages (from selenium) (2024.12.14)\n",
      "Requirement already satisfied: typing_extensions~=4.9 in /home/sejong/anaconda3/envs/cir_sprc/lib/python3.9/site-packages (from selenium) (4.12.2)\n",
      "Requirement already satisfied: websocket-client~=1.8 in /home/sejong/anaconda3/envs/cir_sprc/lib/python3.9/site-packages (from selenium) (1.8.0)\n",
      "Requirement already satisfied: soupsieve>1.2 in /home/sejong/anaconda3/envs/cir_sprc/lib/python3.9/site-packages (from beautifulsoup4) (2.6)\n",
      "Requirement already satisfied: charset-normalizer<4,>=2 in /home/sejong/anaconda3/envs/cir_sprc/lib/python3.9/site-packages (from requests) (3.4.1)\n",
      "Requirement already satisfied: idna<4,>=2.5 in /home/sejong/anaconda3/envs/cir_sprc/lib/python3.9/site-packages (from requests) (3.10)\n",
      "Requirement already satisfied: python-dotenv in /home/sejong/anaconda3/envs/cir_sprc/lib/python3.9/site-packages (from webdriver-manager) (1.0.1)\n",
      "Requirement already satisfied: packaging in /home/sejong/anaconda3/envs/cir_sprc/lib/python3.9/site-packages (from webdriver-manager) (24.2)\n",
      "Requirement already satisfied: attrs>=23.2.0 in /home/sejong/anaconda3/envs/cir_sprc/lib/python3.9/site-packages (from trio~=0.17->selenium) (24.3.0)\n",
      "Requirement already satisfied: sortedcontainers in /home/sejong/anaconda3/envs/cir_sprc/lib/python3.9/site-packages (from trio~=0.17->selenium) (2.4.0)\n",
      "Requirement already satisfied: outcome in /home/sejong/anaconda3/envs/cir_sprc/lib/python3.9/site-packages (from trio~=0.17->selenium) (1.3.0.post0)\n",
      "Requirement already satisfied: sniffio>=1.3.0 in /home/sejong/anaconda3/envs/cir_sprc/lib/python3.9/site-packages (from trio~=0.17->selenium) (1.3.1)\n",
      "Requirement already satisfied: exceptiongroup in /home/sejong/anaconda3/envs/cir_sprc/lib/python3.9/site-packages (from trio~=0.17->selenium) (1.2.2)\n",
      "Requirement already satisfied: wsproto>=0.14 in /home/sejong/anaconda3/envs/cir_sprc/lib/python3.9/site-packages (from trio-websocket~=0.9->selenium) (1.2.0)\n",
      "Requirement already satisfied: pysocks!=1.5.7,<2.0,>=1.5.6 in /home/sejong/anaconda3/envs/cir_sprc/lib/python3.9/site-packages (from urllib3[socks]<3,>=1.26->selenium) (1.7.1)\n",
      "Requirement already satisfied: h11<1,>=0.9.0 in /home/sejong/anaconda3/envs/cir_sprc/lib/python3.9/site-packages (from wsproto>=0.14->trio-websocket~=0.9->selenium) (0.14.0)\n",
      "\n",
      "\u001b[1m[\u001b[0m\u001b[34;49mnotice\u001b[0m\u001b[1;39;49m]\u001b[0m\u001b[39;49m A new release of pip is available: \u001b[0m\u001b[31;49m24.3.1\u001b[0m\u001b[39;49m -> \u001b[0m\u001b[32;49m25.0\u001b[0m\n",
      "\u001b[1m[\u001b[0m\u001b[34;49mnotice\u001b[0m\u001b[1;39;49m]\u001b[0m\u001b[39;49m To update, run: \u001b[0m\u001b[32;49mpip install --upgrade pip\u001b[0m\n"
     ]
    }
   ],
   "source": [
    "!pip install selenium beautifulsoup4 requests webdriver-manager"
   ]
  },
  {
   "cell_type": "markdown",
   "metadata": {},
   "source": [
    "<h3>2. 패키지 IMPORT"
   ]
  },
  {
   "cell_type": "code",
   "execution_count": 2,
   "metadata": {},
   "outputs": [],
   "source": [
    "from selenium import webdriver\n",
    "from selenium.webdriver.common.by import By\n",
    "from selenium.webdriver.chrome.service import Service\n",
    "from webdriver_manager.chrome import ChromeDriverManager\n",
    "from bs4 import BeautifulSoup\n",
    "import time\n",
    "import requests\n",
    "import os"
   ]
  },
  {
   "cell_type": "markdown",
   "metadata": {},
   "source": [
    "<h3>3. URL 설정 함수"
   ]
  },
  {
   "cell_type": "code",
   "execution_count": 3,
   "metadata": {},
   "outputs": [],
   "source": [
    "# URL을 생성하는 함수\n",
    "def get_url(gender='', season='', category=''):\n",
    "    base_url = 'https://www.musinsa.com/snap/main/recommend'\n",
    "    params = {\n",
    "        'genders': gender,\n",
    "        'seasons': season,\n",
    "        'category': category\n",
    "    }\n",
    "    query_string = '&'.join([f\"{key}={value}\" for key, value in params.items() if value])\n",
    "    return f\"{base_url}?{query_string}\""
   ]
  },
  {
   "cell_type": "markdown",
   "metadata": {},
   "source": [
    "<h3>4. 이미지 크롤링 함수"
   ]
  },
  {
   "cell_type": "code",
   "execution_count": 9,
   "metadata": {},
   "outputs": [],
   "source": [
    "# 설정된 URL에서 이미지를 크롤링하고 다운로드하는 함수\n",
    "def crawl_images(driver, gender, season, category):\n",
    "    # 성별, 계절, 스타일, 카테고리 이름 매핑\n",
    "    gender_map = {'MEN': '남', 'WOMEN': '여'}\n",
    "    season_map = {'1': '봄', '3': '여름', '2': '가을', '4': '겨울'}\n",
    "    style_map = {\n",
    "        '8': '캐주얼', '10': '스트릿', '5': '미니멀', '14': '스포티', '9': '클래식',\n",
    "        '16': '시크', '20': '고프코어', '7': '시티보이', '18': '레트로', '15': '리조트',\n",
    "        '17': '프레피', '19': '에스닉', '12': '로맨틱', '6': '워크웨어', '13': '걸러시'\n",
    "    }\n",
    "    category_map = {'003002': '데님팬츠', '002022': '후드집업', '002007': '코트'}\n",
    "\n",
    "    # 폴더 이름 생성\n",
    "    gender_name = gender_map.get(gender, gender)\n",
    "    season_name = season_map.get(season, season)\n",
    "    category_name = category_map.get(category, category)\n",
    "\n",
    "    # 스크롤 시뮬레이션\n",
    "    scroll_pause_time = 5\n",
    "    screen_height = driver.execute_script(\"return window.screen.height;\")\n",
    "    i = 1\n",
    "\n",
    "    downloaded_count = 0\n",
    "    max_downloads = 1000\n",
    "\n",
    "    # 저장 디렉토리 생성 (C:\\Users\\jrnee\\Desktop\\무신사크롤링\\ 성별/계절/스타일/카테고리 구조)\n",
    "    base_dir = \"/home/sejong/Desktop/junseok/SPRC/musinsa/snap\"\n",
    "    output_dir = os.path.join(base_dir, gender_name, category_name)\n",
    "    os.makedirs(output_dir, exist_ok=True)\n",
    "\n",
    "    while downloaded_count < max_downloads:\n",
    "        driver.execute_script(f\"window.scrollTo(0, {screen_height}*{i});\")\n",
    "        time.sleep(scroll_pause_time)\n",
    "        new_height = driver.execute_script(\"return document.body.scrollHeight;\")\n",
    "        if new_height == screen_height * i:\n",
    "            break\n",
    "        i += 1\n",
    "\n",
    "        html = driver.page_source\n",
    "        soup = BeautifulSoup(html, 'html.parser')\n",
    "\n",
    "        # 이미지 URL 추출\n",
    "        images = soup.select('img.max-w-full.w-full.absolute.m-auto.inset-0.h-auto.z-0.visible.object-cover')\n",
    "        image_urls = [img['src'] for img in images]\n",
    "\n",
    "        # 이미지 다운로드\n",
    "        for img_url in image_urls:\n",
    "            if downloaded_count >= max_downloads:  # 전체 다운로드 수 제한\n",
    "                print(f\"Downloaded {downloaded_count} images. Stopping further downloads.\")\n",
    "                return\n",
    "            img_name = os.path.basename(img_url.split('?')[0])  # URL에서 쿼리 스트링 제거\n",
    "            # 동일 이름의 파일이 이미 존재하는지 확인\n",
    "            img_path = os.path.join(output_dir, f\"{img_name}.jpg\")\n",
    "            if os.path.exists(img_path):\n",
    "                print(f\"이미 동일 이름의 파일이 존재하여 스킵: {img_name}.jpg\")\n",
    "                continue\n",
    "            img_response = requests.get(img_url)\n",
    "            with open(os.path.join(output_dir, img_name), 'wb') as f:\n",
    "                f.write(img_response.content)\n",
    "            downloaded_count += 1\n",
    "\n",
    "    print(f\"Downloaded {downloaded_count} images to {output_dir}\")"
   ]
  },
  {
   "cell_type": "code",
   "execution_count": null,
   "metadata": {},
   "outputs": [],
   "source": []
  },
  {
   "cell_type": "markdown",
   "metadata": {},
   "source": [
    "<h3>5. 크롤링 실행"
   ]
  },
  {
   "cell_type": "code",
   "execution_count": 10,
   "metadata": {},
   "outputs": [
    {
     "name": "stdout",
     "output_type": "stream",
     "text": [
      "Generated URL: https://www.musinsa.com/snap/main/recommend?genders=MEN&seasons=4&category=002007\n",
      "Downloaded 1000 images. Stopping further downloads.\n",
      "Generated URL: https://www.musinsa.com/snap/main/recommend?genders=WOMEN&seasons=4&category=002007\n",
      "Downloaded 1000 images. Stopping further downloads.\n"
     ]
    }
   ],
   "source": [
    "# 크롤링 실행\n",
    "def main():\n",
    "    genders = ['MEN', 'WOMEN']  # 성별 리스트\n",
    "    season = '4'  # 계절 고정 (4: 겨울)\n",
    "    styles = ['8', '10', '5', '14', '9', '16', '20', '17', '19', '15', '18', '7', '12', '6', '13']  # 스타일 리스트\n",
    "    categories = ['002007'] # 카테고리 (003002: 데님팬츠츠)'002022', '003002', \n",
    "\n",
    "    # 웹 드라이버 설정\n",
    "    driver = webdriver.Chrome(service=Service(ChromeDriverManager().install()))\n",
    "\n",
    "    try:\n",
    "        for gender in genders:\n",
    "            for category in categories:\n",
    "                url = get_url(gender=gender, season=season, category=category)\n",
    "                print(f\"Generated URL: {url}\")\n",
    "                driver.get(url)\n",
    "                crawl_images(driver, gender, season, category)\n",
    "    finally:\n",
    "        driver.quit()\n",
    "\n",
    "if __name__ == \"__main__\":\n",
    "    main()"
   ]
  },
  {
   "cell_type": "code",
   "execution_count": 11,
   "metadata": {},
   "outputs": [
    {
     "name": "stdout",
     "output_type": "stream",
     "text": [
      "남/데님팬츠 폴더 내 파일 개수: 410\n",
      "남/코트 폴더 내 파일 개수: 172\n",
      "남/후드집업 폴더 내 파일 개수: 410\n",
      "여/데님팬츠 폴더 내 파일 개수: 410\n",
      "여/코트 폴더 내 파일 개수: 98\n",
      "여/후드집업 폴더 내 파일 개수: 413\n"
     ]
    }
   ],
   "source": [
    "def count_files_in_folder(folder_path):\n",
    "    \"\"\"\n",
    "    폴더 내 파일 개수를 확인하는 함수.\n",
    "\n",
    "    Parameters:\n",
    "    - folder_path (str): 파일 개수를 확인할 폴더 경로.\n",
    "    - include_subfolders (bool): 하위 디렉토리 파일도 포함할지 여부 (기본값: False).\n",
    "\n",
    "    Returns:\n",
    "    - int: 폴더 내 파일 개수.\n",
    "    \"\"\"\n",
    "    if not os.path.exists(folder_path):\n",
    "        print(f\"지정된 경로가 존재하지 않습니다: {folder_path}\")\n",
    "        return 0\n",
    "    \n",
    "    file_count = 0\n",
    "\n",
    "    file_count = len([f for f in os.listdir(folder_path) if os.path.isfile(os.path.join(folder_path, f))])\n",
    "\n",
    "    return file_count\n",
    "\n",
    "# 사용 예시\n",
    "for gender in ['남', '여']:\n",
    "    for category in ['데님팬츠', '코트', '후드집업']:\n",
    "\n",
    "        folder_path = f\"/home/sejong/Desktop/junseok/SPRC/musinsa/snap/{gender}/{category}\"\n",
    "        print(f\"{gender}/{category} 폴더 내 파일 개수:\", count_files_in_folder(folder_path))"
   ]
  },
  {
   "cell_type": "markdown",
   "metadata": {},
   "source": [
    "<h2>Done"
   ]
  }
 ],
 "metadata": {
  "kernelspec": {
   "display_name": "cir_sprc",
   "language": "python",
   "name": "python3"
  },
  "language_info": {
   "codemirror_mode": {
    "name": "ipython",
    "version": 3
   },
   "file_extension": ".py",
   "mimetype": "text/x-python",
   "name": "python",
   "nbconvert_exporter": "python",
   "pygments_lexer": "ipython3",
   "version": "3.9.21"
  }
 },
 "nbformat": 4,
 "nbformat_minor": 2
}
